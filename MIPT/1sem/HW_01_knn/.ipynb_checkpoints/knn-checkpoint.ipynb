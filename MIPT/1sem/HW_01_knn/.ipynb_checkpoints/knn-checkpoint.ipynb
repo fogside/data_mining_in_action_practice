{
 "cells": [
  {
   "cell_type": "code",
   "execution_count": 131,
   "metadata": {
    "collapsed": false
   },
   "outputs": [
    {
     "name": "stdout",
     "output_type": "stream",
     "text": [
      "Populating the interactive namespace from numpy and matplotlib\n",
      "The autoreload extension is already loaded. To reload it, use:\n",
      "  %reload_ext autoreload\n"
     ]
    }
   ],
   "source": [
    "import numpy as np\n",
    "import pandas as pd\n",
    "import knn\n",
    "from knn import MatrixBasedKNearestNeighbor, KDBasedKNearestNeighbor\n",
    "\n",
    "%pylab inline\n",
    "%load_ext autoreload\n",
    "%autoreload 2"
   ]
  },
  {
   "cell_type": "code",
   "execution_count": 149,
   "metadata": {
    "collapsed": false
   },
   "outputs": [
    {
     "name": "stdout",
     "output_type": "stream",
     "text": [
      "test.csv  train.csv\r\n"
     ]
    }
   ],
   "source": [
    "!ls ./data"
   ]
  },
  {
   "cell_type": "code",
   "execution_count": 124,
   "metadata": {
    "collapsed": false,
    "scrolled": true
   },
   "outputs": [
    {
     "name": "stdout",
     "output_type": "stream",
     "text": [
      "(2500, 784)\n"
     ]
    },
    {
     "data": {
      "text/html": [
       "<div>\n",
       "<table border=\"1\" class=\"dataframe\">\n",
       "  <thead>\n",
       "    <tr style=\"text-align: right;\">\n",
       "      <th></th>\n",
       "      <th>pixel0</th>\n",
       "      <th>pixel1</th>\n",
       "      <th>pixel2</th>\n",
       "      <th>pixel3</th>\n",
       "      <th>pixel4</th>\n",
       "      <th>pixel5</th>\n",
       "      <th>pixel6</th>\n",
       "      <th>pixel7</th>\n",
       "      <th>pixel8</th>\n",
       "      <th>pixel9</th>\n",
       "      <th>...</th>\n",
       "      <th>pixel774</th>\n",
       "      <th>pixel775</th>\n",
       "      <th>pixel776</th>\n",
       "      <th>pixel777</th>\n",
       "      <th>pixel778</th>\n",
       "      <th>pixel779</th>\n",
       "      <th>pixel780</th>\n",
       "      <th>pixel781</th>\n",
       "      <th>pixel782</th>\n",
       "      <th>pixel783</th>\n",
       "    </tr>\n",
       "  </thead>\n",
       "  <tbody>\n",
       "    <tr>\n",
       "      <th>0</th>\n",
       "      <td>0</td>\n",
       "      <td>0</td>\n",
       "      <td>0</td>\n",
       "      <td>0</td>\n",
       "      <td>0</td>\n",
       "      <td>0</td>\n",
       "      <td>0</td>\n",
       "      <td>0</td>\n",
       "      <td>0</td>\n",
       "      <td>0</td>\n",
       "      <td>...</td>\n",
       "      <td>0</td>\n",
       "      <td>0</td>\n",
       "      <td>0</td>\n",
       "      <td>0</td>\n",
       "      <td>0</td>\n",
       "      <td>0</td>\n",
       "      <td>0</td>\n",
       "      <td>0</td>\n",
       "      <td>0</td>\n",
       "      <td>0</td>\n",
       "    </tr>\n",
       "    <tr>\n",
       "      <th>1</th>\n",
       "      <td>0</td>\n",
       "      <td>0</td>\n",
       "      <td>0</td>\n",
       "      <td>0</td>\n",
       "      <td>0</td>\n",
       "      <td>0</td>\n",
       "      <td>0</td>\n",
       "      <td>0</td>\n",
       "      <td>0</td>\n",
       "      <td>0</td>\n",
       "      <td>...</td>\n",
       "      <td>0</td>\n",
       "      <td>0</td>\n",
       "      <td>0</td>\n",
       "      <td>0</td>\n",
       "      <td>0</td>\n",
       "      <td>0</td>\n",
       "      <td>0</td>\n",
       "      <td>0</td>\n",
       "      <td>0</td>\n",
       "      <td>0</td>\n",
       "    </tr>\n",
       "    <tr>\n",
       "      <th>2</th>\n",
       "      <td>0</td>\n",
       "      <td>0</td>\n",
       "      <td>0</td>\n",
       "      <td>0</td>\n",
       "      <td>0</td>\n",
       "      <td>0</td>\n",
       "      <td>0</td>\n",
       "      <td>0</td>\n",
       "      <td>0</td>\n",
       "      <td>0</td>\n",
       "      <td>...</td>\n",
       "      <td>0</td>\n",
       "      <td>0</td>\n",
       "      <td>0</td>\n",
       "      <td>0</td>\n",
       "      <td>0</td>\n",
       "      <td>0</td>\n",
       "      <td>0</td>\n",
       "      <td>0</td>\n",
       "      <td>0</td>\n",
       "      <td>0</td>\n",
       "    </tr>\n",
       "    <tr>\n",
       "      <th>3</th>\n",
       "      <td>0</td>\n",
       "      <td>0</td>\n",
       "      <td>0</td>\n",
       "      <td>0</td>\n",
       "      <td>0</td>\n",
       "      <td>0</td>\n",
       "      <td>0</td>\n",
       "      <td>0</td>\n",
       "      <td>0</td>\n",
       "      <td>0</td>\n",
       "      <td>...</td>\n",
       "      <td>0</td>\n",
       "      <td>0</td>\n",
       "      <td>0</td>\n",
       "      <td>0</td>\n",
       "      <td>0</td>\n",
       "      <td>0</td>\n",
       "      <td>0</td>\n",
       "      <td>0</td>\n",
       "      <td>0</td>\n",
       "      <td>0</td>\n",
       "    </tr>\n",
       "    <tr>\n",
       "      <th>4</th>\n",
       "      <td>0</td>\n",
       "      <td>0</td>\n",
       "      <td>0</td>\n",
       "      <td>0</td>\n",
       "      <td>0</td>\n",
       "      <td>0</td>\n",
       "      <td>0</td>\n",
       "      <td>0</td>\n",
       "      <td>0</td>\n",
       "      <td>0</td>\n",
       "      <td>...</td>\n",
       "      <td>0</td>\n",
       "      <td>0</td>\n",
       "      <td>0</td>\n",
       "      <td>0</td>\n",
       "      <td>0</td>\n",
       "      <td>0</td>\n",
       "      <td>0</td>\n",
       "      <td>0</td>\n",
       "      <td>0</td>\n",
       "      <td>0</td>\n",
       "    </tr>\n",
       "  </tbody>\n",
       "</table>\n",
       "<p>5 rows × 784 columns</p>\n",
       "</div>"
      ],
      "text/plain": [
       "   pixel0  pixel1  pixel2  pixel3  pixel4  pixel5  pixel6  pixel7  pixel8  \\\n",
       "0       0       0       0       0       0       0       0       0       0   \n",
       "1       0       0       0       0       0       0       0       0       0   \n",
       "2       0       0       0       0       0       0       0       0       0   \n",
       "3       0       0       0       0       0       0       0       0       0   \n",
       "4       0       0       0       0       0       0       0       0       0   \n",
       "\n",
       "   pixel9    ...     pixel774  pixel775  pixel776  pixel777  pixel778  \\\n",
       "0       0    ...            0         0         0         0         0   \n",
       "1       0    ...            0         0         0         0         0   \n",
       "2       0    ...            0         0         0         0         0   \n",
       "3       0    ...            0         0         0         0         0   \n",
       "4       0    ...            0         0         0         0         0   \n",
       "\n",
       "   pixel779  pixel780  pixel781  pixel782  pixel783  \n",
       "0         0         0         0         0         0  \n",
       "1         0         0         0         0         0  \n",
       "2         0         0         0         0         0  \n",
       "3         0         0         0         0         0  \n",
       "4         0         0         0         0         0  \n",
       "\n",
       "[5 rows x 784 columns]"
      ]
     },
     "execution_count": 124,
     "metadata": {},
     "output_type": "execute_result"
    }
   ],
   "source": [
    "test = pd.read_csv(\"./data/test.csv\")\n",
    "print test.shape\n",
    "test.head()"
   ]
  },
  {
   "cell_type": "code",
   "execution_count": 120,
   "metadata": {
    "collapsed": false
   },
   "outputs": [
    {
     "name": "stdout",
     "output_type": "stream",
     "text": [
      "(20000, 785)\n"
     ]
    }
   ],
   "source": [
    "df = pd.read_csv('data/train.csv')\n",
    "# df[df.pixel677>0].pixel677\n",
    "df.head()\n",
    "print df.shape"
   ]
  },
  {
   "cell_type": "code",
   "execution_count": 125,
   "metadata": {
    "collapsed": false,
    "scrolled": true
   },
   "outputs": [
    {
     "data": {
      "text/html": [
       "<div>\n",
       "<table border=\"1\" class=\"dataframe\">\n",
       "  <thead>\n",
       "    <tr style=\"text-align: right;\">\n",
       "      <th></th>\n",
       "      <th>label</th>\n",
       "      <th>pixel0</th>\n",
       "      <th>pixel1</th>\n",
       "      <th>pixel2</th>\n",
       "      <th>pixel3</th>\n",
       "      <th>pixel4</th>\n",
       "      <th>pixel5</th>\n",
       "      <th>pixel6</th>\n",
       "      <th>pixel7</th>\n",
       "      <th>pixel8</th>\n",
       "      <th>...</th>\n",
       "      <th>pixel774</th>\n",
       "      <th>pixel775</th>\n",
       "      <th>pixel776</th>\n",
       "      <th>pixel777</th>\n",
       "      <th>pixel778</th>\n",
       "      <th>pixel779</th>\n",
       "      <th>pixel780</th>\n",
       "      <th>pixel781</th>\n",
       "      <th>pixel782</th>\n",
       "      <th>pixel783</th>\n",
       "    </tr>\n",
       "  </thead>\n",
       "  <tbody>\n",
       "    <tr>\n",
       "      <th>0</th>\n",
       "      <td>5</td>\n",
       "      <td>0</td>\n",
       "      <td>0</td>\n",
       "      <td>0</td>\n",
       "      <td>0</td>\n",
       "      <td>0</td>\n",
       "      <td>0</td>\n",
       "      <td>0</td>\n",
       "      <td>0</td>\n",
       "      <td>0</td>\n",
       "      <td>...</td>\n",
       "      <td>0</td>\n",
       "      <td>0</td>\n",
       "      <td>0</td>\n",
       "      <td>0</td>\n",
       "      <td>0</td>\n",
       "      <td>0</td>\n",
       "      <td>0</td>\n",
       "      <td>0</td>\n",
       "      <td>0</td>\n",
       "      <td>0</td>\n",
       "    </tr>\n",
       "    <tr>\n",
       "      <th>1</th>\n",
       "      <td>0</td>\n",
       "      <td>0</td>\n",
       "      <td>0</td>\n",
       "      <td>0</td>\n",
       "      <td>0</td>\n",
       "      <td>0</td>\n",
       "      <td>0</td>\n",
       "      <td>0</td>\n",
       "      <td>0</td>\n",
       "      <td>0</td>\n",
       "      <td>...</td>\n",
       "      <td>0</td>\n",
       "      <td>0</td>\n",
       "      <td>0</td>\n",
       "      <td>0</td>\n",
       "      <td>0</td>\n",
       "      <td>0</td>\n",
       "      <td>0</td>\n",
       "      <td>0</td>\n",
       "      <td>0</td>\n",
       "      <td>0</td>\n",
       "    </tr>\n",
       "    <tr>\n",
       "      <th>2</th>\n",
       "      <td>4</td>\n",
       "      <td>0</td>\n",
       "      <td>0</td>\n",
       "      <td>0</td>\n",
       "      <td>0</td>\n",
       "      <td>0</td>\n",
       "      <td>0</td>\n",
       "      <td>0</td>\n",
       "      <td>0</td>\n",
       "      <td>0</td>\n",
       "      <td>...</td>\n",
       "      <td>0</td>\n",
       "      <td>0</td>\n",
       "      <td>0</td>\n",
       "      <td>0</td>\n",
       "      <td>0</td>\n",
       "      <td>0</td>\n",
       "      <td>0</td>\n",
       "      <td>0</td>\n",
       "      <td>0</td>\n",
       "      <td>0</td>\n",
       "    </tr>\n",
       "    <tr>\n",
       "      <th>3</th>\n",
       "      <td>1</td>\n",
       "      <td>0</td>\n",
       "      <td>0</td>\n",
       "      <td>0</td>\n",
       "      <td>0</td>\n",
       "      <td>0</td>\n",
       "      <td>0</td>\n",
       "      <td>0</td>\n",
       "      <td>0</td>\n",
       "      <td>0</td>\n",
       "      <td>...</td>\n",
       "      <td>0</td>\n",
       "      <td>0</td>\n",
       "      <td>0</td>\n",
       "      <td>0</td>\n",
       "      <td>0</td>\n",
       "      <td>0</td>\n",
       "      <td>0</td>\n",
       "      <td>0</td>\n",
       "      <td>0</td>\n",
       "      <td>0</td>\n",
       "    </tr>\n",
       "    <tr>\n",
       "      <th>4</th>\n",
       "      <td>9</td>\n",
       "      <td>0</td>\n",
       "      <td>0</td>\n",
       "      <td>0</td>\n",
       "      <td>0</td>\n",
       "      <td>0</td>\n",
       "      <td>0</td>\n",
       "      <td>0</td>\n",
       "      <td>0</td>\n",
       "      <td>0</td>\n",
       "      <td>...</td>\n",
       "      <td>0</td>\n",
       "      <td>0</td>\n",
       "      <td>0</td>\n",
       "      <td>0</td>\n",
       "      <td>0</td>\n",
       "      <td>0</td>\n",
       "      <td>0</td>\n",
       "      <td>0</td>\n",
       "      <td>0</td>\n",
       "      <td>0</td>\n",
       "    </tr>\n",
       "  </tbody>\n",
       "</table>\n",
       "<p>5 rows × 785 columns</p>\n",
       "</div>"
      ],
      "text/plain": [
       "   label  pixel0  pixel1  pixel2  pixel3  pixel4  pixel5  pixel6  pixel7  \\\n",
       "0      5       0       0       0       0       0       0       0       0   \n",
       "1      0       0       0       0       0       0       0       0       0   \n",
       "2      4       0       0       0       0       0       0       0       0   \n",
       "3      1       0       0       0       0       0       0       0       0   \n",
       "4      9       0       0       0       0       0       0       0       0   \n",
       "\n",
       "   pixel8    ...     pixel774  pixel775  pixel776  pixel777  pixel778  \\\n",
       "0       0    ...            0         0         0         0         0   \n",
       "1       0    ...            0         0         0         0         0   \n",
       "2       0    ...            0         0         0         0         0   \n",
       "3       0    ...            0         0         0         0         0   \n",
       "4       0    ...            0         0         0         0         0   \n",
       "\n",
       "   pixel779  pixel780  pixel781  pixel782  pixel783  \n",
       "0         0         0         0         0         0  \n",
       "1         0         0         0         0         0  \n",
       "2         0         0         0         0         0  \n",
       "3         0         0         0         0         0  \n",
       "4         0         0         0         0         0  \n",
       "\n",
       "[5 rows x 785 columns]"
      ]
     },
     "execution_count": 125,
     "metadata": {},
     "output_type": "execute_result"
    }
   ],
   "source": [
    "df.head()"
   ]
  },
  {
   "cell_type": "code",
   "execution_count": 122,
   "metadata": {
    "collapsed": false,
    "scrolled": true
   },
   "outputs": [
    {
     "data": {
      "text/plain": [
       "label\n",
       "0    1994\n",
       "1    2281\n",
       "2    1929\n",
       "3    2076\n",
       "4    1945\n",
       "5    1775\n",
       "6    1971\n",
       "7    2093\n",
       "8    1922\n",
       "9    2014\n",
       "Name: label, dtype: int64"
      ]
     },
     "execution_count": 122,
     "metadata": {},
     "output_type": "execute_result"
    }
   ],
   "source": [
    "df.groupby('label')['label'].count()"
   ]
  },
  {
   "cell_type": "code",
   "execution_count": 126,
   "metadata": {
    "collapsed": false
   },
   "outputs": [],
   "source": [
    "X_train, Y_train = df[df.columns[1:]].values, df['label'].values"
   ]
  },
  {
   "cell_type": "code",
   "execution_count": 30,
   "metadata": {
    "collapsed": false
   },
   "outputs": [],
   "source": [
    "def plot_image(img, im_size=28):\n",
    "    pylab.imshow(img.reshape(im_size, im_size), cmap=pylab.cm.gray)\n",
    "    \n",
    "def plot_grid(imgs, nrows, ncols, im_size=28):\n",
    "    fig = pyplot.gcf()\n",
    "    fig.set_size_inches(17.5,15.5)\n",
    "    for pylab_index, img in enumerate(imgs):\n",
    "        pylab.subplot(nrows, ncols, pylab_index + 1)\n",
    "        plot_image(img)\n",
    "        pylab.axis('off')"
   ]
  },
  {
   "cell_type": "code",
   "execution_count": 35,
   "metadata": {
    "collapsed": false
   },
   "outputs": [
    {
     "data": {
      "image/png": "[encoded data removed]",
      "text/plain": [
       "<matplotlib.figure.Figure at 0x10fdd1750>"
      ]
     },
     "metadata": {},
     "output_type": "display_data"
    }
   ],
   "source": [
    "plot_image(X_train[56])"
   ]
  },
  {
   "cell_type": "markdown",
   "metadata": {},
   "source": [
    "## Plot means"
   ]
  },
  {
   "cell_type": "code",
   "execution_count": 28,
   "metadata": {
    "collapsed": false
   },
   "outputs": [],
   "source": [
    "average_class_imgs = []\n",
    "\n",
    "for c in xrange(10):\n",
    "    #########################################################################\n",
    "    # TODO:                                                                 #\n",
    "    # Use pandas and numpy to evaluate mean inclass image                   #\n",
    "    # Put your code hear                                                    #\n",
    "    #########################################################################\n",
    "    \n",
    "    mean_c = np.array([df.groupby('label').get_group(c)['pixel'+str(col)].mean() for col in xrange(0,784)])\n",
    "    average_class_imgs.append(mean_c)\n",
    "    pass"
   ]
  },
  {
   "cell_type": "code",
   "execution_count": 36,
   "metadata": {
    "collapsed": false
   },
   "outputs": [
    {
     "data": {
      "image/png": "[encoded data removed]",
      "text/plain": [
       "<matplotlib.figure.Figure at 0x10fd73450>"
      ]
     },
     "metadata": {},
     "output_type": "display_data"
    }
   ],
   "source": [
    "# Plot your means, note that is should be similar on to real smooth numbers\n",
    "plot_grid(average_class_imgs, nrows=1, ncols=10)"
   ]
  },
  {
   "cell_type": "markdown",
   "metadata": {},
   "source": [
    "## Code Matrix Based KNN"
   ]
  },
  {
   "cell_type": "code",
   "execution_count": 79,
   "metadata": {
    "collapsed": true
   },
   "outputs": [],
   "source": [
    "# Code matrix based KNN with L2 norm by feel MatrixBasedKNearestNeighbor class\n",
    "# Use predict on to X_train[:100] only for debug"
   ]
  },
  {
   "cell_type": "code",
   "execution_count": 196,
   "metadata": {
    "collapsed": false
   },
   "outputs": [
    {
     "name": "stdout",
     "output_type": "stream",
     "text": [
      "CPU times: user 2min 15s, sys: 2.22 s, total: 2min 18s\n",
      "Wall time: 2min 21s\n"
     ]
    }
   ],
   "source": [
    "# KNN two loops\n",
    "\n",
    "knn_clf_loop2 = MatrixBasedKNearestNeighbor(num_loops=2)\n",
    "knn_clf_loop2 = knn_clf_loop2.fit(X_train[:1000], Y_train[:1000])\n",
    "%time y_pred = knn_clf_loop2.predict(X_train[1000:1200])"
   ]
  },
  {
   "cell_type": "code",
   "execution_count": 197,
   "metadata": {
    "collapsed": false
   },
   "outputs": [
    {
     "data": {
      "text/plain": [
       "0.86"
      ]
     },
     "execution_count": 197,
     "metadata": {},
     "output_type": "execute_result"
    }
   ],
   "source": [
    "len(y_pred[y_pred == Y_train[1000:1200]])/(len(y_pred)*1.0)"
   ]
  },
  {
   "cell_type": "code",
   "execution_count": 195,
   "metadata": {
    "collapsed": false
   },
   "outputs": [
    {
     "name": "stdout",
     "output_type": "stream",
     "text": [
      "CPU times: user 4.41 s, sys: 740 ms, total: 5.15 s\n",
      "Wall time: 5.26 s\n"
     ]
    }
   ],
   "source": [
    "# KNN one loops\n",
    "\n",
    "knn_clf_loop1 = MatrixBasedKNearestNeighbor(num_loops=1)\n",
    "knn_clf_loop1 = knn_clf_loop1.fit(X_train[:1000], Y_train[:1000])\n",
    "%time y_pred = knn_clf_loop1.predict(X_train[1000:1200])"
   ]
  },
  {
   "cell_type": "code",
   "execution_count": 198,
   "metadata": {
    "collapsed": false
   },
   "outputs": [
    {
     "data": {
      "text/plain": [
       "0.86"
      ]
     },
     "execution_count": 198,
     "metadata": {},
     "output_type": "execute_result"
    }
   ],
   "source": [
    "len(y_pred[y_pred == Y_train[1000:1200]])/(len(y_pred)*1.0)"
   ]
  },
  {
   "cell_type": "code",
   "execution_count": 199,
   "metadata": {
    "collapsed": false
   },
   "outputs": [
    {
     "name": "stdout",
     "output_type": "stream",
     "text": [
      "good\n"
     ]
    }
   ],
   "source": [
    "#check yourself\n",
    "print 'good' if np.linalg.norm(knn_clf_loop1.dist_mtx - knn_clf_loop2.dist_mtx) < 1e-4 else 'fail'"
   ]
  },
  {
   "cell_type": "code",
   "execution_count": 192,
   "metadata": {
    "collapsed": false
   },
   "outputs": [
    {
     "name": "stdout",
     "output_type": "stream",
     "text": [
      "CPU times: user 2.06 s, sys: 4.52 s, total: 6.58 s\n",
      "Wall time: 8.94 s\n"
     ]
    }
   ],
   "source": [
    "# KNN no loops\n",
    "\n",
    "knn_clf_loop3 = MatrixBasedKNearestNeighbor(num_loops=0)\n",
    "knn_clf_loop3 = knn_clf_loop3.fit(X_train[:1000], Y_train[:1000])\n",
    "%time y_pred = knn_clf_loop3.predict(X_train[1000:1200])"
   ]
  },
  {
   "cell_type": "code",
   "execution_count": 200,
   "metadata": {
    "collapsed": false
   },
   "outputs": [
    {
     "name": "stdout",
     "output_type": "stream",
     "text": [
      "good\n"
     ]
    }
   ],
   "source": [
    "#check yourself\n",
    "print 'good' if np.linalg.norm(knn_clf_loop1.dist_mtx - knn_clf_loop3.dist_mtx) < 1e-4 else 'fail'"
   ]
  },
  {
   "cell_type": "markdown",
   "metadata": {},
   "source": [
    "## Code kd_tree based KNN"
   ]
  },
  {
   "cell_type": "code",
   "execution_count": 397,
   "metadata": {
    "collapsed": false
   },
   "outputs": [
    {
     "data": {
      "text/plain": [
       "['chebyshev',\n",
       " 'euclidean',\n",
       " 'cityblock',\n",
       " 'manhattan',\n",
       " 'infinity',\n",
       " 'minkowski',\n",
       " 'p',\n",
       " 'l2',\n",
       " 'l1']"
      ]
     },
     "execution_count": 397,
     "metadata": {},
     "output_type": "execute_result"
    }
   ],
   "source": [
    "tree.valid_metrics"
   ]
  },
  {
   "cell_type": "code",
   "execution_count": 139,
   "metadata": {
    "collapsed": false
   },
   "outputs": [
    {
     "name": "stdout",
     "output_type": "stream",
     "text": [
      "CPU times: user 1.14 s, sys: 14.3 ms, total: 1.16 s\n",
      "Wall time: 1.17 s\n",
      "[[19  0  0  0  0  0  0  0  0  0]\n",
      " [ 0 19  0  0  0  0  0  0  0  0]\n",
      " [ 0  0 21  0  0  0  0  0  1  0]\n",
      " [ 0  0  0 17  0  1  0  0  0  0]\n",
      " [ 0  0  0  0 23  0  0  0  0  2]\n",
      " [ 0  0  0  0  0 14  0  0  0  0]\n",
      " [ 0  0  0  0  0  0 18  0  0  0]\n",
      " [ 0  1  0  0  0  0  0 13  0  0]\n",
      " [ 0  0  0  1  1  0  0  1 24  1]\n",
      " [ 0  0  0  0  1  0  1  1  0 20]]\n"
     ]
    },
    {
     "data": {
      "text/plain": [
       "0.88"
      ]
     },
     "execution_count": 139,
     "metadata": {},
     "output_type": "execute_result"
    }
   ],
   "source": [
    "# KNN kd_tree\n",
    "\n",
    "knn_clf_loop4 = knn.KDBasedKNearestNeighbor()\n",
    "knn_clf_loop4 = knn_clf_loop4.fit(X_train[:3000], Y_train[:3000])\n",
    "%time y_pred = knn_clf_loop4.predict(X_train[3000:3200])\n",
    "\n",
    "knn.score_conf_mtx(y_pred, Y_train[3000:3200])\n"
   ]
  },
  {
   "cell_type": "markdown",
   "metadata": {},
   "source": [
    "## Code Accuracy score and Cross Validation Process"
   ]
  },
  {
   "cell_type": "code",
   "execution_count": 140,
   "metadata": {
    "collapsed": true
   },
   "outputs": [],
   "source": [
    "# Accuracy\n",
    "\n",
    "def accuracy(y_true, y_pred):\n",
    "    y_pred = np.array(y_pred)\n",
    "    y_true = np.array(y_true)\n",
    "    score = 1 - len((y_pred - y_true)[(y_pred - y_true)!=0])/(len(y_true)*1.0)\n",
    "    # Evaluate accuracy efficient using numpy \n",
    "    return score"
   ]
  },
  {
   "cell_type": "code",
   "execution_count": 141,
   "metadata": {
    "collapsed": false
   },
   "outputs": [
    {
     "name": "stdout",
     "output_type": "stream",
     "text": [
      "good\n"
     ]
    }
   ],
   "source": [
    "print 'good' if accuracy([1, 1, 1, 0], [1, 1, 1, 5]) == 0.75 else 'fail'"
   ]
  },
  {
   "cell_type": "code",
   "execution_count": 142,
   "metadata": {
    "collapsed": false
   },
   "outputs": [],
   "source": [
    "# Cross validation\n",
    "\n",
    "def cross_validation(X, y, cv_fold=5, k = 3, kernel = \"quartical\", p = 2):\n",
    "    scores = []\n",
    "    samples = int(trunc(len(X)/(cv_fold*1.0)))\n",
    "    devision_x = np.array([X[i:i+samples] for i in range(0, len(X), samples) if i+samples <= len(X)])\n",
    "#     print \"devision_X:\", devision_x.shape\n",
    "    devision_y = np.array([y[i:i+samples] for i in range(0, len(y), samples) if i+samples <= len(y)])\n",
    "    \n",
    "    for i in range(0,cv_fold):\n",
    "        train_x = np.concatenate(devision_x[np.array([True]*i+[False]+[True]*(cv_fold-i-1))])\n",
    "        print \"train_x:\", train_x.shape\n",
    "        train_y = np.concatenate(devision_y[np.array([True]*i+[False]+[True]*(cv_fold-i-1))])\n",
    "        print \"train_y:\", train_y.shape\n",
    "        \n",
    "        \n",
    "        test_x = devision_x[i]\n",
    "        print \"test_x\", test_x.shape\n",
    "        test_y = devision_y[i]\n",
    "        \n",
    "        knn_clf = knn.KDBasedKNearestNeighbor()\n",
    "        knn_clf = knn_clf.fit(train_x, train_y, k = k, kernel = kernel, p = p)\n",
    "        y_pred = knn_clf.predict(test_x)\n",
    "        scores.append(accuracy(y_pred, test_y))\n",
    "#         print knn.score_conf_mtx(y_pred, test_y)\n",
    "        print accuracy(y_pred, test_y)\n",
    "        print \"#\"*8\n",
    "    \n",
    "    # Put your code here\n",
    "    return np.mean(scores)"
   ]
  },
  {
   "cell_type": "code",
   "execution_count": 145,
   "metadata": {
    "collapsed": false
   },
   "outputs": [
    {
     "name": "stdout",
     "output_type": "stream",
     "text": [
      "train_x: (9165, 784)\n",
      "train_y: (9165,)\n",
      "test_x (1833, 784)\n",
      "0.943262411348\n",
      "########\n",
      "train_x: (9165, 784)\n",
      "train_y: (9165,)\n",
      "test_x (1833, 784)\n",
      "0.952536824877\n",
      "########\n",
      "train_x: (9165, 784)\n",
      "train_y: (9165,)\n",
      "test_x (1833, 784)\n",
      "0.948717948718\n",
      "########\n",
      "train_x: (9165, 784)\n",
      "train_y: (9165,)\n",
      "test_x (1833, 784)\n",
      "0.936715766503\n",
      "########\n",
      "train_x: (9165, 784)\n",
      "train_y: (9165,)\n",
      "test_x (1833, 784)\n",
      "0.935079105292\n",
      "########\n",
      "train_x: (9165, 784)\n",
      "train_y: (9165,)\n",
      "test_x (1833, 784)\n",
      "0.953082378614\n",
      "########\n"
     ]
    },
    {
     "data": {
      "text/plain": [
       "0.94489907255864714"
      ]
     },
     "execution_count": 145,
     "metadata": {},
     "output_type": "execute_result"
    }
   ],
   "source": [
    "cross_validation(X_train[:11000], Y_train[:11000], 6, kernel = \"Epanechnikov\")"
   ]
  },
  {
   "cell_type": "markdown",
   "metadata": {},
   "source": [
    "# Delete noise in train"
   ]
  },
  {
   "cell_type": "raw",
   "metadata": {},
   "source": [
    "It seems to me I don't know how to do it in a better way.\n",
    "This way cuts ~ 80% of train data and do it very slooowly.."
   ]
  },
  {
   "cell_type": "code",
   "execution_count": 66,
   "metadata": {
    "collapsed": false
   },
   "outputs": [
    {
     "name": "stdout",
     "output_type": "stream",
     "text": [
      "267\n"
     ]
    }
   ],
   "source": [
    "from sklearn.neighbors import KDTree\n",
    "\n",
    "z = 300\n",
    "def count_number(number, arr):\n",
    "    y = np.bincount(arr)\n",
    "    if len(y)<=number:\n",
    "        return 0\n",
    "    return y[number]\n",
    "\n",
    "no_noise_train_X = X_train[:z].copy()\n",
    "no_noise_train_Y = Y_train[:z].copy()\n",
    "to_del = []\n",
    "kd_tree = KDTree(X_train[:z], leaf_size = 40, metric = \"minkowski\", p = 2)\n",
    "for i in range(0, len(X_train[:z])):\n",
    "    dist, ind = kd_tree.query(X_train[:z], k=10)\n",
    "    tmp_array = Y_train[ind][0]\n",
    "    if count_number(Y_train[i], tmp_array) < 5:\n",
    "        to_del.append(i)\n",
    "print len(to_del)"
   ]
  },
  {
   "cell_type": "code",
   "execution_count": null,
   "metadata": {
    "collapsed": true
   },
   "outputs": [],
   "source": [
    "# Param settings, try another: Use grid search and random search "
   ]
  },
  {
   "cell_type": "markdown",
   "metadata": {},
   "source": [
    "# Param search"
   ]
  },
  {
   "cell_type": "code",
   "execution_count": 101,
   "metadata": {
    "collapsed": false
   },
   "outputs": [],
   "source": [
    "def MyGridSearch(train_X, train_Y, k_range, kernel_list, cv = 2):\n",
    "    result = np.zeros((len(k_range), len(kernel_list)))\n",
    "    max_score = 0\n",
    "    best_k = 0\n",
    "    best_kernel = \"\"\n",
    "    i,j = 0,0\n",
    "    for k in k_range:\n",
    "        print \"K IS: \", k\n",
    "        for kernel in kernel_list:\n",
    "            print \"KERNEL IS \", kernel\n",
    "            score = cross_validation(train_X, train_Y, cv_fold=cv, k = k, kernel = kernel)\n",
    "            result[i,j] = score\n",
    "            if score > max_score:\n",
    "                max_score = score\n",
    "                best_k = k\n",
    "                best_kernel = kernel\n",
    "            j+=1\n",
    "        i+=1\n",
    "        j = 0\n",
    "    return result, (max_score, best_k, best_kernel)\n"
   ]
  },
  {
   "cell_type": "code",
   "execution_count": 147,
   "metadata": {
    "collapsed": false
   },
   "outputs": [
    {
     "name": "stdout",
     "output_type": "stream",
     "text": [
      "K IS:  1\n",
      "KERNEL IS  Epanechnikov\n",
      "train_x: (9600, 784)\n",
      "train_y: (9600,)\n",
      "test_x (2400, 784)\n",
      "0.942916666667\n",
      "########\n",
      "train_x: (9600, 784)\n",
      "train_y: (9600,)\n",
      "test_x (2400, 784)\n",
      "0.949583333333\n",
      "########\n",
      "train_x: (9600, 784)\n",
      "train_y: (9600,)\n",
      "test_x (2400, 784)\n",
      "0.944166666667\n",
      "########\n",
      "train_x: (9600, 784)\n",
      "train_y: (9600,)\n",
      "test_x (2400, 784)\n",
      "0.935833333333\n",
      "########\n",
      "train_x: (9600, 784)\n",
      "train_y: (9600,)\n",
      "test_x (2400, 784)\n",
      "0.945833333333\n",
      "########\n",
      "KERNEL IS  T\n",
      "train_x: (9600, 784)\n",
      "train_y: (9600,)\n",
      "test_x (2400, 784)\n",
      "0.942916666667\n",
      "########\n",
      "train_x: (9600, 784)\n",
      "train_y: (9600,)\n",
      "test_x (2400, 784)\n",
      "0.949583333333\n",
      "########\n",
      "train_x: (9600, 784)\n",
      "train_y: (9600,)\n",
      "test_x (2400, 784)\n",
      "0.944166666667\n",
      "########\n",
      "train_x: (9600, 784)\n",
      "train_y: (9600,)\n",
      "test_x (2400, 784)\n",
      "0.935833333333\n",
      "########\n",
      "train_x: (9600, 784)\n",
      "train_y: (9600,)\n",
      "test_x (2400, 784)\n",
      "0.945833333333\n",
      "########\n",
      "KERNEL IS  quartical\n",
      "train_x: (9600, 784)\n",
      "train_y: (9600,)\n",
      "test_x (2400, 784)\n",
      "0.942916666667\n",
      "########\n",
      "train_x: (9600, 784)\n",
      "train_y: (9600,)\n",
      "test_x (2400, 784)\n",
      "0.949583333333\n",
      "########\n",
      "train_x: (9600, 784)\n",
      "train_y: (9600,)\n",
      "test_x (2400, 784)\n",
      "0.944166666667\n",
      "########\n",
      "train_x: (9600, 784)\n",
      "train_y: (9600,)\n",
      "test_x (2400, 784)\n",
      "0.935833333333\n",
      "########\n",
      "train_x: (9600, 784)\n",
      "train_y: (9600,)\n",
      "test_x (2400, 784)\n",
      "0.945833333333\n",
      "########\n",
      "K IS:  2\n",
      "KERNEL IS  Epanechnikov\n",
      "train_x: (9600, 784)\n",
      "train_y: (9600,)\n",
      "test_x (2400, 784)\n",
      "0.942916666667\n",
      "########\n",
      "train_x: (9600, 784)\n",
      "train_y: (9600,)\n",
      "test_x (2400, 784)\n",
      "0.949583333333\n",
      "########\n",
      "train_x: (9600, 784)\n",
      "train_y: (9600,)\n",
      "test_x (2400, 784)\n",
      "0.944166666667\n",
      "########\n",
      "train_x: (9600, 784)\n",
      "train_y: (9600,)\n",
      "test_x (2400, 784)\n",
      "0.935833333333\n",
      "########\n",
      "train_x: (9600, 784)\n",
      "train_y: (9600,)\n",
      "test_x (2400, 784)\n",
      "0.945833333333\n",
      "########\n",
      "KERNEL IS  T\n",
      "train_x: (9600, 784)\n",
      "train_y: (9600,)\n",
      "test_x (2400, 784)\n",
      "0.942916666667\n",
      "########\n",
      "train_x: (9600, 784)\n",
      "train_y: (9600,)\n",
      "test_x (2400, 784)\n",
      "0.949583333333\n",
      "########\n",
      "train_x: (9600, 784)\n",
      "train_y: (9600,)\n",
      "test_x (2400, 784)\n",
      "0.944166666667\n",
      "########\n",
      "train_x: (9600, 784)\n",
      "train_y: (9600,)\n",
      "test_x (2400, 784)\n",
      "0.935833333333\n",
      "########\n",
      "train_x: (9600, 784)\n",
      "train_y: (9600,)\n",
      "test_x (2400, 784)\n",
      "0.945833333333\n",
      "########\n",
      "KERNEL IS  quartical\n",
      "train_x: (9600, 784)\n",
      "train_y: (9600,)\n",
      "test_x (2400, 784)\n",
      "0.942916666667\n",
      "########\n",
      "train_x: (9600, 784)\n",
      "train_y: (9600,)\n",
      "test_x (2400, 784)\n",
      "0.949583333333\n",
      "########\n",
      "train_x: (9600, 784)\n",
      "train_y: (9600,)\n",
      "test_x (2400, 784)\n",
      "0.944166666667\n",
      "########\n",
      "train_x: (9600, 784)\n",
      "train_y: (9600,)\n",
      "test_x (2400, 784)\n",
      "0.935833333333\n",
      "########\n",
      "train_x: (9600, 784)\n",
      "train_y: (9600,)\n",
      "test_x (2400, 784)\n",
      "0.945833333333\n",
      "########\n",
      "K IS:  3\n",
      "KERNEL IS  Epanechnikov\n",
      "train_x: (9600, 784)\n",
      "train_y: (9600,)\n",
      "test_x (2400, 784)\n",
      "0.947916666667\n",
      "########\n",
      "train_x: (9600, 784)\n",
      "train_y: (9600,)\n",
      "test_x (2400, 784)\n",
      "0.954166666667\n",
      "########\n",
      "train_x: (9600, 784)\n",
      "train_y: (9600,)\n",
      "test_x (2400, 784)\n",
      "0.949166666667\n",
      "########\n",
      "train_x: (9600, 784)\n",
      "train_y: (9600,)\n",
      "test_x (2400, 784)\n",
      "0.93625\n",
      "########\n",
      "train_x: (9600, 784)\n",
      "train_y: (9600,)\n",
      "test_x (2400, 784)\n",
      "0.955\n",
      "########\n",
      "KERNEL IS  T\n",
      "train_x: (9600, 784)\n",
      "train_y: (9600,)\n",
      "test_x (2400, 784)\n",
      "0.946666666667\n",
      "########\n",
      "train_x: (9600, 784)\n",
      "train_y: (9600,)\n",
      "test_x (2400, 784)\n",
      "0.955\n",
      "########\n",
      "train_x: (9600, 784)\n",
      "train_y: (9600,)\n",
      "test_x (2400, 784)\n",
      "0.947916666667\n",
      "########\n",
      "train_x: (9600, 784)\n",
      "train_y: (9600,)\n",
      "test_x (2400, 784)\n",
      "0.937916666667\n",
      "########\n",
      "train_x: (9600, 784)\n",
      "train_y: (9600,)\n",
      "test_x (2400, 784)\n",
      "0.95\n",
      "########\n",
      "KERNEL IS  quartical\n",
      "train_x: (9600, 784)\n",
      "train_y: (9600,)\n",
      "test_x (2400, 784)\n",
      "0.947916666667\n",
      "########\n",
      "train_x: (9600, 784)\n",
      "train_y: (9600,)\n",
      "test_x (2400, 784)\n",
      "0.954166666667\n",
      "########\n",
      "train_x: (9600, 784)\n",
      "train_y: (9600,)\n",
      "test_x (2400, 784)\n",
      "0.949166666667\n",
      "########\n",
      "train_x: (9600, 784)\n",
      "train_y: (9600,)\n",
      "test_x (2400, 784)\n",
      "0.93625\n",
      "########\n",
      "train_x: (9600, 784)\n",
      "train_y: (9600,)\n",
      "test_x (2400, 784)\n",
      "0.955\n",
      "########\n",
      "K IS:  4\n",
      "KERNEL IS  Epanechnikov\n",
      "train_x: (9600, 784)\n",
      "train_y: (9600,)\n",
      "test_x (2400, 784)\n",
      "0.949166666667\n",
      "########\n",
      "train_x: (9600, 784)\n",
      "train_y: (9600,)\n",
      "test_x (2400, 784)\n",
      "0.95375\n",
      "########\n",
      "train_x: (9600, 784)\n",
      "train_y: (9600,)\n",
      "test_x (2400, 784)\n",
      "0.947916666667\n",
      "########\n",
      "train_x: (9600, 784)\n",
      "train_y: (9600,)\n",
      "test_x (2400, 784)\n",
      "0.939583333333\n",
      "########\n",
      "train_x: (9600, 784)\n",
      "train_y: (9600,)\n",
      "test_x (2400, 784)\n",
      "0.955833333333\n",
      "########\n",
      "KERNEL IS  T\n",
      "train_x: (9600, 784)\n",
      "train_y: (9600,)\n",
      "test_x (2400, 784)\n",
      "0.949166666667\n",
      "########\n",
      "train_x: (9600, 784)\n",
      "train_y: (9600,)\n",
      "test_x (2400, 784)\n",
      "0.954583333333\n",
      "########\n",
      "train_x: (9600, 784)\n",
      "train_y: (9600,)\n",
      "test_x (2400, 784)\n",
      "0.950416666667\n",
      "########\n",
      "train_x: (9600, 784)\n",
      "train_y: (9600,)\n",
      "test_x (2400, 784)\n",
      "0.940833333333\n",
      "########\n",
      "train_x: (9600, 784)\n",
      "train_y: (9600,)\n",
      "test_x (2400, 784)\n",
      "0.953333333333\n",
      "########\n",
      "KERNEL IS  quartical\n",
      "train_x: (9600, 784)\n",
      "train_y: (9600,)\n",
      "test_x (2400, 784)\n",
      "0.948333333333\n",
      "########\n",
      "train_x: (9600, 784)\n",
      "train_y: (9600,)\n",
      "test_x (2400, 784)\n",
      "0.954583333333\n",
      "########\n",
      "train_x: (9600, 784)\n",
      "train_y: (9600,)\n",
      "test_x (2400, 784)\n",
      "0.949166666667\n",
      "########\n",
      "train_x: (9600, 784)\n",
      "train_y: (9600,)\n",
      "test_x (2400, 784)\n",
      "0.939166666667\n",
      "########\n",
      "train_x: (9600, 784)\n",
      "train_y: (9600,)\n",
      "test_x (2400, 784)\n",
      "0.955833333333\n",
      "########\n",
      "K IS:  5\n",
      "KERNEL IS  Epanechnikov\n",
      "train_x: (9600, 784)\n",
      "train_y: (9600,)\n",
      "test_x (2400, 784)\n",
      "0.950833333333\n",
      "########\n",
      "train_x: (9600, 784)\n",
      "train_y: (9600,)\n",
      "test_x (2400, 784)\n",
      "0.95375\n",
      "########\n",
      "train_x: (9600, 784)\n",
      "train_y: (9600,)\n",
      "test_x (2400, 784)\n",
      "0.950833333333\n",
      "########\n",
      "train_x: (9600, 784)\n",
      "train_y: (9600,)\n",
      "test_x (2400, 784)\n",
      "0.939166666667\n",
      "########\n",
      "train_x: (9600, 784)\n",
      "train_y: (9600,)\n",
      "test_x (2400, 784)\n",
      "0.955\n",
      "########\n",
      "KERNEL IS  T\n",
      "train_x: (9600, 784)\n",
      "train_y: (9600,)\n",
      "test_x (2400, 784)\n",
      "0.951666666667\n",
      "########\n",
      "train_x: (9600, 784)\n",
      "train_y: (9600,)\n",
      "test_x (2400, 784)\n",
      "0.955833333333\n",
      "########\n",
      "train_x: (9600, 784)\n",
      "train_y: (9600,)\n",
      "test_x (2400, 784)\n",
      "0.951666666667\n",
      "########\n",
      "train_x: (9600, 784)\n",
      "train_y: (9600,)\n",
      "test_x (2400, 784)\n",
      "0.9425\n",
      "########\n",
      "train_x: (9600, 784)\n",
      "train_y: (9600,)\n",
      "test_x (2400, 784)\n",
      "0.95625\n",
      "########\n",
      "KERNEL IS  quartical\n",
      "train_x: (9600, 784)\n",
      "train_y: (9600,)\n",
      "test_x (2400, 784)\n",
      "0.94875\n",
      "########\n",
      "train_x: (9600, 784)\n",
      "train_y: (9600,)\n",
      "test_x (2400, 784)\n",
      "0.954166666667\n",
      "########\n",
      "train_x: (9600, 784)\n",
      "train_y: (9600,)\n",
      "test_x (2400, 784)\n",
      "0.94875\n",
      "########\n",
      "train_x: (9600, 784)\n",
      "train_y: (9600,)\n",
      "test_x (2400, 784)\n",
      "0.939583333333\n",
      "########\n",
      "train_x: (9600, 784)\n",
      "train_y: (9600,)\n",
      "test_x (2400, 784)\n",
      "0.95625\n",
      "########\n",
      "K IS:  6\n",
      "KERNEL IS  Epanechnikov\n",
      "train_x: (9600, 784)\n",
      "train_y: (9600,)\n",
      "test_x (2400, 784)\n",
      "0.950416666667\n",
      "########\n",
      "train_x: (9600, 784)\n",
      "train_y: (9600,)\n",
      "test_x (2400, 784)\n",
      "0.95375\n",
      "########\n",
      "train_x: (9600, 784)\n",
      "train_y: (9600,)\n",
      "test_x (2400, 784)\n",
      "0.951666666667\n",
      "########\n",
      "train_x: (9600, 784)\n",
      "train_y: (9600,)\n",
      "test_x (2400, 784)\n",
      "0.936666666667\n",
      "########\n",
      "train_x: (9600, 784)\n",
      "train_y: (9600,)\n",
      "test_x (2400, 784)\n",
      "0.95375\n",
      "########\n",
      "KERNEL IS  T\n",
      "train_x: (9600, 784)\n",
      "train_y: (9600,)\n",
      "test_x (2400, 784)\n",
      "0.950833333333\n",
      "########\n",
      "train_x: (9600, 784)\n",
      "train_y: (9600,)\n",
      "test_x (2400, 784)\n",
      "0.955833333333\n",
      "########\n",
      "train_x: (9600, 784)\n",
      "train_y: (9600,)\n",
      "test_x (2400, 784)\n",
      "0.951666666667\n",
      "########\n",
      "train_x: (9600, 784)\n",
      "train_y: (9600,)\n",
      "test_x (2400, 784)\n",
      "0.939583333333\n",
      "########\n",
      "train_x: (9600, 784)\n",
      "train_y: (9600,)\n",
      "test_x (2400, 784)\n",
      "0.95625\n",
      "########\n",
      "KERNEL IS  quartical\n",
      "train_x: (9600, 784)\n",
      "train_y: (9600,)\n",
      "test_x (2400, 784)\n",
      "0.950416666667\n",
      "########\n",
      "train_x: (9600, 784)\n",
      "train_y: (9600,)\n",
      "test_x (2400, 784)\n",
      "0.95375\n",
      "########\n",
      "train_x: (9600, 784)\n",
      "train_y: (9600,)\n",
      "test_x (2400, 784)\n",
      "0.950416666667\n",
      "########\n",
      "train_x: (9600, 784)\n",
      "train_y: (9600,)\n",
      "test_x (2400, 784)\n",
      "0.94\n",
      "########\n",
      "train_x: (9600, 784)\n",
      "train_y: (9600,)\n",
      "test_x (2400, 784)\n",
      "0.95625\n",
      "########\n",
      "K IS:  7\n",
      "KERNEL IS  Epanechnikov\n",
      "train_x: (9600, 784)\n",
      "train_y: (9600,)\n",
      "test_x (2400, 784)\n",
      "0.947916666667\n",
      "########\n",
      "train_x: (9600, 784)\n",
      "train_y: (9600,)\n",
      "test_x (2400, 784)\n",
      "0.950833333333\n",
      "########\n",
      "train_x: (9600, 784)\n",
      "train_y: (9600,)\n",
      "test_x (2400, 784)\n",
      "0.950416666667\n",
      "########\n",
      "train_x: (9600, 784)\n",
      "train_y: (9600,)\n",
      "test_x (2400, 784)\n",
      "0.934166666667\n",
      "########\n",
      "train_x: (9600, 784)\n",
      "train_y: (9600,)\n",
      "test_x (2400, 784)\n",
      "0.950416666667\n",
      "########\n",
      "KERNEL IS  T\n",
      "train_x: (9600, 784)\n",
      "train_y: (9600,)\n",
      "test_x (2400, 784)\n",
      "0.949583333333\n",
      "########\n",
      "train_x: (9600, 784)\n",
      "train_y: (9600,)\n",
      "test_x (2400, 784)\n",
      "0.952916666667\n",
      "########\n",
      "train_x: (9600, 784)\n",
      "train_y: (9600,)\n",
      "test_x (2400, 784)\n",
      "0.950833333333\n",
      "########\n",
      "train_x: (9600, 784)\n",
      "train_y: (9600,)\n",
      "test_x (2400, 784)\n",
      "0.937916666667\n",
      "########\n",
      "train_x: (9600, 784)\n",
      "train_y: (9600,)\n",
      "test_x (2400, 784)\n",
      "0.955416666667\n",
      "########\n",
      "KERNEL IS  quartical\n",
      "train_x: (9600, 784)\n",
      "train_y: (9600,)\n",
      "test_x (2400, 784)\n",
      "0.95\n",
      "########\n",
      "train_x: (9600, 784)\n",
      "train_y: (9600,)\n",
      "test_x (2400, 784)\n",
      "0.95375\n",
      "########\n",
      "train_x: (9600, 784)\n",
      "train_y: (9600,)\n",
      "test_x (2400, 784)\n",
      "0.950833333333\n",
      "########\n",
      "train_x: (9600, 784)\n",
      "train_y: (9600,)\n",
      "test_x (2400, 784)\n",
      "0.937083333333\n",
      "########\n",
      "train_x: (9600, 784)\n",
      "train_y: (9600,)\n",
      "test_x (2400, 784)\n",
      "0.955416666667\n",
      "########\n"
     ]
    }
   ],
   "source": [
    "parameters = {'k':range(1,8), 'kernel':[\"Epanechnikov\", \"T\", \"quartical\"]}\n",
    "\n",
    "res, (max_scr, K, kern) = MyGridSearch(X_train[:12000], Y_train[:12000], parameters[\"k\"], parameters[\"kernel\"], cv = 5)"
   ]
  },
  {
   "cell_type": "code",
   "execution_count": 148,
   "metadata": {
    "collapsed": false
   },
   "outputs": [
    {
     "name": "stdout",
     "output_type": "stream",
     "text": [
      "0.951583333333 5 T\n"
     ]
    },
    {
     "data": {
      "text/plain": [
       "array([[ 0.94366667,  0.94366667,  0.94366667],\n",
       "       [ 0.94366667,  0.94366667,  0.94366667],\n",
       "       [ 0.9485    ,  0.9475    ,  0.9485    ],\n",
       "       [ 0.94925   ,  0.94966667,  0.94941667],\n",
       "       [ 0.94991667,  0.95158333,  0.9495    ],\n",
       "       [ 0.94925   ,  0.95083333,  0.95016667],\n",
       "       [ 0.94675   ,  0.94933333,  0.94941667]])"
      ]
     },
     "execution_count": 148,
     "metadata": {},
     "output_type": "execute_result"
    }
   ],
   "source": [
    "print max_scr, K, kern\n",
    "res"
   ]
  },
  {
   "cell_type": "code",
   "execution_count": 182,
   "metadata": {
    "collapsed": false
   },
   "outputs": [
    {
     "data": {
      "image/png": "[encoded data removed]",
      "text/plain": [
       "<matplotlib.figure.Figure at 0x113ac1610>"
      ]
     },
     "metadata": {},
     "output_type": "display_data"
    }
   ],
   "source": [
    "import matplotlib.pyplot as plt\n",
    "\n",
    "f, (ax1, ax2, ax3) = plt.subplots(1, 3, sharey=True)\n",
    "ax1.plot(range(1,8),res[:,0])\n",
    "ax1.set_title('Epanechnikov')\n",
    "ax1.set_xlabel(\"k[1..7]\")\n",
    "ax1.set_ylabel(\"Score\")\n",
    "ax1.grid(True)\n",
    "\n",
    "ax2.plot(range(1,8),res[:,1])\n",
    "ax2.set_title('T')\n",
    "ax2.set_xlabel(\"k[1..7]\")\n",
    "ax2.grid(True)\n",
    "\n",
    "\n",
    "ax3.plot(range(1,8),res[:,2])\n",
    "ax3.set_title('quartikal')\n",
    "ax3.set_xlabel(\"k[1..7]\")\n",
    "ax3.grid(True)\n"
   ]
  },
  {
   "cell_type": "raw",
   "metadata": {},
   "source": [
    "With kernel = T, k = 5\n",
    "Have tried on Kaggle MNIST competition and have got score 0.955"
   ]
  },
  {
   "cell_type": "code",
   "execution_count": 157,
   "metadata": {
    "collapsed": false
   },
   "outputs": [
    {
     "name": "stdout",
     "output_type": "stream",
     "text": [
      "28000\n",
      "CPU times: user 9min 43s, sys: 7.49 s, total: 9min 51s\n",
      "Wall time: 10min 6s\n"
     ]
    }
   ],
   "source": [
    "test = pd.read_csv(\"./kaggle/test.csv\")\n",
    "train = pd.read_csv(\"./kaggle/train.csv\")\n",
    "\n",
    "X_train, Y_train = train[train.columns[1:]].values, train['label'].values\n",
    "X_test = test.values\n",
    "\n",
    "print len(X_test)\n",
    "\n",
    "knn_clf = knn.KDBasedKNearestNeighbor()\n",
    "knn_clf = knn_clf.fit(X_train[:11000], Y_train[:11000], k = 5, kernel = \"T\")\n",
    "%time y_pred = knn_clf.predict(X_test)\n",
    "\n",
    "result = pd.DataFrame({\"ImageId\": range(1, len(y_pred)+1), \"Label\":y_pred})\n",
    "result.head()\n",
    "result.to_csv(\"kaggle.csv\", index = None)"
   ]
  },
  {
   "cell_type": "markdown",
   "metadata": {},
   "source": [
    "#Cool Bonus: Do something extra!"
   ]
  },
  {
   "cell_type": "code",
   "execution_count": null,
   "metadata": {
    "collapsed": true
   },
   "outputs": [],
   "source": [
    "# make more by yourself and win computation  "
   ]
  }
 ],
 "metadata": {
  "kernelspec": {
   "display_name": "Python 2",
   "language": "python",
   "name": "python2"
  },
  "language_info": {
   "codemirror_mode": {
    "name": "ipython",
    "version": 2
   },
   "file_extension": ".py",
   "mimetype": "text/x-python",
   "name": "python",
   "nbconvert_exporter": "python",
   "pygments_lexer": "ipython2",
   "version": "2.7.10"
  }
 },
 "nbformat": 4,
 "nbformat_minor": 0
}
