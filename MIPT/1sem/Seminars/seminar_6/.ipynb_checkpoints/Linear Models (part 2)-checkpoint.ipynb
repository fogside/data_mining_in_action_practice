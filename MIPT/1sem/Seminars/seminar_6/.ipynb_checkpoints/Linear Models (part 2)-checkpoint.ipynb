{
 "cells": [
  {
   "cell_type": "markdown",
   "metadata": {},
   "source": [
    "# Outline:\n",
    "\n",
    " * ## Regularisation\n",
    " * ## Logistic Regression\n",
    " * ## SVM (Dual)\n",
    " * ## Examples\n",
    " * ## Vowpal Wabbit (external tutorial)"
   ]
  },
  {
   "cell_type": "markdown",
   "metadata": {},
   "source": [
    "## Overfitting, revisited\n",
    "\n",
    "What is overfitting? Here are a few ways of explaining it:\n",
    "\n",
    "- Building a model that matches the training set too closely.\n",
    "- Building a model that does well on the training data, but doesn't generalize to out-of-sample data.\n",
    "- Learning from the noise in the data, rather than just the signal."
   ]
  },
  {
   "cell_type": "markdown",
   "metadata": {},
   "source": [
    "### Overfitting\n",
    "<img src=\"19_overfitting.png\">"
   ]
  },
  {
   "cell_type": "markdown",
   "metadata": {},
   "source": [
    "\n",
    "### Underfitting vs Overfitting\n",
    "<img src=\"19_underfitting_overfitting.png\">\n",
    "\n",
    "**What are some ways to overfit the data?**\n",
    "\n",
    "- Train and test on the same data\n",
    "- Create a model that is overly complex (one that doesn't generalize well)\n",
    "    - Example: KNN in which K is too low\n",
    "    - Example: Decision tree that is grown too deep\n",
    "\n",
    "An overly complex model has **low bias** but **high variance**."
   ]
  },
  {
   "cell_type": "markdown",
   "metadata": {},
   "source": [
    "## Linear Regression, revisited\n",
    "\n",
    "**Question:** Are linear regression models high bias/low variance, or low bias/high variance?\n",
    "\n",
    "**Answer:** High bias/low variance (generally speaking)\n",
    "\n",
    "Great! So as long as we don't train and test on the same data, we don't have to worry about overfitting, right? Not so fast...."
   ]
  },
  {
   "cell_type": "markdown",
   "metadata": {},
   "source": [
    "### Overfitting with Linear Regression (part 1)\n",
    "\n",
    "Linear models can overfit if you include irrelevant features.\n",
    "\n",
    "**Question:** Why would that be the case?\n",
    "\n",
    "**Answer:** Because it will learn a coefficient for any feature you feed into the model, regardless of whether that feature has the signal or the noise.\n",
    "\n",
    "This is especially a problem when **p (number of features) is close to n (number of observations)**, because that model will naturally have high variance."
   ]
  },
  {
   "cell_type": "markdown",
   "metadata": {},
   "source": [
    "### Overfitting with Linear Regression (part 2)\n",
    "\n",
    "Linear models can also overfit when the included features are highly correlated. From the [scikit-learn documentation](http://scikit-learn.org/stable/modules/linear_model.html#ordinary-least-squares):\n",
    "\n",
    "> \"...coefficient estimates for Ordinary Least Squares rely on the independence of the model terms. When terms are correlated and the columns of the design matrix X have an approximate linear dependence, the design matrix becomes close to singular and as a result, the least-squares estimate becomes highly sensitive to random errors in the observed response, producing a large variance.\""
   ]
  },
  {
   "cell_type": "markdown",
   "metadata": {},
   "source": [
    "### Overfitting with Linear Regression (part 3)\n",
    "\n",
    "Linear models can also overfit if the coefficients are too large.\n",
    "\n",
    "**Question:** Why would that be the case?\n",
    "\n",
    "**Answer:** Because the larger the absolute value of the coefficient, the more power it has to change the predicted response. Thus it tends toward high variance, which can result in overfitting."
   ]
  },
  {
   "cell_type": "code",
   "execution_count": 7,
   "metadata": {
    "collapsed": false
   },
   "outputs": [
    {
     "data": {
      "text/plain": [
       "[<matplotlib.lines.Line2D at 0x11770ffd0>]"
      ]
     },
     "execution_count": 7,
     "metadata": {},
     "output_type": "execute_result"
    },
    {
     "data": {
      "image/png": "[encoded data removed]",
      "text/plain": [
       "<matplotlib.figure.Figure at 0x116f92b10>"
      ]
     },
     "metadata": {},
     "output_type": "display_data"
    }
   ],
   "source": [
    "from matplotlib.pylab import rcParams\n",
    "rcParams['figure.figsize'] = 12, 10\n",
    "\n",
    "#Define input array with angles from 60deg to 300deg converted to radians\n",
    "x = np.array([i*np.pi/180 for i in range(60,300,4)])\n",
    "np.random.seed(10)  #Setting seed for reproducability\n",
    "y = np.sin(x) + np.random.normal(0,0.15,len(x))\n",
    "data = pd.DataFrame(np.column_stack([x,y]),columns=['x','y'])\n",
    "plt.plot(data['x'],data['y'],'.')"
   ]
  },
  {
   "cell_type": "code",
   "execution_count": 8,
   "metadata": {
    "collapsed": false
   },
   "outputs": [
    {
     "name": "stdout",
     "output_type": "stream",
     "text": [
      "          x         y       x_2       x_3       x_4       x_5       x_6  \\\n",
      "0  1.047198  1.065763  1.096623  1.148381  1.202581  1.259340  1.318778   \n",
      "1  1.117011  1.006086  1.247713  1.393709  1.556788  1.738948  1.942424   \n",
      "2  1.186824  0.695374  1.408551  1.671702  1.984016  2.354677  2.794587   \n",
      "3  1.256637  0.949799  1.579137  1.984402  2.493673  3.133642  3.937850   \n",
      "4  1.326450  1.063496  1.759470  2.333850  3.095735  4.106339  5.446854   \n",
      "\n",
      "        x_7       x_8        x_9       x_10       x_11       x_12       x_13  \\\n",
      "0  1.381021  1.446202   1.514459   1.585938   1.660790   1.739176   1.821260   \n",
      "1  2.169709  2.423588   2.707173   3.023942   3.377775   3.773011   4.214494   \n",
      "2  3.316683  3.936319   4.671717   5.544505   6.580351   7.809718   9.268760   \n",
      "3  4.948448  6.218404   7.814277   9.819710  12.339811  15.506664  19.486248   \n",
      "4  7.224981  9.583578  12.712139  16.862020  22.366630  29.668222  39.353420   \n",
      "\n",
      "        x_14       x_15  \n",
      "0   1.907219   1.997235  \n",
      "1   4.707635   5.258479  \n",
      "2  11.000386  13.055521  \n",
      "3  24.487142  30.771450  \n",
      "4  52.200353  69.241170  \n"
     ]
    }
   ],
   "source": [
    "for i in range(2,16):  #power of 1 is already there\n",
    "    colname = 'x_%d'%i      #new var will be x_power\n",
    "    data[colname] = data['x']**i\n",
    "print data.head()"
   ]
  },
  {
   "cell_type": "code",
   "execution_count": 10,
   "metadata": {
    "collapsed": true
   },
   "outputs": [],
   "source": [
    "from sklearn.linear_model import LinearRegression\n",
    "def linear_regression(data, power, models_to_plot):\n",
    "    #initialize predictors:\n",
    "    predictors=['x']\n",
    "    if power>=2:\n",
    "        predictors.extend(['x_%d'%i for i in range(2,power+1)])\n",
    "    \n",
    "    #Fit the model\n",
    "    linreg = LinearRegression(normalize=True)\n",
    "    linreg.fit(data[predictors],data['y'])\n",
    "    y_pred = linreg.predict(data[predictors])\n",
    "    \n",
    "    #Check if a plot is to be made for the entered power\n",
    "    if power in models_to_plot:\n",
    "        plt.subplot(models_to_plot[power])\n",
    "        plt.tight_layout()\n",
    "        plt.plot(data['x'],y_pred)\n",
    "        plt.plot(data['x'],data['y'],'.')\n",
    "        plt.title('Plot for power: %d'%power)\n",
    "    \n",
    "    #Return the result in pre-defined format\n",
    "    rss = sum((y_pred-data['y'])**2)\n",
    "    ret = [rss]\n",
    "    ret.extend([linreg.intercept_])\n",
    "    ret.extend(linreg.coef_)\n",
    "    return ret\n"
   ]
  },
  {
   "cell_type": "code",
   "execution_count": 11,
   "metadata": {
    "collapsed": false
   },
   "outputs": [
    {
     "data": {
      "image/png": "[encoded data removed]",
      "text/plain": [
       "<matplotlib.figure.Figure at 0x1099639d0>"
      ]
     },
     "metadata": {},
     "output_type": "display_data"
    }
   ],
   "source": [
    "#Initialize a dataframe to store the results:\n",
    "col = ['rss','intercept'] + ['coef_x_%d'%i for i in range(1,16)]\n",
    "ind = ['model_pow_%d'%i for i in range(1,16)]\n",
    "coef_matrix_simple = pd.DataFrame(index=ind, columns=col)\n",
    "\n",
    "#Define the powers for which a plot is required:\n",
    "models_to_plot = {1:231,3:232,6:233,9:234,12:235,15:236}\n",
    "\n",
    "#Iterate through all powers and assimilate results\n",
    "for i in range(1,16):\n",
    "    coef_matrix_simple.iloc[i-1,0:i+2] = linear_regression(data, power=i, models_to_plot=models_to_plot)"
   ]
  },
  {
   "cell_type": "markdown",
   "metadata": {},
   "source": [
    "## Regularization\n",
    "\n",
    "Regularization is a method for \"constraining\" or \"regularizing\" the size of the coefficients, thus \"shrinking\" them towards zero. It tends to reduce variance more than it increases bias, and thus minimizes overfitting.\n",
    "\n",
    "Common regularization techniques for linear models:\n",
    "\n",
    "- **Ridge regression** (also known as \"L2 regularization\"): shrinks coefficients toward zero (but they never reach zero)\n",
    "- **Lasso regularization** (also known as \"L1 regularization\"): shrinks coefficients all the way to zero\n",
    "- **ElasticNet regularization**: balance between Ridge and Lasso\n",
    "\n",
    "Lasso regularization is useful if we believe many features are irrelevant, since a feature with a zero coefficient is essentially removed from the model. Thus, it is a useful technique for feature selection.\n",
    "\n",
    "How does regularization work?\n",
    "\n",
    "- A tuning parameter alpha (or sometimes lambda) imposes a penalty on the size of coefficients.\n",
    "- Instead of minimizing the \"loss function\" (mean squared error), it minimizes the \"loss plus penalty\".\n",
    "- A tiny alpha imposes no penalty on the coefficient size, and is equivalent to a normal linear model.\n",
    "- Increasing the alpha penalizes the coefficients and shrinks them toward zero."
   ]
  },
  {
   "cell_type": "code",
   "execution_count": 12,
   "metadata": {
    "collapsed": false
   },
   "outputs": [
    {
     "data": {
      "text/html": [
       "<div>\n",
       "<table border=\"1\" class=\"dataframe\">\n",
       "  <thead>\n",
       "    <tr style=\"text-align: right;\">\n",
       "      <th></th>\n",
       "      <th>rss</th>\n",
       "      <th>intercept</th>\n",
       "      <th>coef_x_1</th>\n",
       "      <th>coef_x_2</th>\n",
       "      <th>coef_x_3</th>\n",
       "      <th>coef_x_4</th>\n",
       "      <th>coef_x_5</th>\n",
       "      <th>coef_x_6</th>\n",
       "      <th>coef_x_7</th>\n",
       "      <th>coef_x_8</th>\n",
       "      <th>coef_x_9</th>\n",
       "      <th>coef_x_10</th>\n",
       "      <th>coef_x_11</th>\n",
       "      <th>coef_x_12</th>\n",
       "      <th>coef_x_13</th>\n",
       "      <th>coef_x_14</th>\n",
       "      <th>coef_x_15</th>\n",
       "    </tr>\n",
       "  </thead>\n",
       "  <tbody>\n",
       "    <tr>\n",
       "      <th>model_pow_1</th>\n",
       "      <td>3.3</td>\n",
       "      <td>2</td>\n",
       "      <td>-0.62</td>\n",
       "      <td>NaN</td>\n",
       "      <td>NaN</td>\n",
       "      <td>NaN</td>\n",
       "      <td>NaN</td>\n",
       "      <td>NaN</td>\n",
       "      <td>NaN</td>\n",
       "      <td>NaN</td>\n",
       "      <td>NaN</td>\n",
       "      <td>NaN</td>\n",
       "      <td>NaN</td>\n",
       "      <td>NaN</td>\n",
       "      <td>NaN</td>\n",
       "      <td>NaN</td>\n",
       "      <td>NaN</td>\n",
       "    </tr>\n",
       "    <tr>\n",
       "      <th>model_pow_2</th>\n",
       "      <td>3.3</td>\n",
       "      <td>1.9</td>\n",
       "      <td>-0.58</td>\n",
       "      <td>-0.006</td>\n",
       "      <td>NaN</td>\n",
       "      <td>NaN</td>\n",
       "      <td>NaN</td>\n",
       "      <td>NaN</td>\n",
       "      <td>NaN</td>\n",
       "      <td>NaN</td>\n",
       "      <td>NaN</td>\n",
       "      <td>NaN</td>\n",
       "      <td>NaN</td>\n",
       "      <td>NaN</td>\n",
       "      <td>NaN</td>\n",
       "      <td>NaN</td>\n",
       "      <td>NaN</td>\n",
       "    </tr>\n",
       "    <tr>\n",
       "      <th>model_pow_3</th>\n",
       "      <td>1.1</td>\n",
       "      <td>-1.1</td>\n",
       "      <td>3</td>\n",
       "      <td>-1.3</td>\n",
       "      <td>0.14</td>\n",
       "      <td>NaN</td>\n",
       "      <td>NaN</td>\n",
       "      <td>NaN</td>\n",
       "      <td>NaN</td>\n",
       "      <td>NaN</td>\n",
       "      <td>NaN</td>\n",
       "      <td>NaN</td>\n",
       "      <td>NaN</td>\n",
       "      <td>NaN</td>\n",
       "      <td>NaN</td>\n",
       "      <td>NaN</td>\n",
       "      <td>NaN</td>\n",
       "    </tr>\n",
       "    <tr>\n",
       "      <th>model_pow_4</th>\n",
       "      <td>1.1</td>\n",
       "      <td>-0.27</td>\n",
       "      <td>1.7</td>\n",
       "      <td>-0.53</td>\n",
       "      <td>-0.036</td>\n",
       "      <td>0.014</td>\n",
       "      <td>NaN</td>\n",
       "      <td>NaN</td>\n",
       "      <td>NaN</td>\n",
       "      <td>NaN</td>\n",
       "      <td>NaN</td>\n",
       "      <td>NaN</td>\n",
       "      <td>NaN</td>\n",
       "      <td>NaN</td>\n",
       "      <td>NaN</td>\n",
       "      <td>NaN</td>\n",
       "      <td>NaN</td>\n",
       "    </tr>\n",
       "    <tr>\n",
       "      <th>model_pow_5</th>\n",
       "      <td>1</td>\n",
       "      <td>3</td>\n",
       "      <td>-5.1</td>\n",
       "      <td>4.7</td>\n",
       "      <td>-1.9</td>\n",
       "      <td>0.33</td>\n",
       "      <td>-0.021</td>\n",
       "      <td>NaN</td>\n",
       "      <td>NaN</td>\n",
       "      <td>NaN</td>\n",
       "      <td>NaN</td>\n",
       "      <td>NaN</td>\n",
       "      <td>NaN</td>\n",
       "      <td>NaN</td>\n",
       "      <td>NaN</td>\n",
       "      <td>NaN</td>\n",
       "      <td>NaN</td>\n",
       "    </tr>\n",
       "    <tr>\n",
       "      <th>model_pow_6</th>\n",
       "      <td>0.99</td>\n",
       "      <td>-2.8</td>\n",
       "      <td>9.5</td>\n",
       "      <td>-9.7</td>\n",
       "      <td>5.2</td>\n",
       "      <td>-1.6</td>\n",
       "      <td>0.23</td>\n",
       "      <td>-0.014</td>\n",
       "      <td>NaN</td>\n",
       "      <td>NaN</td>\n",
       "      <td>NaN</td>\n",
       "      <td>NaN</td>\n",
       "      <td>NaN</td>\n",
       "      <td>NaN</td>\n",
       "      <td>NaN</td>\n",
       "      <td>NaN</td>\n",
       "      <td>NaN</td>\n",
       "    </tr>\n",
       "    <tr>\n",
       "      <th>model_pow_7</th>\n",
       "      <td>0.93</td>\n",
       "      <td>19</td>\n",
       "      <td>-56</td>\n",
       "      <td>69</td>\n",
       "      <td>-45</td>\n",
       "      <td>17</td>\n",
       "      <td>-3.5</td>\n",
       "      <td>0.4</td>\n",
       "      <td>-0.019</td>\n",
       "      <td>NaN</td>\n",
       "      <td>NaN</td>\n",
       "      <td>NaN</td>\n",
       "      <td>NaN</td>\n",
       "      <td>NaN</td>\n",
       "      <td>NaN</td>\n",
       "      <td>NaN</td>\n",
       "      <td>NaN</td>\n",
       "    </tr>\n",
       "    <tr>\n",
       "      <th>model_pow_8</th>\n",
       "      <td>0.92</td>\n",
       "      <td>43</td>\n",
       "      <td>-1.4e+02</td>\n",
       "      <td>1.8e+02</td>\n",
       "      <td>-1.3e+02</td>\n",
       "      <td>58</td>\n",
       "      <td>-15</td>\n",
       "      <td>2.4</td>\n",
       "      <td>-0.21</td>\n",
       "      <td>0.0077</td>\n",
       "      <td>NaN</td>\n",
       "      <td>NaN</td>\n",
       "      <td>NaN</td>\n",
       "      <td>NaN</td>\n",
       "      <td>NaN</td>\n",
       "      <td>NaN</td>\n",
       "      <td>NaN</td>\n",
       "    </tr>\n",
       "    <tr>\n",
       "      <th>model_pow_9</th>\n",
       "      <td>0.87</td>\n",
       "      <td>1.7e+02</td>\n",
       "      <td>-6.1e+02</td>\n",
       "      <td>9.6e+02</td>\n",
       "      <td>-8.5e+02</td>\n",
       "      <td>4.6e+02</td>\n",
       "      <td>-1.6e+02</td>\n",
       "      <td>37</td>\n",
       "      <td>-5.2</td>\n",
       "      <td>0.42</td>\n",
       "      <td>-0.015</td>\n",
       "      <td>NaN</td>\n",
       "      <td>NaN</td>\n",
       "      <td>NaN</td>\n",
       "      <td>NaN</td>\n",
       "      <td>NaN</td>\n",
       "      <td>NaN</td>\n",
       "    </tr>\n",
       "    <tr>\n",
       "      <th>model_pow_10</th>\n",
       "      <td>0.87</td>\n",
       "      <td>1.4e+02</td>\n",
       "      <td>-4.9e+02</td>\n",
       "      <td>7.3e+02</td>\n",
       "      <td>-6e+02</td>\n",
       "      <td>2.9e+02</td>\n",
       "      <td>-87</td>\n",
       "      <td>15</td>\n",
       "      <td>-0.81</td>\n",
       "      <td>-0.14</td>\n",
       "      <td>0.026</td>\n",
       "      <td>-0.0013</td>\n",
       "      <td>NaN</td>\n",
       "      <td>NaN</td>\n",
       "      <td>NaN</td>\n",
       "      <td>NaN</td>\n",
       "      <td>NaN</td>\n",
       "    </tr>\n",
       "    <tr>\n",
       "      <th>model_pow_11</th>\n",
       "      <td>0.87</td>\n",
       "      <td>-75</td>\n",
       "      <td>5.1e+02</td>\n",
       "      <td>-1.3e+03</td>\n",
       "      <td>1.9e+03</td>\n",
       "      <td>-1.6e+03</td>\n",
       "      <td>9.1e+02</td>\n",
       "      <td>-3.5e+02</td>\n",
       "      <td>91</td>\n",
       "      <td>-16</td>\n",
       "      <td>1.8</td>\n",
       "      <td>-0.12</td>\n",
       "      <td>0.0034</td>\n",
       "      <td>NaN</td>\n",
       "      <td>NaN</td>\n",
       "      <td>NaN</td>\n",
       "      <td>NaN</td>\n",
       "    </tr>\n",
       "    <tr>\n",
       "      <th>model_pow_12</th>\n",
       "      <td>0.87</td>\n",
       "      <td>-3.4e+02</td>\n",
       "      <td>1.9e+03</td>\n",
       "      <td>-4.4e+03</td>\n",
       "      <td>6e+03</td>\n",
       "      <td>-5.2e+03</td>\n",
       "      <td>3.1e+03</td>\n",
       "      <td>-1.3e+03</td>\n",
       "      <td>3.8e+02</td>\n",
       "      <td>-80</td>\n",
       "      <td>12</td>\n",
       "      <td>-1.1</td>\n",
       "      <td>0.062</td>\n",
       "      <td>-0.0016</td>\n",
       "      <td>NaN</td>\n",
       "      <td>NaN</td>\n",
       "      <td>NaN</td>\n",
       "    </tr>\n",
       "    <tr>\n",
       "      <th>model_pow_13</th>\n",
       "      <td>0.86</td>\n",
       "      <td>3.2e+03</td>\n",
       "      <td>-1.8e+04</td>\n",
       "      <td>4.5e+04</td>\n",
       "      <td>-6.7e+04</td>\n",
       "      <td>6.6e+04</td>\n",
       "      <td>-4.6e+04</td>\n",
       "      <td>2.3e+04</td>\n",
       "      <td>-8.5e+03</td>\n",
       "      <td>2.3e+03</td>\n",
       "      <td>-4.5e+02</td>\n",
       "      <td>62</td>\n",
       "      <td>-5.7</td>\n",
       "      <td>0.31</td>\n",
       "      <td>-0.0078</td>\n",
       "      <td>NaN</td>\n",
       "      <td>NaN</td>\n",
       "    </tr>\n",
       "    <tr>\n",
       "      <th>model_pow_14</th>\n",
       "      <td>0.79</td>\n",
       "      <td>2.4e+04</td>\n",
       "      <td>-1.4e+05</td>\n",
       "      <td>3.8e+05</td>\n",
       "      <td>-6.1e+05</td>\n",
       "      <td>6.6e+05</td>\n",
       "      <td>-5e+05</td>\n",
       "      <td>2.8e+05</td>\n",
       "      <td>-1.2e+05</td>\n",
       "      <td>3.7e+04</td>\n",
       "      <td>-8.5e+03</td>\n",
       "      <td>1.5e+03</td>\n",
       "      <td>-1.8e+02</td>\n",
       "      <td>15</td>\n",
       "      <td>-0.73</td>\n",
       "      <td>0.017</td>\n",
       "      <td>NaN</td>\n",
       "    </tr>\n",
       "    <tr>\n",
       "      <th>model_pow_15</th>\n",
       "      <td>0.7</td>\n",
       "      <td>-3.6e+04</td>\n",
       "      <td>2.4e+05</td>\n",
       "      <td>-7.5e+05</td>\n",
       "      <td>1.4e+06</td>\n",
       "      <td>-1.7e+06</td>\n",
       "      <td>1.5e+06</td>\n",
       "      <td>-1e+06</td>\n",
       "      <td>5e+05</td>\n",
       "      <td>-1.9e+05</td>\n",
       "      <td>5.4e+04</td>\n",
       "      <td>-1.2e+04</td>\n",
       "      <td>1.9e+03</td>\n",
       "      <td>-2.2e+02</td>\n",
       "      <td>17</td>\n",
       "      <td>-0.81</td>\n",
       "      <td>0.018</td>\n",
       "    </tr>\n",
       "  </tbody>\n",
       "</table>\n",
       "</div>"
      ],
      "text/plain": [
       "              rss intercept coef_x_1 coef_x_2 coef_x_3 coef_x_4 coef_x_5  \\\n",
       "model_pow_1   3.3         2    -0.62      NaN      NaN      NaN      NaN   \n",
       "model_pow_2   3.3       1.9    -0.58   -0.006      NaN      NaN      NaN   \n",
       "model_pow_3   1.1      -1.1        3     -1.3     0.14      NaN      NaN   \n",
       "model_pow_4   1.1     -0.27      1.7    -0.53   -0.036    0.014      NaN   \n",
       "model_pow_5     1         3     -5.1      4.7     -1.9     0.33   -0.021   \n",
       "model_pow_6  0.99      -2.8      9.5     -9.7      5.2     -1.6     0.23   \n",
       "model_pow_7  0.93        19      -56       69      -45       17     -3.5   \n",
       "model_pow_8  0.92        43 -1.4e+02  1.8e+02 -1.3e+02       58      -15   \n",
       "model_pow_9  0.87   1.7e+02 -6.1e+02  9.6e+02 -8.5e+02  4.6e+02 -1.6e+02   \n",
       "model_pow_10 0.87   1.4e+02 -4.9e+02  7.3e+02   -6e+02  2.9e+02      -87   \n",
       "model_pow_11 0.87       -75  5.1e+02 -1.3e+03  1.9e+03 -1.6e+03  9.1e+02   \n",
       "model_pow_12 0.87  -3.4e+02  1.9e+03 -4.4e+03    6e+03 -5.2e+03  3.1e+03   \n",
       "model_pow_13 0.86   3.2e+03 -1.8e+04  4.5e+04 -6.7e+04  6.6e+04 -4.6e+04   \n",
       "model_pow_14 0.79   2.4e+04 -1.4e+05  3.8e+05 -6.1e+05  6.6e+05   -5e+05   \n",
       "model_pow_15  0.7  -3.6e+04  2.4e+05 -7.5e+05  1.4e+06 -1.7e+06  1.5e+06   \n",
       "\n",
       "             coef_x_6 coef_x_7 coef_x_8 coef_x_9 coef_x_10 coef_x_11  \\\n",
       "model_pow_1       NaN      NaN      NaN      NaN       NaN       NaN   \n",
       "model_pow_2       NaN      NaN      NaN      NaN       NaN       NaN   \n",
       "model_pow_3       NaN      NaN      NaN      NaN       NaN       NaN   \n",
       "model_pow_4       NaN      NaN      NaN      NaN       NaN       NaN   \n",
       "model_pow_5       NaN      NaN      NaN      NaN       NaN       NaN   \n",
       "model_pow_6    -0.014      NaN      NaN      NaN       NaN       NaN   \n",
       "model_pow_7       0.4   -0.019      NaN      NaN       NaN       NaN   \n",
       "model_pow_8       2.4    -0.21   0.0077      NaN       NaN       NaN   \n",
       "model_pow_9        37     -5.2     0.42   -0.015       NaN       NaN   \n",
       "model_pow_10       15    -0.81    -0.14    0.026   -0.0013       NaN   \n",
       "model_pow_11 -3.5e+02       91      -16      1.8     -0.12    0.0034   \n",
       "model_pow_12 -1.3e+03  3.8e+02      -80       12      -1.1     0.062   \n",
       "model_pow_13  2.3e+04 -8.5e+03  2.3e+03 -4.5e+02        62      -5.7   \n",
       "model_pow_14  2.8e+05 -1.2e+05  3.7e+04 -8.5e+03   1.5e+03  -1.8e+02   \n",
       "model_pow_15   -1e+06    5e+05 -1.9e+05  5.4e+04  -1.2e+04   1.9e+03   \n",
       "\n",
       "             coef_x_12 coef_x_13 coef_x_14 coef_x_15  \n",
       "model_pow_1        NaN       NaN       NaN       NaN  \n",
       "model_pow_2        NaN       NaN       NaN       NaN  \n",
       "model_pow_3        NaN       NaN       NaN       NaN  \n",
       "model_pow_4        NaN       NaN       NaN       NaN  \n",
       "model_pow_5        NaN       NaN       NaN       NaN  \n",
       "model_pow_6        NaN       NaN       NaN       NaN  \n",
       "model_pow_7        NaN       NaN       NaN       NaN  \n",
       "model_pow_8        NaN       NaN       NaN       NaN  \n",
       "model_pow_9        NaN       NaN       NaN       NaN  \n",
       "model_pow_10       NaN       NaN       NaN       NaN  \n",
       "model_pow_11       NaN       NaN       NaN       NaN  \n",
       "model_pow_12   -0.0016       NaN       NaN       NaN  \n",
       "model_pow_13      0.31   -0.0078       NaN       NaN  \n",
       "model_pow_14        15     -0.73     0.017       NaN  \n",
       "model_pow_15  -2.2e+02        17     -0.81     0.018  "
      ]
     },
     "execution_count": 12,
     "metadata": {},
     "output_type": "execute_result"
    }
   ],
   "source": [
    "#Set the display format to be scientific for ease of analysis\n",
    "pd.options.display.float_format = '{:,.2g}'.format\n",
    "coef_matrix_simple"
   ]
  },
  {
   "cell_type": "code",
   "execution_count": 13,
   "metadata": {
    "collapsed": false
   },
   "outputs": [
    {
     "data": {
      "text/html": [
       "<img src=\"http://i1.wp.com/www.analyticsvidhya.com/wp-content/uploads/2016/01/3-linear_output_modIFIED.png?w=1600\"/>"
      ],
      "text/plain": [
       "<IPython.core.display.Image object>"
      ]
     },
     "execution_count": 13,
     "metadata": {},
     "output_type": "execute_result"
    }
   ],
   "source": [
    "Image(url=\"http://i1.wp.com/www.analyticsvidhya.com/wp-content/uploads/2016/01/3-linear_output_modIFIED.png?w=1600\")"
   ]
  },
  {
   "cell_type": "markdown",
   "metadata": {},
   "source": [
    "## Ridge regression\n",
    "* α = 0:\n",
    "The objective becomes same as simple linear regression.\n",
    "We’ll get the same coefficients as simple linear regression.\n",
    "* α = ∞:\n",
    "The coefficients will be zero. Why? Because of infinite weightage on square of coefficients, anything less than zero will make the objective infinite.\n",
    "* 0 < α < ∞:\n",
    "The magnitude of α will decide the weightage given to different parts of objective.\n",
    "The coefficients will be somewhere between 0 and ones for simple linear regression."
   ]
  },
  {
   "cell_type": "code",
   "execution_count": 14,
   "metadata": {
    "collapsed": true
   },
   "outputs": [],
   "source": [
    "from sklearn.linear_model import Ridge\n",
    "def ridge_regression(data, predictors, alpha, models_to_plot={}):\n",
    "    #Fit the model\n",
    "    ridgereg = Ridge(alpha=alpha,normalize=True)\n",
    "    ridgereg.fit(data[predictors],data['y'])\n",
    "    y_pred = ridgereg.predict(data[predictors])\n",
    "    \n",
    "    #Check if a plot is to be made for the entered alpha\n",
    "    if alpha in models_to_plot:\n",
    "        plt.subplot(models_to_plot[alpha])\n",
    "        plt.tight_layout()\n",
    "        plt.plot(data['x'],y_pred)\n",
    "        plt.plot(data['x'],data['y'],'.')\n",
    "        plt.title('Plot for alpha: %.3g'%alpha)\n",
    "    \n",
    "    #Return the result in pre-defined format\n",
    "    rss = sum((y_pred-data['y'])**2)\n",
    "    ret = [rss]\n",
    "    ret.extend([ridgereg.intercept_])\n",
    "    ret.extend(ridgereg.coef_)\n",
    "    return ret"
   ]
  },
  {
   "cell_type": "code",
   "execution_count": 15,
   "metadata": {
    "collapsed": false
   },
   "outputs": [
    {
     "data": {
      "image/png": "[encoded data removed]",
      "text/plain": [
       "<matplotlib.figure.Figure at 0x11777ee50>"
      ]
     },
     "metadata": {},
     "output_type": "display_data"
    }
   ],
   "source": [
    "#Initialize predictors to be set of 15 powers of x\n",
    "predictors=['x']\n",
    "predictors.extend(['x_%d'%i for i in range(2,16)])\n",
    "\n",
    "#Set the different values of alpha to be tested\n",
    "alpha_ridge = [1e-15, 1e-10, 1e-8, 1e-4, 1e-3,1e-2, 1, 5, 10, 20]\n",
    "\n",
    "#Initialize the dataframe for storing coefficients.\n",
    "col = ['rss','intercept'] + ['coef_x_%d'%i for i in range(1,16)]\n",
    "ind = ['alpha_%.2g'%alpha_ridge[i] for i in range(0,10)]\n",
    "coef_matrix_ridge = pd.DataFrame(index=ind, columns=col)\n",
    "\n",
    "models_to_plot = {1e-15:231, 1e-10:232, 1e-4:233, 1e-3:234, 1e-2:235, 5:236}\n",
    "for i in range(10):\n",
    "    coef_matrix_ridge.iloc[i,] = ridge_regression(data, predictors, alpha_ridge[i], models_to_plot)"
   ]
  },
  {
   "cell_type": "code",
   "execution_count": 16,
   "metadata": {
    "collapsed": false
   },
   "outputs": [
    {
     "data": {
      "text/html": [
       "<div>\n",
       "<table border=\"1\" class=\"dataframe\">\n",
       "  <thead>\n",
       "    <tr style=\"text-align: right;\">\n",
       "      <th></th>\n",
       "      <th>rss</th>\n",
       "      <th>intercept</th>\n",
       "      <th>coef_x_1</th>\n",
       "      <th>coef_x_2</th>\n",
       "      <th>coef_x_3</th>\n",
       "      <th>coef_x_4</th>\n",
       "      <th>coef_x_5</th>\n",
       "      <th>coef_x_6</th>\n",
       "      <th>coef_x_7</th>\n",
       "      <th>coef_x_8</th>\n",
       "      <th>coef_x_9</th>\n",
       "      <th>coef_x_10</th>\n",
       "      <th>coef_x_11</th>\n",
       "      <th>coef_x_12</th>\n",
       "      <th>coef_x_13</th>\n",
       "      <th>coef_x_14</th>\n",
       "      <th>coef_x_15</th>\n",
       "    </tr>\n",
       "  </thead>\n",
       "  <tbody>\n",
       "    <tr>\n",
       "      <th>alpha_1e-15</th>\n",
       "      <td>0.87</td>\n",
       "      <td>94</td>\n",
       "      <td>-3e+02</td>\n",
       "      <td>3.8e+02</td>\n",
       "      <td>-2.4e+02</td>\n",
       "      <td>67</td>\n",
       "      <td>-0.26</td>\n",
       "      <td>-4.4</td>\n",
       "      <td>0.56</td>\n",
       "      <td>0.14</td>\n",
       "      <td>-0.023</td>\n",
       "      <td>-0.0057</td>\n",
       "      <td>0.00094</td>\n",
       "      <td>0.00016</td>\n",
       "      <td>-4e-05</td>\n",
       "      <td>2.3e-06</td>\n",
       "      <td>-1.5e-09</td>\n",
       "    </tr>\n",
       "    <tr>\n",
       "      <th>alpha_1e-10</th>\n",
       "      <td>0.92</td>\n",
       "      <td>11</td>\n",
       "      <td>-29</td>\n",
       "      <td>31</td>\n",
       "      <td>-15</td>\n",
       "      <td>2.9</td>\n",
       "      <td>0.17</td>\n",
       "      <td>-0.091</td>\n",
       "      <td>-0.011</td>\n",
       "      <td>0.002</td>\n",
       "      <td>0.00064</td>\n",
       "      <td>2.4e-05</td>\n",
       "      <td>-2e-05</td>\n",
       "      <td>-4.2e-06</td>\n",
       "      <td>2.2e-07</td>\n",
       "      <td>2.3e-07</td>\n",
       "      <td>-2.3e-08</td>\n",
       "    </tr>\n",
       "    <tr>\n",
       "      <th>alpha_1e-08</th>\n",
       "      <td>0.95</td>\n",
       "      <td>1.3</td>\n",
       "      <td>-1.5</td>\n",
       "      <td>1.7</td>\n",
       "      <td>-0.68</td>\n",
       "      <td>0.039</td>\n",
       "      <td>0.016</td>\n",
       "      <td>0.00016</td>\n",
       "      <td>-0.00036</td>\n",
       "      <td>-5.4e-05</td>\n",
       "      <td>-2.9e-07</td>\n",
       "      <td>1.1e-06</td>\n",
       "      <td>1.9e-07</td>\n",
       "      <td>2e-08</td>\n",
       "      <td>3.9e-09</td>\n",
       "      <td>8.2e-10</td>\n",
       "      <td>-4.6e-10</td>\n",
       "    </tr>\n",
       "    <tr>\n",
       "      <th>alpha_0.0001</th>\n",
       "      <td>0.96</td>\n",
       "      <td>0.56</td>\n",
       "      <td>0.55</td>\n",
       "      <td>-0.13</td>\n",
       "      <td>-0.026</td>\n",
       "      <td>-0.0028</td>\n",
       "      <td>-0.00011</td>\n",
       "      <td>4.1e-05</td>\n",
       "      <td>1.5e-05</td>\n",
       "      <td>3.7e-06</td>\n",
       "      <td>7.4e-07</td>\n",
       "      <td>1.3e-07</td>\n",
       "      <td>1.9e-08</td>\n",
       "      <td>1.9e-09</td>\n",
       "      <td>-1.3e-10</td>\n",
       "      <td>-1.5e-10</td>\n",
       "      <td>-6.2e-11</td>\n",
       "    </tr>\n",
       "    <tr>\n",
       "      <th>alpha_0.001</th>\n",
       "      <td>1</td>\n",
       "      <td>0.82</td>\n",
       "      <td>0.31</td>\n",
       "      <td>-0.087</td>\n",
       "      <td>-0.02</td>\n",
       "      <td>-0.0028</td>\n",
       "      <td>-0.00022</td>\n",
       "      <td>1.8e-05</td>\n",
       "      <td>1.2e-05</td>\n",
       "      <td>3.4e-06</td>\n",
       "      <td>7.3e-07</td>\n",
       "      <td>1.3e-07</td>\n",
       "      <td>1.9e-08</td>\n",
       "      <td>1.7e-09</td>\n",
       "      <td>-1.5e-10</td>\n",
       "      <td>-1.4e-10</td>\n",
       "      <td>-5.2e-11</td>\n",
       "    </tr>\n",
       "    <tr>\n",
       "      <th>alpha_0.01</th>\n",
       "      <td>1.4</td>\n",
       "      <td>1.3</td>\n",
       "      <td>-0.088</td>\n",
       "      <td>-0.052</td>\n",
       "      <td>-0.01</td>\n",
       "      <td>-0.0014</td>\n",
       "      <td>-0.00013</td>\n",
       "      <td>7.2e-07</td>\n",
       "      <td>4.1e-06</td>\n",
       "      <td>1.3e-06</td>\n",
       "      <td>3e-07</td>\n",
       "      <td>5.6e-08</td>\n",
       "      <td>9e-09</td>\n",
       "      <td>1.1e-09</td>\n",
       "      <td>4.3e-11</td>\n",
       "      <td>-3.1e-11</td>\n",
       "      <td>-1.5e-11</td>\n",
       "    </tr>\n",
       "    <tr>\n",
       "      <th>alpha_1</th>\n",
       "      <td>5.6</td>\n",
       "      <td>0.97</td>\n",
       "      <td>-0.14</td>\n",
       "      <td>-0.019</td>\n",
       "      <td>-0.003</td>\n",
       "      <td>-0.00047</td>\n",
       "      <td>-7e-05</td>\n",
       "      <td>-9.9e-06</td>\n",
       "      <td>-1.3e-06</td>\n",
       "      <td>-1.4e-07</td>\n",
       "      <td>-9.3e-09</td>\n",
       "      <td>1.3e-09</td>\n",
       "      <td>7.8e-10</td>\n",
       "      <td>2.4e-10</td>\n",
       "      <td>6.2e-11</td>\n",
       "      <td>1.4e-11</td>\n",
       "      <td>3.2e-12</td>\n",
       "    </tr>\n",
       "    <tr>\n",
       "      <th>alpha_5</th>\n",
       "      <td>14</td>\n",
       "      <td>0.55</td>\n",
       "      <td>-0.059</td>\n",
       "      <td>-0.0085</td>\n",
       "      <td>-0.0014</td>\n",
       "      <td>-0.00024</td>\n",
       "      <td>-4.1e-05</td>\n",
       "      <td>-6.9e-06</td>\n",
       "      <td>-1.1e-06</td>\n",
       "      <td>-1.9e-07</td>\n",
       "      <td>-3.1e-08</td>\n",
       "      <td>-5.1e-09</td>\n",
       "      <td>-8.2e-10</td>\n",
       "      <td>-1.3e-10</td>\n",
       "      <td>-2e-11</td>\n",
       "      <td>-3e-12</td>\n",
       "      <td>-4.2e-13</td>\n",
       "    </tr>\n",
       "    <tr>\n",
       "      <th>alpha_10</th>\n",
       "      <td>18</td>\n",
       "      <td>0.4</td>\n",
       "      <td>-0.037</td>\n",
       "      <td>-0.0055</td>\n",
       "      <td>-0.00095</td>\n",
       "      <td>-0.00017</td>\n",
       "      <td>-3e-05</td>\n",
       "      <td>-5.2e-06</td>\n",
       "      <td>-9.2e-07</td>\n",
       "      <td>-1.6e-07</td>\n",
       "      <td>-2.9e-08</td>\n",
       "      <td>-5.1e-09</td>\n",
       "      <td>-9.1e-10</td>\n",
       "      <td>-1.6e-10</td>\n",
       "      <td>-2.9e-11</td>\n",
       "      <td>-5.1e-12</td>\n",
       "      <td>-9.1e-13</td>\n",
       "    </tr>\n",
       "    <tr>\n",
       "      <th>alpha_20</th>\n",
       "      <td>23</td>\n",
       "      <td>0.28</td>\n",
       "      <td>-0.022</td>\n",
       "      <td>-0.0034</td>\n",
       "      <td>-0.0006</td>\n",
       "      <td>-0.00011</td>\n",
       "      <td>-2e-05</td>\n",
       "      <td>-3.6e-06</td>\n",
       "      <td>-6.6e-07</td>\n",
       "      <td>-1.2e-07</td>\n",
       "      <td>-2.2e-08</td>\n",
       "      <td>-4e-09</td>\n",
       "      <td>-7.5e-10</td>\n",
       "      <td>-1.4e-10</td>\n",
       "      <td>-2.5e-11</td>\n",
       "      <td>-4.7e-12</td>\n",
       "      <td>-8.7e-13</td>\n",
       "    </tr>\n",
       "  </tbody>\n",
       "</table>\n",
       "</div>"
      ],
      "text/plain": [
       "              rss intercept coef_x_1 coef_x_2 coef_x_3 coef_x_4 coef_x_5  \\\n",
       "alpha_1e-15  0.87        94   -3e+02  3.8e+02 -2.4e+02       67    -0.26   \n",
       "alpha_1e-10  0.92        11      -29       31      -15      2.9     0.17   \n",
       "alpha_1e-08  0.95       1.3     -1.5      1.7    -0.68    0.039    0.016   \n",
       "alpha_0.0001 0.96      0.56     0.55    -0.13   -0.026  -0.0028 -0.00011   \n",
       "alpha_0.001     1      0.82     0.31   -0.087    -0.02  -0.0028 -0.00022   \n",
       "alpha_0.01    1.4       1.3   -0.088   -0.052    -0.01  -0.0014 -0.00013   \n",
       "alpha_1       5.6      0.97    -0.14   -0.019   -0.003 -0.00047   -7e-05   \n",
       "alpha_5        14      0.55   -0.059  -0.0085  -0.0014 -0.00024 -4.1e-05   \n",
       "alpha_10       18       0.4   -0.037  -0.0055 -0.00095 -0.00017   -3e-05   \n",
       "alpha_20       23      0.28   -0.022  -0.0034  -0.0006 -0.00011   -2e-05   \n",
       "\n",
       "             coef_x_6 coef_x_7 coef_x_8 coef_x_9 coef_x_10 coef_x_11  \\\n",
       "alpha_1e-15      -4.4     0.56     0.14   -0.023   -0.0057   0.00094   \n",
       "alpha_1e-10    -0.091   -0.011    0.002  0.00064   2.4e-05    -2e-05   \n",
       "alpha_1e-08   0.00016 -0.00036 -5.4e-05 -2.9e-07   1.1e-06   1.9e-07   \n",
       "alpha_0.0001  4.1e-05  1.5e-05  3.7e-06  7.4e-07   1.3e-07   1.9e-08   \n",
       "alpha_0.001   1.8e-05  1.2e-05  3.4e-06  7.3e-07   1.3e-07   1.9e-08   \n",
       "alpha_0.01    7.2e-07  4.1e-06  1.3e-06    3e-07   5.6e-08     9e-09   \n",
       "alpha_1      -9.9e-06 -1.3e-06 -1.4e-07 -9.3e-09   1.3e-09   7.8e-10   \n",
       "alpha_5      -6.9e-06 -1.1e-06 -1.9e-07 -3.1e-08  -5.1e-09  -8.2e-10   \n",
       "alpha_10     -5.2e-06 -9.2e-07 -1.6e-07 -2.9e-08  -5.1e-09  -9.1e-10   \n",
       "alpha_20     -3.6e-06 -6.6e-07 -1.2e-07 -2.2e-08    -4e-09  -7.5e-10   \n",
       "\n",
       "             coef_x_12 coef_x_13 coef_x_14 coef_x_15  \n",
       "alpha_1e-15    0.00016    -4e-05   2.3e-06  -1.5e-09  \n",
       "alpha_1e-10   -4.2e-06   2.2e-07   2.3e-07  -2.3e-08  \n",
       "alpha_1e-08      2e-08   3.9e-09   8.2e-10  -4.6e-10  \n",
       "alpha_0.0001   1.9e-09  -1.3e-10  -1.5e-10  -6.2e-11  \n",
       "alpha_0.001    1.7e-09  -1.5e-10  -1.4e-10  -5.2e-11  \n",
       "alpha_0.01     1.1e-09   4.3e-11  -3.1e-11  -1.5e-11  \n",
       "alpha_1        2.4e-10   6.2e-11   1.4e-11   3.2e-12  \n",
       "alpha_5       -1.3e-10    -2e-11    -3e-12  -4.2e-13  \n",
       "alpha_10      -1.6e-10  -2.9e-11  -5.1e-12  -9.1e-13  \n",
       "alpha_20      -1.4e-10  -2.5e-11  -4.7e-12  -8.7e-13  "
      ]
     },
     "execution_count": 16,
     "metadata": {},
     "output_type": "execute_result"
    }
   ],
   "source": [
    "#Set the display format to be scientific for ease of analysis\n",
    "pd.options.display.float_format = '{:,.2g}'.format\n",
    "coef_matrix_ridge"
   ]
  },
  {
   "cell_type": "code",
   "execution_count": 18,
   "metadata": {
    "collapsed": false
   },
   "outputs": [
    {
     "data": {
      "text/html": [
       "<img src=\"http://i0.wp.com/www.analyticsvidhya.com/wp-content/uploads/2016/01/5.-ridge-table_modified.png?resize720%2C234\"/>"
      ],
      "text/plain": [
       "<IPython.core.display.Image object>"
      ]
     },
     "execution_count": 18,
     "metadata": {},
     "output_type": "execute_result"
    }
   ],
   "source": [
    "Image(url=\"http://i0.wp.com/www.analyticsvidhya.com/wp-content/uploads/2016/01/5.-ridge-table_modified.png?resize720%2C234\")"
   ]
  },
  {
   "cell_type": "code",
   "execution_count": 19,
   "metadata": {
    "collapsed": false
   },
   "outputs": [
    {
     "data": {
      "text/plain": [
       "alpha_1e-15     0\n",
       "alpha_1e-10     0\n",
       "alpha_1e-08     0\n",
       "alpha_0.0001    0\n",
       "alpha_0.001     0\n",
       "alpha_0.01      0\n",
       "alpha_1         0\n",
       "alpha_5         0\n",
       "alpha_10        0\n",
       "alpha_20        0\n",
       "dtype: int64"
      ]
     },
     "execution_count": 19,
     "metadata": {},
     "output_type": "execute_result"
    }
   ],
   "source": [
    "coef_matrix_ridge.apply(lambda x: sum(x.values==0),axis=1)\n",
    "# coefficients are NOT zeros"
   ]
  },
  {
   "cell_type": "markdown",
   "metadata": {},
   "source": [
    "## Lasso Regularisation"
   ]
  },
  {
   "cell_type": "code",
   "execution_count": 20,
   "metadata": {
    "collapsed": true
   },
   "outputs": [],
   "source": [
    "from sklearn.linear_model import Lasso\n",
    "def lasso_regression(data, predictors, alpha, models_to_plot={}):\n",
    "    #Fit the model\n",
    "    lassoreg = Lasso(alpha=alpha,normalize=True, max_iter=1e5)\n",
    "    lassoreg.fit(data[predictors],data['y'])\n",
    "    y_pred = lassoreg.predict(data[predictors])\n",
    "    \n",
    "    #Check if a plot is to be made for the entered alpha\n",
    "    if alpha in models_to_plot:\n",
    "        plt.subplot(models_to_plot[alpha])\n",
    "        plt.tight_layout()\n",
    "        plt.plot(data['x'],y_pred)\n",
    "        plt.plot(data['x'],data['y'],'.')\n",
    "        plt.title('Plot for alpha: %.3g'%alpha)\n",
    "    \n",
    "    #Return the result in pre-defined format\n",
    "    rss = sum((y_pred-data['y'])**2)\n",
    "    ret = [rss]\n",
    "    ret.extend([lassoreg.intercept_])\n",
    "    ret.extend(lassoreg.coef_)\n",
    "    return ret"
   ]
  },
  {
   "cell_type": "code",
   "execution_count": 21,
   "metadata": {
    "collapsed": false
   },
   "outputs": [
    {
     "name": "stderr",
     "output_type": "stream",
     "text": [
      "//anaconda/lib/python2.7/site-packages/sklearn/linear_model/coordinate_descent.py:466: ConvergenceWarning: Objective did not converge. You might want to increase the number of iterations\n",
      "  ConvergenceWarning)\n"
     ]
    },
    {
     "data": {
      "image/png": "[encoded data removed]",
      "text/plain": [
       "<matplotlib.figure.Figure at 0x11d793510>"
      ]
     },
     "metadata": {},
     "output_type": "display_data"
    }
   ],
   "source": [
    "#Initialize predictors to all 15 powers of x\n",
    "predictors=['x']\n",
    "predictors.extend(['x_%d'%i for i in range(2,16)])\n",
    "\n",
    "#Define the alpha values to test\n",
    "alpha_lasso = [1e-15, 1e-10, 1e-8, 1e-5,1e-4, 1e-3,1e-2, 1, 5, 10]\n",
    "\n",
    "#Initialize the dataframe to store coefficients\n",
    "col = ['rss','intercept'] + ['coef_x_%d'%i for i in range(1,16)]\n",
    "ind = ['alpha_%.2g'%alpha_lasso[i] for i in range(0,10)]\n",
    "coef_matrix_lasso = pd.DataFrame(index=ind, columns=col)\n",
    "\n",
    "#Define the models to plot\n",
    "models_to_plot = {1e-10:231, 1e-5:232,1e-4:233, 1e-3:234, 1e-2:235, 1:236}\n",
    "\n",
    "#Iterate over the 10 alpha values:\n",
    "for i in range(10):\n",
    "    coef_matrix_lasso.iloc[i,] = lasso_regression(data, predictors, alpha_lasso[i], models_to_plot)"
   ]
  },
  {
   "cell_type": "code",
   "execution_count": 23,
   "metadata": {
    "collapsed": false
   },
   "outputs": [
    {
     "data": {
      "text/html": [
       "<img src=\"http://i0.wp.com/www.analyticsvidhya.com/wp-content/uploads/2016/01/8.-lasso-table_modified.png?resize=1024%2C334\"/>"
      ],
      "text/plain": [
       "<IPython.core.display.Image object>"
      ]
     },
     "execution_count": 23,
     "metadata": {},
     "output_type": "execute_result"
    }
   ],
   "source": [
    "Image(url=\"http://i0.wp.com/www.analyticsvidhya.com/wp-content/uploads/2016/01/8.-lasso-table_modified.png?resize=1024%2C334\")"
   ]
  },
  {
   "cell_type": "code",
   "execution_count": 24,
   "metadata": {
    "collapsed": false
   },
   "outputs": [
    {
     "data": {
      "text/plain": [
       "alpha_1e-15      0\n",
       "alpha_1e-10      0\n",
       "alpha_1e-08      0\n",
       "alpha_1e-05      8\n",
       "alpha_0.0001    10\n",
       "alpha_0.001     12\n",
       "alpha_0.01      13\n",
       "alpha_1         15\n",
       "alpha_5         15\n",
       "alpha_10        15\n",
       "dtype: int64"
      ]
     },
     "execution_count": 24,
     "metadata": {},
     "output_type": "execute_result"
    }
   ],
   "source": [
    "coef_matrix_lasso.apply(lambda x: sum(x.values==0),axis=1)\n",
    "# a lot of zeros"
   ]
  },
  {
   "cell_type": "markdown",
   "metadata": {},
   "source": [
    "### Bias-variance trade-off\n",
    "\n",
    "Our goal is to locate the optimum model complexity, and thus regularization is useful when we believe our model is too complex.\n",
    "\n",
    "<img src=\"19_bias_variance.png\">"
   ]
  },
  {
   "cell_type": "markdown",
   "metadata": {},
   "source": [
    "### Standardizing features\n",
    "\n",
    "It's usually recommended to standardize your features when using regularization.\n",
    "\n",
    "**Question:** Why would that be the case?\n",
    "\n",
    "**Answer:** If you don't standardize, features would be penalized simply because of their scale. Also, standardizing avoids penalizing the intercept (which wouldn't make intuitive sense)."
   ]
  },
  {
   "cell_type": "markdown",
   "metadata": {},
   "source": [
    "### Ridge vs Lasso path diagrams\n",
    "\n",
    "<img src=\"19_ridge_lasso_path.png\">"
   ]
  },
  {
   "cell_type": "markdown",
   "metadata": {},
   "source": [
    "## A priori distribution\n",
    "We could have some knowledge about a priori distribution in the data\n",
    "<img src=\"prior.png\">"
   ]
  },
  {
   "cell_type": "markdown",
   "metadata": {},
   "source": [
    "Let us imagine that you want to infer some parameter $\\beta$ from some observed input-output pairs $(x_1,y_1)\\dots,(x_N,y_N)$. Let as assume that the outputs are linearly related to the inputs via $\\beta$ and that the data are corrupted by some noise $\\epsilon$:\n",
    "\n",
    "$$y_n = \\beta x_n + \\epsilon,$$\n",
    "\n",
    "where $\\epsilon$ is Gaussian noise with mean $0$ and variance $\\sigma^2$.\n",
    "This gives raise to a Gaussian likelihood:\n",
    "\n",
    "$$\\prod_{n=1}^N \\mathcal{N}(y_n|\\beta x_n,\\sigma^2).$$\n",
    "\n",
    "Let us regularise parameter $\\beta$ by imposing the Gaussian prior $\\mathcal{N}(\\beta|0,\\lambda^{-1}),$\n",
    "\n",
    "where $\\lambda$ is a strictly positive scalar.\n",
    "Hence, combining the likelihood and the prior we simply have:\n",
    "\n",
    "$$\\prod_{n=1}^N \\mathcal{N}(y_n|\\beta x_n,\\sigma^2) \\mathcal{N}(\\beta|0,\\lambda^{-1}).$$\n",
    "\n",
    "\n",
    "Let us take the logarithm of the above expression. Dropping some constants we get:\n",
    "\n",
    "\n",
    "$$\\sum_{n=1}^N -\\frac{1}{\\sigma^2}(y_n-\\beta x_n)^2 - \\lambda \\beta + \\mbox{const}.$$\n",
    "\n",
    "If we maximise the above expression with respect to $\\beta$ we get the so called maximum a-posteriori estimate for $\\beta$, or MAP estimate for short. In this expression it becomes apparent why the Gaussian prior can be interpreted as a L2 regularisation term."
   ]
  },
  {
   "cell_type": "markdown",
   "metadata": {},
   "source": [
    "## Logistic Regression\n",
    "**Important!** Despite of the name (\"regression\"), LogReg is a classifier!"
   ]
  },
  {
   "cell_type": "markdown",
   "metadata": {},
   "source": [
    "Where we get probabilities from in LogReg\n",
    "\n",
    "<img src=\"logistic.png\">\n",
    "\n",
    "Let's try to derive Hessian for Logistic Regression\n",
    "<img src=\"hessian.png\">\n",
    "\n",
    "Finally, let's show that it's positive definite\n",
    "<img src=\"hessian2.png\">"
   ]
  },
  {
   "cell_type": "code",
   "execution_count": 2,
   "metadata": {
    "collapsed": false
   },
   "outputs": [
    {
     "name": "stdout",
     "output_type": "stream",
     "text": [
      "Populating the interactive namespace from numpy and matplotlib\n"
     ]
    },
    {
     "name": "stderr",
     "output_type": "stream",
     "text": [
      "WARNING: pylab import has clobbered these variables: ['product', 'copy', 'seed', 'pylab']\n",
      "`%matplotlib` prevents importing * from pylab and numpy\n"
     ]
    }
   ],
   "source": [
    "from collections import Counter\n",
    "from functools import partial\n",
    "from itertools import product, izip\n",
    "\n",
    "from IPython.display import Image, SVG\n",
    "import numpy as np\n",
    "import pandas as pd\n",
    "import pylab\n",
    "from random import seed\n",
    "\n",
    "from sklearn import datasets\n",
    "from sklearn.base import BaseEstimator, ClassifierMixin\n",
    "from sklearn.cross_validation import cross_val_score, ShuffleSplit\n",
    "from sklearn.linear_model import SGDClassifier\n",
    "from sklearn.metrics import accuracy_score\n",
    "from sklearn.neighbors import KNeighborsClassifier\n",
    "from sklearn.svm import SVC, LinearSVC\n",
    "from sklearn.tree import DecisionTreeClassifier, ExtraTreeClassifier\n",
    "\n",
    "%pylab inline\n",
    "\n",
    "import copy\n",
    "import sys\n",
    "import time\n",
    "from cvxopt import matrix, solvers"
   ]
  },
  {
   "cell_type": "markdown",
   "metadata": {},
   "source": []
  },
  {
   "cell_type": "markdown",
   "metadata": {},
   "source": [
    "## Support Vector Machine (SVM)"
   ]
  },
  {
   "cell_type": "markdown",
   "metadata": {},
   "source": [
    "### Normalization:\n",
    "\n",
    "$$ b = w_0 $$\n",
    "\n",
    "$$ \\min_{i = 1, \\ldots, l} y_i (<w, x_i> - w_0)  = 1 $$"
   ]
  },
  {
   "cell_type": "code",
   "execution_count": 6,
   "metadata": {
    "collapsed": false
   },
   "outputs": [
    {
     "data": {
      "text/html": [
       "<img src=\"http://upload.wikimedia.org/wikipedia/commons/2/2a/Svm_max_sep_hyperplane_with_margin.png\"/>"
      ],
      "text/plain": [
       "<IPython.core.display.Image object>"
      ]
     },
     "execution_count": 6,
     "metadata": {},
     "output_type": "execute_result"
    }
   ],
   "source": [
    "Image(url=\"http://upload.wikimedia.org/wikipedia/commons/2/2a/Svm_max_sep_hyperplane_with_margin.png\")\n",
    "# maximal margin"
   ]
  },
  {
   "cell_type": "markdown",
   "metadata": {},
   "source": [
    "### Quadratic Programming (QP) Problem:\n",
    "\n",
    "Linear Separability\n",
    "\n",
    "\\begin{cases}\n",
    "    <w, w> \\to \\min\\limits_{w} \\\\\n",
    "    y_i (<w, x_i> - w_0) \\geq 1, i = 1, \\ldots, l\n",
    "\\end{cases}\n",
    "\n",
    "Linear Inseparability\n",
    "\n",
    "\\begin{cases}\n",
    "    \\frac{1}{2} <w, w> + C \\sum\\limits_{i=1}^{l} \\xi_i \\to \\min\\limits_{w, \\xi} \\\\\n",
    "    y_i (<w, x_i> - w_0) \\geq 1 - \\xi_i, i = 1, \\ldots, l \\\\\n",
    "    \\xi_i \\geq 0, i = 1, \\ldots, l\n",
    "\\end{cases}\n",
    "\n",
    "Linear Model Equivalence **(Student Assignment)**\n",
    "$$ Q(w, w_0) = \\sum\\limits_{i=1}^{l} (1 - M_i(w, w_0))_{+} + \\frac{1}{2C} \\|w\\|^2 \\to \\min\\limits_{w, w_0} $$"
   ]
  },
  {
   "cell_type": "markdown",
   "metadata": {},
   "source": [
    "### Dual Form\n",
    "\n",
    "Before:\n",
    "\\begin{cases}\n",
    "    \\sum f(x_i) \\to \\min\\limits_{x} \\\\\n",
    "    h(x_i) \\geq 0, i = 1, \\ldots, n\n",
    "\\end{cases}\n",
    "\n",
    "After:\n",
    "\\begin{cases}\n",
    "    \\sum f(x_i) - \\lambda_i h(x_i) \\to \\min\\limits_{x} \\max\\limits_{\\lambda} \\\\\n",
    "    h(x_i) \\geq 0, i = 1, \\ldots, n \\\\\n",
    "    \\lambda_i \\geq 0, i = 1, \\ldots, n \\\\\n",
    "    \\lambda_i = 0 \\ or \\  h(x_i) = 0 \\ (\\sum \\lambda_i h(x_i) = 0)\n",
    "\\end{cases}\n",
    "\n",
    "Calculate derivatives over x and see corollary.\n",
    "\n",
    "**(Optional Student Assignment)**\n",
    "\\begin{cases}\n",
    "    -\\sum\\limits_{i=1}^{l} \\lambda_i + \\frac{1}{2} \\sum\\limits_{i=1}^{l} \\sum\\limits_{j=1}^{l} \\lambda_i \\lambda_j y_i y_j <x_i, x_j> \\to \\min\\limits_{\\lambda} \\\\\n",
    "    \\sum\\limits_{i=1}^{l} \\lambda_i y_i = 0 \\\\\n",
    "    0 \\leq \\lambda_i \\geq C, i = 1, \\ldots, l\n",
    "\\end{cases}"
   ]
  },
  {
   "cell_type": "markdown",
   "metadata": {},
   "source": [
    "### Decision Rule\n",
    "\n",
    "$$ w_0 = med \\{ <w, x_i> - y_i \\ |\\  \\lambda_i > 0 \\} $$\n",
    "$$ a(x) = sign (\\sum\\limits_{i = 1}^{l} \\lambda_i y_i <x_i, x> - w_0 ) $$"
   ]
  },
  {
   "cell_type": "markdown",
   "metadata": {},
   "source": [
    "## Non-Linear SVM (Kernel Trick)\n",
    "\n",
    "Kernel fuction $ K : X \\times X \\to R $ if $ K(x, x') = <\\phi(x), \\phi(x')> $, where $ \\phi : X \\to H $ and H is space with inner product"
   ]
  },
  {
   "cell_type": "code",
   "execution_count": 3,
   "metadata": {
    "collapsed": false
   },
   "outputs": [
    {
     "data": {
      "text/html": [
       "<img src=\"http://upload.wikimedia.org/wikipedia/commons/1/1b/Kernel_Machine.png\"/>"
      ],
      "text/plain": [
       "<IPython.core.display.Image object>"
      ]
     },
     "execution_count": 3,
     "metadata": {},
     "output_type": "execute_result"
    }
   ],
   "source": [
    "Image(url=\"http://upload.wikimedia.org/wikipedia/commons/1/1b/Kernel_Machine.png\")"
   ]
  },
  {
   "cell_type": "markdown",
   "metadata": {
    "collapsed": true
   },
   "source": [
    "## Example of USE"
   ]
  },
  {
   "cell_type": "code",
   "execution_count": 5,
   "metadata": {
    "collapsed": false
   },
   "outputs": [
    {
     "data": {
      "text/html": [
       "<div>\n",
       "<table border=\"1\" class=\"dataframe\">\n",
       "  <thead>\n",
       "    <tr style=\"text-align: right;\">\n",
       "      <th></th>\n",
       "      <th>id</th>\n",
       "      <th>label</th>\n",
       "      <th>feat1</th>\n",
       "      <th>feat2</th>\n",
       "      <th>feat3</th>\n",
       "      <th>feat4</th>\n",
       "      <th>feat5</th>\n",
       "      <th>feat6</th>\n",
       "      <th>feat7</th>\n",
       "      <th>feat8</th>\n",
       "      <th>...</th>\n",
       "      <th>feat208</th>\n",
       "      <th>feat209</th>\n",
       "      <th>feat210</th>\n",
       "      <th>feat211</th>\n",
       "      <th>feat212</th>\n",
       "      <th>feat213</th>\n",
       "      <th>feat214</th>\n",
       "      <th>feat215</th>\n",
       "      <th>feat216</th>\n",
       "      <th>feat217</th>\n",
       "    </tr>\n",
       "  </thead>\n",
       "  <tbody>\n",
       "    <tr>\n",
       "      <th>0</th>\n",
       "      <td>1</td>\n",
       "      <td>1</td>\n",
       "      <td>0</td>\n",
       "      <td>0</td>\n",
       "      <td>0</td>\n",
       "      <td>6</td>\n",
       "      <td>0</td>\n",
       "      <td>1</td>\n",
       "      <td>0</td>\n",
       "      <td>0</td>\n",
       "      <td>...</td>\n",
       "      <td>0</td>\n",
       "      <td>0</td>\n",
       "      <td>0</td>\n",
       "      <td>1</td>\n",
       "      <td>2</td>\n",
       "      <td>26</td>\n",
       "      <td>0</td>\n",
       "      <td>0</td>\n",
       "      <td>22</td>\n",
       "      <td>NaN</td>\n",
       "    </tr>\n",
       "    <tr>\n",
       "      <th>1</th>\n",
       "      <td>2</td>\n",
       "      <td>1</td>\n",
       "      <td>0</td>\n",
       "      <td>0</td>\n",
       "      <td>1</td>\n",
       "      <td>1</td>\n",
       "      <td>0</td>\n",
       "      <td>0</td>\n",
       "      <td>0</td>\n",
       "      <td>2</td>\n",
       "      <td>...</td>\n",
       "      <td>4</td>\n",
       "      <td>0</td>\n",
       "      <td>0</td>\n",
       "      <td>0</td>\n",
       "      <td>1</td>\n",
       "      <td>0</td>\n",
       "      <td>0</td>\n",
       "      <td>0</td>\n",
       "      <td>0</td>\n",
       "      <td>NaN</td>\n",
       "    </tr>\n",
       "    <tr>\n",
       "      <th>2</th>\n",
       "      <td>3</td>\n",
       "      <td>1</td>\n",
       "      <td>3</td>\n",
       "      <td>1</td>\n",
       "      <td>0</td>\n",
       "      <td>4</td>\n",
       "      <td>1</td>\n",
       "      <td>2</td>\n",
       "      <td>1</td>\n",
       "      <td>0</td>\n",
       "      <td>...</td>\n",
       "      <td>1</td>\n",
       "      <td>2</td>\n",
       "      <td>1</td>\n",
       "      <td>2</td>\n",
       "      <td>2</td>\n",
       "      <td>5</td>\n",
       "      <td>1</td>\n",
       "      <td>0</td>\n",
       "      <td>1</td>\n",
       "      <td>NaN</td>\n",
       "    </tr>\n",
       "    <tr>\n",
       "      <th>3</th>\n",
       "      <td>4</td>\n",
       "      <td>1</td>\n",
       "      <td>1</td>\n",
       "      <td>2</td>\n",
       "      <td>0</td>\n",
       "      <td>2</td>\n",
       "      <td>0</td>\n",
       "      <td>2</td>\n",
       "      <td>3</td>\n",
       "      <td>1</td>\n",
       "      <td>...</td>\n",
       "      <td>3</td>\n",
       "      <td>0</td>\n",
       "      <td>2</td>\n",
       "      <td>5</td>\n",
       "      <td>0</td>\n",
       "      <td>5</td>\n",
       "      <td>3</td>\n",
       "      <td>1</td>\n",
       "      <td>4</td>\n",
       "      <td>NaN</td>\n",
       "    </tr>\n",
       "    <tr>\n",
       "      <th>4</th>\n",
       "      <td>5</td>\n",
       "      <td>0</td>\n",
       "      <td>0</td>\n",
       "      <td>1</td>\n",
       "      <td>0</td>\n",
       "      <td>0</td>\n",
       "      <td>0</td>\n",
       "      <td>0</td>\n",
       "      <td>0</td>\n",
       "      <td>2</td>\n",
       "      <td>...</td>\n",
       "      <td>1</td>\n",
       "      <td>1</td>\n",
       "      <td>0</td>\n",
       "      <td>1</td>\n",
       "      <td>2</td>\n",
       "      <td>0</td>\n",
       "      <td>0</td>\n",
       "      <td>0</td>\n",
       "      <td>0</td>\n",
       "      <td>NaN</td>\n",
       "    </tr>\n",
       "  </tbody>\n",
       "</table>\n",
       "<p>5 rows × 219 columns</p>\n",
       "</div>"
      ],
      "text/plain": [
       "   id  label  feat1  feat2  feat3  feat4  feat5  feat6  feat7  feat8   ...     \\\n",
       "0   1      1      0      0      0      6      0      1      0      0   ...      \n",
       "1   2      1      0      0      1      1      0      0      0      2   ...      \n",
       "2   3      1      3      1      0      4      1      2      1      0   ...      \n",
       "3   4      1      1      2      0      2      0      2      3      1   ...      \n",
       "4   5      0      0      1      0      0      0      0      0      2   ...      \n",
       "\n",
       "   feat208  feat209  feat210  feat211  feat212  feat213  feat214  feat215  \\\n",
       "0        0        0        0        1        2       26        0        0   \n",
       "1        4        0        0        0        1        0        0        0   \n",
       "2        1        2        1        2        2        5        1        0   \n",
       "3        3        0        2        5        0        5        3        1   \n",
       "4        1        1        0        1        2        0        0        0   \n",
       "\n",
       "   feat216  feat217  \n",
       "0       22      NaN  \n",
       "1        0      NaN  \n",
       "2        1      NaN  \n",
       "3        4      NaN  \n",
       "4        0      NaN  \n",
       "\n",
       "[5 rows x 219 columns]"
      ]
     },
     "execution_count": 5,
     "metadata": {},
     "output_type": "execute_result"
    }
   ],
   "source": [
    "data = pd.read_csv('EKG/train.csv')\n",
    "data.head()"
   ]
  },
  {
   "cell_type": "code",
   "execution_count": 5,
   "metadata": {
    "collapsed": true
   },
   "outputs": [],
   "source": [
    "X_train = np.asarray(data[range(1, data.shape[1])], dtype = double)\n",
    "Y_train = np.asarray(data[[0]], dtype = double).ravel()"
   ]
  },
  {
   "cell_type": "code",
   "execution_count": 12,
   "metadata": {
    "collapsed": false
   },
   "outputs": [
    {
     "name": "stdout",
     "output_type": "stream",
     "text": [
      "0.887 0.0212\n",
      "0.841 0.0232\n",
      "0.830 0.0264\n",
      "0.861 0.0206\n",
      "0.856 0.0209\n",
      "0.798 0.0249\n"
     ]
    }
   ],
   "source": [
    "cv_strategy = ShuffleSplit(len(Y_train), n_iter=329, test_size=0.2, random_state=33)\n",
    "\n",
    "estimators = [\n",
    "    KNeighborsClassifier(),\n",
    "    DecisionTreeClassifier(),\n",
    "    ExtraTreeClassifier(),\n",
    "    SGDClassifier(n_iter=1000),\n",
    "    LinearSVC(),\n",
    "    SVC(), # kernel = 'rbf'\n",
    "]\n",
    "\n",
    "for estimator in estimators:\n",
    "    scoring = cross_val_score(estimator, X_train, Y_train, scoring='accuracy', cv=cv_strategy)\n",
    "    print '%.3lf' % scoring.mean(), '%.4lf' % scoring.std()"
   ]
  },
  {
   "cell_type": "markdown",
   "metadata": {},
   "source": [
    "## Explore SVM"
   ]
  },
  {
   "cell_type": "markdown",
   "metadata": {},
   "source": [
    "### QP-solver (cvxopt)\n",
    "\n",
    "* [Библиотека CVXOPT](http://cvxopt.org/)\n",
    "* [Документация библиотеки](http://cvxopt.org/documentation/index.html)\n",
    "* [Разреженные и плотные матрицы](http://abel.ee.ucla.edu/cvxopt/userguide/matrices.html)"
   ]
  },
  {
   "cell_type": "code",
   "execution_count": 74,
   "metadata": {
    "collapsed": false
   },
   "outputs": [],
   "source": [
    "def smo_svm(X, Y, C = 1.0, kernl = lambda a, b : np.dot(a.T, b), max_passes = 100, tol = 1e-12):\n",
    "    \n",
    "    lambd = np.zeros(len(X))\n",
    "    b = 0.0\n",
    "    \n",
    "    passes = 0\n",
    "    iters = 0\n",
    "    while passes < max_passes:\n",
    "        \n",
    "        if iters > 10000:\n",
    "            print \"10000 iters!!!\"\n",
    "            break\n",
    "            \n",
    "        num_changed_lambds = 0\n",
    "        \n",
    "        for i in xrange(len(X) - 1):\n",
    "\n",
    "            Ei = svm_func(X[i,:], X, Y, lambd, b) - Y[i]\n",
    "            \n",
    "            if Y[i] * Ei < -tol and lambd[i] < C or Y[i] * Ei > tol and lambd[i] > 0.0:\n",
    "                j = np.random.randint(i + 1, len(X))\n",
    "                \n",
    "                #print \"optimizing %d %d\" % (i, j)\n",
    "                \n",
    "                Ej = svm_func(X[j,:], X, Y, lambd, b) - Y[j]\n",
    "                lambd_i_old = lambd[i]\n",
    "                lambd_j_old = lambd[j]\n",
    "                if (Y[i] != Y[j]):\n",
    "                    L = max(0,lambd[j] - lambd[i])\n",
    "                    H = min(C, C + lambd[j] - lambd[i])\n",
    "                else:\n",
    "                    L = max(0,lambd[i] + lambd[j] - C)\n",
    "                    H = min(C,lambd[i] + lambd[j])\n",
    "                    \n",
    "                if (L == H):\n",
    "                    continue\n",
    "                    \n",
    "                nu = 2 * kernl(X[i,:], X[j,:]) - kernl(X[i,:], X[i,:]) - kernl(X[j,:], X[j,:])\n",
    "                \n",
    "                if nu >= 0.0:\n",
    "                    continue\n",
    "                \n",
    "                lambd[j] = lambd[j] - (Y[j] * (Ei - Ej)) / (nu)\n",
    "                \n",
    "                if lambd[j] > H:\n",
    "                    lambd[j] = H\n",
    "                \n",
    "                if lambd[j] < L:\n",
    "                    lambd[j] = L\n",
    "                    \n",
    "                if abs(lambd[j] - lambd_j_old) < 1e-7:\n",
    "                    continue\n",
    "                    \n",
    "                lambd[i] = lambd[i] + Y[i] * Y[j] * (lambd_j_old - lambd[j])\n",
    "                \n",
    "                b1 = b - Ei - Y[i] * (lambd[i] - lambd_i_old) * kernl(X[i,:], X[i,:])\\\n",
    "                    - Y[j] * (lambd[j] - lambd_j_old) * kernl(X[i,:], X[j,:])\n",
    "\n",
    "                b2 = b - Ej - Y[i] * (lambd[i] - lambd_i_old) * kernl(X[i,:], X[i,:])\\\n",
    "                    - Y[j] * (lambd[j] - lambd_j_old) * kernl(X[j,:], X[j,:])\n",
    "                    \n",
    "                if 0.0 < lambd[i] and lambd[i] < C:\n",
    "                    b = b1\n",
    "                elif 0.0 < lambd[j] and lambd[j] < C:\n",
    "                    b = b2\n",
    "                else:\n",
    "                    b = (b1 + b2) / 2\n",
    "                    \n",
    "                num_changed_lambds = num_changed_lambds + 1\n",
    "            \n",
    "            iters += 1\n",
    "            if iters % 10 == 0:\n",
    "                print \"%d iters done\" % iters\n",
    "            if num_changed_lambds == 0:\n",
    "                passes += 1\n",
    "            else:\n",
    "                passes = 0\n",
    "            \n",
    "\n",
    "    return lambd, b"
   ]
  },
  {
   "cell_type": "code",
   "execution_count": 68,
   "metadata": {
    "collapsed": true
   },
   "outputs": [],
   "source": [
    "def svm_func(x, X, Y, lambd, b, ind = None, kernl = lambda a, b : np.dot(a.T, b)):\n",
    "    if ind is None:\n",
    "        ind = range(len(X));\n",
    "    res = 0.0\n",
    "    for i in xrange(len(lambd)):\n",
    "        res += lambd[i] * Y[ind[i]] * kernl(X[ind[i],:], x)\n",
    "    return res + b"
   ]
  },
  {
   "cell_type": "code",
   "execution_count": 71,
   "metadata": {
    "collapsed": false
   },
   "outputs": [],
   "source": [
    "# The real_SVM\n",
    "def the_svm(X, Y, C = 1.0, kernl = lambda a , b : np.dot(a.T, b)):\n",
    "\n",
    "    n_samples, n_features = X.shape\n",
    "\n",
    "    M = np.zeros((n_samples, n_samples))\n",
    "\n",
    "    for i in xrange(len(X)):\n",
    "        for j in xrange(len(X)):\n",
    "            M[i, j] = kernl(X[i,:], X[j,:]) * Y[i] * Y[j]\n",
    "    \n",
    "    P = cvxopt.matrix(M)\n",
    "    q = cvxopt.matrix(np.ones(n_samples) * -1)\n",
    "    A = cvxopt.matrix(Y, (1,n_samples))\n",
    "    b = cvxopt.matrix(0.0)\n",
    "\n",
    "    tmp1 = np.diag(np.ones(n_samples) * -1)\n",
    "    tmp2 = np.identity(n_samples)\n",
    "    G = cvxopt.matrix(np.vstack((tmp1, tmp2)))\n",
    "    tmp1 = np.zeros(n_samples)\n",
    "    tmp2 = np.ones(n_samples) * C\n",
    "    h = cvxopt.matrix(np.hstack((tmp1, tmp2)))\n",
    "\n",
    "    solution = cvxopt.solvers.qp(P, q, G, h, A, b)\n",
    "    lambd = np.ravel(solution['x'])\n",
    "\n",
    "    sv = lambd > 1e-5\n",
    "    ind = np.arange(len(lambd))[sv]\n",
    "    lambd = lambd[sv]\n",
    "    svec = X[sv]\n",
    "    svec_y = Y[sv]\n",
    "\n",
    "    b = 0.0\n",
    "    for n in range(len(lambd)):\n",
    "        b += sv_y[n]\n",
    "        b -= np.sum(lambd * sv_y * K[ind[n],sv])\n",
    "    b /= len(lambd)\n",
    "    \n",
    "    return lambd, b, sv, sv_y, ind"
   ]
  },
  {
   "cell_type": "code",
   "execution_count": 16,
   "metadata": {
    "collapsed": true
   },
   "outputs": [],
   "source": [
    "x = np.array([[0.0, 0.0], [1.0, 0.0], [0.0, 1.0], [1.0, 1.4]])\n",
    "y = np.array([1.0, -1.0, 1.0, -1.0])"
   ]
  },
  {
   "cell_type": "code",
   "execution_count": 80,
   "metadata": {
    "collapsed": false
   },
   "outputs": [
    {
     "name": "stdout",
     "output_type": "stream",
     "text": [
      "10 iters done\n",
      "20 iters done\n",
      "30 iters done\n",
      "40 iters done\n",
      "50 iters done\n",
      "60 iters done\n",
      "70 iters done\n",
      "80 iters done\n",
      "90 iters done\n",
      "100 iters done\n",
      "110 iters done\n",
      "120 iters done\n",
      "130 iters done\n",
      "140 iters done\n",
      "150 iters done\n",
      "160 iters done\n",
      "170 iters done\n",
      "180 iters done\n",
      "190 iters done\n",
      "200 iters done\n",
      "210 iters done\n",
      "220 iters done\n",
      "230 iters done\n",
      "240 iters done\n",
      "250 iters done\n",
      "260 iters done\n",
      "270 iters done\n",
      "280 iters done\n",
      "290 iters done\n",
      "300 iters done\n",
      "310 iters done\n",
      "320 iters done\n",
      "330 iters done\n",
      "340 iters done\n",
      "350 iters done\n",
      "360 iters done\n",
      "370 iters done\n",
      "380 iters done\n",
      "390 iters done\n",
      "400 iters done\n",
      "410 iters done\n",
      "420 iters done\n",
      "430 iters done\n",
      "440 iters done\n",
      "450 iters done\n",
      "460 iters done\n",
      "470 iters done\n",
      "480 iters done\n",
      "490 iters done\n",
      "500 iters done\n",
      "510 iters done\n",
      "520 iters done\n",
      "530 iters done\n",
      "540 iters done\n",
      "550 iters done\n",
      "560 iters done\n",
      "570 iters done\n",
      "580 iters done\n",
      "590 iters done\n",
      "600 iters done\n",
      "610 iters done\n",
      "620 iters done\n",
      "630 iters done\n",
      "640 iters done\n",
      "650 iters done\n",
      "660 iters done\n",
      "670 iters done\n",
      "680 iters done\n",
      "690 iters done\n",
      "700 iters done\n",
      "710 iters done\n",
      "720 iters done\n",
      "730 iters done\n",
      "740 iters done\n",
      "750 iters done\n",
      "760 iters done\n",
      "770 iters done\n",
      "780 iters done\n",
      "790 iters done\n",
      "800 iters done\n",
      "810 iters done\n",
      "820 iters done\n",
      "830 iters done\n"
     ]
    },
    {
     "data": {
      "text/plain": [
       "(array([  0.00000000e+00,   0.00000000e+00,   0.00000000e+00,\n",
       "          0.00000000e+00,   0.00000000e+00,   5.95021093e-01,\n",
       "          0.00000000e+00,   2.21071701e-01,   0.00000000e+00,\n",
       "          0.00000000e+00,  -2.77555756e-17,   0.00000000e+00,\n",
       "          0.00000000e+00,   0.00000000e+00,   8.16092794e-01,\n",
       "          0.00000000e+00,   0.00000000e+00,   0.00000000e+00,\n",
       "          0.00000000e+00,   0.00000000e+00]), 1.7023684028973451)"
      ]
     },
     "execution_count": 80,
     "metadata": {},
     "output_type": "execute_result"
    }
   ],
   "source": [
    "lambd, b = smo_svm(x, y, C=100.0)\n",
    "lambd, b"
   ]
  },
  {
   "cell_type": "code",
   "execution_count": 81,
   "metadata": {
    "collapsed": false
   },
   "outputs": [
    {
     "name": "stdout",
     "output_type": "stream",
     "text": [
      "[-0.62702376 -1.07471686] 1.0\n",
      "[ 0.35358482 -0.28771018] 1.0\n",
      "[-1.87149388  0.14124948] 1.0\n",
      "[ 0.72245577 -0.91814066] 1.0\n",
      "[ 0.06827933 -2.25744574] 1.0\n",
      "[ 0.27508765  0.70154289] 1.0\n",
      "[-0.08906081 -0.11936776] 1.0\n",
      "[ 1.66419971 -1.64717282] 1.0\n",
      "[-0.66956051 -1.31403275] 1.0\n",
      "[-0.0719182  -0.94743682] 1.0\n",
      "[ 3.38919641 -0.86814339] -1.0\n",
      "[ 3.46060888  0.64946771] -1.0\n",
      "[ 4.48344158  2.64238541] -1.0\n",
      "[ 2.5979519   0.62729371] -1.0\n",
      "[ 1.8986922  0.8029993] -1.0\n",
      "[ 4.76075716 -0.66235059] -1.0\n",
      "[ 3.70476536 -0.8439021 ] -1.0\n",
      "[ 2.82570262  1.38270693] -1.0\n",
      "[ 2.93905346  0.02467597] -1.0\n",
      "[ 4.18224046 -1.14067603] -1.0\n"
     ]
    },
    {
     "data": {
      "image/png": "[encoded data removed]",
      "text/plain": [
       "<matplotlib.figure.Figure at 0x17567128>"
      ]
     },
     "metadata": {},
     "output_type": "display_data"
    }
   ],
   "source": [
    "n = 10\n",
    "xx = np.linspace(-1, 3, n)\n",
    "yy = np.linspace(-1, 3, n)\n",
    "XX, YY = np.meshgrid(xx, yy)\n",
    "\n",
    "F = np.zeros_like(XX)\n",
    "for i in xrange(len(xx)):\n",
    "    for j in xrange(len(xx)):\n",
    "        F[j, i] = svm_func(np.array([xx[i], yy[j]]), x, y, lambd, b)\n",
    "\n",
    "contourf(xx, yy, F, 8, alpha=.75, cmap=cm.hot)\n",
    "clabel(contour(xx, yy, F, 8, colors='black', linewidth=.5), inline=1, fontsize=10)\n",
    "for i in xrange(len(x)):\n",
    "    if y[i] == 1.0:\n",
    "        plot(x[i,0], x[i,1], 'bo')\n",
    "        print x[i,:], y[i]\n",
    "    else:\n",
    "        plot(x[i, 0], x[i,1], 'go')\n",
    "        print x[i,:], y[i]\n",
    "        \n",
    "# Plot of SVM deviding rule"
   ]
  },
  {
   "cell_type": "code",
   "execution_count": 82,
   "metadata": {
    "collapsed": true
   },
   "outputs": [],
   "source": [
    "x = np.random.randn(20,2)\n",
    "x[10:,0] += 3\n",
    "y = np.hstack((np.ones(10), np.ones(10) * -1))"
   ]
  },
  {
   "cell_type": "code",
   "execution_count": 84,
   "metadata": {
    "collapsed": false
   },
   "outputs": [
    {
     "name": "stdout",
     "output_type": "stream",
     "text": [
      "10 iters done\n",
      "20 iters done\n",
      "30 iters done\n",
      "40 iters done\n",
      "50 iters done\n",
      "60 iters done\n",
      "70 iters done\n",
      "80 iters done\n",
      "90 iters done\n",
      "100 iters done\n",
      "110 iters done\n",
      "120 iters done\n",
      "130 iters done\n",
      "140 iters done\n",
      "150 iters done\n",
      "160 iters done\n",
      "170 iters done\n",
      "180 iters done\n",
      "190 iters done\n",
      "200 iters done\n",
      "210 iters done\n",
      "220 iters done\n",
      "230 iters done\n",
      "240 iters done\n",
      "250 iters done\n",
      "260 iters done\n",
      "270 iters done\n",
      "280 iters done\n",
      "290 iters done\n",
      "300 iters done\n",
      "310 iters done\n",
      "320 iters done\n",
      "330 iters done\n",
      "340 iters done\n",
      "350 iters done\n",
      "360 iters done\n",
      "370 iters done\n",
      "380 iters done\n",
      "390 iters done\n",
      "400 iters done\n",
      "410 iters done\n",
      "420 iters done\n",
      "430 iters done\n",
      "440 iters done\n",
      "450 iters done\n",
      "460 iters done\n",
      "470 iters done\n",
      "480 iters done\n",
      "490 iters done\n",
      "500 iters done\n",
      "510 iters done\n",
      "520 iters done\n",
      "530 iters done\n",
      "540 iters done\n",
      "550 iters done\n",
      "560 iters done\n",
      "570 iters done\n",
      "580 iters done\n",
      "590 iters done\n",
      "600 iters done\n",
      "610 iters done\n",
      "620 iters done\n"
     ]
    },
    {
     "data": {
      "text/plain": [
       "(array([  0.00000000e+00,   0.00000000e+00,   0.00000000e+00,\n",
       "          1.00000000e+01,   0.00000000e+00,   0.00000000e+00,\n",
       "          3.01573851e+00,   0.00000000e+00,   0.00000000e+00,\n",
       "          0.00000000e+00,   1.45716772e-16,   0.00000000e+00,\n",
       "          2.91433544e-16,   8.75682996e+00,   4.25890855e+00,\n",
       "          0.00000000e+00,   0.00000000e+00,   1.45716772e-16,\n",
       "          0.00000000e+00,   0.00000000e+00]), 3.9820804419272968)"
      ]
     },
     "execution_count": 84,
     "metadata": {},
     "output_type": "execute_result"
    }
   ],
   "source": [
    "lambd, b = smo_svm(x, y, C=10.0)\n",
    "lambd, b"
   ]
  },
  {
   "cell_type": "code",
   "execution_count": 86,
   "metadata": {
    "collapsed": false
   },
   "outputs": [
    {
     "data": {
      "image/png": "[encoded data removed]",
      "text/plain": [
       "<matplotlib.figure.Figure at 0x1a988320>"
      ]
     },
     "metadata": {},
     "output_type": "display_data"
    }
   ],
   "source": [
    "n = 10\n",
    "xx = np.linspace(np.min(x[:,0])-0.3, np.max(x[:,0]) + 0.3, n)\n",
    "yy = np.linspace(np.min(x[:,1])-0.3, np.max(x[:,1]) + 0.3, n)\n",
    "XX, YY = np.meshgrid(xx, yy)\n",
    "\n",
    "F = np.zeros_like(XX)\n",
    "for i in xrange(len(xx)):\n",
    "    for j in xrange(len(xx)):\n",
    "        F[j,i] = svm_func(np.array([xx[i], yy[j]]), x, y, lambd, b)\n",
    "\n",
    "contourf(xx, yy, F, 8, alpha=.75, cmap=cm.hot)\n",
    "clabel(contour(xx, yy, F, 8, colors='black', linewidth=.5), inline=1, fontsize=10)\n",
    "for i in xrange(len(x)):\n",
    "    if y[i] == 1.0:\n",
    "        plot(x[i,0], x[i,1], 'bo')\n",
    "    else:\n",
    "        plot(x[i, 0], x[i,1], 'go')"
   ]
  },
  {
   "cell_type": "code",
   "execution_count": 90,
   "metadata": {
    "collapsed": true
   },
   "outputs": [],
   "source": [
    "x = np.random.randn(20,2)\n",
    "x[10:,0] += 2\n",
    "x[10:,:] *= 1\n",
    "y = np.hstack((np.ones(10), np.ones(10) * -1))"
   ]
  },
  {
   "cell_type": "code",
   "execution_count": 91,
   "metadata": {
    "collapsed": true
   },
   "outputs": [],
   "source": [
    "def polynomial_kernel(x, y, p=2):\n",
    "    return (1 + np.dot(x, y)) ** p\n",
    "\n",
    "def gaussian_kernel(x, y, gamma=0.1):\n",
    "    return (np.exp(-gamma*np.dot(x-y, x-y)))"
   ]
  },
  {
   "cell_type": "code",
   "execution_count": 92,
   "metadata": {
    "collapsed": false
   },
   "outputs": [
    {
     "name": "stdout",
     "output_type": "stream",
     "text": [
      "10 iters done\n",
      "20 iters done\n",
      "30 iters done\n",
      "40 iters done\n",
      "50 iters done\n",
      "60 iters done\n",
      "70 iters done\n",
      "80 iters done\n",
      "90 iters done\n",
      "100 iters done\n",
      "110 iters done\n",
      "120 iters done\n",
      "130 iters done\n",
      "140 iters done\n",
      "150 iters done\n",
      "160 iters done\n",
      "170 iters done\n",
      "180 iters done\n",
      "190 iters done\n",
      "200 iters done\n",
      "210 iters done\n",
      "220 iters done\n",
      "230 iters done\n",
      "240 iters done\n",
      "250 iters done\n",
      "260 iters done\n",
      "270 iters done\n",
      "280 iters done\n",
      "290 iters done\n",
      "300 iters done\n",
      "310 iters done\n",
      "320 iters done\n",
      "330 iters done\n",
      "340 iters done\n",
      "350 iters done\n",
      "360 iters done\n",
      "370 iters done\n",
      "380 iters done\n",
      "390 iters done\n",
      "400 iters done\n",
      "410 iters done\n",
      "420 iters done\n",
      "430 iters done\n",
      "440 iters done\n",
      "450 iters done\n",
      "460 iters done\n",
      "470 iters done\n",
      "480 iters done\n",
      "490 iters done\n",
      "500 iters done\n",
      "510 iters done\n",
      "520 iters done\n",
      "530 iters done\n",
      "540 iters done\n",
      "550 iters done\n",
      "560 iters done\n",
      "570 iters done\n",
      "580 iters done\n",
      "590 iters done\n",
      "600 iters done\n",
      "610 iters done\n",
      "620 iters done\n",
      "630 iters done\n",
      "640 iters done\n",
      "650 iters done\n",
      "660 iters done\n",
      "670 iters done\n",
      "680 iters done\n",
      "690 iters done\n",
      "700 iters done\n",
      "710 iters done\n",
      "720 iters done\n",
      "730 iters done\n",
      "740 iters done\n",
      "750 iters done\n",
      "760 iters done\n",
      "770 iters done\n",
      "780 iters done\n",
      "790 iters done\n",
      "800 iters done\n",
      "810 iters done\n",
      "820 iters done\n",
      "830 iters done\n",
      "840 iters done\n",
      "850 iters done\n",
      "860 iters done\n",
      "870 iters done\n",
      "880 iters done\n",
      "890 iters done\n",
      "900 iters done\n",
      "910 iters done\n",
      "920 iters done\n",
      "930 iters done\n",
      "940 iters done\n",
      "950 iters done\n",
      "960 iters done\n",
      "970 iters done\n",
      "980 iters done\n",
      "990 iters done\n",
      "1000 iters done\n",
      "1010 iters done\n",
      "1020 iters done\n",
      "1030 iters done\n",
      "1040 iters done\n",
      "1050 iters done\n",
      "1060 iters done\n",
      "1070 iters done\n",
      "1080 iters done\n",
      "1090 iters done\n",
      "1100 iters done\n",
      "1110 iters done\n",
      "1120 iters done\n",
      "1130 iters done\n",
      "1140 iters done\n",
      "1150 iters done\n",
      "1160 iters done\n",
      "1170 iters done\n",
      "1180 iters done\n",
      "1190 iters done\n",
      "1200 iters done\n",
      "1210 iters done\n",
      "1220 iters done\n",
      "1230 iters done\n",
      "1240 iters done\n",
      "1250 iters done\n",
      "1260 iters done\n",
      "1270 iters done\n",
      "1280 iters done\n",
      "1290 iters done\n",
      "1300 iters done\n",
      "1310 iters done\n",
      "1320 iters done\n",
      "1330 iters done\n",
      "1340 iters done\n",
      "1350 iters done\n",
      "1360 iters done\n",
      "1370 iters done\n",
      "1380 iters done\n",
      "1390 iters done\n",
      "1400 iters done\n",
      "1410 iters done\n",
      "1420 iters done\n",
      "1430 iters done\n",
      "1440 iters done\n",
      "1450 iters done\n",
      "1460 iters done\n",
      "1470 iters done\n",
      "1480 iters done\n",
      "1490 iters done\n",
      "1500 iters done\n",
      "1510 iters done\n",
      "1520 iters done\n",
      "1530 iters done\n",
      "1540 iters done\n",
      "1550 iters done\n",
      "1560 iters done\n",
      "1570 iters done\n",
      "1580 iters done\n",
      "1590 iters done\n",
      "1600 iters done\n",
      "1610 iters done\n",
      "1620 iters done\n",
      "1630 iters done\n",
      "1640 iters done\n",
      "1650 iters done\n",
      "1660 iters done\n",
      "1670 iters done\n",
      "1680 iters done\n",
      "1690 iters done\n",
      "1700 iters done\n",
      "1710 iters done\n",
      "1720 iters done\n",
      "1730 iters done\n",
      "1740 iters done\n",
      "1750 iters done\n",
      "1760 iters done\n",
      "1770 iters done\n",
      "1780 iters done\n",
      "1790 iters done\n",
      "1800 iters done\n",
      "1810 iters done\n",
      "1820 iters done\n",
      "1830 iters done\n",
      "1840 iters done\n",
      "1850 iters done\n",
      "1860 iters done\n",
      "1870 iters done\n",
      "1880 iters done\n",
      "1890 iters done\n",
      "1900 iters done\n",
      "1910 iters done\n",
      "1920 iters done\n",
      "1930 iters done\n",
      "1940 iters done\n",
      "1950 iters done\n",
      "1960 iters done\n",
      "1970 iters done\n",
      "1980 iters done\n",
      "1990 iters done\n",
      "2000 iters done\n",
      "2010 iters done\n",
      "2020 iters done\n",
      "2030 iters done\n",
      "2040 iters done\n",
      "2050 iters done\n",
      "2060 iters done\n",
      "2070 iters done\n",
      "2080 iters done\n",
      "2090 iters done\n",
      "2100 iters done\n",
      "2110 iters done\n",
      "2120 iters done\n",
      "2130 iters done\n",
      "2140 iters done\n",
      "2150 iters done\n",
      "2160 iters done\n",
      "2170 iters done\n",
      "2180 iters done\n",
      "2190 iters done\n",
      "2200 iters done\n",
      "2210 iters done\n",
      "2220 iters done\n",
      "2230 iters done\n",
      "2240 iters done\n",
      "2250 iters done\n",
      "2260 iters done\n",
      "2270 iters done\n",
      "2280 iters done\n",
      "2290 iters done\n",
      "2300 iters done\n",
      "2310 iters done\n",
      "2320 iters done\n",
      "2330 iters done\n",
      "2340 iters done\n",
      "2350 iters done\n",
      "2360 iters done\n",
      "2370 iters done\n",
      "2380 iters done\n",
      "2390 iters done\n",
      "2400 iters done\n",
      "2410 iters done\n",
      "2420 iters done\n",
      "2430 iters done\n",
      "2440 iters done\n",
      "2450 iters done\n",
      "2460 iters done\n",
      "2470 iters done\n",
      "2480 iters done\n",
      "2490 iters done\n",
      "2500 iters done\n",
      "2510 iters done\n",
      "2520 iters done\n",
      "2530 iters done\n",
      "2540 iters done\n",
      "2550 iters done\n",
      "2560 iters done\n",
      "2570 iters done\n",
      "2580 iters done\n",
      "2590 iters done\n",
      "2600 iters done\n",
      "2610 iters done\n",
      "2620 iters done\n",
      "2630 iters done\n",
      "2640 iters done\n",
      "2650 iters done\n",
      "2660 iters done\n",
      "2670 iters done\n",
      "2680 iters done\n",
      "2690 iters done\n",
      "2700 iters done\n",
      "2710 iters done\n",
      "2720 iters done\n",
      "2730 iters done\n",
      "2740 iters done\n",
      "2750 iters done\n",
      "2760 iters done\n",
      "2770 iters done\n",
      "2780 iters done\n",
      "2790 iters done\n",
      "2800 iters done\n",
      "2810 iters done\n",
      "2820 iters done\n",
      "2830 iters done\n",
      "2840 iters done\n",
      "2850 iters done\n",
      "2860 iters done\n",
      "2870 iters done\n",
      "2880 iters done\n",
      "2890 iters done\n",
      "2900 iters done\n",
      "2910 iters done\n",
      "2920 iters done\n",
      "2930 iters done\n",
      "2940 iters done\n",
      "2950 iters done\n",
      "2960 iters done\n",
      "2970 iters done\n",
      "2980 iters done\n",
      "2990 iters done\n",
      "3000 iters done\n",
      "3010 iters done\n",
      "3020 iters done\n",
      "3030 iters done\n",
      "3040 iters done\n",
      "3050 iters done\n",
      "3060 iters done\n",
      "3070 iters done\n",
      "3080 iters done\n",
      "3090 iters done\n",
      "3100 iters done\n",
      "3110 iters done\n",
      "3120 iters done\n",
      "3130 iters done\n",
      "3140 iters done\n",
      "3150 iters done\n",
      "3160 iters done\n",
      "3170 iters done\n",
      "3180 iters done\n",
      "3190 iters done\n",
      "3200 iters done\n",
      "3210 iters done\n",
      "3220 iters done\n",
      "3230 iters done\n",
      "3240 iters done\n",
      "3250 iters done\n",
      "3260 iters done\n",
      "3270 iters done\n",
      "3280 iters done\n",
      "3290 iters done\n",
      "3300 iters done\n",
      "3310 iters done\n",
      "3320 iters done\n",
      "3330 iters done\n",
      "3340 iters done\n",
      "3350 iters done\n",
      "3360 iters done\n",
      "3370 iters done\n",
      "3380 iters done\n",
      "3390 iters done\n",
      "3400 iters done\n",
      "3410 iters done\n",
      "3420 iters done\n"
     ]
    },
    {
     "data": {
      "text/plain": [
       "(array([ 0.        ,  0.        ,  0.        ,  0.        ,  0.        ,\n",
       "         0.        ,  0.        ,  9.82852084,  0.        ,  0.        ,\n",
       "         0.        ,  0.        ,  2.23435386,  0.        ,  0.        ,\n",
       "         7.59416699,  0.        ,  0.        ,  0.        ,  0.        ]),\n",
       " 6.4425545333190595)"
      ]
     },
     "execution_count": 92,
     "metadata": {},
     "output_type": "execute_result"
    }
   ],
   "source": [
    "lambd, b = smo_svm(x, y, C=10.0, kernl=polynomial_kernel)\n",
    "lambd, b"
   ]
  },
  {
   "cell_type": "code",
   "execution_count": 94,
   "metadata": {
    "collapsed": false
   },
   "outputs": [
    {
     "data": {
      "image/png": "[encoded data removed]",
      "text/plain": [
       "<matplotlib.figure.Figure at 0x171fd5f8>"
      ]
     },
     "metadata": {},
     "output_type": "display_data"
    }
   ],
   "source": [
    "n = 10\n",
    "xx = np.linspace(np.min(x[:,0])-0.3, np.max(x[:,0]) + 0.3, n)\n",
    "yy = np.linspace(np.min(x[:,1])-0.3, np.max(x[:,1]) + 0.3, n)\n",
    "XX, YY = np.meshgrid(xx, yy)\n",
    "\n",
    "F = np.zeros_like(XX)\n",
    "for i in xrange(len(xx)):\n",
    "    for j in xrange(len(xx)):\n",
    "        F[j,i] = svm_func(np.array([xx[i], yy[j]]), x, y, alpha, b, kernl=gaussian_kernel)\n",
    "\n",
    "contourf(xx, yy, F, 8, alpha=.75, cmap=cm.hot)\n",
    "clabel(contour(xx, yy, F, 8, colors='black', linewidth=.5), inline=1, fontsize=10)\n",
    "for i in xrange(len(x)):\n",
    "    if y[i] == 1.0:\n",
    "        plot(x[i,0], x[i,1], 'bo')\n",
    "        #print x[i,:], y[i]\n",
    "    else:\n",
    "        plot(x[i, 0], x[i,1], 'go')\n",
    "        #print x[i,:], y[i]"
   ]
  },
  {
   "cell_type": "code",
   "execution_count": 43,
   "metadata": {
    "collapsed": true
   },
   "outputs": [],
   "source": [
    "x = np.random.uniform"
   ]
  },
  {
   "cell_type": "code",
   "execution_count": 44,
   "metadata": {
    "collapsed": false
   },
   "outputs": [
    {
     "data": {
      "text/plain": [
       "[<matplotlib.lines.Line2D at 0x1719ee80>]"
      ]
     },
     "execution_count": 44,
     "metadata": {},
     "output_type": "execute_result"
    },
    {
     "data": {
      "image/png": "[encoded data removed]",
      "text/plain": [
       "<matplotlib.figure.Figure at 0x1a7013c8>"
      ]
     },
     "metadata": {},
     "output_type": "display_data"
    }
   ],
   "source": [
    "x = np.vstack((np.random.uniform(size=100).reshape((50,2)), np.random.uniform(size=100).reshape((50,2)) + 1)) \n",
    "plot(x[:,0], x[:,1], 'bo')\n",
    "y1 = np.random.uniform(size=100).reshape((50,2))\n",
    "y2 = np.random.uniform(size=100).reshape((50,2))\n",
    "y1[:,0] += 1\n",
    "y2[:,1] += 1\n",
    "plot(y2[:,0], y2[:,1], 'go')\n",
    "plot(y1[:,0], y1[:,1], 'go')"
   ]
  },
  {
   "cell_type": "code",
   "execution_count": 45,
   "metadata": {
    "collapsed": false
   },
   "outputs": [
    {
     "data": {
      "text/plain": [
       "[<matplotlib.lines.Line2D at 0x16b62d30>]"
      ]
     },
     "execution_count": 45,
     "metadata": {},
     "output_type": "execute_result"
    },
    {
     "data": {
      "image/png": "[encoded data removed]",
      "text/plain": [
       "<matplotlib.figure.Figure at 0x16b62eb8>"
      ]
     },
     "metadata": {},
     "output_type": "display_data"
    }
   ],
   "source": [
    "x = np.random.randn(100, 2)\n",
    "r = np.abs(np.random.randn(100)) + 4\n",
    "fi = np.random.uniform(0.0, 2 * np.pi, size = 100)\n",
    "y = np.vstack((r * np.cos(fi), r * np.sin(fi))).T\n",
    "plot(x[:,0], x[:,1], 'bo')\n",
    "plot(y[:,0], y[:,1], 'go')"
   ]
  },
  {
   "cell_type": "code",
   "execution_count": 50,
   "metadata": {
    "collapsed": false,
    "scrolled": true
   },
   "outputs": [
    {
     "data": {
      "text/plain": [
       "<matplotlib.collections.PathCollection at 0x172040b8>"
      ]
     },
     "execution_count": 50,
     "metadata": {},
     "output_type": "execute_result"
    },
    {
     "data": {
      "image/png": "[encoded data removed]",
      "text/plain": [
       "<matplotlib.figure.Figure at 0x170300b8>"
      ]
     },
     "metadata": {},
     "output_type": "display_data"
    }
   ],
   "source": [
    "z = np.vstack((x,y))\n",
    "zz = np.ones((200,3))\n",
    "zz[:,:2] = z\n",
    "zz[:,2] = z[:,0] * z[:,0] + z[:,1] * z[:,1]\n",
    "d = np.dot(zz - zz.mean(axis=0), np.linalg.eig(np.cov(zz.T))[1])[:,:2]\n",
    "scatter(d[:,0], d[:,1])"
   ]
  },
  {
   "cell_type": "markdown",
   "metadata": {},
   "source": [
    "\n",
    "\n",
    "## Vowpal Wabbit\n",
    "\n",
    "http://nbviewer.jupyter.org/github/hal3/vowpal_wabbit/blob/master/python/Learning_to_Search.ipynb"
   ]
  },
  {
   "cell_type": "code",
   "execution_count": null,
   "metadata": {
    "collapsed": true
   },
   "outputs": [],
   "source": []
  }
 ],
 "metadata": {
  "kernelspec": {
   "display_name": "Python 2",
   "language": "python",
   "name": "python2"
  },
  "language_info": {
   "codemirror_mode": {
    "name": "ipython",
    "version": 2
   },
   "file_extension": ".py",
   "mimetype": "text/x-python",
   "name": "python",
   "nbconvert_exporter": "python",
   "pygments_lexer": "ipython2",
   "version": "2.7.11"
  }
 },
 "nbformat": 4,
 "nbformat_minor": 0
}
