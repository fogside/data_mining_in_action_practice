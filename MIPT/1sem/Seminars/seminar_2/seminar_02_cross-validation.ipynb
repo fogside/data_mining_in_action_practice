{
 "cells": [
  {
   "cell_type": "markdown",
   "metadata": {},
   "source": [
    "## Outline"
   ]
  },
  {
   "cell_type": "raw",
   "metadata": {},
   "source": [
    "    * Data reading\n",
    "    * Data visualization\n",
    "    * Kaggle \"Digit Recognizer\"\n",
    "    * Cross Validation"
   ]
  },
  {
   "cell_type": "markdown",
   "metadata": {},
   "source": [
    "# Reading of data"
   ]
  },
  {
   "cell_type": "code",
   "execution_count": 49,
   "metadata": {
    "collapsed": false
   },
   "outputs": [
    {
     "name": "stdout",
     "output_type": "stream",
     "text": [
      "Populating the interactive namespace from numpy and matplotlib\n"
     ]
    },
    {
     "name": "stderr",
     "output_type": "stream",
     "text": [
      "WARNING: pylab import has clobbered these variables: ['f']\n",
      "`%matplotlib` prevents importing * from pylab and numpy\n"
     ]
    }
   ],
   "source": [
    "import numpy as np\n",
    "import pandas as pd\n",
    "from matplotlib import pylab, gridspec\n",
    "from collections import Counter\n",
    "%pylab inline"
   ]
  },
  {
   "cell_type": "code",
   "execution_count": 50,
   "metadata": {
    "collapsed": false
   },
   "outputs": [
    {
     "data": {
      "text/plain": [
       "['b,30.83,0,u,g,w,v,1.25,t,t,01,f,g,00202,0,+\\n',\n",
       " 'a,58.67,4.46,u,g,q,h,3.04,t,t,06,f,g,00043,560,+\\n',\n",
       " 'a,24.50,0.5,u,g,q,h,1.5,t,f,0,f,g,00280,824,+\\n']"
      ]
     },
     "execution_count": 50,
     "metadata": {},
     "output_type": "execute_result"
    }
   ],
   "source": [
    "# Data set Japanese Credit Screening: http://archive.ics.uci.edu/ml/machine-learning-databases/credit-screening/crx.data\n",
    "with open('data/JCS/crx.data.txt','r') as f:\n",
    "    lines = f.readlines()\n",
    "lines[:3] # array of strings"
   ]
  },
  {
   "cell_type": "code",
   "execution_count": 51,
   "metadata": {
    "collapsed": false
   },
   "outputs": [
    {
     "data": {
      "text/plain": [
       "['b,30.83,0,u,g,w,v,1.25,t,t,01,f,g,00202,0,+',\n",
       " 'a,58.67,4.46,u,g,q,h,3.04,t,t,06,f,g,00043,560,+',\n",
       " 'a,24.50,0.5,u,g,q,h,1.5,t,f,0,f,g,00280,824,+']"
      ]
     },
     "execution_count": 51,
     "metadata": {},
     "output_type": "execute_result"
    }
   ],
   "source": [
    "# or with stripping the newline character:\n",
    "lines = [line.strip() for line in open('data/JCS/crx.data.txt','r')]\n",
    "lines[:3]"
   ]
  },
  {
   "cell_type": "code",
   "execution_count": 52,
   "metadata": {
    "collapsed": false
   },
   "outputs": [],
   "source": [
    "x = [s[:-1].split(',') for s in lines]\n",
    "y = [s[-1:] for s in lines]"
   ]
  },
  {
   "cell_type": "code",
   "execution_count": 53,
   "metadata": {
    "collapsed": false
   },
   "outputs": [
    {
     "name": "stdout",
     "output_type": "stream",
     "text": [
      "[['b', '30.83', '0', 'u', 'g', 'w', 'v', '1.25', 't', 't', '01', 'f', 'g', '00202', '0', ''], ['a', '58.67', '4.46', 'u', 'g', 'q', 'h', '3.04', 't', 't', '06', 'f', 'g', '00043', '560', '']]\n",
      "['+', '+']\n"
     ]
    }
   ],
   "source": [
    "print(x[:2])\n",
    "print(y[:2])"
   ]
  },
  {
   "cell_type": "code",
   "execution_count": 54,
   "metadata": {
    "collapsed": false
   },
   "outputs": [
    {
     "name": "stdout",
     "output_type": "stream",
     "text": [
      "Counter({'c': 137, 'q': 78, 'w': 64, 'i': 59, 'aa': 54, 'ff': 53, 'k': 51, 'cc': 41, 'm': 38, 'x': 38, 'd': 30, 'e': 25, 'j': 10, '?': 9, 'r': 3})\n",
      "[('c', 137), ('q', 78), ('w', 64), ('i', 59), ('aa', 54)]\n"
     ]
    }
   ],
   "source": [
    "count = Counter([col[5] for col in x])\n",
    "print(count)\n",
    "print(count.most_common(5))"
   ]
  },
  {
   "cell_type": "code",
   "execution_count": 55,
   "metadata": {
    "collapsed": false
   },
   "outputs": [
    {
     "name": "stdout",
     "output_type": "stream",
     "text": [
      "Help on class Counter in module collections:\n",
      "\n",
      "class Counter(__builtin__.dict)\n",
      " |  Dict subclass for counting hashable items.  Sometimes called a bag\n",
      " |  or multiset.  Elements are stored as dictionary keys and their counts\n",
      " |  are stored as dictionary values.\n",
      " |  \n",
      " |  >>> c = Counter('abcdeabcdabcaba')  # count elements from a string\n",
      " |  \n",
      " |  >>> c.most_common(3)                # three most common elements\n",
      " |  [('a', 5), ('b', 4), ('c', 3)]\n",
      " |  >>> sorted(c)                       # list all unique elements\n",
      " |  ['a', 'b', 'c', 'd', 'e']\n",
      " |  >>> ''.join(sorted(c.elements()))   # list elements with repetitions\n",
      " |  'aaaaabbbbcccdde'\n",
      " |  >>> sum(c.values())                 # total of all counts\n",
      " |  15\n",
      " |  \n",
      " |  >>> c['a']                          # count of letter 'a'\n",
      " |  5\n",
      " |  >>> for elem in 'shazam':           # update counts from an iterable\n",
      " |  ...     c[elem] += 1                # by adding 1 to each element's count\n",
      " |  >>> c['a']                          # now there are seven 'a'\n",
      " |  7\n",
      " |  >>> del c['b']                      # remove all 'b'\n",
      " |  >>> c['b']                          # now there are zero 'b'\n",
      " |  0\n",
      " |  \n",
      " |  >>> d = Counter('simsalabim')       # make another counter\n",
      " |  >>> c.update(d)                     # add in the second counter\n",
      " |  >>> c['a']                          # now there are nine 'a'\n",
      " |  9\n",
      " |  \n",
      " |  >>> c.clear()                       # empty the counter\n",
      " |  >>> c\n",
      " |  Counter()\n",
      " |  \n",
      " |  Note:  If a count is set to zero or reduced to zero, it will remain\n",
      " |  in the counter until the entry is deleted or the counter is cleared:\n",
      " |  \n",
      " |  >>> c = Counter('aaabbc')\n",
      " |  >>> c['b'] -= 2                     # reduce the count of 'b' by two\n",
      " |  >>> c.most_common()                 # 'b' is still in, but its count is zero\n",
      " |  [('a', 3), ('c', 1), ('b', 0)]\n",
      " |  \n",
      " |  Method resolution order:\n",
      " |      Counter\n",
      " |      __builtin__.dict\n",
      " |      __builtin__.object\n",
      " |  \n",
      " |  Methods defined here:\n",
      " |  \n",
      " |  __add__(self, other)\n",
      " |      Add counts from two counters.\n",
      " |      \n",
      " |      >>> Counter('abbb') + Counter('bcc')\n",
      " |      Counter({'b': 4, 'c': 2, 'a': 1})\n",
      " |  \n",
      " |  __and__(self, other)\n",
      " |      Intersection is the minimum of corresponding counts.\n",
      " |      \n",
      " |      >>> Counter('abbb') & Counter('bcc')\n",
      " |      Counter({'b': 1})\n",
      " |  \n",
      " |  __delitem__(self, elem)\n",
      " |      Like dict.__delitem__() but does not raise KeyError for missing values.\n",
      " |  \n",
      " |  __init__(*args, **kwds)\n",
      " |      Create a new, empty Counter object.  And if given, count elements\n",
      " |      from an input iterable.  Or, initialize the count from another mapping\n",
      " |      of elements to their counts.\n",
      " |      \n",
      " |      >>> c = Counter()                           # a new, empty counter\n",
      " |      >>> c = Counter('gallahad')                 # a new counter from an iterable\n",
      " |      >>> c = Counter({'a': 4, 'b': 2})           # a new counter from a mapping\n",
      " |      >>> c = Counter(a=4, b=2)                   # a new counter from keyword args\n",
      " |  \n",
      " |  __missing__(self, key)\n",
      " |      The count of elements not in the Counter is zero.\n",
      " |  \n",
      " |  __or__(self, other)\n",
      " |      Union is the maximum of value in either of the input counters.\n",
      " |      \n",
      " |      >>> Counter('abbb') | Counter('bcc')\n",
      " |      Counter({'b': 3, 'c': 2, 'a': 1})\n",
      " |  \n",
      " |  __reduce__(self)\n",
      " |  \n",
      " |  __repr__(self)\n",
      " |  \n",
      " |  __sub__(self, other)\n",
      " |      Subtract count, but keep only results with positive counts.\n",
      " |      \n",
      " |      >>> Counter('abbbc') - Counter('bccd')\n",
      " |      Counter({'b': 2, 'a': 1})\n",
      " |  \n",
      " |  copy(self)\n",
      " |      Return a shallow copy.\n",
      " |  \n",
      " |  elements(self)\n",
      " |      Iterator over elements repeating each as many times as its count.\n",
      " |      \n",
      " |      >>> c = Counter('ABCABC')\n",
      " |      >>> sorted(c.elements())\n",
      " |      ['A', 'A', 'B', 'B', 'C', 'C']\n",
      " |      \n",
      " |      # Knuth's example for prime factors of 1836:  2**2 * 3**3 * 17**1\n",
      " |      >>> prime_factors = Counter({2: 2, 3: 3, 17: 1})\n",
      " |      >>> product = 1\n",
      " |      >>> for factor in prime_factors.elements():     # loop over factors\n",
      " |      ...     product *= factor                       # and multiply them\n",
      " |      >>> product\n",
      " |      1836\n",
      " |      \n",
      " |      Note, if an element's count has been set to zero or is a negative\n",
      " |      number, elements() will ignore it.\n",
      " |  \n",
      " |  most_common(self, n=None)\n",
      " |      List the n most common elements and their counts from the most\n",
      " |      common to the least.  If n is None, then list all element counts.\n",
      " |      \n",
      " |      >>> Counter('abcdeabcdabcaba').most_common(3)\n",
      " |      [('a', 5), ('b', 4), ('c', 3)]\n",
      " |  \n",
      " |  subtract(*args, **kwds)\n",
      " |      Like dict.update() but subtracts counts instead of replacing them.\n",
      " |      Counts can be reduced below zero.  Both the inputs and outputs are\n",
      " |      allowed to contain zero and negative counts.\n",
      " |      \n",
      " |      Source can be an iterable, a dictionary, or another Counter instance.\n",
      " |      \n",
      " |      >>> c = Counter('which')\n",
      " |      >>> c.subtract('witch')             # subtract elements from another iterable\n",
      " |      >>> c.subtract(Counter('watch'))    # subtract elements from another counter\n",
      " |      >>> c['h']                          # 2 in which, minus 1 in witch, minus 1 in watch\n",
      " |      0\n",
      " |      >>> c['w']                          # 1 in which, minus 1 in witch, minus 1 in watch\n",
      " |      -1\n",
      " |  \n",
      " |  update(*args, **kwds)\n",
      " |      Like dict.update() but add counts instead of replacing them.\n",
      " |      \n",
      " |      Source can be an iterable, a dictionary, or another Counter instance.\n",
      " |      \n",
      " |      >>> c = Counter('which')\n",
      " |      >>> c.update('witch')           # add elements from another iterable\n",
      " |      >>> d = Counter('watch')\n",
      " |      >>> c.update(d)                 # add elements from another counter\n",
      " |      >>> c['h']                      # four 'h' in which, witch, and watch\n",
      " |      4\n",
      " |  \n",
      " |  ----------------------------------------------------------------------\n",
      " |  Class methods defined here:\n",
      " |  \n",
      " |  fromkeys(cls, iterable, v=None) from __builtin__.type\n",
      " |  \n",
      " |  ----------------------------------------------------------------------\n",
      " |  Data descriptors defined here:\n",
      " |  \n",
      " |  __dict__\n",
      " |      dictionary for instance variables (if defined)\n",
      " |  \n",
      " |  __weakref__\n",
      " |      list of weak references to the object (if defined)\n",
      " |  \n",
      " |  ----------------------------------------------------------------------\n",
      " |  Methods inherited from __builtin__.dict:\n",
      " |  \n",
      " |  __cmp__(...)\n",
      " |      x.__cmp__(y) <==> cmp(x,y)\n",
      " |  \n",
      " |  __contains__(...)\n",
      " |      D.__contains__(k) -> True if D has a key k, else False\n",
      " |  \n",
      " |  __eq__(...)\n",
      " |      x.__eq__(y) <==> x==y\n",
      " |  \n",
      " |  __ge__(...)\n",
      " |      x.__ge__(y) <==> x>=y\n",
      " |  \n",
      " |  __getattribute__(...)\n",
      " |      x.__getattribute__('name') <==> x.name\n",
      " |  \n",
      " |  __getitem__(...)\n",
      " |      x.__getitem__(y) <==> x[y]\n",
      " |  \n",
      " |  __gt__(...)\n",
      " |      x.__gt__(y) <==> x>y\n",
      " |  \n",
      " |  __iter__(...)\n",
      " |      x.__iter__() <==> iter(x)\n",
      " |  \n",
      " |  __le__(...)\n",
      " |      x.__le__(y) <==> x<=y\n",
      " |  \n",
      " |  __len__(...)\n",
      " |      x.__len__() <==> len(x)\n",
      " |  \n",
      " |  __lt__(...)\n",
      " |      x.__lt__(y) <==> x<y\n",
      " |  \n",
      " |  __ne__(...)\n",
      " |      x.__ne__(y) <==> x!=y\n",
      " |  \n",
      " |  __setitem__(...)\n",
      " |      x.__setitem__(i, y) <==> x[i]=y\n",
      " |  \n",
      " |  __sizeof__(...)\n",
      " |      D.__sizeof__() -> size of D in memory, in bytes\n",
      " |  \n",
      " |  clear(...)\n",
      " |      D.clear() -> None.  Remove all items from D.\n",
      " |  \n",
      " |  get(...)\n",
      " |      D.get(k[,d]) -> D[k] if k in D, else d.  d defaults to None.\n",
      " |  \n",
      " |  has_key(...)\n",
      " |      D.has_key(k) -> True if D has a key k, else False\n",
      " |  \n",
      " |  items(...)\n",
      " |      D.items() -> list of D's (key, value) pairs, as 2-tuples\n",
      " |  \n",
      " |  iteritems(...)\n",
      " |      D.iteritems() -> an iterator over the (key, value) items of D\n",
      " |  \n",
      " |  iterkeys(...)\n",
      " |      D.iterkeys() -> an iterator over the keys of D\n",
      " |  \n",
      " |  itervalues(...)\n",
      " |      D.itervalues() -> an iterator over the values of D\n",
      " |  \n",
      " |  keys(...)\n",
      " |      D.keys() -> list of D's keys\n",
      " |  \n",
      " |  pop(...)\n",
      " |      D.pop(k[,d]) -> v, remove specified key and return the corresponding value.\n",
      " |      If key is not found, d is returned if given, otherwise KeyError is raised\n",
      " |  \n",
      " |  popitem(...)\n",
      " |      D.popitem() -> (k, v), remove and return some (key, value) pair as a\n",
      " |      2-tuple; but raise KeyError if D is empty.\n",
      " |  \n",
      " |  setdefault(...)\n",
      " |      D.setdefault(k[,d]) -> D.get(k,d), also set D[k]=d if k not in D\n",
      " |  \n",
      " |  values(...)\n",
      " |      D.values() -> list of D's values\n",
      " |  \n",
      " |  viewitems(...)\n",
      " |      D.viewitems() -> a set-like object providing a view on D's items\n",
      " |  \n",
      " |  viewkeys(...)\n",
      " |      D.viewkeys() -> a set-like object providing a view on D's keys\n",
      " |  \n",
      " |  viewvalues(...)\n",
      " |      D.viewvalues() -> an object providing a view on D's values\n",
      " |  \n",
      " |  ----------------------------------------------------------------------\n",
      " |  Data and other attributes inherited from __builtin__.dict:\n",
      " |  \n",
      " |  __hash__ = None\n",
      " |  \n",
      " |  __new__ = <built-in method __new__ of type object>\n",
      " |      T.__new__(S, ...) -> a new object with type S, a subtype of T\n",
      "\n"
     ]
    }
   ],
   "source": [
    "help(Counter)"
   ]
  },
  {
   "cell_type": "code",
   "execution_count": 56,
   "metadata": {
    "collapsed": false
   },
   "outputs": [
    {
     "data": {
      "text/html": [
       "<div>\n",
       "<table border=\"1\" class=\"dataframe\">\n",
       "  <thead>\n",
       "    <tr style=\"text-align: right;\">\n",
       "      <th></th>\n",
       "      <th>b</th>\n",
       "      <th>30.83</th>\n",
       "      <th>0</th>\n",
       "      <th>u</th>\n",
       "      <th>g</th>\n",
       "      <th>w</th>\n",
       "      <th>v</th>\n",
       "      <th>1.25</th>\n",
       "      <th>t</th>\n",
       "      <th>t.1</th>\n",
       "      <th>01</th>\n",
       "      <th>f</th>\n",
       "      <th>g.1</th>\n",
       "      <th>00202</th>\n",
       "      <th>0.1</th>\n",
       "      <th>+</th>\n",
       "    </tr>\n",
       "  </thead>\n",
       "  <tbody>\n",
       "    <tr>\n",
       "      <th>0</th>\n",
       "      <td>a</td>\n",
       "      <td>58.67</td>\n",
       "      <td>4.460</td>\n",
       "      <td>u</td>\n",
       "      <td>g</td>\n",
       "      <td>q</td>\n",
       "      <td>h</td>\n",
       "      <td>3.04</td>\n",
       "      <td>t</td>\n",
       "      <td>t</td>\n",
       "      <td>6</td>\n",
       "      <td>f</td>\n",
       "      <td>g</td>\n",
       "      <td>00043</td>\n",
       "      <td>560</td>\n",
       "      <td>+</td>\n",
       "    </tr>\n",
       "    <tr>\n",
       "      <th>1</th>\n",
       "      <td>a</td>\n",
       "      <td>24.50</td>\n",
       "      <td>0.500</td>\n",
       "      <td>u</td>\n",
       "      <td>g</td>\n",
       "      <td>q</td>\n",
       "      <td>h</td>\n",
       "      <td>1.50</td>\n",
       "      <td>t</td>\n",
       "      <td>f</td>\n",
       "      <td>0</td>\n",
       "      <td>f</td>\n",
       "      <td>g</td>\n",
       "      <td>00280</td>\n",
       "      <td>824</td>\n",
       "      <td>+</td>\n",
       "    </tr>\n",
       "    <tr>\n",
       "      <th>2</th>\n",
       "      <td>b</td>\n",
       "      <td>27.83</td>\n",
       "      <td>1.540</td>\n",
       "      <td>u</td>\n",
       "      <td>g</td>\n",
       "      <td>w</td>\n",
       "      <td>v</td>\n",
       "      <td>3.75</td>\n",
       "      <td>t</td>\n",
       "      <td>t</td>\n",
       "      <td>5</td>\n",
       "      <td>t</td>\n",
       "      <td>g</td>\n",
       "      <td>00100</td>\n",
       "      <td>3</td>\n",
       "      <td>+</td>\n",
       "    </tr>\n",
       "    <tr>\n",
       "      <th>3</th>\n",
       "      <td>b</td>\n",
       "      <td>20.17</td>\n",
       "      <td>5.625</td>\n",
       "      <td>u</td>\n",
       "      <td>g</td>\n",
       "      <td>w</td>\n",
       "      <td>v</td>\n",
       "      <td>1.71</td>\n",
       "      <td>t</td>\n",
       "      <td>f</td>\n",
       "      <td>0</td>\n",
       "      <td>f</td>\n",
       "      <td>s</td>\n",
       "      <td>00120</td>\n",
       "      <td>0</td>\n",
       "      <td>+</td>\n",
       "    </tr>\n",
       "    <tr>\n",
       "      <th>4</th>\n",
       "      <td>b</td>\n",
       "      <td>32.08</td>\n",
       "      <td>4.000</td>\n",
       "      <td>u</td>\n",
       "      <td>g</td>\n",
       "      <td>m</td>\n",
       "      <td>v</td>\n",
       "      <td>2.50</td>\n",
       "      <td>t</td>\n",
       "      <td>f</td>\n",
       "      <td>0</td>\n",
       "      <td>t</td>\n",
       "      <td>g</td>\n",
       "      <td>00360</td>\n",
       "      <td>0</td>\n",
       "      <td>+</td>\n",
       "    </tr>\n",
       "  </tbody>\n",
       "</table>\n",
       "</div>"
      ],
      "text/plain": [
       "   b  30.83      0  u  g  w  v  1.25  t t.1  01  f g.1  00202  0.1  +\n",
       "0  a  58.67  4.460  u  g  q  h  3.04  t   t   6  f   g  00043  560  +\n",
       "1  a  24.50  0.500  u  g  q  h  1.50  t   f   0  f   g  00280  824  +\n",
       "2  b  27.83  1.540  u  g  w  v  3.75  t   t   5  t   g  00100    3  +\n",
       "3  b  20.17  5.625  u  g  w  v  1.71  t   f   0  f   s  00120    0  +\n",
       "4  b  32.08  4.000  u  g  m  v  2.50  t   f   0  t   g  00360    0  +"
      ]
     },
     "execution_count": 56,
     "metadata": {},
     "output_type": "execute_result"
    }
   ],
   "source": [
    "# Pandas Data Frame\n",
    "f = pd.read_csv('data/JCS/crx.data.txt')\n",
    "f.head()"
   ]
  },
  {
   "cell_type": "code",
   "execution_count": 57,
   "metadata": {
    "collapsed": false
   },
   "outputs": [
    {
     "data": {
      "text/html": [
       "<div>\n",
       "<table border=\"1\" class=\"dataframe\">\n",
       "  <thead>\n",
       "    <tr style=\"text-align: right;\">\n",
       "      <th></th>\n",
       "      <th>0</th>\n",
       "      <th>1</th>\n",
       "      <th>2</th>\n",
       "      <th>3</th>\n",
       "      <th>4</th>\n",
       "      <th>5</th>\n",
       "      <th>6</th>\n",
       "      <th>7</th>\n",
       "      <th>8</th>\n",
       "      <th>9</th>\n",
       "      <th>10</th>\n",
       "      <th>11</th>\n",
       "      <th>12</th>\n",
       "      <th>13</th>\n",
       "      <th>14</th>\n",
       "      <th>15</th>\n",
       "    </tr>\n",
       "  </thead>\n",
       "  <tbody>\n",
       "    <tr>\n",
       "      <th>0</th>\n",
       "      <td>b</td>\n",
       "      <td>30.83</td>\n",
       "      <td>0.000</td>\n",
       "      <td>u</td>\n",
       "      <td>g</td>\n",
       "      <td>w</td>\n",
       "      <td>v</td>\n",
       "      <td>1.25</td>\n",
       "      <td>t</td>\n",
       "      <td>t</td>\n",
       "      <td>1</td>\n",
       "      <td>f</td>\n",
       "      <td>g</td>\n",
       "      <td>00202</td>\n",
       "      <td>0</td>\n",
       "      <td>+</td>\n",
       "    </tr>\n",
       "    <tr>\n",
       "      <th>1</th>\n",
       "      <td>a</td>\n",
       "      <td>58.67</td>\n",
       "      <td>4.460</td>\n",
       "      <td>u</td>\n",
       "      <td>g</td>\n",
       "      <td>q</td>\n",
       "      <td>h</td>\n",
       "      <td>3.04</td>\n",
       "      <td>t</td>\n",
       "      <td>t</td>\n",
       "      <td>6</td>\n",
       "      <td>f</td>\n",
       "      <td>g</td>\n",
       "      <td>00043</td>\n",
       "      <td>560</td>\n",
       "      <td>+</td>\n",
       "    </tr>\n",
       "    <tr>\n",
       "      <th>2</th>\n",
       "      <td>a</td>\n",
       "      <td>24.50</td>\n",
       "      <td>0.500</td>\n",
       "      <td>u</td>\n",
       "      <td>g</td>\n",
       "      <td>q</td>\n",
       "      <td>h</td>\n",
       "      <td>1.50</td>\n",
       "      <td>t</td>\n",
       "      <td>f</td>\n",
       "      <td>0</td>\n",
       "      <td>f</td>\n",
       "      <td>g</td>\n",
       "      <td>00280</td>\n",
       "      <td>824</td>\n",
       "      <td>+</td>\n",
       "    </tr>\n",
       "    <tr>\n",
       "      <th>3</th>\n",
       "      <td>b</td>\n",
       "      <td>27.83</td>\n",
       "      <td>1.540</td>\n",
       "      <td>u</td>\n",
       "      <td>g</td>\n",
       "      <td>w</td>\n",
       "      <td>v</td>\n",
       "      <td>3.75</td>\n",
       "      <td>t</td>\n",
       "      <td>t</td>\n",
       "      <td>5</td>\n",
       "      <td>t</td>\n",
       "      <td>g</td>\n",
       "      <td>00100</td>\n",
       "      <td>3</td>\n",
       "      <td>+</td>\n",
       "    </tr>\n",
       "    <tr>\n",
       "      <th>4</th>\n",
       "      <td>b</td>\n",
       "      <td>20.17</td>\n",
       "      <td>5.625</td>\n",
       "      <td>u</td>\n",
       "      <td>g</td>\n",
       "      <td>w</td>\n",
       "      <td>v</td>\n",
       "      <td>1.71</td>\n",
       "      <td>t</td>\n",
       "      <td>f</td>\n",
       "      <td>0</td>\n",
       "      <td>f</td>\n",
       "      <td>s</td>\n",
       "      <td>00120</td>\n",
       "      <td>0</td>\n",
       "      <td>+</td>\n",
       "    </tr>\n",
       "  </tbody>\n",
       "</table>\n",
       "</div>"
      ],
      "text/plain": [
       "  0      1      2  3  4  5  6     7  8  9   10 11 12     13   14 15\n",
       "0  b  30.83  0.000  u  g  w  v  1.25  t  t   1  f  g  00202    0  +\n",
       "1  a  58.67  4.460  u  g  q  h  3.04  t  t   6  f  g  00043  560  +\n",
       "2  a  24.50  0.500  u  g  q  h  1.50  t  f   0  f  g  00280  824  +\n",
       "3  b  27.83  1.540  u  g  w  v  3.75  t  t   5  t  g  00100    3  +\n",
       "4  b  20.17  5.625  u  g  w  v  1.71  t  f   0  f  s  00120    0  +"
      ]
     },
     "execution_count": 57,
     "metadata": {},
     "output_type": "execute_result"
    }
   ],
   "source": [
    "# Just put that there is no header\n",
    "f = pd.read_csv('data/JCS/crx.data.txt', header = None )\n",
    "f.head()"
   ]
  },
  {
   "cell_type": "code",
   "execution_count": 58,
   "metadata": {
    "collapsed": false
   },
   "outputs": [],
   "source": [
    "# We can not use range() for names of Data Frame\n",
    "x = [f[col].tolist() for col in f[:15].columns]"
   ]
  },
  {
   "cell_type": "code",
   "execution_count": 59,
   "metadata": {
    "collapsed": false
   },
   "outputs": [
    {
     "name": "stdout",
     "output_type": "stream",
     "text": [
      "[['b', 'a', 'a', 'b', 'b', 'b', 'b', 'a', 'b', 'b', 'b', 'b', 'a', 'b', 'a', 'b', 'b', 'a', 'b', 'a', 'b', 'b', 'a', 'a', 'a', 'a', 'a', 'b', 'b', 'b', 'b', 'b', 'b', 'a', 'a', 'b', 'b', 'a', 'b', 'b', 'b', 'b', 'b', 'b', 'b', 'b', 'a', 'b', 'b', 'b', 'a', 'b', 'b', 'b', 'b', 'b', 'b', 'b', 'b', 'b', 'b', 'b', 'a', 'a', 'b', 'b', 'a', 'b', 'b', 'b', 'b', 'b', 'a', 'b', 'b', 'b', 'b', 'a', 'b', 'b', 'b', 'a', 'b', 'a', 'b', 'b', 'b', 'b', 'b', 'a', 'b', 'b', 'b', 'b', 'b', 'a', 'b', 'b', 'a', 'a', 'b', 'b', 'b', 'b', 'b', 'b', 'b', 'a', 'b', 'a', 'b', 'a', 'b', 'a', 'b', 'a', 'b', 'b', 'b', 'a', 'b', 'b', 'a', 'a', 'a', 'b', 'b', 'b', 'b', 'a', 'b', 'b', 'a', 'b', 'b', 'b', 'b', 'b', 'a', 'a', 'a', 'a', 'b', 'b', 'b', 'b', 'b', 'a', 'a', 'a', 'a', 'a', 'b', 'b', 'b', 'a', 'a', 'a', 'b', 'b', 'b', 'b', 'b', 'b', 'a', 'a', 'b', 'a', 'b', 'b', 'a', 'b', 'b', 'a', 'b', 'b', 'b', 'a', 'a', 'b', 'b', 'a', 'a', 'a', 'a', 'b', 'b', 'b', 'a', 'a', 'b', 'b', 'b', 'b', 'b', 'b', 'b', 'b', 'b', 'b', 'a', 'a', 'b', 'a', 'b', 'a', 'a', 'b', 'b', 'b', 'b', 'b', 'b', 'b', 'b', 'b', 'b', 'b', 'b', 'a', 'a', 'b', 'a', 'a', 'a', 'b', 'b', 'a', 'b', 'b', 'b', 'a', 'b', 'b', 'a', 'a', 'b', 'b', 'b', 'b', 'b', 'b', 'b', 'a', 'b', 'b', 'b', 'a', '?', 'b', 'b', 'b', 'a', 'b', 'b', 'b', 'b', 'b', 'a', 'a', 'b', 'a', 'a', 'a', 'b', 'b', 'b', 'a', 'b', 'b', 'b', 'b', 'b', 'b', 'b', 'b', 'a', 'a', 'b', 'b', 'b', 'b', 'b', 'a', 'b', 'b', 'a', 'b', 'b', 'a', 'b', 'a', 'b', 'b', 'a', 'a', 'b', 'b', 'b', 'b', 'a', 'b', 'b', 'a', 'a', 'b', 'b', 'b', 'b', 'a', 'a', 'b', 'a', 'a', 'b', 'b', 'b', 'b', 'b', 'b', 'b', 'a', 'a', 'b', 'b', 'a', 'b', '?', 'b', 'b', 'b', 'a', 'b', 'a', 'b', 'b', 'b', 'a', 'a', 'b', 'a', 'b', 'b', 'b', 'b', 'b', '?', 'b', 'b', 'b', 'a', 'b', 'b', 'b', 'b', 'a', 'b', 'a', 'b', 'a', 'a', 'b', 'b', 'b', 'b', 'b', 'a', 'b', 'a', 'b', 'b', 'b', 'a', 'b', '?', 'a', 'b', 'b', 'b', 'b', 'b', 'a', 'a', 'a', 'b', 'b', 'b', 'b', 'b', 'b', 'b', 'b', 'b', 'b', 'b', 'a', 'b', 'a', 'b', 'b', 'b', 'b', 'a', 'a', 'b', 'a', 'a', 'a', 'b', 'b', 'b', 'b', 'a', 'b', 'b', 'a', 'b', 'b', 'b', 'a', 'b', 'b', 'b', 'b', 'b', 'b', 'a', 'b', 'b', 'b', 'b', 'b', 'b', 'b', 'b', 'b', 'b', 'a', 'a', 'b', 'b', 'b', 'b', 'b', 'a', 'a', 'b', 'a', 'b', 'b', 'b', 'b', 'b', '?', 'b', 'b', 'b', 'b', 'b', 'b', 'a', 'b', 'b', 'a', 'a', 'a', 'b', 'a', 'b', 'b', 'a', 'b', 'b', 'b', 'b', 'b', 'b', 'b', 'b', '?', 'a', 'b', 'a', 'b', 'b', 'b', 'b', 'b', 'b', '?', 'a', 'b', 'b', 'a', 'a', 'b', 'a', 'b', 'b', 'b', 'b', 'b', 'a', 'b', 'a', 'b', 'a', 'a', 'a', 'b', 'b', 'a', 'a', 'b', 'b', 'b', 'a', 'b', 'a', 'b', '?', 'a', 'b', 'a', 'a', 'b', 'b', 'a', 'a', 'b', 'a', 'a', 'b', 'b', 'b', 'a', 'a', 'b', 'b', 'b', 'b', 'b', 'b', 'b', 'b', 'b', 'b', 'b', 'b', 'b', 'b', 'b', 'b', 'b', 'a', 'b', 'b', 'a', 'b', 'a', 'a', 'b', 'b', 'b', 'b', 'a', 'b', 'a', 'b', 'a', 'b', 'b', 'b', 'a', 'a', 'b', 'b', 'b', 'b', 'b', 'b', 'b', 'b', 'b', 'a', 'b', 'b', 'b', 'b', 'b', 'b', 'b', 'b', 'b', 'b', 'b', 'a', 'a', '?', 'b', 'a', '?', 'b', 'b', 'b', 'a', 'b', 'b', 'b', 'b', 'b', 'b', 'b', 'b', 'a', 'b', 'b', 'b', 'b', 'b', 'b', 'b', 'a', 'b', 'b', 'b', 'b', 'b', 'b', 'a', 'a', 'a', 'a', 'b', 'a', 'b', 'b', 'b', 'b', 'b', 'b', '?', 'b', 'a', 'b', 'b', 'a', 'b', 'b', 'a', 'b', 'a', 'a', 'b', 'a', 'a', 'b', 'a', 'a', 'a', 'b', 'b', 'a', 'b', 'b', 'b', 'a', 'a', 'b', 'b', 'b', 'b', 'a', '?', 'a', 'a', 'a', 'b', 'a', 'a', 'b', 'b', 'b', 'b', 'b', 'b', 'a', 'a', 'b', 'b'], ['30.83', '58.67', '24.50', '27.83', '20.17', '32.08', '33.17', '22.92', '54.42', '42.50', '22.08', '29.92', '38.25', '48.08', '45.83', '36.67', '28.25', '23.25', '21.83', '19.17', '25.00', '23.25', '47.75', '27.42', '41.17', '15.83', '47.00', '56.58', '57.42', '42.08', '29.25', '42.00', '49.50', '36.75', '22.58', '27.83', '27.25', '23.00', '27.75', '54.58', '34.17', '28.92', '29.67', '39.58', '56.42', '54.33', '41.00', '31.92', '41.50', '23.92', '25.75', '26.00', '37.42', '34.92', '34.25', '23.33', '23.17', '44.33', '35.17', '43.25', '56.75', '31.67', '23.42', '20.42', '26.67', '34.17', '36.00', '25.50', '19.42', '35.17', '32.33', '34.83', '38.58', '44.25', '44.83', '20.67', '34.08', '19.17', '21.67', '21.50', '49.58', '27.67', '39.83', '?', '27.25', '37.17', '?', '25.67', '34.00', '49.00', '62.50', '31.42', '?', '52.33', '28.75', '28.58', '23.00', '?', '22.50', '28.50', '37.50', '35.25', '18.67', '25.00', '27.83', '54.83', '28.75', '25.00', '40.92', '19.75', '29.17', '24.50', '24.58', '33.75', '20.67', '25.42', '37.75', '52.50', '57.83', '20.75', '39.92', '25.67', '24.75', '44.17', '23.50', '34.92', '47.67', '22.75', '34.42', '28.42', '67.75', '20.42', '47.42', '36.25', '32.67', '48.58', '39.92', '33.58', '18.83', '26.92', '31.25', '56.50', '43.00', '22.33', '27.25', '32.83', '23.25', '40.33', '30.50', '52.83', '46.67', '58.33', '37.33', '23.08', '32.75', '21.67', '28.50', '68.67', '28.00', '34.08', '27.67', '44.00', '25.08', '32.00', '60.58', '40.83', '19.33', '32.33', '36.67', '37.50', '25.08', '41.33', '56.00', '49.83', '22.67', '27.00', '25.00', '26.08', '18.42', '20.17', '47.67', '21.25', '20.67', '57.08', '22.42', '48.75', '40.00', '40.58', '28.67', '33.08', '21.33', '42.00', '41.75', '22.67', '34.50', '28.25', '33.17', '48.17', '27.58', '22.58', '24.08', '41.33', '24.83', '20.75', '36.33', '35.42', '71.58', '28.67', '35.17', '39.50', '39.33', '24.33', '60.08', '23.08', '26.67', '48.17', '41.17', '55.92', '53.92', '18.92', '50.08', '65.42', '17.58', '18.83', '37.75', '23.25', '18.08', '22.50', '19.67', '22.08', '25.17', '47.42', '33.50', '27.67', '58.42', '20.67', '26.17', '21.33', '42.83', '38.17', '20.50', '48.25', '28.33', '18.75', '18.50', '33.17', '45.00', '19.67', '24.50', '21.83', '40.25', '41.42', '17.83', '23.17', '?', '18.17', '20.00', '20.00', '20.75', '24.50', '32.75', '52.17', '48.17', '20.42', '50.75', '17.08', '18.33', '32.00', '59.67', '18.00', '37.58', '32.33', '18.08', '38.25', '30.67', '18.58', '19.17', '18.17', '24.58', '16.25', '21.17', '23.92', '17.67', '16.50', '23.25', '17.58', '?', '29.50', '18.83', '21.75', '23.00', '18.25', '25.42', '35.75', '16.08', '31.92', '69.17', '32.92', '16.33', '22.17', '57.58', '18.25', '23.42', '15.92', '24.75', '48.75', '23.50', '18.58', '27.75', '31.75', '24.83', '19.00', '16.33', '18.58', '16.25', '23.00', '21.17', '17.50', '19.17', '36.75', '21.25', '18.08', '33.67', '48.58', '33.67', '29.50', '30.17', '40.83', '34.83', '?', '20.42', '33.25', '34.08', '25.25', '34.75', '27.67', '47.33', '34.83', '33.25', '28.00', '39.08', '42.75', '26.92', '33.75', '38.92', '62.75', '32.25', '26.75', '63.33', '27.83', '26.17', '22.17', '22.50', '30.75', '36.67', '16.00', '41.17', '19.50', '32.42', '36.75', '30.25', '23.08', '26.83', '16.92', '24.42', '42.83', '22.75', '39.42', '23.58', '21.42', '33.00', '26.33', '45.00', '26.25', '28.17', '20.83', '28.67', '20.67', '34.42', '33.58', '43.17', '22.67', '24.33', '56.83', '22.08', '34.00', '22.58', '21.17', '26.67', '22.92', '15.17', '39.92', '27.42', '24.75', '41.17', '33.08', '29.83', '23.58', '26.17', '31.00', '20.75', '28.92', '51.92', '22.67', '34.00', '69.50', '40.33', '19.58', '16.00', '17.08', '31.25', '25.17', '22.67', '40.58', '22.25', '22.25', '22.50', '23.58', '38.42', '26.58', '35.00', '20.42', '29.42', '26.17', '33.67', '24.58', '27.67', '37.50', '49.17', '33.58', '51.83', '22.92', '21.83', '25.25', '58.58', '19.00', '19.58', '53.33', '27.17', '25.92', '23.08', '39.58', '30.58', '17.25', '17.67', '?', '16.50', '27.33', '31.25', '20.00', '?', '39.50', '36.50', '29.75', '52.42', '36.17', '34.58', '29.67', '36.17', '25.67', '24.50', '24.08', '21.92', '36.58', '23.00', '27.58', '31.08', '30.42', '22.08', '16.33', '21.92', '21.08', '17.42', '19.17', '20.67', '26.75', '23.58', '39.17', '22.75', '26.50', '16.92', '23.50', '17.33', '23.75', '34.67', '74.83', '28.17', '24.50', '18.83', '45.33', '47.25', '24.17', '39.25', '20.50', '18.83', '19.17', '25.00', '20.17', '25.75', '20.42', '?', '39.00', '64.08', '28.25', '28.75', '31.33', '18.92', '24.75', '30.67', '21.00', '13.75', '46.00', '44.33', '20.25', '22.67', '?', '60.92', '16.08', '28.17', '39.17', '20.42', '30.00', '22.83', '22.50', '28.58', '45.17', '41.58', '57.08', '55.75', '43.25', '25.33', '24.58', '43.17', '40.92', '31.83', '33.92', '24.92', '35.25', '34.25', '80.25', '19.42', '42.75', '19.67', '36.33', '30.08', '44.25', '23.58', '23.92', '33.17', '48.33', '76.75', '51.33', '34.75', '38.58', '22.42', '41.92', '29.58', '32.17', '51.42', '22.83', '25.00', '26.75', '23.33', '24.42', '42.17', '20.83', '23.08', '25.17', '43.08', '35.75', '59.50', '21.00', '21.92', '65.17', '20.33', '32.25', '30.17', '25.17', '39.17', '39.08', '31.67', '41.00', '48.50', '32.67', '28.08', '73.42', '64.08', '51.58', '26.67', '25.33', '30.17', '27.00', '23.17', '34.17', '38.67', '25.75', '46.08', '21.50', '20.08', '20.50', '29.50', '42.25', '29.83', '20.08', '23.42', '29.58', '16.17', '32.33', '?', '47.83', '20.00', '27.58', '22.00', '19.33', '38.33', '29.42', '22.67', '32.25', '29.58', '18.42', '22.17', '22.67', '25.58', '18.83', '21.58', '23.75', '22.00', '36.08', '29.25', '19.58', '22.92', '27.25', '38.75', '32.42', '23.75', '18.17', '40.92', '19.50', '28.58', '35.58', '34.17', '33.17', '31.58', '52.50', '36.17', '37.33', '20.83', '24.08', '25.58', '35.17', '48.08', '15.83', '22.50', '21.50', '23.58', '21.08', '25.67', '38.92', '15.75', '28.58', '22.25', '29.83', '23.50', '32.08', '31.08', '31.83', '21.75', '17.92', '30.33', '51.83', '47.17', '25.83', '50.25', '29.50', '37.33', '41.58', '30.58', '19.42', '17.92', '20.08', '19.50', '27.83', '17.08', '36.42', '40.58', '21.08', '22.67', '25.25', '17.92', '35.00']]\n",
      "['+', '+']\n"
     ]
    }
   ],
   "source": [
    "# tranform data\n",
    "x = [f[col].tolist() for col in f[[0,1,2,3,4,5,6,7,8,9,10,11,12,13,14]].columns]\n",
    "y = f[15].tolist()\n",
    "print(x[:2])\n",
    "print(y[:2])\n",
    "# WTF?"
   ]
  },
  {
   "cell_type": "code",
   "execution_count": 60,
   "metadata": {
    "collapsed": false
   },
   "outputs": [
    {
     "name": "stdout",
     "output_type": "stream",
     "text": [
      "[['b', '30.83', 0.0, 'u', 'g', 'w', 'v', 1.25, 't', 't', 1, 'f', 'g', '00202', 0], ['a', '58.67', 4.46, 'u', 'g', 'q', 'h', 3.04, 't', 't', 6, 'f', 'g', '00043', 560]]\n",
      "['+', '+']\n"
     ]
    }
   ],
   "source": [
    "# Just transpose dataframe\n",
    "x = [f[[0,1,2,3,4,5,6,7,8,9,10,11,12,13,14]].transpose()[col].tolist() for col in f[[0,1,2,3,4,5,6,7,8,9,10,11,12,13,14]].transpose().columns]\n",
    "y = f[15].tolist()\n",
    "print(x[:2])\n",
    "print(y[:2])"
   ]
  },
  {
   "cell_type": "code",
   "execution_count": 61,
   "metadata": {
    "collapsed": false
   },
   "outputs": [
    {
     "data": {
      "text/html": [
       "<div>\n",
       "<table border=\"1\" class=\"dataframe\">\n",
       "  <thead>\n",
       "    <tr style=\"text-align: right;\">\n",
       "      <th></th>\n",
       "      <th>0</th>\n",
       "    </tr>\n",
       "    <tr>\n",
       "      <th>5</th>\n",
       "      <th></th>\n",
       "    </tr>\n",
       "  </thead>\n",
       "  <tbody>\n",
       "    <tr>\n",
       "      <th>c</th>\n",
       "      <td>137</td>\n",
       "    </tr>\n",
       "    <tr>\n",
       "      <th>q</th>\n",
       "      <td>78</td>\n",
       "    </tr>\n",
       "    <tr>\n",
       "      <th>w</th>\n",
       "      <td>64</td>\n",
       "    </tr>\n",
       "    <tr>\n",
       "      <th>i</th>\n",
       "      <td>59</td>\n",
       "    </tr>\n",
       "    <tr>\n",
       "      <th>aa</th>\n",
       "      <td>54</td>\n",
       "    </tr>\n",
       "    <tr>\n",
       "      <th>ff</th>\n",
       "      <td>53</td>\n",
       "    </tr>\n",
       "    <tr>\n",
       "      <th>k</th>\n",
       "      <td>51</td>\n",
       "    </tr>\n",
       "    <tr>\n",
       "      <th>cc</th>\n",
       "      <td>41</td>\n",
       "    </tr>\n",
       "    <tr>\n",
       "      <th>m</th>\n",
       "      <td>38</td>\n",
       "    </tr>\n",
       "    <tr>\n",
       "      <th>x</th>\n",
       "      <td>38</td>\n",
       "    </tr>\n",
       "    <tr>\n",
       "      <th>d</th>\n",
       "      <td>30</td>\n",
       "    </tr>\n",
       "    <tr>\n",
       "      <th>e</th>\n",
       "      <td>25</td>\n",
       "    </tr>\n",
       "    <tr>\n",
       "      <th>j</th>\n",
       "      <td>10</td>\n",
       "    </tr>\n",
       "    <tr>\n",
       "      <th>?</th>\n",
       "      <td>9</td>\n",
       "    </tr>\n",
       "    <tr>\n",
       "      <th>r</th>\n",
       "      <td>3</td>\n",
       "    </tr>\n",
       "  </tbody>\n",
       "</table>\n",
       "</div>"
      ],
      "text/plain": [
       "      0\n",
       "5      \n",
       "c   137\n",
       "q    78\n",
       "w    64\n",
       "i    59\n",
       "aa   54\n",
       "ff   53\n",
       "k    51\n",
       "cc   41\n",
       "m    38\n",
       "x    38\n",
       "d    30\n",
       "e    25\n",
       "j    10\n",
       "?     9\n",
       "r     3"
      ]
     },
     "execution_count": 61,
     "metadata": {},
     "output_type": "execute_result"
    }
   ],
   "source": [
    "# Статистика значений в колонке 6\n",
    "f[[0,5]].groupby([5]).count().sort([0], ascending = False)"
   ]
  },
  {
   "cell_type": "code",
   "execution_count": 62,
   "metadata": {
    "collapsed": false
   },
   "outputs": [
    {
     "name": "stdout",
     "output_type": "stream",
     "text": [
      "Help on method sort in module pandas.core.frame:\n",
      "\n",
      "sort(self, columns=None, axis=0, ascending=True, inplace=False, kind='quicksort', na_position='last') unbound pandas.core.frame.DataFrame method\n",
      "    Sort DataFrame either by labels (along either axis) or by the values in\n",
      "    column(s)\n",
      "    \n",
      "    Parameters\n",
      "    ----------\n",
      "    columns : object\n",
      "        Column name(s) in frame. Accepts a column name or a list\n",
      "        for a nested sort. A tuple will be interpreted as the\n",
      "        levels of a multi-index.\n",
      "    ascending : boolean or list, default True\n",
      "        Sort ascending vs. descending. Specify list for multiple sort\n",
      "        orders\n",
      "    axis : {0 or 'index', 1 or 'columns'}, default 0\n",
      "        Sort index/rows versus columns\n",
      "    inplace : boolean, default False\n",
      "        Sort the DataFrame without creating a new instance\n",
      "    kind : {'quicksort', 'mergesort', 'heapsort'}, optional\n",
      "        This option is only applied when sorting on a single column or label.\n",
      "    na_position : {'first', 'last'} (optional, default='last')\n",
      "        'first' puts NaNs at the beginning\n",
      "        'last' puts NaNs at the end\n",
      "    \n",
      "    Examples\n",
      "    --------\n",
      "    >>> result = df.sort(['A', 'B'], ascending=[1, 0])\n",
      "    \n",
      "    Returns\n",
      "    -------\n",
      "    sorted : DataFrame\n",
      "\n"
     ]
    }
   ],
   "source": [
    "help(pd.DataFrame.sort)"
   ]
  },
  {
   "cell_type": "code",
   "execution_count": 63,
   "metadata": {
    "collapsed": false
   },
   "outputs": [
    {
     "data": {
      "text/plain": [
       "<matplotlib.axes.AxesSubplot at 0x1079d9fd0>"
      ]
     },
     "execution_count": 63,
     "metadata": {},
     "output_type": "execute_result"
    },
    {
     "data": {
      "image/png": "[encoded data removed]",
      "text/plain": [
       "<matplotlib.figure.Figure at 0x1079d9c10>"
      ]
     },
     "metadata": {},
     "output_type": "display_data"
    }
   ],
   "source": [
    "# There are also sum built-in plot functions\n",
    "f[[0,5]].groupby([5]).count().sort([0], ascending = False).plot()"
   ]
  },
  {
   "cell_type": "markdown",
   "metadata": {},
   "source": [
    "## Кодировки"
   ]
  },
  {
   "cell_type": "code",
   "execution_count": 64,
   "metadata": {
    "collapsed": false
   },
   "outputs": [
    {
     "data": {
      "text/plain": [
       "['XIII\\n',\n",
       " '\\n',\n",
       " '  \\n',\n",
       " '   \\xd0\\x9a\\xd0\\xb8\\xd1\\x82\\xd0\\xb8 \\xd0\\xb8\\xd1\\x81\\xd0\\xbf\\xd1\\x8b\\xd1\\x82\\xd1\\x8b\\xd0\\xb2\\xd0\\xb0\\xd0\\xbb\\xd0\\xb0 \\xd0\\xbf\\xd0\\xbe\\xd1\\x81\\xd0\\xbb\\xd0\\xb5 \\xd0\\xbe\\xd0\\xb1\\xd0\\xb5\\xd0\\xb4\\xd0\\xb0 \\xd0\\xb8 \\xd0\\xb4\\xd0\\xbe \\xd0\\xbd\\xd0\\xb0\\xd1\\x87\\xd0\\xb0\\xd0\\xbb\\xd0\\xb0 \\xd0\\xb2\\xd0\\xb5\\xd1\\x87\\xd0\\xb5\\xd1\\x80\\xd0\\xb0 \\xd1\\x87\\xd1\\x83\\xd0\\xb2\\xd1\\x81\\xd1\\x82\\xd0\\xb2\\xd0\\xbe, \\xd0\\xbf\\xd0\\xbe\\xd0\\xb4\\xd0\\xbe\\xd0\\xb1\\xd0\\xbd\\xd0\\xbe\\xd0\\xb5 \\xd1\\x82\\xd0\\xbe\\xd0\\xbc\\xd1\\x83, \\xd0\\xba\\xd0\\xb0\\xd0\\xba\\xd0\\xbe\\xd0\\xb5 \\xd0\\xb8\\xd1\\x81\\xd0\\xbf\\xd1\\x8b\\xd1\\x82\\xd1\\x8b\\xd0\\xb2\\xd0\\xb0\\xd0\\xb5\\xd1\\x82 \\xd1\\x8e\\xd0\\xbd\\xd0\\xbe\\xd1\\x88\\xd0\\xb0 \\xd0\\xbf\\xd1\\x80\\xd0\\xb5\\xd0\\xb4 \\xd0\\xb1\\xd0\\xb8\\xd1\\x82\\xd0\\xb2\\xd0\\xbe\\xd1\\x8e. \\xd0\\xa1\\xd0\\xb5\\xd1\\x80\\xd0\\xb4\\xd1\\x86\\xd0\\xb5 \\xd0\\xb5\\xd0\\xb5 \\xd0\\xb1\\xd0\\xb8\\xd0\\xbb\\xd0\\xbe\\xd1\\x81\\xd1\\x8c \\xd1\\x81\\xd0\\xb8\\xd0\\xbb\\xd1\\x8c\\xd0\\xbd\\xd0\\xbe, \\xd0\\xb8 \\xd0\\xbc\\xd1\\x8b\\xd1\\x81\\xd0\\xbb\\xd0\\xb8 \\xd0\\xbd\\xd0\\xb5 \\xd0\\xbc\\xd0\\xbe\\xd0\\xb3\\xd0\\xbb\\xd0\\xb8 \\xd0\\xbd\\xd0\\xb8 \\xd0\\xbd\\xd0\\xb0 \\xd1\\x87\\xd0\\xb5\\xd0\\xbc \\xd0\\xbe\\xd1\\x81\\xd1\\x82\\xd0\\xb0\\xd0\\xbd\\xd0\\xbe\\xd0\\xb2\\xd0\\xb8\\xd1\\x82\\xd1\\x8c\\xd1\\x81\\xd1\\x8f.\\n',\n",
       " '   \\xd0\\x9e\\xd0\\xbd\\xd0\\xb0 \\xd1\\x87\\xd1\\x83\\xd0\\xb2\\xd1\\x81\\xd1\\x82\\xd0\\xb2\\xd0\\xbe\\xd0\\xb2\\xd0\\xb0\\xd0\\xbb\\xd0\\xb0, \\xd1\\x87\\xd1\\x82\\xd0\\xbe \\xd0\\xbd\\xd1\\x8b\\xd0\\xbd\\xd0\\xb5\\xd1\\x88\\xd0\\xbd\\xd0\\xb8\\xd0\\xb9 \\xd0\\xb2\\xd0\\xb5\\xd1\\x87\\xd0\\xb5\\xd1\\x80, \\xd0\\xba\\xd0\\xbe\\xd0\\xb3\\xd0\\xb4\\xd0\\xb0 \\xd0\\xbe\\xd0\\xbd\\xd0\\xb8 \\xd0\\xbe\\xd0\\xb1\\xd0\\xb0 \\xd0\\xb2 \\xd0\\xbf\\xd0\\xb5\\xd1\\x80\\xd0\\xb2\\xd1\\x8b\\xd0\\xb9 \\xd1\\x80\\xd0\\xb0\\xd0\\xb7 \\xd0\\xb2\\xd1\\x81\\xd1\\x82\\xd1\\x80\\xd0\\xb5\\xd1\\x87\\xd0\\xb0\\xd1\\x8e\\xd1\\x82\\xd1\\x81\\xd1\\x8f, \\xd0\\xb4\\xd0\\xbe\\xd0\\xbb\\xd0\\xb6\\xd0\\xb5\\xd0\\xbd \\xd0\\xb1\\xd1\\x8b\\xd1\\x82\\xd1\\x8c \\xd1\\x80\\xd0\\xb5\\xd1\\x88\\xd0\\xb8\\xd1\\x82\\xd0\\xb5\\xd0\\xbb\\xd1\\x8c\\xd0\\xbd\\xd1\\x8b\\xd0\\xb9 \\xd0\\xb2 \\xd0\\xb5\\xd0\\xb5 \\xd1\\x81\\xd1\\x83\\xd0\\xb4\\xd1\\x8c\\xd0\\xb1\\xd0\\xb5. \\xd0\\x98 \\xd0\\xbe\\xd0\\xbd\\xd0\\xb0 \\xd0\\xb1\\xd0\\xb5\\xd1\\x81\\xd0\\xbf\\xd1\\x80\\xd0\\xb5\\xd1\\x81\\xd1\\x82\\xd0\\xb0\\xd0\\xbd\\xd0\\xbd\\xd0\\xbe \\xd0\\xbf\\xd1\\x80\\xd0\\xb5\\xd0\\xb4\\xd1\\x81\\xd1\\x82\\xd0\\xb0\\xd0\\xb2\\xd0\\xbb\\xd1\\x8f\\xd0\\xbb\\xd0\\xb0 \\xd1\\x81\\xd0\\xb5\\xd0\\xb1\\xd0\\xb5 \\xd0\\xb8\\xd1\\x85, \\xd1\\x82\\xd0\\xbe \\xd0\\xba\\xd0\\xb0\\xd0\\xb6\\xd0\\xb4\\xd0\\xbe\\xd0\\xb3\\xd0\\xbe \\xd0\\xbf\\xd0\\xbe\\xd1\\x80\\xd0\\xbe\\xd0\\xb7\\xd0\\xbd\\xd1\\x8c, \\xd1\\x82\\xd0\\xbe \\xd0\\xb2\\xd0\\xbc\\xd0\\xb5\\xd1\\x81\\xd1\\x82\\xd0\\xb5 \\xd0\\xbe\\xd0\\xb1\\xd0\\xbe\\xd0\\xb8\\xd1\\x85. \\xd0\\x9a\\xd0\\xbe\\xd0\\xb3\\xd0\\xb4\\xd0\\xb0 \\xd0\\xbe\\xd0\\xbd\\xd0\\xb0 \\xd0\\xb4\\xd1\\x83\\xd0\\xbc\\xd0\\xb0\\xd0\\xbb\\xd0\\xb0 \\xd0\\xbe \\xd0\\xbf\\xd1\\x80\\xd0\\xbe\\xd1\\x88\\xd0\\xb5\\xd0\\xb4\\xd1\\x88\\xd0\\xb5\\xd0\\xbc, \\xd0\\xbe\\xd0\\xbd\\xd0\\xb0 \\xd1\\x81 \\xd1\\x83\\xd0\\xb4\\xd0\\xbe\\xd0\\xb2\\xd0\\xbe\\xd0\\xbb\\xd1\\x8c\\xd1\\x81\\xd1\\x82\\xd0\\xb2\\xd0\\xb8\\xd0\\xb5\\xd0\\xbc, \\xd1\\x81 \\xd0\\xbd\\xd0\\xb5\\xd0\\xb6\\xd0\\xbd\\xd0\\xbe\\xd1\\x81\\xd1\\x82\\xd1\\x8c\\xd1\\x8e \\xd0\\xbe\\xd1\\x81\\xd1\\x82\\xd0\\xb0\\xd0\\xbd\\xd0\\xb0\\xd0\\xb2\\xd0\\xbb\\xd0\\xb8\\xd0\\xb2\\xd0\\xb0\\xd0\\xbb\\xd0\\xb0\\xd1\\x81\\xd1\\x8c \\xd0\\xbd\\xd0\\xb0 \\xd0\\xb2\\xd0\\xbe\\xd1\\x81\\xd0\\xbf\\xd0\\xbe\\xd0\\xbc\\xd0\\xb8\\xd0\\xbd\\xd0\\xb0\\xd0\\xbd\\xd0\\xb8\\xd1\\x8f\\xd1\\x85 \\xd1\\x81\\xd0\\xb2\\xd0\\xbe\\xd0\\xb8\\xd1\\x85 \\xd0\\xbe\\xd1\\x82\\xd0\\xbd\\xd0\\xbe\\xd1\\x88\\xd0\\xb5\\xd0\\xbd\\xd0\\xb8\\xd0\\xb9 \\xd0\\xba \\xd0\\x9b\\xd0\\xb5\\xd0\\xb2\\xd0\\xb8\\xd0\\xbd\\xd1\\x83. \\xd0\\x92\\xd0\\xbe\\xd1\\x81\\xd0\\xbf\\xd0\\xbe\\xd0\\xbc\\xd0\\xb8\\xd0\\xbd\\xd0\\xb0\\xd0\\xbd\\xd0\\xb8\\xd1\\x8f \\xd0\\xb4\\xd0\\xb5\\xd1\\x82\\xd1\\x81\\xd1\\x82\\xd0\\xb2\\xd0\\xb0 \\xd0\\xb8 \\xd0\\xb2\\xd0\\xbe\\xd1\\x81\\xd0\\xbf\\xd0\\xbe\\xd0\\xbc\\xd0\\xb8\\xd0\\xbd\\xd0\\xb0\\xd0\\xbd\\xd0\\xb8\\xd1\\x8f \\xd0\\xbe \\xd0\\xb4\\xd1\\x80\\xd1\\x83\\xd0\\xb6\\xd0\\xb1\\xd0\\xb5 \\xd0\\x9b\\xd0\\xb5\\xd0\\xb2\\xd0\\xb8\\xd0\\xbd\\xd0\\xb0 \\xd1\\x81 \\xd0\\xb5\\xd0\\xb5 \\xd1\\x83\\xd0\\xbc\\xd0\\xb5\\xd1\\x80\\xd1\\x88\\xd0\\xb8\\xd0\\xbc \\xd0\\xb1\\xd1\\x80\\xd0\\xb0\\xd1\\x82\\xd0\\xbe\\xd0\\xbc \\xd0\\xbf\\xd1\\x80\\xd0\\xb8\\xd0\\xb4\\xd0\\xb0\\xd0\\xb2\\xd0\\xb0\\xd0\\xbb\\xd0\\xb8 \\xd0\\xbe\\xd1\\x81\\xd0\\xbe\\xd0\\xb1\\xd0\\xb5\\xd0\\xbd\\xd0\\xbd\\xd1\\x83\\xd1\\x8e \\xd0\\xbf\\xd0\\xbe\\xd1\\x8d\\xd1\\x82\\xd0\\xb8\\xd1\\x87\\xd0\\xb5\\xd1\\x81\\xd0\\xba\\xd1\\x83\\xd1\\x8e \\xd0\\xbf\\xd1\\x80\\xd0\\xb5\\xd0\\xbb\\xd0\\xb5\\xd1\\x81\\xd1\\x82\\xd1\\x8c \\xd0\\xb5\\xd0\\xb5 \\xd0\\xbe\\xd1\\x82\\xd0\\xbd\\xd0\\xbe\\xd1\\x88\\xd0\\xb5\\xd0\\xbd\\xd0\\xb8\\xd1\\x8f\\xd0\\xbc \\xd1\\x81 \\xd0\\xbd\\xd0\\xb8\\xd0\\xbc. \\xd0\\x95\\xd0\\xb3\\xd0\\xbe \\xd0\\xbb\\xd1\\x8e\\xd0\\xb1\\xd0\\xbe\\xd0\\xb2\\xd1\\x8c \\xd0\\xba \\xd0\\xbd\\xd0\\xb5\\xd0\\xb9, \\xd0\\xb2 \\xd0\\xba\\xd0\\xbe\\xd1\\x82\\xd0\\xbe\\xd1\\x80\\xd0\\xbe\\xd0\\xb9 \\xd0\\xbe\\xd0\\xbd\\xd0\\xb0 \\xd0\\xb1\\xd1\\x8b\\xd0\\xbb\\xd0\\xb0 \\xd1\\x83\\xd0\\xb2\\xd0\\xb5\\xd1\\x80\\xd0\\xb5\\xd0\\xbd\\xd0\\xb0, \\xd0\\xb1\\xd1\\x8b\\xd0\\xbb\\xd0\\xb0 \\xd0\\xbb\\xd0\\xb5\\xd1\\x81\\xd1\\x82\\xd0\\xbd\\xd0\\xb0 \\xd0\\xb8 \\xd1\\x80\\xd0\\xb0\\xd0\\xb4\\xd0\\xbe\\xd1\\x81\\xd1\\x82\\xd0\\xbd\\xd0\\xb0 \\xd0\\xb5\\xd0\\xb9. \\xd0\\x98 \\xd0\\xb5\\xd0\\xb9 \\xd0\\xbb\\xd0\\xb5\\xd0\\xb3\\xd0\\xba\\xd0\\xbe \\xd0\\xb1\\xd1\\x8b\\xd0\\xbb\\xd0\\xbe \\xd0\\xb2\\xd1\\x81\\xd0\\xbf\\xd0\\xbe\\xd0\\xbc\\xd0\\xbd\\xd0\\xb8\\xd1\\x82\\xd1\\x8c \\xd0\\xbe \\xd0\\x9b\\xd0\\xb5\\xd0\\xb2\\xd0\\xb8\\xd0\\xbd\\xd0\\xb5. \\xd0\\x92 \\xd0\\xb2\\xd0\\xbe\\xd1\\x81\\xd0\\xbf\\xd0\\xbe\\xd0\\xbc\\xd0\\xb8\\xd0\\xbd\\xd0\\xb0\\xd0\\xbd\\xd0\\xb8\\xd0\\xb5 \\xd0\\xb6\\xd0\\xb5 \\xd0\\xbe \\xd0\\x92\\xd1\\x80\\xd0\\xbe\\xd0\\xbd\\xd1\\x81\\xd0\\xba\\xd0\\xbe\\xd0\\xbc \\xd0\\xbf\\xd1\\x80\\xd0\\xb8\\xd0\\xbc\\xd0\\xb5\\xd1\\x88\\xd0\\xb8\\xd0\\xb2\\xd0\\xb0\\xd0\\xbb\\xd0\\xbe\\xd1\\x81\\xd1\\x8c \\xd1\\x87\\xd1\\x82\\xd0\\xbe-\\xd1\\x82\\xd0\\xbe \\xd0\\xbd\\xd0\\xb5\\xd0\\xbb\\xd0\\xbe\\xd0\\xb2\\xd0\\xba\\xd0\\xbe\\xd0\\xb5, \\xd1\\x85\\xd0\\xbe\\xd1\\x82\\xd1\\x8f \\xd0\\xbe\\xd0\\xbd \\xd0\\xb1\\xd1\\x8b\\xd0\\xbb \\xd0\\xb2 \\xd0\\xb2\\xd1\\x8b\\xd1\\x81\\xd1\\x88\\xd0\\xb5\\xd0\\xb9 \\xd1\\x81\\xd1\\x82\\xd0\\xb5\\xd0\\xbf\\xd0\\xb5\\xd0\\xbd\\xd0\\xb8 \\xd1\\x81\\xd0\\xb2\\xd0\\xb5\\xd1\\x82\\xd1\\x81\\xd0\\xba\\xd0\\xb8\\xd0\\xb9 \\xd0\\xb8 \\xd1\\x81\\xd0\\xbf\\xd0\\xbe\\xd0\\xba\\xd0\\xbe\\xd0\\xb9\\xd0\\xbd\\xd1\\x8b\\xd0\\xb9 \\xd1\\x87\\xd0\\xb5\\xd0\\xbb\\xd0\\xbe\\xd0\\xb2\\xd0\\xb5\\xd0\\xba; \\xd0\\xba\\xd0\\xb0\\xd0\\xba \\xd0\\xb1\\xd1\\x83\\xd0\\xb4\\xd1\\x82\\xd0\\xbe \\xd1\\x84\\xd0\\xb0\\xd0\\xbb\\xd1\\x8c\\xd1\\x88\\xd1\\x8c \\xd0\\xba\\xd0\\xb0\\xd0\\xba\\xd0\\xb0\\xd1\\x8f-\\xd1\\x82\\xd0\\xbe \\xd0\\xb1\\xd1\\x8b\\xd0\\xbb\\xd0\\xb0, -- \\xd0\\xbd\\xd0\\xb5 \\xd0\\xb2 \\xd0\\xbd\\xd0\\xb5\\xd0\\xbc, \\xd0\\xbe\\xd0\\xbd \\xd0\\xb1\\xd1\\x8b\\xd0\\xbb \\xd0\\xbe\\xd1\\x87\\xd0\\xb5\\xd0\\xbd\\xd1\\x8c \\xd0\\xbf\\xd1\\x80\\xd0\\xbe\\xd1\\x81\\xd1\\x82 \\xd0\\xb8 \\xd0\\xbc\\xd0\\xb8\\xd0\\xbb, -- \\xd0\\xbd\\xd0\\xbe \\xd0\\xb2 \\xd0\\xbd\\xd0\\xb5\\xd0\\xb9 \\xd1\\x81\\xd0\\xb0\\xd0\\xbc\\xd0\\xbe\\xd0\\xb9, \\xd1\\x82\\xd0\\xbe\\xd0\\xb3\\xd0\\xb4\\xd0\\xb0 \\xd0\\xba\\xd0\\xb0\\xd0\\xba \\xd1\\x81 \\xd0\\x9b\\xd0\\xb5\\xd0\\xb2\\xd0\\xb8\\xd0\\xbd\\xd1\\x8b\\xd0\\xbc \\xd0\\xbe\\xd0\\xbd\\xd0\\xb0 \\xd1\\x87\\xd1\\x83\\xd0\\xb2\\xd1\\x81\\xd1\\x82\\xd0\\xb2\\xd0\\xbe\\xd0\\xb2\\xd0\\xb0\\xd0\\xbb\\xd0\\xb0 \\xd1\\x81\\xd0\\xb5\\xd0\\xb1\\xd1\\x8f \\xd1\\x81\\xd0\\xbe\\xd0\\xb2\\xd0\\xb5\\xd1\\x80\\xd1\\x88\\xd0\\xb5\\xd0\\xbd\\xd0\\xbd\\xd0\\xbe \\xd0\\xbf\\xd1\\x80\\xd0\\xbe\\xd1\\x81\\xd1\\x82\\xd0\\xbe\\xd1\\x8e \\xd0\\xb8 \\xd1\\x8f\\xd1\\x81\\xd0\\xbd\\xd0\\xbe\\xd1\\x8e. \\xd0\\x9d\\xd0\\xbe \\xd0\\xb7\\xd0\\xb0\\xd1\\x82\\xd0\\xbe, \\xd0\\xba\\xd0\\xb0\\xd0\\xba \\xd1\\x82\\xd0\\xbe\\xd0\\xbb\\xd1\\x8c\\xd0\\xba\\xd0\\xbe \\xd0\\xbe\\xd0\\xbd\\xd0\\xb0 \\xd0\\xb4\\xd1\\x83\\xd0\\xbc\\xd0\\xb0\\xd0\\xbb\\xd0\\xb0 \\xd0\\xbe \\xd0\\xb1\\xd1\\x83\\xd0\\xb4\\xd1\\x83\\xd1\\x89\\xd0\\xb5\\xd0\\xbc \\xd1\\x81 \\xd0\\x92\\xd1\\x80\\xd0\\xbe\\xd0\\xbd\\xd1\\x81\\xd0\\xba\\xd0\\xb8\\xd0\\xbc, \\xd0\\xbf\\xd1\\x80\\xd0\\xb5\\xd0\\xb4 \\xd0\\xbd\\xd0\\xb5\\xd0\\xb9 \\xd0\\xb2\\xd1\\x81\\xd1\\x82\\xd0\\xb0\\xd0\\xb2\\xd0\\xb0\\xd0\\xbb\\xd0\\xb0 \\xd0\\xbf\\xd0\\xb5\\xd1\\x80\\xd1\\x81\\xd0\\xbf\\xd0\\xb5\\xd0\\xba\\xd1\\x82\\xd0\\xb8\\xd0\\xb2\\xd0\\xb0 \\xd0\\xb1\\xd0\\xbb\\xd0\\xb5\\xd1\\x81\\xd1\\x82\\xd1\\x8f\\xd1\\x89\\xd0\\xb5-\\xd1\\x81\\xd1\\x87\\xd0\\xb0\\xd1\\x81\\xd1\\x82\\xd0\\xbb\\xd0\\xb8\\xd0\\xb2\\xd0\\xb0\\xd1\\x8f; \\xd1\\x81 \\xd0\\x9b\\xd0\\xb5\\xd0\\xb2\\xd0\\xb8\\xd0\\xbd\\xd1\\x8b\\xd0\\xbc \\xd0\\xb6\\xd0\\xb5 \\xd0\\xb1\\xd1\\x83\\xd0\\xb4\\xd1\\x83\\xd1\\x89\\xd0\\xbd\\xd0\\xbe\\xd1\\x81\\xd1\\x82\\xd1\\x8c \\xd0\\xbf\\xd1\\x80\\xd0\\xb5\\xd0\\xb4\\xd1\\x81\\xd1\\x82\\xd0\\xb0\\xd0\\xb2\\xd0\\xbb\\xd1\\x8f\\xd0\\xbb\\xd0\\xb0\\xd1\\x81\\xd1\\x8c \\xd1\\x82\\xd1\\x83\\xd0\\xbc\\xd0\\xb0\\xd0\\xbd\\xd0\\xbd\\xd0\\xbe\\xd1\\x8e.\\n',\n",
       " '   \\xd0\\x92\\xd0\\xb7\\xd0\\xbe\\xd0\\xb9\\xd0\\xb4\\xd1\\x8f \\xd0\\xbd\\xd0\\xb0\\xd0\\xb2\\xd0\\xb5\\xd1\\x80\\xd1\\x85 \\xd0\\xbe\\xd0\\xb4\\xd0\\xb5\\xd1\\x82\\xd1\\x8c\\xd1\\x81\\xd1\\x8f \\xd0\\xb4\\xd0\\xbb\\xd1\\x8f \\xd0\\xb2\\xd0\\xb5\\xd1\\x87\\xd0\\xb5\\xd1\\x80\\xd0\\xb0 \\xd0\\xb8 \\xd0\\xb2\\xd0\\xb7\\xd0\\xb3\\xd0\\xbb\\xd1\\x8f\\xd0\\xbd\\xd1\\x83\\xd0\\xb2 \\xd0\\xb2 \\xd0\\xb7\\xd0\\xb5\\xd1\\x80\\xd0\\xba\\xd0\\xb0\\xd0\\xbb\\xd0\\xbe, \\xd0\\xbe\\xd0\\xbd\\xd0\\xb0 \\xd1\\x81 \\xd1\\x80\\xd0\\xb0\\xd0\\xb4\\xd0\\xbe\\xd1\\x81\\xd1\\x82\\xd1\\x8c\\xd1\\x8e \\xd0\\xb7\\xd0\\xb0\\xd0\\xbc\\xd0\\xb5\\xd1\\x82\\xd0\\xb8\\xd0\\xbb\\xd0\\xb0, \\xd1\\x87\\xd1\\x82\\xd0\\xbe \\xd0\\xbe\\xd0\\xbd\\xd0\\xb0 \\xd0\\xb2 \\xd0\\xbe\\xd0\\xb4\\xd0\\xbd\\xd0\\xbe\\xd0\\xbc \\xd0\\xb8\\xd0\\xb7 \\xd1\\x81\\xd0\\xb2\\xd0\\xbe\\xd0\\xb8\\xd1\\x85 \\xd1\\x85\\xd0\\xbe\\xd1\\x80\\xd0\\xbe\\xd1\\x88\\xd0\\xb8\\xd1\\x85 \\xd0\\xb4\\xd0\\xbd\\xd0\\xb5\\xd0\\xb9 \\xd0\\xb8 \\xd0\\xb2 \\xd0\\xbf\\xd0\\xbe\\xd0\\xbb\\xd0\\xbd\\xd0\\xbe\\xd0\\xbc \\xd0\\xbe\\xd0\\xb1\\xd0\\xbb\\xd0\\xb0\\xd0\\xb4\\xd0\\xb0\\xd0\\xbd\\xd0\\xb8\\xd0\\xb8 \\xd0\\xb2\\xd1\\x81\\xd0\\xb5\\xd0\\xbc\\xd0\\xb8 \\xd1\\x81\\xd0\\xb2\\xd0\\xbe\\xd0\\xb8\\xd0\\xbc \\xd1\\x81\\xd0\\xb8\\xd0\\xbb\\xd0\\xb0\\xd0\\xbc\\xd0\\xb8, \\xd0\\xb0 \\xd1\\x8d\\xd1\\x82\\xd0\\xbe \\xd0\\xb5\\xd0\\xb9 \\xd1\\x82\\xd0\\xb0\\xd0\\xba \\xd0\\xbd\\xd1\\x83\\xd0\\xb6\\xd0\\xbd\\xd0\\xbe \\xd0\\xb1\\xd1\\x8b\\xd0\\xbb\\xd0\\xbe \\xd0\\xb4\\xd0\\xbb\\xd1\\x8f \\xd0\\xbf\\xd1\\x80\\xd0\\xb5\\xd0\\xb4\\xd1\\x81\\xd1\\x82\\xd0\\xbe\\xd1\\x8f\\xd1\\x89\\xd0\\xb5\\xd0\\xb3\\xd0\\xbe: \\xd0\\xbe\\xd0\\xbd\\xd0\\xb0 \\xd1\\x87\\xd1\\x83\\xd0\\xb2\\xd1\\x81\\xd1\\x82\\xd0\\xb2\\xd0\\xbe\\xd0\\xb2\\xd0\\xb0\\xd0\\xbb\\xd0\\xb0 \\xd0\\xb2 \\xd1\\x81\\xd0\\xb5\\xd0\\xb1\\xd0\\xb5 \\xd0\\xb2\\xd0\\xbd\\xd0\\xb5\\xd1\\x88\\xd0\\xbd\\xd1\\x8e\\xd1\\x8e \\xd1\\x82\\xd0\\xb8\\xd1\\x88\\xd0\\xb8\\xd0\\xbd\\xd1\\x83 \\xd0\\xb8 \\xd1\\x81\\xd0\\xb2\\xd0\\xbe\\xd0\\xb1\\xd0\\xbe\\xd0\\xb4\\xd0\\xbd\\xd1\\x83\\xd1\\x8e \\xd0\\xb3\\xd1\\x80\\xd0\\xb0\\xd1\\x86\\xd0\\xb8\\xd1\\x8e \\xd0\\xb4\\xd0\\xb2\\xd0\\xb8\\xd0\\xb6\\xd0\\xb5\\xd0\\xbd\\xd0\\xb8\\xd0\\xb9.\\n',\n",
       " '   \\xd0\\x92 \\xd0\\xbf\\xd0\\xbe\\xd0\\xbb\\xd0\\xbe\\xd0\\xb2\\xd0\\xb8\\xd0\\xbd\\xd0\\xb5 \\xd0\\xb2\\xd0\\xbe\\xd1\\x81\\xd1\\x8c\\xd0\\xbc\\xd0\\xbe\\xd0\\xb3\\xd0\\xbe, \\xd1\\x82\\xd0\\xbe\\xd0\\xbb\\xd1\\x8c\\xd0\\xba\\xd0\\xbe \\xd1\\x87\\xd1\\x82\\xd0\\xbe \\xd0\\xbe\\xd0\\xbd\\xd0\\xb0 \\xd1\\x81\\xd0\\xbe\\xd1\\x88\\xd0\\xbb\\xd0\\xb0 \\xd0\\xb2 \\xd0\\xb3\\xd0\\xbe\\xd1\\x81\\xd1\\x82\\xd0\\xb8\\xd0\\xbd\\xd1\\x83\\xd1\\x8e, \\xd0\\xbb\\xd0\\xb0\\xd0\\xba\\xd0\\xb5\\xd0\\xb9 \\xd0\\xb4\\xd0\\xbe\\xd0\\xbb\\xd0\\xbe\\xd0\\xb6\\xd0\\xb8\\xd0\\xbb: \"\\xd0\\x9a\\xd0\\xbe\\xd0\\xbd\\xd1\\x81\\xd1\\x82\\xd0\\xb0\\xd0\\xbd\\xd1\\x82\\xd0\\xb8\\xd0\\xbd \\xd0\\x94\\xd0\\xbc\\xd0\\xb8\\xd1\\x82\\xd1\\x80\\xd0\\xb8\\xd1\\x87 \\xd0\\x9b\\xd0\\xb5\\xd0\\xb2\\xd0\\xb8\\xd0\\xbd\". \\xd0\\x9a\\xd0\\xbd\\xd1\\x8f\\xd0\\xb3\\xd0\\xb8\\xd0\\xbd\\xd1\\x8f \\xd0\\xb1\\xd1\\x8b\\xd0\\xbb\\xd0\\xb0 \\xd0\\xb5\\xd1\\x89\\xd0\\xb5 \\xd0\\xb2 \\xd1\\x81\\xd0\\xb2\\xd0\\xbe\\xd0\\xb5\\xd0\\xb9 \\xd0\\xba\\xd0\\xbe\\xd0\\xbc\\xd0\\xbd\\xd0\\xb0\\xd1\\x82\\xd0\\xb5, \\xd0\\xb8 \\xd0\\xba\\xd0\\xbd\\xd1\\x8f\\xd0\\xb7\\xd1\\x8c \\xd0\\xbd\\xd0\\xb5 \\xd0\\xb2\\xd1\\x8b\\xd1\\x85\\xd0\\xbe\\xd0\\xb4\\xd0\\xb8\\xd0\\xbb. \"\\xd0\\xa2\\xd0\\xb0\\xd0\\xba \\xd0\\xb8 \\xd0\\xb5\\xd1\\x81\\xd1\\x82\\xd1\\x8c\", -- \\xd0\\xbf\\xd0\\xbe\\xd0\\xb4\\xd1\\x83\\xd0\\xbc\\xd0\\xb0\\xd0\\xbb\\xd0\\xb0 \\xd0\\x9a\\xd0\\xb8\\xd1\\x82\\xd0\\xb8, \\xd0\\xb8 \\xd0\\xb2\\xd1\\x81\\xd1\\x8f \\xd0\\xba\\xd1\\x80\\xd0\\xbe\\xd0\\xb2\\xd1\\x8c \\xd0\\xbf\\xd1\\x80\\xd0\\xb8\\xd0\\xbb\\xd0\\xb8\\xd0\\xbb\\xd0\\xb0 \\xd0\\xb5\\xd0\\xb9 \\xd0\\xba \\xd1\\x81\\xd0\\xb5\\xd1\\x80\\xd0\\xb4\\xd1\\x86\\xd1\\x83. \\xd0\\x9e\\xd0\\xbd\\xd0\\xb0 \\xd1\\x83\\xd0\\xb6\\xd0\\xb0\\xd1\\x81\\xd0\\xbd\\xd1\\x83\\xd0\\xbb\\xd0\\xb0\\xd1\\x81\\xd1\\x8c \\xd1\\x81\\xd0\\xb2\\xd0\\xbe\\xd0\\xb5\\xd0\\xb9 \\xd0\\xb1\\xd0\\xbb\\xd0\\xb5\\xd0\\xb4\\xd0\\xbd\\xd0\\xbe\\xd1\\x81\\xd1\\x82\\xd0\\xb8, \\xd0\\xb2\\xd0\\xb7\\xd0\\xb3\\xd0\\xbb\\xd1\\x8f\\xd0\\xbd\\xd1\\x83\\xd0\\xb2 \\xd0\\xb2 \\xd0\\xb7\\xd0\\xb5\\xd1\\x80\\xd0\\xba\\xd0\\xb0\\xd0\\xbb\\xd0\\xbe.\\n',\n",
       " '   \\xd0\\xa2\\xd0\\xb5\\xd0\\xbf\\xd0\\xb5\\xd1\\x80\\xd1\\x8c \\xd0\\xbe\\xd0\\xbd\\xd0\\xb0 \\xd0\\xb2\\xd0\\xb5\\xd1\\x80\\xd0\\xbd\\xd0\\xbe \\xd0\\xb7\\xd0\\xbd\\xd0\\xb0\\xd0\\xbb\\xd0\\xb0, \\xd1\\x87\\xd1\\x82\\xd0\\xbe \\xd0\\xbe\\xd0\\xbd \\xd0\\xb7\\xd0\\xb0\\xd1\\x82\\xd0\\xb5\\xd0\\xbc \\xd0\\xb8 \\xd0\\xbf\\xd1\\x80\\xd0\\xb8\\xd0\\xb5\\xd1\\x85\\xd0\\xb0\\xd0\\xbb \\xd1\\x80\\xd0\\xb0\\xd0\\xbd\\xd1\\x8c\\xd1\\x88\\xd0\\xb5, \\xd1\\x87\\xd1\\x82\\xd0\\xbe\\xd0\\xb1\\xd1\\x8b \\xd0\\xb7\\xd0\\xb0\\xd1\\x81\\xd1\\x82\\xd0\\xb0\\xd1\\x82\\xd1\\x8c \\xd0\\xb5\\xd0\\xb5 \\xd0\\xbe\\xd0\\xb4\\xd0\\xbd\\xd1\\x83 \\xd0\\xb8 \\xd1\\x81\\xd0\\xb4\\xd0\\xb5\\xd0\\xbb\\xd0\\xb0\\xd1\\x82\\xd1\\x8c \\xd0\\xbf\\xd1\\x80\\xd0\\xb5\\xd0\\xb4\\xd0\\xbb\\xd0\\xbe\\xd0\\xb6\\xd0\\xb5\\xd0\\xbd\\xd0\\xb8\\xd0\\xb5. \\xd0\\x98 \\xd1\\x82\\xd1\\x83\\xd1\\x82 \\xd1\\x82\\xd0\\xbe\\xd0\\xbb\\xd1\\x8c\\xd0\\xba\\xd0\\xbe \\xd0\\xb2 \\xd0\\xbf\\xd0\\xb5\\xd1\\x80\\xd0\\xb2\\xd1\\x8b\\xd0\\xb9 \\xd1\\x80\\xd0\\xb0\\xd0\\xb7 \\xd0\\xb2\\xd1\\x81\\xd0\\xb5 \\xd0\\xb4\\xd0\\xb5\\xd0\\xbb\\xd0\\xbe \\xd0\\xbf\\xd1\\x80\\xd0\\xb5\\xd0\\xb4\\xd1\\x81\\xd1\\x82\\xd0\\xb0\\xd0\\xb2\\xd0\\xb8\\xd0\\xbb\\xd0\\xbe\\xd1\\x81\\xd1\\x8c \\xd0\\xb5\\xd0\\xb9 \\xd1\\x81\\xd0\\xbe\\xd0\\xb2\\xd1\\x81\\xd0\\xb5\\xd0\\xbc \\xd1\\x81 \\xd0\\xb4\\xd1\\x80\\xd1\\x83\\xd0\\xb3\\xd0\\xbe\\xd0\\xb9, \\xd0\\xbd\\xd0\\xbe\\xd0\\xb2\\xd0\\xbe\\xd0\\xb9 \\xd1\\x81\\xd1\\x82\\xd0\\xbe\\xd1\\x80\\xd0\\xbe\\xd0\\xbd\\xd1\\x8b. \\xd0\\xa2\\xd1\\x83\\xd1\\x82 \\xd1\\x82\\xd0\\xbe\\xd0\\xbb\\xd1\\x8c\\xd0\\xba\\xd0\\xbe \\xd0\\xbe\\xd0\\xbd\\xd0\\xb0 \\xd0\\xbf\\xd0\\xbe\\xd0\\xbd\\xd1\\x8f\\xd0\\xbb\\xd0\\xb0, \\xd1\\x87\\xd1\\x82\\xd0\\xbe \\xd0\\xb2\\xd0\\xbe\\xd0\\xbf\\xd1\\x80\\xd0\\xbe\\xd1\\x81 \\xd0\\xba\\xd0\\xb0\\xd1\\x81\\xd0\\xb0\\xd0\\xb5\\xd1\\x82\\xd1\\x81\\xd1\\x8f \\xd0\\xbd\\xd0\\xb5 \\xd0\\xb5\\xd0\\xb5 \\xd0\\xbe\\xd0\\xb4\\xd0\\xbd\\xd0\\xbe\\xd0\\xb9, -- \\xd1\\x81 \\xd0\\xba\\xd0\\xb5\\xd0\\xbc \\xd0\\xbe\\xd0\\xbd\\xd0\\xb0 \\xd0\\xb1\\xd1\\x83\\xd0\\xb4\\xd0\\xb5\\xd1\\x82 \\xd1\\x81\\xd1\\x87\\xd0\\xb0\\xd1\\x81\\xd1\\x82\\xd0\\xbb\\xd0\\xb8\\xd0\\xb2\\xd0\\xb0 \\xd0\\xb8 \\xd0\\xba\\xd0\\xbe\\xd0\\xb3\\xd0\\xbe \\xd0\\xbe\\xd0\\xbd\\xd0\\xb0 \\xd0\\xbb\\xd1\\x8e\\xd0\\xb1\\xd0\\xb8\\xd1\\x82, -- \\xd0\\xbd\\xd0\\xbe \\xd1\\x87\\xd1\\x82\\xd0\\xbe \\xd1\\x81\\xd0\\xb8\\xd1\\x8e \\xd0\\xbc\\xd0\\xb8\\xd0\\xbd\\xd1\\x83\\xd1\\x82\\xd1\\x83 \\xd0\\xbe\\xd0\\xbd\\xd0\\xb0 \\xd0\\xb4\\xd0\\xbe\\xd0\\xbb\\xd0\\xb6\\xd0\\xbd\\xd0\\xb0 \\xd0\\xbe\\xd1\\x81\\xd0\\xba\\xd0\\xbe\\xd1\\x80\\xd0\\xb1\\xd0\\xb8\\xd1\\x82\\xd1\\x8c \\xd1\\x87\\xd0\\xb5\\xd0\\xbb\\xd0\\xbe\\xd0\\xb2\\xd0\\xb5\\xd0\\xba\\xd0\\xb0, \\xd0\\xba\\xd0\\xbe\\xd1\\x82\\xd0\\xbe\\xd1\\x80\\xd0\\xbe\\xd0\\xb3\\xd0\\xbe \\xd0\\xbe\\xd0\\xbd\\xd0\\xb0 \\xd0\\xbb\\xd1\\x8e\\xd0\\xb1\\xd0\\xb8\\xd1\\x82. \\xd0\\x98 \\xd0\\xbe\\xd1\\x81\\xd0\\xba\\xd0\\xbe\\xd1\\x80\\xd0\\xb1\\xd0\\xb8\\xd1\\x82\\xd1\\x8c \\xd0\\xb6\\xd0\\xb5\\xd1\\x81\\xd1\\x82\\xd0\\xbe\\xd0\\xba\\xd0\\xbe... \\xd0\\x97\\xd0\\xb0 \\xd1\\x87\\xd1\\x82\\xd0\\xbe? \\xd0\\x97\\xd0\\xb0 \\xd1\\x82\\xd0\\xbe, \\xd1\\x87\\xd1\\x82\\xd0\\xbe \\xd0\\xbe\\xd0\\xbd, \\xd0\\xbc\\xd0\\xb8\\xd0\\xbb\\xd1\\x8b\\xd0\\xb9, \\xd0\\xbb\\xd1\\x8e\\xd0\\xb1\\xd0\\xb8\\xd1\\x82 \\xd0\\xb5\\xd0\\xb5, \\xd0\\xb2\\xd0\\xbb\\xd1\\x8e\\xd0\\xb1\\xd0\\xbb\\xd0\\xb5\\xd0\\xbd \\xd0\\xb2 \\xd0\\xbd\\xd0\\xb5\\xd0\\xb5. \\xd0\\x9d\\xd0\\xbe, \\xd0\\xb4\\xd0\\xb5\\xd0\\xbb\\xd0\\xb0\\xd1\\x82\\xd1\\x8c \\xd0\\xbd\\xd0\\xb5\\xd1\\x87\\xd0\\xb5\\xd0\\xb3\\xd0\\xbe, \\xd1\\x82\\xd0\\xb0\\xd0\\xba \\xd0\\xbd\\xd1\\x83\\xd0\\xb6\\xd0\\xbd\\xd0\\xbe, \\xd1\\x82\\xd0\\xb0\\xd0\\xba \\xd0\\xb4\\xd0\\xbe\\xd0\\xbb\\xd0\\xb6\\xd0\\xbd\\xd0\\xbe.\\n',\n",
       " '   \"\\xd0\\x91\\xd0\\xbe\\xd0\\xb6\\xd0\\xb5 \\xd0\\xbc\\xd0\\xbe\\xd0\\xb9, \\xd0\\xbd\\xd0\\xb5\\xd1\\x83\\xd0\\xb6\\xd0\\xb5\\xd0\\xbb\\xd0\\xb8 \\xd1\\x8d\\xd1\\x82\\xd0\\xbe \\xd1\\x8f \\xd1\\x81\\xd0\\xb0\\xd0\\xbc\\xd0\\xb0 \\xd0\\xb4\\xd0\\xbe\\xd0\\xbb\\xd0\\xb6\\xd0\\xbd\\xd0\\xb0 \\xd1\\x81\\xd0\\xba\\xd0\\xb0\\xd0\\xb7\\xd0\\xb0\\xd1\\x82\\xd1\\x8c \\xd0\\xb5\\xd0\\xbc\\xd1\\x83? -- \\xd0\\xbf\\xd0\\xbe\\xd0\\xb4\\xd1\\x83\\xd0\\xbc\\xd0\\xb0\\xd0\\xbb\\xd0\\xb0 \\xd0\\xbe\\xd0\\xbd\\xd0\\xb0. -- \\xd0\\x9d\\xd1\\x83 \\xd1\\x87\\xd1\\x82\\xd0\\xbe \\xd1\\x8f \\xd1\\x81\\xd0\\xba\\xd0\\xb0\\xd0\\xb6\\xd1\\x83 \\xd0\\xb5\\xd0\\xbc\\xd1\\x83? \\xd0\\x9d\\xd0\\xb5\\xd1\\x83\\xd0\\xb6\\xd0\\xb5\\xd0\\xbb\\xd0\\xb8 \\xd1\\x8f \\xd1\\x81\\xd0\\xba\\xd0\\xb0\\xd0\\xb6\\xd1\\x83 \\xd0\\xb5\\xd0\\xbc\\xd1\\x83, \\xd1\\x87\\xd1\\x82\\xd0\\xbe \\xd1\\x8f \\xd0\\xb5\\xd0\\xb3\\xd0\\xbe \\xd0\\xbd\\xd0\\xb5 \\xd0\\xbb\\xd1\\x8e\\xd0\\xb1\\xd0\\xbb\\xd1\\x8e? \\xd0\\xad\\xd1\\x82\\xd0\\xbe \\xd0\\xb1\\xd1\\x83\\xd0\\xb4\\xd0\\xb5\\xd1\\x82 \\xd0\\xbd\\xd0\\xb5\\xd0\\xbf\\xd1\\x80\\xd0\\xb0\\xd0\\xb2\\xd0\\xb4\\xd0\\xb0. \\xd0\\xa7\\xd1\\x82\\xd0\\xbe \\xd0\\xb6 \\xd1\\x8f \\xd1\\x81\\xd0\\xba\\xd0\\xb0\\xd0\\xb6\\xd1\\x83 \\xd0\\xb5\\xd0\\xbc\\xd1\\x83? \\xd0\\xa1\\xd0\\xba\\xd0\\xb0\\xd0\\xb6\\xd1\\x83, \\xd1\\x87\\xd1\\x82\\xd0\\xbe \\xd0\\xbb\\xd1\\x8e\\xd0\\xb1\\xd0\\xbb\\xd1\\x8e \\xd0\\xb4\\xd1\\x80\\xd1\\x83\\xd0\\xb3\\xd0\\xbe\\xd0\\xb3\\xd0\\xbe? \\xd0\\x9d\\xd0\\xb5\\xd1\\x82, \\xd1\\x8d\\xd1\\x82\\xd0\\xbe \\xd0\\xbd\\xd0\\xb5\\xd0\\xb2\\xd0\\xbe\\xd0\\xb7\\xd0\\xbc\\xd0\\xbe\\xd0\\xb6\\xd0\\xbd\\xd0\\xbe. \\xd0\\xaf \\xd1\\x83\\xd0\\xb9\\xd0\\xb4\\xd1\\x83, \\xd1\\x83\\xd0\\xb9\\xd0\\xb4\\xd1\\x83\".\\n',\n",
       " '   \\xd0\\x9e\\xd0\\xbd\\xd0\\xb0 \\xd1\\x83\\xd0\\xb6\\xd0\\xb5 \\xd0\\xbf\\xd0\\xbe\\xd0\\xb4\\xd1\\x85\\xd0\\xbe\\xd0\\xb4\\xd0\\xb8\\xd0\\xbb\\xd0\\xb0 \\xd0\\xba \\xd0\\xb4\\xd0\\xb2\\xd0\\xb5\\xd1\\x80\\xd1\\x8f\\xd0\\xbc, \\xd0\\xba\\xd0\\xbe\\xd0\\xb3\\xd0\\xb4\\xd0\\xb0 \\xd1\\x83\\xd1\\x81\\xd0\\xbb\\xd1\\x8b\\xd1\\x85\\xd0\\xb0\\xd0\\xbb\\xd0\\xb0 \\xd0\\xb5\\xd0\\xb3\\xd0\\xbe \\xd1\\x88\\xd0\\xb0\\xd0\\xb3\\xd0\\xb8. \"\\xd0\\x9d\\xd0\\xb5\\xd1\\x82! \\xd0\\xbd\\xd0\\xb5\\xd1\\x87\\xd0\\xb5\\xd1\\x81\\xd1\\x82\\xd0\\xbd\\xd0\\xbe. \\xd0\\xa7\\xd0\\xb5\\xd0\\xb3\\xd0\\xbe \\xd0\\xbc\\xd0\\xbd\\xd0\\xb5 \\xd0\\xb1\\xd0\\xbe\\xd1\\x8f\\xd1\\x82\\xd1\\x8c\\xd1\\x81\\xd1\\x8f? \\xd0\\xaf \\xd0\\xbd\\xd0\\xb8\\xd1\\x87\\xd0\\xb5\\xd0\\xb3\\xd0\\xbe \\xd0\\xb4\\xd1\\x83\\xd1\\x80\\xd0\\xbd\\xd0\\xbe\\xd0\\xb3\\xd0\\xbe \\xd0\\xbd\\xd0\\xb5 \\xd1\\x81\\xd0\\xb4\\xd0\\xb5\\xd0\\xbb\\xd0\\xb0\\xd0\\xbb\\xd0\\xb0. \\xd0\\xa7\\xd1\\x82\\xd0\\xbe \\xd0\\xb1\\xd1\\x83\\xd0\\xb4\\xd0\\xb5\\xd1\\x82, \\xd1\\x82\\xd0\\xbe \\xd0\\xb1\\xd1\\x83\\xd0\\xb4\\xd0\\xb5\\xd1\\x82! \\xd0\\xa1\\xd0\\xba\\xd0\\xb0\\xd0\\xb6\\xd1\\x83 \\xd0\\xbf\\xd1\\x80\\xd0\\xb0\\xd0\\xb2\\xd0\\xb4\\xd1\\x83. \\xd0\\x94\\xd0\\xb0 \\xd1\\x81 \\xd0\\xbd\\xd0\\xb8\\xd0\\xbc \\xd0\\xbd\\xd0\\xb5 \\xd0\\xbc\\xd0\\xbe\\xd0\\xb6\\xd0\\xb5\\xd1\\x82 \\xd0\\xb1\\xd1\\x8b\\xd1\\x82\\xd1\\x8c \\xd0\\xbd\\xd0\\xb5\\xd0\\xbb\\xd0\\xbe\\xd0\\xb2\\xd0\\xba\\xd0\\xbe. \\xd0\\x92\\xd0\\xbe\\xd1\\x82 \\xd0\\xbe\\xd0\\xbd\", -- \\xd1\\x81\\xd0\\xba\\xd0\\xb0\\xd0\\xb7\\xd0\\xb0\\xd0\\xbb\\xd0\\xb0 \\xd0\\xbe\\xd0\\xbd\\xd0\\xb0 \\xd1\\x81\\xd0\\xb5\\xd0\\xb1\\xd0\\xb5, \\xd1\\x83\\xd0\\xb2\\xd0\\xb8\\xd0\\xb4\\xd0\\xb0\\xd0\\xb2 \\xd0\\xb2\\xd1\\x81\\xd1\\x8e \\xd0\\xb5\\xd0\\xb3\\xd0\\xbe \\xd1\\x81\\xd0\\xb8\\xd0\\xbb\\xd1\\x8c\\xd0\\xbd\\xd1\\x83\\xd1\\x8e \\xd0\\xb8 \\xd1\\x80\\xd0\\xbe\\xd0\\xb1\\xd0\\xba\\xd1\\x83\\xd1\\x8e \\xd1\\x84\\xd0\\xb8\\xd0\\xb3\\xd1\\x83\\xd1\\x80\\xd1\\x83 \\xd1\\x81 \\xd0\\xb1\\xd0\\xbb\\xd0\\xb5\\xd1\\x81\\xd1\\x82\\xd1\\x8f\\xd1\\x89\\xd0\\xb8\\xd0\\xbc\\xd0\\xb8, \\xd1\\x83\\xd1\\x81\\xd1\\x82\\xd1\\x80\\xd0\\xb5\\xd0\\xbc\\xd0\\xbb\\xd0\\xb5\\xd0\\xbd\\xd0\\xbd\\xd1\\x8b\\xd0\\xbc\\xd0\\xb8 \\xd0\\xbd\\xd0\\xb0 \\xd1\\x81\\xd0\\xb5\\xd0\\xb1\\xd1\\x8f \\xd0\\xb3\\xd0\\xbb\\xd0\\xb0\\xd0\\xb7\\xd0\\xb0\\xd0\\xbc\\xd0\\xb8. \\xd0\\x9e\\xd0\\xbd\\xd0\\xb0 \\xd0\\xbf\\xd1\\x80\\xd1\\x8f\\xd0\\xbc\\xd0\\xbe \\xd0\\xb2\\xd0\\xb7\\xd0\\xb3\\xd0\\xbb\\xd1\\x8f\\xd0\\xbd\\xd1\\x83\\xd0\\xbb\\xd0\\xb0 \\xd0\\xb5\\xd0\\xbc\\xd1\\x83 \\xd0\\xb2 \\xd0\\xbb\\xd0\\xb8\\xd1\\x86\\xd0\\xbe, \\xd0\\xba\\xd0\\xb0\\xd0\\xba \\xd0\\xb1\\xd1\\x8b \\xd1\\x83\\xd0\\xbc\\xd0\\xbe\\xd0\\xbb\\xd1\\x8f\\xd1\\x8f \\xd0\\xb5\\xd0\\xb3\\xd0\\xbe \\xd0\\xbe \\xd0\\xbf\\xd0\\xbe\\xd1\\x89\\xd0\\xb0\\xd0\\xb4\\xd0\\xb5, \\xd0\\xb8 \\xd0\\xbf\\xd0\\xbe\\xd0\\xb4\\xd0\\xb0\\xd0\\xbb\\xd0\\xb0 \\xd1\\x80\\xd1\\x83\\xd0\\xba\\xd1\\x83.\\n',\n",
       " '   -- \\xd0\\xaf \\xd0\\xbd\\xd0\\xb5 \\xd0\\xb2\\xd0\\xbe\\xd0\\xb2\\xd1\\x80\\xd0\\xb5\\xd0\\xbc\\xd1\\x8f, \\xd0\\xba\\xd0\\xb0\\xd0\\xb6\\xd0\\xb5\\xd1\\x82\\xd1\\x81\\xd1\\x8f, \\xd1\\x81\\xd0\\xbb\\xd0\\xb8\\xd1\\x88\\xd0\\xba\\xd0\\xbe\\xd0\\xbc \\xd1\\x80\\xd0\\xb0\\xd0\\xbd\\xd0\\xbe, -- \\xd1\\x81\\xd0\\xba\\xd0\\xb0\\xd0\\xb7\\xd0\\xb0\\xd0\\xbb \\xd0\\xbe\\xd0\\xbd, \\xd0\\xbe\\xd0\\xb3\\xd0\\xbb\\xd1\\x8f\\xd0\\xbd\\xd1\\x83\\xd0\\xb2 \\xd0\\xbf\\xd1\\x83\\xd1\\x81\\xd1\\x82\\xd1\\x83\\xd1\\x8e \\xd0\\xb3\\xd0\\xbe\\xd1\\x81\\xd1\\x82\\xd0\\xb8\\xd0\\xbd\\xd1\\x83\\xd1\\x8e. \\xd0\\x9a\\xd0\\xbe\\xd0\\xb3\\xd0\\xb4\\xd0\\xb0 \\xd0\\xbe\\xd0\\xbd \\xd1\\x83\\xd0\\xb2\\xd0\\xb8\\xd0\\xb4\\xd0\\xb0\\xd0\\xbb, \\xd1\\x87\\xd1\\x82\\xd0\\xbe \\xd0\\xb5\\xd0\\xb3\\xd0\\xbe \\xd0\\xbe\\xd0\\xb6\\xd0\\xb8\\xd0\\xb4\\xd0\\xb0\\xd0\\xbd\\xd0\\xb8\\xd1\\x8f \\xd1\\x81\\xd0\\xb1\\xd1\\x8b\\xd0\\xbb\\xd0\\xb8\\xd1\\x81\\xd1\\x8c, \\xd1\\x87\\xd1\\x82\\xd0\\xbe \\xd0\\xbd\\xd0\\xb8\\xd1\\x87\\xd1\\x82\\xd0\\xbe \\xd0\\xbd\\xd0\\xb5 \\xd0\\xbc\\xd0\\xb5\\xd1\\x88\\xd0\\xb0\\xd0\\xb5\\xd1\\x82 \\xd0\\xb5\\xd0\\xbc\\xd1\\x83 \\xd0\\xb2\\xd1\\x8b\\xd1\\x81\\xd0\\xba\\xd0\\xb0\\xd0\\xb7\\xd0\\xb0\\xd1\\x82\\xd1\\x8c\\xd1\\x81\\xd1\\x8f, \\xd0\\xbb\\xd0\\xb8\\xd1\\x86\\xd0\\xbe \\xd0\\xb5\\xd0\\xb3\\xd0\\xbe \\xd1\\x81\\xd0\\xb4\\xd0\\xb5\\xd0\\xbb\\xd0\\xb0\\xd0\\xbb\\xd0\\xbe\\xd1\\x81\\xd1\\x8c \\xd0\\xbc\\xd1\\x80\\xd0\\xb0\\xd1\\x87\\xd0\\xbd\\xd0\\xbe.\\n',\n",
       " '   -- \\xd0\\x9e \\xd0\\xbd\\xd0\\xb5\\xd1\\x82, -- \\xd1\\x81\\xd0\\xba\\xd0\\xb0\\xd0\\xb7\\xd0\\xb0\\xd0\\xbb\\xd0\\xb0 \\xd0\\x9a\\xd0\\xb8\\xd1\\x82\\xd0\\xb8 \\xd0\\xb8 \\xd1\\x81\\xd0\\xb5\\xd0\\xbb\\xd0\\xb0 \\xd0\\xba \\xd1\\x81\\xd1\\x82\\xd0\\xbe\\xd0\\xbb\\xd1\\x83.\\n',\n",
       " '   -- \\xd0\\x9d\\xd0\\xbe \\xd1\\x8f \\xd1\\x82\\xd0\\xbe\\xd0\\xbb\\xd1\\x8c\\xd0\\xba\\xd0\\xbe \\xd1\\x82\\xd0\\xbe\\xd0\\xb3\\xd0\\xbe \\xd0\\xb8 \\xd1\\x85\\xd0\\xbe\\xd1\\x82\\xd0\\xb5\\xd0\\xbb, \\xd1\\x87\\xd1\\x82\\xd0\\xbe\\xd0\\xb1\\xd1\\x8b \\xd0\\xb7\\xd0\\xb0\\xd1\\x81\\xd1\\x82\\xd0\\xb0\\xd1\\x82\\xd1\\x8c \\xd0\\xb2\\xd0\\xb0\\xd1\\x81 \\xd0\\xbe\\xd0\\xb4\\xd0\\xbd\\xd1\\x83, -- \\xd0\\xbd\\xd0\\xb0\\xd1\\x87\\xd0\\xb0\\xd0\\xbb \\xd0\\xbe\\xd0\\xbd, \\xd0\\xbd\\xd0\\xb5 \\xd1\\x81\\xd0\\xb0\\xd0\\xb4\\xd1\\x8f\\xd1\\x81\\xd1\\x8c \\xd0\\xb8 \\xd0\\xbd\\xd0\\xb5 \\xd0\\xb3\\xd0\\xbb\\xd1\\x8f\\xd0\\xb4\\xd1\\x8f \\xd0\\xbd\\xd0\\xb0 \\xd0\\xbd\\xd0\\xb5\\xd0\\xb5, \\xd1\\x87\\xd1\\x82\\xd0\\xbe\\xd0\\xb1\\xd1\\x8b \\xd0\\xbd\\xd0\\xb5 \\xd0\\xbf\\xd0\\xbe\\xd1\\x82\\xd0\\xb5\\xd1\\x80\\xd1\\x8f\\xd1\\x82\\xd1\\x8c \\xd1\\x81\\xd0\\xbc\\xd0\\xb5\\xd0\\xbb\\xd0\\xbe\\xd1\\x81\\xd1\\x82\\xd0\\xb8.\\n',\n",
       " '   -- \\xd0\\x9c\\xd0\\xb0\\xd0\\xbc\\xd0\\xb0 \\xd1\\x81\\xd0\\xb5\\xd0\\xb9\\xd1\\x87\\xd0\\xb0\\xd1\\x81 \\xd0\\xb2\\xd1\\x8b\\xd0\\xb9\\xd0\\xb4\\xd0\\xb5\\xd1\\x82. \\xd0\\x9e\\xd0\\xbd\\xd0\\xb0 \\xd0\\xb2\\xd1\\x87\\xd0\\xb5\\xd1\\x80\\xd0\\xb0 \\xd0\\xbe\\xd1\\x87\\xd0\\xb5\\xd0\\xbd\\xd1\\x8c \\xd1\\x83\\xd1\\x81\\xd1\\x82\\xd0\\xb0\\xd0\\xbb\\xd0\\xb0. \\xd0\\x92\\xd1\\x87\\xd0\\xb5\\xd1\\x80\\xd0\\xb0...\\n',\n",
       " '   \\xd0\\x9e\\xd0\\xbd\\xd0\\xb0 \\xd0\\xb3\\xd0\\xbe\\xd0\\xb2\\xd0\\xbe\\xd1\\x80\\xd0\\xb8\\xd0\\xbb\\xd0\\xb0, \\xd1\\x81\\xd0\\xb0\\xd0\\xbc\\xd0\\xb0 \\xd0\\xbd\\xd0\\xb5 \\xd0\\xb7\\xd0\\xbd\\xd0\\xb0\\xd1\\x8f, \\xd1\\x87\\xd1\\x82\\xd0\\xbe \\xd0\\xb3\\xd0\\xbe\\xd0\\xb2\\xd0\\xbe\\xd1\\x80\\xd1\\x8f\\xd1\\x82 \\xd0\\xb5\\xd0\\xb5 \\xd0\\xb3\\xd1\\x83\\xd0\\xb1\\xd1\\x8b, \\xd0\\xb8 \\xd0\\xbd\\xd0\\xb5 \\xd1\\x81\\xd0\\xbf\\xd1\\x83\\xd1\\x81\\xd0\\xba\\xd0\\xb0\\xd1\\x8f \\xd1\\x81 \\xd0\\xbd\\xd0\\xb5\\xd0\\xb3\\xd0\\xbe \\xd1\\x83\\xd0\\xbc\\xd0\\xbe\\xd0\\xbb\\xd1\\x8f\\xd1\\x8e\\xd1\\x89\\xd0\\xb5\\xd0\\xb3\\xd0\\xbe \\xd0\\xb8 \\xd0\\xbb\\xd0\\xb0\\xd1\\x81\\xd0\\xba\\xd0\\xb0\\xd1\\x8e\\xd1\\x89\\xd0\\xb5\\xd0\\xb3\\xd0\\xbe \\xd0\\xb2\\xd0\\xb7\\xd0\\xb3\\xd0\\xbb\\xd1\\x8f\\xd0\\xb4\\xd0\\xb0...\\n',\n",
       " '   \\xd0\\x9e\\xd0\\xbd \\xd0\\xb2\\xd0\\xb7\\xd0\\xb3\\xd0\\xbb\\xd1\\x8f\\xd0\\xbd\\xd1\\x83\\xd0\\xbb \\xd0\\xbd\\xd0\\xb0 \\xd0\\xbd\\xd0\\xb5\\xd0\\xb5; \\xd0\\xbe\\xd0\\xbd\\xd0\\xb0 \\xd0\\xbf\\xd0\\xbe\\xd0\\xba\\xd1\\x80\\xd0\\xb0\\xd1\\x81\\xd0\\xbd\\xd0\\xb5\\xd0\\xbb\\xd0\\xb0 \\xd0\\xb8 \\xd0\\xb7\\xd0\\xb0\\xd0\\xbc\\xd0\\xbe\\xd0\\xbb\\xd1\\x87\\xd0\\xb0\\xd0\\xbb\\xd0\\xb0.\\n',\n",
       " '   -- \\xd0\\xaf \\xd1\\x81\\xd0\\xba\\xd0\\xb0\\xd0\\xb7\\xd0\\xb0\\xd0\\xbb \\xd0\\xb2\\xd0\\xb0\\xd0\\xbc, \\xd1\\x87\\xd1\\x82\\xd0\\xbe \\xd0\\xbd\\xd0\\xb5 \\xd0\\xb7\\xd0\\xbd\\xd0\\xb0\\xd1\\x8e, \\xd0\\xbd\\xd0\\xb0\\xd0\\xb4\\xd0\\xbe\\xd0\\xbb\\xd0\\xb3\\xd0\\xbe \\xd0\\xbb\\xd0\\xb8 \\xd1\\x8f \\xd0\\xbf\\xd1\\x80\\xd0\\xb8\\xd0\\xb5\\xd1\\x85\\xd0\\xb0\\xd0\\xbb... \\xd1\\x87\\xd1\\x82\\xd0\\xbe \\xd1\\x8d\\xd1\\x82\\xd0\\xbe \\xd0\\xbe\\xd1\\x82 \\xd0\\xb2\\xd0\\xb0\\xd1\\x81 \\xd0\\xb7\\xd0\\xb0\\xd0\\xb2\\xd0\\xb8\\xd1\\x81\\xd0\\xb8\\xd1\\x82...\\n',\n",
       " '   \\xd0\\x9e\\xd0\\xbd\\xd0\\xb0 \\xd0\\xb2\\xd1\\x81\\xd0\\xb5 \\xd0\\xbd\\xd0\\xb8\\xd0\\xb6\\xd0\\xb5 \\xd0\\xb8 \\xd0\\xbd\\xd0\\xb8\\xd0\\xb6\\xd0\\xb5 \\xd1\\x81\\xd0\\xba\\xd0\\xbb\\xd0\\xbe\\xd0\\xbd\\xd1\\x8f\\xd0\\xbb\\xd0\\xb0 \\xd0\\xb3\\xd0\\xbe\\xd0\\xbb\\xd0\\xbe\\xd0\\xb2\\xd1\\x83, \\xd0\\xbd\\xd0\\xb5 \\xd0\\xb7\\xd0\\xbd\\xd0\\xb0\\xd1\\x8f \\xd1\\x81\\xd0\\xb0\\xd0\\xbc\\xd0\\xb0, \\xd1\\x87\\xd1\\x82\\xd0\\xbe \\xd0\\xb1\\xd1\\x83\\xd0\\xb4\\xd0\\xb5\\xd1\\x82 \\xd0\\xbe\\xd1\\x82\\xd0\\xb2\\xd0\\xb5\\xd1\\x87\\xd0\\xb0\\xd1\\x82\\xd1\\x8c \\xd0\\xbd\\xd0\\xb0 \\xd0\\xbf\\xd1\\x80\\xd0\\xb8\\xd0\\xb1\\xd0\\xbb\\xd0\\xb8\\xd0\\xb6\\xd0\\xb0\\xd0\\xb2\\xd1\\x88\\xd0\\xb5\\xd0\\xb5\\xd1\\x81\\xd1\\x8f.\\n',\n",
       " '   -- \\xd0\\xa7\\xd1\\x82\\xd0\\xbe \\xd1\\x8d\\xd1\\x82\\xd0\\xbe \\xd0\\xbe\\xd1\\x82 \\xd0\\xb2\\xd0\\xb0\\xd1\\x81 \\xd0\\xb7\\xd0\\xb0\\xd0\\xb2\\xd0\\xb8\\xd1\\x81\\xd0\\xb8\\xd1\\x82, -- \\xd0\\xbf\\xd0\\xbe\\xd0\\xb2\\xd1\\x82\\xd0\\xbe\\xd1\\x80\\xd0\\xb8\\xd0\\xbb \\xd0\\xbe\\xd0\\xbd. -- \\xd0\\xaf \\xd1\\x85\\xd0\\xbe\\xd1\\x82\\xd0\\xb5\\xd0\\xbb \\xd1\\x81\\xd0\\xba\\xd0\\xb0\\xd0\\xb7\\xd0\\xb0\\xd1\\x82\\xd1\\x8c... \\xd1\\x8f \\xd1\\x85\\xd0\\xbe\\xd1\\x82\\xd0\\xb5\\xd0\\xbb \\xd1\\x81\\xd0\\xba\\xd0\\xb0\\xd0\\xb7\\xd0\\xb0\\xd1\\x82\\xd1\\x8c... \\xd0\\xaf \\xd0\\xb7\\xd0\\xb0 \\xd1\\x8d\\xd1\\x82\\xd0\\xb8\\xd0\\xbc \\xd0\\xbf\\xd1\\x80\\xd0\\xb8\\xd0\\xb5\\xd1\\x85\\xd0\\xb0\\xd0\\xbb... -- \\xd1\\x87\\xd1\\x82\\xd0\\xbe... \\xd0\\xb1\\xd1\\x8b\\xd1\\x82\\xd1\\x8c \\xd0\\xbc\\xd0\\xbe\\xd0\\xb5\\xd1\\x8e \\xd0\\xb6\\xd0\\xb5\\xd0\\xbd\\xd0\\xbe\\xd0\\xb9!-- \\xd0\\xbf\\xd1\\x80\\xd0\\xbe\\xd0\\xb3\\xd0\\xbe\\xd0\\xb2\\xd0\\xbe\\xd1\\x80\\xd0\\xb8\\xd0\\xbb \\xd0\\xbe\\xd0\\xbd, \\xd0\\xbd\\xd0\\xb5 \\xd0\\xb7\\xd0\\xbd\\xd0\\xb0\\xd1\\x8f \\xd1\\x81\\xd0\\xb0\\xd0\\xbc, \\xd1\\x87\\xd1\\x82\\xd0\\xbe \\xd0\\xb3\\xd0\\xbe\\xd0\\xb2\\xd0\\xbe\\xd1\\x80\\xd0\\xb8\\xd0\\xbb; \\xd0\\xbd\\xd0\\xbe, \\xd0\\xbf\\xd0\\xbe\\xd1\\x87\\xd1\\x83\\xd0\\xb2\\xd1\\x81\\xd1\\x82\\xd0\\xb2\\xd0\\xbe\\xd0\\xb2\\xd0\\xb0\\xd0\\xb2, \\xd1\\x87\\xd1\\x82\\xd0\\xbe \\xd1\\x81\\xd0\\xb0\\xd0\\xbc\\xd0\\xbe\\xd0\\xb5 \\xd1\\x81\\xd1\\x82\\xd1\\x80\\xd0\\xb0\\xd1\\x88\\xd0\\xbd\\xd0\\xbe\\xd0\\xb5 \\xd1\\x81\\xd0\\xba\\xd0\\xb0\\xd0\\xb7\\xd0\\xb0\\xd0\\xbd\\xd0\\xbe, \\xd0\\xbe\\xd1\\x81\\xd1\\x82\\xd0\\xb0\\xd0\\xbd\\xd0\\xbe\\xd0\\xb2\\xd0\\xb8\\xd0\\xbb\\xd1\\x81\\xd1\\x8f \\xd0\\xb8 \\xd0\\xbf\\xd0\\xbe\\xd1\\x81\\xd0\\xbc\\xd0\\xbe\\xd1\\x82\\xd1\\x80\\xd0\\xb5\\xd0\\xbb \\xd0\\xbd\\xd0\\xb0 \\xd0\\xbd\\xd0\\xb5\\xd0\\xb5.\\n',\n",
       " '   \\xd0\\x9e\\xd0\\xbd\\xd0\\xb0 \\xd1\\x82\\xd1\\x8f\\xd0\\xb6\\xd0\\xb5\\xd0\\xbb\\xd0\\xbe \\xd0\\xb4\\xd1\\x8b\\xd1\\x88\\xd0\\xb0\\xd0\\xbb\\xd0\\xb0, \\xd0\\xbd\\xd0\\xb5 \\xd0\\xb3\\xd0\\xbb\\xd1\\x8f\\xd0\\xb4\\xd1\\x8f \\xd0\\xbd\\xd0\\xb0 \\xd0\\xbd\\xd0\\xb5\\xd0\\xb3\\xd0\\xbe. \\xd0\\x9e\\xd0\\xbd\\xd0\\xb0 \\xd0\\xb8\\xd1\\x81\\xd0\\xbf\\xd1\\x8b\\xd1\\x82\\xd1\\x8b\\xd0\\xb2\\xd0\\xb0\\xd0\\xbb\\xd0\\xb0 \\xd0\\xb2\\xd0\\xbe\\xd1\\x81\\xd1\\x82\\xd0\\xbe\\xd1\\x80\\xd0\\xb3. \\xd0\\x94\\xd1\\x83\\xd1\\x88\\xd0\\xb0 \\xd0\\xb5\\xd0\\xb5 \\xd0\\xb1\\xd1\\x8b\\xd0\\xbb\\xd0\\xb0 \\xd0\\xbf\\xd0\\xb5\\xd1\\x80\\xd0\\xb5\\xd0\\xbf\\xd0\\xbe\\xd0\\xbb\\xd0\\xbd\\xd0\\xb5\\xd0\\xbd\\xd0\\xb0 \\xd1\\x81\\xd1\\x87\\xd0\\xb0\\xd1\\x81\\xd1\\x82\\xd1\\x8c\\xd0\\xb5\\xd0\\xbc. \\xd0\\x9e\\xd0\\xbd\\xd0\\xb0 \\xd0\\xbd\\xd0\\xb8\\xd0\\xba\\xd0\\xb0\\xd0\\xba \\xd0\\xbd\\xd0\\xb5 \\xd0\\xbe\\xd0\\xb6\\xd0\\xb8\\xd0\\xb4\\xd0\\xb0\\xd0\\xbb\\xd0\\xb0, \\xd1\\x87\\xd1\\x82\\xd0\\xbe \\xd0\\xb2\\xd1\\x8b\\xd1\\x81\\xd0\\xba\\xd0\\xb0\\xd0\\xb7\\xd0\\xb0\\xd0\\xbd\\xd0\\xbd\\xd0\\xb0\\xd1\\x8f \\xd0\\xbb\\xd1\\x8e\\xd0\\xb1\\xd0\\xbe\\xd0\\xb2\\xd1\\x8c \\xd0\\xb5\\xd0\\xb3\\xd0\\xbe \\xd0\\xbf\\xd1\\x80\\xd0\\xbe\\xd0\\xb8\\xd0\\xb7\\xd0\\xb2\\xd0\\xb5\\xd0\\xb4\\xd0\\xb5\\xd1\\x82 \\xd0\\xbd\\xd0\\xb0 \\xd0\\xbd\\xd0\\xb5\\xd0\\xb5 \\xd1\\x82\\xd0\\xb0\\xd0\\xba\\xd0\\xbe\\xd0\\xb5 \\xd1\\x81\\xd0\\xb8\\xd0\\xbb\\xd1\\x8c\\xd0\\xbd\\xd0\\xbe\\xd0\\xb5 \\xd0\\xb2\\xd0\\xbf\\xd0\\xb5\\xd1\\x87\\xd0\\xb0\\xd1\\x82\\xd0\\xbb\\xd0\\xb5\\xd0\\xbd\\xd0\\xb8\\xd0\\xb5. \\xd0\\x9d\\xd0\\xbe \\xd1\\x8d\\xd1\\x82\\xd0\\xbe \\xd0\\xbf\\xd1\\x80\\xd0\\xbe\\xd0\\xb4\\xd0\\xbe\\xd0\\xbb\\xd0\\xb6\\xd0\\xb0\\xd0\\xbb\\xd0\\xbe\\xd1\\x81\\xd1\\x8c \\xd1\\x82\\xd0\\xbe\\xd0\\xbb\\xd1\\x8c\\xd0\\xba\\xd0\\xbe \\xd0\\xbe\\xd0\\xb4\\xd0\\xbd\\xd0\\xbe \\xd0\\xbc\\xd0\\xb3\\xd0\\xbd\\xd0\\xbe\\xd0\\xb2\\xd0\\xb5\\xd0\\xbd\\xd0\\xb8\\xd0\\xb5. \\xd0\\x9e\\xd0\\xbd\\xd0\\xb0 \\xd0\\xb2\\xd1\\x81\\xd0\\xbf\\xd0\\xbe\\xd0\\xbc\\xd0\\xbd\\xd0\\xb8\\xd0\\xbb\\xd0\\xb0 \\xd0\\x92\\xd1\\x80\\xd0\\xbe\\xd0\\xbd\\xd1\\x81\\xd0\\xba\\xd0\\xbe\\xd0\\xb3\\xd0\\xbe. \\xd0\\x9e\\xd0\\xbd\\xd0\\xb0 \\xd0\\xbf\\xd0\\xbe\\xd0\\xb4\\xd0\\xbd\\xd1\\x8f\\xd0\\xbb\\xd0\\xb0 \\xd0\\xbd\\xd0\\xb0 \\xd0\\x9b\\xd0\\xb5\\xd0\\xb2\\xd0\\xb8\\xd0\\xbd\\xd0\\xb0 \\xd1\\x81\\xd0\\xb2\\xd0\\xbe\\xd0\\xb8 \\xd1\\x81\\xd0\\xb2\\xd0\\xb5\\xd1\\x82\\xd0\\xbb\\xd1\\x8b\\xd0\\xb5 \\xd0\\xbf\\xd1\\x80\\xd0\\xb0\\xd0\\xb2\\xd0\\xb4\\xd0\\xb8\\xd0\\xb2\\xd1\\x8b\\xd0\\xb5 \\xd0\\xb3\\xd0\\xbb\\xd0\\xb0\\xd0\\xb7\\xd0\\xb0 \\xd0\\xb8, \\xd1\\x83\\xd0\\xb2\\xd0\\xb8\\xd0\\xb4\\xd0\\xb0\\xd0\\xb2 \\xd0\\xb5\\xd0\\xb3\\xd0\\xbe \\xd0\\xbe\\xd1\\x82\\xd1\\x87\\xd0\\xb0\\xd1\\x8f\\xd0\\xbd\\xd0\\xbd\\xd0\\xbe\\xd0\\xb5 \\xd0\\xbb\\xd0\\xb8\\xd1\\x86\\xd0\\xbe, \\xd0\\xbf\\xd0\\xbe\\xd1\\x81\\xd0\\xbf\\xd0\\xb5\\xd1\\x88\\xd0\\xbd\\xd0\\xbe \\xd0\\xbe\\xd1\\x82\\xd0\\xb2\\xd0\\xb5\\xd1\\x82\\xd0\\xb8\\xd0\\xbb\\xd0\\xb0:\\n',\n",
       " '   -- \\xd0\\xad\\xd1\\x82\\xd0\\xbe\\xd0\\xb3\\xd0\\xbe \\xd0\\xbd\\xd0\\xb5 \\xd0\\xbc\\xd0\\xbe\\xd0\\xb6\\xd0\\xb5\\xd1\\x82 \\xd0\\xb1\\xd1\\x8b\\xd1\\x82\\xd1\\x8c... \\xd0\\xbf\\xd1\\x80\\xd0\\xbe\\xd1\\x81\\xd1\\x82\\xd0\\xb8\\xd1\\x82\\xd0\\xb5 \\xd0\\xbc\\xd0\\xb5\\xd0\\xbd\\xd1\\x8f...\\n',\n",
       " '   \\xd0\\x9a\\xd0\\xb0\\xd0\\xba \\xd0\\xb7\\xd0\\xb0 \\xd0\\xbc\\xd0\\xb8\\xd0\\xbd\\xd1\\x83\\xd1\\x82\\xd1\\x83 \\xd1\\x82\\xd0\\xbe\\xd0\\xbc\\xd1\\x83 \\xd0\\xbd\\xd0\\xb0\\xd0\\xb7\\xd0\\xb0\\xd0\\xb4 \\xd0\\xbe\\xd0\\xbd\\xd0\\xb0 \\xd0\\xb1\\xd1\\x8b\\xd0\\xbb\\xd0\\xb0 \\xd0\\xb1\\xd0\\xbb\\xd0\\xb8\\xd0\\xb7\\xd0\\xba\\xd0\\xb0 \\xd0\\xb5\\xd0\\xbc\\xd1\\x83, \\xd0\\xba\\xd0\\xb0\\xd0\\xba \\xd0\\xb2\\xd0\\xb0\\xd0\\xb6\\xd0\\xbd\\xd0\\xb0 \\xd0\\xb4\\xd0\\xbb\\xd1\\x8f \\xd0\\xb5\\xd0\\xb3\\xd0\\xbe \\xd0\\xb6\\xd0\\xb8\\xd0\\xb7\\xd0\\xbd\\xd0\\xb8! \\xd0\\x98 \\xd0\\xba\\xd0\\xb0\\xd0\\xba \\xd1\\x82\\xd0\\xb5\\xd0\\xbf\\xd0\\xb5\\xd1\\x80\\xd1\\x8c \\xd0\\xbe\\xd0\\xbd\\xd0\\xb0 \\xd1\\x81\\xd1\\x82\\xd0\\xb0\\xd0\\xbb\\xd0\\xb0 \\xd1\\x87\\xd1\\x83\\xd0\\xb6\\xd0\\xb4\\xd0\\xb0 \\xd0\\xb8 \\xd0\\xb4\\xd0\\xb0\\xd0\\xbb\\xd0\\xb5\\xd0\\xba\\xd0\\xb0 \\xd0\\xb5\\xd0\\xbc\\xd1\\x83!\\n',\n",
       " '   -- \\xd0\\xad\\xd1\\x82\\xd0\\xbe \\xd0\\xbd\\xd0\\xb5 \\xd0\\xbc\\xd0\\xbe\\xd0\\xb3\\xd0\\xbb\\xd0\\xbe \\xd0\\xb1\\xd1\\x8b\\xd1\\x82\\xd1\\x8c \\xd0\\xb8\\xd0\\xbd\\xd0\\xb0\\xd1\\x87\\xd0\\xb5, -- \\xd1\\x81\\xd0\\xba\\xd0\\xb0\\xd0\\xb7\\xd0\\xb0\\xd0\\xbb \\xd0\\xbe\\xd0\\xbd, \\xd0\\xbd\\xd0\\xb5 \\xd0\\xb3\\xd0\\xbb\\xd1\\x8f\\xd0\\xb4\\xd1\\x8f \\xd0\\xbd\\xd0\\xb0 \\xd0\\xbd\\xd0\\xb5\\xd0\\xb5.\\n',\n",
       " '   \\xd0\\x9e\\xd0\\xbd \\xd0\\xbf\\xd0\\xbe\\xd0\\xba\\xd0\\xbb\\xd0\\xbe\\xd0\\xbd\\xd0\\xb8\\xd0\\xbb\\xd1\\x81\\xd1\\x8f \\xd0\\xb8 \\xd1\\x85\\xd0\\xbe\\xd1\\x82\\xd0\\xb5\\xd0\\xbb \\xd1\\x83\\xd0\\xb9\\xd1\\x82\\xd0\\xb8...\\n']"
      ]
     },
     "execution_count": 64,
     "metadata": {},
     "output_type": "execute_result"
    }
   ],
   "source": [
    "with open('data/JCS/anna_utf8.txt','r') as f:\n",
    "    lines = f.readlines()\n",
    "lines[:24] # array of strings"
   ]
  },
  {
   "cell_type": "code",
   "execution_count": 65,
   "metadata": {
    "collapsed": false
   },
   "outputs": [
    {
     "data": {
      "text/plain": [
       "['XIII\\n',\n",
       " '\\n',\n",
       " '  \\n',\n",
       " '   \\xca\\xe8\\xf2\\xe8 \\xe8\\xf1\\xef\\xfb\\xf2\\xfb\\xe2\\xe0\\xeb\\xe0 \\xef\\xee\\xf1\\xeb\\xe5 \\xee\\xe1\\xe5\\xe4\\xe0 \\xe8 \\xe4\\xee \\xed\\xe0\\xf7\\xe0\\xeb\\xe0 \\xe2\\xe5\\xf7\\xe5\\xf0\\xe0 \\xf7\\xf3\\xe2\\xf1\\xf2\\xe2\\xee, \\xef\\xee\\xe4\\xee\\xe1\\xed\\xee\\xe5 \\xf2\\xee\\xec\\xf3, \\xea\\xe0\\xea\\xee\\xe5 \\xe8\\xf1\\xef\\xfb\\xf2\\xfb\\xe2\\xe0\\xe5\\xf2 \\xfe\\xed\\xee\\xf8\\xe0 \\xef\\xf0\\xe5\\xe4 \\xe1\\xe8\\xf2\\xe2\\xee\\xfe. \\xd1\\xe5\\xf0\\xe4\\xf6\\xe5 \\xe5\\xe5 \\xe1\\xe8\\xeb\\xee\\xf1\\xfc \\xf1\\xe8\\xeb\\xfc\\xed\\xee, \\xe8 \\xec\\xfb\\xf1\\xeb\\xe8 \\xed\\xe5 \\xec\\xee\\xe3\\xeb\\xe8 \\xed\\xe8 \\xed\\xe0 \\xf7\\xe5\\xec \\xee\\xf1\\xf2\\xe0\\xed\\xee\\xe2\\xe8\\xf2\\xfc\\xf1\\xff.\\n',\n",
       " '   \\xce\\xed\\xe0 \\xf7\\xf3\\xe2\\xf1\\xf2\\xe2\\xee\\xe2\\xe0\\xeb\\xe0, \\xf7\\xf2\\xee \\xed\\xfb\\xed\\xe5\\xf8\\xed\\xe8\\xe9 \\xe2\\xe5\\xf7\\xe5\\xf0, \\xea\\xee\\xe3\\xe4\\xe0 \\xee\\xed\\xe8 \\xee\\xe1\\xe0 \\xe2 \\xef\\xe5\\xf0\\xe2\\xfb\\xe9 \\xf0\\xe0\\xe7 \\xe2\\xf1\\xf2\\xf0\\xe5\\xf7\\xe0\\xfe\\xf2\\xf1\\xff, \\xe4\\xee\\xeb\\xe6\\xe5\\xed \\xe1\\xfb\\xf2\\xfc \\xf0\\xe5\\xf8\\xe8\\xf2\\xe5\\xeb\\xfc\\xed\\xfb\\xe9 \\xe2 \\xe5\\xe5 \\xf1\\xf3\\xe4\\xfc\\xe1\\xe5. \\xc8 \\xee\\xed\\xe0 \\xe1\\xe5\\xf1\\xef\\xf0\\xe5\\xf1\\xf2\\xe0\\xed\\xed\\xee \\xef\\xf0\\xe5\\xe4\\xf1\\xf2\\xe0\\xe2\\xeb\\xff\\xeb\\xe0 \\xf1\\xe5\\xe1\\xe5 \\xe8\\xf5, \\xf2\\xee \\xea\\xe0\\xe6\\xe4\\xee\\xe3\\xee \\xef\\xee\\xf0\\xee\\xe7\\xed\\xfc, \\xf2\\xee \\xe2\\xec\\xe5\\xf1\\xf2\\xe5 \\xee\\xe1\\xee\\xe8\\xf5. \\xca\\xee\\xe3\\xe4\\xe0 \\xee\\xed\\xe0 \\xe4\\xf3\\xec\\xe0\\xeb\\xe0 \\xee \\xef\\xf0\\xee\\xf8\\xe5\\xe4\\xf8\\xe5\\xec, \\xee\\xed\\xe0 \\xf1 \\xf3\\xe4\\xee\\xe2\\xee\\xeb\\xfc\\xf1\\xf2\\xe2\\xe8\\xe5\\xec, \\xf1 \\xed\\xe5\\xe6\\xed\\xee\\xf1\\xf2\\xfc\\xfe \\xee\\xf1\\xf2\\xe0\\xed\\xe0\\xe2\\xeb\\xe8\\xe2\\xe0\\xeb\\xe0\\xf1\\xfc \\xed\\xe0 \\xe2\\xee\\xf1\\xef\\xee\\xec\\xe8\\xed\\xe0\\xed\\xe8\\xff\\xf5 \\xf1\\xe2\\xee\\xe8\\xf5 \\xee\\xf2\\xed\\xee\\xf8\\xe5\\xed\\xe8\\xe9 \\xea \\xcb\\xe5\\xe2\\xe8\\xed\\xf3. \\xc2\\xee\\xf1\\xef\\xee\\xec\\xe8\\xed\\xe0\\xed\\xe8\\xff \\xe4\\xe5\\xf2\\xf1\\xf2\\xe2\\xe0 \\xe8 \\xe2\\xee\\xf1\\xef\\xee\\xec\\xe8\\xed\\xe0\\xed\\xe8\\xff \\xee \\xe4\\xf0\\xf3\\xe6\\xe1\\xe5 \\xcb\\xe5\\xe2\\xe8\\xed\\xe0 \\xf1 \\xe5\\xe5 \\xf3\\xec\\xe5\\xf0\\xf8\\xe8\\xec \\xe1\\xf0\\xe0\\xf2\\xee\\xec \\xef\\xf0\\xe8\\xe4\\xe0\\xe2\\xe0\\xeb\\xe8 \\xee\\xf1\\xee\\xe1\\xe5\\xed\\xed\\xf3\\xfe \\xef\\xee\\xfd\\xf2\\xe8\\xf7\\xe5\\xf1\\xea\\xf3\\xfe \\xef\\xf0\\xe5\\xeb\\xe5\\xf1\\xf2\\xfc \\xe5\\xe5 \\xee\\xf2\\xed\\xee\\xf8\\xe5\\xed\\xe8\\xff\\xec \\xf1 \\xed\\xe8\\xec. \\xc5\\xe3\\xee \\xeb\\xfe\\xe1\\xee\\xe2\\xfc \\xea \\xed\\xe5\\xe9, \\xe2 \\xea\\xee\\xf2\\xee\\xf0\\xee\\xe9 \\xee\\xed\\xe0 \\xe1\\xfb\\xeb\\xe0 \\xf3\\xe2\\xe5\\xf0\\xe5\\xed\\xe0, \\xe1\\xfb\\xeb\\xe0 \\xeb\\xe5\\xf1\\xf2\\xed\\xe0 \\xe8 \\xf0\\xe0\\xe4\\xee\\xf1\\xf2\\xed\\xe0 \\xe5\\xe9. \\xc8 \\xe5\\xe9 \\xeb\\xe5\\xe3\\xea\\xee \\xe1\\xfb\\xeb\\xee \\xe2\\xf1\\xef\\xee\\xec\\xed\\xe8\\xf2\\xfc \\xee \\xcb\\xe5\\xe2\\xe8\\xed\\xe5. \\xc2 \\xe2\\xee\\xf1\\xef\\xee\\xec\\xe8\\xed\\xe0\\xed\\xe8\\xe5 \\xe6\\xe5 \\xee \\xc2\\xf0\\xee\\xed\\xf1\\xea\\xee\\xec \\xef\\xf0\\xe8\\xec\\xe5\\xf8\\xe8\\xe2\\xe0\\xeb\\xee\\xf1\\xfc \\xf7\\xf2\\xee-\\xf2\\xee \\xed\\xe5\\xeb\\xee\\xe2\\xea\\xee\\xe5, \\xf5\\xee\\xf2\\xff \\xee\\xed \\xe1\\xfb\\xeb \\xe2 \\xe2\\xfb\\xf1\\xf8\\xe5\\xe9 \\xf1\\xf2\\xe5\\xef\\xe5\\xed\\xe8 \\xf1\\xe2\\xe5\\xf2\\xf1\\xea\\xe8\\xe9 \\xe8 \\xf1\\xef\\xee\\xea\\xee\\xe9\\xed\\xfb\\xe9 \\xf7\\xe5\\xeb\\xee\\xe2\\xe5\\xea; \\xea\\xe0\\xea \\xe1\\xf3\\xe4\\xf2\\xee \\xf4\\xe0\\xeb\\xfc\\xf8\\xfc \\xea\\xe0\\xea\\xe0\\xff-\\xf2\\xee \\xe1\\xfb\\xeb\\xe0, -- \\xed\\xe5 \\xe2 \\xed\\xe5\\xec, \\xee\\xed \\xe1\\xfb\\xeb \\xee\\xf7\\xe5\\xed\\xfc \\xef\\xf0\\xee\\xf1\\xf2 \\xe8 \\xec\\xe8\\xeb, -- \\xed\\xee \\xe2 \\xed\\xe5\\xe9 \\xf1\\xe0\\xec\\xee\\xe9, \\xf2\\xee\\xe3\\xe4\\xe0 \\xea\\xe0\\xea \\xf1 \\xcb\\xe5\\xe2\\xe8\\xed\\xfb\\xec \\xee\\xed\\xe0 \\xf7\\xf3\\xe2\\xf1\\xf2\\xe2\\xee\\xe2\\xe0\\xeb\\xe0 \\xf1\\xe5\\xe1\\xff \\xf1\\xee\\xe2\\xe5\\xf0\\xf8\\xe5\\xed\\xed\\xee \\xef\\xf0\\xee\\xf1\\xf2\\xee\\xfe \\xe8 \\xff\\xf1\\xed\\xee\\xfe. \\xcd\\xee \\xe7\\xe0\\xf2\\xee, \\xea\\xe0\\xea \\xf2\\xee\\xeb\\xfc\\xea\\xee \\xee\\xed\\xe0 \\xe4\\xf3\\xec\\xe0\\xeb\\xe0 \\xee \\xe1\\xf3\\xe4\\xf3\\xf9\\xe5\\xec \\xf1 \\xc2\\xf0\\xee\\xed\\xf1\\xea\\xe8\\xec, \\xef\\xf0\\xe5\\xe4 \\xed\\xe5\\xe9 \\xe2\\xf1\\xf2\\xe0\\xe2\\xe0\\xeb\\xe0 \\xef\\xe5\\xf0\\xf1\\xef\\xe5\\xea\\xf2\\xe8\\xe2\\xe0 \\xe1\\xeb\\xe5\\xf1\\xf2\\xff\\xf9\\xe5-\\xf1\\xf7\\xe0\\xf1\\xf2\\xeb\\xe8\\xe2\\xe0\\xff; \\xf1 \\xcb\\xe5\\xe2\\xe8\\xed\\xfb\\xec \\xe6\\xe5 \\xe1\\xf3\\xe4\\xf3\\xf9\\xed\\xee\\xf1\\xf2\\xfc \\xef\\xf0\\xe5\\xe4\\xf1\\xf2\\xe0\\xe2\\xeb\\xff\\xeb\\xe0\\xf1\\xfc \\xf2\\xf3\\xec\\xe0\\xed\\xed\\xee\\xfe.\\n',\n",
       " '   \\xc2\\xe7\\xee\\xe9\\xe4\\xff \\xed\\xe0\\xe2\\xe5\\xf0\\xf5 \\xee\\xe4\\xe5\\xf2\\xfc\\xf1\\xff \\xe4\\xeb\\xff \\xe2\\xe5\\xf7\\xe5\\xf0\\xe0 \\xe8 \\xe2\\xe7\\xe3\\xeb\\xff\\xed\\xf3\\xe2 \\xe2 \\xe7\\xe5\\xf0\\xea\\xe0\\xeb\\xee, \\xee\\xed\\xe0 \\xf1 \\xf0\\xe0\\xe4\\xee\\xf1\\xf2\\xfc\\xfe \\xe7\\xe0\\xec\\xe5\\xf2\\xe8\\xeb\\xe0, \\xf7\\xf2\\xee \\xee\\xed\\xe0 \\xe2 \\xee\\xe4\\xed\\xee\\xec \\xe8\\xe7 \\xf1\\xe2\\xee\\xe8\\xf5 \\xf5\\xee\\xf0\\xee\\xf8\\xe8\\xf5 \\xe4\\xed\\xe5\\xe9 \\xe8 \\xe2 \\xef\\xee\\xeb\\xed\\xee\\xec \\xee\\xe1\\xeb\\xe0\\xe4\\xe0\\xed\\xe8\\xe8 \\xe2\\xf1\\xe5\\xec\\xe8 \\xf1\\xe2\\xee\\xe8\\xec \\xf1\\xe8\\xeb\\xe0\\xec\\xe8, \\xe0 \\xfd\\xf2\\xee \\xe5\\xe9 \\xf2\\xe0\\xea \\xed\\xf3\\xe6\\xed\\xee \\xe1\\xfb\\xeb\\xee \\xe4\\xeb\\xff \\xef\\xf0\\xe5\\xe4\\xf1\\xf2\\xee\\xff\\xf9\\xe5\\xe3\\xee: \\xee\\xed\\xe0 \\xf7\\xf3\\xe2\\xf1\\xf2\\xe2\\xee\\xe2\\xe0\\xeb\\xe0 \\xe2 \\xf1\\xe5\\xe1\\xe5 \\xe2\\xed\\xe5\\xf8\\xed\\xfe\\xfe \\xf2\\xe8\\xf8\\xe8\\xed\\xf3 \\xe8 \\xf1\\xe2\\xee\\xe1\\xee\\xe4\\xed\\xf3\\xfe \\xe3\\xf0\\xe0\\xf6\\xe8\\xfe \\xe4\\xe2\\xe8\\xe6\\xe5\\xed\\xe8\\xe9.\\n',\n",
       " '   \\xc2 \\xef\\xee\\xeb\\xee\\xe2\\xe8\\xed\\xe5 \\xe2\\xee\\xf1\\xfc\\xec\\xee\\xe3\\xee, \\xf2\\xee\\xeb\\xfc\\xea\\xee \\xf7\\xf2\\xee \\xee\\xed\\xe0 \\xf1\\xee\\xf8\\xeb\\xe0 \\xe2 \\xe3\\xee\\xf1\\xf2\\xe8\\xed\\xf3\\xfe, \\xeb\\xe0\\xea\\xe5\\xe9 \\xe4\\xee\\xeb\\xee\\xe6\\xe8\\xeb: \"\\xca\\xee\\xed\\xf1\\xf2\\xe0\\xed\\xf2\\xe8\\xed \\xc4\\xec\\xe8\\xf2\\xf0\\xe8\\xf7 \\xcb\\xe5\\xe2\\xe8\\xed\". \\xca\\xed\\xff\\xe3\\xe8\\xed\\xff \\xe1\\xfb\\xeb\\xe0 \\xe5\\xf9\\xe5 \\xe2 \\xf1\\xe2\\xee\\xe5\\xe9 \\xea\\xee\\xec\\xed\\xe0\\xf2\\xe5, \\xe8 \\xea\\xed\\xff\\xe7\\xfc \\xed\\xe5 \\xe2\\xfb\\xf5\\xee\\xe4\\xe8\\xeb. \"\\xd2\\xe0\\xea \\xe8 \\xe5\\xf1\\xf2\\xfc\", -- \\xef\\xee\\xe4\\xf3\\xec\\xe0\\xeb\\xe0 \\xca\\xe8\\xf2\\xe8, \\xe8 \\xe2\\xf1\\xff \\xea\\xf0\\xee\\xe2\\xfc \\xef\\xf0\\xe8\\xeb\\xe8\\xeb\\xe0 \\xe5\\xe9 \\xea \\xf1\\xe5\\xf0\\xe4\\xf6\\xf3. \\xce\\xed\\xe0 \\xf3\\xe6\\xe0\\xf1\\xed\\xf3\\xeb\\xe0\\xf1\\xfc \\xf1\\xe2\\xee\\xe5\\xe9 \\xe1\\xeb\\xe5\\xe4\\xed\\xee\\xf1\\xf2\\xe8, \\xe2\\xe7\\xe3\\xeb\\xff\\xed\\xf3\\xe2 \\xe2 \\xe7\\xe5\\xf0\\xea\\xe0\\xeb\\xee.\\n',\n",
       " '   \\xd2\\xe5\\xef\\xe5\\xf0\\xfc \\xee\\xed\\xe0 \\xe2\\xe5\\xf0\\xed\\xee \\xe7\\xed\\xe0\\xeb\\xe0, \\xf7\\xf2\\xee \\xee\\xed \\xe7\\xe0\\xf2\\xe5\\xec \\xe8 \\xef\\xf0\\xe8\\xe5\\xf5\\xe0\\xeb \\xf0\\xe0\\xed\\xfc\\xf8\\xe5, \\xf7\\xf2\\xee\\xe1\\xfb \\xe7\\xe0\\xf1\\xf2\\xe0\\xf2\\xfc \\xe5\\xe5 \\xee\\xe4\\xed\\xf3 \\xe8 \\xf1\\xe4\\xe5\\xeb\\xe0\\xf2\\xfc \\xef\\xf0\\xe5\\xe4\\xeb\\xee\\xe6\\xe5\\xed\\xe8\\xe5. \\xc8 \\xf2\\xf3\\xf2 \\xf2\\xee\\xeb\\xfc\\xea\\xee \\xe2 \\xef\\xe5\\xf0\\xe2\\xfb\\xe9 \\xf0\\xe0\\xe7 \\xe2\\xf1\\xe5 \\xe4\\xe5\\xeb\\xee \\xef\\xf0\\xe5\\xe4\\xf1\\xf2\\xe0\\xe2\\xe8\\xeb\\xee\\xf1\\xfc \\xe5\\xe9 \\xf1\\xee\\xe2\\xf1\\xe5\\xec \\xf1 \\xe4\\xf0\\xf3\\xe3\\xee\\xe9, \\xed\\xee\\xe2\\xee\\xe9 \\xf1\\xf2\\xee\\xf0\\xee\\xed\\xfb. \\xd2\\xf3\\xf2 \\xf2\\xee\\xeb\\xfc\\xea\\xee \\xee\\xed\\xe0 \\xef\\xee\\xed\\xff\\xeb\\xe0, \\xf7\\xf2\\xee \\xe2\\xee\\xef\\xf0\\xee\\xf1 \\xea\\xe0\\xf1\\xe0\\xe5\\xf2\\xf1\\xff \\xed\\xe5 \\xe5\\xe5 \\xee\\xe4\\xed\\xee\\xe9, -- \\xf1 \\xea\\xe5\\xec \\xee\\xed\\xe0 \\xe1\\xf3\\xe4\\xe5\\xf2 \\xf1\\xf7\\xe0\\xf1\\xf2\\xeb\\xe8\\xe2\\xe0 \\xe8 \\xea\\xee\\xe3\\xee \\xee\\xed\\xe0 \\xeb\\xfe\\xe1\\xe8\\xf2, -- \\xed\\xee \\xf7\\xf2\\xee \\xf1\\xe8\\xfe \\xec\\xe8\\xed\\xf3\\xf2\\xf3 \\xee\\xed\\xe0 \\xe4\\xee\\xeb\\xe6\\xed\\xe0 \\xee\\xf1\\xea\\xee\\xf0\\xe1\\xe8\\xf2\\xfc \\xf7\\xe5\\xeb\\xee\\xe2\\xe5\\xea\\xe0, \\xea\\xee\\xf2\\xee\\xf0\\xee\\xe3\\xee \\xee\\xed\\xe0 \\xeb\\xfe\\xe1\\xe8\\xf2. \\xc8 \\xee\\xf1\\xea\\xee\\xf0\\xe1\\xe8\\xf2\\xfc \\xe6\\xe5\\xf1\\xf2\\xee\\xea\\xee... \\xc7\\xe0 \\xf7\\xf2\\xee? \\xc7\\xe0 \\xf2\\xee, \\xf7\\xf2\\xee \\xee\\xed, \\xec\\xe8\\xeb\\xfb\\xe9, \\xeb\\xfe\\xe1\\xe8\\xf2 \\xe5\\xe5, \\xe2\\xeb\\xfe\\xe1\\xeb\\xe5\\xed \\xe2 \\xed\\xe5\\xe5. \\xcd\\xee, \\xe4\\xe5\\xeb\\xe0\\xf2\\xfc \\xed\\xe5\\xf7\\xe5\\xe3\\xee, \\xf2\\xe0\\xea \\xed\\xf3\\xe6\\xed\\xee, \\xf2\\xe0\\xea \\xe4\\xee\\xeb\\xe6\\xed\\xee.\\n',\n",
       " '   \"\\xc1\\xee\\xe6\\xe5 \\xec\\xee\\xe9, \\xed\\xe5\\xf3\\xe6\\xe5\\xeb\\xe8 \\xfd\\xf2\\xee \\xff \\xf1\\xe0\\xec\\xe0 \\xe4\\xee\\xeb\\xe6\\xed\\xe0 \\xf1\\xea\\xe0\\xe7\\xe0\\xf2\\xfc \\xe5\\xec\\xf3? -- \\xef\\xee\\xe4\\xf3\\xec\\xe0\\xeb\\xe0 \\xee\\xed\\xe0. -- \\xcd\\xf3 \\xf7\\xf2\\xee \\xff \\xf1\\xea\\xe0\\xe6\\xf3 \\xe5\\xec\\xf3? \\xcd\\xe5\\xf3\\xe6\\xe5\\xeb\\xe8 \\xff \\xf1\\xea\\xe0\\xe6\\xf3 \\xe5\\xec\\xf3, \\xf7\\xf2\\xee \\xff \\xe5\\xe3\\xee \\xed\\xe5 \\xeb\\xfe\\xe1\\xeb\\xfe? \\xdd\\xf2\\xee \\xe1\\xf3\\xe4\\xe5\\xf2 \\xed\\xe5\\xef\\xf0\\xe0\\xe2\\xe4\\xe0. \\xd7\\xf2\\xee \\xe6 \\xff \\xf1\\xea\\xe0\\xe6\\xf3 \\xe5\\xec\\xf3? \\xd1\\xea\\xe0\\xe6\\xf3, \\xf7\\xf2\\xee \\xeb\\xfe\\xe1\\xeb\\xfe \\xe4\\xf0\\xf3\\xe3\\xee\\xe3\\xee? \\xcd\\xe5\\xf2, \\xfd\\xf2\\xee \\xed\\xe5\\xe2\\xee\\xe7\\xec\\xee\\xe6\\xed\\xee. \\xdf \\xf3\\xe9\\xe4\\xf3, \\xf3\\xe9\\xe4\\xf3\".\\n',\n",
       " '   \\xce\\xed\\xe0 \\xf3\\xe6\\xe5 \\xef\\xee\\xe4\\xf5\\xee\\xe4\\xe8\\xeb\\xe0 \\xea \\xe4\\xe2\\xe5\\xf0\\xff\\xec, \\xea\\xee\\xe3\\xe4\\xe0 \\xf3\\xf1\\xeb\\xfb\\xf5\\xe0\\xeb\\xe0 \\xe5\\xe3\\xee \\xf8\\xe0\\xe3\\xe8. \"\\xcd\\xe5\\xf2! \\xed\\xe5\\xf7\\xe5\\xf1\\xf2\\xed\\xee. \\xd7\\xe5\\xe3\\xee \\xec\\xed\\xe5 \\xe1\\xee\\xff\\xf2\\xfc\\xf1\\xff? \\xdf \\xed\\xe8\\xf7\\xe5\\xe3\\xee \\xe4\\xf3\\xf0\\xed\\xee\\xe3\\xee \\xed\\xe5 \\xf1\\xe4\\xe5\\xeb\\xe0\\xeb\\xe0. \\xd7\\xf2\\xee \\xe1\\xf3\\xe4\\xe5\\xf2, \\xf2\\xee \\xe1\\xf3\\xe4\\xe5\\xf2! \\xd1\\xea\\xe0\\xe6\\xf3 \\xef\\xf0\\xe0\\xe2\\xe4\\xf3. \\xc4\\xe0 \\xf1 \\xed\\xe8\\xec \\xed\\xe5 \\xec\\xee\\xe6\\xe5\\xf2 \\xe1\\xfb\\xf2\\xfc \\xed\\xe5\\xeb\\xee\\xe2\\xea\\xee. \\xc2\\xee\\xf2 \\xee\\xed\", -- \\xf1\\xea\\xe0\\xe7\\xe0\\xeb\\xe0 \\xee\\xed\\xe0 \\xf1\\xe5\\xe1\\xe5, \\xf3\\xe2\\xe8\\xe4\\xe0\\xe2 \\xe2\\xf1\\xfe \\xe5\\xe3\\xee \\xf1\\xe8\\xeb\\xfc\\xed\\xf3\\xfe \\xe8 \\xf0\\xee\\xe1\\xea\\xf3\\xfe \\xf4\\xe8\\xe3\\xf3\\xf0\\xf3 \\xf1 \\xe1\\xeb\\xe5\\xf1\\xf2\\xff\\xf9\\xe8\\xec\\xe8, \\xf3\\xf1\\xf2\\xf0\\xe5\\xec\\xeb\\xe5\\xed\\xed\\xfb\\xec\\xe8 \\xed\\xe0 \\xf1\\xe5\\xe1\\xff \\xe3\\xeb\\xe0\\xe7\\xe0\\xec\\xe8. \\xce\\xed\\xe0 \\xef\\xf0\\xff\\xec\\xee \\xe2\\xe7\\xe3\\xeb\\xff\\xed\\xf3\\xeb\\xe0 \\xe5\\xec\\xf3 \\xe2 \\xeb\\xe8\\xf6\\xee, \\xea\\xe0\\xea \\xe1\\xfb \\xf3\\xec\\xee\\xeb\\xff\\xff \\xe5\\xe3\\xee \\xee \\xef\\xee\\xf9\\xe0\\xe4\\xe5, \\xe8 \\xef\\xee\\xe4\\xe0\\xeb\\xe0 \\xf0\\xf3\\xea\\xf3.\\n',\n",
       " '   -- \\xdf \\xed\\xe5 \\xe2\\xee\\xe2\\xf0\\xe5\\xec\\xff, \\xea\\xe0\\xe6\\xe5\\xf2\\xf1\\xff, \\xf1\\xeb\\xe8\\xf8\\xea\\xee\\xec \\xf0\\xe0\\xed\\xee, -- \\xf1\\xea\\xe0\\xe7\\xe0\\xeb \\xee\\xed, \\xee\\xe3\\xeb\\xff\\xed\\xf3\\xe2 \\xef\\xf3\\xf1\\xf2\\xf3\\xfe \\xe3\\xee\\xf1\\xf2\\xe8\\xed\\xf3\\xfe. \\xca\\xee\\xe3\\xe4\\xe0 \\xee\\xed \\xf3\\xe2\\xe8\\xe4\\xe0\\xeb, \\xf7\\xf2\\xee \\xe5\\xe3\\xee \\xee\\xe6\\xe8\\xe4\\xe0\\xed\\xe8\\xff \\xf1\\xe1\\xfb\\xeb\\xe8\\xf1\\xfc, \\xf7\\xf2\\xee \\xed\\xe8\\xf7\\xf2\\xee \\xed\\xe5 \\xec\\xe5\\xf8\\xe0\\xe5\\xf2 \\xe5\\xec\\xf3 \\xe2\\xfb\\xf1\\xea\\xe0\\xe7\\xe0\\xf2\\xfc\\xf1\\xff, \\xeb\\xe8\\xf6\\xee \\xe5\\xe3\\xee \\xf1\\xe4\\xe5\\xeb\\xe0\\xeb\\xee\\xf1\\xfc \\xec\\xf0\\xe0\\xf7\\xed\\xee.\\n',\n",
       " '   -- \\xce \\xed\\xe5\\xf2, -- \\xf1\\xea\\xe0\\xe7\\xe0\\xeb\\xe0 \\xca\\xe8\\xf2\\xe8 \\xe8 \\xf1\\xe5\\xeb\\xe0 \\xea \\xf1\\xf2\\xee\\xeb\\xf3.\\n',\n",
       " '   -- \\xcd\\xee \\xff \\xf2\\xee\\xeb\\xfc\\xea\\xee \\xf2\\xee\\xe3\\xee \\xe8 \\xf5\\xee\\xf2\\xe5\\xeb, \\xf7\\xf2\\xee\\xe1\\xfb \\xe7\\xe0\\xf1\\xf2\\xe0\\xf2\\xfc \\xe2\\xe0\\xf1 \\xee\\xe4\\xed\\xf3, -- \\xed\\xe0\\xf7\\xe0\\xeb \\xee\\xed, \\xed\\xe5 \\xf1\\xe0\\xe4\\xff\\xf1\\xfc \\xe8 \\xed\\xe5 \\xe3\\xeb\\xff\\xe4\\xff \\xed\\xe0 \\xed\\xe5\\xe5, \\xf7\\xf2\\xee\\xe1\\xfb \\xed\\xe5 \\xef\\xee\\xf2\\xe5\\xf0\\xff\\xf2\\xfc \\xf1\\xec\\xe5\\xeb\\xee\\xf1\\xf2\\xe8.\\n',\n",
       " '   -- \\xcc\\xe0\\xec\\xe0 \\xf1\\xe5\\xe9\\xf7\\xe0\\xf1 \\xe2\\xfb\\xe9\\xe4\\xe5\\xf2. \\xce\\xed\\xe0 \\xe2\\xf7\\xe5\\xf0\\xe0 \\xee\\xf7\\xe5\\xed\\xfc \\xf3\\xf1\\xf2\\xe0\\xeb\\xe0. \\xc2\\xf7\\xe5\\xf0\\xe0...\\n',\n",
       " '   \\xce\\xed\\xe0 \\xe3\\xee\\xe2\\xee\\xf0\\xe8\\xeb\\xe0, \\xf1\\xe0\\xec\\xe0 \\xed\\xe5 \\xe7\\xed\\xe0\\xff, \\xf7\\xf2\\xee \\xe3\\xee\\xe2\\xee\\xf0\\xff\\xf2 \\xe5\\xe5 \\xe3\\xf3\\xe1\\xfb, \\xe8 \\xed\\xe5 \\xf1\\xef\\xf3\\xf1\\xea\\xe0\\xff \\xf1 \\xed\\xe5\\xe3\\xee \\xf3\\xec\\xee\\xeb\\xff\\xfe\\xf9\\xe5\\xe3\\xee \\xe8 \\xeb\\xe0\\xf1\\xea\\xe0\\xfe\\xf9\\xe5\\xe3\\xee \\xe2\\xe7\\xe3\\xeb\\xff\\xe4\\xe0...\\n',\n",
       " '   \\xce\\xed \\xe2\\xe7\\xe3\\xeb\\xff\\xed\\xf3\\xeb \\xed\\xe0 \\xed\\xe5\\xe5; \\xee\\xed\\xe0 \\xef\\xee\\xea\\xf0\\xe0\\xf1\\xed\\xe5\\xeb\\xe0 \\xe8 \\xe7\\xe0\\xec\\xee\\xeb\\xf7\\xe0\\xeb\\xe0.\\n',\n",
       " '   -- \\xdf \\xf1\\xea\\xe0\\xe7\\xe0\\xeb \\xe2\\xe0\\xec, \\xf7\\xf2\\xee \\xed\\xe5 \\xe7\\xed\\xe0\\xfe, \\xed\\xe0\\xe4\\xee\\xeb\\xe3\\xee \\xeb\\xe8 \\xff \\xef\\xf0\\xe8\\xe5\\xf5\\xe0\\xeb... \\xf7\\xf2\\xee \\xfd\\xf2\\xee \\xee\\xf2 \\xe2\\xe0\\xf1 \\xe7\\xe0\\xe2\\xe8\\xf1\\xe8\\xf2...\\n',\n",
       " '   \\xce\\xed\\xe0 \\xe2\\xf1\\xe5 \\xed\\xe8\\xe6\\xe5 \\xe8 \\xed\\xe8\\xe6\\xe5 \\xf1\\xea\\xeb\\xee\\xed\\xff\\xeb\\xe0 \\xe3\\xee\\xeb\\xee\\xe2\\xf3, \\xed\\xe5 \\xe7\\xed\\xe0\\xff \\xf1\\xe0\\xec\\xe0, \\xf7\\xf2\\xee \\xe1\\xf3\\xe4\\xe5\\xf2 \\xee\\xf2\\xe2\\xe5\\xf7\\xe0\\xf2\\xfc \\xed\\xe0 \\xef\\xf0\\xe8\\xe1\\xeb\\xe8\\xe6\\xe0\\xe2\\xf8\\xe5\\xe5\\xf1\\xff.\\n',\n",
       " '   -- \\xd7\\xf2\\xee \\xfd\\xf2\\xee \\xee\\xf2 \\xe2\\xe0\\xf1 \\xe7\\xe0\\xe2\\xe8\\xf1\\xe8\\xf2, -- \\xef\\xee\\xe2\\xf2\\xee\\xf0\\xe8\\xeb \\xee\\xed. -- \\xdf \\xf5\\xee\\xf2\\xe5\\xeb \\xf1\\xea\\xe0\\xe7\\xe0\\xf2\\xfc... \\xff \\xf5\\xee\\xf2\\xe5\\xeb \\xf1\\xea\\xe0\\xe7\\xe0\\xf2\\xfc... \\xdf \\xe7\\xe0 \\xfd\\xf2\\xe8\\xec \\xef\\xf0\\xe8\\xe5\\xf5\\xe0\\xeb... -- \\xf7\\xf2\\xee... \\xe1\\xfb\\xf2\\xfc \\xec\\xee\\xe5\\xfe \\xe6\\xe5\\xed\\xee\\xe9!-- \\xef\\xf0\\xee\\xe3\\xee\\xe2\\xee\\xf0\\xe8\\xeb \\xee\\xed, \\xed\\xe5 \\xe7\\xed\\xe0\\xff \\xf1\\xe0\\xec, \\xf7\\xf2\\xee \\xe3\\xee\\xe2\\xee\\xf0\\xe8\\xeb; \\xed\\xee, \\xef\\xee\\xf7\\xf3\\xe2\\xf1\\xf2\\xe2\\xee\\xe2\\xe0\\xe2, \\xf7\\xf2\\xee \\xf1\\xe0\\xec\\xee\\xe5 \\xf1\\xf2\\xf0\\xe0\\xf8\\xed\\xee\\xe5 \\xf1\\xea\\xe0\\xe7\\xe0\\xed\\xee, \\xee\\xf1\\xf2\\xe0\\xed\\xee\\xe2\\xe8\\xeb\\xf1\\xff \\xe8 \\xef\\xee\\xf1\\xec\\xee\\xf2\\xf0\\xe5\\xeb \\xed\\xe0 \\xed\\xe5\\xe5.\\n',\n",
       " '   \\xce\\xed\\xe0 \\xf2\\xff\\xe6\\xe5\\xeb\\xee \\xe4\\xfb\\xf8\\xe0\\xeb\\xe0, \\xed\\xe5 \\xe3\\xeb\\xff\\xe4\\xff \\xed\\xe0 \\xed\\xe5\\xe3\\xee. \\xce\\xed\\xe0 \\xe8\\xf1\\xef\\xfb\\xf2\\xfb\\xe2\\xe0\\xeb\\xe0 \\xe2\\xee\\xf1\\xf2\\xee\\xf0\\xe3. \\xc4\\xf3\\xf8\\xe0 \\xe5\\xe5 \\xe1\\xfb\\xeb\\xe0 \\xef\\xe5\\xf0\\xe5\\xef\\xee\\xeb\\xed\\xe5\\xed\\xe0 \\xf1\\xf7\\xe0\\xf1\\xf2\\xfc\\xe5\\xec. \\xce\\xed\\xe0 \\xed\\xe8\\xea\\xe0\\xea \\xed\\xe5 \\xee\\xe6\\xe8\\xe4\\xe0\\xeb\\xe0, \\xf7\\xf2\\xee \\xe2\\xfb\\xf1\\xea\\xe0\\xe7\\xe0\\xed\\xed\\xe0\\xff \\xeb\\xfe\\xe1\\xee\\xe2\\xfc \\xe5\\xe3\\xee \\xef\\xf0\\xee\\xe8\\xe7\\xe2\\xe5\\xe4\\xe5\\xf2 \\xed\\xe0 \\xed\\xe5\\xe5 \\xf2\\xe0\\xea\\xee\\xe5 \\xf1\\xe8\\xeb\\xfc\\xed\\xee\\xe5 \\xe2\\xef\\xe5\\xf7\\xe0\\xf2\\xeb\\xe5\\xed\\xe8\\xe5. \\xcd\\xee \\xfd\\xf2\\xee \\xef\\xf0\\xee\\xe4\\xee\\xeb\\xe6\\xe0\\xeb\\xee\\xf1\\xfc \\xf2\\xee\\xeb\\xfc\\xea\\xee \\xee\\xe4\\xed\\xee \\xec\\xe3\\xed\\xee\\xe2\\xe5\\xed\\xe8\\xe5. \\xce\\xed\\xe0 \\xe2\\xf1\\xef\\xee\\xec\\xed\\xe8\\xeb\\xe0 \\xc2\\xf0\\xee\\xed\\xf1\\xea\\xee\\xe3\\xee. \\xce\\xed\\xe0 \\xef\\xee\\xe4\\xed\\xff\\xeb\\xe0 \\xed\\xe0 \\xcb\\xe5\\xe2\\xe8\\xed\\xe0 \\xf1\\xe2\\xee\\xe8 \\xf1\\xe2\\xe5\\xf2\\xeb\\xfb\\xe5 \\xef\\xf0\\xe0\\xe2\\xe4\\xe8\\xe2\\xfb\\xe5 \\xe3\\xeb\\xe0\\xe7\\xe0 \\xe8, \\xf3\\xe2\\xe8\\xe4\\xe0\\xe2 \\xe5\\xe3\\xee \\xee\\xf2\\xf7\\xe0\\xff\\xed\\xed\\xee\\xe5 \\xeb\\xe8\\xf6\\xee, \\xef\\xee\\xf1\\xef\\xe5\\xf8\\xed\\xee \\xee\\xf2\\xe2\\xe5\\xf2\\xe8\\xeb\\xe0:\\n',\n",
       " '   -- \\xdd\\xf2\\xee\\xe3\\xee \\xed\\xe5 \\xec\\xee\\xe6\\xe5\\xf2 \\xe1\\xfb\\xf2\\xfc... \\xef\\xf0\\xee\\xf1\\xf2\\xe8\\xf2\\xe5 \\xec\\xe5\\xed\\xff...\\n',\n",
       " '   \\xca\\xe0\\xea \\xe7\\xe0 \\xec\\xe8\\xed\\xf3\\xf2\\xf3 \\xf2\\xee\\xec\\xf3 \\xed\\xe0\\xe7\\xe0\\xe4 \\xee\\xed\\xe0 \\xe1\\xfb\\xeb\\xe0 \\xe1\\xeb\\xe8\\xe7\\xea\\xe0 \\xe5\\xec\\xf3, \\xea\\xe0\\xea \\xe2\\xe0\\xe6\\xed\\xe0 \\xe4\\xeb\\xff \\xe5\\xe3\\xee \\xe6\\xe8\\xe7\\xed\\xe8! \\xc8 \\xea\\xe0\\xea \\xf2\\xe5\\xef\\xe5\\xf0\\xfc \\xee\\xed\\xe0 \\xf1\\xf2\\xe0\\xeb\\xe0 \\xf7\\xf3\\xe6\\xe4\\xe0 \\xe8 \\xe4\\xe0\\xeb\\xe5\\xea\\xe0 \\xe5\\xec\\xf3!\\n',\n",
       " '   -- \\xdd\\xf2\\xee \\xed\\xe5 \\xec\\xee\\xe3\\xeb\\xee \\xe1\\xfb\\xf2\\xfc \\xe8\\xed\\xe0\\xf7\\xe5, -- \\xf1\\xea\\xe0\\xe7\\xe0\\xeb \\xee\\xed, \\xed\\xe5 \\xe3\\xeb\\xff\\xe4\\xff \\xed\\xe0 \\xed\\xe5\\xe5.\\n',\n",
       " '   \\xce\\xed \\xef\\xee\\xea\\xeb\\xee\\xed\\xe8\\xeb\\xf1\\xff \\xe8 \\xf5\\xee\\xf2\\xe5\\xeb \\xf3\\xe9\\xf2\\xe8...\\n']"
      ]
     },
     "execution_count": 65,
     "metadata": {},
     "output_type": "execute_result"
    }
   ],
   "source": [
    "with open('data/JCS/anna_windows1251.txt','r') as f:\n",
    "    lines = f.readlines()\n",
    "lines[:24] # array of strings"
   ]
  },
  {
   "cell_type": "code",
   "execution_count": 66,
   "metadata": {
    "collapsed": false
   },
   "outputs": [
    {
     "name": "stdout",
     "output_type": "stream",
     "text": [
      "XIII\n",
      "\n",
      "\n",
      "\n",
      "  \n",
      "\n",
      "   Кити испытывала после обеда и до начала вечера чувство, подобное тому, какое испытывает юноша пред битвою. Сердце ее билось сильно, и мысли не могли ни на чем остановиться.\n",
      "\n",
      "   Она чувствовала, что нынешний вечер, когда они оба в первый раз встречаются, должен быть решительный в ее судьбе. И она беспрестанно представляла себе их, то каждого порознь, то вместе обоих. Когда она думала о прошедшем, она с удовольствием, с нежностью останавливалась на воспоминаниях своих отношений к Левину. Воспоминания детства и воспоминания о дружбе Левина с ее умершим братом придавали особенную поэтическую прелесть ее отношениям с ним. Его любовь к ней, в которой она была уверена, была лестна и радостна ей. И ей легко было вспомнить о Левине. В воспоминание же о Вронском примешивалось что-то неловкое, хотя он был в высшей степени светский и спокойный человек; как будто фальшь какая-то была, -- не в нем, он был очень прост и мил, -- но в ней самой, тогда как с Левиным она чувствовала себя совершенно простою и ясною. Но зато, как только она думала о будущем с Вронским, пред ней вставала перспектива блестяще-счастливая; с Левиным же будущность представлялась туманною.\n",
      "\n",
      "   Взойдя наверх одеться для вечера и взглянув в зеркало, она с радостью заметила, что она в одном из своих хороших дней и в полном обладании всеми своим силами, а это ей так нужно было для предстоящего: она чувствовала в себе внешнюю тишину и свободную грацию движений.\n",
      "\n",
      "   В половине восьмого, только что она сошла в гостиную, лакей доложил: \"Константин Дмитрич Левин\". Княгиня была еще в своей комнате, и князь не выходил. \"Так и есть\", -- подумала Кити, и вся кровь прилила ей к сердцу. Она ужаснулась своей бледности, взглянув в зеркало.\n",
      "\n",
      "   Теперь она верно знала, что он затем и приехал раньше, чтобы застать ее одну и сделать предложение. И тут только в первый раз все дело представилось ей совсем с другой, новой стороны. Тут только она поняла, что вопрос касается не ее одной, -- с кем она будет счастлива и кого она любит, -- но что сию минуту она должна оскорбить человека, которого она любит. И оскорбить жестоко... За что? За то, что он, милый, любит ее, влюблен в нее. Но, делать нечего, так нужно, так должно.\n",
      "\n",
      "   \"Боже мой, неужели это я сама должна сказать ему? -- подумала она. -- Ну что я скажу ему? Неужели я скажу ему, что я его не люблю? Это будет неправда. Что ж я скажу ему? Скажу, что люблю другого? Нет, это невозможно. Я уйду, уйду\".\n",
      "\n",
      "   Она уже подходила к дверям, когда услыхала его шаги. \"Нет! нечестно. Чего мне бояться? Я ничего дурного не сделала. Что будет, то будет! Скажу правду. Да с ним не может быть неловко. Вот он\", -- сказала она себе, увидав всю его сильную и робкую фигуру с блестящими, устремленными на себя глазами. Она прямо взглянула ему в лицо, как бы умоляя его о пощаде, и подала руку.\n",
      "\n",
      "   -- Я не вовремя, кажется, слишком рано, -- сказал он, оглянув пустую гостиную. Когда он увидал, что его ожидания сбылись, что ничто не мешает ему высказаться, лицо его сделалось мрачно.\n",
      "\n",
      "   -- О нет, -- сказала Кити и села к столу.\n",
      "\n",
      "   -- Но я только того и хотел, чтобы застать вас одну, -- начал он, не садясь и не глядя на нее, чтобы не потерять смелости.\n",
      "\n",
      "   -- Мама сейчас выйдет. Она вчера очень устала. Вчера...\n",
      "\n",
      "   Она говорила, сама не зная, что говорят ее губы, и не спуская с него умоляющего и ласкающего взгляда...\n",
      "\n",
      "   Он взглянул на нее; она покраснела и замолчала.\n",
      "\n",
      "   -- Я сказал вам, что не знаю, надолго ли я приехал... что это от вас зависит...\n",
      "\n",
      "   Она все ниже и ниже склоняла голову, не зная сама, что будет отвечать на приближавшееся.\n",
      "\n",
      "   -- Что это от вас зависит, -- повторил он. -- Я хотел сказать... я хотел сказать... Я за этим приехал... -- что... быть моею женой!-- проговорил он, не зная сам, что говорил; но, почувствовав, что самое страшное сказано, остановился и посмотрел на нее.\n",
      "\n",
      "   Она тяжело дышала, не глядя на него. Она испытывала восторг. Душа ее была переполнена счастьем. Она никак не ожидала, что высказанная любовь его произведет на нее такое сильное впечатление. Но это продолжалось только одно мгновение. Она вспомнила Вронского. Она подняла на Левина свои светлые правдивые глаза и, увидав его отчаянное лицо, поспешно ответила:\n",
      "\n",
      "   -- Этого не может быть... простите меня...\n",
      "\n",
      "   Как за минуту тому назад она была близка ему, как важна для его жизни! И как теперь она стала чужда и далека ему!\n",
      "\n",
      "   -- Это не могло быть иначе, -- сказал он, не глядя на нее.\n",
      "\n",
      "   Он поклонился и хотел уйти...\n",
      "\n"
     ]
    }
   ],
   "source": [
    "import codecs\n",
    "f = codecs.open('data/JCS/anna_utf8.txt', encoding='utf-8')\n",
    "for line in f:\n",
    "    print(line)"
   ]
  },
  {
   "cell_type": "code",
   "execution_count": 67,
   "metadata": {
    "collapsed": false
   },
   "outputs": [
    {
     "name": "stdout",
     "output_type": "stream",
     "text": [
      "XIII\n",
      "\n",
      "\n",
      "\n",
      "  \n",
      "\n",
      "   Кити испытывала после обеда и до начала вечера чувство, подобное тому, какое испытывает юноша пред битвою. Сердце ее билось сильно, и мысли не могли ни на чем остановиться.\n",
      "\n",
      "   Она чувствовала, что нынешний вечер, когда они оба в первый раз встречаются, должен быть решительный в ее судьбе. И она беспрестанно представляла себе их, то каждого порознь, то вместе обоих. Когда она думала о прошедшем, она с удовольствием, с нежностью останавливалась на воспоминаниях своих отношений к Левину. Воспоминания детства и воспоминания о дружбе Левина с ее умершим братом придавали особенную поэтическую прелесть ее отношениям с ним. Его любовь к ней, в которой она была уверена, была лестна и радостна ей. И ей легко было вспомнить о Левине. В воспоминание же о Вронском примешивалось что-то неловкое, хотя он был в высшей степени светский и спокойный человек; как будто фальшь какая-то была, -- не в нем, он был очень прост и мил, -- но в ней самой, тогда как с Левиным она чувствовала себя совершенно простою и ясною. Но зато, как только она думала о будущем с Вронским, пред ней вставала перспектива блестяще-счастливая; с Левиным же будущность представлялась туманною.\n",
      "\n",
      "   Взойдя наверх одеться для вечера и взглянув в зеркало, она с радостью заметила, что она в одном из своих хороших дней и в полном обладании всеми своим силами, а это ей так нужно было для предстоящего: она чувствовала в себе внешнюю тишину и свободную грацию движений.\n",
      "\n",
      "   В половине восьмого, только что она сошла в гостиную, лакей доложил: \"Константин Дмитрич Левин\". Княгиня была еще в своей комнате, и князь не выходил. \"Так и есть\", -- подумала Кити, и вся кровь прилила ей к сердцу. Она ужаснулась своей бледности, взглянув в зеркало.\n",
      "\n",
      "   Теперь она верно знала, что он затем и приехал раньше, чтобы застать ее одну и сделать предложение. И тут только в первый раз все дело представилось ей совсем с другой, новой стороны. Тут только она поняла, что вопрос касается не ее одной, -- с кем она будет счастлива и кого она любит, -- но что сию минуту она должна оскорбить человека, которого она любит. И оскорбить жестоко... За что? За то, что он, милый, любит ее, влюблен в нее. Но, делать нечего, так нужно, так должно.\n",
      "\n",
      "   \"Боже мой, неужели это я сама должна сказать ему? -- подумала она. -- Ну что я скажу ему? Неужели я скажу ему, что я его не люблю? Это будет неправда. Что ж я скажу ему? Скажу, что люблю другого? Нет, это невозможно. Я уйду, уйду\".\n",
      "\n",
      "   Она уже подходила к дверям, когда услыхала его шаги. \"Нет! нечестно. Чего мне бояться? Я ничего дурного не сделала. Что будет, то будет! Скажу правду. Да с ним не может быть неловко. Вот он\", -- сказала она себе, увидав всю его сильную и робкую фигуру с блестящими, устремленными на себя глазами. Она прямо взглянула ему в лицо, как бы умоляя его о пощаде, и подала руку.\n",
      "\n",
      "   -- Я не вовремя, кажется, слишком рано, -- сказал он, оглянув пустую гостиную. Когда он увидал, что его ожидания сбылись, что ничто не мешает ему высказаться, лицо его сделалось мрачно.\n",
      "\n",
      "   -- О нет, -- сказала Кити и села к столу.\n",
      "\n",
      "   -- Но я только того и хотел, чтобы застать вас одну, -- начал он, не садясь и не глядя на нее, чтобы не потерять смелости.\n",
      "\n",
      "   -- Мама сейчас выйдет. Она вчера очень устала. Вчера...\n",
      "\n",
      "   Она говорила, сама не зная, что говорят ее губы, и не спуская с него умоляющего и ласкающего взгляда...\n",
      "\n",
      "   Он взглянул на нее; она покраснела и замолчала.\n",
      "\n",
      "   -- Я сказал вам, что не знаю, надолго ли я приехал... что это от вас зависит...\n",
      "\n",
      "   Она все ниже и ниже склоняла голову, не зная сама, что будет отвечать на приближавшееся.\n",
      "\n",
      "   -- Что это от вас зависит, -- повторил он. -- Я хотел сказать... я хотел сказать... Я за этим приехал... -- что... быть моею женой!-- проговорил он, не зная сам, что говорил; но, почувствовав, что самое страшное сказано, остановился и посмотрел на нее.\n",
      "\n",
      "   Она тяжело дышала, не глядя на него. Она испытывала восторг. Душа ее была переполнена счастьем. Она никак не ожидала, что высказанная любовь его произведет на нее такое сильное впечатление. Но это продолжалось только одно мгновение. Она вспомнила Вронского. Она подняла на Левина свои светлые правдивые глаза и, увидав его отчаянное лицо, поспешно ответила:\n",
      "\n",
      "   -- Этого не может быть... простите меня...\n",
      "\n",
      "   Как за минуту тому назад она была близка ему, как важна для его жизни! И как теперь она стала чужда и далека ему!\n",
      "\n",
      "   -- Это не могло быть иначе, -- сказал он, не глядя на нее.\n",
      "\n",
      "   Он поклонился и хотел уйти...\n",
      "\n"
     ]
    }
   ],
   "source": [
    "f = codecs.open('data/JCS/anna_windows1251.txt', encoding='windows-1251')\n",
    "for line in f:\n",
    "    print(line)"
   ]
  },
  {
   "cell_type": "markdown",
   "metadata": {},
   "source": [
    "## Kaggle \"Digit Recognizer\""
   ]
  },
  {
   "cell_type": "raw",
   "metadata": {},
   "source": [
    "Link: http://www.kaggle.com/c/digit-recognizer\n",
    "Description: Classify handwritten digits using the famous MNIST data\n",
    "Advanced Reading: http://yann.lecun.com/exdb/mnist/index.html"
   ]
  },
  {
   "cell_type": "markdown",
   "metadata": {},
   "source": [
    "### Imports"
   ]
  },
  {
   "cell_type": "code",
   "execution_count": 68,
   "metadata": {
    "collapsed": false
   },
   "outputs": [],
   "source": [
    "train = pd.read_csv('data/digit_recognizer/train.csv')\n",
    "# Basic train dataset contains: 42 000 examples\n",
    "# It will take too long to processs this data during the class\n",
    "# Black Magic\n",
    "train = train[:4200].sort('label')"
   ]
  },
  {
   "cell_type": "code",
   "execution_count": 69,
   "metadata": {
    "collapsed": false
   },
   "outputs": [
    {
     "data": {
      "text/html": [
       "<div>\n",
       "<table border=\"1\" class=\"dataframe\">\n",
       "  <thead>\n",
       "    <tr style=\"text-align: right;\">\n",
       "      <th></th>\n",
       "      <th>label</th>\n",
       "      <th>pixel0</th>\n",
       "      <th>pixel1</th>\n",
       "      <th>pixel2</th>\n",
       "      <th>pixel3</th>\n",
       "      <th>pixel4</th>\n",
       "      <th>pixel5</th>\n",
       "      <th>pixel6</th>\n",
       "      <th>pixel7</th>\n",
       "      <th>pixel8</th>\n",
       "      <th>...</th>\n",
       "      <th>pixel774</th>\n",
       "      <th>pixel775</th>\n",
       "      <th>pixel776</th>\n",
       "      <th>pixel777</th>\n",
       "      <th>pixel778</th>\n",
       "      <th>pixel779</th>\n",
       "      <th>pixel780</th>\n",
       "      <th>pixel781</th>\n",
       "      <th>pixel782</th>\n",
       "      <th>pixel783</th>\n",
       "    </tr>\n",
       "  </thead>\n",
       "  <tbody>\n",
       "    <tr>\n",
       "      <th>2494</th>\n",
       "      <td>0</td>\n",
       "      <td>0</td>\n",
       "      <td>0</td>\n",
       "      <td>0</td>\n",
       "      <td>0</td>\n",
       "      <td>0</td>\n",
       "      <td>0</td>\n",
       "      <td>0</td>\n",
       "      <td>0</td>\n",
       "      <td>0</td>\n",
       "      <td>...</td>\n",
       "      <td>0</td>\n",
       "      <td>0</td>\n",
       "      <td>0</td>\n",
       "      <td>0</td>\n",
       "      <td>0</td>\n",
       "      <td>0</td>\n",
       "      <td>0</td>\n",
       "      <td>0</td>\n",
       "      <td>0</td>\n",
       "      <td>0</td>\n",
       "    </tr>\n",
       "    <tr>\n",
       "      <th>2266</th>\n",
       "      <td>0</td>\n",
       "      <td>0</td>\n",
       "      <td>0</td>\n",
       "      <td>0</td>\n",
       "      <td>0</td>\n",
       "      <td>0</td>\n",
       "      <td>0</td>\n",
       "      <td>0</td>\n",
       "      <td>0</td>\n",
       "      <td>0</td>\n",
       "      <td>...</td>\n",
       "      <td>0</td>\n",
       "      <td>0</td>\n",
       "      <td>0</td>\n",
       "      <td>0</td>\n",
       "      <td>0</td>\n",
       "      <td>0</td>\n",
       "      <td>0</td>\n",
       "      <td>0</td>\n",
       "      <td>0</td>\n",
       "      <td>0</td>\n",
       "    </tr>\n",
       "    <tr>\n",
       "      <th>2267</th>\n",
       "      <td>0</td>\n",
       "      <td>0</td>\n",
       "      <td>0</td>\n",
       "      <td>0</td>\n",
       "      <td>0</td>\n",
       "      <td>0</td>\n",
       "      <td>0</td>\n",
       "      <td>0</td>\n",
       "      <td>0</td>\n",
       "      <td>0</td>\n",
       "      <td>...</td>\n",
       "      <td>0</td>\n",
       "      <td>0</td>\n",
       "      <td>0</td>\n",
       "      <td>0</td>\n",
       "      <td>0</td>\n",
       "      <td>0</td>\n",
       "      <td>0</td>\n",
       "      <td>0</td>\n",
       "      <td>0</td>\n",
       "      <td>0</td>\n",
       "    </tr>\n",
       "    <tr>\n",
       "      <th>2273</th>\n",
       "      <td>0</td>\n",
       "      <td>0</td>\n",
       "      <td>0</td>\n",
       "      <td>0</td>\n",
       "      <td>0</td>\n",
       "      <td>0</td>\n",
       "      <td>0</td>\n",
       "      <td>0</td>\n",
       "      <td>0</td>\n",
       "      <td>0</td>\n",
       "      <td>...</td>\n",
       "      <td>0</td>\n",
       "      <td>0</td>\n",
       "      <td>0</td>\n",
       "      <td>0</td>\n",
       "      <td>0</td>\n",
       "      <td>0</td>\n",
       "      <td>0</td>\n",
       "      <td>0</td>\n",
       "      <td>0</td>\n",
       "      <td>0</td>\n",
       "    </tr>\n",
       "    <tr>\n",
       "      <th>2286</th>\n",
       "      <td>0</td>\n",
       "      <td>0</td>\n",
       "      <td>0</td>\n",
       "      <td>0</td>\n",
       "      <td>0</td>\n",
       "      <td>0</td>\n",
       "      <td>0</td>\n",
       "      <td>0</td>\n",
       "      <td>0</td>\n",
       "      <td>0</td>\n",
       "      <td>...</td>\n",
       "      <td>0</td>\n",
       "      <td>0</td>\n",
       "      <td>0</td>\n",
       "      <td>0</td>\n",
       "      <td>0</td>\n",
       "      <td>0</td>\n",
       "      <td>0</td>\n",
       "      <td>0</td>\n",
       "      <td>0</td>\n",
       "      <td>0</td>\n",
       "    </tr>\n",
       "  </tbody>\n",
       "</table>\n",
       "<p>5 rows × 785 columns</p>\n",
       "</div>"
      ],
      "text/plain": [
       "      label  pixel0  pixel1  pixel2  pixel3  pixel4  pixel5  pixel6  pixel7  \\\n",
       "2494      0       0       0       0       0       0       0       0       0   \n",
       "2266      0       0       0       0       0       0       0       0       0   \n",
       "2267      0       0       0       0       0       0       0       0       0   \n",
       "2273      0       0       0       0       0       0       0       0       0   \n",
       "2286      0       0       0       0       0       0       0       0       0   \n",
       "\n",
       "      pixel8    ...     pixel774  pixel775  pixel776  pixel777  pixel778  \\\n",
       "2494       0    ...            0         0         0         0         0   \n",
       "2266       0    ...            0         0         0         0         0   \n",
       "2267       0    ...            0         0         0         0         0   \n",
       "2273       0    ...            0         0         0         0         0   \n",
       "2286       0    ...            0         0         0         0         0   \n",
       "\n",
       "      pixel779  pixel780  pixel781  pixel782  pixel783  \n",
       "2494         0         0         0         0         0  \n",
       "2266         0         0         0         0         0  \n",
       "2267         0         0         0         0         0  \n",
       "2273         0         0         0         0         0  \n",
       "2286         0         0         0         0         0  \n",
       "\n",
       "[5 rows x 785 columns]"
      ]
     },
     "execution_count": 69,
     "metadata": {},
     "output_type": "execute_result"
    }
   ],
   "source": [
    "train.head()"
   ]
  },
  {
   "cell_type": "code",
   "execution_count": 70,
   "metadata": {
    "collapsed": false
   },
   "outputs": [
    {
     "data": {
      "text/plain": [
       "label\n",
       "0    425\n",
       "1    460\n",
       "2    454\n",
       "3    386\n",
       "4    409\n",
       "5    398\n",
       "6    436\n",
       "7    427\n",
       "8    404\n",
       "9    401\n",
       "Name: label, dtype: int64"
      ]
     },
     "execution_count": 70,
     "metadata": {},
     "output_type": "execute_result"
    }
   ],
   "source": [
    "train.groupby('label')['label'].count()"
   ]
  },
  {
   "cell_type": "code",
   "execution_count": 71,
   "metadata": {
    "collapsed": false
   },
   "outputs": [],
   "source": [
    "X_train = np.asarray(train[range(1,785)])\n",
    "Y_train = np.asarray(train[[0]]).ravel()"
   ]
  },
  {
   "cell_type": "code",
   "execution_count": 72,
   "metadata": {
    "collapsed": false
   },
   "outputs": [
    {
     "data": {
      "text/plain": [
       "((4200, 784), (4200,))"
      ]
     },
     "execution_count": 72,
     "metadata": {},
     "output_type": "execute_result"
    }
   ],
   "source": [
    "X_train.shape, Y_train.shape"
   ]
  },
  {
   "cell_type": "code",
   "execution_count": 73,
   "metadata": {
    "collapsed": false
   },
   "outputs": [
    {
     "data": {
      "image/png": "[encoded data removed]",
      "text/plain": [
       "<matplotlib.figure.Figure at 0x10d563c10>"
      ]
     },
     "metadata": {},
     "output_type": "display_data"
    }
   ],
   "source": [
    "example_ids = sort([\n",
    "    3023, 323, 945, 3807, 1415,\n",
    "    2664, 647, 3453, 1856, 2285\n",
    "])\n",
    "fig = pyplot.gcf()\n",
    "fig.set_size_inches(17.5,10.5)\n",
    "for pylab_index, example_id in enumerate(example_ids):\n",
    "    pylab.subplot(3, 4, pylab_index + 1)\n",
    "    pylab.imshow(X_train[example_id,:].reshape(28,28), cmap='hot')"
   ]
  },
  {
   "cell_type": "markdown",
   "metadata": {},
   "source": [
    "## Cross Validation"
   ]
  },
  {
   "cell_type": "code",
   "execution_count": 74,
   "metadata": {
    "collapsed": false
   },
   "outputs": [],
   "source": [
    "from sklearn.cross_validation import KFold, StratifiedKFold, ShuffleSplit\n",
    "from sklearn.neighbors import KNeighborsClassifier\n",
    "# from sklearn.metrics.accuracy_score"
   ]
  },
  {
   "cell_type": "code",
   "execution_count": 75,
   "metadata": {
    "collapsed": false
   },
   "outputs": [],
   "source": [
    "estimator = KNeighborsClassifier(algorithm='ball_tree')"
   ]
  },
  {
   "cell_type": "code",
   "execution_count": 76,
   "metadata": {
    "collapsed": false
   },
   "outputs": [],
   "source": [
    "def print_accuracy(estimator, cv_strategy, print_indices=False, print_score=False):\n",
    "    for train_indices, test_indices in cv_strategy:\n",
    "        if print_indices:\n",
    "            print train_indices, test_indices\n",
    "        estimator.fit(X_train[train_indices], Y_train[train_indices])\n",
    "        if print_score:\n",
    "            print estimator.score(X_train[test_indices], Y_train[test_indices])"
   ]
  },
  {
   "cell_type": "code",
   "execution_count": 77,
   "metadata": {
    "collapsed": false
   },
   "outputs": [
    {
     "name": "stdout",
     "output_type": "stream",
     "text": [
      "[1400 1401 1402 ..., 4197 4198 4199] [   0    1    2 ..., 1397 1398 1399]\n",
      "[   0    1    2 ..., 4197 4198 4199] [1400 1401 1402 ..., 2797 2798 2799]\n",
      "[   0    1    2 ..., 2797 2798 2799] [2800 2801 2802 ..., 4197 4198 4199]\n"
     ]
    }
   ],
   "source": [
    "print_accuracy(estimator, KFold(X_train.shape[0], n_folds=3), print_indices=True, print_score=False)"
   ]
  },
  {
   "cell_type": "code",
   "execution_count": 88,
   "metadata": {
    "collapsed": false
   },
   "outputs": [
    {
     "name": "stdout",
     "output_type": "stream",
     "text": [
      "0.906761565836\n",
      "0.921428571429\n",
      "0.900358422939\n"
     ]
    }
   ],
   "source": [
    "print_accuracy(estimator, StratifiedKFold(Y_train, n_folds=3), print_indices=False, print_score=True)"
   ]
  },
  {
   "cell_type": "code",
   "execution_count": 80,
   "metadata": {
    "collapsed": false
   },
   "outputs": [
    {
     "name": "stdout",
     "output_type": "stream",
     "text": [
      "0.902380952381\n",
      "0.92619047619\n",
      "0.916666666667\n"
     ]
    }
   ],
   "source": [
    "print_accuracy(estimator, ShuffleSplit(X_train.shape[0], test_size=0.1, n_iter=3), print_indices=False, print_score=True)"
   ]
  },
  {
   "cell_type": "code",
   "execution_count": 82,
   "metadata": {
    "collapsed": false
   },
   "outputs": [
    {
     "name": "stdout",
     "output_type": "stream",
     "text": [
      "[1 2 5 7 8] [0 3 4 6 9]\n",
      "[0 3 4 6 9] [1 2 5 7 8]\n"
     ]
    }
   ],
   "source": [
    "for train_indices, test_indices in KFold(10, n_folds=2, shuffle=True):\n",
    "    print train_indices, test_indices"
   ]
  },
  {
   "cell_type": "code",
   "execution_count": 84,
   "metadata": {
    "collapsed": false
   },
   "outputs": [
    {
     "name": "stdout",
     "output_type": "stream",
     "text": [
      "[0 0 0 0 0 1 1 1 1 1]\n",
      "[3 4 8 9] [0 1 2 5 6 7]\n",
      "[0 1 2 5 6 7] [3 4 8 9]\n"
     ]
    }
   ],
   "source": [
    "y = np.array([0] * 5 + [1] * 5)\n",
    "print y\n",
    "for train_indices, test_indices in StratifiedKFold(y, n_folds=2):\n",
    "    print train_indices, test_indices"
   ]
  },
  {
   "cell_type": "code",
   "execution_count": 85,
   "metadata": {
    "collapsed": false
   },
   "outputs": [
    {
     "name": "stdout",
     "output_type": "stream",
     "text": [
      "[0 1 0 1 0 1 0 1 0 1]\n",
      "[6 7 8 9] [0 1 2 3 4 5]\n",
      "[0 1 2 3 4 5] [6 7 8 9]\n"
     ]
    }
   ],
   "source": [
    "y = np.array([0, 1] * 5)\n",
    "print y\n",
    "for train_indices, test_indices in StratifiedKFold(y, n_folds=2):\n",
    "    print train_indices, test_indices"
   ]
  },
  {
   "cell_type": "code",
   "execution_count": 86,
   "metadata": {
    "collapsed": false
   },
   "outputs": [
    {
     "name": "stdout",
     "output_type": "stream",
     "text": [
      "[0 0 0 0 0 1 1 1 1 1]\n",
      "[0 0 1 1] [0 0 0 1 1 1]\n",
      "[0 0 0 1 1 1] [0 0 1 1]\n"
     ]
    }
   ],
   "source": [
    "y = np.array([0,1,1] * 5)\n",
    "y = np.array([0] * 5 + [1] * 5)\n",
    "print y\n",
    "for train_indices, test_indices in StratifiedKFold(y, n_folds=2):\n",
    "#for train_indices, test_indices in KFold(len(y), n_folds=2):\n",
    "    print y[train_indices], y[test_indices]"
   ]
  },
  {
   "cell_type": "code",
   "execution_count": 87,
   "metadata": {
    "collapsed": false
   },
   "outputs": [
    {
     "name": "stdout",
     "output_type": "stream",
     "text": [
      "[3 2 0 6 1] [8 9 5 7 4]\n",
      "[5 6 0 3 8] [9 2 7 4 1]\n"
     ]
    }
   ],
   "source": [
    "for train_indices, test_indices in ShuffleSplit(10, n_iter=2, test_size=0.5):\n",
    "    print train_indices, test_indices"
   ]
  },
  {
   "cell_type": "code",
   "execution_count": null,
   "metadata": {
    "collapsed": true
   },
   "outputs": [],
   "source": []
  }
 ],
 "metadata": {
  "kernelspec": {
   "display_name": "Python 2",
   "language": "python",
   "name": "python2"
  },
  "language_info": {
   "codemirror_mode": {
    "name": "ipython",
    "version": 2
   },
   "file_extension": ".py",
   "mimetype": "text/x-python",
   "name": "python",
   "nbconvert_exporter": "python",
   "pygments_lexer": "ipython2",
   "version": "2.7.10"
  }
 },
 "nbformat": 4,
 "nbformat_minor": 0
}
