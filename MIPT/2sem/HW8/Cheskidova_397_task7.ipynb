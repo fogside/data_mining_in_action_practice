{
 "cells": [
  {
   "cell_type": "markdown",
   "metadata": {},
   "source": [
    "## Домашнее здание №2 / Link Prediction\n",
    "\n",
    "### Ческидова Евгения / 397\n",
    "\n",
    "----\n",
    "План выполнения домашнего задания:\n",
    "\n",
    "1. Краткий обзор исходных данных\n",
    "2. Генерация дополнительных данных\n",
    "3. Создание матрицы признаков для ребер\n",
    "4. Настройка модели и валидация качества модели\n",
    "5. Отправка результатов в контест на Kaggle"
   ]
  },
  {
   "cell_type": "markdown",
   "metadata": {},
   "source": [
    "----\n",
    "\n",
    "В данном домашнем задании вам предстоит построить классификатор, который бы предсказывал наличие или отсутствия ребра в графе между двумя вершинами. Никакой дополнительной информации о вершинах, кроме ее соседей нет, поэтому вам придется создавать вектор признаков для каждой пары вершин на основе топологии графа.\n",
    "\n",
    "Вершины графа - товары интернет магазина, наличие ребра символизируют о высокой частоте совместной покупки данных товаров вместе. Например если в нашем графе присутствую вершины молоко и хлеб и данные товары часто покупаются вместе, то между данными вершинами будет ребро. Если в нашем графе есть вершины молоко и кроссовки, то между данными вершинами ребра не будет. \n",
    "\n",
    "В данном датасете уровень относительной частоты по которому решается есть ребро между вершинами или его нет был определен за нас. Сам датасет был получен краулингом сайта Amazon.com в марте 2003 года, парсилась секция \"Люди которые купили данный продукт, также преобретали это...\"\n",
    "\n",
    "Мотивация данного задания: Расширить список блока рекомендаций, за счет товаров которые с высокой вероятность могут оказаться в одной корзине покупателя.\n",
    "\n",
    "----\n",
    "Для создания модели и работы с данными мы будем использовать пакет GraphLab, структуры данных SFrame и SGraph идеально подходят для работы с графами. Распределенное хранение данных и применения функций для расчета метрик отдельных вершин сильно облегчают работу с графом.\n",
    "\n",
    "Библиотека платная, но лицензия для академических целей получается в течении 5 минут, чтобы установить пакет следуйте шагам на сайте - https://turi.com/download/academic.html\n",
    "\n",
    "----"
   ]
  },
  {
   "cell_type": "markdown",
   "metadata": {},
   "source": [
    "Описание файлов:\n",
    "\n",
    "1. the_graph.csv - файл содержащий ребра графа, две колонки: src,dst \n",
    "2. suspicions.csv - файл с ребрами, графа. Для данных ребер неизвестно присутствует ли оно в графе или нет.\n",
    "\n",
    "Описание целевой метрики - в качестве целевой метрики будем использовать ROC AUC http://mlwiki.org/index.php/ROC_Analysis"
   ]
  },
  {
   "cell_type": "markdown",
   "metadata": {},
   "source": [
    "----"
   ]
  },
  {
   "cell_type": "code",
   "execution_count": 1,
   "metadata": {
    "collapsed": true
   },
   "outputs": [],
   "source": [
    "import graphlab as gl\n",
    "import numpy as np\n",
    "import pandas as pd\n",
    "\n",
    "gl.canvas.set_target('ipynb')"
   ]
  },
  {
   "cell_type": "code",
   "execution_count": 3,
   "metadata": {
    "collapsed": false
   },
   "outputs": [],
   "source": [
    "from matplotlib import pyplot as plt\n",
    "plt.style.use('ggplot')\n",
    "%matplotlib inline"
   ]
  },
  {
   "cell_type": "markdown",
   "metadata": {},
   "source": [
    "### 1. Краткий обзор исходных данных - 10 Баллов\n",
    "\n",
    "Загрузим данные, найдем ряд базовых статистик:\n",
    "\n",
    "1. Количество вершин и ребер\n",
    "2. Распределение степеней вершин графа (График log - log)\n",
    "3. Плотность графа\n",
    "4. Диаметр графа\n",
    "5. Количество треугольников в графе\n",
    "6. Краткие выводы о данных.\n",
    "7. БОНУСЫ - сделайте красивую визулизацию или расчет дополнительных метрик с выводами и вы получите дополнительные баллы за задание"
   ]
  },
  {
   "cell_type": "code",
   "execution_count": 92,
   "metadata": {
    "collapsed": false
   },
   "outputs": [],
   "source": [
    "edges = gl.SFrame.read_csv('the_graph.csv', delimiter=',', verbose=False)"
   ]
  },
  {
   "cell_type": "code",
   "execution_count": 93,
   "metadata": {
    "collapsed": true
   },
   "outputs": [],
   "source": [
    "g = gl.SGraph().add_edges(edges, src_field='src', dst_field='dst')"
   ]
  },
  {
   "cell_type": "markdown",
   "metadata": {},
   "source": [
    "1. Количество вершин и ребер"
   ]
  },
  {
   "cell_type": "code",
   "execution_count": 6,
   "metadata": {
    "collapsed": false
   },
   "outputs": [
    {
     "name": "stdout",
     "output_type": "stream",
     "text": [
      "Number of vertices = 262111\n",
      "Number of edges = 1384871\n"
     ]
    }
   ],
   "source": [
    "vert_edgs = g.summary()\n",
    "\n",
    "print 'Number of vertices = {0}'.format(vert_edgs['num_vertices'])\n",
    "print 'Number of edges = {0}'.format(vert_edgs['num_edges'])"
   ]
  },
  {
   "cell_type": "markdown",
   "metadata": {},
   "source": [
    "Выполните пункты 2 - 6. В пункте 6 напишите краткие выводы."
   ]
  },
  {
   "cell_type": "markdown",
   "metadata": {},
   "source": [
    "### #2 Распределение степеней вершин"
   ]
  },
  {
   "cell_type": "code",
   "execution_count": 97,
   "metadata": {
    "collapsed": true
   },
   "outputs": [],
   "source": [
    "from graphlab import degree_counting\n",
    "deg = degree_counting.create(g)\n",
    "deg_graph = deg['graph'] # a new SGraph with degree data attached to each vertex\n",
    "in_degree = deg_graph.vertices[['__id', 'in_degree']]\n",
    "out_degree = deg_graph.vertices[['__id', 'out_degree']]"
   ]
  },
  {
   "cell_type": "code",
   "execution_count": 103,
   "metadata": {
    "collapsed": false,
    "scrolled": true
   },
   "outputs": [
    {
     "data": {
      "image/png": "[encoded data removed]",
      "text/plain": [
       "<matplotlib.figure.Figure at 0x7fe8daa14cd0>"
      ]
     },
     "metadata": {},
     "output_type": "display_data"
    }
   ],
   "source": [
    "#2. degrees distribution\n",
    "with plt.style.context(('classic')):\n",
    "    total_degrees = np.array(in_degree['in_degree']+out_degree['out_degree'])\n",
    "    plt.hist(total_degrees)\n",
    "    plt.loglog()\n",
    "    plt.title(\"Distribution of vertex degrees\")\n",
    "    plt.show()"
   ]
  },
  {
   "cell_type": "markdown",
   "metadata": {},
   "source": [
    "У большинства вершин мало связей: до 100."
   ]
  },
  {
   "cell_type": "markdown",
   "metadata": {
    "collapsed": true
   },
   "source": [
    "### #3 Плотность графа\n",
    "Для ориентированного графа $$\\Delta = \\frac{L}{g(g-1)}$$\n",
    "* L -- количество связей в графе\n",
    "* g -- количество вершин"
   ]
  },
  {
   "cell_type": "code",
   "execution_count": 519,
   "metadata": {
    "collapsed": false
   },
   "outputs": [
    {
     "name": "stdout",
     "output_type": "stream",
     "text": [
      "1.36668025168e-07\n"
     ]
    }
   ],
   "source": [
    "L = vert_edgs['num_vertices']\n",
    "g_ = vert_edgs['num_edges']\n",
    "delta = L*1./((g_-1)*g_)\n",
    "print delta"
   ]
  },
  {
   "cell_type": "markdown",
   "metadata": {},
   "source": [
    "### #4 Диаметр графа\n",
    "Диаметр графа $\\mathrm {diam} (G)$  — это максимум расстояния между вершинами для всех пар вершин.\n",
    "\n",
    "Расстояние между вершинами — наименьшее число рёбер пути, соединяющего две вершины.\n",
    "\n",
    "Но посчитать такую штуку сложно вычислительно, поэтому я не буду."
   ]
  },
  {
   "cell_type": "markdown",
   "metadata": {},
   "source": [
    "### #5 Количество треугольников в графе\n",
    "Обнаружилось, что их 717754\n"
   ]
  },
  {
   "cell_type": "code",
   "execution_count": 141,
   "metadata": {
    "collapsed": false
   },
   "outputs": [
    {
     "data": {
      "text/html": [
       "<pre>Initializing vertex ids.</pre>"
      ],
      "text/plain": [
       "Initializing vertex ids."
      ]
     },
     "metadata": {},
     "output_type": "display_data"
    },
    {
     "data": {
      "text/html": [
       "<pre>Removing duplicate (bidirectional) edges.</pre>"
      ],
      "text/plain": [
       "Removing duplicate (bidirectional) edges."
      ]
     },
     "metadata": {},
     "output_type": "display_data"
    },
    {
     "data": {
      "text/html": [
       "<pre>Counting triangles...</pre>"
      ],
      "text/plain": [
       "Counting triangles..."
      ]
     },
     "metadata": {},
     "output_type": "display_data"
    },
    {
     "data": {
      "text/html": [
       "<pre>Finished in 3.13389 secs.</pre>"
      ],
      "text/plain": [
       "Finished in 3.13389 secs."
      ]
     },
     "metadata": {},
     "output_type": "display_data"
    },
    {
     "data": {
      "text/html": [
       "<pre>Total triangles in the graph : 717754</pre>"
      ],
      "text/plain": [
       "Total triangles in the graph : 717754"
      ]
     },
     "metadata": {},
     "output_type": "display_data"
    },
    {
     "data": {
      "text/html": [
       "<div style=\"max-height:1000px;max-width:1500px;overflow:auto;\"><table frame=\"box\" rules=\"cols\">\n",
       "    <tr>\n",
       "        <th style=\"padding-left: 1em; padding-right: 1em; text-align: center\">__id</th>\n",
       "        <th style=\"padding-left: 1em; padding-right: 1em; text-align: center\">triangle_count</th>\n",
       "    </tr>\n",
       "    <tr>\n",
       "        <td style=\"padding-left: 1em; padding-right: 1em; text-align: center; vertical-align: top\">5</td>\n",
       "        <td style=\"padding-left: 1em; padding-right: 1em; text-align: center; vertical-align: top\">79</td>\n",
       "    </tr>\n",
       "    <tr>\n",
       "        <td style=\"padding-left: 1em; padding-right: 1em; text-align: center; vertical-align: top\">7</td>\n",
       "        <td style=\"padding-left: 1em; padding-right: 1em; text-align: center; vertical-align: top\">38</td>\n",
       "    </tr>\n",
       "    <tr>\n",
       "        <td style=\"padding-left: 1em; padding-right: 1em; text-align: center; vertical-align: top\">8</td>\n",
       "        <td style=\"padding-left: 1em; padding-right: 1em; text-align: center; vertical-align: top\">166</td>\n",
       "    </tr>\n",
       "    <tr>\n",
       "        <td style=\"padding-left: 1em; padding-right: 1em; text-align: center; vertical-align: top\">10</td>\n",
       "        <td style=\"padding-left: 1em; padding-right: 1em; text-align: center; vertical-align: top\">34</td>\n",
       "    </tr>\n",
       "    <tr>\n",
       "        <td style=\"padding-left: 1em; padding-right: 1em; text-align: center; vertical-align: top\">27</td>\n",
       "        <td style=\"padding-left: 1em; padding-right: 1em; text-align: center; vertical-align: top\">25</td>\n",
       "    </tr>\n",
       "    <tr>\n",
       "        <td style=\"padding-left: 1em; padding-right: 1em; text-align: center; vertical-align: top\">29</td>\n",
       "        <td style=\"padding-left: 1em; padding-right: 1em; text-align: center; vertical-align: top\">48</td>\n",
       "    </tr>\n",
       "    <tr>\n",
       "        <td style=\"padding-left: 1em; padding-right: 1em; text-align: center; vertical-align: top\">33</td>\n",
       "        <td style=\"padding-left: 1em; padding-right: 1em; text-align: center; vertical-align: top\">242</td>\n",
       "    </tr>\n",
       "    <tr>\n",
       "        <td style=\"padding-left: 1em; padding-right: 1em; text-align: center; vertical-align: top\">47</td>\n",
       "        <td style=\"padding-left: 1em; padding-right: 1em; text-align: center; vertical-align: top\">9</td>\n",
       "    </tr>\n",
       "    <tr>\n",
       "        <td style=\"padding-left: 1em; padding-right: 1em; text-align: center; vertical-align: top\">50</td>\n",
       "        <td style=\"padding-left: 1em; padding-right: 1em; text-align: center; vertical-align: top\">6</td>\n",
       "    </tr>\n",
       "    <tr>\n",
       "        <td style=\"padding-left: 1em; padding-right: 1em; text-align: center; vertical-align: top\">52</td>\n",
       "        <td style=\"padding-left: 1em; padding-right: 1em; text-align: center; vertical-align: top\">31</td>\n",
       "    </tr>\n",
       "</table>\n",
       "[262111 rows x 2 columns]<br/>Note: Only the head of the SFrame is printed.<br/>You can use print_rows(num_rows=m, num_columns=n) to print more rows and columns.\n",
       "</div>"
      ],
      "text/plain": [
       "Columns:\n",
       "\t__id\tint\n",
       "\ttriangle_count\tint\n",
       "\n",
       "Rows: 262111\n",
       "\n",
       "Data:\n",
       "+------+----------------+\n",
       "| __id | triangle_count |\n",
       "+------+----------------+\n",
       "|  5   |       79       |\n",
       "|  7   |       38       |\n",
       "|  8   |      166       |\n",
       "|  10  |       34       |\n",
       "|  27  |       25       |\n",
       "|  29  |       48       |\n",
       "|  33  |      242       |\n",
       "|  47  |       9        |\n",
       "|  50  |       6        |\n",
       "|  52  |       31       |\n",
       "+------+----------------+\n",
       "[262111 rows x 2 columns]\n",
       "Note: Only the head of the SFrame is printed.\n",
       "You can use print_rows(num_rows=m, num_columns=n) to print more rows and columns."
      ]
     },
     "execution_count": 141,
     "metadata": {},
     "output_type": "execute_result"
    }
   ],
   "source": [
    "from graphlab import triangle_counting\n",
    "tc = triangle_counting.create(g)\n",
    "tc_out = tc['triangle_count']\n",
    "tc_out"
   ]
  },
  {
   "cell_type": "code",
   "execution_count": 154,
   "metadata": {
    "collapsed": false
   },
   "outputs": [
    {
     "data": {
      "text/plain": [
       "[]"
      ]
     },
     "execution_count": 154,
     "metadata": {},
     "output_type": "execute_result"
    },
    {
     "data": {
      "image/png": "[encoded data removed]",
      "text/plain": [
       "<matplotlib.figure.Figure at 0x7fe83b524450>"
      ]
     },
     "metadata": {},
     "output_type": "display_data"
    }
   ],
   "source": [
    "plt.boxplot(tc_out['triangle_count'])\n",
    "plt.loglog()"
   ]
  },
  {
   "cell_type": "code",
   "execution_count": 151,
   "metadata": {
    "collapsed": false
   },
   "outputs": [
    {
     "data": {
      "image/png": "[encoded data removed]",
      "text/plain": [
       "<matplotlib.figure.Figure at 0x7fe842696c10>"
      ]
     },
     "metadata": {},
     "output_type": "display_data"
    }
   ],
   "source": [
    "with plt.style.context(('classic')):\n",
    "    plt.hist(tc_out['triangle_count'])\n",
    "    plt.title(\"Triangles num per node hist\")\n",
    "    plt.xlabel(\"Number of triangles per node\")\n",
    "    plt.ylabel(\"Number of nodes\")\n",
    "    plt.loglog()\n",
    "    plt.show()"
   ]
  },
  {
   "cell_type": "markdown",
   "metadata": {},
   "source": [
    "### #5 Выводы\n",
    "\n",
    "* У большинства вершин мало связей: до 100 штук.\n",
    "* Плотность графа весьма мала, что подтверждает, что связей в нем не очень много.\n",
    "* Всего ~1000 нодов состоит в ~100 треугольниках. Медиана -- 8 треугольников."
   ]
  },
  {
   "cell_type": "markdown",
   "metadata": {},
   "source": [
    "### #6 Визуализация\n"
   ]
  },
  {
   "cell_type": "code",
   "execution_count": 104,
   "metadata": {
    "collapsed": false
   },
   "outputs": [
    {
     "name": "stderr",
     "output_type": "stream",
     "text": [
      "/home/fogside/virtualenv/python2/lib/python2.7/site-packages/ipykernel/__main__.py:1: DeprecationWarning: This function is deprecated. Please call randint(0, 262110 + 1) instead\n",
      "  if __name__ == '__main__':\n"
     ]
    },
    {
     "data": {
      "text/plain": [
       "SGraph({'num_edges': 728, 'num_vertices': 322})\n",
       "Vertex Fields:['__id']\n",
       "Edge Fields:['__src_id', '__dst_id']"
      ]
     },
     "execution_count": 104,
     "metadata": {},
     "output_type": "execute_result"
    }
   ],
   "source": [
    "random_vertices = list(np.random.random_integers(min(g.vertices['__id']), max(g.vertices['__id']),40))\n",
    "subgraph = g.get_neighborhood(random_vertices)\n",
    "subgraph"
   ]
  },
  {
   "cell_type": "code",
   "execution_count": 105,
   "metadata": {
    "collapsed": false
   },
   "outputs": [
    {
     "data": {
      "application/javascript": [
       "$(\"head\").append($(\"<link/>\").attr({\n",
       "  rel:  \"stylesheet\",\n",
       "  type: \"text/css\",\n",
       "  href: \"//cdnjs.cloudflare.com/ajax/libs/font-awesome/4.1.0/css/font-awesome.min.css\"\n",
       "}));\n",
       "$(\"head\").append($(\"<link/>\").attr({\n",
       "  rel:  \"stylesheet\",\n",
       "  type: \"text/css\",\n",
       "  href: \"https://static.turi.com/products/graphlab-create/2.1/canvas/css/canvas.css\"\n",
       "}));\n",
       "\n",
       "            (function(){\n",
       "\n",
       "                var e = null;\n",
       "                if (typeof element == 'undefined') {\n",
       "                    var scripts = document.getElementsByTagName('script');\n",
       "                    var thisScriptTag = scripts[scripts.length-1];\n",
       "                    var parentDiv = thisScriptTag.parentNode;\n",
       "                    e = document.createElement('div');\n",
       "                    parentDiv.appendChild(e);\n",
       "                } else {\n",
       "                    e = element[0];\n",
       "                }\n",
       "\n",
       "                if (typeof requirejs !== 'undefined') {\n",
       "                    // disable load timeout; ipython_app.js is large and can take a while to load.\n",
       "                    requirejs.config({waitSeconds: 0});\n",
       "                }\n",
       "\n",
       "                require(['https://static.turi.com/products/graphlab-create/2.1/canvas/js/ipython_app.js'], function(IPythonApp){\n",
       "                    var app = new IPythonApp();\n",
       "                    app.attachView('sgraph','View', {\"edges_labels\": null, \"selected_variable\": {\"name\": [\"subgraph\"], \"view_file\": \"sgraph\", \"view_component\": \"View\", \"view_params\": {\"elabel_hover\": false, \"vertex_positions\": null, \"h_offset\": 0.0, \"node_size\": 100, \"ecolor\": [0.37, 0.33, 0.33], \"elabel\": null, \"arrows\": false, \"ewidth\": 1, \"vlabel\": null, \"highlight_color\": [0.69, 0.0, 0.498], \"vcolor\": [0.522, 0.741, 0.0], \"vlabel_hover\": false, \"highlight\": {}, \"v_offset\": 0.03}, \"view_components\": [\"View\"], \"type\": \"SGraph\", \"descriptives_links\": {\"edges\": \"edges\", \"vertices\": \"vertices\"}, \"descriptives\": {\"edges\": 728, \"vertices\": 322}}, \"positions\": null, \"error_type\": 0, \"vertices\": [229873, 210884, 239988, 224182, 187654, 139771, 137637, 228906, 133632, 112946, 224180, 112688, 92182, 110407, 102947, 52091, 37199, 43163, 222303, 82772, 226893, 27168, 42311, 41241, 43161, 16948, 33799, 166478, 87482, 71227, 208993, 250589, 230973, 204848, 147252, 33341, 246198, 200744, 14986, 14827, 23775, 33, 244718, 246064, 242361, 237076, 235804, 244280, 228905, 224855, 211667, 253392, 207622, 150227, 135975, 134137, 133027, 112666, 83533, 82061, 71216, 59967, 55918, 94595, 79447, 252551, 43164, 153115, 98225, 237273, 48394, 30310, 185215, 62916, 23720, 23101, 40099, 110892, 191, 20940, 133631, 99298, 172096, 169800, 75338, 133123, 2621, 11741, 8968, 4429, 211666, 150225, 133629, 115167, 102794, 20942, 83343, 71559, 71217, 253189, 61656, 197173, 44161, 23600, 23098, 9016, 20941, 12310, 32567, 9661, 157381, 142015, 74683, 71215, 227892, 61313, 191853, 40098, 237077, 134375, 25163, 163194, 59965, 224856, 242420, 211513, 206584, 165895, 156254, 163134, 127267, 154426, 120098, 116220, 112687, 1218, 107535, 102895, 110408, 98224, 82841, 209268, 82773, 140914, 111505, 68785, 94820, 79945, 79943, 227348, 75339, 153795, 48462, 33376, 61316, 17158, 19666, 112667, 38158, 16949, 53643, 5894, 110406, 196111, 112689, 107130, 5806, 243152, 224181, 220017, 249160, 218326, 187655, 88632, 112642, 170902, 135261, 176734, 91701, 100797, 96573, 95170, 199216, 70832, 42313, 255660, 217783, 173373, 2734, 92183, 239987, 196337, 10744, 147253, 24714, 16147, 3322, 9588, 253390, 228410, 215561, 178400, 173602, 157065, 142012, 130236, 206315, 118951, 111861, 163586, 111306, 211010, 98223, 79946, 79944, 101490, 64232, 110405, 67947, 174283, 98216, 59516, 102735, 156253, 58545, 38069, 48463, 208449, 13304, 48461, 38159, 39555, 28926, 40317, 115168, 5609, 146640, 46635, 197696, 224693, 178886, 172879, 167665, 153300, 162062, 143043, 135509, 126071, 61315, 118950, 248022, 116219, 82077, 98217, 82078, 219719, 137369, 148627, 81720, 72149, 54871, 53996, 41922, 113825, 33933, 31973, 65798, 42844, 31891, 91955, 7970, 5896, 82060, 22452, 13462, 134136, 258424, 5893, 20943, 183318, 84333, 18026, 118585, 245371, 4888, 220549, 257455, 233895, 219431, 217441, 214070, 248091, 224183, 208352, 177767, 174284, 157064, 134138, 114360, 175605, 163907, 7125, 108352, 163706, 150226, 96777, 94594, 82357, 62789, 41240, 151778, 109675, 77, 6937, 39556, 66476, 98226, 24712, 115781, 166479, 11704, 59966], \"vertices_labels\": null, \"edges\": [[23775, 42311], [210884, 230973], [224180, 224182], [230973, 210884], [204848, 224180], [224180, 204848], [43161, 43163], [204848, 224182], [27168, 16948], [16948, 27168], [224182, 204848], [224182, 224180], [37199, 23101], [229873, 235804], [71227, 40099], [133632, 133027], [43163, 43164], [226893, 224855], [239988, 237273], [208993, 135975], [43163, 82061], [228906, 228905], [87482, 4429], [82772, 98225], [250589, 253189], [137637, 115167], [139771, 224856], [137637, 134375], [200744, 32567], [71227, 40098], [222303, 74683], [71227, 83343], [228906, 242420], [33799, 17158], [43163, 61316], [110407, 110406], [112688, 112687], [110407, 107535], [27168, 5894], [82772, 98224], [200744, 68785], [230973, 153795], [222303, 5806], [246198, 17158], [37199, 17158], [82772, 82773], [27168, 16949], [112946, 156254], [16948, 16949], [110407, 82841], [27168, 1218], [110407, 110408], [16948, 5894], [112688, 95170], [208993, 112642], [147252, 147253], [239988, 243152], [33799, 16147], [239988, 239987], [23775, 42313], [204848, 224181], [224182, 224181], [224180, 224181], [187654, 187655], [42311, 42313], [82772, 98223], [43163, 38159], [229873, 208449], [71227, 39555], [112946, 156253], [229873, 173602], [137637, 115168], [228906, 215561], [228906, 67947], [187654, 102735], [210884, 211010], [110407, 110405], [43161, 38159], [230973, 211010], [224180, 31973], [92182, 84333], [16948, 5896], [229873, 224693], [137637, 134136], [208993, 167665], [42311, 65798], [37199, 20943], [87482, 81720], [27168, 5896], [229873, 135509], [187654, 22452], [208993, 148627], [43163, 82060], [228906, 72149], [112946, 66476], [250589, 248091], [239988, 114360], [229873, 208352], [166478, 109675], [37199, 24712], [204848, 224183], [208993, 177767], [166478, 166479], [82772, 98226], [224180, 224183], [71227, 39556], [224182, 224183], [150227, 82772], [82061, 43163], [43164, 43163], [228905, 228906], [235804, 229873], [224855, 226893], [133027, 133632], [172096, 211667], [211667, 172096], [133027, 133631], [83533, 4429], [207622, 224855], [185215, 133027], [224855, 207622], [133631, 133027], [2621, 191], [242361, 237076], [237076, 133123], [237076, 242361], [71216, 71215], [237076, 237077], [242361, 237077], [110892, 142015], [169800, 191853], [185215, 133629], [211667, 211666], [59967, 59965], [40099, 40098], [224855, 224856], [133027, 133629], [207622, 224856], [133631, 133629], [244280, 134375], [134137, 134375], [150227, 150225], [134137, 115167], [172096, 211666], [71216, 71217], [20940, 17158], [71216, 38158], [55918, 17158], [98225, 98224], [98225, 82773], [11741, 5806], [23101, 17158], [94595, 68785], [82061, 61316], [99298, 17158], [253392, 255660], [62916, 91701], [71216, 70832], [11741, 3322], [2621, 3322], [228905, 215561], [98225, 98223], [150227, 98223], [23720, 28926], [98225, 111306], [110892, 142012], [237076, 228410], [40099, 39555], [228905, 67947], [253392, 253390], [62916, 42844], [43164, 54871], [134137, 134136], [253392, 248022], [62916, 41922], [246064, 81720], [94595, 84333], [75338, 65798], [185215, 162062], [237076, 245371], [23101, 20943], [82061, 82060], [237273, 114360], [59967, 62789], [59967, 59966], [150227, 150226], [150227, 98226], [40099, 39556], [134137, 134138], [224856, 244718], [150225, 82772], [253189, 250589], [197173, 166478], [224856, 226893], [44161, 82772], [191853, 52091], [61313, 229873], [142015, 14827], [134375, 134137], [150225, 150227], [237077, 237076], [224856, 224855], [133629, 133027], [211666, 172096], [211666, 211667], [20942, 23101], [237077, 242361], [142015, 110892], [71215, 71216], [59965, 59967], [224856, 207622], [115167, 134137], [191853, 169800], [71217, 71216], [133629, 133631], [40098, 40099], [227892, 71216], [23098, 20942], [71217, 71215], [20942, 23098], [227892, 71215], [227892, 71217], [71215, 71217], [163194, 211666], [134375, 115167], [23600, 25163], [20941, 17158], [71215, 38158], [20942, 17158], [32567, 68785], [227892, 38158], [23098, 17158], [71559, 79943], [71217, 38158], [44161, 82773], [211666, 209268], [71559, 79945], [211666, 165895], [74683, 5806], [71215, 70832], [71217, 70832], [227892, 70832], [142015, 135261], [150225, 98223], [40098, 39555], [71559, 79944], [134375, 115168], [71559, 64232], [71559, 79946], [25163, 28926], [142015, 142012], [115167, 115168], [142015, 130236], [61656, 81720], [133629, 162062], [115167, 134136], [102794, 153300], [134375, 134136], [157381, 81720], [59965, 113825], [23098, 20943], [20941, 33933], [150225, 150226], [150225, 98226], [197173, 166479], [134375, 134138], [59965, 62789], [115167, 134138], [253189, 248091], [197173, 109675], [40098, 39556], [59965, 59966], [211666, 219431], [82773, 82772], [110406, 110407], [110408, 110407], [120098, 110407], [242420, 228906], [227348, 43163], [107535, 110407], [16949, 16948], [156254, 112946], [98224, 82772], [16949, 27168], [68785, 92182], [61316, 43163], [112689, 112688], [82841, 110407], [112687, 112688], [211513, 30310], [61316, 82061], [38158, 71216], [17158, 20940], [68785, 8968], [5806, 191], [98224, 98225], [5806, 2621], [17158, 79447], [102895, 71559], [112689, 9661], [112689, 9016], [79943, 71559], [206584, 227892], [38158, 71217], [33376, 224856], [17158, 20942], [111505, 71559], [209268, 211666], [17158, 20941], [38158, 71215], [110406, 82841], [110406, 110408], [110406, 107535], [107535, 110408], [120098, 110406], [112687, 112689], [5894, 1218], [94820, 17158], [107535, 110406], [112689, 112687], [116220, 107130], [102895, 79943], [16949, 5894], [120098, 110408], [107535, 82841], [120098, 107535], [16949, 1218], [116220, 53643], [98224, 82773], [1218, 5894], [127267, 17158], [82841, 107535], [110408, 110406], [110408, 82841], [107130, 116220], [19666, 17158], [110408, 107535], [79943, 102895], [82841, 110406], [82841, 110408], [156254, 176734], [68785, 10744], [17158, 16147], [5894, 2734], [5806, 3322], [196111, 220017], [68785, 92183], [38158, 70832], [112689, 95170], [112687, 95170], [68785, 196337], [211513, 220017], [110408, 110405], [120098, 110405], [111505, 79946], [48462, 48463], [116220, 118951], [98224, 98223], [107535, 110405], [82773, 101490], [5806, 5609], [110406, 110405], [156254, 156253], [48462, 48461], [82841, 110405], [98224, 111306], [116220, 116219], [5894, 5893], [1218, 5896], [1218, 5893], [116220, 118950], [107130, 116219], [17158, 20943], [17158, 172879], [68785, 18026], [163134, 153300], [5894, 77], [5894, 6937], [5806, 7125], [163134, 163907], [61316, 82357], [220017, 33341], [187655, 187654], [100797, 43163], [239987, 239988], [218326, 43163], [224181, 224182], [147253, 147252], [176734, 112946], [217783, 239988], [224181, 224180], [42313, 42311], [199216, 82772], [95170, 112688], [224181, 204848], [16147, 33799], [243152, 239988], [91701, 14986], [255660, 253392], [243152, 237273], [220017, 30310], [3322, 191], [91701, 112666], [91701, 62916], [239987, 237273], [70832, 71216], [3322, 2621], [70832, 71215], [96573, 227892], [199216, 44161], [173373, 116220], [24714, 17158], [70832, 38158], [220017, 211513], [176734, 156254], [100797, 61316], [91701, 112667], [95170, 112689], [16147, 17158], [95170, 112687], [88632, 17158], [239987, 217783], [217783, 239987], [239987, 243152], [170902, 147253], [176734, 178400], [255660, 253390], [147253, 157065], [187655, 102735], [176734, 156253], [135261, 130236], [199216, 98223], [170902, 157065], [24714, 20943], [187655, 22452], [10744, 18026], [173373, 118950], [187655, 53996], [255660, 248022], [91701, 41922], [91701, 197696], [91701, 42844], [42313, 65798], [9588, 153300], [218326, 82060], [224181, 31973], [112642, 167665], [170902, 157064], [243152, 114360], [147253, 157064], [239987, 114360], [187655, 151778], [3322, 7125], [224181, 224183], [217783, 114360], [157065, 147252], [215561, 228906], [101490, 82772], [28926, 41241], [38159, 43161], [38159, 43163], [208449, 229873], [111306, 82772], [253390, 102947], [156253, 112946], [110405, 110407], [111306, 98225], [157065, 252551], [111861, 23101], [253390, 153115], [253390, 253392], [215561, 228905], [142012, 110892], [39555, 40099], [5609, 191], [98216, 4429], [38159, 43164], [228410, 237076], [28926, 25163], [64232, 71559], [115168, 134375], [28926, 23600], [79946, 71559], [39555, 40098], [228410, 237077], [156253, 12310], [115168, 115167], [48463, 48462], [110405, 107535], [79946, 111505], [48461, 48462], [118951, 116220], [110405, 110408], [111306, 98224], [156253, 156254], [110405, 110406], [38069, 17158], [111861, 17158], [146640, 17158], [101490, 82773], [40317, 17158], [157065, 140914], [110405, 82841], [111306, 82773], [157065, 170902], [157065, 147253], [146640, 70832], [253390, 255660], [46635, 187655], [130236, 135261], [163586, 59516], [28926, 13304], [206315, 163586], [163586, 206315], [48463, 48461], [28926, 58545], [48461, 48463], [111306, 98223], [156253, 178400], [48463, 82078], [48463, 82077], [157065, 220549], [115168, 134136], [163586, 137369], [253390, 248022], [102735, 151778], [157065, 157064], [174283, 163907], [156253, 108352], [174283, 174284], [39555, 39556], [156253, 66476], [208449, 208352], [28926, 41240], [65798, 23775], [167665, 208993], [178886, 43163], [162062, 133632], [134136, 137637], [224693, 229873], [258424, 250589], [258424, 33], [82060, 43163], [65798, 42311], [61315, 43163], [54871, 43163], [54871, 43164], [13462, 4429], [245371, 242361], [4888, 191], [134136, 134137], [20943, 23101], [42844, 62916], [248022, 253392], [82060, 82061], [98217, 83533], [245371, 237076], [81720, 83533], [41922, 62916], [82060, 43164], [65798, 75338], [162062, 185215], [84333, 94595], [245371, 133123], [81720, 4429], [162062, 133027], [162062, 133631], [31891, 191853], [134136, 115167], [162062, 133629], [258424, 253189], [134136, 134375], [245371, 237077], [113825, 59965], [118585, 191853], [153300, 102794], [65798, 75339], [65798, 154426], [5893, 1218], [82078, 48462], [5896, 1218], [4888, 5806], [84333, 68785], [118950, 116220], [178886, 61316], [116219, 116220], [116219, 107130], [5893, 5894], [20943, 17158], [7970, 17158], [5896, 5894], [33933, 17158], [82060, 61316], [82077, 48462], [167665, 112642], [20943, 24714], [81720, 249160], [33933, 16147], [118950, 173373], [65798, 42313], [4888, 3322], [84333, 10744], [82077, 48461], [137369, 163586], [82078, 48463], [82078, 48461], [134136, 115168], [118950, 118951], [98217, 98216], [81720, 98216], [153300, 174283], [72149, 67947], [248022, 253390], [81720, 98217], [98217, 81720], [81720, 13462], [126071, 113825], [162062, 183318], [143043, 82077], [5896, 5893], [82078, 82077], [153300, 219719], [5893, 5896], [41922, 42844], [118950, 116219], [153300, 91955], [143043, 82078], [42844, 41922], [116219, 118950], [113825, 126071], [82077, 82078], [258424, 257455], [82077, 96777], [153300, 174284], [82078, 96777], [153300, 163907], [258424, 248091], [126071, 59966], [126071, 115781], [126071, 62789], [113825, 59966], [5893, 11704], [113825, 115781], [143043, 96777], [113825, 62789], [84333, 94594], [20943, 24712], [224183, 224182], [151778, 187654], [224183, 204848], [166479, 166478], [98226, 82772], [150226, 82772], [257455, 250589], [248091, 250589], [24712, 37199], [214070, 208993], [224183, 224180], [82357, 43163], [39556, 71227], [109675, 166478], [134138, 134137], [150226, 150227], [62789, 48394], [39556, 40099], [24712, 23101], [59966, 4429], [98226, 150227], [7125, 191], [62789, 59967], [257455, 253189], [166479, 197173], [134138, 134375], [219431, 211666], [217441, 211666], [150226, 150225], [62789, 59965], [134138, 115167], [248091, 253189], [39556, 40098], [98226, 150225], [96777, 48462], [94594, 68785], [82357, 61316], [163706, 112689], [175605, 5806], [233895, 5806], [11704, 5894], [24712, 17158], [11704, 1218], [151778, 187655], [224183, 224181], [7125, 3322], [157064, 147253], [157064, 170902], [96777, 48463], [98226, 98223], [174284, 174283], [208352, 208449], [150226, 98223], [134138, 115168], [157064, 157065], [39556, 39555], [175605, 5609], [151778, 102735], [96777, 48461], [163907, 174283], [115781, 126071], [96777, 82078], [96777, 82077], [257455, 258424], [11704, 5896], [62789, 113825], [94594, 84333], [24712, 20943], [115781, 113825], [11704, 5893], [150226, 98226], [62789, 115781], [166479, 109675], [163907, 174284], [257455, 248091], [174284, 163907], [115781, 59966], [109675, 166479], [98226, 150226], [115781, 62789], [62789, 59966]], \"ipython\": true, \"error_msg\": \"\"}, e);\n",
       "                });\n",
       "            })();\n",
       "        "
      ]
     },
     "metadata": {},
     "output_type": "display_data"
    }
   ],
   "source": [
    "subgraph.show(node_size=100)"
   ]
  },
  {
   "cell_type": "markdown",
   "metadata": {},
   "source": [
    "Как и показывает параметр плотности, граф довольно разреженный.\n",
    "\n",
    "Потому случайно выбранные 40 нодов оказались несвязанными между собой."
   ]
  },
  {
   "cell_type": "markdown",
   "metadata": {},
   "source": [
    "*Попытка сделать что-то крутое используя deepWalk*\n",
    "see: https://github.com/phanein/deepwalk\n",
    "\n",
    "Загружаемая табличка доступна на dropbox по ссылке: https://www.dropbox.com/s/5ec40rrv4eo7pl7/deepWalkRepr.csv?dl=0\n",
    "\n",
    "Она была получена так:\n",
    "\n",
    ">**deepwalk --format edgelist --input the_graph_2.csv --output deepWalkRepr.csv --vertex-freq-degree --workers 3**\n",
    "\n",
    "где **the_graph_2.csv** -- просто тот же файл с графом с пробелами вместо запятых и без названия."
   ]
  },
  {
   "cell_type": "code",
   "execution_count": 28,
   "metadata": {
    "collapsed": true
   },
   "outputs": [],
   "source": [
    "from sklearn.decomposition import PCA"
   ]
  },
  {
   "cell_type": "code",
   "execution_count": 26,
   "metadata": {
    "collapsed": true
   },
   "outputs": [],
   "source": [
    "deepwalk_dict = {}\n",
    "with open('./deepWalkRepr.csv', 'r') as deepWalk:\n",
    "    data = deepWalk.readlines()\n",
    "    data = [line.strip().split(' ') for line in data[1:]]\n",
    "    for line in data:\n",
    "        deepwalk_dict[int(line[0])] = [float(i) for i in line[1:]]"
   ]
  },
  {
   "cell_type": "code",
   "execution_count": 20,
   "metadata": {
    "collapsed": false
   },
   "outputs": [
    {
     "data": {
      "text/plain": [
       "262111"
      ]
     },
     "execution_count": 20,
     "metadata": {},
     "output_type": "execute_result"
    }
   ],
   "source": [
    "len(deepwalk_dict)"
   ]
  },
  {
   "cell_type": "code",
   "execution_count": 26,
   "metadata": {
    "collapsed": true
   },
   "outputs": [],
   "source": [
    "data_dw = np.array(deepwalk_dict.values())"
   ]
  },
  {
   "cell_type": "code",
   "execution_count": 54,
   "metadata": {
    "collapsed": false
   },
   "outputs": [
    {
     "data": {
      "text/plain": [
       "(262111, 64)"
      ]
     },
     "execution_count": 54,
     "metadata": {},
     "output_type": "execute_result"
    }
   ],
   "source": [
    "data_dw.shape"
   ]
  },
  {
   "cell_type": "code",
   "execution_count": 33,
   "metadata": {
    "collapsed": false
   },
   "outputs": [
    {
     "name": "stdout",
     "output_type": "stream",
     "text": [
      "number of estimated clusters : 1\n"
     ]
    }
   ],
   "source": [
    "## Попробуем кластеризовать и посмотреть что получится...\n",
    "\n",
    "from sklearn.cluster import MeanShift, estimate_bandwidth\n",
    "# The following bandwidth can be automatically detected using\n",
    "bandwidth = estimate_bandwidth(data_dw, quantile=0.2, n_samples=500)\n",
    "\n",
    "ms = MeanShift(bandwidth=bandwidth, bin_seeding=True)\n",
    "ms.fit(data_dw)\n",
    "labels = ms.labels_\n",
    "cluster_centers = ms.cluster_centers_\n",
    "\n",
    "labels_unique = np.unique(labels)\n",
    "n_clusters_ = len(labels_unique)\n",
    "\n",
    "print(\"number of estimated clusters : %d\" % n_clusters_)"
   ]
  },
  {
   "cell_type": "markdown",
   "metadata": {},
   "source": [
    "Кажется ничего совсем не вышло.. Один кластер. Ниже визуализация результатов PCA дает тот же результат.\n",
    "\n",
    "Но все же deepWalk не совсем для этого)"
   ]
  },
  {
   "cell_type": "code",
   "execution_count": 30,
   "metadata": {
    "collapsed": true
   },
   "outputs": [],
   "source": [
    "#try to visualize this\n",
    "pca2 = PCA(n_components=2)\n",
    "pca2_deep_walk = pca2.fit_transform(data_dw)"
   ]
  },
  {
   "cell_type": "code",
   "execution_count": 32,
   "metadata": {
    "collapsed": false
   },
   "outputs": [
    {
     "data": {
      "image/png": "[encoded data removed]",
      "text/plain": [
       "<matplotlib.figure.Figure at 0x7f8401429d10>"
      ]
     },
     "metadata": {},
     "output_type": "display_data"
    }
   ],
   "source": [
    "plt.figure(figsize=(5,5))\n",
    "plt.scatter(pca2_deep_walk[:,0], pca2_deep_walk[:,1])\n",
    "plt.title(\"Sick Sad World\")\n",
    "plt.show()"
   ]
  },
  {
   "cell_type": "markdown",
   "metadata": {},
   "source": [
    "----\n",
    "### 2. Генерация дополнительных данных - 20 Баллов\n",
    "\n",
    "Перед нами стоит задача создания модели классификации, которая в дальнейшем будет использоваться для повышения разнообразия блока рекомендаций. Для большинства моделей классификации требуется минимум 2 класса объектов - негативный и позитивный. Но у нас есть только граф, ребра которые в нем присутствуют это позитивные примеры. Получается, что у нас нет негативных примеров. \n",
    "\n",
    "Ответьте на 3 вопроса:\n",
    "\n",
    "1. Можем ли мы сами создать негативные примеры? Граф это описание связей между вершинами, если мы будем случайным образом выбирать две вершины и считать, что это ребро - негативный пример, имеет ли это смысл?\n",
    "2. Если мы решим сгенерировать негативные примеры, как должна быть устроена процедура генерации, чтобы обобщаяющая способность модели была наилучшей?\n",
    "3. Как зависит обобщающая способность модели от негативных примеров, которые мы ей покажем?"
   ]
  },
  {
   "cell_type": "markdown",
   "metadata": {
    "collapsed": true
   },
   "source": [
    "#### Ответы:\n",
    "- 1) Да, это имеет смысл, если мы знаем, что между этими двумя вершинами нет ребра. \n",
    "- 2) Можно попробовать первоначально делать некую кластеризацию вершин и выбирать для негативных примеров те, которые не лежат в одном кластере.\n",
    "- 3) Я думаю, что обучающая способность тем выше, чем шире разнообразие негативных примеров."
   ]
  },
  {
   "cell_type": "markdown",
   "metadata": {},
   "source": []
  },
  {
   "cell_type": "markdown",
   "metadata": {},
   "source": [
    "------\n",
    "Создадим класс отрицательных примеров, сгенерировав его самым простым образом: берем две вершины, если ребро между ними отсутствует в графе, то это отрицательный пример.\n",
    "\n",
    "1. Попробуйте улучшить генерацию отрицательных примеров"
   ]
  },
  {
   "cell_type": "code",
   "execution_count": 8,
   "metadata": {
    "collapsed": false
   },
   "outputs": [
    {
     "name": "stdout",
     "output_type": "stream",
     "text": [
      "1384871\n"
     ]
    }
   ],
   "source": [
    "# read in existing edges\n",
    "graph_file = open('the_graph.csv')\n",
    "graph_file.readline() # first line is column names\n",
    "existing_edges = set()\n",
    "\n",
    "for x in graph_file:\n",
    "    start, end = x.split(',')\n",
    "    start, end = int(start), int(end)\n",
    "    existing_edges.add((start, end))\n",
    "    \n",
    "print len(existing_edges)"
   ]
  },
  {
   "cell_type": "code",
   "execution_count": 9,
   "metadata": {
    "collapsed": false
   },
   "outputs": [
    {
     "name": "stdout",
     "output_type": "stream",
     "text": [
      "1384835\n"
     ]
    }
   ],
   "source": [
    "# generating negative examples, so that class balance is 50/50 \n",
    "generated_nonexisting_edges = []\n",
    "counter = 0\n",
    "while True:\n",
    "    start = np.random.randint(0, vert_edgs['num_vertices'])\n",
    "    end = np.random.randint(0, vert_edgs['num_vertices'])\n",
    "    \n",
    "    if (start != end) & ((start, end) not in existing_edges):\n",
    "        generated_nonexisting_edges.append([start, end, 0])\n",
    "        \n",
    "    counter += 1\n",
    "    if counter == vert_edgs['num_edges']:\n",
    "        break\n",
    "\n",
    "print len(generated_nonexisting_edges)"
   ]
  },
  {
   "cell_type": "code",
   "execution_count": 10,
   "metadata": {
    "collapsed": false
   },
   "outputs": [],
   "source": [
    "# create SFrame with negative examples\n",
    "generated_nonexisting_edges = pd.DataFrame(data=generated_nonexisting_edges, columns=['src', 'dst', 'class'])\n",
    "generated_nonexisting_edges = gl.SFrame(data=generated_nonexisting_edges)"
   ]
  },
  {
   "cell_type": "code",
   "execution_count": 11,
   "metadata": {
    "collapsed": true
   },
   "outputs": [],
   "source": [
    "# add target function to the original dataset \n",
    "edges['class'] = [1]*edges.shape[0]"
   ]
  },
  {
   "cell_type": "code",
   "execution_count": 12,
   "metadata": {
    "collapsed": false
   },
   "outputs": [],
   "source": [
    "# add negative examples to the main data and shuffle\n",
    "edges = edges.append(generated_nonexisting_edges)\n",
    "edges = gl.cross_validation.shuffle(edges)"
   ]
  },
  {
   "cell_type": "code",
   "execution_count": 13,
   "metadata": {
    "collapsed": false
   },
   "outputs": [],
   "source": [
    "# update our graph g with fake edges\n",
    "g = gl.SGraph().add_edges(edges, src_field='src', dst_field='dst')"
   ]
  },
  {
   "cell_type": "code",
   "execution_count": 14,
   "metadata": {
    "collapsed": false
   },
   "outputs": [
    {
     "name": "stdout",
     "output_type": "stream",
     "text": [
      "Number of vertices = 262111\n",
      "Number of edges = 2769706\n"
     ]
    }
   ],
   "source": [
    "vert_edgs = g.summary()\n",
    "\n",
    "print 'Number of vertices = {0}'.format(vert_edgs['num_vertices'])\n",
    "print 'Number of edges = {0}'.format(vert_edgs['num_edges'])"
   ]
  },
  {
   "cell_type": "markdown",
   "metadata": {},
   "source": [
    "----\n",
    "### 3. Создание матрицы признаков для ребер - 30 Баллов\n",
    "\n",
    "Для создания модели классификации нам необходимы признаки, которые описывают каждое ребро. Вот базовый список того, что можно посчитать:\n",
    "\n",
    "Для вершин:\n",
    "\n",
    "1. Список и количество вершин, из которых ребра приходят в данную вершину\n",
    "2. Список и количество вершин, в которые ребра приходят из данной вершины\n",
    "3. Список и количество вершин связанных с данной вершиной\n",
    "4. Список и количество вершин, которые связанны с данной вершиной как входящими, так и исходящими ребрами\n",
    "\n",
    "Также можно добавить: вершины с которыми данная вершина образует треугольники, кластеризовать вершины и использовать кластер данной вершины и др.\n",
    "\n",
    "Придумайте дополнительные интересные признаки для вершин и вы получите дополнительный балл за домашнюю работу!"
   ]
  },
  {
   "cell_type": "code",
   "execution_count": 15,
   "metadata": {
    "collapsed": false
   },
   "outputs": [
    {
     "data": {
      "text/html": [
       "<div style=\"max-height:1000px;max-width:1500px;overflow:auto;\"><table frame=\"box\" rules=\"cols\">\n",
       "    <tr>\n",
       "        <th style=\"padding-left: 1em; padding-right: 1em; text-align: center\">id</th>\n",
       "    </tr>\n",
       "    <tr>\n",
       "        <td style=\"padding-left: 1em; padding-right: 1em; text-align: center; vertical-align: top\">5</td>\n",
       "    </tr>\n",
       "    <tr>\n",
       "        <td style=\"padding-left: 1em; padding-right: 1em; text-align: center; vertical-align: top\">7</td>\n",
       "    </tr>\n",
       "    <tr>\n",
       "        <td style=\"padding-left: 1em; padding-right: 1em; text-align: center; vertical-align: top\">8</td>\n",
       "    </tr>\n",
       "</table>\n",
       "[3 rows x 1 columns]<br/>\n",
       "</div>"
      ],
      "text/plain": [
       "Columns:\n",
       "\tid\tint\n",
       "\n",
       "Rows: 3\n",
       "\n",
       "Data:\n",
       "+----+\n",
       "| id |\n",
       "+----+\n",
       "| 5  |\n",
       "| 7  |\n",
       "| 8  |\n",
       "+----+\n",
       "[3 rows x 1 columns]"
      ]
     },
     "execution_count": 15,
     "metadata": {},
     "output_type": "execute_result"
    }
   ],
   "source": [
    "all_vertices = g.get_vertices()\n",
    "all_vertices.rename({\"__id\": \"id\"}) \n",
    "all_vertices.head(3)"
   ]
  },
  {
   "cell_type": "code",
   "execution_count": 16,
   "metadata": {
    "collapsed": false
   },
   "outputs": [
    {
     "data": {
      "text/html": [
       "<div style=\"max-height:1000px;max-width:1500px;overflow:auto;\"><table frame=\"box\" rules=\"cols\">\n",
       "    <tr>\n",
       "        <th style=\"padding-left: 1em; padding-right: 1em; text-align: center\">src</th>\n",
       "        <th style=\"padding-left: 1em; padding-right: 1em; text-align: center\">dst</th>\n",
       "        <th style=\"padding-left: 1em; padding-right: 1em; text-align: center\">class</th>\n",
       "    </tr>\n",
       "    <tr>\n",
       "        <td style=\"padding-left: 1em; padding-right: 1em; text-align: center; vertical-align: top\">63447</td>\n",
       "        <td style=\"padding-left: 1em; padding-right: 1em; text-align: center; vertical-align: top\">157521</td>\n",
       "        <td style=\"padding-left: 1em; padding-right: 1em; text-align: center; vertical-align: top\">1</td>\n",
       "    </tr>\n",
       "    <tr>\n",
       "        <td style=\"padding-left: 1em; padding-right: 1em; text-align: center; vertical-align: top\">100040</td>\n",
       "        <td style=\"padding-left: 1em; padding-right: 1em; text-align: center; vertical-align: top\">819</td>\n",
       "        <td style=\"padding-left: 1em; padding-right: 1em; text-align: center; vertical-align: top\">1</td>\n",
       "    </tr>\n",
       "    <tr>\n",
       "        <td style=\"padding-left: 1em; padding-right: 1em; text-align: center; vertical-align: top\">6718</td>\n",
       "        <td style=\"padding-left: 1em; padding-right: 1em; text-align: center; vertical-align: top\">4441</td>\n",
       "        <td style=\"padding-left: 1em; padding-right: 1em; text-align: center; vertical-align: top\">1</td>\n",
       "    </tr>\n",
       "    <tr>\n",
       "        <td style=\"padding-left: 1em; padding-right: 1em; text-align: center; vertical-align: top\">74173</td>\n",
       "        <td style=\"padding-left: 1em; padding-right: 1em; text-align: center; vertical-align: top\">74176</td>\n",
       "        <td style=\"padding-left: 1em; padding-right: 1em; text-align: center; vertical-align: top\">1</td>\n",
       "    </tr>\n",
       "    <tr>\n",
       "        <td style=\"padding-left: 1em; padding-right: 1em; text-align: center; vertical-align: top\">212678</td>\n",
       "        <td style=\"padding-left: 1em; padding-right: 1em; text-align: center; vertical-align: top\">44000</td>\n",
       "        <td style=\"padding-left: 1em; padding-right: 1em; text-align: center; vertical-align: top\">0</td>\n",
       "    </tr>\n",
       "    <tr>\n",
       "        <td style=\"padding-left: 1em; padding-right: 1em; text-align: center; vertical-align: top\">63436</td>\n",
       "        <td style=\"padding-left: 1em; padding-right: 1em; text-align: center; vertical-align: top\">224784</td>\n",
       "        <td style=\"padding-left: 1em; padding-right: 1em; text-align: center; vertical-align: top\">1</td>\n",
       "    </tr>\n",
       "    <tr>\n",
       "        <td style=\"padding-left: 1em; padding-right: 1em; text-align: center; vertical-align: top\">153771</td>\n",
       "        <td style=\"padding-left: 1em; padding-right: 1em; text-align: center; vertical-align: top\">251324</td>\n",
       "        <td style=\"padding-left: 1em; padding-right: 1em; text-align: center; vertical-align: top\">0</td>\n",
       "    </tr>\n",
       "    <tr>\n",
       "        <td style=\"padding-left: 1em; padding-right: 1em; text-align: center; vertical-align: top\">160183</td>\n",
       "        <td style=\"padding-left: 1em; padding-right: 1em; text-align: center; vertical-align: top\">161312</td>\n",
       "        <td style=\"padding-left: 1em; padding-right: 1em; text-align: center; vertical-align: top\">1</td>\n",
       "    </tr>\n",
       "    <tr>\n",
       "        <td style=\"padding-left: 1em; padding-right: 1em; text-align: center; vertical-align: top\">61575</td>\n",
       "        <td style=\"padding-left: 1em; padding-right: 1em; text-align: center; vertical-align: top\">50631</td>\n",
       "        <td style=\"padding-left: 1em; padding-right: 1em; text-align: center; vertical-align: top\">1</td>\n",
       "    </tr>\n",
       "    <tr>\n",
       "        <td style=\"padding-left: 1em; padding-right: 1em; text-align: center; vertical-align: top\">156311</td>\n",
       "        <td style=\"padding-left: 1em; padding-right: 1em; text-align: center; vertical-align: top\">159768</td>\n",
       "        <td style=\"padding-left: 1em; padding-right: 1em; text-align: center; vertical-align: top\">1</td>\n",
       "    </tr>\n",
       "</table>\n",
       "[2769706 rows x 3 columns]<br/>Note: Only the head of the SFrame is printed.<br/>You can use print_rows(num_rows=m, num_columns=n) to print more rows and columns.\n",
       "</div>"
      ],
      "text/plain": [
       "Columns:\n",
       "\tsrc\tint\n",
       "\tdst\tint\n",
       "\tclass\tint\n",
       "\n",
       "Rows: 2769706\n",
       "\n",
       "Data:\n",
       "+--------+--------+-------+\n",
       "|  src   |  dst   | class |\n",
       "+--------+--------+-------+\n",
       "| 63447  | 157521 |   1   |\n",
       "| 100040 |  819   |   1   |\n",
       "|  6718  |  4441  |   1   |\n",
       "| 74173  | 74176  |   1   |\n",
       "| 212678 | 44000  |   0   |\n",
       "| 63436  | 224784 |   1   |\n",
       "| 153771 | 251324 |   0   |\n",
       "| 160183 | 161312 |   1   |\n",
       "| 61575  | 50631  |   1   |\n",
       "| 156311 | 159768 |   1   |\n",
       "+--------+--------+-------+\n",
       "[2769706 rows x 3 columns]\n",
       "Note: Only the head of the SFrame is printed.\n",
       "You can use print_rows(num_rows=m, num_columns=n) to print more rows and columns."
      ]
     },
     "execution_count": 16,
     "metadata": {},
     "output_type": "execute_result"
    }
   ],
   "source": [
    "edges"
   ]
  },
  {
   "cell_type": "code",
   "execution_count": 17,
   "metadata": {
    "collapsed": false
   },
   "outputs": [
    {
     "name": "stdout",
     "output_type": "stream",
     "text": [
      "+--------+-------------------------------+\n",
      "|   id   |          out_vertices         |\n",
      "+--------+-------------------------------+\n",
      "| 211023 | [230773, 57470, 76015, 189... |\n",
      "| 79732  | [98701, 29666, 76251, 7973... |\n",
      "|  7899  | [195606, 11624, 8189, 1207... |\n",
      "| 25263  | [210716, 249660, 245641, 4... |\n",
      "| 87629  | [137137, 248309, 1925, 137... |\n",
      "| 43116  | [219273, 198797, 43113, 77... |\n",
      "| 144280 | [22436, 25249, 173342, 152... |\n",
      "| 238256 | [137206, 232329, 144346, 3... |\n",
      "| 62361  | [70919, 128106, 62359, 115... |\n",
      "|  5288  | [98895, 153587, 205141, 22... |\n",
      "+--------+-------------------------------+\n",
      "[262096 rows x 2 columns]\n",
      "Note: Only the head of the SFrame is printed.\n",
      "You can use print_rows(num_rows=m, num_columns=n) to print more rows and columns.\n",
      "+--------+-------------------------------+\n",
      "|   id   |          in_vertices          |\n",
      "+--------+-------------------------------+\n",
      "| 211023 | [230499, 181303, 13670, 23... |\n",
      "| 79732  | [261857, 26725, 103248, 79... |\n",
      "|  7899  | [15258, 140017, 8977, 6150... |\n",
      "| 25263  | [195903, 159040, 64227, 20... |\n",
      "| 87629  | [137136, 76237, 183943, 21... |\n",
      "| 43116  | [28551, 146927, 37273, 246... |\n",
      "| 144280 | [147749, 41283, 152259, 84... |\n",
      "| 238256 | [174226, 148063, 172161, 2... |\n",
      "| 62361  | [38016, 95810, 88073, 1896... |\n",
      "|  5288  | [5291, 38802, 9420, 7375, ... |\n",
      "+--------+-------------------------------+\n",
      "[262111 rows x 2 columns]\n",
      "Note: Only the head of the SFrame is printed.\n",
      "You can use print_rows(num_rows=m, num_columns=n) to print more rows and columns.\n"
     ]
    }
   ],
   "source": [
    "# calculating each vertices in and out connections\n",
    "out_vertices = edges.groupby(\"src\", {\"out_vertices\": gl.aggregate.CONCAT(\"dst\")})\n",
    "out_vertices.rename({\"src\": \"id\"})\n",
    "\n",
    "in_vertices = edges.groupby(\"dst\", {\"in_vertices\": gl.aggregate.CONCAT(\"src\")})\n",
    "in_vertices.rename({\"dst\": \"id\"})\n",
    "print out_vertices\n",
    "print in_vertices"
   ]
  },
  {
   "cell_type": "code",
   "execution_count": 18,
   "metadata": {
    "collapsed": false
   },
   "outputs": [
    {
     "data": {
      "text/html": [
       "<div style=\"max-height:1000px;max-width:1500px;overflow:auto;\"><table frame=\"box\" rules=\"cols\">\n",
       "    <tr>\n",
       "        <th style=\"padding-left: 1em; padding-right: 1em; text-align: center\">id</th>\n",
       "        <th style=\"padding-left: 1em; padding-right: 1em; text-align: center\">out_vertices</th>\n",
       "        <th style=\"padding-left: 1em; padding-right: 1em; text-align: center\">in_vertices</th>\n",
       "    </tr>\n",
       "    <tr>\n",
       "        <td style=\"padding-left: 1em; padding-right: 1em; text-align: center; vertical-align: top\">211023</td>\n",
       "        <td style=\"padding-left: 1em; padding-right: 1em; text-align: center; vertical-align: top\">[230773, 57470, 76015,<br>189713, 233626, 252560, ...</td>\n",
       "        <td style=\"padding-left: 1em; padding-right: 1em; text-align: center; vertical-align: top\">[230499, 181303, 13670,<br>236267, 233626, 248527, ...</td>\n",
       "    </tr>\n",
       "    <tr>\n",
       "        <td style=\"padding-left: 1em; padding-right: 1em; text-align: center; vertical-align: top\">79732</td>\n",
       "        <td style=\"padding-left: 1em; padding-right: 1em; text-align: center; vertical-align: top\">[98701, 29666, 76251,<br>79734, 81407, 75040, ...</td>\n",
       "        <td style=\"padding-left: 1em; padding-right: 1em; text-align: center; vertical-align: top\">[261857, 26725, 103248,<br>79734, 83186, 187628, ...</td>\n",
       "    </tr>\n",
       "    <tr>\n",
       "        <td style=\"padding-left: 1em; padding-right: 1em; text-align: center; vertical-align: top\">7899</td>\n",
       "        <td style=\"padding-left: 1em; padding-right: 1em; text-align: center; vertical-align: top\">[195606, 11624, 8189,<br>120719, 27312, 8977, ...</td>\n",
       "        <td style=\"padding-left: 1em; padding-right: 1em; text-align: center; vertical-align: top\">[15258, 140017, 8977,<br>6150, 7896, 27312, 84 ...</td>\n",
       "    </tr>\n",
       "</table>\n",
       "[3 rows x 3 columns]<br/>\n",
       "</div>"
      ],
      "text/plain": [
       "Columns:\n",
       "\tid\tint\n",
       "\tout_vertices\tlist\n",
       "\tin_vertices\tlist\n",
       "\n",
       "Rows: 3\n",
       "\n",
       "Data:\n",
       "+--------+-------------------------------+-------------------------------+\n",
       "|   id   |          out_vertices         |          in_vertices          |\n",
       "+--------+-------------------------------+-------------------------------+\n",
       "| 211023 | [230773, 57470, 76015, 189... | [230499, 181303, 13670, 23... |\n",
       "| 79732  | [98701, 29666, 76251, 7973... | [261857, 26725, 103248, 79... |\n",
       "|  7899  | [195606, 11624, 8189, 1207... | [15258, 140017, 8977, 6150... |\n",
       "+--------+-------------------------------+-------------------------------+\n",
       "[3 rows x 3 columns]"
      ]
     },
     "execution_count": 18,
     "metadata": {},
     "output_type": "execute_result"
    }
   ],
   "source": [
    "# join in and out connections with all_vertices\n",
    "all_vertices = all_vertices.join(out_vertices, on=\"id\", how=\"outer\")\n",
    "all_vertices = all_vertices.join(in_vertices, on=\"id\", how=\"outer\")\n",
    "\n",
    "# replace missing values with empty lists\n",
    "all_vertices = all_vertices.fillna('in_vertices',[])\n",
    "all_vertices = all_vertices.fillna('out_vertices',[])\n",
    "all_vertices.head(3)"
   ]
  },
  {
   "cell_type": "code",
   "execution_count": 19,
   "metadata": {
    "collapsed": false
   },
   "outputs": [],
   "source": [
    "and_fun = lambda x: list(set(x[0])&set(x[1]))"
   ]
  },
  {
   "cell_type": "code",
   "execution_count": 20,
   "metadata": {
    "collapsed": true
   },
   "outputs": [],
   "source": [
    "or_fun = lambda x: list(set(x[0])|set(x[1]))"
   ]
  },
  {
   "cell_type": "code",
   "execution_count": 21,
   "metadata": {
    "collapsed": false
   },
   "outputs": [],
   "source": [
    "intersection = map(and_fun, zip(all_vertices[\"out_vertices\"], all_vertices[\"in_vertices\"]))\n",
    "unit = map(or_fun, zip(all_vertices[\"out_vertices\"], all_vertices[\"in_vertices\"]))"
   ]
  },
  {
   "cell_type": "code",
   "execution_count": 22,
   "metadata": {
    "collapsed": false
   },
   "outputs": [
    {
     "data": {
      "text/html": [
       "<div style=\"max-height:1000px;max-width:1500px;overflow:auto;\"><table frame=\"box\" rules=\"cols\">\n",
       "    <tr>\n",
       "        <th style=\"padding-left: 1em; padding-right: 1em; text-align: center\">id</th>\n",
       "        <th style=\"padding-left: 1em; padding-right: 1em; text-align: center\">out_vertices</th>\n",
       "        <th style=\"padding-left: 1em; padding-right: 1em; text-align: center\">in_vertices</th>\n",
       "        <th style=\"padding-left: 1em; padding-right: 1em; text-align: center\">in&amp;out</th>\n",
       "    </tr>\n",
       "    <tr>\n",
       "        <td style=\"padding-left: 1em; padding-right: 1em; text-align: center; vertical-align: top\">211023</td>\n",
       "        <td style=\"padding-left: 1em; padding-right: 1em; text-align: center; vertical-align: top\">[230773, 57470, 76015,<br>189713, 233626, 252560, ...</td>\n",
       "        <td style=\"padding-left: 1em; padding-right: 1em; text-align: center; vertical-align: top\">[230499, 181303, 13670,<br>236267, 233626, 248527, ...</td>\n",
       "        <td style=\"padding-left: 1em; padding-right: 1em; text-align: center; vertical-align: top\">[233626, 198886]</td>\n",
       "    </tr>\n",
       "    <tr>\n",
       "        <td style=\"padding-left: 1em; padding-right: 1em; text-align: center; vertical-align: top\">79732</td>\n",
       "        <td style=\"padding-left: 1em; padding-right: 1em; text-align: center; vertical-align: top\">[98701, 29666, 76251,<br>79734, 81407, 75040, ...</td>\n",
       "        <td style=\"padding-left: 1em; padding-right: 1em; text-align: center; vertical-align: top\">[261857, 26725, 103248,<br>79734, 83186, 187628, ...</td>\n",
       "        <td style=\"padding-left: 1em; padding-right: 1em; text-align: center; vertical-align: top\">[75040, 83186, 79730,<br>79734, 81407] ...</td>\n",
       "    </tr>\n",
       "    <tr>\n",
       "        <td style=\"padding-left: 1em; padding-right: 1em; text-align: center; vertical-align: top\">7899</td>\n",
       "        <td style=\"padding-left: 1em; padding-right: 1em; text-align: center; vertical-align: top\">[195606, 11624, 8189,<br>120719, 27312, 8977, ...</td>\n",
       "        <td style=\"padding-left: 1em; padding-right: 1em; text-align: center; vertical-align: top\">[15258, 140017, 8977,<br>6150, 7896, 27312, 84 ...</td>\n",
       "        <td style=\"padding-left: 1em; padding-right: 1em; text-align: center; vertical-align: top\">[27312, 8977, 7896]</td>\n",
       "    </tr>\n",
       "    <tr>\n",
       "        <td style=\"padding-left: 1em; padding-right: 1em; text-align: center; vertical-align: top\">25263</td>\n",
       "        <td style=\"padding-left: 1em; padding-right: 1em; text-align: center; vertical-align: top\">[210716, 249660, 245641,<br>42350, 6961, 42349, ...</td>\n",
       "        <td style=\"padding-left: 1em; padding-right: 1em; text-align: center; vertical-align: top\">[195903, 159040, 64227,<br>206883, 179474, 6965, ...</td>\n",
       "        <td style=\"padding-left: 1em; padding-right: 1em; text-align: center; vertical-align: top\">[42349, 6965]</td>\n",
       "    </tr>\n",
       "    <tr>\n",
       "        <td style=\"padding-left: 1em; padding-right: 1em; text-align: center; vertical-align: top\">87629</td>\n",
       "        <td style=\"padding-left: 1em; padding-right: 1em; text-align: center; vertical-align: top\">[137137, 248309, 1925,<br>137136, 256164, 160304, ...</td>\n",
       "        <td style=\"padding-left: 1em; padding-right: 1em; text-align: center; vertical-align: top\">[137136, 76237, 183943,<br>211256, 105937, 127102, ...</td>\n",
       "        <td style=\"padding-left: 1em; padding-right: 1em; text-align: center; vertical-align: top\">[137136, 105937, 117244,<br>127102, 137137] ...</td>\n",
       "    </tr>\n",
       "    <tr>\n",
       "        <td style=\"padding-left: 1em; padding-right: 1em; text-align: center; vertical-align: top\">43116</td>\n",
       "        <td style=\"padding-left: 1em; padding-right: 1em; text-align: center; vertical-align: top\">[219273, 198797, 43113,<br>77990, 50535, 136497, ...</td>\n",
       "        <td style=\"padding-left: 1em; padding-right: 1em; text-align: center; vertical-align: top\">[28551, 146927, 37273,<br>246688, 130121, 43114, ...</td>\n",
       "        <td style=\"padding-left: 1em; padding-right: 1em; text-align: center; vertical-align: top\">[50536, 43113, 43114,<br>50535] ...</td>\n",
       "    </tr>\n",
       "    <tr>\n",
       "        <td style=\"padding-left: 1em; padding-right: 1em; text-align: center; vertical-align: top\">144280</td>\n",
       "        <td style=\"padding-left: 1em; padding-right: 1em; text-align: center; vertical-align: top\">[22436, 25249, 173342,<br>152259, 207837, 169788, ...</td>\n",
       "        <td style=\"padding-left: 1em; padding-right: 1em; text-align: center; vertical-align: top\">[147749, 41283, 152259,<br>84461, 79440, 152258, ...</td>\n",
       "        <td style=\"padding-left: 1em; padding-right: 1em; text-align: center; vertical-align: top\">[152258, 152259, 124943]</td>\n",
       "    </tr>\n",
       "    <tr>\n",
       "        <td style=\"padding-left: 1em; padding-right: 1em; text-align: center; vertical-align: top\">238256</td>\n",
       "        <td style=\"padding-left: 1em; padding-right: 1em; text-align: center; vertical-align: top\">[137206, 232329, 144346,<br>30118, 175756, 233160, ...</td>\n",
       "        <td style=\"padding-left: 1em; padding-right: 1em; text-align: center; vertical-align: top\">[174226, 148063, 172161,<br>249606, 216137, 232100, ...</td>\n",
       "        <td style=\"padding-left: 1em; padding-right: 1em; text-align: center; vertical-align: top\">[233160, 232100, 249606]</td>\n",
       "    </tr>\n",
       "    <tr>\n",
       "        <td style=\"padding-left: 1em; padding-right: 1em; text-align: center; vertical-align: top\">62361</td>\n",
       "        <td style=\"padding-left: 1em; padding-right: 1em; text-align: center; vertical-align: top\">[70919, 128106, 62359,<br>115288, 37700, 64078, ...</td>\n",
       "        <td style=\"padding-left: 1em; padding-right: 1em; text-align: center; vertical-align: top\">[38016, 95810, 88073,<br>189642, 62359, 70919, ...</td>\n",
       "        <td style=\"padding-left: 1em; padding-right: 1em; text-align: center; vertical-align: top\">[62359, 70917, 70918,<br>70919] ...</td>\n",
       "    </tr>\n",
       "    <tr>\n",
       "        <td style=\"padding-left: 1em; padding-right: 1em; text-align: center; vertical-align: top\">5288</td>\n",
       "        <td style=\"padding-left: 1em; padding-right: 1em; text-align: center; vertical-align: top\">[98895, 153587, 205141,<br>228550, 9421, 143593, ...</td>\n",
       "        <td style=\"padding-left: 1em; padding-right: 1em; text-align: center; vertical-align: top\">[5291, 38802, 9420, 7375,<br>1642, 155442, 9421, 8 ...</td>\n",
       "        <td style=\"padding-left: 1em; padding-right: 1em; text-align: center; vertical-align: top\">[5468, 9421, 7373]</td>\n",
       "    </tr>\n",
       "</table>\n",
       "<table frame=\"box\" rules=\"cols\">\n",
       "    <tr>\n",
       "        <th style=\"padding-left: 1em; padding-right: 1em; text-align: center\">in|out</th>\n",
       "    </tr>\n",
       "    <tr>\n",
       "        <td style=\"padding-left: 1em; padding-right: 1em; text-align: center; vertical-align: top\">[57538, 13670, 161931,<br>248527, 252560, 189713, ...</td>\n",
       "    </tr>\n",
       "    <tr>\n",
       "        <td style=\"padding-left: 1em; padding-right: 1em; text-align: center; vertical-align: top\">[81408, 49025, 137159,<br>98701, 138064, 138065, ...</td>\n",
       "    </tr>\n",
       "    <tr>\n",
       "        <td style=\"padding-left: 1em; padding-right: 1em; text-align: center; vertical-align: top\">[254022, 76686, 120719,<br>8977, 13587, 84436, ...</td>\n",
       "    </tr>\n",
       "    <tr>\n",
       "        <td style=\"padding-left: 1em; padding-right: 1em; text-align: center; vertical-align: top\">[159040, 110083, 254916,<br>199241, 62263, 179474, ...</td>\n",
       "    </tr>\n",
       "    <tr>\n",
       "        <td style=\"padding-left: 1em; padding-right: 1em; text-align: center; vertical-align: top\">[221124, 1925, 183942,<br>183943, 204808, 162954, ...</td>\n",
       "    </tr>\n",
       "    <tr>\n",
       "        <td style=\"padding-left: 1em; padding-right: 1em; text-align: center; vertical-align: top\">[99104, 15300, 49861,<br>28551, 219273, 198797, ...</td>\n",
       "    </tr>\n",
       "    <tr>\n",
       "        <td style=\"padding-left: 1em; padding-right: 1em; text-align: center; vertical-align: top\">[152258, 152259, 201669,<br>124943, 79440, 41283, ...</td>\n",
       "    </tr>\n",
       "    <tr>\n",
       "        <td style=\"padding-left: 1em; padding-right: 1em; text-align: center; vertical-align: top\">[172161, 122018, 46467,<br>232100, 30118, 249606, ...</td>\n",
       "    </tr>\n",
       "    <tr>\n",
       "        <td style=\"padding-left: 1em; padding-right: 1em; text-align: center; vertical-align: top\">[38016, 95810, 37700,<br>70917, 70918, 70919, ...</td>\n",
       "    </tr>\n",
       "    <tr>\n",
       "        <td style=\"padding-left: 1em; padding-right: 1em; text-align: center; vertical-align: top\">[74947, 9988, 3077,<br>228550, 8711, 8712, 9 ...</td>\n",
       "    </tr>\n",
       "</table>\n",
       "[262111 rows x 5 columns]<br/>Note: Only the head of the SFrame is printed.<br/>You can use print_rows(num_rows=m, num_columns=n) to print more rows and columns.\n",
       "</div>"
      ],
      "text/plain": [
       "Columns:\n",
       "\tid\tint\n",
       "\tout_vertices\tlist\n",
       "\tin_vertices\tlist\n",
       "\tin&out\tlist\n",
       "\tin|out\tlist\n",
       "\n",
       "Rows: 262111\n",
       "\n",
       "Data:\n",
       "+--------+-------------------------------+-------------------------------+\n",
       "|   id   |          out_vertices         |          in_vertices          |\n",
       "+--------+-------------------------------+-------------------------------+\n",
       "| 211023 | [230773, 57470, 76015, 189... | [230499, 181303, 13670, 23... |\n",
       "| 79732  | [98701, 29666, 76251, 7973... | [261857, 26725, 103248, 79... |\n",
       "|  7899  | [195606, 11624, 8189, 1207... | [15258, 140017, 8977, 6150... |\n",
       "| 25263  | [210716, 249660, 245641, 4... | [195903, 159040, 64227, 20... |\n",
       "| 87629  | [137137, 248309, 1925, 137... | [137136, 76237, 183943, 21... |\n",
       "| 43116  | [219273, 198797, 43113, 77... | [28551, 146927, 37273, 246... |\n",
       "| 144280 | [22436, 25249, 173342, 152... | [147749, 41283, 152259, 84... |\n",
       "| 238256 | [137206, 232329, 144346, 3... | [174226, 148063, 172161, 2... |\n",
       "| 62361  | [70919, 128106, 62359, 115... | [38016, 95810, 88073, 1896... |\n",
       "|  5288  | [98895, 153587, 205141, 22... | [5291, 38802, 9420, 7375, ... |\n",
       "+--------+-------------------------------+-------------------------------+\n",
       "+-------------------------------+-------------------------------+\n",
       "|             in&out            |             in|out            |\n",
       "+-------------------------------+-------------------------------+\n",
       "|        [233626, 198886]       | [57538, 13670, 161931, 248... |\n",
       "| [75040, 83186, 79730, 7973... | [81408, 49025, 137159, 987... |\n",
       "|      [27312, 8977, 7896]      | [254022, 76686, 120719, 89... |\n",
       "|         [42349, 6965]         | [159040, 110083, 254916, 1... |\n",
       "| [137136, 105937, 117244, 1... | [221124, 1925, 183942, 183... |\n",
       "|  [50536, 43113, 43114, 50535] | [99104, 15300, 49861, 2855... |\n",
       "|    [152258, 152259, 124943]   | [152258, 152259, 201669, 1... |\n",
       "|    [233160, 232100, 249606]   | [172161, 122018, 46467, 23... |\n",
       "|  [62359, 70917, 70918, 70919] | [38016, 95810, 37700, 7091... |\n",
       "|       [5468, 9421, 7373]      | [74947, 9988, 3077, 228550... |\n",
       "+-------------------------------+-------------------------------+\n",
       "[262111 rows x 5 columns]\n",
       "Note: Only the head of the SFrame is printed.\n",
       "You can use print_rows(num_rows=m, num_columns=n) to print more rows and columns."
      ]
     },
     "execution_count": 22,
     "metadata": {},
     "output_type": "execute_result"
    }
   ],
   "source": [
    "all_vertices.add_column(gl.SArray(intersection, dtype=list),'in&out')\n",
    "all_vertices.add_column(gl.SArray(unit, dtype=list),'in|out')"
   ]
  },
  {
   "cell_type": "markdown",
   "metadata": {},
   "source": [
    "Мы получили базовый набор данных - список входящих и исходящих вершин, для каждой вершины. Теперь найдем количества вершин для метрик 1 и 2. Метрики 3 и 4 вы посчитаете сами"
   ]
  },
  {
   "cell_type": "code",
   "execution_count": 23,
   "metadata": {
    "collapsed": true
   },
   "outputs": [],
   "source": [
    "# in_degree - number of users following each vertex\n",
    "all_vertices['in_degree'] = all_vertices[\"in_vertices\"].apply(lambda x: len(x) )\n",
    "\n",
    "# out_degree - number of users each vertex is following\n",
    "all_vertices['out_degree'] = all_vertices[\"out_vertices\"].apply(lambda x: len(x) )\n",
    "\n",
    "all_vertices['out&in_degree'] = all_vertices[\"in&out\"].apply(lambda x: len(x) )\n",
    "\n",
    "all_vertices['out|in_degree'] = all_vertices[\"in|out\"].apply(lambda x: len(x) )"
   ]
  },
  {
   "cell_type": "code",
   "execution_count": 24,
   "metadata": {
    "collapsed": false
   },
   "outputs": [
    {
     "data": {
      "text/html": [
       "<div style=\"max-height:1000px;max-width:1500px;overflow:auto;\"><table frame=\"box\" rules=\"cols\">\n",
       "    <tr>\n",
       "        <th style=\"padding-left: 1em; padding-right: 1em; text-align: center\">id</th>\n",
       "        <th style=\"padding-left: 1em; padding-right: 1em; text-align: center\">out_vertices</th>\n",
       "        <th style=\"padding-left: 1em; padding-right: 1em; text-align: center\">in_vertices</th>\n",
       "        <th style=\"padding-left: 1em; padding-right: 1em; text-align: center\">in&amp;out</th>\n",
       "        <th style=\"padding-left: 1em; padding-right: 1em; text-align: center\">in|out</th>\n",
       "    </tr>\n",
       "    <tr>\n",
       "        <td style=\"padding-left: 1em; padding-right: 1em; text-align: center; vertical-align: top\">211023</td>\n",
       "        <td style=\"padding-left: 1em; padding-right: 1em; text-align: center; vertical-align: top\">[230773, 57470, 76015,<br>189713, 233626, 252560, ...</td>\n",
       "        <td style=\"padding-left: 1em; padding-right: 1em; text-align: center; vertical-align: top\">[230499, 181303, 13670,<br>236267, 233626, 248527, ...</td>\n",
       "        <td style=\"padding-left: 1em; padding-right: 1em; text-align: center; vertical-align: top\">[233626, 198886]</td>\n",
       "        <td style=\"padding-left: 1em; padding-right: 1em; text-align: center; vertical-align: top\">[57538, 13670, 161931,<br>248527, 252560, 189713, ...</td>\n",
       "    </tr>\n",
       "    <tr>\n",
       "        <td style=\"padding-left: 1em; padding-right: 1em; text-align: center; vertical-align: top\">79732</td>\n",
       "        <td style=\"padding-left: 1em; padding-right: 1em; text-align: center; vertical-align: top\">[98701, 29666, 76251,<br>79734, 81407, 75040, ...</td>\n",
       "        <td style=\"padding-left: 1em; padding-right: 1em; text-align: center; vertical-align: top\">[261857, 26725, 103248,<br>79734, 83186, 187628, ...</td>\n",
       "        <td style=\"padding-left: 1em; padding-right: 1em; text-align: center; vertical-align: top\">[75040, 83186, 79730,<br>79734, 81407] ...</td>\n",
       "        <td style=\"padding-left: 1em; padding-right: 1em; text-align: center; vertical-align: top\">[81408, 49025, 137159,<br>98701, 138064, 138065, ...</td>\n",
       "    </tr>\n",
       "    <tr>\n",
       "        <td style=\"padding-left: 1em; padding-right: 1em; text-align: center; vertical-align: top\">7899</td>\n",
       "        <td style=\"padding-left: 1em; padding-right: 1em; text-align: center; vertical-align: top\">[195606, 11624, 8189,<br>120719, 27312, 8977, ...</td>\n",
       "        <td style=\"padding-left: 1em; padding-right: 1em; text-align: center; vertical-align: top\">[15258, 140017, 8977,<br>6150, 7896, 27312, 84 ...</td>\n",
       "        <td style=\"padding-left: 1em; padding-right: 1em; text-align: center; vertical-align: top\">[27312, 8977, 7896]</td>\n",
       "        <td style=\"padding-left: 1em; padding-right: 1em; text-align: center; vertical-align: top\">[254022, 76686, 120719,<br>8977, 13587, 84436, ...</td>\n",
       "    </tr>\n",
       "</table>\n",
       "<table frame=\"box\" rules=\"cols\">\n",
       "    <tr>\n",
       "        <th style=\"padding-left: 1em; padding-right: 1em; text-align: center\">in_degree</th>\n",
       "        <th style=\"padding-left: 1em; padding-right: 1em; text-align: center\">out_degree</th>\n",
       "        <th style=\"padding-left: 1em; padding-right: 1em; text-align: center\">out&amp;in_degree</th>\n",
       "        <th style=\"padding-left: 1em; padding-right: 1em; text-align: center\">out|in_degree</th>\n",
       "    </tr>\n",
       "    <tr>\n",
       "        <td style=\"padding-left: 1em; padding-right: 1em; text-align: center; vertical-align: top\">13</td>\n",
       "        <td style=\"padding-left: 1em; padding-right: 1em; text-align: center; vertical-align: top\">16</td>\n",
       "        <td style=\"padding-left: 1em; padding-right: 1em; text-align: center; vertical-align: top\">2</td>\n",
       "        <td style=\"padding-left: 1em; padding-right: 1em; text-align: center; vertical-align: top\">27</td>\n",
       "    </tr>\n",
       "    <tr>\n",
       "        <td style=\"padding-left: 1em; padding-right: 1em; text-align: center; vertical-align: top\">19</td>\n",
       "        <td style=\"padding-left: 1em; padding-right: 1em; text-align: center; vertical-align: top\">12</td>\n",
       "        <td style=\"padding-left: 1em; padding-right: 1em; text-align: center; vertical-align: top\">5</td>\n",
       "        <td style=\"padding-left: 1em; padding-right: 1em; text-align: center; vertical-align: top\">26</td>\n",
       "    </tr>\n",
       "    <tr>\n",
       "        <td style=\"padding-left: 1em; padding-right: 1em; text-align: center; vertical-align: top\">13</td>\n",
       "        <td style=\"padding-left: 1em; padding-right: 1em; text-align: center; vertical-align: top\">11</td>\n",
       "        <td style=\"padding-left: 1em; padding-right: 1em; text-align: center; vertical-align: top\">3</td>\n",
       "        <td style=\"padding-left: 1em; padding-right: 1em; text-align: center; vertical-align: top\">21</td>\n",
       "    </tr>\n",
       "</table>\n",
       "[3 rows x 9 columns]<br/>\n",
       "</div>"
      ],
      "text/plain": [
       "Columns:\n",
       "\tid\tint\n",
       "\tout_vertices\tlist\n",
       "\tin_vertices\tlist\n",
       "\tin&out\tlist\n",
       "\tin|out\tlist\n",
       "\tin_degree\tint\n",
       "\tout_degree\tint\n",
       "\tout&in_degree\tint\n",
       "\tout|in_degree\tint\n",
       "\n",
       "Rows: 3\n",
       "\n",
       "Data:\n",
       "+--------+-------------------------------+-------------------------------+\n",
       "|   id   |          out_vertices         |          in_vertices          |\n",
       "+--------+-------------------------------+-------------------------------+\n",
       "| 211023 | [230773, 57470, 76015, 189... | [230499, 181303, 13670, 23... |\n",
       "| 79732  | [98701, 29666, 76251, 7973... | [261857, 26725, 103248, 79... |\n",
       "|  7899  | [195606, 11624, 8189, 1207... | [15258, 140017, 8977, 6150... |\n",
       "+--------+-------------------------------+-------------------------------+\n",
       "+-------------------------------+-------------------------------+-----------+------------+\n",
       "|             in&out            |             in|out            | in_degree | out_degree |\n",
       "+-------------------------------+-------------------------------+-----------+------------+\n",
       "|        [233626, 198886]       | [57538, 13670, 161931, 248... |     13    |     16     |\n",
       "| [75040, 83186, 79730, 7973... | [81408, 49025, 137159, 987... |     19    |     12     |\n",
       "|      [27312, 8977, 7896]      | [254022, 76686, 120719, 89... |     13    |     11     |\n",
       "+-------------------------------+-------------------------------+-----------+------------+\n",
       "+---------------+---------------+\n",
       "| out&in_degree | out|in_degree |\n",
       "+---------------+---------------+\n",
       "|       2       |       27      |\n",
       "|       5       |       26      |\n",
       "|       3       |       21      |\n",
       "+---------------+---------------+\n",
       "[3 rows x 9 columns]"
      ]
     },
     "execution_count": 24,
     "metadata": {},
     "output_type": "execute_result"
    }
   ],
   "source": [
    "all_vertices.head(3)"
   ]
  },
  {
   "cell_type": "code",
   "execution_count": 27,
   "metadata": {
    "collapsed": false
   },
   "outputs": [],
   "source": [
    "##### try to add deepWalk features ###\n",
    "for i in range(64):\n",
    "    all_vertices['deepWalk_{}'.format(i)] = [deepwalk_dict[id_][i] for id_ in all_vertices['id']]"
   ]
  },
  {
   "cell_type": "code",
   "execution_count": 28,
   "metadata": {
    "collapsed": false
   },
   "outputs": [
    {
     "data": {
      "text/plain": [
       "(262111, 73)"
      ]
     },
     "execution_count": 28,
     "metadata": {},
     "output_type": "execute_result"
    }
   ],
   "source": [
    "all_vertices.shape"
   ]
  },
  {
   "cell_type": "markdown",
   "metadata": {},
   "source": [
    "Мы получили характеристики для каждой вершины графа. Так как у нас задача предсказания наличия ребра, мы должны составить описание каждого ребра, используя метрики вершин. После составления характеристик ребер, мы можем перейти к генерации свойств ребер, взяв за основу метрики вершин ребра. Пример метрик для ребер, которые мы можем найти:\n",
    "\n",
    "1. Общие друзья вершин ребра\n",
    "2. Общее количество друзей вершин ребра\n",
    "3. Коэффициенты Жаккара, Пирсона, Адамик - Адара, косинусная мера\n",
    "\n",
    "Данные метрики находятся для каждого списка вершин, пунктов 1 - 4"
   ]
  },
  {
   "cell_type": "code",
   "execution_count": 29,
   "metadata": {
    "collapsed": false
   },
   "outputs": [
    {
     "data": {
      "text/html": [
       "<div style=\"max-height:1000px;max-width:1500px;overflow:auto;\"><table frame=\"box\" rules=\"cols\">\n",
       "    <tr>\n",
       "        <th style=\"padding-left: 1em; padding-right: 1em; text-align: center\">src</th>\n",
       "        <th style=\"padding-left: 1em; padding-right: 1em; text-align: center\">dst</th>\n",
       "        <th style=\"padding-left: 1em; padding-right: 1em; text-align: center\">class</th>\n",
       "    </tr>\n",
       "    <tr>\n",
       "        <td style=\"padding-left: 1em; padding-right: 1em; text-align: center; vertical-align: top\">63447</td>\n",
       "        <td style=\"padding-left: 1em; padding-right: 1em; text-align: center; vertical-align: top\">157521</td>\n",
       "        <td style=\"padding-left: 1em; padding-right: 1em; text-align: center; vertical-align: top\">1</td>\n",
       "    </tr>\n",
       "    <tr>\n",
       "        <td style=\"padding-left: 1em; padding-right: 1em; text-align: center; vertical-align: top\">100040</td>\n",
       "        <td style=\"padding-left: 1em; padding-right: 1em; text-align: center; vertical-align: top\">819</td>\n",
       "        <td style=\"padding-left: 1em; padding-right: 1em; text-align: center; vertical-align: top\">1</td>\n",
       "    </tr>\n",
       "    <tr>\n",
       "        <td style=\"padding-left: 1em; padding-right: 1em; text-align: center; vertical-align: top\">6718</td>\n",
       "        <td style=\"padding-left: 1em; padding-right: 1em; text-align: center; vertical-align: top\">4441</td>\n",
       "        <td style=\"padding-left: 1em; padding-right: 1em; text-align: center; vertical-align: top\">1</td>\n",
       "    </tr>\n",
       "    <tr>\n",
       "        <td style=\"padding-left: 1em; padding-right: 1em; text-align: center; vertical-align: top\">74173</td>\n",
       "        <td style=\"padding-left: 1em; padding-right: 1em; text-align: center; vertical-align: top\">74176</td>\n",
       "        <td style=\"padding-left: 1em; padding-right: 1em; text-align: center; vertical-align: top\">1</td>\n",
       "    </tr>\n",
       "    <tr>\n",
       "        <td style=\"padding-left: 1em; padding-right: 1em; text-align: center; vertical-align: top\">212678</td>\n",
       "        <td style=\"padding-left: 1em; padding-right: 1em; text-align: center; vertical-align: top\">44000</td>\n",
       "        <td style=\"padding-left: 1em; padding-right: 1em; text-align: center; vertical-align: top\">0</td>\n",
       "    </tr>\n",
       "    <tr>\n",
       "        <td style=\"padding-left: 1em; padding-right: 1em; text-align: center; vertical-align: top\">63436</td>\n",
       "        <td style=\"padding-left: 1em; padding-right: 1em; text-align: center; vertical-align: top\">224784</td>\n",
       "        <td style=\"padding-left: 1em; padding-right: 1em; text-align: center; vertical-align: top\">1</td>\n",
       "    </tr>\n",
       "    <tr>\n",
       "        <td style=\"padding-left: 1em; padding-right: 1em; text-align: center; vertical-align: top\">153771</td>\n",
       "        <td style=\"padding-left: 1em; padding-right: 1em; text-align: center; vertical-align: top\">251324</td>\n",
       "        <td style=\"padding-left: 1em; padding-right: 1em; text-align: center; vertical-align: top\">0</td>\n",
       "    </tr>\n",
       "    <tr>\n",
       "        <td style=\"padding-left: 1em; padding-right: 1em; text-align: center; vertical-align: top\">160183</td>\n",
       "        <td style=\"padding-left: 1em; padding-right: 1em; text-align: center; vertical-align: top\">161312</td>\n",
       "        <td style=\"padding-left: 1em; padding-right: 1em; text-align: center; vertical-align: top\">1</td>\n",
       "    </tr>\n",
       "    <tr>\n",
       "        <td style=\"padding-left: 1em; padding-right: 1em; text-align: center; vertical-align: top\">61575</td>\n",
       "        <td style=\"padding-left: 1em; padding-right: 1em; text-align: center; vertical-align: top\">50631</td>\n",
       "        <td style=\"padding-left: 1em; padding-right: 1em; text-align: center; vertical-align: top\">1</td>\n",
       "    </tr>\n",
       "    <tr>\n",
       "        <td style=\"padding-left: 1em; padding-right: 1em; text-align: center; vertical-align: top\">156311</td>\n",
       "        <td style=\"padding-left: 1em; padding-right: 1em; text-align: center; vertical-align: top\">159768</td>\n",
       "        <td style=\"padding-left: 1em; padding-right: 1em; text-align: center; vertical-align: top\">1</td>\n",
       "    </tr>\n",
       "</table>\n",
       "[2769706 rows x 3 columns]<br/>Note: Only the head of the SFrame is printed.<br/>You can use print_rows(num_rows=m, num_columns=n) to print more rows and columns.\n",
       "</div>"
      ],
      "text/plain": [
       "Columns:\n",
       "\tsrc\tint\n",
       "\tdst\tint\n",
       "\tclass\tint\n",
       "\n",
       "Rows: 2769706\n",
       "\n",
       "Data:\n",
       "+--------+--------+-------+\n",
       "|  src   |  dst   | class |\n",
       "+--------+--------+-------+\n",
       "| 63447  | 157521 |   1   |\n",
       "| 100040 |  819   |   1   |\n",
       "|  6718  |  4441  |   1   |\n",
       "| 74173  | 74176  |   1   |\n",
       "| 212678 | 44000  |   0   |\n",
       "| 63436  | 224784 |   1   |\n",
       "| 153771 | 251324 |   0   |\n",
       "| 160183 | 161312 |   1   |\n",
       "| 61575  | 50631  |   1   |\n",
       "| 156311 | 159768 |   1   |\n",
       "+--------+--------+-------+\n",
       "[2769706 rows x 3 columns]\n",
       "Note: Only the head of the SFrame is printed.\n",
       "You can use print_rows(num_rows=m, num_columns=n) to print more rows and columns."
      ]
     },
     "execution_count": 29,
     "metadata": {},
     "output_type": "execute_result"
    }
   ],
   "source": [
    "edges"
   ]
  },
  {
   "cell_type": "code",
   "execution_count": 30,
   "metadata": {
    "collapsed": false
   },
   "outputs": [
    {
     "data": {
      "text/html": [
       "<div style=\"max-height:1000px;max-width:1500px;overflow:auto;\"><table frame=\"box\" rules=\"cols\">\n",
       "    <tr>\n",
       "        <th style=\"padding-left: 1em; padding-right: 1em; text-align: center\">src</th>\n",
       "        <th style=\"padding-left: 1em; padding-right: 1em; text-align: center\">dst</th>\n",
       "        <th style=\"padding-left: 1em; padding-right: 1em; text-align: center\">class</th>\n",
       "        <th style=\"padding-left: 1em; padding-right: 1em; text-align: center\">src_out_vertices</th>\n",
       "        <th style=\"padding-left: 1em; padding-right: 1em; text-align: center\">src_in_vertices</th>\n",
       "        <th style=\"padding-left: 1em; padding-right: 1em; text-align: center\">src_in&amp;out</th>\n",
       "    </tr>\n",
       "    <tr>\n",
       "        <td style=\"padding-left: 1em; padding-right: 1em; text-align: center; vertical-align: top\">211023</td>\n",
       "        <td style=\"padding-left: 1em; padding-right: 1em; text-align: center; vertical-align: top\">159269</td>\n",
       "        <td style=\"padding-left: 1em; padding-right: 1em; text-align: center; vertical-align: top\">1</td>\n",
       "        <td style=\"padding-left: 1em; padding-right: 1em; text-align: center; vertical-align: top\">[230773, 57470, 76015,<br>189713, 233626, 252560, ...</td>\n",
       "        <td style=\"padding-left: 1em; padding-right: 1em; text-align: center; vertical-align: top\">[230499, 181303, 13670,<br>236267, 233626, 248527, ...</td>\n",
       "        <td style=\"padding-left: 1em; padding-right: 1em; text-align: center; vertical-align: top\">[233626, 198886]</td>\n",
       "    </tr>\n",
       "</table>\n",
       "<table frame=\"box\" rules=\"cols\">\n",
       "    <tr>\n",
       "        <th style=\"padding-left: 1em; padding-right: 1em; text-align: center\">src_in|out</th>\n",
       "        <th style=\"padding-left: 1em; padding-right: 1em; text-align: center\">src_in_degree</th>\n",
       "        <th style=\"padding-left: 1em; padding-right: 1em; text-align: center\">src_out_degree</th>\n",
       "        <th style=\"padding-left: 1em; padding-right: 1em; text-align: center\">src_out&amp;in_degree</th>\n",
       "        <th style=\"padding-left: 1em; padding-right: 1em; text-align: center\">src_out|in_degree</th>\n",
       "        <th style=\"padding-left: 1em; padding-right: 1em; text-align: center\">src_deepWalk_0</th>\n",
       "    </tr>\n",
       "    <tr>\n",
       "        <td style=\"padding-left: 1em; padding-right: 1em; text-align: center; vertical-align: top\">[57538, 13670, 161931,<br>248527, 252560, 189713, ...</td>\n",
       "        <td style=\"padding-left: 1em; padding-right: 1em; text-align: center; vertical-align: top\">13</td>\n",
       "        <td style=\"padding-left: 1em; padding-right: 1em; text-align: center; vertical-align: top\">16</td>\n",
       "        <td style=\"padding-left: 1em; padding-right: 1em; text-align: center; vertical-align: top\">2</td>\n",
       "        <td style=\"padding-left: 1em; padding-right: 1em; text-align: center; vertical-align: top\">27</td>\n",
       "        <td style=\"padding-left: 1em; padding-right: 1em; text-align: center; vertical-align: top\">-0.05066</td>\n",
       "    </tr>\n",
       "</table>\n",
       "<table frame=\"box\" rules=\"cols\">\n",
       "    <tr>\n",
       "        <th style=\"padding-left: 1em; padding-right: 1em; text-align: center\">src_deepWalk_1</th>\n",
       "        <th style=\"padding-left: 1em; padding-right: 1em; text-align: center\">src_deepWalk_2</th>\n",
       "        <th style=\"padding-left: 1em; padding-right: 1em; text-align: center\">src_deepWalk_3</th>\n",
       "        <th style=\"padding-left: 1em; padding-right: 1em; text-align: center\">src_deepWalk_4</th>\n",
       "        <th style=\"padding-left: 1em; padding-right: 1em; text-align: center\">src_deepWalk_5</th>\n",
       "        <th style=\"padding-left: 1em; padding-right: 1em; text-align: center\">src_deepWalk_6</th>\n",
       "        <th style=\"padding-left: 1em; padding-right: 1em; text-align: center\">src_deepWalk_7</th>\n",
       "    </tr>\n",
       "    <tr>\n",
       "        <td style=\"padding-left: 1em; padding-right: 1em; text-align: center; vertical-align: top\">0.227474</td>\n",
       "        <td style=\"padding-left: 1em; padding-right: 1em; text-align: center; vertical-align: top\">-1.163211</td>\n",
       "        <td style=\"padding-left: 1em; padding-right: 1em; text-align: center; vertical-align: top\">-0.326046</td>\n",
       "        <td style=\"padding-left: 1em; padding-right: 1em; text-align: center; vertical-align: top\">0.253923</td>\n",
       "        <td style=\"padding-left: 1em; padding-right: 1em; text-align: center; vertical-align: top\">-0.198485</td>\n",
       "        <td style=\"padding-left: 1em; padding-right: 1em; text-align: center; vertical-align: top\">-0.997009</td>\n",
       "        <td style=\"padding-left: 1em; padding-right: 1em; text-align: center; vertical-align: top\">-0.603977</td>\n",
       "    </tr>\n",
       "</table>\n",
       "<table frame=\"box\" rules=\"cols\">\n",
       "    <tr>\n",
       "        <th style=\"padding-left: 1em; padding-right: 1em; text-align: center\">src_deepWalk_8</th>\n",
       "        <th style=\"padding-left: 1em; padding-right: 1em; text-align: center\">src_deepWalk_9</th>\n",
       "        <th style=\"padding-left: 1em; padding-right: 1em; text-align: center\">src_deepWalk_10</th>\n",
       "        <th style=\"padding-left: 1em; padding-right: 1em; text-align: center\">src_deepWalk_11</th>\n",
       "        <th style=\"padding-left: 1em; padding-right: 1em; text-align: center\">src_deepWalk_12</th>\n",
       "        <th style=\"padding-left: 1em; padding-right: 1em; text-align: center\">src_deepWalk_13</th>\n",
       "        <th style=\"padding-left: 1em; padding-right: 1em; text-align: center\">src_deepWalk_14</th>\n",
       "    </tr>\n",
       "    <tr>\n",
       "        <td style=\"padding-left: 1em; padding-right: 1em; text-align: center; vertical-align: top\">-0.420289</td>\n",
       "        <td style=\"padding-left: 1em; padding-right: 1em; text-align: center; vertical-align: top\">-0.250026</td>\n",
       "        <td style=\"padding-left: 1em; padding-right: 1em; text-align: center; vertical-align: top\">0.294057</td>\n",
       "        <td style=\"padding-left: 1em; padding-right: 1em; text-align: center; vertical-align: top\">-0.442229</td>\n",
       "        <td style=\"padding-left: 1em; padding-right: 1em; text-align: center; vertical-align: top\">0.668259</td>\n",
       "        <td style=\"padding-left: 1em; padding-right: 1em; text-align: center; vertical-align: top\">0.095325</td>\n",
       "        <td style=\"padding-left: 1em; padding-right: 1em; text-align: center; vertical-align: top\">0.079501</td>\n",
       "    </tr>\n",
       "</table>\n",
       "<table frame=\"box\" rules=\"cols\">\n",
       "    <tr>\n",
       "        <th style=\"padding-left: 1em; padding-right: 1em; text-align: center\">src_deepWalk_15</th>\n",
       "        <th style=\"padding-left: 1em; padding-right: 1em; text-align: center\">src_deepWalk_16</th>\n",
       "        <th style=\"padding-left: 1em; padding-right: 1em; text-align: center\">src_deepWalk_17</th>\n",
       "        <th style=\"padding-left: 1em; padding-right: 1em; text-align: center\">src_deepWalk_18</th>\n",
       "        <th style=\"padding-left: 1em; padding-right: 1em; text-align: center\">src_deepWalk_19</th>\n",
       "        <th style=\"padding-left: 1em; padding-right: 1em; text-align: center\">src_deepWalk_20</th>\n",
       "        <th style=\"padding-left: 1em; padding-right: 1em; text-align: center\">src_deepWalk_21</th>\n",
       "    </tr>\n",
       "    <tr>\n",
       "        <td style=\"padding-left: 1em; padding-right: 1em; text-align: center; vertical-align: top\">0.555141</td>\n",
       "        <td style=\"padding-left: 1em; padding-right: 1em; text-align: center; vertical-align: top\">0.217579</td>\n",
       "        <td style=\"padding-left: 1em; padding-right: 1em; text-align: center; vertical-align: top\">-0.063687</td>\n",
       "        <td style=\"padding-left: 1em; padding-right: 1em; text-align: center; vertical-align: top\">0.511003</td>\n",
       "        <td style=\"padding-left: 1em; padding-right: 1em; text-align: center; vertical-align: top\">0.418021</td>\n",
       "        <td style=\"padding-left: 1em; padding-right: 1em; text-align: center; vertical-align: top\">0.118892</td>\n",
       "        <td style=\"padding-left: 1em; padding-right: 1em; text-align: center; vertical-align: top\">0.482267</td>\n",
       "    </tr>\n",
       "</table>\n",
       "<table frame=\"box\" rules=\"cols\">\n",
       "    <tr>\n",
       "        <th style=\"padding-left: 1em; padding-right: 1em; text-align: center\">src_deepWalk_22</th>\n",
       "        <th style=\"padding-left: 1em; padding-right: 1em; text-align: center\">src_deepWalk_23</th>\n",
       "        <th style=\"padding-left: 1em; padding-right: 1em; text-align: center\">src_deepWalk_24</th>\n",
       "        <th style=\"padding-left: 1em; padding-right: 1em; text-align: center\">src_deepWalk_25</th>\n",
       "        <th style=\"padding-left: 1em; padding-right: 1em; text-align: center\">src_deepWalk_26</th>\n",
       "        <th style=\"padding-left: 1em; padding-right: 1em; text-align: center\">src_deepWalk_27</th>\n",
       "        <th style=\"padding-left: 1em; padding-right: 1em; text-align: center\">src_deepWalk_28</th>\n",
       "        <th style=\"padding-left: 1em; padding-right: 1em; text-align: center\">...</th>\n",
       "    </tr>\n",
       "    <tr>\n",
       "        <td style=\"padding-left: 1em; padding-right: 1em; text-align: center; vertical-align: top\">0.060299</td>\n",
       "        <td style=\"padding-left: 1em; padding-right: 1em; text-align: center; vertical-align: top\">-0.098748</td>\n",
       "        <td style=\"padding-left: 1em; padding-right: 1em; text-align: center; vertical-align: top\">-0.197324</td>\n",
       "        <td style=\"padding-left: 1em; padding-right: 1em; text-align: center; vertical-align: top\">-0.032998</td>\n",
       "        <td style=\"padding-left: 1em; padding-right: 1em; text-align: center; vertical-align: top\">-0.953005</td>\n",
       "        <td style=\"padding-left: 1em; padding-right: 1em; text-align: center; vertical-align: top\">-0.670303</td>\n",
       "        <td style=\"padding-left: 1em; padding-right: 1em; text-align: center; vertical-align: top\">0.626118</td>\n",
       "        <td style=\"padding-left: 1em; padding-right: 1em; text-align: center; vertical-align: top\">...</td>\n",
       "    </tr>\n",
       "</table>\n",
       "[1 rows x 147 columns]<br/>\n",
       "</div>"
      ],
      "text/plain": [
       "Columns:\n",
       "\tsrc\tint\n",
       "\tdst\tint\n",
       "\tclass\tint\n",
       "\tsrc_out_vertices\tlist\n",
       "\tsrc_in_vertices\tlist\n",
       "\tsrc_in&out\tlist\n",
       "\tsrc_in|out\tlist\n",
       "\tsrc_in_degree\tint\n",
       "\tsrc_out_degree\tint\n",
       "\tsrc_out&in_degree\tint\n",
       "\tsrc_out|in_degree\tint\n",
       "\tsrc_deepWalk_0\tfloat\n",
       "\tsrc_deepWalk_1\tfloat\n",
       "\tsrc_deepWalk_2\tfloat\n",
       "\tsrc_deepWalk_3\tfloat\n",
       "\tsrc_deepWalk_4\tfloat\n",
       "\tsrc_deepWalk_5\tfloat\n",
       "\tsrc_deepWalk_6\tfloat\n",
       "\tsrc_deepWalk_7\tfloat\n",
       "\tsrc_deepWalk_8\tfloat\n",
       "\tsrc_deepWalk_9\tfloat\n",
       "\tsrc_deepWalk_10\tfloat\n",
       "\tsrc_deepWalk_11\tfloat\n",
       "\tsrc_deepWalk_12\tfloat\n",
       "\tsrc_deepWalk_13\tfloat\n",
       "\tsrc_deepWalk_14\tfloat\n",
       "\tsrc_deepWalk_15\tfloat\n",
       "\tsrc_deepWalk_16\tfloat\n",
       "\tsrc_deepWalk_17\tfloat\n",
       "\tsrc_deepWalk_18\tfloat\n",
       "\tsrc_deepWalk_19\tfloat\n",
       "\tsrc_deepWalk_20\tfloat\n",
       "\tsrc_deepWalk_21\tfloat\n",
       "\tsrc_deepWalk_22\tfloat\n",
       "\tsrc_deepWalk_23\tfloat\n",
       "\tsrc_deepWalk_24\tfloat\n",
       "\tsrc_deepWalk_25\tfloat\n",
       "\tsrc_deepWalk_26\tfloat\n",
       "\tsrc_deepWalk_27\tfloat\n",
       "\tsrc_deepWalk_28\tfloat\n",
       "\tsrc_deepWalk_29\tfloat\n",
       "\tsrc_deepWalk_30\tfloat\n",
       "\tsrc_deepWalk_31\tfloat\n",
       "\tsrc_deepWalk_32\tfloat\n",
       "\tsrc_deepWalk_33\tfloat\n",
       "\tsrc_deepWalk_34\tfloat\n",
       "\tsrc_deepWalk_35\tfloat\n",
       "\tsrc_deepWalk_36\tfloat\n",
       "\tsrc_deepWalk_37\tfloat\n",
       "\tsrc_deepWalk_38\tfloat\n",
       "\tsrc_deepWalk_39\tfloat\n",
       "\tsrc_deepWalk_40\tfloat\n",
       "\tsrc_deepWalk_41\tfloat\n",
       "\tsrc_deepWalk_42\tfloat\n",
       "\tsrc_deepWalk_43\tfloat\n",
       "\tsrc_deepWalk_44\tfloat\n",
       "\tsrc_deepWalk_45\tfloat\n",
       "\tsrc_deepWalk_46\tfloat\n",
       "\tsrc_deepWalk_47\tfloat\n",
       "\tsrc_deepWalk_48\tfloat\n",
       "\tsrc_deepWalk_49\tfloat\n",
       "\tsrc_deepWalk_50\tfloat\n",
       "\tsrc_deepWalk_51\tfloat\n",
       "\tsrc_deepWalk_52\tfloat\n",
       "\tsrc_deepWalk_53\tfloat\n",
       "\tsrc_deepWalk_54\tfloat\n",
       "\tsrc_deepWalk_55\tfloat\n",
       "\tsrc_deepWalk_56\tfloat\n",
       "\tsrc_deepWalk_57\tfloat\n",
       "\tsrc_deepWalk_58\tfloat\n",
       "\tsrc_deepWalk_59\tfloat\n",
       "\tsrc_deepWalk_60\tfloat\n",
       "\tsrc_deepWalk_61\tfloat\n",
       "\tsrc_deepWalk_62\tfloat\n",
       "\tsrc_deepWalk_63\tfloat\n",
       "\tdst_out_vertices\tlist\n",
       "\tdst_in_vertices\tlist\n",
       "\tdst_in&out\tlist\n",
       "\tdst_in|out\tlist\n",
       "\tdst_in_degree\tint\n",
       "\tdst_out_degree\tint\n",
       "\tdst_out&in_degree\tint\n",
       "\tdst_out|in_degree\tint\n",
       "\tdst_deepWalk_0\tfloat\n",
       "\tdst_deepWalk_1\tfloat\n",
       "\tdst_deepWalk_2\tfloat\n",
       "\tdst_deepWalk_3\tfloat\n",
       "\tdst_deepWalk_4\tfloat\n",
       "\tdst_deepWalk_5\tfloat\n",
       "\tdst_deepWalk_6\tfloat\n",
       "\tdst_deepWalk_7\tfloat\n",
       "\tdst_deepWalk_8\tfloat\n",
       "\tdst_deepWalk_9\tfloat\n",
       "\tdst_deepWalk_10\tfloat\n",
       "\tdst_deepWalk_11\tfloat\n",
       "\tdst_deepWalk_12\tfloat\n",
       "\tdst_deepWalk_13\tfloat\n",
       "\tdst_deepWalk_14\tfloat\n",
       "\tdst_deepWalk_15\tfloat\n",
       "\tdst_deepWalk_16\tfloat\n",
       "\tdst_deepWalk_17\tfloat\n",
       "\tdst_deepWalk_18\tfloat\n",
       "\tdst_deepWalk_19\tfloat\n",
       "\tdst_deepWalk_20\tfloat\n",
       "\tdst_deepWalk_21\tfloat\n",
       "\tdst_deepWalk_22\tfloat\n",
       "\tdst_deepWalk_23\tfloat\n",
       "\tdst_deepWalk_24\tfloat\n",
       "\tdst_deepWalk_25\tfloat\n",
       "\tdst_deepWalk_26\tfloat\n",
       "\tdst_deepWalk_27\tfloat\n",
       "\tdst_deepWalk_28\tfloat\n",
       "\tdst_deepWalk_29\tfloat\n",
       "\tdst_deepWalk_30\tfloat\n",
       "\tdst_deepWalk_31\tfloat\n",
       "\tdst_deepWalk_32\tfloat\n",
       "\tdst_deepWalk_33\tfloat\n",
       "\tdst_deepWalk_34\tfloat\n",
       "\tdst_deepWalk_35\tfloat\n",
       "\tdst_deepWalk_36\tfloat\n",
       "\tdst_deepWalk_37\tfloat\n",
       "\tdst_deepWalk_38\tfloat\n",
       "\tdst_deepWalk_39\tfloat\n",
       "\tdst_deepWalk_40\tfloat\n",
       "\tdst_deepWalk_41\tfloat\n",
       "\tdst_deepWalk_42\tfloat\n",
       "\tdst_deepWalk_43\tfloat\n",
       "\tdst_deepWalk_44\tfloat\n",
       "\tdst_deepWalk_45\tfloat\n",
       "\tdst_deepWalk_46\tfloat\n",
       "\tdst_deepWalk_47\tfloat\n",
       "\tdst_deepWalk_48\tfloat\n",
       "\tdst_deepWalk_49\tfloat\n",
       "\tdst_deepWalk_50\tfloat\n",
       "\tdst_deepWalk_51\tfloat\n",
       "\tdst_deepWalk_52\tfloat\n",
       "\tdst_deepWalk_53\tfloat\n",
       "\tdst_deepWalk_54\tfloat\n",
       "\tdst_deepWalk_55\tfloat\n",
       "\tdst_deepWalk_56\tfloat\n",
       "\tdst_deepWalk_57\tfloat\n",
       "\tdst_deepWalk_58\tfloat\n",
       "\tdst_deepWalk_59\tfloat\n",
       "\tdst_deepWalk_60\tfloat\n",
       "\tdst_deepWalk_61\tfloat\n",
       "\tdst_deepWalk_62\tfloat\n",
       "\tdst_deepWalk_63\tfloat\n",
       "\n",
       "Rows: 1\n",
       "\n",
       "Data:\n",
       "+--------+--------+-------+-------------------------------+\n",
       "|  src   |  dst   | class |        src_out_vertices       |\n",
       "+--------+--------+-------+-------------------------------+\n",
       "| 211023 | 159269 |   1   | [230773, 57470, 76015, 189... |\n",
       "+--------+--------+-------+-------------------------------+\n",
       "+-------------------------------+------------------+\n",
       "|        src_in_vertices        |    src_in&out    |\n",
       "+-------------------------------+------------------+\n",
       "| [230499, 181303, 13670, 23... | [233626, 198886] |\n",
       "+-------------------------------+------------------+\n",
       "+-------------------------------+---------------+----------------+-------------------+\n",
       "|           src_in|out          | src_in_degree | src_out_degree | src_out&in_degree |\n",
       "+-------------------------------+---------------+----------------+-------------------+\n",
       "| [57538, 13670, 161931, 248... |       13      |       16       |         2         |\n",
       "+-------------------------------+---------------+----------------+-------------------+\n",
       "+-------------------+----------------+----------------+----------------+\n",
       "| src_out|in_degree | src_deepWalk_0 | src_deepWalk_1 | src_deepWalk_2 |\n",
       "+-------------------+----------------+----------------+----------------+\n",
       "|         27        |    -0.05066    |    0.227474    |   -1.163211    |\n",
       "+-------------------+----------------+----------------+----------------+\n",
       "+----------------+----------------+----------------+----------------+----------------+\n",
       "| src_deepWalk_3 | src_deepWalk_4 | src_deepWalk_5 | src_deepWalk_6 | src_deepWalk_7 |\n",
       "+----------------+----------------+----------------+----------------+----------------+\n",
       "|   -0.326046    |    0.253923    |   -0.198485    |   -0.997009    |   -0.603977    |\n",
       "+----------------+----------------+----------------+----------------+----------------+\n",
       "+----------------+-----+\n",
       "| src_deepWalk_8 | ... |\n",
       "+----------------+-----+\n",
       "|   -0.420289    | ... |\n",
       "+----------------+-----+\n",
       "[1 rows x 147 columns]"
      ]
     },
     "execution_count": 30,
     "metadata": {},
     "output_type": "execute_result"
    }
   ],
   "source": [
    "edges = edges.join(all_vertices, on={\"src\": \"id\"}, how=\"right\")\n",
    "\n",
    "# edges.rename({\"in_vertices\": \"src_in_vertices\", \"out_vertices\": \"src_out_vertices\",\n",
    "#                   \"in_degree\": \"src_in_degree\", \"out_degree\": \"src_out_degree\", \"in&out\":\"src_in&out\",\n",
    "#              \"in|out\":\"src_in|out\", \"out&in_degree\":\"src_out&in_degree\", \"out|in_degree\": \"src_out|in_degree\"})\n",
    "\n",
    "edges.rename({name_old: 'src_'+name_old for name_old in all_vertices.column_names() if name_old!='id'})\n",
    "\n",
    "edges = edges.join(all_vertices, on={\"dst\": \"id\"}, how=\"right\")\n",
    "\n",
    "# edges.rename({\"in_vertices\": \"dst_in_vertices\", \"out_vertices\": \"dst_out_vertices\",\n",
    "#                   \"in_degree\": \"dst_in_degree\", \"out_degree\": \"dst_out_degree\", \"in&out\":\"dst_in&out\",\n",
    "#              \"in|out\":\"dst_in|out\", \"out&in_degree\":\"dst_out&in_degree\", \"out|in_degree\": \"dst_out|in_degree\"})\n",
    "edges.rename({name_old: 'dst_'+name_old for name_old in all_vertices.column_names() if name_old!='id'})\n",
    "\n",
    "\n",
    "edges.head(1)"
   ]
  },
  {
   "cell_type": "markdown",
   "metadata": {},
   "source": [
    "Найдем пункт 1 - общих друзей для списков вершин из пункта 1. Пункты 2 и 3 вы посчитаете самостоятельно,\n",
    "\n",
    "* Общие друзья вершин ребра\n",
    "* Общее количество друзей вершин ребра\n",
    "* Коэффициенты Жаккара, Пирсона, Адамик - Адара, косинусная мера"
   ]
  },
  {
   "cell_type": "code",
   "execution_count": 31,
   "metadata": {
    "collapsed": true
   },
   "outputs": [],
   "source": [
    "def common_friends(u, v, u_neighbors, v_neighbors):\n",
    "    u_neighbors = set(u_neighbors)\n",
    "    if v in u_neighbors:\n",
    "            u_neighbors.remove(v)\n",
    "\n",
    "    v_neighbors = set(v_neighbors)\n",
    "    if u in v_neighbors:\n",
    "        v_neighbors.remove(u)\n",
    "        \n",
    "    return len(u_neighbors & v_neighbors)"
   ]
  },
  {
   "cell_type": "code",
   "execution_count": 32,
   "metadata": {
    "collapsed": true
   },
   "outputs": [],
   "source": [
    "def common_friends_lst(u, v, u_neighbors, v_neighbors):\n",
    "    u_neighbors = set(u_neighbors)\n",
    "    if v in u_neighbors:\n",
    "            u_neighbors.remove(v)\n",
    "\n",
    "    v_neighbors = set(v_neighbors)\n",
    "    if u in v_neighbors:\n",
    "        v_neighbors.remove(u)\n",
    "        \n",
    "    return list(u_neighbors & v_neighbors)"
   ]
  },
  {
   "cell_type": "code",
   "execution_count": 33,
   "metadata": {
    "collapsed": true
   },
   "outputs": [],
   "source": [
    "def Jaccar(u, v, u_in, u_out, v_in, v_out):\n",
    "    common = set(u_in)|set(u_out)|set(v_in)|set(v_out)\n",
    "    diff = (set(u_in)|set(u_out))&(set(v_in)|set(v_out))\n",
    "    return len(diff)*1./(len(common)-len(diff))"
   ]
  },
  {
   "cell_type": "code",
   "execution_count": 34,
   "metadata": {
    "collapsed": false
   },
   "outputs": [
    {
     "data": {
      "text/html": [
       "<div style=\"max-height:1000px;max-width:1500px;overflow:auto;\"><table frame=\"box\" rules=\"cols\">\n",
       "    <tr>\n",
       "        <th style=\"padding-left: 1em; padding-right: 1em; text-align: center\">__id</th>\n",
       "        <th style=\"padding-left: 1em; padding-right: 1em; text-align: center\">in_degree</th>\n",
       "        <th style=\"padding-left: 1em; padding-right: 1em; text-align: center\">out_degree</th>\n",
       "        <th style=\"padding-left: 1em; padding-right: 1em; text-align: center\">total_degree</th>\n",
       "    </tr>\n",
       "    <tr>\n",
       "        <td style=\"padding-left: 1em; padding-right: 1em; text-align: center; vertical-align: top\">5</td>\n",
       "        <td style=\"padding-left: 1em; padding-right: 1em; text-align: center; vertical-align: top\">54</td>\n",
       "        <td style=\"padding-left: 1em; padding-right: 1em; text-align: center; vertical-align: top\">5</td>\n",
       "        <td style=\"padding-left: 1em; padding-right: 1em; text-align: center; vertical-align: top\">59</td>\n",
       "    </tr>\n",
       "    <tr>\n",
       "        <td style=\"padding-left: 1em; padding-right: 1em; text-align: center; vertical-align: top\">7</td>\n",
       "        <td style=\"padding-left: 1em; padding-right: 1em; text-align: center; vertical-align: top\">34</td>\n",
       "        <td style=\"padding-left: 1em; padding-right: 1em; text-align: center; vertical-align: top\">6</td>\n",
       "        <td style=\"padding-left: 1em; padding-right: 1em; text-align: center; vertical-align: top\">40</td>\n",
       "    </tr>\n",
       "    <tr>\n",
       "        <td style=\"padding-left: 1em; padding-right: 1em; text-align: center; vertical-align: top\">8</td>\n",
       "        <td style=\"padding-left: 1em; padding-right: 1em; text-align: center; vertical-align: top\">295</td>\n",
       "        <td style=\"padding-left: 1em; padding-right: 1em; text-align: center; vertical-align: top\">5</td>\n",
       "        <td style=\"padding-left: 1em; padding-right: 1em; text-align: center; vertical-align: top\">300</td>\n",
       "    </tr>\n",
       "</table>\n",
       "[3 rows x 4 columns]<br/>\n",
       "</div>"
      ],
      "text/plain": [
       "Columns:\n",
       "\t__id\tint\n",
       "\tin_degree\tint\n",
       "\tout_degree\tint\n",
       "\ttotal_degree\tint\n",
       "\n",
       "Rows: 3\n",
       "\n",
       "Data:\n",
       "+------+-----------+------------+--------------+\n",
       "| __id | in_degree | out_degree | total_degree |\n",
       "+------+-----------+------------+--------------+\n",
       "|  5   |     54    |     5      |      59      |\n",
       "|  7   |     34    |     6      |      40      |\n",
       "|  8   |    295    |     5      |     300      |\n",
       "+------+-----------+------------+--------------+\n",
       "[3 rows x 4 columns]"
      ]
     },
     "execution_count": 34,
     "metadata": {},
     "output_type": "execute_result"
    }
   ],
   "source": [
    "deg_graph.vertices[:3]"
   ]
  },
  {
   "cell_type": "code",
   "execution_count": 35,
   "metadata": {
    "collapsed": false
   },
   "outputs": [],
   "source": [
    "neighboors_dict = {i:deg_graph.vertices['__id' == i]['total_degree'] for i in g.vertices['__id']}"
   ]
  },
  {
   "cell_type": "code",
   "execution_count": 36,
   "metadata": {
    "collapsed": true
   },
   "outputs": [],
   "source": [
    "def Adamic_Adar(common_lst_in, common_lst_out):\n",
    "    \n",
    "    common_friends = list(set(common_lst_in)|set(common_lst_out))\n",
    "    if common_friends == []:\n",
    "        return 0\n",
    "    \n",
    "    result = 0\n",
    "    for f in common_friends:\n",
    "        ffriends = neighboors_dict[int(f)]-2\n",
    "        result+=1./np.log(ffriends)\n",
    "    return result"
   ]
  },
  {
   "cell_type": "code",
   "execution_count": 45,
   "metadata": {
    "collapsed": true
   },
   "outputs": [],
   "source": [
    "def deep_walk_product(x_id,y_id):\n",
    "    return np.array(deepwalk_dict[x_id]).dot(np.array(deepwalk_dict[y_id]))"
   ]
  },
  {
   "cell_type": "code",
   "execution_count": 37,
   "metadata": {
    "collapsed": false
   },
   "outputs": [],
   "source": [
    "edges['common_in_vertices'] = (edges[['src','dst', 'src_in_vertices', 'dst_in_vertices']]\n",
    "                               .apply(lambda x: common_friends(x['src'], x['dst'],x['src_in_vertices'], x['dst_in_vertices'])))"
   ]
  },
  {
   "cell_type": "code",
   "execution_count": 38,
   "metadata": {
    "collapsed": true
   },
   "outputs": [],
   "source": [
    "edges['common_out_vertices'] = (edges[['src','dst', 'src_out_vertices', 'dst_out_vertices']]\n",
    "                               .apply(lambda x: common_friends(x['src'], x['dst'],x['src_out_vertices'], x['dst_out_vertices'])))"
   ]
  },
  {
   "cell_type": "code",
   "execution_count": 41,
   "metadata": {
    "collapsed": true
   },
   "outputs": [],
   "source": [
    "edges['common_in_vertices_lst'] = (edges[['src','dst', 'src_in_vertices', 'dst_in_vertices']]\n",
    "                              .apply(lambda x: common_friends_lst(x['src'], x['dst'],x['src_in_vertices'], x['dst_in_vertices']))).astype(list)"
   ]
  },
  {
   "cell_type": "code",
   "execution_count": 42,
   "metadata": {
    "collapsed": true
   },
   "outputs": [],
   "source": [
    "edges['common_out_vertices_lst'] = (edges[['src','dst', 'src_out_vertices', 'dst_out_vertices']]\n",
    "                              .apply(lambda x: common_friends_lst(x['src'], x['dst'],x['src_out_vertices'], x['dst_out_vertices']))).astype(list)"
   ]
  },
  {
   "cell_type": "code",
   "execution_count": 39,
   "metadata": {
    "collapsed": false
   },
   "outputs": [],
   "source": [
    "edges['Jaccar'] = (edges[['src','dst', 'src_out_vertices', 'src_in_vertices','dst_in_vertices', 'dst_out_vertices']]\n",
    "                               .apply(lambda x: Jaccar(x['src'], x['dst'],\n",
    "                                                                   x['src_out_vertices'], x['src_in_vertices'],\n",
    "                                                                   x['dst_out_vertices'], x['dst_out_vertices'])))"
   ]
  },
  {
   "cell_type": "code",
   "execution_count": 43,
   "metadata": {
    "collapsed": false
   },
   "outputs": [],
   "source": [
    "ad_adar = (edges[[\"common_in_vertices_lst\", \"common_out_vertices_lst\"]]\n",
    "                              .apply(lambda x: Adamic_Adar(x[\"common_in_vertices_lst\"], x[\"common_out_vertices_lst\"])))"
   ]
  },
  {
   "cell_type": "code",
   "execution_count": 47,
   "metadata": {
    "collapsed": true
   },
   "outputs": [],
   "source": [
    "dw_product = (edges[[\"src\", \"dst\"]]\n",
    "                              .apply(lambda x: deep_walk_product(x[\"src\"], x[\"dst\"])))"
   ]
  },
  {
   "cell_type": "code",
   "execution_count": 48,
   "metadata": {
    "collapsed": false
   },
   "outputs": [
    {
     "data": {
      "text/html": [
       "<div style=\"max-height:1000px;max-width:1500px;overflow:auto;\"><table frame=\"box\" rules=\"cols\">\n",
       "    <tr>\n",
       "        <th style=\"padding-left: 1em; padding-right: 1em; text-align: center\">src</th>\n",
       "        <th style=\"padding-left: 1em; padding-right: 1em; text-align: center\">dst</th>\n",
       "        <th style=\"padding-left: 1em; padding-right: 1em; text-align: center\">class</th>\n",
       "        <th style=\"padding-left: 1em; padding-right: 1em; text-align: center\">src_out_vertices</th>\n",
       "        <th style=\"padding-left: 1em; padding-right: 1em; text-align: center\">src_in_vertices</th>\n",
       "        <th style=\"padding-left: 1em; padding-right: 1em; text-align: center\">src_in&amp;out</th>\n",
       "    </tr>\n",
       "    <tr>\n",
       "        <td style=\"padding-left: 1em; padding-right: 1em; text-align: center; vertical-align: top\">211023</td>\n",
       "        <td style=\"padding-left: 1em; padding-right: 1em; text-align: center; vertical-align: top\">159269</td>\n",
       "        <td style=\"padding-left: 1em; padding-right: 1em; text-align: center; vertical-align: top\">1</td>\n",
       "        <td style=\"padding-left: 1em; padding-right: 1em; text-align: center; vertical-align: top\">[230773, 57470, 76015,<br>189713, 233626, 252560, ...</td>\n",
       "        <td style=\"padding-left: 1em; padding-right: 1em; text-align: center; vertical-align: top\">[230499, 181303, 13670,<br>236267, 233626, 248527, ...</td>\n",
       "        <td style=\"padding-left: 1em; padding-right: 1em; text-align: center; vertical-align: top\">[233626, 198886]</td>\n",
       "    </tr>\n",
       "    <tr>\n",
       "        <td style=\"padding-left: 1em; padding-right: 1em; text-align: center; vertical-align: top\">211023</td>\n",
       "        <td style=\"padding-left: 1em; padding-right: 1em; text-align: center; vertical-align: top\">189714</td>\n",
       "        <td style=\"padding-left: 1em; padding-right: 1em; text-align: center; vertical-align: top\">1</td>\n",
       "        <td style=\"padding-left: 1em; padding-right: 1em; text-align: center; vertical-align: top\">[230773, 57470, 76015,<br>189713, 233626, 252560, ...</td>\n",
       "        <td style=\"padding-left: 1em; padding-right: 1em; text-align: center; vertical-align: top\">[230499, 181303, 13670,<br>236267, 233626, 248527, ...</td>\n",
       "        <td style=\"padding-left: 1em; padding-right: 1em; text-align: center; vertical-align: top\">[233626, 198886]</td>\n",
       "    </tr>\n",
       "    <tr>\n",
       "        <td style=\"padding-left: 1em; padding-right: 1em; text-align: center; vertical-align: top\">211023</td>\n",
       "        <td style=\"padding-left: 1em; padding-right: 1em; text-align: center; vertical-align: top\">244758</td>\n",
       "        <td style=\"padding-left: 1em; padding-right: 1em; text-align: center; vertical-align: top\">0</td>\n",
       "        <td style=\"padding-left: 1em; padding-right: 1em; text-align: center; vertical-align: top\">[230773, 57470, 76015,<br>189713, 233626, 252560, ...</td>\n",
       "        <td style=\"padding-left: 1em; padding-right: 1em; text-align: center; vertical-align: top\">[230499, 181303, 13670,<br>236267, 233626, 248527, ...</td>\n",
       "        <td style=\"padding-left: 1em; padding-right: 1em; text-align: center; vertical-align: top\">[233626, 198886]</td>\n",
       "    </tr>\n",
       "    <tr>\n",
       "        <td style=\"padding-left: 1em; padding-right: 1em; text-align: center; vertical-align: top\">211023</td>\n",
       "        <td style=\"padding-left: 1em; padding-right: 1em; text-align: center; vertical-align: top\">57470</td>\n",
       "        <td style=\"padding-left: 1em; padding-right: 1em; text-align: center; vertical-align: top\">0</td>\n",
       "        <td style=\"padding-left: 1em; padding-right: 1em; text-align: center; vertical-align: top\">[230773, 57470, 76015,<br>189713, 233626, 252560, ...</td>\n",
       "        <td style=\"padding-left: 1em; padding-right: 1em; text-align: center; vertical-align: top\">[230499, 181303, 13670,<br>236267, 233626, 248527, ...</td>\n",
       "        <td style=\"padding-left: 1em; padding-right: 1em; text-align: center; vertical-align: top\">[233626, 198886]</td>\n",
       "    </tr>\n",
       "    <tr>\n",
       "        <td style=\"padding-left: 1em; padding-right: 1em; text-align: center; vertical-align: top\">211023</td>\n",
       "        <td style=\"padding-left: 1em; padding-right: 1em; text-align: center; vertical-align: top\">233626</td>\n",
       "        <td style=\"padding-left: 1em; padding-right: 1em; text-align: center; vertical-align: top\">1</td>\n",
       "        <td style=\"padding-left: 1em; padding-right: 1em; text-align: center; vertical-align: top\">[230773, 57470, 76015,<br>189713, 233626, 252560, ...</td>\n",
       "        <td style=\"padding-left: 1em; padding-right: 1em; text-align: center; vertical-align: top\">[230499, 181303, 13670,<br>236267, 233626, 248527, ...</td>\n",
       "        <td style=\"padding-left: 1em; padding-right: 1em; text-align: center; vertical-align: top\">[233626, 198886]</td>\n",
       "    </tr>\n",
       "    <tr>\n",
       "        <td style=\"padding-left: 1em; padding-right: 1em; text-align: center; vertical-align: top\">211023</td>\n",
       "        <td style=\"padding-left: 1em; padding-right: 1em; text-align: center; vertical-align: top\">252560</td>\n",
       "        <td style=\"padding-left: 1em; padding-right: 1em; text-align: center; vertical-align: top\">0</td>\n",
       "        <td style=\"padding-left: 1em; padding-right: 1em; text-align: center; vertical-align: top\">[230773, 57470, 76015,<br>189713, 233626, 252560, ...</td>\n",
       "        <td style=\"padding-left: 1em; padding-right: 1em; text-align: center; vertical-align: top\">[230499, 181303, 13670,<br>236267, 233626, 248527, ...</td>\n",
       "        <td style=\"padding-left: 1em; padding-right: 1em; text-align: center; vertical-align: top\">[233626, 198886]</td>\n",
       "    </tr>\n",
       "    <tr>\n",
       "        <td style=\"padding-left: 1em; padding-right: 1em; text-align: center; vertical-align: top\">211023</td>\n",
       "        <td style=\"padding-left: 1em; padding-right: 1em; text-align: center; vertical-align: top\">230773</td>\n",
       "        <td style=\"padding-left: 1em; padding-right: 1em; text-align: center; vertical-align: top\">0</td>\n",
       "        <td style=\"padding-left: 1em; padding-right: 1em; text-align: center; vertical-align: top\">[230773, 57470, 76015,<br>189713, 233626, 252560, ...</td>\n",
       "        <td style=\"padding-left: 1em; padding-right: 1em; text-align: center; vertical-align: top\">[230499, 181303, 13670,<br>236267, 233626, 248527, ...</td>\n",
       "        <td style=\"padding-left: 1em; padding-right: 1em; text-align: center; vertical-align: top\">[233626, 198886]</td>\n",
       "    </tr>\n",
       "    <tr>\n",
       "        <td style=\"padding-left: 1em; padding-right: 1em; text-align: center; vertical-align: top\">211023</td>\n",
       "        <td style=\"padding-left: 1em; padding-right: 1em; text-align: center; vertical-align: top\">198886</td>\n",
       "        <td style=\"padding-left: 1em; padding-right: 1em; text-align: center; vertical-align: top\">1</td>\n",
       "        <td style=\"padding-left: 1em; padding-right: 1em; text-align: center; vertical-align: top\">[230773, 57470, 76015,<br>189713, 233626, 252560, ...</td>\n",
       "        <td style=\"padding-left: 1em; padding-right: 1em; text-align: center; vertical-align: top\">[230499, 181303, 13670,<br>236267, 233626, 248527, ...</td>\n",
       "        <td style=\"padding-left: 1em; padding-right: 1em; text-align: center; vertical-align: top\">[233626, 198886]</td>\n",
       "    </tr>\n",
       "    <tr>\n",
       "        <td style=\"padding-left: 1em; padding-right: 1em; text-align: center; vertical-align: top\">211023</td>\n",
       "        <td style=\"padding-left: 1em; padding-right: 1em; text-align: center; vertical-align: top\">224381</td>\n",
       "        <td style=\"padding-left: 1em; padding-right: 1em; text-align: center; vertical-align: top\">1</td>\n",
       "        <td style=\"padding-left: 1em; padding-right: 1em; text-align: center; vertical-align: top\">[230773, 57470, 76015,<br>189713, 233626, 252560, ...</td>\n",
       "        <td style=\"padding-left: 1em; padding-right: 1em; text-align: center; vertical-align: top\">[230499, 181303, 13670,<br>236267, 233626, 248527, ...</td>\n",
       "        <td style=\"padding-left: 1em; padding-right: 1em; text-align: center; vertical-align: top\">[233626, 198886]</td>\n",
       "    </tr>\n",
       "    <tr>\n",
       "        <td style=\"padding-left: 1em; padding-right: 1em; text-align: center; vertical-align: top\">211023</td>\n",
       "        <td style=\"padding-left: 1em; padding-right: 1em; text-align: center; vertical-align: top\">143972</td>\n",
       "        <td style=\"padding-left: 1em; padding-right: 1em; text-align: center; vertical-align: top\">0</td>\n",
       "        <td style=\"padding-left: 1em; padding-right: 1em; text-align: center; vertical-align: top\">[230773, 57470, 76015,<br>189713, 233626, 252560, ...</td>\n",
       "        <td style=\"padding-left: 1em; padding-right: 1em; text-align: center; vertical-align: top\">[230499, 181303, 13670,<br>236267, 233626, 248527, ...</td>\n",
       "        <td style=\"padding-left: 1em; padding-right: 1em; text-align: center; vertical-align: top\">[233626, 198886]</td>\n",
       "    </tr>\n",
       "</table>\n",
       "<table frame=\"box\" rules=\"cols\">\n",
       "    <tr>\n",
       "        <th style=\"padding-left: 1em; padding-right: 1em; text-align: center\">src_in|out</th>\n",
       "        <th style=\"padding-left: 1em; padding-right: 1em; text-align: center\">src_in_degree</th>\n",
       "        <th style=\"padding-left: 1em; padding-right: 1em; text-align: center\">src_out_degree</th>\n",
       "        <th style=\"padding-left: 1em; padding-right: 1em; text-align: center\">src_out&amp;in_degree</th>\n",
       "        <th style=\"padding-left: 1em; padding-right: 1em; text-align: center\">src_out|in_degree</th>\n",
       "        <th style=\"padding-left: 1em; padding-right: 1em; text-align: center\">src_deepWalk_0</th>\n",
       "    </tr>\n",
       "    <tr>\n",
       "        <td style=\"padding-left: 1em; padding-right: 1em; text-align: center; vertical-align: top\">[57538, 13670, 161931,<br>248527, 252560, 189713, ...</td>\n",
       "        <td style=\"padding-left: 1em; padding-right: 1em; text-align: center; vertical-align: top\">13</td>\n",
       "        <td style=\"padding-left: 1em; padding-right: 1em; text-align: center; vertical-align: top\">16</td>\n",
       "        <td style=\"padding-left: 1em; padding-right: 1em; text-align: center; vertical-align: top\">2</td>\n",
       "        <td style=\"padding-left: 1em; padding-right: 1em; text-align: center; vertical-align: top\">27</td>\n",
       "        <td style=\"padding-left: 1em; padding-right: 1em; text-align: center; vertical-align: top\">-0.05066</td>\n",
       "    </tr>\n",
       "    <tr>\n",
       "        <td style=\"padding-left: 1em; padding-right: 1em; text-align: center; vertical-align: top\">[57538, 13670, 161931,<br>248527, 252560, 189713, ...</td>\n",
       "        <td style=\"padding-left: 1em; padding-right: 1em; text-align: center; vertical-align: top\">13</td>\n",
       "        <td style=\"padding-left: 1em; padding-right: 1em; text-align: center; vertical-align: top\">16</td>\n",
       "        <td style=\"padding-left: 1em; padding-right: 1em; text-align: center; vertical-align: top\">2</td>\n",
       "        <td style=\"padding-left: 1em; padding-right: 1em; text-align: center; vertical-align: top\">27</td>\n",
       "        <td style=\"padding-left: 1em; padding-right: 1em; text-align: center; vertical-align: top\">-0.05066</td>\n",
       "    </tr>\n",
       "    <tr>\n",
       "        <td style=\"padding-left: 1em; padding-right: 1em; text-align: center; vertical-align: top\">[57538, 13670, 161931,<br>248527, 252560, 189713, ...</td>\n",
       "        <td style=\"padding-left: 1em; padding-right: 1em; text-align: center; vertical-align: top\">13</td>\n",
       "        <td style=\"padding-left: 1em; padding-right: 1em; text-align: center; vertical-align: top\">16</td>\n",
       "        <td style=\"padding-left: 1em; padding-right: 1em; text-align: center; vertical-align: top\">2</td>\n",
       "        <td style=\"padding-left: 1em; padding-right: 1em; text-align: center; vertical-align: top\">27</td>\n",
       "        <td style=\"padding-left: 1em; padding-right: 1em; text-align: center; vertical-align: top\">-0.05066</td>\n",
       "    </tr>\n",
       "    <tr>\n",
       "        <td style=\"padding-left: 1em; padding-right: 1em; text-align: center; vertical-align: top\">[57538, 13670, 161931,<br>248527, 252560, 189713, ...</td>\n",
       "        <td style=\"padding-left: 1em; padding-right: 1em; text-align: center; vertical-align: top\">13</td>\n",
       "        <td style=\"padding-left: 1em; padding-right: 1em; text-align: center; vertical-align: top\">16</td>\n",
       "        <td style=\"padding-left: 1em; padding-right: 1em; text-align: center; vertical-align: top\">2</td>\n",
       "        <td style=\"padding-left: 1em; padding-right: 1em; text-align: center; vertical-align: top\">27</td>\n",
       "        <td style=\"padding-left: 1em; padding-right: 1em; text-align: center; vertical-align: top\">-0.05066</td>\n",
       "    </tr>\n",
       "    <tr>\n",
       "        <td style=\"padding-left: 1em; padding-right: 1em; text-align: center; vertical-align: top\">[57538, 13670, 161931,<br>248527, 252560, 189713, ...</td>\n",
       "        <td style=\"padding-left: 1em; padding-right: 1em; text-align: center; vertical-align: top\">13</td>\n",
       "        <td style=\"padding-left: 1em; padding-right: 1em; text-align: center; vertical-align: top\">16</td>\n",
       "        <td style=\"padding-left: 1em; padding-right: 1em; text-align: center; vertical-align: top\">2</td>\n",
       "        <td style=\"padding-left: 1em; padding-right: 1em; text-align: center; vertical-align: top\">27</td>\n",
       "        <td style=\"padding-left: 1em; padding-right: 1em; text-align: center; vertical-align: top\">-0.05066</td>\n",
       "    </tr>\n",
       "    <tr>\n",
       "        <td style=\"padding-left: 1em; padding-right: 1em; text-align: center; vertical-align: top\">[57538, 13670, 161931,<br>248527, 252560, 189713, ...</td>\n",
       "        <td style=\"padding-left: 1em; padding-right: 1em; text-align: center; vertical-align: top\">13</td>\n",
       "        <td style=\"padding-left: 1em; padding-right: 1em; text-align: center; vertical-align: top\">16</td>\n",
       "        <td style=\"padding-left: 1em; padding-right: 1em; text-align: center; vertical-align: top\">2</td>\n",
       "        <td style=\"padding-left: 1em; padding-right: 1em; text-align: center; vertical-align: top\">27</td>\n",
       "        <td style=\"padding-left: 1em; padding-right: 1em; text-align: center; vertical-align: top\">-0.05066</td>\n",
       "    </tr>\n",
       "    <tr>\n",
       "        <td style=\"padding-left: 1em; padding-right: 1em; text-align: center; vertical-align: top\">[57538, 13670, 161931,<br>248527, 252560, 189713, ...</td>\n",
       "        <td style=\"padding-left: 1em; padding-right: 1em; text-align: center; vertical-align: top\">13</td>\n",
       "        <td style=\"padding-left: 1em; padding-right: 1em; text-align: center; vertical-align: top\">16</td>\n",
       "        <td style=\"padding-left: 1em; padding-right: 1em; text-align: center; vertical-align: top\">2</td>\n",
       "        <td style=\"padding-left: 1em; padding-right: 1em; text-align: center; vertical-align: top\">27</td>\n",
       "        <td style=\"padding-left: 1em; padding-right: 1em; text-align: center; vertical-align: top\">-0.05066</td>\n",
       "    </tr>\n",
       "    <tr>\n",
       "        <td style=\"padding-left: 1em; padding-right: 1em; text-align: center; vertical-align: top\">[57538, 13670, 161931,<br>248527, 252560, 189713, ...</td>\n",
       "        <td style=\"padding-left: 1em; padding-right: 1em; text-align: center; vertical-align: top\">13</td>\n",
       "        <td style=\"padding-left: 1em; padding-right: 1em; text-align: center; vertical-align: top\">16</td>\n",
       "        <td style=\"padding-left: 1em; padding-right: 1em; text-align: center; vertical-align: top\">2</td>\n",
       "        <td style=\"padding-left: 1em; padding-right: 1em; text-align: center; vertical-align: top\">27</td>\n",
       "        <td style=\"padding-left: 1em; padding-right: 1em; text-align: center; vertical-align: top\">-0.05066</td>\n",
       "    </tr>\n",
       "    <tr>\n",
       "        <td style=\"padding-left: 1em; padding-right: 1em; text-align: center; vertical-align: top\">[57538, 13670, 161931,<br>248527, 252560, 189713, ...</td>\n",
       "        <td style=\"padding-left: 1em; padding-right: 1em; text-align: center; vertical-align: top\">13</td>\n",
       "        <td style=\"padding-left: 1em; padding-right: 1em; text-align: center; vertical-align: top\">16</td>\n",
       "        <td style=\"padding-left: 1em; padding-right: 1em; text-align: center; vertical-align: top\">2</td>\n",
       "        <td style=\"padding-left: 1em; padding-right: 1em; text-align: center; vertical-align: top\">27</td>\n",
       "        <td style=\"padding-left: 1em; padding-right: 1em; text-align: center; vertical-align: top\">-0.05066</td>\n",
       "    </tr>\n",
       "    <tr>\n",
       "        <td style=\"padding-left: 1em; padding-right: 1em; text-align: center; vertical-align: top\">[57538, 13670, 161931,<br>248527, 252560, 189713, ...</td>\n",
       "        <td style=\"padding-left: 1em; padding-right: 1em; text-align: center; vertical-align: top\">13</td>\n",
       "        <td style=\"padding-left: 1em; padding-right: 1em; text-align: center; vertical-align: top\">16</td>\n",
       "        <td style=\"padding-left: 1em; padding-right: 1em; text-align: center; vertical-align: top\">2</td>\n",
       "        <td style=\"padding-left: 1em; padding-right: 1em; text-align: center; vertical-align: top\">27</td>\n",
       "        <td style=\"padding-left: 1em; padding-right: 1em; text-align: center; vertical-align: top\">-0.05066</td>\n",
       "    </tr>\n",
       "</table>\n",
       "<table frame=\"box\" rules=\"cols\">\n",
       "    <tr>\n",
       "        <th style=\"padding-left: 1em; padding-right: 1em; text-align: center\">src_deepWalk_1</th>\n",
       "        <th style=\"padding-left: 1em; padding-right: 1em; text-align: center\">src_deepWalk_2</th>\n",
       "        <th style=\"padding-left: 1em; padding-right: 1em; text-align: center\">src_deepWalk_3</th>\n",
       "        <th style=\"padding-left: 1em; padding-right: 1em; text-align: center\">src_deepWalk_4</th>\n",
       "        <th style=\"padding-left: 1em; padding-right: 1em; text-align: center\">src_deepWalk_5</th>\n",
       "        <th style=\"padding-left: 1em; padding-right: 1em; text-align: center\">src_deepWalk_6</th>\n",
       "        <th style=\"padding-left: 1em; padding-right: 1em; text-align: center\">src_deepWalk_7</th>\n",
       "    </tr>\n",
       "    <tr>\n",
       "        <td style=\"padding-left: 1em; padding-right: 1em; text-align: center; vertical-align: top\">0.227474</td>\n",
       "        <td style=\"padding-left: 1em; padding-right: 1em; text-align: center; vertical-align: top\">-1.163211</td>\n",
       "        <td style=\"padding-left: 1em; padding-right: 1em; text-align: center; vertical-align: top\">-0.326046</td>\n",
       "        <td style=\"padding-left: 1em; padding-right: 1em; text-align: center; vertical-align: top\">0.253923</td>\n",
       "        <td style=\"padding-left: 1em; padding-right: 1em; text-align: center; vertical-align: top\">-0.198485</td>\n",
       "        <td style=\"padding-left: 1em; padding-right: 1em; text-align: center; vertical-align: top\">-0.997009</td>\n",
       "        <td style=\"padding-left: 1em; padding-right: 1em; text-align: center; vertical-align: top\">-0.603977</td>\n",
       "    </tr>\n",
       "    <tr>\n",
       "        <td style=\"padding-left: 1em; padding-right: 1em; text-align: center; vertical-align: top\">0.227474</td>\n",
       "        <td style=\"padding-left: 1em; padding-right: 1em; text-align: center; vertical-align: top\">-1.163211</td>\n",
       "        <td style=\"padding-left: 1em; padding-right: 1em; text-align: center; vertical-align: top\">-0.326046</td>\n",
       "        <td style=\"padding-left: 1em; padding-right: 1em; text-align: center; vertical-align: top\">0.253923</td>\n",
       "        <td style=\"padding-left: 1em; padding-right: 1em; text-align: center; vertical-align: top\">-0.198485</td>\n",
       "        <td style=\"padding-left: 1em; padding-right: 1em; text-align: center; vertical-align: top\">-0.997009</td>\n",
       "        <td style=\"padding-left: 1em; padding-right: 1em; text-align: center; vertical-align: top\">-0.603977</td>\n",
       "    </tr>\n",
       "    <tr>\n",
       "        <td style=\"padding-left: 1em; padding-right: 1em; text-align: center; vertical-align: top\">0.227474</td>\n",
       "        <td style=\"padding-left: 1em; padding-right: 1em; text-align: center; vertical-align: top\">-1.163211</td>\n",
       "        <td style=\"padding-left: 1em; padding-right: 1em; text-align: center; vertical-align: top\">-0.326046</td>\n",
       "        <td style=\"padding-left: 1em; padding-right: 1em; text-align: center; vertical-align: top\">0.253923</td>\n",
       "        <td style=\"padding-left: 1em; padding-right: 1em; text-align: center; vertical-align: top\">-0.198485</td>\n",
       "        <td style=\"padding-left: 1em; padding-right: 1em; text-align: center; vertical-align: top\">-0.997009</td>\n",
       "        <td style=\"padding-left: 1em; padding-right: 1em; text-align: center; vertical-align: top\">-0.603977</td>\n",
       "    </tr>\n",
       "    <tr>\n",
       "        <td style=\"padding-left: 1em; padding-right: 1em; text-align: center; vertical-align: top\">0.227474</td>\n",
       "        <td style=\"padding-left: 1em; padding-right: 1em; text-align: center; vertical-align: top\">-1.163211</td>\n",
       "        <td style=\"padding-left: 1em; padding-right: 1em; text-align: center; vertical-align: top\">-0.326046</td>\n",
       "        <td style=\"padding-left: 1em; padding-right: 1em; text-align: center; vertical-align: top\">0.253923</td>\n",
       "        <td style=\"padding-left: 1em; padding-right: 1em; text-align: center; vertical-align: top\">-0.198485</td>\n",
       "        <td style=\"padding-left: 1em; padding-right: 1em; text-align: center; vertical-align: top\">-0.997009</td>\n",
       "        <td style=\"padding-left: 1em; padding-right: 1em; text-align: center; vertical-align: top\">-0.603977</td>\n",
       "    </tr>\n",
       "    <tr>\n",
       "        <td style=\"padding-left: 1em; padding-right: 1em; text-align: center; vertical-align: top\">0.227474</td>\n",
       "        <td style=\"padding-left: 1em; padding-right: 1em; text-align: center; vertical-align: top\">-1.163211</td>\n",
       "        <td style=\"padding-left: 1em; padding-right: 1em; text-align: center; vertical-align: top\">-0.326046</td>\n",
       "        <td style=\"padding-left: 1em; padding-right: 1em; text-align: center; vertical-align: top\">0.253923</td>\n",
       "        <td style=\"padding-left: 1em; padding-right: 1em; text-align: center; vertical-align: top\">-0.198485</td>\n",
       "        <td style=\"padding-left: 1em; padding-right: 1em; text-align: center; vertical-align: top\">-0.997009</td>\n",
       "        <td style=\"padding-left: 1em; padding-right: 1em; text-align: center; vertical-align: top\">-0.603977</td>\n",
       "    </tr>\n",
       "    <tr>\n",
       "        <td style=\"padding-left: 1em; padding-right: 1em; text-align: center; vertical-align: top\">0.227474</td>\n",
       "        <td style=\"padding-left: 1em; padding-right: 1em; text-align: center; vertical-align: top\">-1.163211</td>\n",
       "        <td style=\"padding-left: 1em; padding-right: 1em; text-align: center; vertical-align: top\">-0.326046</td>\n",
       "        <td style=\"padding-left: 1em; padding-right: 1em; text-align: center; vertical-align: top\">0.253923</td>\n",
       "        <td style=\"padding-left: 1em; padding-right: 1em; text-align: center; vertical-align: top\">-0.198485</td>\n",
       "        <td style=\"padding-left: 1em; padding-right: 1em; text-align: center; vertical-align: top\">-0.997009</td>\n",
       "        <td style=\"padding-left: 1em; padding-right: 1em; text-align: center; vertical-align: top\">-0.603977</td>\n",
       "    </tr>\n",
       "    <tr>\n",
       "        <td style=\"padding-left: 1em; padding-right: 1em; text-align: center; vertical-align: top\">0.227474</td>\n",
       "        <td style=\"padding-left: 1em; padding-right: 1em; text-align: center; vertical-align: top\">-1.163211</td>\n",
       "        <td style=\"padding-left: 1em; padding-right: 1em; text-align: center; vertical-align: top\">-0.326046</td>\n",
       "        <td style=\"padding-left: 1em; padding-right: 1em; text-align: center; vertical-align: top\">0.253923</td>\n",
       "        <td style=\"padding-left: 1em; padding-right: 1em; text-align: center; vertical-align: top\">-0.198485</td>\n",
       "        <td style=\"padding-left: 1em; padding-right: 1em; text-align: center; vertical-align: top\">-0.997009</td>\n",
       "        <td style=\"padding-left: 1em; padding-right: 1em; text-align: center; vertical-align: top\">-0.603977</td>\n",
       "    </tr>\n",
       "    <tr>\n",
       "        <td style=\"padding-left: 1em; padding-right: 1em; text-align: center; vertical-align: top\">0.227474</td>\n",
       "        <td style=\"padding-left: 1em; padding-right: 1em; text-align: center; vertical-align: top\">-1.163211</td>\n",
       "        <td style=\"padding-left: 1em; padding-right: 1em; text-align: center; vertical-align: top\">-0.326046</td>\n",
       "        <td style=\"padding-left: 1em; padding-right: 1em; text-align: center; vertical-align: top\">0.253923</td>\n",
       "        <td style=\"padding-left: 1em; padding-right: 1em; text-align: center; vertical-align: top\">-0.198485</td>\n",
       "        <td style=\"padding-left: 1em; padding-right: 1em; text-align: center; vertical-align: top\">-0.997009</td>\n",
       "        <td style=\"padding-left: 1em; padding-right: 1em; text-align: center; vertical-align: top\">-0.603977</td>\n",
       "    </tr>\n",
       "    <tr>\n",
       "        <td style=\"padding-left: 1em; padding-right: 1em; text-align: center; vertical-align: top\">0.227474</td>\n",
       "        <td style=\"padding-left: 1em; padding-right: 1em; text-align: center; vertical-align: top\">-1.163211</td>\n",
       "        <td style=\"padding-left: 1em; padding-right: 1em; text-align: center; vertical-align: top\">-0.326046</td>\n",
       "        <td style=\"padding-left: 1em; padding-right: 1em; text-align: center; vertical-align: top\">0.253923</td>\n",
       "        <td style=\"padding-left: 1em; padding-right: 1em; text-align: center; vertical-align: top\">-0.198485</td>\n",
       "        <td style=\"padding-left: 1em; padding-right: 1em; text-align: center; vertical-align: top\">-0.997009</td>\n",
       "        <td style=\"padding-left: 1em; padding-right: 1em; text-align: center; vertical-align: top\">-0.603977</td>\n",
       "    </tr>\n",
       "    <tr>\n",
       "        <td style=\"padding-left: 1em; padding-right: 1em; text-align: center; vertical-align: top\">0.227474</td>\n",
       "        <td style=\"padding-left: 1em; padding-right: 1em; text-align: center; vertical-align: top\">-1.163211</td>\n",
       "        <td style=\"padding-left: 1em; padding-right: 1em; text-align: center; vertical-align: top\">-0.326046</td>\n",
       "        <td style=\"padding-left: 1em; padding-right: 1em; text-align: center; vertical-align: top\">0.253923</td>\n",
       "        <td style=\"padding-left: 1em; padding-right: 1em; text-align: center; vertical-align: top\">-0.198485</td>\n",
       "        <td style=\"padding-left: 1em; padding-right: 1em; text-align: center; vertical-align: top\">-0.997009</td>\n",
       "        <td style=\"padding-left: 1em; padding-right: 1em; text-align: center; vertical-align: top\">-0.603977</td>\n",
       "    </tr>\n",
       "</table>\n",
       "<table frame=\"box\" rules=\"cols\">\n",
       "    <tr>\n",
       "        <th style=\"padding-left: 1em; padding-right: 1em; text-align: center\">src_deepWalk_8</th>\n",
       "        <th style=\"padding-left: 1em; padding-right: 1em; text-align: center\">src_deepWalk_9</th>\n",
       "        <th style=\"padding-left: 1em; padding-right: 1em; text-align: center\">src_deepWalk_10</th>\n",
       "        <th style=\"padding-left: 1em; padding-right: 1em; text-align: center\">src_deepWalk_11</th>\n",
       "        <th style=\"padding-left: 1em; padding-right: 1em; text-align: center\">src_deepWalk_12</th>\n",
       "        <th style=\"padding-left: 1em; padding-right: 1em; text-align: center\">src_deepWalk_13</th>\n",
       "        <th style=\"padding-left: 1em; padding-right: 1em; text-align: center\">src_deepWalk_14</th>\n",
       "    </tr>\n",
       "    <tr>\n",
       "        <td style=\"padding-left: 1em; padding-right: 1em; text-align: center; vertical-align: top\">-0.420289</td>\n",
       "        <td style=\"padding-left: 1em; padding-right: 1em; text-align: center; vertical-align: top\">-0.250026</td>\n",
       "        <td style=\"padding-left: 1em; padding-right: 1em; text-align: center; vertical-align: top\">0.294057</td>\n",
       "        <td style=\"padding-left: 1em; padding-right: 1em; text-align: center; vertical-align: top\">-0.442229</td>\n",
       "        <td style=\"padding-left: 1em; padding-right: 1em; text-align: center; vertical-align: top\">0.668259</td>\n",
       "        <td style=\"padding-left: 1em; padding-right: 1em; text-align: center; vertical-align: top\">0.095325</td>\n",
       "        <td style=\"padding-left: 1em; padding-right: 1em; text-align: center; vertical-align: top\">0.079501</td>\n",
       "    </tr>\n",
       "    <tr>\n",
       "        <td style=\"padding-left: 1em; padding-right: 1em; text-align: center; vertical-align: top\">-0.420289</td>\n",
       "        <td style=\"padding-left: 1em; padding-right: 1em; text-align: center; vertical-align: top\">-0.250026</td>\n",
       "        <td style=\"padding-left: 1em; padding-right: 1em; text-align: center; vertical-align: top\">0.294057</td>\n",
       "        <td style=\"padding-left: 1em; padding-right: 1em; text-align: center; vertical-align: top\">-0.442229</td>\n",
       "        <td style=\"padding-left: 1em; padding-right: 1em; text-align: center; vertical-align: top\">0.668259</td>\n",
       "        <td style=\"padding-left: 1em; padding-right: 1em; text-align: center; vertical-align: top\">0.095325</td>\n",
       "        <td style=\"padding-left: 1em; padding-right: 1em; text-align: center; vertical-align: top\">0.079501</td>\n",
       "    </tr>\n",
       "    <tr>\n",
       "        <td style=\"padding-left: 1em; padding-right: 1em; text-align: center; vertical-align: top\">-0.420289</td>\n",
       "        <td style=\"padding-left: 1em; padding-right: 1em; text-align: center; vertical-align: top\">-0.250026</td>\n",
       "        <td style=\"padding-left: 1em; padding-right: 1em; text-align: center; vertical-align: top\">0.294057</td>\n",
       "        <td style=\"padding-left: 1em; padding-right: 1em; text-align: center; vertical-align: top\">-0.442229</td>\n",
       "        <td style=\"padding-left: 1em; padding-right: 1em; text-align: center; vertical-align: top\">0.668259</td>\n",
       "        <td style=\"padding-left: 1em; padding-right: 1em; text-align: center; vertical-align: top\">0.095325</td>\n",
       "        <td style=\"padding-left: 1em; padding-right: 1em; text-align: center; vertical-align: top\">0.079501</td>\n",
       "    </tr>\n",
       "    <tr>\n",
       "        <td style=\"padding-left: 1em; padding-right: 1em; text-align: center; vertical-align: top\">-0.420289</td>\n",
       "        <td style=\"padding-left: 1em; padding-right: 1em; text-align: center; vertical-align: top\">-0.250026</td>\n",
       "        <td style=\"padding-left: 1em; padding-right: 1em; text-align: center; vertical-align: top\">0.294057</td>\n",
       "        <td style=\"padding-left: 1em; padding-right: 1em; text-align: center; vertical-align: top\">-0.442229</td>\n",
       "        <td style=\"padding-left: 1em; padding-right: 1em; text-align: center; vertical-align: top\">0.668259</td>\n",
       "        <td style=\"padding-left: 1em; padding-right: 1em; text-align: center; vertical-align: top\">0.095325</td>\n",
       "        <td style=\"padding-left: 1em; padding-right: 1em; text-align: center; vertical-align: top\">0.079501</td>\n",
       "    </tr>\n",
       "    <tr>\n",
       "        <td style=\"padding-left: 1em; padding-right: 1em; text-align: center; vertical-align: top\">-0.420289</td>\n",
       "        <td style=\"padding-left: 1em; padding-right: 1em; text-align: center; vertical-align: top\">-0.250026</td>\n",
       "        <td style=\"padding-left: 1em; padding-right: 1em; text-align: center; vertical-align: top\">0.294057</td>\n",
       "        <td style=\"padding-left: 1em; padding-right: 1em; text-align: center; vertical-align: top\">-0.442229</td>\n",
       "        <td style=\"padding-left: 1em; padding-right: 1em; text-align: center; vertical-align: top\">0.668259</td>\n",
       "        <td style=\"padding-left: 1em; padding-right: 1em; text-align: center; vertical-align: top\">0.095325</td>\n",
       "        <td style=\"padding-left: 1em; padding-right: 1em; text-align: center; vertical-align: top\">0.079501</td>\n",
       "    </tr>\n",
       "    <tr>\n",
       "        <td style=\"padding-left: 1em; padding-right: 1em; text-align: center; vertical-align: top\">-0.420289</td>\n",
       "        <td style=\"padding-left: 1em; padding-right: 1em; text-align: center; vertical-align: top\">-0.250026</td>\n",
       "        <td style=\"padding-left: 1em; padding-right: 1em; text-align: center; vertical-align: top\">0.294057</td>\n",
       "        <td style=\"padding-left: 1em; padding-right: 1em; text-align: center; vertical-align: top\">-0.442229</td>\n",
       "        <td style=\"padding-left: 1em; padding-right: 1em; text-align: center; vertical-align: top\">0.668259</td>\n",
       "        <td style=\"padding-left: 1em; padding-right: 1em; text-align: center; vertical-align: top\">0.095325</td>\n",
       "        <td style=\"padding-left: 1em; padding-right: 1em; text-align: center; vertical-align: top\">0.079501</td>\n",
       "    </tr>\n",
       "    <tr>\n",
       "        <td style=\"padding-left: 1em; padding-right: 1em; text-align: center; vertical-align: top\">-0.420289</td>\n",
       "        <td style=\"padding-left: 1em; padding-right: 1em; text-align: center; vertical-align: top\">-0.250026</td>\n",
       "        <td style=\"padding-left: 1em; padding-right: 1em; text-align: center; vertical-align: top\">0.294057</td>\n",
       "        <td style=\"padding-left: 1em; padding-right: 1em; text-align: center; vertical-align: top\">-0.442229</td>\n",
       "        <td style=\"padding-left: 1em; padding-right: 1em; text-align: center; vertical-align: top\">0.668259</td>\n",
       "        <td style=\"padding-left: 1em; padding-right: 1em; text-align: center; vertical-align: top\">0.095325</td>\n",
       "        <td style=\"padding-left: 1em; padding-right: 1em; text-align: center; vertical-align: top\">0.079501</td>\n",
       "    </tr>\n",
       "    <tr>\n",
       "        <td style=\"padding-left: 1em; padding-right: 1em; text-align: center; vertical-align: top\">-0.420289</td>\n",
       "        <td style=\"padding-left: 1em; padding-right: 1em; text-align: center; vertical-align: top\">-0.250026</td>\n",
       "        <td style=\"padding-left: 1em; padding-right: 1em; text-align: center; vertical-align: top\">0.294057</td>\n",
       "        <td style=\"padding-left: 1em; padding-right: 1em; text-align: center; vertical-align: top\">-0.442229</td>\n",
       "        <td style=\"padding-left: 1em; padding-right: 1em; text-align: center; vertical-align: top\">0.668259</td>\n",
       "        <td style=\"padding-left: 1em; padding-right: 1em; text-align: center; vertical-align: top\">0.095325</td>\n",
       "        <td style=\"padding-left: 1em; padding-right: 1em; text-align: center; vertical-align: top\">0.079501</td>\n",
       "    </tr>\n",
       "    <tr>\n",
       "        <td style=\"padding-left: 1em; padding-right: 1em; text-align: center; vertical-align: top\">-0.420289</td>\n",
       "        <td style=\"padding-left: 1em; padding-right: 1em; text-align: center; vertical-align: top\">-0.250026</td>\n",
       "        <td style=\"padding-left: 1em; padding-right: 1em; text-align: center; vertical-align: top\">0.294057</td>\n",
       "        <td style=\"padding-left: 1em; padding-right: 1em; text-align: center; vertical-align: top\">-0.442229</td>\n",
       "        <td style=\"padding-left: 1em; padding-right: 1em; text-align: center; vertical-align: top\">0.668259</td>\n",
       "        <td style=\"padding-left: 1em; padding-right: 1em; text-align: center; vertical-align: top\">0.095325</td>\n",
       "        <td style=\"padding-left: 1em; padding-right: 1em; text-align: center; vertical-align: top\">0.079501</td>\n",
       "    </tr>\n",
       "    <tr>\n",
       "        <td style=\"padding-left: 1em; padding-right: 1em; text-align: center; vertical-align: top\">-0.420289</td>\n",
       "        <td style=\"padding-left: 1em; padding-right: 1em; text-align: center; vertical-align: top\">-0.250026</td>\n",
       "        <td style=\"padding-left: 1em; padding-right: 1em; text-align: center; vertical-align: top\">0.294057</td>\n",
       "        <td style=\"padding-left: 1em; padding-right: 1em; text-align: center; vertical-align: top\">-0.442229</td>\n",
       "        <td style=\"padding-left: 1em; padding-right: 1em; text-align: center; vertical-align: top\">0.668259</td>\n",
       "        <td style=\"padding-left: 1em; padding-right: 1em; text-align: center; vertical-align: top\">0.095325</td>\n",
       "        <td style=\"padding-left: 1em; padding-right: 1em; text-align: center; vertical-align: top\">0.079501</td>\n",
       "    </tr>\n",
       "</table>\n",
       "<table frame=\"box\" rules=\"cols\">\n",
       "    <tr>\n",
       "        <th style=\"padding-left: 1em; padding-right: 1em; text-align: center\">src_deepWalk_15</th>\n",
       "        <th style=\"padding-left: 1em; padding-right: 1em; text-align: center\">src_deepWalk_16</th>\n",
       "        <th style=\"padding-left: 1em; padding-right: 1em; text-align: center\">src_deepWalk_17</th>\n",
       "        <th style=\"padding-left: 1em; padding-right: 1em; text-align: center\">src_deepWalk_18</th>\n",
       "        <th style=\"padding-left: 1em; padding-right: 1em; text-align: center\">src_deepWalk_19</th>\n",
       "        <th style=\"padding-left: 1em; padding-right: 1em; text-align: center\">src_deepWalk_20</th>\n",
       "        <th style=\"padding-left: 1em; padding-right: 1em; text-align: center\">src_deepWalk_21</th>\n",
       "    </tr>\n",
       "    <tr>\n",
       "        <td style=\"padding-left: 1em; padding-right: 1em; text-align: center; vertical-align: top\">0.555141</td>\n",
       "        <td style=\"padding-left: 1em; padding-right: 1em; text-align: center; vertical-align: top\">0.217579</td>\n",
       "        <td style=\"padding-left: 1em; padding-right: 1em; text-align: center; vertical-align: top\">-0.063687</td>\n",
       "        <td style=\"padding-left: 1em; padding-right: 1em; text-align: center; vertical-align: top\">0.511003</td>\n",
       "        <td style=\"padding-left: 1em; padding-right: 1em; text-align: center; vertical-align: top\">0.418021</td>\n",
       "        <td style=\"padding-left: 1em; padding-right: 1em; text-align: center; vertical-align: top\">0.118892</td>\n",
       "        <td style=\"padding-left: 1em; padding-right: 1em; text-align: center; vertical-align: top\">0.482267</td>\n",
       "    </tr>\n",
       "    <tr>\n",
       "        <td style=\"padding-left: 1em; padding-right: 1em; text-align: center; vertical-align: top\">0.555141</td>\n",
       "        <td style=\"padding-left: 1em; padding-right: 1em; text-align: center; vertical-align: top\">0.217579</td>\n",
       "        <td style=\"padding-left: 1em; padding-right: 1em; text-align: center; vertical-align: top\">-0.063687</td>\n",
       "        <td style=\"padding-left: 1em; padding-right: 1em; text-align: center; vertical-align: top\">0.511003</td>\n",
       "        <td style=\"padding-left: 1em; padding-right: 1em; text-align: center; vertical-align: top\">0.418021</td>\n",
       "        <td style=\"padding-left: 1em; padding-right: 1em; text-align: center; vertical-align: top\">0.118892</td>\n",
       "        <td style=\"padding-left: 1em; padding-right: 1em; text-align: center; vertical-align: top\">0.482267</td>\n",
       "    </tr>\n",
       "    <tr>\n",
       "        <td style=\"padding-left: 1em; padding-right: 1em; text-align: center; vertical-align: top\">0.555141</td>\n",
       "        <td style=\"padding-left: 1em; padding-right: 1em; text-align: center; vertical-align: top\">0.217579</td>\n",
       "        <td style=\"padding-left: 1em; padding-right: 1em; text-align: center; vertical-align: top\">-0.063687</td>\n",
       "        <td style=\"padding-left: 1em; padding-right: 1em; text-align: center; vertical-align: top\">0.511003</td>\n",
       "        <td style=\"padding-left: 1em; padding-right: 1em; text-align: center; vertical-align: top\">0.418021</td>\n",
       "        <td style=\"padding-left: 1em; padding-right: 1em; text-align: center; vertical-align: top\">0.118892</td>\n",
       "        <td style=\"padding-left: 1em; padding-right: 1em; text-align: center; vertical-align: top\">0.482267</td>\n",
       "    </tr>\n",
       "    <tr>\n",
       "        <td style=\"padding-left: 1em; padding-right: 1em; text-align: center; vertical-align: top\">0.555141</td>\n",
       "        <td style=\"padding-left: 1em; padding-right: 1em; text-align: center; vertical-align: top\">0.217579</td>\n",
       "        <td style=\"padding-left: 1em; padding-right: 1em; text-align: center; vertical-align: top\">-0.063687</td>\n",
       "        <td style=\"padding-left: 1em; padding-right: 1em; text-align: center; vertical-align: top\">0.511003</td>\n",
       "        <td style=\"padding-left: 1em; padding-right: 1em; text-align: center; vertical-align: top\">0.418021</td>\n",
       "        <td style=\"padding-left: 1em; padding-right: 1em; text-align: center; vertical-align: top\">0.118892</td>\n",
       "        <td style=\"padding-left: 1em; padding-right: 1em; text-align: center; vertical-align: top\">0.482267</td>\n",
       "    </tr>\n",
       "    <tr>\n",
       "        <td style=\"padding-left: 1em; padding-right: 1em; text-align: center; vertical-align: top\">0.555141</td>\n",
       "        <td style=\"padding-left: 1em; padding-right: 1em; text-align: center; vertical-align: top\">0.217579</td>\n",
       "        <td style=\"padding-left: 1em; padding-right: 1em; text-align: center; vertical-align: top\">-0.063687</td>\n",
       "        <td style=\"padding-left: 1em; padding-right: 1em; text-align: center; vertical-align: top\">0.511003</td>\n",
       "        <td style=\"padding-left: 1em; padding-right: 1em; text-align: center; vertical-align: top\">0.418021</td>\n",
       "        <td style=\"padding-left: 1em; padding-right: 1em; text-align: center; vertical-align: top\">0.118892</td>\n",
       "        <td style=\"padding-left: 1em; padding-right: 1em; text-align: center; vertical-align: top\">0.482267</td>\n",
       "    </tr>\n",
       "    <tr>\n",
       "        <td style=\"padding-left: 1em; padding-right: 1em; text-align: center; vertical-align: top\">0.555141</td>\n",
       "        <td style=\"padding-left: 1em; padding-right: 1em; text-align: center; vertical-align: top\">0.217579</td>\n",
       "        <td style=\"padding-left: 1em; padding-right: 1em; text-align: center; vertical-align: top\">-0.063687</td>\n",
       "        <td style=\"padding-left: 1em; padding-right: 1em; text-align: center; vertical-align: top\">0.511003</td>\n",
       "        <td style=\"padding-left: 1em; padding-right: 1em; text-align: center; vertical-align: top\">0.418021</td>\n",
       "        <td style=\"padding-left: 1em; padding-right: 1em; text-align: center; vertical-align: top\">0.118892</td>\n",
       "        <td style=\"padding-left: 1em; padding-right: 1em; text-align: center; vertical-align: top\">0.482267</td>\n",
       "    </tr>\n",
       "    <tr>\n",
       "        <td style=\"padding-left: 1em; padding-right: 1em; text-align: center; vertical-align: top\">0.555141</td>\n",
       "        <td style=\"padding-left: 1em; padding-right: 1em; text-align: center; vertical-align: top\">0.217579</td>\n",
       "        <td style=\"padding-left: 1em; padding-right: 1em; text-align: center; vertical-align: top\">-0.063687</td>\n",
       "        <td style=\"padding-left: 1em; padding-right: 1em; text-align: center; vertical-align: top\">0.511003</td>\n",
       "        <td style=\"padding-left: 1em; padding-right: 1em; text-align: center; vertical-align: top\">0.418021</td>\n",
       "        <td style=\"padding-left: 1em; padding-right: 1em; text-align: center; vertical-align: top\">0.118892</td>\n",
       "        <td style=\"padding-left: 1em; padding-right: 1em; text-align: center; vertical-align: top\">0.482267</td>\n",
       "    </tr>\n",
       "    <tr>\n",
       "        <td style=\"padding-left: 1em; padding-right: 1em; text-align: center; vertical-align: top\">0.555141</td>\n",
       "        <td style=\"padding-left: 1em; padding-right: 1em; text-align: center; vertical-align: top\">0.217579</td>\n",
       "        <td style=\"padding-left: 1em; padding-right: 1em; text-align: center; vertical-align: top\">-0.063687</td>\n",
       "        <td style=\"padding-left: 1em; padding-right: 1em; text-align: center; vertical-align: top\">0.511003</td>\n",
       "        <td style=\"padding-left: 1em; padding-right: 1em; text-align: center; vertical-align: top\">0.418021</td>\n",
       "        <td style=\"padding-left: 1em; padding-right: 1em; text-align: center; vertical-align: top\">0.118892</td>\n",
       "        <td style=\"padding-left: 1em; padding-right: 1em; text-align: center; vertical-align: top\">0.482267</td>\n",
       "    </tr>\n",
       "    <tr>\n",
       "        <td style=\"padding-left: 1em; padding-right: 1em; text-align: center; vertical-align: top\">0.555141</td>\n",
       "        <td style=\"padding-left: 1em; padding-right: 1em; text-align: center; vertical-align: top\">0.217579</td>\n",
       "        <td style=\"padding-left: 1em; padding-right: 1em; text-align: center; vertical-align: top\">-0.063687</td>\n",
       "        <td style=\"padding-left: 1em; padding-right: 1em; text-align: center; vertical-align: top\">0.511003</td>\n",
       "        <td style=\"padding-left: 1em; padding-right: 1em; text-align: center; vertical-align: top\">0.418021</td>\n",
       "        <td style=\"padding-left: 1em; padding-right: 1em; text-align: center; vertical-align: top\">0.118892</td>\n",
       "        <td style=\"padding-left: 1em; padding-right: 1em; text-align: center; vertical-align: top\">0.482267</td>\n",
       "    </tr>\n",
       "    <tr>\n",
       "        <td style=\"padding-left: 1em; padding-right: 1em; text-align: center; vertical-align: top\">0.555141</td>\n",
       "        <td style=\"padding-left: 1em; padding-right: 1em; text-align: center; vertical-align: top\">0.217579</td>\n",
       "        <td style=\"padding-left: 1em; padding-right: 1em; text-align: center; vertical-align: top\">-0.063687</td>\n",
       "        <td style=\"padding-left: 1em; padding-right: 1em; text-align: center; vertical-align: top\">0.511003</td>\n",
       "        <td style=\"padding-left: 1em; padding-right: 1em; text-align: center; vertical-align: top\">0.418021</td>\n",
       "        <td style=\"padding-left: 1em; padding-right: 1em; text-align: center; vertical-align: top\">0.118892</td>\n",
       "        <td style=\"padding-left: 1em; padding-right: 1em; text-align: center; vertical-align: top\">0.482267</td>\n",
       "    </tr>\n",
       "</table>\n",
       "<table frame=\"box\" rules=\"cols\">\n",
       "    <tr>\n",
       "        <th style=\"padding-left: 1em; padding-right: 1em; text-align: center\">src_deepWalk_22</th>\n",
       "        <th style=\"padding-left: 1em; padding-right: 1em; text-align: center\">src_deepWalk_23</th>\n",
       "        <th style=\"padding-left: 1em; padding-right: 1em; text-align: center\">src_deepWalk_24</th>\n",
       "        <th style=\"padding-left: 1em; padding-right: 1em; text-align: center\">src_deepWalk_25</th>\n",
       "        <th style=\"padding-left: 1em; padding-right: 1em; text-align: center\">src_deepWalk_26</th>\n",
       "        <th style=\"padding-left: 1em; padding-right: 1em; text-align: center\">src_deepWalk_27</th>\n",
       "        <th style=\"padding-left: 1em; padding-right: 1em; text-align: center\">src_deepWalk_28</th>\n",
       "        <th style=\"padding-left: 1em; padding-right: 1em; text-align: center\">...</th>\n",
       "    </tr>\n",
       "    <tr>\n",
       "        <td style=\"padding-left: 1em; padding-right: 1em; text-align: center; vertical-align: top\">0.060299</td>\n",
       "        <td style=\"padding-left: 1em; padding-right: 1em; text-align: center; vertical-align: top\">-0.098748</td>\n",
       "        <td style=\"padding-left: 1em; padding-right: 1em; text-align: center; vertical-align: top\">-0.197324</td>\n",
       "        <td style=\"padding-left: 1em; padding-right: 1em; text-align: center; vertical-align: top\">-0.032998</td>\n",
       "        <td style=\"padding-left: 1em; padding-right: 1em; text-align: center; vertical-align: top\">-0.953005</td>\n",
       "        <td style=\"padding-left: 1em; padding-right: 1em; text-align: center; vertical-align: top\">-0.670303</td>\n",
       "        <td style=\"padding-left: 1em; padding-right: 1em; text-align: center; vertical-align: top\">0.626118</td>\n",
       "        <td style=\"padding-left: 1em; padding-right: 1em; text-align: center; vertical-align: top\">...</td>\n",
       "    </tr>\n",
       "    <tr>\n",
       "        <td style=\"padding-left: 1em; padding-right: 1em; text-align: center; vertical-align: top\">0.060299</td>\n",
       "        <td style=\"padding-left: 1em; padding-right: 1em; text-align: center; vertical-align: top\">-0.098748</td>\n",
       "        <td style=\"padding-left: 1em; padding-right: 1em; text-align: center; vertical-align: top\">-0.197324</td>\n",
       "        <td style=\"padding-left: 1em; padding-right: 1em; text-align: center; vertical-align: top\">-0.032998</td>\n",
       "        <td style=\"padding-left: 1em; padding-right: 1em; text-align: center; vertical-align: top\">-0.953005</td>\n",
       "        <td style=\"padding-left: 1em; padding-right: 1em; text-align: center; vertical-align: top\">-0.670303</td>\n",
       "        <td style=\"padding-left: 1em; padding-right: 1em; text-align: center; vertical-align: top\">0.626118</td>\n",
       "        <td style=\"padding-left: 1em; padding-right: 1em; text-align: center; vertical-align: top\">...</td>\n",
       "    </tr>\n",
       "    <tr>\n",
       "        <td style=\"padding-left: 1em; padding-right: 1em; text-align: center; vertical-align: top\">0.060299</td>\n",
       "        <td style=\"padding-left: 1em; padding-right: 1em; text-align: center; vertical-align: top\">-0.098748</td>\n",
       "        <td style=\"padding-left: 1em; padding-right: 1em; text-align: center; vertical-align: top\">-0.197324</td>\n",
       "        <td style=\"padding-left: 1em; padding-right: 1em; text-align: center; vertical-align: top\">-0.032998</td>\n",
       "        <td style=\"padding-left: 1em; padding-right: 1em; text-align: center; vertical-align: top\">-0.953005</td>\n",
       "        <td style=\"padding-left: 1em; padding-right: 1em; text-align: center; vertical-align: top\">-0.670303</td>\n",
       "        <td style=\"padding-left: 1em; padding-right: 1em; text-align: center; vertical-align: top\">0.626118</td>\n",
       "        <td style=\"padding-left: 1em; padding-right: 1em; text-align: center; vertical-align: top\">...</td>\n",
       "    </tr>\n",
       "    <tr>\n",
       "        <td style=\"padding-left: 1em; padding-right: 1em; text-align: center; vertical-align: top\">0.060299</td>\n",
       "        <td style=\"padding-left: 1em; padding-right: 1em; text-align: center; vertical-align: top\">-0.098748</td>\n",
       "        <td style=\"padding-left: 1em; padding-right: 1em; text-align: center; vertical-align: top\">-0.197324</td>\n",
       "        <td style=\"padding-left: 1em; padding-right: 1em; text-align: center; vertical-align: top\">-0.032998</td>\n",
       "        <td style=\"padding-left: 1em; padding-right: 1em; text-align: center; vertical-align: top\">-0.953005</td>\n",
       "        <td style=\"padding-left: 1em; padding-right: 1em; text-align: center; vertical-align: top\">-0.670303</td>\n",
       "        <td style=\"padding-left: 1em; padding-right: 1em; text-align: center; vertical-align: top\">0.626118</td>\n",
       "        <td style=\"padding-left: 1em; padding-right: 1em; text-align: center; vertical-align: top\">...</td>\n",
       "    </tr>\n",
       "    <tr>\n",
       "        <td style=\"padding-left: 1em; padding-right: 1em; text-align: center; vertical-align: top\">0.060299</td>\n",
       "        <td style=\"padding-left: 1em; padding-right: 1em; text-align: center; vertical-align: top\">-0.098748</td>\n",
       "        <td style=\"padding-left: 1em; padding-right: 1em; text-align: center; vertical-align: top\">-0.197324</td>\n",
       "        <td style=\"padding-left: 1em; padding-right: 1em; text-align: center; vertical-align: top\">-0.032998</td>\n",
       "        <td style=\"padding-left: 1em; padding-right: 1em; text-align: center; vertical-align: top\">-0.953005</td>\n",
       "        <td style=\"padding-left: 1em; padding-right: 1em; text-align: center; vertical-align: top\">-0.670303</td>\n",
       "        <td style=\"padding-left: 1em; padding-right: 1em; text-align: center; vertical-align: top\">0.626118</td>\n",
       "        <td style=\"padding-left: 1em; padding-right: 1em; text-align: center; vertical-align: top\">...</td>\n",
       "    </tr>\n",
       "    <tr>\n",
       "        <td style=\"padding-left: 1em; padding-right: 1em; text-align: center; vertical-align: top\">0.060299</td>\n",
       "        <td style=\"padding-left: 1em; padding-right: 1em; text-align: center; vertical-align: top\">-0.098748</td>\n",
       "        <td style=\"padding-left: 1em; padding-right: 1em; text-align: center; vertical-align: top\">-0.197324</td>\n",
       "        <td style=\"padding-left: 1em; padding-right: 1em; text-align: center; vertical-align: top\">-0.032998</td>\n",
       "        <td style=\"padding-left: 1em; padding-right: 1em; text-align: center; vertical-align: top\">-0.953005</td>\n",
       "        <td style=\"padding-left: 1em; padding-right: 1em; text-align: center; vertical-align: top\">-0.670303</td>\n",
       "        <td style=\"padding-left: 1em; padding-right: 1em; text-align: center; vertical-align: top\">0.626118</td>\n",
       "        <td style=\"padding-left: 1em; padding-right: 1em; text-align: center; vertical-align: top\">...</td>\n",
       "    </tr>\n",
       "    <tr>\n",
       "        <td style=\"padding-left: 1em; padding-right: 1em; text-align: center; vertical-align: top\">0.060299</td>\n",
       "        <td style=\"padding-left: 1em; padding-right: 1em; text-align: center; vertical-align: top\">-0.098748</td>\n",
       "        <td style=\"padding-left: 1em; padding-right: 1em; text-align: center; vertical-align: top\">-0.197324</td>\n",
       "        <td style=\"padding-left: 1em; padding-right: 1em; text-align: center; vertical-align: top\">-0.032998</td>\n",
       "        <td style=\"padding-left: 1em; padding-right: 1em; text-align: center; vertical-align: top\">-0.953005</td>\n",
       "        <td style=\"padding-left: 1em; padding-right: 1em; text-align: center; vertical-align: top\">-0.670303</td>\n",
       "        <td style=\"padding-left: 1em; padding-right: 1em; text-align: center; vertical-align: top\">0.626118</td>\n",
       "        <td style=\"padding-left: 1em; padding-right: 1em; text-align: center; vertical-align: top\">...</td>\n",
       "    </tr>\n",
       "    <tr>\n",
       "        <td style=\"padding-left: 1em; padding-right: 1em; text-align: center; vertical-align: top\">0.060299</td>\n",
       "        <td style=\"padding-left: 1em; padding-right: 1em; text-align: center; vertical-align: top\">-0.098748</td>\n",
       "        <td style=\"padding-left: 1em; padding-right: 1em; text-align: center; vertical-align: top\">-0.197324</td>\n",
       "        <td style=\"padding-left: 1em; padding-right: 1em; text-align: center; vertical-align: top\">-0.032998</td>\n",
       "        <td style=\"padding-left: 1em; padding-right: 1em; text-align: center; vertical-align: top\">-0.953005</td>\n",
       "        <td style=\"padding-left: 1em; padding-right: 1em; text-align: center; vertical-align: top\">-0.670303</td>\n",
       "        <td style=\"padding-left: 1em; padding-right: 1em; text-align: center; vertical-align: top\">0.626118</td>\n",
       "        <td style=\"padding-left: 1em; padding-right: 1em; text-align: center; vertical-align: top\">...</td>\n",
       "    </tr>\n",
       "    <tr>\n",
       "        <td style=\"padding-left: 1em; padding-right: 1em; text-align: center; vertical-align: top\">0.060299</td>\n",
       "        <td style=\"padding-left: 1em; padding-right: 1em; text-align: center; vertical-align: top\">-0.098748</td>\n",
       "        <td style=\"padding-left: 1em; padding-right: 1em; text-align: center; vertical-align: top\">-0.197324</td>\n",
       "        <td style=\"padding-left: 1em; padding-right: 1em; text-align: center; vertical-align: top\">-0.032998</td>\n",
       "        <td style=\"padding-left: 1em; padding-right: 1em; text-align: center; vertical-align: top\">-0.953005</td>\n",
       "        <td style=\"padding-left: 1em; padding-right: 1em; text-align: center; vertical-align: top\">-0.670303</td>\n",
       "        <td style=\"padding-left: 1em; padding-right: 1em; text-align: center; vertical-align: top\">0.626118</td>\n",
       "        <td style=\"padding-left: 1em; padding-right: 1em; text-align: center; vertical-align: top\">...</td>\n",
       "    </tr>\n",
       "    <tr>\n",
       "        <td style=\"padding-left: 1em; padding-right: 1em; text-align: center; vertical-align: top\">0.060299</td>\n",
       "        <td style=\"padding-left: 1em; padding-right: 1em; text-align: center; vertical-align: top\">-0.098748</td>\n",
       "        <td style=\"padding-left: 1em; padding-right: 1em; text-align: center; vertical-align: top\">-0.197324</td>\n",
       "        <td style=\"padding-left: 1em; padding-right: 1em; text-align: center; vertical-align: top\">-0.032998</td>\n",
       "        <td style=\"padding-left: 1em; padding-right: 1em; text-align: center; vertical-align: top\">-0.953005</td>\n",
       "        <td style=\"padding-left: 1em; padding-right: 1em; text-align: center; vertical-align: top\">-0.670303</td>\n",
       "        <td style=\"padding-left: 1em; padding-right: 1em; text-align: center; vertical-align: top\">0.626118</td>\n",
       "        <td style=\"padding-left: 1em; padding-right: 1em; text-align: center; vertical-align: top\">...</td>\n",
       "    </tr>\n",
       "</table>\n",
       "[2769706 rows x 154 columns]<br/>Note: Only the head of the SFrame is printed.<br/>You can use print_rows(num_rows=m, num_columns=n) to print more rows and columns.\n",
       "</div>"
      ],
      "text/plain": [
       "Columns:\n",
       "\tsrc\tint\n",
       "\tdst\tint\n",
       "\tclass\tint\n",
       "\tsrc_out_vertices\tlist\n",
       "\tsrc_in_vertices\tlist\n",
       "\tsrc_in&out\tlist\n",
       "\tsrc_in|out\tlist\n",
       "\tsrc_in_degree\tint\n",
       "\tsrc_out_degree\tint\n",
       "\tsrc_out&in_degree\tint\n",
       "\tsrc_out|in_degree\tint\n",
       "\tsrc_deepWalk_0\tfloat\n",
       "\tsrc_deepWalk_1\tfloat\n",
       "\tsrc_deepWalk_2\tfloat\n",
       "\tsrc_deepWalk_3\tfloat\n",
       "\tsrc_deepWalk_4\tfloat\n",
       "\tsrc_deepWalk_5\tfloat\n",
       "\tsrc_deepWalk_6\tfloat\n",
       "\tsrc_deepWalk_7\tfloat\n",
       "\tsrc_deepWalk_8\tfloat\n",
       "\tsrc_deepWalk_9\tfloat\n",
       "\tsrc_deepWalk_10\tfloat\n",
       "\tsrc_deepWalk_11\tfloat\n",
       "\tsrc_deepWalk_12\tfloat\n",
       "\tsrc_deepWalk_13\tfloat\n",
       "\tsrc_deepWalk_14\tfloat\n",
       "\tsrc_deepWalk_15\tfloat\n",
       "\tsrc_deepWalk_16\tfloat\n",
       "\tsrc_deepWalk_17\tfloat\n",
       "\tsrc_deepWalk_18\tfloat\n",
       "\tsrc_deepWalk_19\tfloat\n",
       "\tsrc_deepWalk_20\tfloat\n",
       "\tsrc_deepWalk_21\tfloat\n",
       "\tsrc_deepWalk_22\tfloat\n",
       "\tsrc_deepWalk_23\tfloat\n",
       "\tsrc_deepWalk_24\tfloat\n",
       "\tsrc_deepWalk_25\tfloat\n",
       "\tsrc_deepWalk_26\tfloat\n",
       "\tsrc_deepWalk_27\tfloat\n",
       "\tsrc_deepWalk_28\tfloat\n",
       "\tsrc_deepWalk_29\tfloat\n",
       "\tsrc_deepWalk_30\tfloat\n",
       "\tsrc_deepWalk_31\tfloat\n",
       "\tsrc_deepWalk_32\tfloat\n",
       "\tsrc_deepWalk_33\tfloat\n",
       "\tsrc_deepWalk_34\tfloat\n",
       "\tsrc_deepWalk_35\tfloat\n",
       "\tsrc_deepWalk_36\tfloat\n",
       "\tsrc_deepWalk_37\tfloat\n",
       "\tsrc_deepWalk_38\tfloat\n",
       "\tsrc_deepWalk_39\tfloat\n",
       "\tsrc_deepWalk_40\tfloat\n",
       "\tsrc_deepWalk_41\tfloat\n",
       "\tsrc_deepWalk_42\tfloat\n",
       "\tsrc_deepWalk_43\tfloat\n",
       "\tsrc_deepWalk_44\tfloat\n",
       "\tsrc_deepWalk_45\tfloat\n",
       "\tsrc_deepWalk_46\tfloat\n",
       "\tsrc_deepWalk_47\tfloat\n",
       "\tsrc_deepWalk_48\tfloat\n",
       "\tsrc_deepWalk_49\tfloat\n",
       "\tsrc_deepWalk_50\tfloat\n",
       "\tsrc_deepWalk_51\tfloat\n",
       "\tsrc_deepWalk_52\tfloat\n",
       "\tsrc_deepWalk_53\tfloat\n",
       "\tsrc_deepWalk_54\tfloat\n",
       "\tsrc_deepWalk_55\tfloat\n",
       "\tsrc_deepWalk_56\tfloat\n",
       "\tsrc_deepWalk_57\tfloat\n",
       "\tsrc_deepWalk_58\tfloat\n",
       "\tsrc_deepWalk_59\tfloat\n",
       "\tsrc_deepWalk_60\tfloat\n",
       "\tsrc_deepWalk_61\tfloat\n",
       "\tsrc_deepWalk_62\tfloat\n",
       "\tsrc_deepWalk_63\tfloat\n",
       "\tdst_out_vertices\tlist\n",
       "\tdst_in_vertices\tlist\n",
       "\tdst_in&out\tlist\n",
       "\tdst_in|out\tlist\n",
       "\tdst_in_degree\tint\n",
       "\tdst_out_degree\tint\n",
       "\tdst_out&in_degree\tint\n",
       "\tdst_out|in_degree\tint\n",
       "\tdst_deepWalk_0\tfloat\n",
       "\tdst_deepWalk_1\tfloat\n",
       "\tdst_deepWalk_2\tfloat\n",
       "\tdst_deepWalk_3\tfloat\n",
       "\tdst_deepWalk_4\tfloat\n",
       "\tdst_deepWalk_5\tfloat\n",
       "\tdst_deepWalk_6\tfloat\n",
       "\tdst_deepWalk_7\tfloat\n",
       "\tdst_deepWalk_8\tfloat\n",
       "\tdst_deepWalk_9\tfloat\n",
       "\tdst_deepWalk_10\tfloat\n",
       "\tdst_deepWalk_11\tfloat\n",
       "\tdst_deepWalk_12\tfloat\n",
       "\tdst_deepWalk_13\tfloat\n",
       "\tdst_deepWalk_14\tfloat\n",
       "\tdst_deepWalk_15\tfloat\n",
       "\tdst_deepWalk_16\tfloat\n",
       "\tdst_deepWalk_17\tfloat\n",
       "\tdst_deepWalk_18\tfloat\n",
       "\tdst_deepWalk_19\tfloat\n",
       "\tdst_deepWalk_20\tfloat\n",
       "\tdst_deepWalk_21\tfloat\n",
       "\tdst_deepWalk_22\tfloat\n",
       "\tdst_deepWalk_23\tfloat\n",
       "\tdst_deepWalk_24\tfloat\n",
       "\tdst_deepWalk_25\tfloat\n",
       "\tdst_deepWalk_26\tfloat\n",
       "\tdst_deepWalk_27\tfloat\n",
       "\tdst_deepWalk_28\tfloat\n",
       "\tdst_deepWalk_29\tfloat\n",
       "\tdst_deepWalk_30\tfloat\n",
       "\tdst_deepWalk_31\tfloat\n",
       "\tdst_deepWalk_32\tfloat\n",
       "\tdst_deepWalk_33\tfloat\n",
       "\tdst_deepWalk_34\tfloat\n",
       "\tdst_deepWalk_35\tfloat\n",
       "\tdst_deepWalk_36\tfloat\n",
       "\tdst_deepWalk_37\tfloat\n",
       "\tdst_deepWalk_38\tfloat\n",
       "\tdst_deepWalk_39\tfloat\n",
       "\tdst_deepWalk_40\tfloat\n",
       "\tdst_deepWalk_41\tfloat\n",
       "\tdst_deepWalk_42\tfloat\n",
       "\tdst_deepWalk_43\tfloat\n",
       "\tdst_deepWalk_44\tfloat\n",
       "\tdst_deepWalk_45\tfloat\n",
       "\tdst_deepWalk_46\tfloat\n",
       "\tdst_deepWalk_47\tfloat\n",
       "\tdst_deepWalk_48\tfloat\n",
       "\tdst_deepWalk_49\tfloat\n",
       "\tdst_deepWalk_50\tfloat\n",
       "\tdst_deepWalk_51\tfloat\n",
       "\tdst_deepWalk_52\tfloat\n",
       "\tdst_deepWalk_53\tfloat\n",
       "\tdst_deepWalk_54\tfloat\n",
       "\tdst_deepWalk_55\tfloat\n",
       "\tdst_deepWalk_56\tfloat\n",
       "\tdst_deepWalk_57\tfloat\n",
       "\tdst_deepWalk_58\tfloat\n",
       "\tdst_deepWalk_59\tfloat\n",
       "\tdst_deepWalk_60\tfloat\n",
       "\tdst_deepWalk_61\tfloat\n",
       "\tdst_deepWalk_62\tfloat\n",
       "\tdst_deepWalk_63\tfloat\n",
       "\tcommon_in_vertices\tint\n",
       "\tcommon_out_vertices\tint\n",
       "\tJaccar\tfloat\n",
       "\tcommon_in_vertices_lst\tlist\n",
       "\tcommon_out_vertices_lst\tlist\n",
       "\tAdamic_Adar\tfloat\n",
       "\tdw_product\tfloat\n",
       "\n",
       "Rows: 2769706\n",
       "\n",
       "Data:\n",
       "+--------+--------+-------+-------------------------------+\n",
       "|  src   |  dst   | class |        src_out_vertices       |\n",
       "+--------+--------+-------+-------------------------------+\n",
       "| 211023 | 159269 |   1   | [230773, 57470, 76015, 189... |\n",
       "| 211023 | 189714 |   1   | [230773, 57470, 76015, 189... |\n",
       "| 211023 | 244758 |   0   | [230773, 57470, 76015, 189... |\n",
       "| 211023 | 57470  |   0   | [230773, 57470, 76015, 189... |\n",
       "| 211023 | 233626 |   1   | [230773, 57470, 76015, 189... |\n",
       "| 211023 | 252560 |   0   | [230773, 57470, 76015, 189... |\n",
       "| 211023 | 230773 |   0   | [230773, 57470, 76015, 189... |\n",
       "| 211023 | 198886 |   1   | [230773, 57470, 76015, 189... |\n",
       "| 211023 | 224381 |   1   | [230773, 57470, 76015, 189... |\n",
       "| 211023 | 143972 |   0   | [230773, 57470, 76015, 189... |\n",
       "+--------+--------+-------+-------------------------------+\n",
       "+-------------------------------+------------------+\n",
       "|        src_in_vertices        |    src_in&out    |\n",
       "+-------------------------------+------------------+\n",
       "| [230499, 181303, 13670, 23... | [233626, 198886] |\n",
       "| [230499, 181303, 13670, 23... | [233626, 198886] |\n",
       "| [230499, 181303, 13670, 23... | [233626, 198886] |\n",
       "| [230499, 181303, 13670, 23... | [233626, 198886] |\n",
       "| [230499, 181303, 13670, 23... | [233626, 198886] |\n",
       "| [230499, 181303, 13670, 23... | [233626, 198886] |\n",
       "| [230499, 181303, 13670, 23... | [233626, 198886] |\n",
       "| [230499, 181303, 13670, 23... | [233626, 198886] |\n",
       "| [230499, 181303, 13670, 23... | [233626, 198886] |\n",
       "| [230499, 181303, 13670, 23... | [233626, 198886] |\n",
       "+-------------------------------+------------------+\n",
       "+-------------------------------+---------------+----------------+-------------------+\n",
       "|           src_in|out          | src_in_degree | src_out_degree | src_out&in_degree |\n",
       "+-------------------------------+---------------+----------------+-------------------+\n",
       "| [57538, 13670, 161931, 248... |       13      |       16       |         2         |\n",
       "| [57538, 13670, 161931, 248... |       13      |       16       |         2         |\n",
       "| [57538, 13670, 161931, 248... |       13      |       16       |         2         |\n",
       "| [57538, 13670, 161931, 248... |       13      |       16       |         2         |\n",
       "| [57538, 13670, 161931, 248... |       13      |       16       |         2         |\n",
       "| [57538, 13670, 161931, 248... |       13      |       16       |         2         |\n",
       "| [57538, 13670, 161931, 248... |       13      |       16       |         2         |\n",
       "| [57538, 13670, 161931, 248... |       13      |       16       |         2         |\n",
       "| [57538, 13670, 161931, 248... |       13      |       16       |         2         |\n",
       "| [57538, 13670, 161931, 248... |       13      |       16       |         2         |\n",
       "+-------------------------------+---------------+----------------+-------------------+\n",
       "+-------------------+----------------+----------------+----------------+\n",
       "| src_out|in_degree | src_deepWalk_0 | src_deepWalk_1 | src_deepWalk_2 |\n",
       "+-------------------+----------------+----------------+----------------+\n",
       "|         27        |    -0.05066    |    0.227474    |   -1.163211    |\n",
       "|         27        |    -0.05066    |    0.227474    |   -1.163211    |\n",
       "|         27        |    -0.05066    |    0.227474    |   -1.163211    |\n",
       "|         27        |    -0.05066    |    0.227474    |   -1.163211    |\n",
       "|         27        |    -0.05066    |    0.227474    |   -1.163211    |\n",
       "|         27        |    -0.05066    |    0.227474    |   -1.163211    |\n",
       "|         27        |    -0.05066    |    0.227474    |   -1.163211    |\n",
       "|         27        |    -0.05066    |    0.227474    |   -1.163211    |\n",
       "|         27        |    -0.05066    |    0.227474    |   -1.163211    |\n",
       "|         27        |    -0.05066    |    0.227474    |   -1.163211    |\n",
       "+-------------------+----------------+----------------+----------------+\n",
       "+----------------+----------------+----------------+----------------+----------------+\n",
       "| src_deepWalk_3 | src_deepWalk_4 | src_deepWalk_5 | src_deepWalk_6 | src_deepWalk_7 |\n",
       "+----------------+----------------+----------------+----------------+----------------+\n",
       "|   -0.326046    |    0.253923    |   -0.198485    |   -0.997009    |   -0.603977    |\n",
       "|   -0.326046    |    0.253923    |   -0.198485    |   -0.997009    |   -0.603977    |\n",
       "|   -0.326046    |    0.253923    |   -0.198485    |   -0.997009    |   -0.603977    |\n",
       "|   -0.326046    |    0.253923    |   -0.198485    |   -0.997009    |   -0.603977    |\n",
       "|   -0.326046    |    0.253923    |   -0.198485    |   -0.997009    |   -0.603977    |\n",
       "|   -0.326046    |    0.253923    |   -0.198485    |   -0.997009    |   -0.603977    |\n",
       "|   -0.326046    |    0.253923    |   -0.198485    |   -0.997009    |   -0.603977    |\n",
       "|   -0.326046    |    0.253923    |   -0.198485    |   -0.997009    |   -0.603977    |\n",
       "|   -0.326046    |    0.253923    |   -0.198485    |   -0.997009    |   -0.603977    |\n",
       "|   -0.326046    |    0.253923    |   -0.198485    |   -0.997009    |   -0.603977    |\n",
       "+----------------+----------------+----------------+----------------+----------------+\n",
       "+----------------+-----+\n",
       "| src_deepWalk_8 | ... |\n",
       "+----------------+-----+\n",
       "|   -0.420289    | ... |\n",
       "|   -0.420289    | ... |\n",
       "|   -0.420289    | ... |\n",
       "|   -0.420289    | ... |\n",
       "|   -0.420289    | ... |\n",
       "|   -0.420289    | ... |\n",
       "|   -0.420289    | ... |\n",
       "|   -0.420289    | ... |\n",
       "|   -0.420289    | ... |\n",
       "|   -0.420289    | ... |\n",
       "+----------------+-----+\n",
       "[2769706 rows x 154 columns]\n",
       "Note: Only the head of the SFrame is printed.\n",
       "You can use print_rows(num_rows=m, num_columns=n) to print more rows and columns."
      ]
     },
     "execution_count": 48,
     "metadata": {},
     "output_type": "execute_result"
    }
   ],
   "source": [
    "edges.add_column(dw_product, name='dw_product')"
   ]
  },
  {
   "cell_type": "code",
   "execution_count": 44,
   "metadata": {
    "collapsed": false
   },
   "outputs": [
    {
     "data": {
      "text/html": [
       "<div style=\"max-height:1000px;max-width:1500px;overflow:auto;\"><table frame=\"box\" rules=\"cols\">\n",
       "    <tr>\n",
       "        <th style=\"padding-left: 1em; padding-right: 1em; text-align: center\">src</th>\n",
       "        <th style=\"padding-left: 1em; padding-right: 1em; text-align: center\">dst</th>\n",
       "        <th style=\"padding-left: 1em; padding-right: 1em; text-align: center\">class</th>\n",
       "        <th style=\"padding-left: 1em; padding-right: 1em; text-align: center\">src_out_vertices</th>\n",
       "        <th style=\"padding-left: 1em; padding-right: 1em; text-align: center\">src_in_vertices</th>\n",
       "        <th style=\"padding-left: 1em; padding-right: 1em; text-align: center\">src_in&amp;out</th>\n",
       "    </tr>\n",
       "    <tr>\n",
       "        <td style=\"padding-left: 1em; padding-right: 1em; text-align: center; vertical-align: top\">211023</td>\n",
       "        <td style=\"padding-left: 1em; padding-right: 1em; text-align: center; vertical-align: top\">159269</td>\n",
       "        <td style=\"padding-left: 1em; padding-right: 1em; text-align: center; vertical-align: top\">1</td>\n",
       "        <td style=\"padding-left: 1em; padding-right: 1em; text-align: center; vertical-align: top\">[230773, 57470, 76015,<br>189713, 233626, 252560, ...</td>\n",
       "        <td style=\"padding-left: 1em; padding-right: 1em; text-align: center; vertical-align: top\">[230499, 181303, 13670,<br>236267, 233626, 248527, ...</td>\n",
       "        <td style=\"padding-left: 1em; padding-right: 1em; text-align: center; vertical-align: top\">[233626, 198886]</td>\n",
       "    </tr>\n",
       "    <tr>\n",
       "        <td style=\"padding-left: 1em; padding-right: 1em; text-align: center; vertical-align: top\">211023</td>\n",
       "        <td style=\"padding-left: 1em; padding-right: 1em; text-align: center; vertical-align: top\">189714</td>\n",
       "        <td style=\"padding-left: 1em; padding-right: 1em; text-align: center; vertical-align: top\">1</td>\n",
       "        <td style=\"padding-left: 1em; padding-right: 1em; text-align: center; vertical-align: top\">[230773, 57470, 76015,<br>189713, 233626, 252560, ...</td>\n",
       "        <td style=\"padding-left: 1em; padding-right: 1em; text-align: center; vertical-align: top\">[230499, 181303, 13670,<br>236267, 233626, 248527, ...</td>\n",
       "        <td style=\"padding-left: 1em; padding-right: 1em; text-align: center; vertical-align: top\">[233626, 198886]</td>\n",
       "    </tr>\n",
       "    <tr>\n",
       "        <td style=\"padding-left: 1em; padding-right: 1em; text-align: center; vertical-align: top\">211023</td>\n",
       "        <td style=\"padding-left: 1em; padding-right: 1em; text-align: center; vertical-align: top\">244758</td>\n",
       "        <td style=\"padding-left: 1em; padding-right: 1em; text-align: center; vertical-align: top\">0</td>\n",
       "        <td style=\"padding-left: 1em; padding-right: 1em; text-align: center; vertical-align: top\">[230773, 57470, 76015,<br>189713, 233626, 252560, ...</td>\n",
       "        <td style=\"padding-left: 1em; padding-right: 1em; text-align: center; vertical-align: top\">[230499, 181303, 13670,<br>236267, 233626, 248527, ...</td>\n",
       "        <td style=\"padding-left: 1em; padding-right: 1em; text-align: center; vertical-align: top\">[233626, 198886]</td>\n",
       "    </tr>\n",
       "    <tr>\n",
       "        <td style=\"padding-left: 1em; padding-right: 1em; text-align: center; vertical-align: top\">211023</td>\n",
       "        <td style=\"padding-left: 1em; padding-right: 1em; text-align: center; vertical-align: top\">57470</td>\n",
       "        <td style=\"padding-left: 1em; padding-right: 1em; text-align: center; vertical-align: top\">0</td>\n",
       "        <td style=\"padding-left: 1em; padding-right: 1em; text-align: center; vertical-align: top\">[230773, 57470, 76015,<br>189713, 233626, 252560, ...</td>\n",
       "        <td style=\"padding-left: 1em; padding-right: 1em; text-align: center; vertical-align: top\">[230499, 181303, 13670,<br>236267, 233626, 248527, ...</td>\n",
       "        <td style=\"padding-left: 1em; padding-right: 1em; text-align: center; vertical-align: top\">[233626, 198886]</td>\n",
       "    </tr>\n",
       "    <tr>\n",
       "        <td style=\"padding-left: 1em; padding-right: 1em; text-align: center; vertical-align: top\">211023</td>\n",
       "        <td style=\"padding-left: 1em; padding-right: 1em; text-align: center; vertical-align: top\">233626</td>\n",
       "        <td style=\"padding-left: 1em; padding-right: 1em; text-align: center; vertical-align: top\">1</td>\n",
       "        <td style=\"padding-left: 1em; padding-right: 1em; text-align: center; vertical-align: top\">[230773, 57470, 76015,<br>189713, 233626, 252560, ...</td>\n",
       "        <td style=\"padding-left: 1em; padding-right: 1em; text-align: center; vertical-align: top\">[230499, 181303, 13670,<br>236267, 233626, 248527, ...</td>\n",
       "        <td style=\"padding-left: 1em; padding-right: 1em; text-align: center; vertical-align: top\">[233626, 198886]</td>\n",
       "    </tr>\n",
       "    <tr>\n",
       "        <td style=\"padding-left: 1em; padding-right: 1em; text-align: center; vertical-align: top\">211023</td>\n",
       "        <td style=\"padding-left: 1em; padding-right: 1em; text-align: center; vertical-align: top\">252560</td>\n",
       "        <td style=\"padding-left: 1em; padding-right: 1em; text-align: center; vertical-align: top\">0</td>\n",
       "        <td style=\"padding-left: 1em; padding-right: 1em; text-align: center; vertical-align: top\">[230773, 57470, 76015,<br>189713, 233626, 252560, ...</td>\n",
       "        <td style=\"padding-left: 1em; padding-right: 1em; text-align: center; vertical-align: top\">[230499, 181303, 13670,<br>236267, 233626, 248527, ...</td>\n",
       "        <td style=\"padding-left: 1em; padding-right: 1em; text-align: center; vertical-align: top\">[233626, 198886]</td>\n",
       "    </tr>\n",
       "    <tr>\n",
       "        <td style=\"padding-left: 1em; padding-right: 1em; text-align: center; vertical-align: top\">211023</td>\n",
       "        <td style=\"padding-left: 1em; padding-right: 1em; text-align: center; vertical-align: top\">230773</td>\n",
       "        <td style=\"padding-left: 1em; padding-right: 1em; text-align: center; vertical-align: top\">0</td>\n",
       "        <td style=\"padding-left: 1em; padding-right: 1em; text-align: center; vertical-align: top\">[230773, 57470, 76015,<br>189713, 233626, 252560, ...</td>\n",
       "        <td style=\"padding-left: 1em; padding-right: 1em; text-align: center; vertical-align: top\">[230499, 181303, 13670,<br>236267, 233626, 248527, ...</td>\n",
       "        <td style=\"padding-left: 1em; padding-right: 1em; text-align: center; vertical-align: top\">[233626, 198886]</td>\n",
       "    </tr>\n",
       "    <tr>\n",
       "        <td style=\"padding-left: 1em; padding-right: 1em; text-align: center; vertical-align: top\">211023</td>\n",
       "        <td style=\"padding-left: 1em; padding-right: 1em; text-align: center; vertical-align: top\">198886</td>\n",
       "        <td style=\"padding-left: 1em; padding-right: 1em; text-align: center; vertical-align: top\">1</td>\n",
       "        <td style=\"padding-left: 1em; padding-right: 1em; text-align: center; vertical-align: top\">[230773, 57470, 76015,<br>189713, 233626, 252560, ...</td>\n",
       "        <td style=\"padding-left: 1em; padding-right: 1em; text-align: center; vertical-align: top\">[230499, 181303, 13670,<br>236267, 233626, 248527, ...</td>\n",
       "        <td style=\"padding-left: 1em; padding-right: 1em; text-align: center; vertical-align: top\">[233626, 198886]</td>\n",
       "    </tr>\n",
       "    <tr>\n",
       "        <td style=\"padding-left: 1em; padding-right: 1em; text-align: center; vertical-align: top\">211023</td>\n",
       "        <td style=\"padding-left: 1em; padding-right: 1em; text-align: center; vertical-align: top\">224381</td>\n",
       "        <td style=\"padding-left: 1em; padding-right: 1em; text-align: center; vertical-align: top\">1</td>\n",
       "        <td style=\"padding-left: 1em; padding-right: 1em; text-align: center; vertical-align: top\">[230773, 57470, 76015,<br>189713, 233626, 252560, ...</td>\n",
       "        <td style=\"padding-left: 1em; padding-right: 1em; text-align: center; vertical-align: top\">[230499, 181303, 13670,<br>236267, 233626, 248527, ...</td>\n",
       "        <td style=\"padding-left: 1em; padding-right: 1em; text-align: center; vertical-align: top\">[233626, 198886]</td>\n",
       "    </tr>\n",
       "    <tr>\n",
       "        <td style=\"padding-left: 1em; padding-right: 1em; text-align: center; vertical-align: top\">211023</td>\n",
       "        <td style=\"padding-left: 1em; padding-right: 1em; text-align: center; vertical-align: top\">143972</td>\n",
       "        <td style=\"padding-left: 1em; padding-right: 1em; text-align: center; vertical-align: top\">0</td>\n",
       "        <td style=\"padding-left: 1em; padding-right: 1em; text-align: center; vertical-align: top\">[230773, 57470, 76015,<br>189713, 233626, 252560, ...</td>\n",
       "        <td style=\"padding-left: 1em; padding-right: 1em; text-align: center; vertical-align: top\">[230499, 181303, 13670,<br>236267, 233626, 248527, ...</td>\n",
       "        <td style=\"padding-left: 1em; padding-right: 1em; text-align: center; vertical-align: top\">[233626, 198886]</td>\n",
       "    </tr>\n",
       "</table>\n",
       "<table frame=\"box\" rules=\"cols\">\n",
       "    <tr>\n",
       "        <th style=\"padding-left: 1em; padding-right: 1em; text-align: center\">src_in|out</th>\n",
       "        <th style=\"padding-left: 1em; padding-right: 1em; text-align: center\">src_in_degree</th>\n",
       "        <th style=\"padding-left: 1em; padding-right: 1em; text-align: center\">src_out_degree</th>\n",
       "        <th style=\"padding-left: 1em; padding-right: 1em; text-align: center\">src_out&amp;in_degree</th>\n",
       "        <th style=\"padding-left: 1em; padding-right: 1em; text-align: center\">src_out|in_degree</th>\n",
       "        <th style=\"padding-left: 1em; padding-right: 1em; text-align: center\">src_deepWalk_0</th>\n",
       "    </tr>\n",
       "    <tr>\n",
       "        <td style=\"padding-left: 1em; padding-right: 1em; text-align: center; vertical-align: top\">[57538, 13670, 161931,<br>248527, 252560, 189713, ...</td>\n",
       "        <td style=\"padding-left: 1em; padding-right: 1em; text-align: center; vertical-align: top\">13</td>\n",
       "        <td style=\"padding-left: 1em; padding-right: 1em; text-align: center; vertical-align: top\">16</td>\n",
       "        <td style=\"padding-left: 1em; padding-right: 1em; text-align: center; vertical-align: top\">2</td>\n",
       "        <td style=\"padding-left: 1em; padding-right: 1em; text-align: center; vertical-align: top\">27</td>\n",
       "        <td style=\"padding-left: 1em; padding-right: 1em; text-align: center; vertical-align: top\">-0.05066</td>\n",
       "    </tr>\n",
       "    <tr>\n",
       "        <td style=\"padding-left: 1em; padding-right: 1em; text-align: center; vertical-align: top\">[57538, 13670, 161931,<br>248527, 252560, 189713, ...</td>\n",
       "        <td style=\"padding-left: 1em; padding-right: 1em; text-align: center; vertical-align: top\">13</td>\n",
       "        <td style=\"padding-left: 1em; padding-right: 1em; text-align: center; vertical-align: top\">16</td>\n",
       "        <td style=\"padding-left: 1em; padding-right: 1em; text-align: center; vertical-align: top\">2</td>\n",
       "        <td style=\"padding-left: 1em; padding-right: 1em; text-align: center; vertical-align: top\">27</td>\n",
       "        <td style=\"padding-left: 1em; padding-right: 1em; text-align: center; vertical-align: top\">-0.05066</td>\n",
       "    </tr>\n",
       "    <tr>\n",
       "        <td style=\"padding-left: 1em; padding-right: 1em; text-align: center; vertical-align: top\">[57538, 13670, 161931,<br>248527, 252560, 189713, ...</td>\n",
       "        <td style=\"padding-left: 1em; padding-right: 1em; text-align: center; vertical-align: top\">13</td>\n",
       "        <td style=\"padding-left: 1em; padding-right: 1em; text-align: center; vertical-align: top\">16</td>\n",
       "        <td style=\"padding-left: 1em; padding-right: 1em; text-align: center; vertical-align: top\">2</td>\n",
       "        <td style=\"padding-left: 1em; padding-right: 1em; text-align: center; vertical-align: top\">27</td>\n",
       "        <td style=\"padding-left: 1em; padding-right: 1em; text-align: center; vertical-align: top\">-0.05066</td>\n",
       "    </tr>\n",
       "    <tr>\n",
       "        <td style=\"padding-left: 1em; padding-right: 1em; text-align: center; vertical-align: top\">[57538, 13670, 161931,<br>248527, 252560, 189713, ...</td>\n",
       "        <td style=\"padding-left: 1em; padding-right: 1em; text-align: center; vertical-align: top\">13</td>\n",
       "        <td style=\"padding-left: 1em; padding-right: 1em; text-align: center; vertical-align: top\">16</td>\n",
       "        <td style=\"padding-left: 1em; padding-right: 1em; text-align: center; vertical-align: top\">2</td>\n",
       "        <td style=\"padding-left: 1em; padding-right: 1em; text-align: center; vertical-align: top\">27</td>\n",
       "        <td style=\"padding-left: 1em; padding-right: 1em; text-align: center; vertical-align: top\">-0.05066</td>\n",
       "    </tr>\n",
       "    <tr>\n",
       "        <td style=\"padding-left: 1em; padding-right: 1em; text-align: center; vertical-align: top\">[57538, 13670, 161931,<br>248527, 252560, 189713, ...</td>\n",
       "        <td style=\"padding-left: 1em; padding-right: 1em; text-align: center; vertical-align: top\">13</td>\n",
       "        <td style=\"padding-left: 1em; padding-right: 1em; text-align: center; vertical-align: top\">16</td>\n",
       "        <td style=\"padding-left: 1em; padding-right: 1em; text-align: center; vertical-align: top\">2</td>\n",
       "        <td style=\"padding-left: 1em; padding-right: 1em; text-align: center; vertical-align: top\">27</td>\n",
       "        <td style=\"padding-left: 1em; padding-right: 1em; text-align: center; vertical-align: top\">-0.05066</td>\n",
       "    </tr>\n",
       "    <tr>\n",
       "        <td style=\"padding-left: 1em; padding-right: 1em; text-align: center; vertical-align: top\">[57538, 13670, 161931,<br>248527, 252560, 189713, ...</td>\n",
       "        <td style=\"padding-left: 1em; padding-right: 1em; text-align: center; vertical-align: top\">13</td>\n",
       "        <td style=\"padding-left: 1em; padding-right: 1em; text-align: center; vertical-align: top\">16</td>\n",
       "        <td style=\"padding-left: 1em; padding-right: 1em; text-align: center; vertical-align: top\">2</td>\n",
       "        <td style=\"padding-left: 1em; padding-right: 1em; text-align: center; vertical-align: top\">27</td>\n",
       "        <td style=\"padding-left: 1em; padding-right: 1em; text-align: center; vertical-align: top\">-0.05066</td>\n",
       "    </tr>\n",
       "    <tr>\n",
       "        <td style=\"padding-left: 1em; padding-right: 1em; text-align: center; vertical-align: top\">[57538, 13670, 161931,<br>248527, 252560, 189713, ...</td>\n",
       "        <td style=\"padding-left: 1em; padding-right: 1em; text-align: center; vertical-align: top\">13</td>\n",
       "        <td style=\"padding-left: 1em; padding-right: 1em; text-align: center; vertical-align: top\">16</td>\n",
       "        <td style=\"padding-left: 1em; padding-right: 1em; text-align: center; vertical-align: top\">2</td>\n",
       "        <td style=\"padding-left: 1em; padding-right: 1em; text-align: center; vertical-align: top\">27</td>\n",
       "        <td style=\"padding-left: 1em; padding-right: 1em; text-align: center; vertical-align: top\">-0.05066</td>\n",
       "    </tr>\n",
       "    <tr>\n",
       "        <td style=\"padding-left: 1em; padding-right: 1em; text-align: center; vertical-align: top\">[57538, 13670, 161931,<br>248527, 252560, 189713, ...</td>\n",
       "        <td style=\"padding-left: 1em; padding-right: 1em; text-align: center; vertical-align: top\">13</td>\n",
       "        <td style=\"padding-left: 1em; padding-right: 1em; text-align: center; vertical-align: top\">16</td>\n",
       "        <td style=\"padding-left: 1em; padding-right: 1em; text-align: center; vertical-align: top\">2</td>\n",
       "        <td style=\"padding-left: 1em; padding-right: 1em; text-align: center; vertical-align: top\">27</td>\n",
       "        <td style=\"padding-left: 1em; padding-right: 1em; text-align: center; vertical-align: top\">-0.05066</td>\n",
       "    </tr>\n",
       "    <tr>\n",
       "        <td style=\"padding-left: 1em; padding-right: 1em; text-align: center; vertical-align: top\">[57538, 13670, 161931,<br>248527, 252560, 189713, ...</td>\n",
       "        <td style=\"padding-left: 1em; padding-right: 1em; text-align: center; vertical-align: top\">13</td>\n",
       "        <td style=\"padding-left: 1em; padding-right: 1em; text-align: center; vertical-align: top\">16</td>\n",
       "        <td style=\"padding-left: 1em; padding-right: 1em; text-align: center; vertical-align: top\">2</td>\n",
       "        <td style=\"padding-left: 1em; padding-right: 1em; text-align: center; vertical-align: top\">27</td>\n",
       "        <td style=\"padding-left: 1em; padding-right: 1em; text-align: center; vertical-align: top\">-0.05066</td>\n",
       "    </tr>\n",
       "    <tr>\n",
       "        <td style=\"padding-left: 1em; padding-right: 1em; text-align: center; vertical-align: top\">[57538, 13670, 161931,<br>248527, 252560, 189713, ...</td>\n",
       "        <td style=\"padding-left: 1em; padding-right: 1em; text-align: center; vertical-align: top\">13</td>\n",
       "        <td style=\"padding-left: 1em; padding-right: 1em; text-align: center; vertical-align: top\">16</td>\n",
       "        <td style=\"padding-left: 1em; padding-right: 1em; text-align: center; vertical-align: top\">2</td>\n",
       "        <td style=\"padding-left: 1em; padding-right: 1em; text-align: center; vertical-align: top\">27</td>\n",
       "        <td style=\"padding-left: 1em; padding-right: 1em; text-align: center; vertical-align: top\">-0.05066</td>\n",
       "    </tr>\n",
       "</table>\n",
       "<table frame=\"box\" rules=\"cols\">\n",
       "    <tr>\n",
       "        <th style=\"padding-left: 1em; padding-right: 1em; text-align: center\">src_deepWalk_1</th>\n",
       "        <th style=\"padding-left: 1em; padding-right: 1em; text-align: center\">src_deepWalk_2</th>\n",
       "        <th style=\"padding-left: 1em; padding-right: 1em; text-align: center\">src_deepWalk_3</th>\n",
       "        <th style=\"padding-left: 1em; padding-right: 1em; text-align: center\">src_deepWalk_4</th>\n",
       "        <th style=\"padding-left: 1em; padding-right: 1em; text-align: center\">src_deepWalk_5</th>\n",
       "        <th style=\"padding-left: 1em; padding-right: 1em; text-align: center\">src_deepWalk_6</th>\n",
       "        <th style=\"padding-left: 1em; padding-right: 1em; text-align: center\">src_deepWalk_7</th>\n",
       "    </tr>\n",
       "    <tr>\n",
       "        <td style=\"padding-left: 1em; padding-right: 1em; text-align: center; vertical-align: top\">0.227474</td>\n",
       "        <td style=\"padding-left: 1em; padding-right: 1em; text-align: center; vertical-align: top\">-1.163211</td>\n",
       "        <td style=\"padding-left: 1em; padding-right: 1em; text-align: center; vertical-align: top\">-0.326046</td>\n",
       "        <td style=\"padding-left: 1em; padding-right: 1em; text-align: center; vertical-align: top\">0.253923</td>\n",
       "        <td style=\"padding-left: 1em; padding-right: 1em; text-align: center; vertical-align: top\">-0.198485</td>\n",
       "        <td style=\"padding-left: 1em; padding-right: 1em; text-align: center; vertical-align: top\">-0.997009</td>\n",
       "        <td style=\"padding-left: 1em; padding-right: 1em; text-align: center; vertical-align: top\">-0.603977</td>\n",
       "    </tr>\n",
       "    <tr>\n",
       "        <td style=\"padding-left: 1em; padding-right: 1em; text-align: center; vertical-align: top\">0.227474</td>\n",
       "        <td style=\"padding-left: 1em; padding-right: 1em; text-align: center; vertical-align: top\">-1.163211</td>\n",
       "        <td style=\"padding-left: 1em; padding-right: 1em; text-align: center; vertical-align: top\">-0.326046</td>\n",
       "        <td style=\"padding-left: 1em; padding-right: 1em; text-align: center; vertical-align: top\">0.253923</td>\n",
       "        <td style=\"padding-left: 1em; padding-right: 1em; text-align: center; vertical-align: top\">-0.198485</td>\n",
       "        <td style=\"padding-left: 1em; padding-right: 1em; text-align: center; vertical-align: top\">-0.997009</td>\n",
       "        <td style=\"padding-left: 1em; padding-right: 1em; text-align: center; vertical-align: top\">-0.603977</td>\n",
       "    </tr>\n",
       "    <tr>\n",
       "        <td style=\"padding-left: 1em; padding-right: 1em; text-align: center; vertical-align: top\">0.227474</td>\n",
       "        <td style=\"padding-left: 1em; padding-right: 1em; text-align: center; vertical-align: top\">-1.163211</td>\n",
       "        <td style=\"padding-left: 1em; padding-right: 1em; text-align: center; vertical-align: top\">-0.326046</td>\n",
       "        <td style=\"padding-left: 1em; padding-right: 1em; text-align: center; vertical-align: top\">0.253923</td>\n",
       "        <td style=\"padding-left: 1em; padding-right: 1em; text-align: center; vertical-align: top\">-0.198485</td>\n",
       "        <td style=\"padding-left: 1em; padding-right: 1em; text-align: center; vertical-align: top\">-0.997009</td>\n",
       "        <td style=\"padding-left: 1em; padding-right: 1em; text-align: center; vertical-align: top\">-0.603977</td>\n",
       "    </tr>\n",
       "    <tr>\n",
       "        <td style=\"padding-left: 1em; padding-right: 1em; text-align: center; vertical-align: top\">0.227474</td>\n",
       "        <td style=\"padding-left: 1em; padding-right: 1em; text-align: center; vertical-align: top\">-1.163211</td>\n",
       "        <td style=\"padding-left: 1em; padding-right: 1em; text-align: center; vertical-align: top\">-0.326046</td>\n",
       "        <td style=\"padding-left: 1em; padding-right: 1em; text-align: center; vertical-align: top\">0.253923</td>\n",
       "        <td style=\"padding-left: 1em; padding-right: 1em; text-align: center; vertical-align: top\">-0.198485</td>\n",
       "        <td style=\"padding-left: 1em; padding-right: 1em; text-align: center; vertical-align: top\">-0.997009</td>\n",
       "        <td style=\"padding-left: 1em; padding-right: 1em; text-align: center; vertical-align: top\">-0.603977</td>\n",
       "    </tr>\n",
       "    <tr>\n",
       "        <td style=\"padding-left: 1em; padding-right: 1em; text-align: center; vertical-align: top\">0.227474</td>\n",
       "        <td style=\"padding-left: 1em; padding-right: 1em; text-align: center; vertical-align: top\">-1.163211</td>\n",
       "        <td style=\"padding-left: 1em; padding-right: 1em; text-align: center; vertical-align: top\">-0.326046</td>\n",
       "        <td style=\"padding-left: 1em; padding-right: 1em; text-align: center; vertical-align: top\">0.253923</td>\n",
       "        <td style=\"padding-left: 1em; padding-right: 1em; text-align: center; vertical-align: top\">-0.198485</td>\n",
       "        <td style=\"padding-left: 1em; padding-right: 1em; text-align: center; vertical-align: top\">-0.997009</td>\n",
       "        <td style=\"padding-left: 1em; padding-right: 1em; text-align: center; vertical-align: top\">-0.603977</td>\n",
       "    </tr>\n",
       "    <tr>\n",
       "        <td style=\"padding-left: 1em; padding-right: 1em; text-align: center; vertical-align: top\">0.227474</td>\n",
       "        <td style=\"padding-left: 1em; padding-right: 1em; text-align: center; vertical-align: top\">-1.163211</td>\n",
       "        <td style=\"padding-left: 1em; padding-right: 1em; text-align: center; vertical-align: top\">-0.326046</td>\n",
       "        <td style=\"padding-left: 1em; padding-right: 1em; text-align: center; vertical-align: top\">0.253923</td>\n",
       "        <td style=\"padding-left: 1em; padding-right: 1em; text-align: center; vertical-align: top\">-0.198485</td>\n",
       "        <td style=\"padding-left: 1em; padding-right: 1em; text-align: center; vertical-align: top\">-0.997009</td>\n",
       "        <td style=\"padding-left: 1em; padding-right: 1em; text-align: center; vertical-align: top\">-0.603977</td>\n",
       "    </tr>\n",
       "    <tr>\n",
       "        <td style=\"padding-left: 1em; padding-right: 1em; text-align: center; vertical-align: top\">0.227474</td>\n",
       "        <td style=\"padding-left: 1em; padding-right: 1em; text-align: center; vertical-align: top\">-1.163211</td>\n",
       "        <td style=\"padding-left: 1em; padding-right: 1em; text-align: center; vertical-align: top\">-0.326046</td>\n",
       "        <td style=\"padding-left: 1em; padding-right: 1em; text-align: center; vertical-align: top\">0.253923</td>\n",
       "        <td style=\"padding-left: 1em; padding-right: 1em; text-align: center; vertical-align: top\">-0.198485</td>\n",
       "        <td style=\"padding-left: 1em; padding-right: 1em; text-align: center; vertical-align: top\">-0.997009</td>\n",
       "        <td style=\"padding-left: 1em; padding-right: 1em; text-align: center; vertical-align: top\">-0.603977</td>\n",
       "    </tr>\n",
       "    <tr>\n",
       "        <td style=\"padding-left: 1em; padding-right: 1em; text-align: center; vertical-align: top\">0.227474</td>\n",
       "        <td style=\"padding-left: 1em; padding-right: 1em; text-align: center; vertical-align: top\">-1.163211</td>\n",
       "        <td style=\"padding-left: 1em; padding-right: 1em; text-align: center; vertical-align: top\">-0.326046</td>\n",
       "        <td style=\"padding-left: 1em; padding-right: 1em; text-align: center; vertical-align: top\">0.253923</td>\n",
       "        <td style=\"padding-left: 1em; padding-right: 1em; text-align: center; vertical-align: top\">-0.198485</td>\n",
       "        <td style=\"padding-left: 1em; padding-right: 1em; text-align: center; vertical-align: top\">-0.997009</td>\n",
       "        <td style=\"padding-left: 1em; padding-right: 1em; text-align: center; vertical-align: top\">-0.603977</td>\n",
       "    </tr>\n",
       "    <tr>\n",
       "        <td style=\"padding-left: 1em; padding-right: 1em; text-align: center; vertical-align: top\">0.227474</td>\n",
       "        <td style=\"padding-left: 1em; padding-right: 1em; text-align: center; vertical-align: top\">-1.163211</td>\n",
       "        <td style=\"padding-left: 1em; padding-right: 1em; text-align: center; vertical-align: top\">-0.326046</td>\n",
       "        <td style=\"padding-left: 1em; padding-right: 1em; text-align: center; vertical-align: top\">0.253923</td>\n",
       "        <td style=\"padding-left: 1em; padding-right: 1em; text-align: center; vertical-align: top\">-0.198485</td>\n",
       "        <td style=\"padding-left: 1em; padding-right: 1em; text-align: center; vertical-align: top\">-0.997009</td>\n",
       "        <td style=\"padding-left: 1em; padding-right: 1em; text-align: center; vertical-align: top\">-0.603977</td>\n",
       "    </tr>\n",
       "    <tr>\n",
       "        <td style=\"padding-left: 1em; padding-right: 1em; text-align: center; vertical-align: top\">0.227474</td>\n",
       "        <td style=\"padding-left: 1em; padding-right: 1em; text-align: center; vertical-align: top\">-1.163211</td>\n",
       "        <td style=\"padding-left: 1em; padding-right: 1em; text-align: center; vertical-align: top\">-0.326046</td>\n",
       "        <td style=\"padding-left: 1em; padding-right: 1em; text-align: center; vertical-align: top\">0.253923</td>\n",
       "        <td style=\"padding-left: 1em; padding-right: 1em; text-align: center; vertical-align: top\">-0.198485</td>\n",
       "        <td style=\"padding-left: 1em; padding-right: 1em; text-align: center; vertical-align: top\">-0.997009</td>\n",
       "        <td style=\"padding-left: 1em; padding-right: 1em; text-align: center; vertical-align: top\">-0.603977</td>\n",
       "    </tr>\n",
       "</table>\n",
       "<table frame=\"box\" rules=\"cols\">\n",
       "    <tr>\n",
       "        <th style=\"padding-left: 1em; padding-right: 1em; text-align: center\">src_deepWalk_8</th>\n",
       "        <th style=\"padding-left: 1em; padding-right: 1em; text-align: center\">src_deepWalk_9</th>\n",
       "        <th style=\"padding-left: 1em; padding-right: 1em; text-align: center\">src_deepWalk_10</th>\n",
       "        <th style=\"padding-left: 1em; padding-right: 1em; text-align: center\">src_deepWalk_11</th>\n",
       "        <th style=\"padding-left: 1em; padding-right: 1em; text-align: center\">src_deepWalk_12</th>\n",
       "        <th style=\"padding-left: 1em; padding-right: 1em; text-align: center\">src_deepWalk_13</th>\n",
       "        <th style=\"padding-left: 1em; padding-right: 1em; text-align: center\">src_deepWalk_14</th>\n",
       "    </tr>\n",
       "    <tr>\n",
       "        <td style=\"padding-left: 1em; padding-right: 1em; text-align: center; vertical-align: top\">-0.420289</td>\n",
       "        <td style=\"padding-left: 1em; padding-right: 1em; text-align: center; vertical-align: top\">-0.250026</td>\n",
       "        <td style=\"padding-left: 1em; padding-right: 1em; text-align: center; vertical-align: top\">0.294057</td>\n",
       "        <td style=\"padding-left: 1em; padding-right: 1em; text-align: center; vertical-align: top\">-0.442229</td>\n",
       "        <td style=\"padding-left: 1em; padding-right: 1em; text-align: center; vertical-align: top\">0.668259</td>\n",
       "        <td style=\"padding-left: 1em; padding-right: 1em; text-align: center; vertical-align: top\">0.095325</td>\n",
       "        <td style=\"padding-left: 1em; padding-right: 1em; text-align: center; vertical-align: top\">0.079501</td>\n",
       "    </tr>\n",
       "    <tr>\n",
       "        <td style=\"padding-left: 1em; padding-right: 1em; text-align: center; vertical-align: top\">-0.420289</td>\n",
       "        <td style=\"padding-left: 1em; padding-right: 1em; text-align: center; vertical-align: top\">-0.250026</td>\n",
       "        <td style=\"padding-left: 1em; padding-right: 1em; text-align: center; vertical-align: top\">0.294057</td>\n",
       "        <td style=\"padding-left: 1em; padding-right: 1em; text-align: center; vertical-align: top\">-0.442229</td>\n",
       "        <td style=\"padding-left: 1em; padding-right: 1em; text-align: center; vertical-align: top\">0.668259</td>\n",
       "        <td style=\"padding-left: 1em; padding-right: 1em; text-align: center; vertical-align: top\">0.095325</td>\n",
       "        <td style=\"padding-left: 1em; padding-right: 1em; text-align: center; vertical-align: top\">0.079501</td>\n",
       "    </tr>\n",
       "    <tr>\n",
       "        <td style=\"padding-left: 1em; padding-right: 1em; text-align: center; vertical-align: top\">-0.420289</td>\n",
       "        <td style=\"padding-left: 1em; padding-right: 1em; text-align: center; vertical-align: top\">-0.250026</td>\n",
       "        <td style=\"padding-left: 1em; padding-right: 1em; text-align: center; vertical-align: top\">0.294057</td>\n",
       "        <td style=\"padding-left: 1em; padding-right: 1em; text-align: center; vertical-align: top\">-0.442229</td>\n",
       "        <td style=\"padding-left: 1em; padding-right: 1em; text-align: center; vertical-align: top\">0.668259</td>\n",
       "        <td style=\"padding-left: 1em; padding-right: 1em; text-align: center; vertical-align: top\">0.095325</td>\n",
       "        <td style=\"padding-left: 1em; padding-right: 1em; text-align: center; vertical-align: top\">0.079501</td>\n",
       "    </tr>\n",
       "    <tr>\n",
       "        <td style=\"padding-left: 1em; padding-right: 1em; text-align: center; vertical-align: top\">-0.420289</td>\n",
       "        <td style=\"padding-left: 1em; padding-right: 1em; text-align: center; vertical-align: top\">-0.250026</td>\n",
       "        <td style=\"padding-left: 1em; padding-right: 1em; text-align: center; vertical-align: top\">0.294057</td>\n",
       "        <td style=\"padding-left: 1em; padding-right: 1em; text-align: center; vertical-align: top\">-0.442229</td>\n",
       "        <td style=\"padding-left: 1em; padding-right: 1em; text-align: center; vertical-align: top\">0.668259</td>\n",
       "        <td style=\"padding-left: 1em; padding-right: 1em; text-align: center; vertical-align: top\">0.095325</td>\n",
       "        <td style=\"padding-left: 1em; padding-right: 1em; text-align: center; vertical-align: top\">0.079501</td>\n",
       "    </tr>\n",
       "    <tr>\n",
       "        <td style=\"padding-left: 1em; padding-right: 1em; text-align: center; vertical-align: top\">-0.420289</td>\n",
       "        <td style=\"padding-left: 1em; padding-right: 1em; text-align: center; vertical-align: top\">-0.250026</td>\n",
       "        <td style=\"padding-left: 1em; padding-right: 1em; text-align: center; vertical-align: top\">0.294057</td>\n",
       "        <td style=\"padding-left: 1em; padding-right: 1em; text-align: center; vertical-align: top\">-0.442229</td>\n",
       "        <td style=\"padding-left: 1em; padding-right: 1em; text-align: center; vertical-align: top\">0.668259</td>\n",
       "        <td style=\"padding-left: 1em; padding-right: 1em; text-align: center; vertical-align: top\">0.095325</td>\n",
       "        <td style=\"padding-left: 1em; padding-right: 1em; text-align: center; vertical-align: top\">0.079501</td>\n",
       "    </tr>\n",
       "    <tr>\n",
       "        <td style=\"padding-left: 1em; padding-right: 1em; text-align: center; vertical-align: top\">-0.420289</td>\n",
       "        <td style=\"padding-left: 1em; padding-right: 1em; text-align: center; vertical-align: top\">-0.250026</td>\n",
       "        <td style=\"padding-left: 1em; padding-right: 1em; text-align: center; vertical-align: top\">0.294057</td>\n",
       "        <td style=\"padding-left: 1em; padding-right: 1em; text-align: center; vertical-align: top\">-0.442229</td>\n",
       "        <td style=\"padding-left: 1em; padding-right: 1em; text-align: center; vertical-align: top\">0.668259</td>\n",
       "        <td style=\"padding-left: 1em; padding-right: 1em; text-align: center; vertical-align: top\">0.095325</td>\n",
       "        <td style=\"padding-left: 1em; padding-right: 1em; text-align: center; vertical-align: top\">0.079501</td>\n",
       "    </tr>\n",
       "    <tr>\n",
       "        <td style=\"padding-left: 1em; padding-right: 1em; text-align: center; vertical-align: top\">-0.420289</td>\n",
       "        <td style=\"padding-left: 1em; padding-right: 1em; text-align: center; vertical-align: top\">-0.250026</td>\n",
       "        <td style=\"padding-left: 1em; padding-right: 1em; text-align: center; vertical-align: top\">0.294057</td>\n",
       "        <td style=\"padding-left: 1em; padding-right: 1em; text-align: center; vertical-align: top\">-0.442229</td>\n",
       "        <td style=\"padding-left: 1em; padding-right: 1em; text-align: center; vertical-align: top\">0.668259</td>\n",
       "        <td style=\"padding-left: 1em; padding-right: 1em; text-align: center; vertical-align: top\">0.095325</td>\n",
       "        <td style=\"padding-left: 1em; padding-right: 1em; text-align: center; vertical-align: top\">0.079501</td>\n",
       "    </tr>\n",
       "    <tr>\n",
       "        <td style=\"padding-left: 1em; padding-right: 1em; text-align: center; vertical-align: top\">-0.420289</td>\n",
       "        <td style=\"padding-left: 1em; padding-right: 1em; text-align: center; vertical-align: top\">-0.250026</td>\n",
       "        <td style=\"padding-left: 1em; padding-right: 1em; text-align: center; vertical-align: top\">0.294057</td>\n",
       "        <td style=\"padding-left: 1em; padding-right: 1em; text-align: center; vertical-align: top\">-0.442229</td>\n",
       "        <td style=\"padding-left: 1em; padding-right: 1em; text-align: center; vertical-align: top\">0.668259</td>\n",
       "        <td style=\"padding-left: 1em; padding-right: 1em; text-align: center; vertical-align: top\">0.095325</td>\n",
       "        <td style=\"padding-left: 1em; padding-right: 1em; text-align: center; vertical-align: top\">0.079501</td>\n",
       "    </tr>\n",
       "    <tr>\n",
       "        <td style=\"padding-left: 1em; padding-right: 1em; text-align: center; vertical-align: top\">-0.420289</td>\n",
       "        <td style=\"padding-left: 1em; padding-right: 1em; text-align: center; vertical-align: top\">-0.250026</td>\n",
       "        <td style=\"padding-left: 1em; padding-right: 1em; text-align: center; vertical-align: top\">0.294057</td>\n",
       "        <td style=\"padding-left: 1em; padding-right: 1em; text-align: center; vertical-align: top\">-0.442229</td>\n",
       "        <td style=\"padding-left: 1em; padding-right: 1em; text-align: center; vertical-align: top\">0.668259</td>\n",
       "        <td style=\"padding-left: 1em; padding-right: 1em; text-align: center; vertical-align: top\">0.095325</td>\n",
       "        <td style=\"padding-left: 1em; padding-right: 1em; text-align: center; vertical-align: top\">0.079501</td>\n",
       "    </tr>\n",
       "    <tr>\n",
       "        <td style=\"padding-left: 1em; padding-right: 1em; text-align: center; vertical-align: top\">-0.420289</td>\n",
       "        <td style=\"padding-left: 1em; padding-right: 1em; text-align: center; vertical-align: top\">-0.250026</td>\n",
       "        <td style=\"padding-left: 1em; padding-right: 1em; text-align: center; vertical-align: top\">0.294057</td>\n",
       "        <td style=\"padding-left: 1em; padding-right: 1em; text-align: center; vertical-align: top\">-0.442229</td>\n",
       "        <td style=\"padding-left: 1em; padding-right: 1em; text-align: center; vertical-align: top\">0.668259</td>\n",
       "        <td style=\"padding-left: 1em; padding-right: 1em; text-align: center; vertical-align: top\">0.095325</td>\n",
       "        <td style=\"padding-left: 1em; padding-right: 1em; text-align: center; vertical-align: top\">0.079501</td>\n",
       "    </tr>\n",
       "</table>\n",
       "<table frame=\"box\" rules=\"cols\">\n",
       "    <tr>\n",
       "        <th style=\"padding-left: 1em; padding-right: 1em; text-align: center\">src_deepWalk_15</th>\n",
       "        <th style=\"padding-left: 1em; padding-right: 1em; text-align: center\">src_deepWalk_16</th>\n",
       "        <th style=\"padding-left: 1em; padding-right: 1em; text-align: center\">src_deepWalk_17</th>\n",
       "        <th style=\"padding-left: 1em; padding-right: 1em; text-align: center\">src_deepWalk_18</th>\n",
       "        <th style=\"padding-left: 1em; padding-right: 1em; text-align: center\">src_deepWalk_19</th>\n",
       "        <th style=\"padding-left: 1em; padding-right: 1em; text-align: center\">src_deepWalk_20</th>\n",
       "        <th style=\"padding-left: 1em; padding-right: 1em; text-align: center\">src_deepWalk_21</th>\n",
       "    </tr>\n",
       "    <tr>\n",
       "        <td style=\"padding-left: 1em; padding-right: 1em; text-align: center; vertical-align: top\">0.555141</td>\n",
       "        <td style=\"padding-left: 1em; padding-right: 1em; text-align: center; vertical-align: top\">0.217579</td>\n",
       "        <td style=\"padding-left: 1em; padding-right: 1em; text-align: center; vertical-align: top\">-0.063687</td>\n",
       "        <td style=\"padding-left: 1em; padding-right: 1em; text-align: center; vertical-align: top\">0.511003</td>\n",
       "        <td style=\"padding-left: 1em; padding-right: 1em; text-align: center; vertical-align: top\">0.418021</td>\n",
       "        <td style=\"padding-left: 1em; padding-right: 1em; text-align: center; vertical-align: top\">0.118892</td>\n",
       "        <td style=\"padding-left: 1em; padding-right: 1em; text-align: center; vertical-align: top\">0.482267</td>\n",
       "    </tr>\n",
       "    <tr>\n",
       "        <td style=\"padding-left: 1em; padding-right: 1em; text-align: center; vertical-align: top\">0.555141</td>\n",
       "        <td style=\"padding-left: 1em; padding-right: 1em; text-align: center; vertical-align: top\">0.217579</td>\n",
       "        <td style=\"padding-left: 1em; padding-right: 1em; text-align: center; vertical-align: top\">-0.063687</td>\n",
       "        <td style=\"padding-left: 1em; padding-right: 1em; text-align: center; vertical-align: top\">0.511003</td>\n",
       "        <td style=\"padding-left: 1em; padding-right: 1em; text-align: center; vertical-align: top\">0.418021</td>\n",
       "        <td style=\"padding-left: 1em; padding-right: 1em; text-align: center; vertical-align: top\">0.118892</td>\n",
       "        <td style=\"padding-left: 1em; padding-right: 1em; text-align: center; vertical-align: top\">0.482267</td>\n",
       "    </tr>\n",
       "    <tr>\n",
       "        <td style=\"padding-left: 1em; padding-right: 1em; text-align: center; vertical-align: top\">0.555141</td>\n",
       "        <td style=\"padding-left: 1em; padding-right: 1em; text-align: center; vertical-align: top\">0.217579</td>\n",
       "        <td style=\"padding-left: 1em; padding-right: 1em; text-align: center; vertical-align: top\">-0.063687</td>\n",
       "        <td style=\"padding-left: 1em; padding-right: 1em; text-align: center; vertical-align: top\">0.511003</td>\n",
       "        <td style=\"padding-left: 1em; padding-right: 1em; text-align: center; vertical-align: top\">0.418021</td>\n",
       "        <td style=\"padding-left: 1em; padding-right: 1em; text-align: center; vertical-align: top\">0.118892</td>\n",
       "        <td style=\"padding-left: 1em; padding-right: 1em; text-align: center; vertical-align: top\">0.482267</td>\n",
       "    </tr>\n",
       "    <tr>\n",
       "        <td style=\"padding-left: 1em; padding-right: 1em; text-align: center; vertical-align: top\">0.555141</td>\n",
       "        <td style=\"padding-left: 1em; padding-right: 1em; text-align: center; vertical-align: top\">0.217579</td>\n",
       "        <td style=\"padding-left: 1em; padding-right: 1em; text-align: center; vertical-align: top\">-0.063687</td>\n",
       "        <td style=\"padding-left: 1em; padding-right: 1em; text-align: center; vertical-align: top\">0.511003</td>\n",
       "        <td style=\"padding-left: 1em; padding-right: 1em; text-align: center; vertical-align: top\">0.418021</td>\n",
       "        <td style=\"padding-left: 1em; padding-right: 1em; text-align: center; vertical-align: top\">0.118892</td>\n",
       "        <td style=\"padding-left: 1em; padding-right: 1em; text-align: center; vertical-align: top\">0.482267</td>\n",
       "    </tr>\n",
       "    <tr>\n",
       "        <td style=\"padding-left: 1em; padding-right: 1em; text-align: center; vertical-align: top\">0.555141</td>\n",
       "        <td style=\"padding-left: 1em; padding-right: 1em; text-align: center; vertical-align: top\">0.217579</td>\n",
       "        <td style=\"padding-left: 1em; padding-right: 1em; text-align: center; vertical-align: top\">-0.063687</td>\n",
       "        <td style=\"padding-left: 1em; padding-right: 1em; text-align: center; vertical-align: top\">0.511003</td>\n",
       "        <td style=\"padding-left: 1em; padding-right: 1em; text-align: center; vertical-align: top\">0.418021</td>\n",
       "        <td style=\"padding-left: 1em; padding-right: 1em; text-align: center; vertical-align: top\">0.118892</td>\n",
       "        <td style=\"padding-left: 1em; padding-right: 1em; text-align: center; vertical-align: top\">0.482267</td>\n",
       "    </tr>\n",
       "    <tr>\n",
       "        <td style=\"padding-left: 1em; padding-right: 1em; text-align: center; vertical-align: top\">0.555141</td>\n",
       "        <td style=\"padding-left: 1em; padding-right: 1em; text-align: center; vertical-align: top\">0.217579</td>\n",
       "        <td style=\"padding-left: 1em; padding-right: 1em; text-align: center; vertical-align: top\">-0.063687</td>\n",
       "        <td style=\"padding-left: 1em; padding-right: 1em; text-align: center; vertical-align: top\">0.511003</td>\n",
       "        <td style=\"padding-left: 1em; padding-right: 1em; text-align: center; vertical-align: top\">0.418021</td>\n",
       "        <td style=\"padding-left: 1em; padding-right: 1em; text-align: center; vertical-align: top\">0.118892</td>\n",
       "        <td style=\"padding-left: 1em; padding-right: 1em; text-align: center; vertical-align: top\">0.482267</td>\n",
       "    </tr>\n",
       "    <tr>\n",
       "        <td style=\"padding-left: 1em; padding-right: 1em; text-align: center; vertical-align: top\">0.555141</td>\n",
       "        <td style=\"padding-left: 1em; padding-right: 1em; text-align: center; vertical-align: top\">0.217579</td>\n",
       "        <td style=\"padding-left: 1em; padding-right: 1em; text-align: center; vertical-align: top\">-0.063687</td>\n",
       "        <td style=\"padding-left: 1em; padding-right: 1em; text-align: center; vertical-align: top\">0.511003</td>\n",
       "        <td style=\"padding-left: 1em; padding-right: 1em; text-align: center; vertical-align: top\">0.418021</td>\n",
       "        <td style=\"padding-left: 1em; padding-right: 1em; text-align: center; vertical-align: top\">0.118892</td>\n",
       "        <td style=\"padding-left: 1em; padding-right: 1em; text-align: center; vertical-align: top\">0.482267</td>\n",
       "    </tr>\n",
       "    <tr>\n",
       "        <td style=\"padding-left: 1em; padding-right: 1em; text-align: center; vertical-align: top\">0.555141</td>\n",
       "        <td style=\"padding-left: 1em; padding-right: 1em; text-align: center; vertical-align: top\">0.217579</td>\n",
       "        <td style=\"padding-left: 1em; padding-right: 1em; text-align: center; vertical-align: top\">-0.063687</td>\n",
       "        <td style=\"padding-left: 1em; padding-right: 1em; text-align: center; vertical-align: top\">0.511003</td>\n",
       "        <td style=\"padding-left: 1em; padding-right: 1em; text-align: center; vertical-align: top\">0.418021</td>\n",
       "        <td style=\"padding-left: 1em; padding-right: 1em; text-align: center; vertical-align: top\">0.118892</td>\n",
       "        <td style=\"padding-left: 1em; padding-right: 1em; text-align: center; vertical-align: top\">0.482267</td>\n",
       "    </tr>\n",
       "    <tr>\n",
       "        <td style=\"padding-left: 1em; padding-right: 1em; text-align: center; vertical-align: top\">0.555141</td>\n",
       "        <td style=\"padding-left: 1em; padding-right: 1em; text-align: center; vertical-align: top\">0.217579</td>\n",
       "        <td style=\"padding-left: 1em; padding-right: 1em; text-align: center; vertical-align: top\">-0.063687</td>\n",
       "        <td style=\"padding-left: 1em; padding-right: 1em; text-align: center; vertical-align: top\">0.511003</td>\n",
       "        <td style=\"padding-left: 1em; padding-right: 1em; text-align: center; vertical-align: top\">0.418021</td>\n",
       "        <td style=\"padding-left: 1em; padding-right: 1em; text-align: center; vertical-align: top\">0.118892</td>\n",
       "        <td style=\"padding-left: 1em; padding-right: 1em; text-align: center; vertical-align: top\">0.482267</td>\n",
       "    </tr>\n",
       "    <tr>\n",
       "        <td style=\"padding-left: 1em; padding-right: 1em; text-align: center; vertical-align: top\">0.555141</td>\n",
       "        <td style=\"padding-left: 1em; padding-right: 1em; text-align: center; vertical-align: top\">0.217579</td>\n",
       "        <td style=\"padding-left: 1em; padding-right: 1em; text-align: center; vertical-align: top\">-0.063687</td>\n",
       "        <td style=\"padding-left: 1em; padding-right: 1em; text-align: center; vertical-align: top\">0.511003</td>\n",
       "        <td style=\"padding-left: 1em; padding-right: 1em; text-align: center; vertical-align: top\">0.418021</td>\n",
       "        <td style=\"padding-left: 1em; padding-right: 1em; text-align: center; vertical-align: top\">0.118892</td>\n",
       "        <td style=\"padding-left: 1em; padding-right: 1em; text-align: center; vertical-align: top\">0.482267</td>\n",
       "    </tr>\n",
       "</table>\n",
       "<table frame=\"box\" rules=\"cols\">\n",
       "    <tr>\n",
       "        <th style=\"padding-left: 1em; padding-right: 1em; text-align: center\">src_deepWalk_22</th>\n",
       "        <th style=\"padding-left: 1em; padding-right: 1em; text-align: center\">src_deepWalk_23</th>\n",
       "        <th style=\"padding-left: 1em; padding-right: 1em; text-align: center\">src_deepWalk_24</th>\n",
       "        <th style=\"padding-left: 1em; padding-right: 1em; text-align: center\">src_deepWalk_25</th>\n",
       "        <th style=\"padding-left: 1em; padding-right: 1em; text-align: center\">src_deepWalk_26</th>\n",
       "        <th style=\"padding-left: 1em; padding-right: 1em; text-align: center\">src_deepWalk_27</th>\n",
       "        <th style=\"padding-left: 1em; padding-right: 1em; text-align: center\">src_deepWalk_28</th>\n",
       "        <th style=\"padding-left: 1em; padding-right: 1em; text-align: center\">...</th>\n",
       "    </tr>\n",
       "    <tr>\n",
       "        <td style=\"padding-left: 1em; padding-right: 1em; text-align: center; vertical-align: top\">0.060299</td>\n",
       "        <td style=\"padding-left: 1em; padding-right: 1em; text-align: center; vertical-align: top\">-0.098748</td>\n",
       "        <td style=\"padding-left: 1em; padding-right: 1em; text-align: center; vertical-align: top\">-0.197324</td>\n",
       "        <td style=\"padding-left: 1em; padding-right: 1em; text-align: center; vertical-align: top\">-0.032998</td>\n",
       "        <td style=\"padding-left: 1em; padding-right: 1em; text-align: center; vertical-align: top\">-0.953005</td>\n",
       "        <td style=\"padding-left: 1em; padding-right: 1em; text-align: center; vertical-align: top\">-0.670303</td>\n",
       "        <td style=\"padding-left: 1em; padding-right: 1em; text-align: center; vertical-align: top\">0.626118</td>\n",
       "        <td style=\"padding-left: 1em; padding-right: 1em; text-align: center; vertical-align: top\">...</td>\n",
       "    </tr>\n",
       "    <tr>\n",
       "        <td style=\"padding-left: 1em; padding-right: 1em; text-align: center; vertical-align: top\">0.060299</td>\n",
       "        <td style=\"padding-left: 1em; padding-right: 1em; text-align: center; vertical-align: top\">-0.098748</td>\n",
       "        <td style=\"padding-left: 1em; padding-right: 1em; text-align: center; vertical-align: top\">-0.197324</td>\n",
       "        <td style=\"padding-left: 1em; padding-right: 1em; text-align: center; vertical-align: top\">-0.032998</td>\n",
       "        <td style=\"padding-left: 1em; padding-right: 1em; text-align: center; vertical-align: top\">-0.953005</td>\n",
       "        <td style=\"padding-left: 1em; padding-right: 1em; text-align: center; vertical-align: top\">-0.670303</td>\n",
       "        <td style=\"padding-left: 1em; padding-right: 1em; text-align: center; vertical-align: top\">0.626118</td>\n",
       "        <td style=\"padding-left: 1em; padding-right: 1em; text-align: center; vertical-align: top\">...</td>\n",
       "    </tr>\n",
       "    <tr>\n",
       "        <td style=\"padding-left: 1em; padding-right: 1em; text-align: center; vertical-align: top\">0.060299</td>\n",
       "        <td style=\"padding-left: 1em; padding-right: 1em; text-align: center; vertical-align: top\">-0.098748</td>\n",
       "        <td style=\"padding-left: 1em; padding-right: 1em; text-align: center; vertical-align: top\">-0.197324</td>\n",
       "        <td style=\"padding-left: 1em; padding-right: 1em; text-align: center; vertical-align: top\">-0.032998</td>\n",
       "        <td style=\"padding-left: 1em; padding-right: 1em; text-align: center; vertical-align: top\">-0.953005</td>\n",
       "        <td style=\"padding-left: 1em; padding-right: 1em; text-align: center; vertical-align: top\">-0.670303</td>\n",
       "        <td style=\"padding-left: 1em; padding-right: 1em; text-align: center; vertical-align: top\">0.626118</td>\n",
       "        <td style=\"padding-left: 1em; padding-right: 1em; text-align: center; vertical-align: top\">...</td>\n",
       "    </tr>\n",
       "    <tr>\n",
       "        <td style=\"padding-left: 1em; padding-right: 1em; text-align: center; vertical-align: top\">0.060299</td>\n",
       "        <td style=\"padding-left: 1em; padding-right: 1em; text-align: center; vertical-align: top\">-0.098748</td>\n",
       "        <td style=\"padding-left: 1em; padding-right: 1em; text-align: center; vertical-align: top\">-0.197324</td>\n",
       "        <td style=\"padding-left: 1em; padding-right: 1em; text-align: center; vertical-align: top\">-0.032998</td>\n",
       "        <td style=\"padding-left: 1em; padding-right: 1em; text-align: center; vertical-align: top\">-0.953005</td>\n",
       "        <td style=\"padding-left: 1em; padding-right: 1em; text-align: center; vertical-align: top\">-0.670303</td>\n",
       "        <td style=\"padding-left: 1em; padding-right: 1em; text-align: center; vertical-align: top\">0.626118</td>\n",
       "        <td style=\"padding-left: 1em; padding-right: 1em; text-align: center; vertical-align: top\">...</td>\n",
       "    </tr>\n",
       "    <tr>\n",
       "        <td style=\"padding-left: 1em; padding-right: 1em; text-align: center; vertical-align: top\">0.060299</td>\n",
       "        <td style=\"padding-left: 1em; padding-right: 1em; text-align: center; vertical-align: top\">-0.098748</td>\n",
       "        <td style=\"padding-left: 1em; padding-right: 1em; text-align: center; vertical-align: top\">-0.197324</td>\n",
       "        <td style=\"padding-left: 1em; padding-right: 1em; text-align: center; vertical-align: top\">-0.032998</td>\n",
       "        <td style=\"padding-left: 1em; padding-right: 1em; text-align: center; vertical-align: top\">-0.953005</td>\n",
       "        <td style=\"padding-left: 1em; padding-right: 1em; text-align: center; vertical-align: top\">-0.670303</td>\n",
       "        <td style=\"padding-left: 1em; padding-right: 1em; text-align: center; vertical-align: top\">0.626118</td>\n",
       "        <td style=\"padding-left: 1em; padding-right: 1em; text-align: center; vertical-align: top\">...</td>\n",
       "    </tr>\n",
       "    <tr>\n",
       "        <td style=\"padding-left: 1em; padding-right: 1em; text-align: center; vertical-align: top\">0.060299</td>\n",
       "        <td style=\"padding-left: 1em; padding-right: 1em; text-align: center; vertical-align: top\">-0.098748</td>\n",
       "        <td style=\"padding-left: 1em; padding-right: 1em; text-align: center; vertical-align: top\">-0.197324</td>\n",
       "        <td style=\"padding-left: 1em; padding-right: 1em; text-align: center; vertical-align: top\">-0.032998</td>\n",
       "        <td style=\"padding-left: 1em; padding-right: 1em; text-align: center; vertical-align: top\">-0.953005</td>\n",
       "        <td style=\"padding-left: 1em; padding-right: 1em; text-align: center; vertical-align: top\">-0.670303</td>\n",
       "        <td style=\"padding-left: 1em; padding-right: 1em; text-align: center; vertical-align: top\">0.626118</td>\n",
       "        <td style=\"padding-left: 1em; padding-right: 1em; text-align: center; vertical-align: top\">...</td>\n",
       "    </tr>\n",
       "    <tr>\n",
       "        <td style=\"padding-left: 1em; padding-right: 1em; text-align: center; vertical-align: top\">0.060299</td>\n",
       "        <td style=\"padding-left: 1em; padding-right: 1em; text-align: center; vertical-align: top\">-0.098748</td>\n",
       "        <td style=\"padding-left: 1em; padding-right: 1em; text-align: center; vertical-align: top\">-0.197324</td>\n",
       "        <td style=\"padding-left: 1em; padding-right: 1em; text-align: center; vertical-align: top\">-0.032998</td>\n",
       "        <td style=\"padding-left: 1em; padding-right: 1em; text-align: center; vertical-align: top\">-0.953005</td>\n",
       "        <td style=\"padding-left: 1em; padding-right: 1em; text-align: center; vertical-align: top\">-0.670303</td>\n",
       "        <td style=\"padding-left: 1em; padding-right: 1em; text-align: center; vertical-align: top\">0.626118</td>\n",
       "        <td style=\"padding-left: 1em; padding-right: 1em; text-align: center; vertical-align: top\">...</td>\n",
       "    </tr>\n",
       "    <tr>\n",
       "        <td style=\"padding-left: 1em; padding-right: 1em; text-align: center; vertical-align: top\">0.060299</td>\n",
       "        <td style=\"padding-left: 1em; padding-right: 1em; text-align: center; vertical-align: top\">-0.098748</td>\n",
       "        <td style=\"padding-left: 1em; padding-right: 1em; text-align: center; vertical-align: top\">-0.197324</td>\n",
       "        <td style=\"padding-left: 1em; padding-right: 1em; text-align: center; vertical-align: top\">-0.032998</td>\n",
       "        <td style=\"padding-left: 1em; padding-right: 1em; text-align: center; vertical-align: top\">-0.953005</td>\n",
       "        <td style=\"padding-left: 1em; padding-right: 1em; text-align: center; vertical-align: top\">-0.670303</td>\n",
       "        <td style=\"padding-left: 1em; padding-right: 1em; text-align: center; vertical-align: top\">0.626118</td>\n",
       "        <td style=\"padding-left: 1em; padding-right: 1em; text-align: center; vertical-align: top\">...</td>\n",
       "    </tr>\n",
       "    <tr>\n",
       "        <td style=\"padding-left: 1em; padding-right: 1em; text-align: center; vertical-align: top\">0.060299</td>\n",
       "        <td style=\"padding-left: 1em; padding-right: 1em; text-align: center; vertical-align: top\">-0.098748</td>\n",
       "        <td style=\"padding-left: 1em; padding-right: 1em; text-align: center; vertical-align: top\">-0.197324</td>\n",
       "        <td style=\"padding-left: 1em; padding-right: 1em; text-align: center; vertical-align: top\">-0.032998</td>\n",
       "        <td style=\"padding-left: 1em; padding-right: 1em; text-align: center; vertical-align: top\">-0.953005</td>\n",
       "        <td style=\"padding-left: 1em; padding-right: 1em; text-align: center; vertical-align: top\">-0.670303</td>\n",
       "        <td style=\"padding-left: 1em; padding-right: 1em; text-align: center; vertical-align: top\">0.626118</td>\n",
       "        <td style=\"padding-left: 1em; padding-right: 1em; text-align: center; vertical-align: top\">...</td>\n",
       "    </tr>\n",
       "    <tr>\n",
       "        <td style=\"padding-left: 1em; padding-right: 1em; text-align: center; vertical-align: top\">0.060299</td>\n",
       "        <td style=\"padding-left: 1em; padding-right: 1em; text-align: center; vertical-align: top\">-0.098748</td>\n",
       "        <td style=\"padding-left: 1em; padding-right: 1em; text-align: center; vertical-align: top\">-0.197324</td>\n",
       "        <td style=\"padding-left: 1em; padding-right: 1em; text-align: center; vertical-align: top\">-0.032998</td>\n",
       "        <td style=\"padding-left: 1em; padding-right: 1em; text-align: center; vertical-align: top\">-0.953005</td>\n",
       "        <td style=\"padding-left: 1em; padding-right: 1em; text-align: center; vertical-align: top\">-0.670303</td>\n",
       "        <td style=\"padding-left: 1em; padding-right: 1em; text-align: center; vertical-align: top\">0.626118</td>\n",
       "        <td style=\"padding-left: 1em; padding-right: 1em; text-align: center; vertical-align: top\">...</td>\n",
       "    </tr>\n",
       "</table>\n",
       "[2769706 rows x 153 columns]<br/>Note: Only the head of the SFrame is printed.<br/>You can use print_rows(num_rows=m, num_columns=n) to print more rows and columns.\n",
       "</div>"
      ],
      "text/plain": [
       "Columns:\n",
       "\tsrc\tint\n",
       "\tdst\tint\n",
       "\tclass\tint\n",
       "\tsrc_out_vertices\tlist\n",
       "\tsrc_in_vertices\tlist\n",
       "\tsrc_in&out\tlist\n",
       "\tsrc_in|out\tlist\n",
       "\tsrc_in_degree\tint\n",
       "\tsrc_out_degree\tint\n",
       "\tsrc_out&in_degree\tint\n",
       "\tsrc_out|in_degree\tint\n",
       "\tsrc_deepWalk_0\tfloat\n",
       "\tsrc_deepWalk_1\tfloat\n",
       "\tsrc_deepWalk_2\tfloat\n",
       "\tsrc_deepWalk_3\tfloat\n",
       "\tsrc_deepWalk_4\tfloat\n",
       "\tsrc_deepWalk_5\tfloat\n",
       "\tsrc_deepWalk_6\tfloat\n",
       "\tsrc_deepWalk_7\tfloat\n",
       "\tsrc_deepWalk_8\tfloat\n",
       "\tsrc_deepWalk_9\tfloat\n",
       "\tsrc_deepWalk_10\tfloat\n",
       "\tsrc_deepWalk_11\tfloat\n",
       "\tsrc_deepWalk_12\tfloat\n",
       "\tsrc_deepWalk_13\tfloat\n",
       "\tsrc_deepWalk_14\tfloat\n",
       "\tsrc_deepWalk_15\tfloat\n",
       "\tsrc_deepWalk_16\tfloat\n",
       "\tsrc_deepWalk_17\tfloat\n",
       "\tsrc_deepWalk_18\tfloat\n",
       "\tsrc_deepWalk_19\tfloat\n",
       "\tsrc_deepWalk_20\tfloat\n",
       "\tsrc_deepWalk_21\tfloat\n",
       "\tsrc_deepWalk_22\tfloat\n",
       "\tsrc_deepWalk_23\tfloat\n",
       "\tsrc_deepWalk_24\tfloat\n",
       "\tsrc_deepWalk_25\tfloat\n",
       "\tsrc_deepWalk_26\tfloat\n",
       "\tsrc_deepWalk_27\tfloat\n",
       "\tsrc_deepWalk_28\tfloat\n",
       "\tsrc_deepWalk_29\tfloat\n",
       "\tsrc_deepWalk_30\tfloat\n",
       "\tsrc_deepWalk_31\tfloat\n",
       "\tsrc_deepWalk_32\tfloat\n",
       "\tsrc_deepWalk_33\tfloat\n",
       "\tsrc_deepWalk_34\tfloat\n",
       "\tsrc_deepWalk_35\tfloat\n",
       "\tsrc_deepWalk_36\tfloat\n",
       "\tsrc_deepWalk_37\tfloat\n",
       "\tsrc_deepWalk_38\tfloat\n",
       "\tsrc_deepWalk_39\tfloat\n",
       "\tsrc_deepWalk_40\tfloat\n",
       "\tsrc_deepWalk_41\tfloat\n",
       "\tsrc_deepWalk_42\tfloat\n",
       "\tsrc_deepWalk_43\tfloat\n",
       "\tsrc_deepWalk_44\tfloat\n",
       "\tsrc_deepWalk_45\tfloat\n",
       "\tsrc_deepWalk_46\tfloat\n",
       "\tsrc_deepWalk_47\tfloat\n",
       "\tsrc_deepWalk_48\tfloat\n",
       "\tsrc_deepWalk_49\tfloat\n",
       "\tsrc_deepWalk_50\tfloat\n",
       "\tsrc_deepWalk_51\tfloat\n",
       "\tsrc_deepWalk_52\tfloat\n",
       "\tsrc_deepWalk_53\tfloat\n",
       "\tsrc_deepWalk_54\tfloat\n",
       "\tsrc_deepWalk_55\tfloat\n",
       "\tsrc_deepWalk_56\tfloat\n",
       "\tsrc_deepWalk_57\tfloat\n",
       "\tsrc_deepWalk_58\tfloat\n",
       "\tsrc_deepWalk_59\tfloat\n",
       "\tsrc_deepWalk_60\tfloat\n",
       "\tsrc_deepWalk_61\tfloat\n",
       "\tsrc_deepWalk_62\tfloat\n",
       "\tsrc_deepWalk_63\tfloat\n",
       "\tdst_out_vertices\tlist\n",
       "\tdst_in_vertices\tlist\n",
       "\tdst_in&out\tlist\n",
       "\tdst_in|out\tlist\n",
       "\tdst_in_degree\tint\n",
       "\tdst_out_degree\tint\n",
       "\tdst_out&in_degree\tint\n",
       "\tdst_out|in_degree\tint\n",
       "\tdst_deepWalk_0\tfloat\n",
       "\tdst_deepWalk_1\tfloat\n",
       "\tdst_deepWalk_2\tfloat\n",
       "\tdst_deepWalk_3\tfloat\n",
       "\tdst_deepWalk_4\tfloat\n",
       "\tdst_deepWalk_5\tfloat\n",
       "\tdst_deepWalk_6\tfloat\n",
       "\tdst_deepWalk_7\tfloat\n",
       "\tdst_deepWalk_8\tfloat\n",
       "\tdst_deepWalk_9\tfloat\n",
       "\tdst_deepWalk_10\tfloat\n",
       "\tdst_deepWalk_11\tfloat\n",
       "\tdst_deepWalk_12\tfloat\n",
       "\tdst_deepWalk_13\tfloat\n",
       "\tdst_deepWalk_14\tfloat\n",
       "\tdst_deepWalk_15\tfloat\n",
       "\tdst_deepWalk_16\tfloat\n",
       "\tdst_deepWalk_17\tfloat\n",
       "\tdst_deepWalk_18\tfloat\n",
       "\tdst_deepWalk_19\tfloat\n",
       "\tdst_deepWalk_20\tfloat\n",
       "\tdst_deepWalk_21\tfloat\n",
       "\tdst_deepWalk_22\tfloat\n",
       "\tdst_deepWalk_23\tfloat\n",
       "\tdst_deepWalk_24\tfloat\n",
       "\tdst_deepWalk_25\tfloat\n",
       "\tdst_deepWalk_26\tfloat\n",
       "\tdst_deepWalk_27\tfloat\n",
       "\tdst_deepWalk_28\tfloat\n",
       "\tdst_deepWalk_29\tfloat\n",
       "\tdst_deepWalk_30\tfloat\n",
       "\tdst_deepWalk_31\tfloat\n",
       "\tdst_deepWalk_32\tfloat\n",
       "\tdst_deepWalk_33\tfloat\n",
       "\tdst_deepWalk_34\tfloat\n",
       "\tdst_deepWalk_35\tfloat\n",
       "\tdst_deepWalk_36\tfloat\n",
       "\tdst_deepWalk_37\tfloat\n",
       "\tdst_deepWalk_38\tfloat\n",
       "\tdst_deepWalk_39\tfloat\n",
       "\tdst_deepWalk_40\tfloat\n",
       "\tdst_deepWalk_41\tfloat\n",
       "\tdst_deepWalk_42\tfloat\n",
       "\tdst_deepWalk_43\tfloat\n",
       "\tdst_deepWalk_44\tfloat\n",
       "\tdst_deepWalk_45\tfloat\n",
       "\tdst_deepWalk_46\tfloat\n",
       "\tdst_deepWalk_47\tfloat\n",
       "\tdst_deepWalk_48\tfloat\n",
       "\tdst_deepWalk_49\tfloat\n",
       "\tdst_deepWalk_50\tfloat\n",
       "\tdst_deepWalk_51\tfloat\n",
       "\tdst_deepWalk_52\tfloat\n",
       "\tdst_deepWalk_53\tfloat\n",
       "\tdst_deepWalk_54\tfloat\n",
       "\tdst_deepWalk_55\tfloat\n",
       "\tdst_deepWalk_56\tfloat\n",
       "\tdst_deepWalk_57\tfloat\n",
       "\tdst_deepWalk_58\tfloat\n",
       "\tdst_deepWalk_59\tfloat\n",
       "\tdst_deepWalk_60\tfloat\n",
       "\tdst_deepWalk_61\tfloat\n",
       "\tdst_deepWalk_62\tfloat\n",
       "\tdst_deepWalk_63\tfloat\n",
       "\tcommon_in_vertices\tint\n",
       "\tcommon_out_vertices\tint\n",
       "\tJaccar\tfloat\n",
       "\tcommon_in_vertices_lst\tlist\n",
       "\tcommon_out_vertices_lst\tlist\n",
       "\tAdamic_Adar\tfloat\n",
       "\n",
       "Rows: 2769706\n",
       "\n",
       "Data:\n",
       "+--------+--------+-------+-------------------------------+\n",
       "|  src   |  dst   | class |        src_out_vertices       |\n",
       "+--------+--------+-------+-------------------------------+\n",
       "| 211023 | 159269 |   1   | [230773, 57470, 76015, 189... |\n",
       "| 211023 | 189714 |   1   | [230773, 57470, 76015, 189... |\n",
       "| 211023 | 244758 |   0   | [230773, 57470, 76015, 189... |\n",
       "| 211023 | 57470  |   0   | [230773, 57470, 76015, 189... |\n",
       "| 211023 | 233626 |   1   | [230773, 57470, 76015, 189... |\n",
       "| 211023 | 252560 |   0   | [230773, 57470, 76015, 189... |\n",
       "| 211023 | 230773 |   0   | [230773, 57470, 76015, 189... |\n",
       "| 211023 | 198886 |   1   | [230773, 57470, 76015, 189... |\n",
       "| 211023 | 224381 |   1   | [230773, 57470, 76015, 189... |\n",
       "| 211023 | 143972 |   0   | [230773, 57470, 76015, 189... |\n",
       "+--------+--------+-------+-------------------------------+\n",
       "+-------------------------------+------------------+\n",
       "|        src_in_vertices        |    src_in&out    |\n",
       "+-------------------------------+------------------+\n",
       "| [230499, 181303, 13670, 23... | [233626, 198886] |\n",
       "| [230499, 181303, 13670, 23... | [233626, 198886] |\n",
       "| [230499, 181303, 13670, 23... | [233626, 198886] |\n",
       "| [230499, 181303, 13670, 23... | [233626, 198886] |\n",
       "| [230499, 181303, 13670, 23... | [233626, 198886] |\n",
       "| [230499, 181303, 13670, 23... | [233626, 198886] |\n",
       "| [230499, 181303, 13670, 23... | [233626, 198886] |\n",
       "| [230499, 181303, 13670, 23... | [233626, 198886] |\n",
       "| [230499, 181303, 13670, 23... | [233626, 198886] |\n",
       "| [230499, 181303, 13670, 23... | [233626, 198886] |\n",
       "+-------------------------------+------------------+\n",
       "+-------------------------------+---------------+----------------+-------------------+\n",
       "|           src_in|out          | src_in_degree | src_out_degree | src_out&in_degree |\n",
       "+-------------------------------+---------------+----------------+-------------------+\n",
       "| [57538, 13670, 161931, 248... |       13      |       16       |         2         |\n",
       "| [57538, 13670, 161931, 248... |       13      |       16       |         2         |\n",
       "| [57538, 13670, 161931, 248... |       13      |       16       |         2         |\n",
       "| [57538, 13670, 161931, 248... |       13      |       16       |         2         |\n",
       "| [57538, 13670, 161931, 248... |       13      |       16       |         2         |\n",
       "| [57538, 13670, 161931, 248... |       13      |       16       |         2         |\n",
       "| [57538, 13670, 161931, 248... |       13      |       16       |         2         |\n",
       "| [57538, 13670, 161931, 248... |       13      |       16       |         2         |\n",
       "| [57538, 13670, 161931, 248... |       13      |       16       |         2         |\n",
       "| [57538, 13670, 161931, 248... |       13      |       16       |         2         |\n",
       "+-------------------------------+---------------+----------------+-------------------+\n",
       "+-------------------+----------------+----------------+----------------+\n",
       "| src_out|in_degree | src_deepWalk_0 | src_deepWalk_1 | src_deepWalk_2 |\n",
       "+-------------------+----------------+----------------+----------------+\n",
       "|         27        |    -0.05066    |    0.227474    |   -1.163211    |\n",
       "|         27        |    -0.05066    |    0.227474    |   -1.163211    |\n",
       "|         27        |    -0.05066    |    0.227474    |   -1.163211    |\n",
       "|         27        |    -0.05066    |    0.227474    |   -1.163211    |\n",
       "|         27        |    -0.05066    |    0.227474    |   -1.163211    |\n",
       "|         27        |    -0.05066    |    0.227474    |   -1.163211    |\n",
       "|         27        |    -0.05066    |    0.227474    |   -1.163211    |\n",
       "|         27        |    -0.05066    |    0.227474    |   -1.163211    |\n",
       "|         27        |    -0.05066    |    0.227474    |   -1.163211    |\n",
       "|         27        |    -0.05066    |    0.227474    |   -1.163211    |\n",
       "+-------------------+----------------+----------------+----------------+\n",
       "+----------------+----------------+----------------+----------------+----------------+\n",
       "| src_deepWalk_3 | src_deepWalk_4 | src_deepWalk_5 | src_deepWalk_6 | src_deepWalk_7 |\n",
       "+----------------+----------------+----------------+----------------+----------------+\n",
       "|   -0.326046    |    0.253923    |   -0.198485    |   -0.997009    |   -0.603977    |\n",
       "|   -0.326046    |    0.253923    |   -0.198485    |   -0.997009    |   -0.603977    |\n",
       "|   -0.326046    |    0.253923    |   -0.198485    |   -0.997009    |   -0.603977    |\n",
       "|   -0.326046    |    0.253923    |   -0.198485    |   -0.997009    |   -0.603977    |\n",
       "|   -0.326046    |    0.253923    |   -0.198485    |   -0.997009    |   -0.603977    |\n",
       "|   -0.326046    |    0.253923    |   -0.198485    |   -0.997009    |   -0.603977    |\n",
       "|   -0.326046    |    0.253923    |   -0.198485    |   -0.997009    |   -0.603977    |\n",
       "|   -0.326046    |    0.253923    |   -0.198485    |   -0.997009    |   -0.603977    |\n",
       "|   -0.326046    |    0.253923    |   -0.198485    |   -0.997009    |   -0.603977    |\n",
       "|   -0.326046    |    0.253923    |   -0.198485    |   -0.997009    |   -0.603977    |\n",
       "+----------------+----------------+----------------+----------------+----------------+\n",
       "+----------------+-----+\n",
       "| src_deepWalk_8 | ... |\n",
       "+----------------+-----+\n",
       "|   -0.420289    | ... |\n",
       "|   -0.420289    | ... |\n",
       "|   -0.420289    | ... |\n",
       "|   -0.420289    | ... |\n",
       "|   -0.420289    | ... |\n",
       "|   -0.420289    | ... |\n",
       "|   -0.420289    | ... |\n",
       "|   -0.420289    | ... |\n",
       "|   -0.420289    | ... |\n",
       "|   -0.420289    | ... |\n",
       "+----------------+-----+\n",
       "[2769706 rows x 153 columns]\n",
       "Note: Only the head of the SFrame is printed.\n",
       "You can use print_rows(num_rows=m, num_columns=n) to print more rows and columns."
      ]
     },
     "execution_count": 44,
     "metadata": {},
     "output_type": "execute_result"
    }
   ],
   "source": [
    "edges.add_column(ad_adar, name='Adamic_Adar')"
   ]
  },
  {
   "cell_type": "markdown",
   "metadata": {},
   "source": [
    "Результатом пункта 3 является матрица признаков. Теперь мы готовы занятся настройкой моделей. Главная ваша задача в пункте 3 - подготовить как можно больше качественных признаков, которые могли бы использоваться для настройки модели машинного обучения."
   ]
  },
  {
   "cell_type": "markdown",
   "metadata": {},
   "source": [
    "----\n",
    "### 4. Настройка модели и валидация качества модели - 20 Баллов\n",
    "\n",
    "Исключим подозрительные ребра из рассмотрения, а затем разобьем датасет на 2 части, для обучения и проверки результатов. Настроим базовую модель классификации - логистическую регрессию.\n",
    "Для улучшения качества модели вам предстоит выполнить следующие пункты:\n",
    "\n",
    "1. Кросс - валидация для настройки гиперпараметров модели и регуляризации\n",
    "2. Подбор модели машинного обучения (случайный лес, бустинг, нейронная сеть и т.д.)"
   ]
  },
  {
   "cell_type": "code",
   "execution_count": 49,
   "metadata": {
    "collapsed": false
   },
   "outputs": [
    {
     "name": "stdout",
     "output_type": "stream",
     "text": [
      "(2769706, 154)\n"
     ]
    }
   ],
   "source": [
    "print edges.shape"
   ]
  },
  {
   "cell_type": "code",
   "execution_count": 50,
   "metadata": {
    "collapsed": false
   },
   "outputs": [
    {
     "name": "stdout",
     "output_type": "stream",
     "text": [
      "(299994, 3)\n"
     ]
    }
   ],
   "source": [
    "susp = gl.SFrame.read_csv('suspicions.csv', delimiter=',', verbose=False)\n",
    "print susp.shape"
   ]
  },
  {
   "cell_type": "code",
   "execution_count": 51,
   "metadata": {
    "collapsed": false
   },
   "outputs": [
    {
     "name": "stdout",
     "output_type": "stream",
     "text": [
      "(2769706, 154)\n",
      "(2769706, 155)\n"
     ]
    }
   ],
   "source": [
    "print edges.shape\n",
    "edges = edges.join(susp, on=['src', 'dst'], how='left')\n",
    "print edges.shape"
   ]
  },
  {
   "cell_type": "code",
   "execution_count": 52,
   "metadata": {
    "collapsed": false
   },
   "outputs": [
    {
     "name": "stdout",
     "output_type": "stream",
     "text": [
      "(2469712, 155) (299994, 155)\n"
     ]
    }
   ],
   "source": [
    "clean_edges = edges[edges['edge_id'] == None]\n",
    "susp_edges = edges[edges['edge_id'] != None]\n",
    "print clean_edges.shape, susp_edges.shape"
   ]
  },
  {
   "cell_type": "code",
   "execution_count": 53,
   "metadata": {
    "collapsed": false
   },
   "outputs": [
    {
     "data": {
      "text/html": [
       "<div style=\"max-height:1000px;max-width:1500px;overflow:auto;\"><table frame=\"box\" rules=\"cols\">\n",
       "    <tr>\n",
       "        <th style=\"padding-left: 1em; padding-right: 1em; text-align: center\">src</th>\n",
       "        <th style=\"padding-left: 1em; padding-right: 1em; text-align: center\">dst</th>\n",
       "        <th style=\"padding-left: 1em; padding-right: 1em; text-align: center\">class</th>\n",
       "        <th style=\"padding-left: 1em; padding-right: 1em; text-align: center\">src_out_vertices</th>\n",
       "        <th style=\"padding-left: 1em; padding-right: 1em; text-align: center\">src_in_vertices</th>\n",
       "        <th style=\"padding-left: 1em; padding-right: 1em; text-align: center\">src_in&amp;out</th>\n",
       "    </tr>\n",
       "    <tr>\n",
       "        <td style=\"padding-left: 1em; padding-right: 1em; text-align: center; vertical-align: top\">211023</td>\n",
       "        <td style=\"padding-left: 1em; padding-right: 1em; text-align: center; vertical-align: top\">189714</td>\n",
       "        <td style=\"padding-left: 1em; padding-right: 1em; text-align: center; vertical-align: top\">1</td>\n",
       "        <td style=\"padding-left: 1em; padding-right: 1em; text-align: center; vertical-align: top\">[230773, 57470, 76015,<br>189713, 233626, 252560, ...</td>\n",
       "        <td style=\"padding-left: 1em; padding-right: 1em; text-align: center; vertical-align: top\">[230499, 181303, 13670,<br>236267, 233626, 248527, ...</td>\n",
       "        <td style=\"padding-left: 1em; padding-right: 1em; text-align: center; vertical-align: top\">[233626, 198886]</td>\n",
       "    </tr>\n",
       "    <tr>\n",
       "        <td style=\"padding-left: 1em; padding-right: 1em; text-align: center; vertical-align: top\">211023</td>\n",
       "        <td style=\"padding-left: 1em; padding-right: 1em; text-align: center; vertical-align: top\">244758</td>\n",
       "        <td style=\"padding-left: 1em; padding-right: 1em; text-align: center; vertical-align: top\">0</td>\n",
       "        <td style=\"padding-left: 1em; padding-right: 1em; text-align: center; vertical-align: top\">[230773, 57470, 76015,<br>189713, 233626, 252560, ...</td>\n",
       "        <td style=\"padding-left: 1em; padding-right: 1em; text-align: center; vertical-align: top\">[230499, 181303, 13670,<br>236267, 233626, 248527, ...</td>\n",
       "        <td style=\"padding-left: 1em; padding-right: 1em; text-align: center; vertical-align: top\">[233626, 198886]</td>\n",
       "    </tr>\n",
       "    <tr>\n",
       "        <td style=\"padding-left: 1em; padding-right: 1em; text-align: center; vertical-align: top\">211023</td>\n",
       "        <td style=\"padding-left: 1em; padding-right: 1em; text-align: center; vertical-align: top\">57470</td>\n",
       "        <td style=\"padding-left: 1em; padding-right: 1em; text-align: center; vertical-align: top\">0</td>\n",
       "        <td style=\"padding-left: 1em; padding-right: 1em; text-align: center; vertical-align: top\">[230773, 57470, 76015,<br>189713, 233626, 252560, ...</td>\n",
       "        <td style=\"padding-left: 1em; padding-right: 1em; text-align: center; vertical-align: top\">[230499, 181303, 13670,<br>236267, 233626, 248527, ...</td>\n",
       "        <td style=\"padding-left: 1em; padding-right: 1em; text-align: center; vertical-align: top\">[233626, 198886]</td>\n",
       "    </tr>\n",
       "    <tr>\n",
       "        <td style=\"padding-left: 1em; padding-right: 1em; text-align: center; vertical-align: top\">211023</td>\n",
       "        <td style=\"padding-left: 1em; padding-right: 1em; text-align: center; vertical-align: top\">233626</td>\n",
       "        <td style=\"padding-left: 1em; padding-right: 1em; text-align: center; vertical-align: top\">1</td>\n",
       "        <td style=\"padding-left: 1em; padding-right: 1em; text-align: center; vertical-align: top\">[230773, 57470, 76015,<br>189713, 233626, 252560, ...</td>\n",
       "        <td style=\"padding-left: 1em; padding-right: 1em; text-align: center; vertical-align: top\">[230499, 181303, 13670,<br>236267, 233626, 248527, ...</td>\n",
       "        <td style=\"padding-left: 1em; padding-right: 1em; text-align: center; vertical-align: top\">[233626, 198886]</td>\n",
       "    </tr>\n",
       "    <tr>\n",
       "        <td style=\"padding-left: 1em; padding-right: 1em; text-align: center; vertical-align: top\">211023</td>\n",
       "        <td style=\"padding-left: 1em; padding-right: 1em; text-align: center; vertical-align: top\">252560</td>\n",
       "        <td style=\"padding-left: 1em; padding-right: 1em; text-align: center; vertical-align: top\">0</td>\n",
       "        <td style=\"padding-left: 1em; padding-right: 1em; text-align: center; vertical-align: top\">[230773, 57470, 76015,<br>189713, 233626, 252560, ...</td>\n",
       "        <td style=\"padding-left: 1em; padding-right: 1em; text-align: center; vertical-align: top\">[230499, 181303, 13670,<br>236267, 233626, 248527, ...</td>\n",
       "        <td style=\"padding-left: 1em; padding-right: 1em; text-align: center; vertical-align: top\">[233626, 198886]</td>\n",
       "    </tr>\n",
       "    <tr>\n",
       "        <td style=\"padding-left: 1em; padding-right: 1em; text-align: center; vertical-align: top\">211023</td>\n",
       "        <td style=\"padding-left: 1em; padding-right: 1em; text-align: center; vertical-align: top\">230773</td>\n",
       "        <td style=\"padding-left: 1em; padding-right: 1em; text-align: center; vertical-align: top\">0</td>\n",
       "        <td style=\"padding-left: 1em; padding-right: 1em; text-align: center; vertical-align: top\">[230773, 57470, 76015,<br>189713, 233626, 252560, ...</td>\n",
       "        <td style=\"padding-left: 1em; padding-right: 1em; text-align: center; vertical-align: top\">[230499, 181303, 13670,<br>236267, 233626, 248527, ...</td>\n",
       "        <td style=\"padding-left: 1em; padding-right: 1em; text-align: center; vertical-align: top\">[233626, 198886]</td>\n",
       "    </tr>\n",
       "    <tr>\n",
       "        <td style=\"padding-left: 1em; padding-right: 1em; text-align: center; vertical-align: top\">211023</td>\n",
       "        <td style=\"padding-left: 1em; padding-right: 1em; text-align: center; vertical-align: top\">198886</td>\n",
       "        <td style=\"padding-left: 1em; padding-right: 1em; text-align: center; vertical-align: top\">1</td>\n",
       "        <td style=\"padding-left: 1em; padding-right: 1em; text-align: center; vertical-align: top\">[230773, 57470, 76015,<br>189713, 233626, 252560, ...</td>\n",
       "        <td style=\"padding-left: 1em; padding-right: 1em; text-align: center; vertical-align: top\">[230499, 181303, 13670,<br>236267, 233626, 248527, ...</td>\n",
       "        <td style=\"padding-left: 1em; padding-right: 1em; text-align: center; vertical-align: top\">[233626, 198886]</td>\n",
       "    </tr>\n",
       "    <tr>\n",
       "        <td style=\"padding-left: 1em; padding-right: 1em; text-align: center; vertical-align: top\">211023</td>\n",
       "        <td style=\"padding-left: 1em; padding-right: 1em; text-align: center; vertical-align: top\">143972</td>\n",
       "        <td style=\"padding-left: 1em; padding-right: 1em; text-align: center; vertical-align: top\">0</td>\n",
       "        <td style=\"padding-left: 1em; padding-right: 1em; text-align: center; vertical-align: top\">[230773, 57470, 76015,<br>189713, 233626, 252560, ...</td>\n",
       "        <td style=\"padding-left: 1em; padding-right: 1em; text-align: center; vertical-align: top\">[230499, 181303, 13670,<br>236267, 233626, 248527, ...</td>\n",
       "        <td style=\"padding-left: 1em; padding-right: 1em; text-align: center; vertical-align: top\">[233626, 198886]</td>\n",
       "    </tr>\n",
       "    <tr>\n",
       "        <td style=\"padding-left: 1em; padding-right: 1em; text-align: center; vertical-align: top\">211023</td>\n",
       "        <td style=\"padding-left: 1em; padding-right: 1em; text-align: center; vertical-align: top\">246520</td>\n",
       "        <td style=\"padding-left: 1em; padding-right: 1em; text-align: center; vertical-align: top\">0</td>\n",
       "        <td style=\"padding-left: 1em; padding-right: 1em; text-align: center; vertical-align: top\">[230773, 57470, 76015,<br>189713, 233626, 252560, ...</td>\n",
       "        <td style=\"padding-left: 1em; padding-right: 1em; text-align: center; vertical-align: top\">[230499, 181303, 13670,<br>236267, 233626, 248527, ...</td>\n",
       "        <td style=\"padding-left: 1em; padding-right: 1em; text-align: center; vertical-align: top\">[233626, 198886]</td>\n",
       "    </tr>\n",
       "    <tr>\n",
       "        <td style=\"padding-left: 1em; padding-right: 1em; text-align: center; vertical-align: top\">211023</td>\n",
       "        <td style=\"padding-left: 1em; padding-right: 1em; text-align: center; vertical-align: top\">76015</td>\n",
       "        <td style=\"padding-left: 1em; padding-right: 1em; text-align: center; vertical-align: top\">0</td>\n",
       "        <td style=\"padding-left: 1em; padding-right: 1em; text-align: center; vertical-align: top\">[230773, 57470, 76015,<br>189713, 233626, 252560, ...</td>\n",
       "        <td style=\"padding-left: 1em; padding-right: 1em; text-align: center; vertical-align: top\">[230499, 181303, 13670,<br>236267, 233626, 248527, ...</td>\n",
       "        <td style=\"padding-left: 1em; padding-right: 1em; text-align: center; vertical-align: top\">[233626, 198886]</td>\n",
       "    </tr>\n",
       "</table>\n",
       "<table frame=\"box\" rules=\"cols\">\n",
       "    <tr>\n",
       "        <th style=\"padding-left: 1em; padding-right: 1em; text-align: center\">src_in|out</th>\n",
       "        <th style=\"padding-left: 1em; padding-right: 1em; text-align: center\">src_in_degree</th>\n",
       "        <th style=\"padding-left: 1em; padding-right: 1em; text-align: center\">src_out_degree</th>\n",
       "        <th style=\"padding-left: 1em; padding-right: 1em; text-align: center\">src_out&amp;in_degree</th>\n",
       "        <th style=\"padding-left: 1em; padding-right: 1em; text-align: center\">src_out|in_degree</th>\n",
       "        <th style=\"padding-left: 1em; padding-right: 1em; text-align: center\">src_deepWalk_0</th>\n",
       "    </tr>\n",
       "    <tr>\n",
       "        <td style=\"padding-left: 1em; padding-right: 1em; text-align: center; vertical-align: top\">[57538, 13670, 161931,<br>248527, 252560, 189713, ...</td>\n",
       "        <td style=\"padding-left: 1em; padding-right: 1em; text-align: center; vertical-align: top\">13</td>\n",
       "        <td style=\"padding-left: 1em; padding-right: 1em; text-align: center; vertical-align: top\">16</td>\n",
       "        <td style=\"padding-left: 1em; padding-right: 1em; text-align: center; vertical-align: top\">2</td>\n",
       "        <td style=\"padding-left: 1em; padding-right: 1em; text-align: center; vertical-align: top\">27</td>\n",
       "        <td style=\"padding-left: 1em; padding-right: 1em; text-align: center; vertical-align: top\">-0.05066</td>\n",
       "    </tr>\n",
       "    <tr>\n",
       "        <td style=\"padding-left: 1em; padding-right: 1em; text-align: center; vertical-align: top\">[57538, 13670, 161931,<br>248527, 252560, 189713, ...</td>\n",
       "        <td style=\"padding-left: 1em; padding-right: 1em; text-align: center; vertical-align: top\">13</td>\n",
       "        <td style=\"padding-left: 1em; padding-right: 1em; text-align: center; vertical-align: top\">16</td>\n",
       "        <td style=\"padding-left: 1em; padding-right: 1em; text-align: center; vertical-align: top\">2</td>\n",
       "        <td style=\"padding-left: 1em; padding-right: 1em; text-align: center; vertical-align: top\">27</td>\n",
       "        <td style=\"padding-left: 1em; padding-right: 1em; text-align: center; vertical-align: top\">-0.05066</td>\n",
       "    </tr>\n",
       "    <tr>\n",
       "        <td style=\"padding-left: 1em; padding-right: 1em; text-align: center; vertical-align: top\">[57538, 13670, 161931,<br>248527, 252560, 189713, ...</td>\n",
       "        <td style=\"padding-left: 1em; padding-right: 1em; text-align: center; vertical-align: top\">13</td>\n",
       "        <td style=\"padding-left: 1em; padding-right: 1em; text-align: center; vertical-align: top\">16</td>\n",
       "        <td style=\"padding-left: 1em; padding-right: 1em; text-align: center; vertical-align: top\">2</td>\n",
       "        <td style=\"padding-left: 1em; padding-right: 1em; text-align: center; vertical-align: top\">27</td>\n",
       "        <td style=\"padding-left: 1em; padding-right: 1em; text-align: center; vertical-align: top\">-0.05066</td>\n",
       "    </tr>\n",
       "    <tr>\n",
       "        <td style=\"padding-left: 1em; padding-right: 1em; text-align: center; vertical-align: top\">[57538, 13670, 161931,<br>248527, 252560, 189713, ...</td>\n",
       "        <td style=\"padding-left: 1em; padding-right: 1em; text-align: center; vertical-align: top\">13</td>\n",
       "        <td style=\"padding-left: 1em; padding-right: 1em; text-align: center; vertical-align: top\">16</td>\n",
       "        <td style=\"padding-left: 1em; padding-right: 1em; text-align: center; vertical-align: top\">2</td>\n",
       "        <td style=\"padding-left: 1em; padding-right: 1em; text-align: center; vertical-align: top\">27</td>\n",
       "        <td style=\"padding-left: 1em; padding-right: 1em; text-align: center; vertical-align: top\">-0.05066</td>\n",
       "    </tr>\n",
       "    <tr>\n",
       "        <td style=\"padding-left: 1em; padding-right: 1em; text-align: center; vertical-align: top\">[57538, 13670, 161931,<br>248527, 252560, 189713, ...</td>\n",
       "        <td style=\"padding-left: 1em; padding-right: 1em; text-align: center; vertical-align: top\">13</td>\n",
       "        <td style=\"padding-left: 1em; padding-right: 1em; text-align: center; vertical-align: top\">16</td>\n",
       "        <td style=\"padding-left: 1em; padding-right: 1em; text-align: center; vertical-align: top\">2</td>\n",
       "        <td style=\"padding-left: 1em; padding-right: 1em; text-align: center; vertical-align: top\">27</td>\n",
       "        <td style=\"padding-left: 1em; padding-right: 1em; text-align: center; vertical-align: top\">-0.05066</td>\n",
       "    </tr>\n",
       "    <tr>\n",
       "        <td style=\"padding-left: 1em; padding-right: 1em; text-align: center; vertical-align: top\">[57538, 13670, 161931,<br>248527, 252560, 189713, ...</td>\n",
       "        <td style=\"padding-left: 1em; padding-right: 1em; text-align: center; vertical-align: top\">13</td>\n",
       "        <td style=\"padding-left: 1em; padding-right: 1em; text-align: center; vertical-align: top\">16</td>\n",
       "        <td style=\"padding-left: 1em; padding-right: 1em; text-align: center; vertical-align: top\">2</td>\n",
       "        <td style=\"padding-left: 1em; padding-right: 1em; text-align: center; vertical-align: top\">27</td>\n",
       "        <td style=\"padding-left: 1em; padding-right: 1em; text-align: center; vertical-align: top\">-0.05066</td>\n",
       "    </tr>\n",
       "    <tr>\n",
       "        <td style=\"padding-left: 1em; padding-right: 1em; text-align: center; vertical-align: top\">[57538, 13670, 161931,<br>248527, 252560, 189713, ...</td>\n",
       "        <td style=\"padding-left: 1em; padding-right: 1em; text-align: center; vertical-align: top\">13</td>\n",
       "        <td style=\"padding-left: 1em; padding-right: 1em; text-align: center; vertical-align: top\">16</td>\n",
       "        <td style=\"padding-left: 1em; padding-right: 1em; text-align: center; vertical-align: top\">2</td>\n",
       "        <td style=\"padding-left: 1em; padding-right: 1em; text-align: center; vertical-align: top\">27</td>\n",
       "        <td style=\"padding-left: 1em; padding-right: 1em; text-align: center; vertical-align: top\">-0.05066</td>\n",
       "    </tr>\n",
       "    <tr>\n",
       "        <td style=\"padding-left: 1em; padding-right: 1em; text-align: center; vertical-align: top\">[57538, 13670, 161931,<br>248527, 252560, 189713, ...</td>\n",
       "        <td style=\"padding-left: 1em; padding-right: 1em; text-align: center; vertical-align: top\">13</td>\n",
       "        <td style=\"padding-left: 1em; padding-right: 1em; text-align: center; vertical-align: top\">16</td>\n",
       "        <td style=\"padding-left: 1em; padding-right: 1em; text-align: center; vertical-align: top\">2</td>\n",
       "        <td style=\"padding-left: 1em; padding-right: 1em; text-align: center; vertical-align: top\">27</td>\n",
       "        <td style=\"padding-left: 1em; padding-right: 1em; text-align: center; vertical-align: top\">-0.05066</td>\n",
       "    </tr>\n",
       "    <tr>\n",
       "        <td style=\"padding-left: 1em; padding-right: 1em; text-align: center; vertical-align: top\">[57538, 13670, 161931,<br>248527, 252560, 189713, ...</td>\n",
       "        <td style=\"padding-left: 1em; padding-right: 1em; text-align: center; vertical-align: top\">13</td>\n",
       "        <td style=\"padding-left: 1em; padding-right: 1em; text-align: center; vertical-align: top\">16</td>\n",
       "        <td style=\"padding-left: 1em; padding-right: 1em; text-align: center; vertical-align: top\">2</td>\n",
       "        <td style=\"padding-left: 1em; padding-right: 1em; text-align: center; vertical-align: top\">27</td>\n",
       "        <td style=\"padding-left: 1em; padding-right: 1em; text-align: center; vertical-align: top\">-0.05066</td>\n",
       "    </tr>\n",
       "    <tr>\n",
       "        <td style=\"padding-left: 1em; padding-right: 1em; text-align: center; vertical-align: top\">[57538, 13670, 161931,<br>248527, 252560, 189713, ...</td>\n",
       "        <td style=\"padding-left: 1em; padding-right: 1em; text-align: center; vertical-align: top\">13</td>\n",
       "        <td style=\"padding-left: 1em; padding-right: 1em; text-align: center; vertical-align: top\">16</td>\n",
       "        <td style=\"padding-left: 1em; padding-right: 1em; text-align: center; vertical-align: top\">2</td>\n",
       "        <td style=\"padding-left: 1em; padding-right: 1em; text-align: center; vertical-align: top\">27</td>\n",
       "        <td style=\"padding-left: 1em; padding-right: 1em; text-align: center; vertical-align: top\">-0.05066</td>\n",
       "    </tr>\n",
       "</table>\n",
       "<table frame=\"box\" rules=\"cols\">\n",
       "    <tr>\n",
       "        <th style=\"padding-left: 1em; padding-right: 1em; text-align: center\">src_deepWalk_1</th>\n",
       "        <th style=\"padding-left: 1em; padding-right: 1em; text-align: center\">src_deepWalk_2</th>\n",
       "        <th style=\"padding-left: 1em; padding-right: 1em; text-align: center\">src_deepWalk_3</th>\n",
       "        <th style=\"padding-left: 1em; padding-right: 1em; text-align: center\">src_deepWalk_4</th>\n",
       "        <th style=\"padding-left: 1em; padding-right: 1em; text-align: center\">src_deepWalk_5</th>\n",
       "        <th style=\"padding-left: 1em; padding-right: 1em; text-align: center\">src_deepWalk_6</th>\n",
       "        <th style=\"padding-left: 1em; padding-right: 1em; text-align: center\">src_deepWalk_7</th>\n",
       "    </tr>\n",
       "    <tr>\n",
       "        <td style=\"padding-left: 1em; padding-right: 1em; text-align: center; vertical-align: top\">0.227474</td>\n",
       "        <td style=\"padding-left: 1em; padding-right: 1em; text-align: center; vertical-align: top\">-1.163211</td>\n",
       "        <td style=\"padding-left: 1em; padding-right: 1em; text-align: center; vertical-align: top\">-0.326046</td>\n",
       "        <td style=\"padding-left: 1em; padding-right: 1em; text-align: center; vertical-align: top\">0.253923</td>\n",
       "        <td style=\"padding-left: 1em; padding-right: 1em; text-align: center; vertical-align: top\">-0.198485</td>\n",
       "        <td style=\"padding-left: 1em; padding-right: 1em; text-align: center; vertical-align: top\">-0.997009</td>\n",
       "        <td style=\"padding-left: 1em; padding-right: 1em; text-align: center; vertical-align: top\">-0.603977</td>\n",
       "    </tr>\n",
       "    <tr>\n",
       "        <td style=\"padding-left: 1em; padding-right: 1em; text-align: center; vertical-align: top\">0.227474</td>\n",
       "        <td style=\"padding-left: 1em; padding-right: 1em; text-align: center; vertical-align: top\">-1.163211</td>\n",
       "        <td style=\"padding-left: 1em; padding-right: 1em; text-align: center; vertical-align: top\">-0.326046</td>\n",
       "        <td style=\"padding-left: 1em; padding-right: 1em; text-align: center; vertical-align: top\">0.253923</td>\n",
       "        <td style=\"padding-left: 1em; padding-right: 1em; text-align: center; vertical-align: top\">-0.198485</td>\n",
       "        <td style=\"padding-left: 1em; padding-right: 1em; text-align: center; vertical-align: top\">-0.997009</td>\n",
       "        <td style=\"padding-left: 1em; padding-right: 1em; text-align: center; vertical-align: top\">-0.603977</td>\n",
       "    </tr>\n",
       "    <tr>\n",
       "        <td style=\"padding-left: 1em; padding-right: 1em; text-align: center; vertical-align: top\">0.227474</td>\n",
       "        <td style=\"padding-left: 1em; padding-right: 1em; text-align: center; vertical-align: top\">-1.163211</td>\n",
       "        <td style=\"padding-left: 1em; padding-right: 1em; text-align: center; vertical-align: top\">-0.326046</td>\n",
       "        <td style=\"padding-left: 1em; padding-right: 1em; text-align: center; vertical-align: top\">0.253923</td>\n",
       "        <td style=\"padding-left: 1em; padding-right: 1em; text-align: center; vertical-align: top\">-0.198485</td>\n",
       "        <td style=\"padding-left: 1em; padding-right: 1em; text-align: center; vertical-align: top\">-0.997009</td>\n",
       "        <td style=\"padding-left: 1em; padding-right: 1em; text-align: center; vertical-align: top\">-0.603977</td>\n",
       "    </tr>\n",
       "    <tr>\n",
       "        <td style=\"padding-left: 1em; padding-right: 1em; text-align: center; vertical-align: top\">0.227474</td>\n",
       "        <td style=\"padding-left: 1em; padding-right: 1em; text-align: center; vertical-align: top\">-1.163211</td>\n",
       "        <td style=\"padding-left: 1em; padding-right: 1em; text-align: center; vertical-align: top\">-0.326046</td>\n",
       "        <td style=\"padding-left: 1em; padding-right: 1em; text-align: center; vertical-align: top\">0.253923</td>\n",
       "        <td style=\"padding-left: 1em; padding-right: 1em; text-align: center; vertical-align: top\">-0.198485</td>\n",
       "        <td style=\"padding-left: 1em; padding-right: 1em; text-align: center; vertical-align: top\">-0.997009</td>\n",
       "        <td style=\"padding-left: 1em; padding-right: 1em; text-align: center; vertical-align: top\">-0.603977</td>\n",
       "    </tr>\n",
       "    <tr>\n",
       "        <td style=\"padding-left: 1em; padding-right: 1em; text-align: center; vertical-align: top\">0.227474</td>\n",
       "        <td style=\"padding-left: 1em; padding-right: 1em; text-align: center; vertical-align: top\">-1.163211</td>\n",
       "        <td style=\"padding-left: 1em; padding-right: 1em; text-align: center; vertical-align: top\">-0.326046</td>\n",
       "        <td style=\"padding-left: 1em; padding-right: 1em; text-align: center; vertical-align: top\">0.253923</td>\n",
       "        <td style=\"padding-left: 1em; padding-right: 1em; text-align: center; vertical-align: top\">-0.198485</td>\n",
       "        <td style=\"padding-left: 1em; padding-right: 1em; text-align: center; vertical-align: top\">-0.997009</td>\n",
       "        <td style=\"padding-left: 1em; padding-right: 1em; text-align: center; vertical-align: top\">-0.603977</td>\n",
       "    </tr>\n",
       "    <tr>\n",
       "        <td style=\"padding-left: 1em; padding-right: 1em; text-align: center; vertical-align: top\">0.227474</td>\n",
       "        <td style=\"padding-left: 1em; padding-right: 1em; text-align: center; vertical-align: top\">-1.163211</td>\n",
       "        <td style=\"padding-left: 1em; padding-right: 1em; text-align: center; vertical-align: top\">-0.326046</td>\n",
       "        <td style=\"padding-left: 1em; padding-right: 1em; text-align: center; vertical-align: top\">0.253923</td>\n",
       "        <td style=\"padding-left: 1em; padding-right: 1em; text-align: center; vertical-align: top\">-0.198485</td>\n",
       "        <td style=\"padding-left: 1em; padding-right: 1em; text-align: center; vertical-align: top\">-0.997009</td>\n",
       "        <td style=\"padding-left: 1em; padding-right: 1em; text-align: center; vertical-align: top\">-0.603977</td>\n",
       "    </tr>\n",
       "    <tr>\n",
       "        <td style=\"padding-left: 1em; padding-right: 1em; text-align: center; vertical-align: top\">0.227474</td>\n",
       "        <td style=\"padding-left: 1em; padding-right: 1em; text-align: center; vertical-align: top\">-1.163211</td>\n",
       "        <td style=\"padding-left: 1em; padding-right: 1em; text-align: center; vertical-align: top\">-0.326046</td>\n",
       "        <td style=\"padding-left: 1em; padding-right: 1em; text-align: center; vertical-align: top\">0.253923</td>\n",
       "        <td style=\"padding-left: 1em; padding-right: 1em; text-align: center; vertical-align: top\">-0.198485</td>\n",
       "        <td style=\"padding-left: 1em; padding-right: 1em; text-align: center; vertical-align: top\">-0.997009</td>\n",
       "        <td style=\"padding-left: 1em; padding-right: 1em; text-align: center; vertical-align: top\">-0.603977</td>\n",
       "    </tr>\n",
       "    <tr>\n",
       "        <td style=\"padding-left: 1em; padding-right: 1em; text-align: center; vertical-align: top\">0.227474</td>\n",
       "        <td style=\"padding-left: 1em; padding-right: 1em; text-align: center; vertical-align: top\">-1.163211</td>\n",
       "        <td style=\"padding-left: 1em; padding-right: 1em; text-align: center; vertical-align: top\">-0.326046</td>\n",
       "        <td style=\"padding-left: 1em; padding-right: 1em; text-align: center; vertical-align: top\">0.253923</td>\n",
       "        <td style=\"padding-left: 1em; padding-right: 1em; text-align: center; vertical-align: top\">-0.198485</td>\n",
       "        <td style=\"padding-left: 1em; padding-right: 1em; text-align: center; vertical-align: top\">-0.997009</td>\n",
       "        <td style=\"padding-left: 1em; padding-right: 1em; text-align: center; vertical-align: top\">-0.603977</td>\n",
       "    </tr>\n",
       "    <tr>\n",
       "        <td style=\"padding-left: 1em; padding-right: 1em; text-align: center; vertical-align: top\">0.227474</td>\n",
       "        <td style=\"padding-left: 1em; padding-right: 1em; text-align: center; vertical-align: top\">-1.163211</td>\n",
       "        <td style=\"padding-left: 1em; padding-right: 1em; text-align: center; vertical-align: top\">-0.326046</td>\n",
       "        <td style=\"padding-left: 1em; padding-right: 1em; text-align: center; vertical-align: top\">0.253923</td>\n",
       "        <td style=\"padding-left: 1em; padding-right: 1em; text-align: center; vertical-align: top\">-0.198485</td>\n",
       "        <td style=\"padding-left: 1em; padding-right: 1em; text-align: center; vertical-align: top\">-0.997009</td>\n",
       "        <td style=\"padding-left: 1em; padding-right: 1em; text-align: center; vertical-align: top\">-0.603977</td>\n",
       "    </tr>\n",
       "    <tr>\n",
       "        <td style=\"padding-left: 1em; padding-right: 1em; text-align: center; vertical-align: top\">0.227474</td>\n",
       "        <td style=\"padding-left: 1em; padding-right: 1em; text-align: center; vertical-align: top\">-1.163211</td>\n",
       "        <td style=\"padding-left: 1em; padding-right: 1em; text-align: center; vertical-align: top\">-0.326046</td>\n",
       "        <td style=\"padding-left: 1em; padding-right: 1em; text-align: center; vertical-align: top\">0.253923</td>\n",
       "        <td style=\"padding-left: 1em; padding-right: 1em; text-align: center; vertical-align: top\">-0.198485</td>\n",
       "        <td style=\"padding-left: 1em; padding-right: 1em; text-align: center; vertical-align: top\">-0.997009</td>\n",
       "        <td style=\"padding-left: 1em; padding-right: 1em; text-align: center; vertical-align: top\">-0.603977</td>\n",
       "    </tr>\n",
       "</table>\n",
       "<table frame=\"box\" rules=\"cols\">\n",
       "    <tr>\n",
       "        <th style=\"padding-left: 1em; padding-right: 1em; text-align: center\">src_deepWalk_8</th>\n",
       "        <th style=\"padding-left: 1em; padding-right: 1em; text-align: center\">src_deepWalk_9</th>\n",
       "        <th style=\"padding-left: 1em; padding-right: 1em; text-align: center\">src_deepWalk_10</th>\n",
       "        <th style=\"padding-left: 1em; padding-right: 1em; text-align: center\">src_deepWalk_11</th>\n",
       "        <th style=\"padding-left: 1em; padding-right: 1em; text-align: center\">src_deepWalk_12</th>\n",
       "        <th style=\"padding-left: 1em; padding-right: 1em; text-align: center\">src_deepWalk_13</th>\n",
       "        <th style=\"padding-left: 1em; padding-right: 1em; text-align: center\">src_deepWalk_14</th>\n",
       "    </tr>\n",
       "    <tr>\n",
       "        <td style=\"padding-left: 1em; padding-right: 1em; text-align: center; vertical-align: top\">-0.420289</td>\n",
       "        <td style=\"padding-left: 1em; padding-right: 1em; text-align: center; vertical-align: top\">-0.250026</td>\n",
       "        <td style=\"padding-left: 1em; padding-right: 1em; text-align: center; vertical-align: top\">0.294057</td>\n",
       "        <td style=\"padding-left: 1em; padding-right: 1em; text-align: center; vertical-align: top\">-0.442229</td>\n",
       "        <td style=\"padding-left: 1em; padding-right: 1em; text-align: center; vertical-align: top\">0.668259</td>\n",
       "        <td style=\"padding-left: 1em; padding-right: 1em; text-align: center; vertical-align: top\">0.095325</td>\n",
       "        <td style=\"padding-left: 1em; padding-right: 1em; text-align: center; vertical-align: top\">0.079501</td>\n",
       "    </tr>\n",
       "    <tr>\n",
       "        <td style=\"padding-left: 1em; padding-right: 1em; text-align: center; vertical-align: top\">-0.420289</td>\n",
       "        <td style=\"padding-left: 1em; padding-right: 1em; text-align: center; vertical-align: top\">-0.250026</td>\n",
       "        <td style=\"padding-left: 1em; padding-right: 1em; text-align: center; vertical-align: top\">0.294057</td>\n",
       "        <td style=\"padding-left: 1em; padding-right: 1em; text-align: center; vertical-align: top\">-0.442229</td>\n",
       "        <td style=\"padding-left: 1em; padding-right: 1em; text-align: center; vertical-align: top\">0.668259</td>\n",
       "        <td style=\"padding-left: 1em; padding-right: 1em; text-align: center; vertical-align: top\">0.095325</td>\n",
       "        <td style=\"padding-left: 1em; padding-right: 1em; text-align: center; vertical-align: top\">0.079501</td>\n",
       "    </tr>\n",
       "    <tr>\n",
       "        <td style=\"padding-left: 1em; padding-right: 1em; text-align: center; vertical-align: top\">-0.420289</td>\n",
       "        <td style=\"padding-left: 1em; padding-right: 1em; text-align: center; vertical-align: top\">-0.250026</td>\n",
       "        <td style=\"padding-left: 1em; padding-right: 1em; text-align: center; vertical-align: top\">0.294057</td>\n",
       "        <td style=\"padding-left: 1em; padding-right: 1em; text-align: center; vertical-align: top\">-0.442229</td>\n",
       "        <td style=\"padding-left: 1em; padding-right: 1em; text-align: center; vertical-align: top\">0.668259</td>\n",
       "        <td style=\"padding-left: 1em; padding-right: 1em; text-align: center; vertical-align: top\">0.095325</td>\n",
       "        <td style=\"padding-left: 1em; padding-right: 1em; text-align: center; vertical-align: top\">0.079501</td>\n",
       "    </tr>\n",
       "    <tr>\n",
       "        <td style=\"padding-left: 1em; padding-right: 1em; text-align: center; vertical-align: top\">-0.420289</td>\n",
       "        <td style=\"padding-left: 1em; padding-right: 1em; text-align: center; vertical-align: top\">-0.250026</td>\n",
       "        <td style=\"padding-left: 1em; padding-right: 1em; text-align: center; vertical-align: top\">0.294057</td>\n",
       "        <td style=\"padding-left: 1em; padding-right: 1em; text-align: center; vertical-align: top\">-0.442229</td>\n",
       "        <td style=\"padding-left: 1em; padding-right: 1em; text-align: center; vertical-align: top\">0.668259</td>\n",
       "        <td style=\"padding-left: 1em; padding-right: 1em; text-align: center; vertical-align: top\">0.095325</td>\n",
       "        <td style=\"padding-left: 1em; padding-right: 1em; text-align: center; vertical-align: top\">0.079501</td>\n",
       "    </tr>\n",
       "    <tr>\n",
       "        <td style=\"padding-left: 1em; padding-right: 1em; text-align: center; vertical-align: top\">-0.420289</td>\n",
       "        <td style=\"padding-left: 1em; padding-right: 1em; text-align: center; vertical-align: top\">-0.250026</td>\n",
       "        <td style=\"padding-left: 1em; padding-right: 1em; text-align: center; vertical-align: top\">0.294057</td>\n",
       "        <td style=\"padding-left: 1em; padding-right: 1em; text-align: center; vertical-align: top\">-0.442229</td>\n",
       "        <td style=\"padding-left: 1em; padding-right: 1em; text-align: center; vertical-align: top\">0.668259</td>\n",
       "        <td style=\"padding-left: 1em; padding-right: 1em; text-align: center; vertical-align: top\">0.095325</td>\n",
       "        <td style=\"padding-left: 1em; padding-right: 1em; text-align: center; vertical-align: top\">0.079501</td>\n",
       "    </tr>\n",
       "    <tr>\n",
       "        <td style=\"padding-left: 1em; padding-right: 1em; text-align: center; vertical-align: top\">-0.420289</td>\n",
       "        <td style=\"padding-left: 1em; padding-right: 1em; text-align: center; vertical-align: top\">-0.250026</td>\n",
       "        <td style=\"padding-left: 1em; padding-right: 1em; text-align: center; vertical-align: top\">0.294057</td>\n",
       "        <td style=\"padding-left: 1em; padding-right: 1em; text-align: center; vertical-align: top\">-0.442229</td>\n",
       "        <td style=\"padding-left: 1em; padding-right: 1em; text-align: center; vertical-align: top\">0.668259</td>\n",
       "        <td style=\"padding-left: 1em; padding-right: 1em; text-align: center; vertical-align: top\">0.095325</td>\n",
       "        <td style=\"padding-left: 1em; padding-right: 1em; text-align: center; vertical-align: top\">0.079501</td>\n",
       "    </tr>\n",
       "    <tr>\n",
       "        <td style=\"padding-left: 1em; padding-right: 1em; text-align: center; vertical-align: top\">-0.420289</td>\n",
       "        <td style=\"padding-left: 1em; padding-right: 1em; text-align: center; vertical-align: top\">-0.250026</td>\n",
       "        <td style=\"padding-left: 1em; padding-right: 1em; text-align: center; vertical-align: top\">0.294057</td>\n",
       "        <td style=\"padding-left: 1em; padding-right: 1em; text-align: center; vertical-align: top\">-0.442229</td>\n",
       "        <td style=\"padding-left: 1em; padding-right: 1em; text-align: center; vertical-align: top\">0.668259</td>\n",
       "        <td style=\"padding-left: 1em; padding-right: 1em; text-align: center; vertical-align: top\">0.095325</td>\n",
       "        <td style=\"padding-left: 1em; padding-right: 1em; text-align: center; vertical-align: top\">0.079501</td>\n",
       "    </tr>\n",
       "    <tr>\n",
       "        <td style=\"padding-left: 1em; padding-right: 1em; text-align: center; vertical-align: top\">-0.420289</td>\n",
       "        <td style=\"padding-left: 1em; padding-right: 1em; text-align: center; vertical-align: top\">-0.250026</td>\n",
       "        <td style=\"padding-left: 1em; padding-right: 1em; text-align: center; vertical-align: top\">0.294057</td>\n",
       "        <td style=\"padding-left: 1em; padding-right: 1em; text-align: center; vertical-align: top\">-0.442229</td>\n",
       "        <td style=\"padding-left: 1em; padding-right: 1em; text-align: center; vertical-align: top\">0.668259</td>\n",
       "        <td style=\"padding-left: 1em; padding-right: 1em; text-align: center; vertical-align: top\">0.095325</td>\n",
       "        <td style=\"padding-left: 1em; padding-right: 1em; text-align: center; vertical-align: top\">0.079501</td>\n",
       "    </tr>\n",
       "    <tr>\n",
       "        <td style=\"padding-left: 1em; padding-right: 1em; text-align: center; vertical-align: top\">-0.420289</td>\n",
       "        <td style=\"padding-left: 1em; padding-right: 1em; text-align: center; vertical-align: top\">-0.250026</td>\n",
       "        <td style=\"padding-left: 1em; padding-right: 1em; text-align: center; vertical-align: top\">0.294057</td>\n",
       "        <td style=\"padding-left: 1em; padding-right: 1em; text-align: center; vertical-align: top\">-0.442229</td>\n",
       "        <td style=\"padding-left: 1em; padding-right: 1em; text-align: center; vertical-align: top\">0.668259</td>\n",
       "        <td style=\"padding-left: 1em; padding-right: 1em; text-align: center; vertical-align: top\">0.095325</td>\n",
       "        <td style=\"padding-left: 1em; padding-right: 1em; text-align: center; vertical-align: top\">0.079501</td>\n",
       "    </tr>\n",
       "    <tr>\n",
       "        <td style=\"padding-left: 1em; padding-right: 1em; text-align: center; vertical-align: top\">-0.420289</td>\n",
       "        <td style=\"padding-left: 1em; padding-right: 1em; text-align: center; vertical-align: top\">-0.250026</td>\n",
       "        <td style=\"padding-left: 1em; padding-right: 1em; text-align: center; vertical-align: top\">0.294057</td>\n",
       "        <td style=\"padding-left: 1em; padding-right: 1em; text-align: center; vertical-align: top\">-0.442229</td>\n",
       "        <td style=\"padding-left: 1em; padding-right: 1em; text-align: center; vertical-align: top\">0.668259</td>\n",
       "        <td style=\"padding-left: 1em; padding-right: 1em; text-align: center; vertical-align: top\">0.095325</td>\n",
       "        <td style=\"padding-left: 1em; padding-right: 1em; text-align: center; vertical-align: top\">0.079501</td>\n",
       "    </tr>\n",
       "</table>\n",
       "<table frame=\"box\" rules=\"cols\">\n",
       "    <tr>\n",
       "        <th style=\"padding-left: 1em; padding-right: 1em; text-align: center\">src_deepWalk_15</th>\n",
       "        <th style=\"padding-left: 1em; padding-right: 1em; text-align: center\">src_deepWalk_16</th>\n",
       "        <th style=\"padding-left: 1em; padding-right: 1em; text-align: center\">src_deepWalk_17</th>\n",
       "        <th style=\"padding-left: 1em; padding-right: 1em; text-align: center\">src_deepWalk_18</th>\n",
       "        <th style=\"padding-left: 1em; padding-right: 1em; text-align: center\">src_deepWalk_19</th>\n",
       "        <th style=\"padding-left: 1em; padding-right: 1em; text-align: center\">src_deepWalk_20</th>\n",
       "        <th style=\"padding-left: 1em; padding-right: 1em; text-align: center\">src_deepWalk_21</th>\n",
       "    </tr>\n",
       "    <tr>\n",
       "        <td style=\"padding-left: 1em; padding-right: 1em; text-align: center; vertical-align: top\">0.555141</td>\n",
       "        <td style=\"padding-left: 1em; padding-right: 1em; text-align: center; vertical-align: top\">0.217579</td>\n",
       "        <td style=\"padding-left: 1em; padding-right: 1em; text-align: center; vertical-align: top\">-0.063687</td>\n",
       "        <td style=\"padding-left: 1em; padding-right: 1em; text-align: center; vertical-align: top\">0.511003</td>\n",
       "        <td style=\"padding-left: 1em; padding-right: 1em; text-align: center; vertical-align: top\">0.418021</td>\n",
       "        <td style=\"padding-left: 1em; padding-right: 1em; text-align: center; vertical-align: top\">0.118892</td>\n",
       "        <td style=\"padding-left: 1em; padding-right: 1em; text-align: center; vertical-align: top\">0.482267</td>\n",
       "    </tr>\n",
       "    <tr>\n",
       "        <td style=\"padding-left: 1em; padding-right: 1em; text-align: center; vertical-align: top\">0.555141</td>\n",
       "        <td style=\"padding-left: 1em; padding-right: 1em; text-align: center; vertical-align: top\">0.217579</td>\n",
       "        <td style=\"padding-left: 1em; padding-right: 1em; text-align: center; vertical-align: top\">-0.063687</td>\n",
       "        <td style=\"padding-left: 1em; padding-right: 1em; text-align: center; vertical-align: top\">0.511003</td>\n",
       "        <td style=\"padding-left: 1em; padding-right: 1em; text-align: center; vertical-align: top\">0.418021</td>\n",
       "        <td style=\"padding-left: 1em; padding-right: 1em; text-align: center; vertical-align: top\">0.118892</td>\n",
       "        <td style=\"padding-left: 1em; padding-right: 1em; text-align: center; vertical-align: top\">0.482267</td>\n",
       "    </tr>\n",
       "    <tr>\n",
       "        <td style=\"padding-left: 1em; padding-right: 1em; text-align: center; vertical-align: top\">0.555141</td>\n",
       "        <td style=\"padding-left: 1em; padding-right: 1em; text-align: center; vertical-align: top\">0.217579</td>\n",
       "        <td style=\"padding-left: 1em; padding-right: 1em; text-align: center; vertical-align: top\">-0.063687</td>\n",
       "        <td style=\"padding-left: 1em; padding-right: 1em; text-align: center; vertical-align: top\">0.511003</td>\n",
       "        <td style=\"padding-left: 1em; padding-right: 1em; text-align: center; vertical-align: top\">0.418021</td>\n",
       "        <td style=\"padding-left: 1em; padding-right: 1em; text-align: center; vertical-align: top\">0.118892</td>\n",
       "        <td style=\"padding-left: 1em; padding-right: 1em; text-align: center; vertical-align: top\">0.482267</td>\n",
       "    </tr>\n",
       "    <tr>\n",
       "        <td style=\"padding-left: 1em; padding-right: 1em; text-align: center; vertical-align: top\">0.555141</td>\n",
       "        <td style=\"padding-left: 1em; padding-right: 1em; text-align: center; vertical-align: top\">0.217579</td>\n",
       "        <td style=\"padding-left: 1em; padding-right: 1em; text-align: center; vertical-align: top\">-0.063687</td>\n",
       "        <td style=\"padding-left: 1em; padding-right: 1em; text-align: center; vertical-align: top\">0.511003</td>\n",
       "        <td style=\"padding-left: 1em; padding-right: 1em; text-align: center; vertical-align: top\">0.418021</td>\n",
       "        <td style=\"padding-left: 1em; padding-right: 1em; text-align: center; vertical-align: top\">0.118892</td>\n",
       "        <td style=\"padding-left: 1em; padding-right: 1em; text-align: center; vertical-align: top\">0.482267</td>\n",
       "    </tr>\n",
       "    <tr>\n",
       "        <td style=\"padding-left: 1em; padding-right: 1em; text-align: center; vertical-align: top\">0.555141</td>\n",
       "        <td style=\"padding-left: 1em; padding-right: 1em; text-align: center; vertical-align: top\">0.217579</td>\n",
       "        <td style=\"padding-left: 1em; padding-right: 1em; text-align: center; vertical-align: top\">-0.063687</td>\n",
       "        <td style=\"padding-left: 1em; padding-right: 1em; text-align: center; vertical-align: top\">0.511003</td>\n",
       "        <td style=\"padding-left: 1em; padding-right: 1em; text-align: center; vertical-align: top\">0.418021</td>\n",
       "        <td style=\"padding-left: 1em; padding-right: 1em; text-align: center; vertical-align: top\">0.118892</td>\n",
       "        <td style=\"padding-left: 1em; padding-right: 1em; text-align: center; vertical-align: top\">0.482267</td>\n",
       "    </tr>\n",
       "    <tr>\n",
       "        <td style=\"padding-left: 1em; padding-right: 1em; text-align: center; vertical-align: top\">0.555141</td>\n",
       "        <td style=\"padding-left: 1em; padding-right: 1em; text-align: center; vertical-align: top\">0.217579</td>\n",
       "        <td style=\"padding-left: 1em; padding-right: 1em; text-align: center; vertical-align: top\">-0.063687</td>\n",
       "        <td style=\"padding-left: 1em; padding-right: 1em; text-align: center; vertical-align: top\">0.511003</td>\n",
       "        <td style=\"padding-left: 1em; padding-right: 1em; text-align: center; vertical-align: top\">0.418021</td>\n",
       "        <td style=\"padding-left: 1em; padding-right: 1em; text-align: center; vertical-align: top\">0.118892</td>\n",
       "        <td style=\"padding-left: 1em; padding-right: 1em; text-align: center; vertical-align: top\">0.482267</td>\n",
       "    </tr>\n",
       "    <tr>\n",
       "        <td style=\"padding-left: 1em; padding-right: 1em; text-align: center; vertical-align: top\">0.555141</td>\n",
       "        <td style=\"padding-left: 1em; padding-right: 1em; text-align: center; vertical-align: top\">0.217579</td>\n",
       "        <td style=\"padding-left: 1em; padding-right: 1em; text-align: center; vertical-align: top\">-0.063687</td>\n",
       "        <td style=\"padding-left: 1em; padding-right: 1em; text-align: center; vertical-align: top\">0.511003</td>\n",
       "        <td style=\"padding-left: 1em; padding-right: 1em; text-align: center; vertical-align: top\">0.418021</td>\n",
       "        <td style=\"padding-left: 1em; padding-right: 1em; text-align: center; vertical-align: top\">0.118892</td>\n",
       "        <td style=\"padding-left: 1em; padding-right: 1em; text-align: center; vertical-align: top\">0.482267</td>\n",
       "    </tr>\n",
       "    <tr>\n",
       "        <td style=\"padding-left: 1em; padding-right: 1em; text-align: center; vertical-align: top\">0.555141</td>\n",
       "        <td style=\"padding-left: 1em; padding-right: 1em; text-align: center; vertical-align: top\">0.217579</td>\n",
       "        <td style=\"padding-left: 1em; padding-right: 1em; text-align: center; vertical-align: top\">-0.063687</td>\n",
       "        <td style=\"padding-left: 1em; padding-right: 1em; text-align: center; vertical-align: top\">0.511003</td>\n",
       "        <td style=\"padding-left: 1em; padding-right: 1em; text-align: center; vertical-align: top\">0.418021</td>\n",
       "        <td style=\"padding-left: 1em; padding-right: 1em; text-align: center; vertical-align: top\">0.118892</td>\n",
       "        <td style=\"padding-left: 1em; padding-right: 1em; text-align: center; vertical-align: top\">0.482267</td>\n",
       "    </tr>\n",
       "    <tr>\n",
       "        <td style=\"padding-left: 1em; padding-right: 1em; text-align: center; vertical-align: top\">0.555141</td>\n",
       "        <td style=\"padding-left: 1em; padding-right: 1em; text-align: center; vertical-align: top\">0.217579</td>\n",
       "        <td style=\"padding-left: 1em; padding-right: 1em; text-align: center; vertical-align: top\">-0.063687</td>\n",
       "        <td style=\"padding-left: 1em; padding-right: 1em; text-align: center; vertical-align: top\">0.511003</td>\n",
       "        <td style=\"padding-left: 1em; padding-right: 1em; text-align: center; vertical-align: top\">0.418021</td>\n",
       "        <td style=\"padding-left: 1em; padding-right: 1em; text-align: center; vertical-align: top\">0.118892</td>\n",
       "        <td style=\"padding-left: 1em; padding-right: 1em; text-align: center; vertical-align: top\">0.482267</td>\n",
       "    </tr>\n",
       "    <tr>\n",
       "        <td style=\"padding-left: 1em; padding-right: 1em; text-align: center; vertical-align: top\">0.555141</td>\n",
       "        <td style=\"padding-left: 1em; padding-right: 1em; text-align: center; vertical-align: top\">0.217579</td>\n",
       "        <td style=\"padding-left: 1em; padding-right: 1em; text-align: center; vertical-align: top\">-0.063687</td>\n",
       "        <td style=\"padding-left: 1em; padding-right: 1em; text-align: center; vertical-align: top\">0.511003</td>\n",
       "        <td style=\"padding-left: 1em; padding-right: 1em; text-align: center; vertical-align: top\">0.418021</td>\n",
       "        <td style=\"padding-left: 1em; padding-right: 1em; text-align: center; vertical-align: top\">0.118892</td>\n",
       "        <td style=\"padding-left: 1em; padding-right: 1em; text-align: center; vertical-align: top\">0.482267</td>\n",
       "    </tr>\n",
       "</table>\n",
       "<table frame=\"box\" rules=\"cols\">\n",
       "    <tr>\n",
       "        <th style=\"padding-left: 1em; padding-right: 1em; text-align: center\">src_deepWalk_22</th>\n",
       "        <th style=\"padding-left: 1em; padding-right: 1em; text-align: center\">src_deepWalk_23</th>\n",
       "        <th style=\"padding-left: 1em; padding-right: 1em; text-align: center\">src_deepWalk_24</th>\n",
       "        <th style=\"padding-left: 1em; padding-right: 1em; text-align: center\">src_deepWalk_25</th>\n",
       "        <th style=\"padding-left: 1em; padding-right: 1em; text-align: center\">src_deepWalk_26</th>\n",
       "        <th style=\"padding-left: 1em; padding-right: 1em; text-align: center\">src_deepWalk_27</th>\n",
       "        <th style=\"padding-left: 1em; padding-right: 1em; text-align: center\">src_deepWalk_28</th>\n",
       "        <th style=\"padding-left: 1em; padding-right: 1em; text-align: center\">...</th>\n",
       "    </tr>\n",
       "    <tr>\n",
       "        <td style=\"padding-left: 1em; padding-right: 1em; text-align: center; vertical-align: top\">0.060299</td>\n",
       "        <td style=\"padding-left: 1em; padding-right: 1em; text-align: center; vertical-align: top\">-0.098748</td>\n",
       "        <td style=\"padding-left: 1em; padding-right: 1em; text-align: center; vertical-align: top\">-0.197324</td>\n",
       "        <td style=\"padding-left: 1em; padding-right: 1em; text-align: center; vertical-align: top\">-0.032998</td>\n",
       "        <td style=\"padding-left: 1em; padding-right: 1em; text-align: center; vertical-align: top\">-0.953005</td>\n",
       "        <td style=\"padding-left: 1em; padding-right: 1em; text-align: center; vertical-align: top\">-0.670303</td>\n",
       "        <td style=\"padding-left: 1em; padding-right: 1em; text-align: center; vertical-align: top\">0.626118</td>\n",
       "        <td style=\"padding-left: 1em; padding-right: 1em; text-align: center; vertical-align: top\">...</td>\n",
       "    </tr>\n",
       "    <tr>\n",
       "        <td style=\"padding-left: 1em; padding-right: 1em; text-align: center; vertical-align: top\">0.060299</td>\n",
       "        <td style=\"padding-left: 1em; padding-right: 1em; text-align: center; vertical-align: top\">-0.098748</td>\n",
       "        <td style=\"padding-left: 1em; padding-right: 1em; text-align: center; vertical-align: top\">-0.197324</td>\n",
       "        <td style=\"padding-left: 1em; padding-right: 1em; text-align: center; vertical-align: top\">-0.032998</td>\n",
       "        <td style=\"padding-left: 1em; padding-right: 1em; text-align: center; vertical-align: top\">-0.953005</td>\n",
       "        <td style=\"padding-left: 1em; padding-right: 1em; text-align: center; vertical-align: top\">-0.670303</td>\n",
       "        <td style=\"padding-left: 1em; padding-right: 1em; text-align: center; vertical-align: top\">0.626118</td>\n",
       "        <td style=\"padding-left: 1em; padding-right: 1em; text-align: center; vertical-align: top\">...</td>\n",
       "    </tr>\n",
       "    <tr>\n",
       "        <td style=\"padding-left: 1em; padding-right: 1em; text-align: center; vertical-align: top\">0.060299</td>\n",
       "        <td style=\"padding-left: 1em; padding-right: 1em; text-align: center; vertical-align: top\">-0.098748</td>\n",
       "        <td style=\"padding-left: 1em; padding-right: 1em; text-align: center; vertical-align: top\">-0.197324</td>\n",
       "        <td style=\"padding-left: 1em; padding-right: 1em; text-align: center; vertical-align: top\">-0.032998</td>\n",
       "        <td style=\"padding-left: 1em; padding-right: 1em; text-align: center; vertical-align: top\">-0.953005</td>\n",
       "        <td style=\"padding-left: 1em; padding-right: 1em; text-align: center; vertical-align: top\">-0.670303</td>\n",
       "        <td style=\"padding-left: 1em; padding-right: 1em; text-align: center; vertical-align: top\">0.626118</td>\n",
       "        <td style=\"padding-left: 1em; padding-right: 1em; text-align: center; vertical-align: top\">...</td>\n",
       "    </tr>\n",
       "    <tr>\n",
       "        <td style=\"padding-left: 1em; padding-right: 1em; text-align: center; vertical-align: top\">0.060299</td>\n",
       "        <td style=\"padding-left: 1em; padding-right: 1em; text-align: center; vertical-align: top\">-0.098748</td>\n",
       "        <td style=\"padding-left: 1em; padding-right: 1em; text-align: center; vertical-align: top\">-0.197324</td>\n",
       "        <td style=\"padding-left: 1em; padding-right: 1em; text-align: center; vertical-align: top\">-0.032998</td>\n",
       "        <td style=\"padding-left: 1em; padding-right: 1em; text-align: center; vertical-align: top\">-0.953005</td>\n",
       "        <td style=\"padding-left: 1em; padding-right: 1em; text-align: center; vertical-align: top\">-0.670303</td>\n",
       "        <td style=\"padding-left: 1em; padding-right: 1em; text-align: center; vertical-align: top\">0.626118</td>\n",
       "        <td style=\"padding-left: 1em; padding-right: 1em; text-align: center; vertical-align: top\">...</td>\n",
       "    </tr>\n",
       "    <tr>\n",
       "        <td style=\"padding-left: 1em; padding-right: 1em; text-align: center; vertical-align: top\">0.060299</td>\n",
       "        <td style=\"padding-left: 1em; padding-right: 1em; text-align: center; vertical-align: top\">-0.098748</td>\n",
       "        <td style=\"padding-left: 1em; padding-right: 1em; text-align: center; vertical-align: top\">-0.197324</td>\n",
       "        <td style=\"padding-left: 1em; padding-right: 1em; text-align: center; vertical-align: top\">-0.032998</td>\n",
       "        <td style=\"padding-left: 1em; padding-right: 1em; text-align: center; vertical-align: top\">-0.953005</td>\n",
       "        <td style=\"padding-left: 1em; padding-right: 1em; text-align: center; vertical-align: top\">-0.670303</td>\n",
       "        <td style=\"padding-left: 1em; padding-right: 1em; text-align: center; vertical-align: top\">0.626118</td>\n",
       "        <td style=\"padding-left: 1em; padding-right: 1em; text-align: center; vertical-align: top\">...</td>\n",
       "    </tr>\n",
       "    <tr>\n",
       "        <td style=\"padding-left: 1em; padding-right: 1em; text-align: center; vertical-align: top\">0.060299</td>\n",
       "        <td style=\"padding-left: 1em; padding-right: 1em; text-align: center; vertical-align: top\">-0.098748</td>\n",
       "        <td style=\"padding-left: 1em; padding-right: 1em; text-align: center; vertical-align: top\">-0.197324</td>\n",
       "        <td style=\"padding-left: 1em; padding-right: 1em; text-align: center; vertical-align: top\">-0.032998</td>\n",
       "        <td style=\"padding-left: 1em; padding-right: 1em; text-align: center; vertical-align: top\">-0.953005</td>\n",
       "        <td style=\"padding-left: 1em; padding-right: 1em; text-align: center; vertical-align: top\">-0.670303</td>\n",
       "        <td style=\"padding-left: 1em; padding-right: 1em; text-align: center; vertical-align: top\">0.626118</td>\n",
       "        <td style=\"padding-left: 1em; padding-right: 1em; text-align: center; vertical-align: top\">...</td>\n",
       "    </tr>\n",
       "    <tr>\n",
       "        <td style=\"padding-left: 1em; padding-right: 1em; text-align: center; vertical-align: top\">0.060299</td>\n",
       "        <td style=\"padding-left: 1em; padding-right: 1em; text-align: center; vertical-align: top\">-0.098748</td>\n",
       "        <td style=\"padding-left: 1em; padding-right: 1em; text-align: center; vertical-align: top\">-0.197324</td>\n",
       "        <td style=\"padding-left: 1em; padding-right: 1em; text-align: center; vertical-align: top\">-0.032998</td>\n",
       "        <td style=\"padding-left: 1em; padding-right: 1em; text-align: center; vertical-align: top\">-0.953005</td>\n",
       "        <td style=\"padding-left: 1em; padding-right: 1em; text-align: center; vertical-align: top\">-0.670303</td>\n",
       "        <td style=\"padding-left: 1em; padding-right: 1em; text-align: center; vertical-align: top\">0.626118</td>\n",
       "        <td style=\"padding-left: 1em; padding-right: 1em; text-align: center; vertical-align: top\">...</td>\n",
       "    </tr>\n",
       "    <tr>\n",
       "        <td style=\"padding-left: 1em; padding-right: 1em; text-align: center; vertical-align: top\">0.060299</td>\n",
       "        <td style=\"padding-left: 1em; padding-right: 1em; text-align: center; vertical-align: top\">-0.098748</td>\n",
       "        <td style=\"padding-left: 1em; padding-right: 1em; text-align: center; vertical-align: top\">-0.197324</td>\n",
       "        <td style=\"padding-left: 1em; padding-right: 1em; text-align: center; vertical-align: top\">-0.032998</td>\n",
       "        <td style=\"padding-left: 1em; padding-right: 1em; text-align: center; vertical-align: top\">-0.953005</td>\n",
       "        <td style=\"padding-left: 1em; padding-right: 1em; text-align: center; vertical-align: top\">-0.670303</td>\n",
       "        <td style=\"padding-left: 1em; padding-right: 1em; text-align: center; vertical-align: top\">0.626118</td>\n",
       "        <td style=\"padding-left: 1em; padding-right: 1em; text-align: center; vertical-align: top\">...</td>\n",
       "    </tr>\n",
       "    <tr>\n",
       "        <td style=\"padding-left: 1em; padding-right: 1em; text-align: center; vertical-align: top\">0.060299</td>\n",
       "        <td style=\"padding-left: 1em; padding-right: 1em; text-align: center; vertical-align: top\">-0.098748</td>\n",
       "        <td style=\"padding-left: 1em; padding-right: 1em; text-align: center; vertical-align: top\">-0.197324</td>\n",
       "        <td style=\"padding-left: 1em; padding-right: 1em; text-align: center; vertical-align: top\">-0.032998</td>\n",
       "        <td style=\"padding-left: 1em; padding-right: 1em; text-align: center; vertical-align: top\">-0.953005</td>\n",
       "        <td style=\"padding-left: 1em; padding-right: 1em; text-align: center; vertical-align: top\">-0.670303</td>\n",
       "        <td style=\"padding-left: 1em; padding-right: 1em; text-align: center; vertical-align: top\">0.626118</td>\n",
       "        <td style=\"padding-left: 1em; padding-right: 1em; text-align: center; vertical-align: top\">...</td>\n",
       "    </tr>\n",
       "    <tr>\n",
       "        <td style=\"padding-left: 1em; padding-right: 1em; text-align: center; vertical-align: top\">0.060299</td>\n",
       "        <td style=\"padding-left: 1em; padding-right: 1em; text-align: center; vertical-align: top\">-0.098748</td>\n",
       "        <td style=\"padding-left: 1em; padding-right: 1em; text-align: center; vertical-align: top\">-0.197324</td>\n",
       "        <td style=\"padding-left: 1em; padding-right: 1em; text-align: center; vertical-align: top\">-0.032998</td>\n",
       "        <td style=\"padding-left: 1em; padding-right: 1em; text-align: center; vertical-align: top\">-0.953005</td>\n",
       "        <td style=\"padding-left: 1em; padding-right: 1em; text-align: center; vertical-align: top\">-0.670303</td>\n",
       "        <td style=\"padding-left: 1em; padding-right: 1em; text-align: center; vertical-align: top\">0.626118</td>\n",
       "        <td style=\"padding-left: 1em; padding-right: 1em; text-align: center; vertical-align: top\">...</td>\n",
       "    </tr>\n",
       "</table>\n",
       "[2469712 rows x 154 columns]<br/>Note: Only the head of the SFrame is printed.<br/>You can use print_rows(num_rows=m, num_columns=n) to print more rows and columns.\n",
       "</div>"
      ],
      "text/plain": [
       "Columns:\n",
       "\tsrc\tint\n",
       "\tdst\tint\n",
       "\tclass\tint\n",
       "\tsrc_out_vertices\tlist\n",
       "\tsrc_in_vertices\tlist\n",
       "\tsrc_in&out\tlist\n",
       "\tsrc_in|out\tlist\n",
       "\tsrc_in_degree\tint\n",
       "\tsrc_out_degree\tint\n",
       "\tsrc_out&in_degree\tint\n",
       "\tsrc_out|in_degree\tint\n",
       "\tsrc_deepWalk_0\tfloat\n",
       "\tsrc_deepWalk_1\tfloat\n",
       "\tsrc_deepWalk_2\tfloat\n",
       "\tsrc_deepWalk_3\tfloat\n",
       "\tsrc_deepWalk_4\tfloat\n",
       "\tsrc_deepWalk_5\tfloat\n",
       "\tsrc_deepWalk_6\tfloat\n",
       "\tsrc_deepWalk_7\tfloat\n",
       "\tsrc_deepWalk_8\tfloat\n",
       "\tsrc_deepWalk_9\tfloat\n",
       "\tsrc_deepWalk_10\tfloat\n",
       "\tsrc_deepWalk_11\tfloat\n",
       "\tsrc_deepWalk_12\tfloat\n",
       "\tsrc_deepWalk_13\tfloat\n",
       "\tsrc_deepWalk_14\tfloat\n",
       "\tsrc_deepWalk_15\tfloat\n",
       "\tsrc_deepWalk_16\tfloat\n",
       "\tsrc_deepWalk_17\tfloat\n",
       "\tsrc_deepWalk_18\tfloat\n",
       "\tsrc_deepWalk_19\tfloat\n",
       "\tsrc_deepWalk_20\tfloat\n",
       "\tsrc_deepWalk_21\tfloat\n",
       "\tsrc_deepWalk_22\tfloat\n",
       "\tsrc_deepWalk_23\tfloat\n",
       "\tsrc_deepWalk_24\tfloat\n",
       "\tsrc_deepWalk_25\tfloat\n",
       "\tsrc_deepWalk_26\tfloat\n",
       "\tsrc_deepWalk_27\tfloat\n",
       "\tsrc_deepWalk_28\tfloat\n",
       "\tsrc_deepWalk_29\tfloat\n",
       "\tsrc_deepWalk_30\tfloat\n",
       "\tsrc_deepWalk_31\tfloat\n",
       "\tsrc_deepWalk_32\tfloat\n",
       "\tsrc_deepWalk_33\tfloat\n",
       "\tsrc_deepWalk_34\tfloat\n",
       "\tsrc_deepWalk_35\tfloat\n",
       "\tsrc_deepWalk_36\tfloat\n",
       "\tsrc_deepWalk_37\tfloat\n",
       "\tsrc_deepWalk_38\tfloat\n",
       "\tsrc_deepWalk_39\tfloat\n",
       "\tsrc_deepWalk_40\tfloat\n",
       "\tsrc_deepWalk_41\tfloat\n",
       "\tsrc_deepWalk_42\tfloat\n",
       "\tsrc_deepWalk_43\tfloat\n",
       "\tsrc_deepWalk_44\tfloat\n",
       "\tsrc_deepWalk_45\tfloat\n",
       "\tsrc_deepWalk_46\tfloat\n",
       "\tsrc_deepWalk_47\tfloat\n",
       "\tsrc_deepWalk_48\tfloat\n",
       "\tsrc_deepWalk_49\tfloat\n",
       "\tsrc_deepWalk_50\tfloat\n",
       "\tsrc_deepWalk_51\tfloat\n",
       "\tsrc_deepWalk_52\tfloat\n",
       "\tsrc_deepWalk_53\tfloat\n",
       "\tsrc_deepWalk_54\tfloat\n",
       "\tsrc_deepWalk_55\tfloat\n",
       "\tsrc_deepWalk_56\tfloat\n",
       "\tsrc_deepWalk_57\tfloat\n",
       "\tsrc_deepWalk_58\tfloat\n",
       "\tsrc_deepWalk_59\tfloat\n",
       "\tsrc_deepWalk_60\tfloat\n",
       "\tsrc_deepWalk_61\tfloat\n",
       "\tsrc_deepWalk_62\tfloat\n",
       "\tsrc_deepWalk_63\tfloat\n",
       "\tdst_out_vertices\tlist\n",
       "\tdst_in_vertices\tlist\n",
       "\tdst_in&out\tlist\n",
       "\tdst_in|out\tlist\n",
       "\tdst_in_degree\tint\n",
       "\tdst_out_degree\tint\n",
       "\tdst_out&in_degree\tint\n",
       "\tdst_out|in_degree\tint\n",
       "\tdst_deepWalk_0\tfloat\n",
       "\tdst_deepWalk_1\tfloat\n",
       "\tdst_deepWalk_2\tfloat\n",
       "\tdst_deepWalk_3\tfloat\n",
       "\tdst_deepWalk_4\tfloat\n",
       "\tdst_deepWalk_5\tfloat\n",
       "\tdst_deepWalk_6\tfloat\n",
       "\tdst_deepWalk_7\tfloat\n",
       "\tdst_deepWalk_8\tfloat\n",
       "\tdst_deepWalk_9\tfloat\n",
       "\tdst_deepWalk_10\tfloat\n",
       "\tdst_deepWalk_11\tfloat\n",
       "\tdst_deepWalk_12\tfloat\n",
       "\tdst_deepWalk_13\tfloat\n",
       "\tdst_deepWalk_14\tfloat\n",
       "\tdst_deepWalk_15\tfloat\n",
       "\tdst_deepWalk_16\tfloat\n",
       "\tdst_deepWalk_17\tfloat\n",
       "\tdst_deepWalk_18\tfloat\n",
       "\tdst_deepWalk_19\tfloat\n",
       "\tdst_deepWalk_20\tfloat\n",
       "\tdst_deepWalk_21\tfloat\n",
       "\tdst_deepWalk_22\tfloat\n",
       "\tdst_deepWalk_23\tfloat\n",
       "\tdst_deepWalk_24\tfloat\n",
       "\tdst_deepWalk_25\tfloat\n",
       "\tdst_deepWalk_26\tfloat\n",
       "\tdst_deepWalk_27\tfloat\n",
       "\tdst_deepWalk_28\tfloat\n",
       "\tdst_deepWalk_29\tfloat\n",
       "\tdst_deepWalk_30\tfloat\n",
       "\tdst_deepWalk_31\tfloat\n",
       "\tdst_deepWalk_32\tfloat\n",
       "\tdst_deepWalk_33\tfloat\n",
       "\tdst_deepWalk_34\tfloat\n",
       "\tdst_deepWalk_35\tfloat\n",
       "\tdst_deepWalk_36\tfloat\n",
       "\tdst_deepWalk_37\tfloat\n",
       "\tdst_deepWalk_38\tfloat\n",
       "\tdst_deepWalk_39\tfloat\n",
       "\tdst_deepWalk_40\tfloat\n",
       "\tdst_deepWalk_41\tfloat\n",
       "\tdst_deepWalk_42\tfloat\n",
       "\tdst_deepWalk_43\tfloat\n",
       "\tdst_deepWalk_44\tfloat\n",
       "\tdst_deepWalk_45\tfloat\n",
       "\tdst_deepWalk_46\tfloat\n",
       "\tdst_deepWalk_47\tfloat\n",
       "\tdst_deepWalk_48\tfloat\n",
       "\tdst_deepWalk_49\tfloat\n",
       "\tdst_deepWalk_50\tfloat\n",
       "\tdst_deepWalk_51\tfloat\n",
       "\tdst_deepWalk_52\tfloat\n",
       "\tdst_deepWalk_53\tfloat\n",
       "\tdst_deepWalk_54\tfloat\n",
       "\tdst_deepWalk_55\tfloat\n",
       "\tdst_deepWalk_56\tfloat\n",
       "\tdst_deepWalk_57\tfloat\n",
       "\tdst_deepWalk_58\tfloat\n",
       "\tdst_deepWalk_59\tfloat\n",
       "\tdst_deepWalk_60\tfloat\n",
       "\tdst_deepWalk_61\tfloat\n",
       "\tdst_deepWalk_62\tfloat\n",
       "\tdst_deepWalk_63\tfloat\n",
       "\tcommon_in_vertices\tint\n",
       "\tcommon_out_vertices\tint\n",
       "\tJaccar\tfloat\n",
       "\tcommon_in_vertices_lst\tlist\n",
       "\tcommon_out_vertices_lst\tlist\n",
       "\tAdamic_Adar\tfloat\n",
       "\tdw_product\tfloat\n",
       "\n",
       "Rows: 2469712\n",
       "\n",
       "Data:\n",
       "+--------+--------+-------+-------------------------------+\n",
       "|  src   |  dst   | class |        src_out_vertices       |\n",
       "+--------+--------+-------+-------------------------------+\n",
       "| 211023 | 189714 |   1   | [230773, 57470, 76015, 189... |\n",
       "| 211023 | 244758 |   0   | [230773, 57470, 76015, 189... |\n",
       "| 211023 | 57470  |   0   | [230773, 57470, 76015, 189... |\n",
       "| 211023 | 233626 |   1   | [230773, 57470, 76015, 189... |\n",
       "| 211023 | 252560 |   0   | [230773, 57470, 76015, 189... |\n",
       "| 211023 | 230773 |   0   | [230773, 57470, 76015, 189... |\n",
       "| 211023 | 198886 |   1   | [230773, 57470, 76015, 189... |\n",
       "| 211023 | 143972 |   0   | [230773, 57470, 76015, 189... |\n",
       "| 211023 | 246520 |   0   | [230773, 57470, 76015, 189... |\n",
       "| 211023 | 76015  |   0   | [230773, 57470, 76015, 189... |\n",
       "+--------+--------+-------+-------------------------------+\n",
       "+-------------------------------+------------------+\n",
       "|        src_in_vertices        |    src_in&out    |\n",
       "+-------------------------------+------------------+\n",
       "| [230499, 181303, 13670, 23... | [233626, 198886] |\n",
       "| [230499, 181303, 13670, 23... | [233626, 198886] |\n",
       "| [230499, 181303, 13670, 23... | [233626, 198886] |\n",
       "| [230499, 181303, 13670, 23... | [233626, 198886] |\n",
       "| [230499, 181303, 13670, 23... | [233626, 198886] |\n",
       "| [230499, 181303, 13670, 23... | [233626, 198886] |\n",
       "| [230499, 181303, 13670, 23... | [233626, 198886] |\n",
       "| [230499, 181303, 13670, 23... | [233626, 198886] |\n",
       "| [230499, 181303, 13670, 23... | [233626, 198886] |\n",
       "| [230499, 181303, 13670, 23... | [233626, 198886] |\n",
       "+-------------------------------+------------------+\n",
       "+-------------------------------+---------------+----------------+-------------------+\n",
       "|           src_in|out          | src_in_degree | src_out_degree | src_out&in_degree |\n",
       "+-------------------------------+---------------+----------------+-------------------+\n",
       "| [57538, 13670, 161931, 248... |       13      |       16       |         2         |\n",
       "| [57538, 13670, 161931, 248... |       13      |       16       |         2         |\n",
       "| [57538, 13670, 161931, 248... |       13      |       16       |         2         |\n",
       "| [57538, 13670, 161931, 248... |       13      |       16       |         2         |\n",
       "| [57538, 13670, 161931, 248... |       13      |       16       |         2         |\n",
       "| [57538, 13670, 161931, 248... |       13      |       16       |         2         |\n",
       "| [57538, 13670, 161931, 248... |       13      |       16       |         2         |\n",
       "| [57538, 13670, 161931, 248... |       13      |       16       |         2         |\n",
       "| [57538, 13670, 161931, 248... |       13      |       16       |         2         |\n",
       "| [57538, 13670, 161931, 248... |       13      |       16       |         2         |\n",
       "+-------------------------------+---------------+----------------+-------------------+\n",
       "+-------------------+----------------+----------------+----------------+\n",
       "| src_out|in_degree | src_deepWalk_0 | src_deepWalk_1 | src_deepWalk_2 |\n",
       "+-------------------+----------------+----------------+----------------+\n",
       "|         27        |    -0.05066    |    0.227474    |   -1.163211    |\n",
       "|         27        |    -0.05066    |    0.227474    |   -1.163211    |\n",
       "|         27        |    -0.05066    |    0.227474    |   -1.163211    |\n",
       "|         27        |    -0.05066    |    0.227474    |   -1.163211    |\n",
       "|         27        |    -0.05066    |    0.227474    |   -1.163211    |\n",
       "|         27        |    -0.05066    |    0.227474    |   -1.163211    |\n",
       "|         27        |    -0.05066    |    0.227474    |   -1.163211    |\n",
       "|         27        |    -0.05066    |    0.227474    |   -1.163211    |\n",
       "|         27        |    -0.05066    |    0.227474    |   -1.163211    |\n",
       "|         27        |    -0.05066    |    0.227474    |   -1.163211    |\n",
       "+-------------------+----------------+----------------+----------------+\n",
       "+----------------+----------------+----------------+----------------+----------------+\n",
       "| src_deepWalk_3 | src_deepWalk_4 | src_deepWalk_5 | src_deepWalk_6 | src_deepWalk_7 |\n",
       "+----------------+----------------+----------------+----------------+----------------+\n",
       "|   -0.326046    |    0.253923    |   -0.198485    |   -0.997009    |   -0.603977    |\n",
       "|   -0.326046    |    0.253923    |   -0.198485    |   -0.997009    |   -0.603977    |\n",
       "|   -0.326046    |    0.253923    |   -0.198485    |   -0.997009    |   -0.603977    |\n",
       "|   -0.326046    |    0.253923    |   -0.198485    |   -0.997009    |   -0.603977    |\n",
       "|   -0.326046    |    0.253923    |   -0.198485    |   -0.997009    |   -0.603977    |\n",
       "|   -0.326046    |    0.253923    |   -0.198485    |   -0.997009    |   -0.603977    |\n",
       "|   -0.326046    |    0.253923    |   -0.198485    |   -0.997009    |   -0.603977    |\n",
       "|   -0.326046    |    0.253923    |   -0.198485    |   -0.997009    |   -0.603977    |\n",
       "|   -0.326046    |    0.253923    |   -0.198485    |   -0.997009    |   -0.603977    |\n",
       "|   -0.326046    |    0.253923    |   -0.198485    |   -0.997009    |   -0.603977    |\n",
       "+----------------+----------------+----------------+----------------+----------------+\n",
       "+----------------+-----+\n",
       "| src_deepWalk_8 | ... |\n",
       "+----------------+-----+\n",
       "|   -0.420289    | ... |\n",
       "|   -0.420289    | ... |\n",
       "|   -0.420289    | ... |\n",
       "|   -0.420289    | ... |\n",
       "|   -0.420289    | ... |\n",
       "|   -0.420289    | ... |\n",
       "|   -0.420289    | ... |\n",
       "|   -0.420289    | ... |\n",
       "|   -0.420289    | ... |\n",
       "|   -0.420289    | ... |\n",
       "+----------------+-----+\n",
       "[2469712 rows x 154 columns]\n",
       "Note: Only the head of the SFrame is printed.\n",
       "You can use print_rows(num_rows=m, num_columns=n) to print more rows and columns."
      ]
     },
     "execution_count": 53,
     "metadata": {},
     "output_type": "execute_result"
    }
   ],
   "source": [
    "clean_edges.remove_column('edge_id')"
   ]
  },
  {
   "cell_type": "code",
   "execution_count": 54,
   "metadata": {
    "collapsed": false
   },
   "outputs": [],
   "source": [
    "## костыль.\n",
    "clean_edges['common_in_vertices_lst'] = gl.SArray([[int(i) for i in g] if g!=[] \n",
    "                                                   else [] for g in clean_edges['common_in_vertices_lst']], dtype=list)"
   ]
  },
  {
   "cell_type": "code",
   "execution_count": 55,
   "metadata": {
    "collapsed": true
   },
   "outputs": [],
   "source": [
    "clean_edges['common_out_vertices_lst'] = gl.SArray([[int(i) for i in g] if g!=[] \n",
    "                                                   else [] for g in clean_edges['common_out_vertices_lst']], dtype=list)"
   ]
  },
  {
   "cell_type": "code",
   "execution_count": 82,
   "metadata": {
    "collapsed": true
   },
   "outputs": [],
   "source": [
    "# split on train and test\n",
    "test, train = clean_edges.random_split(0.2)"
   ]
  },
  {
   "cell_type": "code",
   "execution_count": 83,
   "metadata": {
    "collapsed": false
   },
   "outputs": [
    {
     "name": "stdout",
     "output_type": "stream",
     "text": [
      "(494650, 154) (1975062, 154)\n"
     ]
    }
   ],
   "source": [
    "print test.shape, train.shape"
   ]
  },
  {
   "cell_type": "code",
   "execution_count": 79,
   "metadata": {
    "collapsed": false
   },
   "outputs": [
    {
     "data": {
      "text/plain": [
       "11"
      ]
     },
     "execution_count": 79,
     "metadata": {},
     "output_type": "execute_result"
    }
   ],
   "source": [
    "chosen_feat = [\"src_out&in_degree\", \"dst_out|in_degree\", \"Jaccar\",\n",
    "               \"Adamic_Adar\", \"dst_in_degree\", \"src_out_degree\", \"src\",\n",
    "               \"dst\", \"src_out|in_degree\", \"dw_product\", \"common_in_vertices\"]\n",
    "len(chosen_feat)"
   ]
  },
  {
   "cell_type": "code",
   "execution_count": null,
   "metadata": {
    "collapsed": true
   },
   "outputs": [],
   "source": [
    "## Эта модель дала на public_leaderboard 0.95, что для меня было весьма печально..\n",
    "## Фичи были выбраны на основе прошлых экспериментов и feature_importance"
   ]
  },
  {
   "cell_type": "code",
   "execution_count": 80,
   "metadata": {
    "collapsed": false
   },
   "outputs": [
    {
     "name": "stdout",
     "output_type": "stream",
     "text": [
      "PROGRESS: Creating a validation set from 5 percent of training data. This may take a while.\n",
      "          You can set ``validation_set=None`` to disable validation tracking.\n",
      "\n"
     ]
    },
    {
     "data": {
      "text/html": [
       "<pre>Boosted trees classifier:</pre>"
      ],
      "text/plain": [
       "Boosted trees classifier:"
      ]
     },
     "metadata": {},
     "output_type": "display_data"
    },
    {
     "data": {
      "text/html": [
       "<pre>--------------------------------------------------------</pre>"
      ],
      "text/plain": [
       "--------------------------------------------------------"
      ]
     },
     "metadata": {},
     "output_type": "display_data"
    },
    {
     "data": {
      "text/html": [
       "<pre>Number of examples          : 1877516</pre>"
      ],
      "text/plain": [
       "Number of examples          : 1877516"
      ]
     },
     "metadata": {},
     "output_type": "display_data"
    },
    {
     "data": {
      "text/html": [
       "<pre>Number of classes           : 2</pre>"
      ],
      "text/plain": [
       "Number of classes           : 2"
      ]
     },
     "metadata": {},
     "output_type": "display_data"
    },
    {
     "data": {
      "text/html": [
       "<pre>Number of feature columns   : 11</pre>"
      ],
      "text/plain": [
       "Number of feature columns   : 11"
      ]
     },
     "metadata": {},
     "output_type": "display_data"
    },
    {
     "data": {
      "text/html": [
       "<pre>Number of unpacked features : 11</pre>"
      ],
      "text/plain": [
       "Number of unpacked features : 11"
      ]
     },
     "metadata": {},
     "output_type": "display_data"
    },
    {
     "data": {
      "text/html": [
       "<pre>+-----------+--------------+--------------+----------------+</pre>"
      ],
      "text/plain": [
       "+-----------+--------------+--------------+----------------+"
      ]
     },
     "metadata": {},
     "output_type": "display_data"
    },
    {
     "data": {
      "text/html": [
       "<pre>| Iteration | Elapsed Time | Training-auc | Validation-auc |</pre>"
      ],
      "text/plain": [
       "| Iteration | Elapsed Time | Training-auc | Validation-auc |"
      ]
     },
     "metadata": {},
     "output_type": "display_data"
    },
    {
     "data": {
      "text/html": [
       "<pre>+-----------+--------------+--------------+----------------+</pre>"
      ],
      "text/plain": [
       "+-----------+--------------+--------------+----------------+"
      ]
     },
     "metadata": {},
     "output_type": "display_data"
    },
    {
     "data": {
      "text/html": [
       "<pre>| 1         | 0.879528     | 0.998571     | 0.998546       |</pre>"
      ],
      "text/plain": [
       "| 1         | 0.879528     | 0.998571     | 0.998546       |"
      ]
     },
     "metadata": {},
     "output_type": "display_data"
    },
    {
     "data": {
      "text/html": [
       "<pre>| 2         | 1.758515     | 0.998954     | 0.998926       |</pre>"
      ],
      "text/plain": [
       "| 2         | 1.758515     | 0.998954     | 0.998926       |"
      ]
     },
     "metadata": {},
     "output_type": "display_data"
    },
    {
     "data": {
      "text/html": [
       "<pre>| 3         | 2.495218     | 0.999065     | 0.999051       |</pre>"
      ],
      "text/plain": [
       "| 3         | 2.495218     | 0.999065     | 0.999051       |"
      ]
     },
     "metadata": {},
     "output_type": "display_data"
    },
    {
     "data": {
      "text/html": [
       "<pre>| 4         | 3.272294     | 0.999135     | 0.999123       |</pre>"
      ],
      "text/plain": [
       "| 4         | 3.272294     | 0.999135     | 0.999123       |"
      ]
     },
     "metadata": {},
     "output_type": "display_data"
    },
    {
     "data": {
      "text/html": [
       "<pre>| 5         | 4.076956     | 0.999158     | 0.999151       |</pre>"
      ],
      "text/plain": [
       "| 5         | 4.076956     | 0.999158     | 0.999151       |"
      ]
     },
     "metadata": {},
     "output_type": "display_data"
    },
    {
     "data": {
      "text/html": [
       "<pre>+-----------+--------------+--------------+----------------+</pre>"
      ],
      "text/plain": [
       "+-----------+--------------+--------------+----------------+"
      ]
     },
     "metadata": {},
     "output_type": "display_data"
    },
    {
     "name": "stdout",
     "output_type": "stream",
     "text": [
      "{'f1_score': 0.9841931963225365, 'auc': 0.9991660130107964, 'recall': 0.9817279349014434, 'precision': 0.9866708701719573, 'log_loss': 0.14161584340188815, 'roc_curve': Columns:\n",
      "\tthreshold\tfloat\n",
      "\tfpr\tfloat\n",
      "\ttpr\tfloat\n",
      "\tp\tint\n",
      "\tn\tint\n",
      "\n",
      "Rows: 100001\n",
      "\n",
      "Data:\n",
      "+-----------+-----+-----+--------+--------+\n",
      "| threshold | fpr | tpr |   p    |   n    |\n",
      "+-----------+-----+-----+--------+--------+\n",
      "|    0.0    | 1.0 | 1.0 | 216779 | 276951 |\n",
      "|   1e-05   | 1.0 | 1.0 | 216779 | 276951 |\n",
      "|   2e-05   | 1.0 | 1.0 | 216779 | 276951 |\n",
      "|   3e-05   | 1.0 | 1.0 | 216779 | 276951 |\n",
      "|   4e-05   | 1.0 | 1.0 | 216779 | 276951 |\n",
      "|   5e-05   | 1.0 | 1.0 | 216779 | 276951 |\n",
      "|   6e-05   | 1.0 | 1.0 | 216779 | 276951 |\n",
      "|   7e-05   | 1.0 | 1.0 | 216779 | 276951 |\n",
      "|   8e-05   | 1.0 | 1.0 | 216779 | 276951 |\n",
      "|   9e-05   | 1.0 | 1.0 | 216779 | 276951 |\n",
      "+-----------+-----+-----+--------+--------+\n",
      "[100001 rows x 5 columns]\n",
      "Note: Only the head of the SFrame is printed.\n",
      "You can use print_rows(num_rows=m, num_columns=n) to print more rows and columns., 'confusion_matrix': Columns:\n",
      "\ttarget_label\tint\n",
      "\tpredicted_label\tint\n",
      "\tcount\tint\n",
      "\n",
      "Rows: 4\n",
      "\n",
      "Data:\n",
      "+--------------+-----------------+--------+\n",
      "| target_label | predicted_label | count  |\n",
      "+--------------+-----------------+--------+\n",
      "|      0       |        1        |  2875  |\n",
      "|      1       |        0        |  3961  |\n",
      "|      1       |        1        | 212818 |\n",
      "|      0       |        0        | 274076 |\n",
      "+--------------+-----------------+--------+\n",
      "[4 rows x 3 columns]\n",
      ", 'accuracy': 0.9861543758734531}\n"
     ]
    }
   ],
   "source": [
    "model_product_all = gl.classifier.boosted_trees_classifier.create(train, \n",
    "                                                 target=\"class\", \n",
    "                                                 features=chosen_feat,\n",
    "                                                 max_iterations = 5, metric = 'auc', column_subsample=0.7,random_seed=23,\n",
    "                                                     min_loss_reduction = 0.04, early_stopping_rounds=3)\n",
    "results4 = model_product_all.evaluate(test)\n",
    "print results4"
   ]
  },
  {
   "cell_type": "code",
   "execution_count": 81,
   "metadata": {
    "collapsed": false
   },
   "outputs": [
    {
     "data": {
      "text/html": [
       "<div style=\"max-height:1000px;max-width:1500px;overflow:auto;\"><table frame=\"box\" rules=\"cols\">\n",
       "    <tr>\n",
       "        <th style=\"padding-left: 1em; padding-right: 1em; text-align: center\">name</th>\n",
       "        <th style=\"padding-left: 1em; padding-right: 1em; text-align: center\">index</th>\n",
       "        <th style=\"padding-left: 1em; padding-right: 1em; text-align: center\">count</th>\n",
       "    </tr>\n",
       "    <tr>\n",
       "        <td style=\"padding-left: 1em; padding-right: 1em; text-align: center; vertical-align: top\">dw_product</td>\n",
       "        <td style=\"padding-left: 1em; padding-right: 1em; text-align: center; vertical-align: top\">None</td>\n",
       "        <td style=\"padding-left: 1em; padding-right: 1em; text-align: center; vertical-align: top\">68</td>\n",
       "    </tr>\n",
       "    <tr>\n",
       "        <td style=\"padding-left: 1em; padding-right: 1em; text-align: center; vertical-align: top\">dst</td>\n",
       "        <td style=\"padding-left: 1em; padding-right: 1em; text-align: center; vertical-align: top\">None</td>\n",
       "        <td style=\"padding-left: 1em; padding-right: 1em; text-align: center; vertical-align: top\">43</td>\n",
       "    </tr>\n",
       "    <tr>\n",
       "        <td style=\"padding-left: 1em; padding-right: 1em; text-align: center; vertical-align: top\">dst_in_degree</td>\n",
       "        <td style=\"padding-left: 1em; padding-right: 1em; text-align: center; vertical-align: top\">None</td>\n",
       "        <td style=\"padding-left: 1em; padding-right: 1em; text-align: center; vertical-align: top\">36</td>\n",
       "    </tr>\n",
       "    <tr>\n",
       "        <td style=\"padding-left: 1em; padding-right: 1em; text-align: center; vertical-align: top\">src_out&amp;in_degree</td>\n",
       "        <td style=\"padding-left: 1em; padding-right: 1em; text-align: center; vertical-align: top\">None</td>\n",
       "        <td style=\"padding-left: 1em; padding-right: 1em; text-align: center; vertical-align: top\">28</td>\n",
       "    </tr>\n",
       "    <tr>\n",
       "        <td style=\"padding-left: 1em; padding-right: 1em; text-align: center; vertical-align: top\">Adamic_Adar</td>\n",
       "        <td style=\"padding-left: 1em; padding-right: 1em; text-align: center; vertical-align: top\">None</td>\n",
       "        <td style=\"padding-left: 1em; padding-right: 1em; text-align: center; vertical-align: top\">21</td>\n",
       "    </tr>\n",
       "    <tr>\n",
       "        <td style=\"padding-left: 1em; padding-right: 1em; text-align: center; vertical-align: top\">src</td>\n",
       "        <td style=\"padding-left: 1em; padding-right: 1em; text-align: center; vertical-align: top\">None</td>\n",
       "        <td style=\"padding-left: 1em; padding-right: 1em; text-align: center; vertical-align: top\">18</td>\n",
       "    </tr>\n",
       "    <tr>\n",
       "        <td style=\"padding-left: 1em; padding-right: 1em; text-align: center; vertical-align: top\">src_out|in_degree</td>\n",
       "        <td style=\"padding-left: 1em; padding-right: 1em; text-align: center; vertical-align: top\">None</td>\n",
       "        <td style=\"padding-left: 1em; padding-right: 1em; text-align: center; vertical-align: top\">13</td>\n",
       "    </tr>\n",
       "    <tr>\n",
       "        <td style=\"padding-left: 1em; padding-right: 1em; text-align: center; vertical-align: top\">dst_out|in_degree</td>\n",
       "        <td style=\"padding-left: 1em; padding-right: 1em; text-align: center; vertical-align: top\">None</td>\n",
       "        <td style=\"padding-left: 1em; padding-right: 1em; text-align: center; vertical-align: top\">5</td>\n",
       "    </tr>\n",
       "    <tr>\n",
       "        <td style=\"padding-left: 1em; padding-right: 1em; text-align: center; vertical-align: top\">Jaccar</td>\n",
       "        <td style=\"padding-left: 1em; padding-right: 1em; text-align: center; vertical-align: top\">None</td>\n",
       "        <td style=\"padding-left: 1em; padding-right: 1em; text-align: center; vertical-align: top\">3</td>\n",
       "    </tr>\n",
       "    <tr>\n",
       "        <td style=\"padding-left: 1em; padding-right: 1em; text-align: center; vertical-align: top\">src_out_degree</td>\n",
       "        <td style=\"padding-left: 1em; padding-right: 1em; text-align: center; vertical-align: top\">None</td>\n",
       "        <td style=\"padding-left: 1em; padding-right: 1em; text-align: center; vertical-align: top\">0</td>\n",
       "    </tr>\n",
       "</table>\n",
       "[11 rows x 3 columns]<br/>Note: Only the head of the SFrame is printed.<br/>You can use print_rows(num_rows=m, num_columns=n) to print more rows and columns.\n",
       "</div>"
      ],
      "text/plain": [
       "Columns:\n",
       "\tname\tstr\n",
       "\tindex\tstr\n",
       "\tcount\tint\n",
       "\n",
       "Rows: 11\n",
       "\n",
       "Data:\n",
       "+-------------------+-------+-------+\n",
       "|        name       | index | count |\n",
       "+-------------------+-------+-------+\n",
       "|     dw_product    |  None |   68  |\n",
       "|        dst        |  None |   43  |\n",
       "|   dst_in_degree   |  None |   36  |\n",
       "| src_out&in_degree |  None |   28  |\n",
       "|    Adamic_Adar    |  None |   21  |\n",
       "|        src        |  None |   18  |\n",
       "| src_out|in_degree |  None |   13  |\n",
       "| dst_out|in_degree |  None |   5   |\n",
       "|       Jaccar      |  None |   3   |\n",
       "|   src_out_degree  |  None |   0   |\n",
       "+-------------------+-------+-------+\n",
       "[11 rows x 3 columns]\n",
       "Note: Only the head of the SFrame is printed.\n",
       "You can use print_rows(num_rows=m, num_columns=n) to print more rows and columns."
      ]
     },
     "execution_count": 81,
     "metadata": {},
     "output_type": "execute_result"
    }
   ],
   "source": [
    "model_product_all.get_feature_importance()"
   ]
  },
  {
   "cell_type": "code",
   "execution_count": null,
   "metadata": {
    "collapsed": true
   },
   "outputs": [],
   "source": [
    "## Эта модель заработала скор 0.97 на public leaderboard\n",
    "## Использованные в ней фичи -- основные + deep_walk векторы как они есть, без их product'а\n",
    "## Я слишком поздно заметила, что случайно скопировала векторы deep_walk несколько раз "
   ]
  },
  {
   "cell_type": "code",
   "execution_count": 156,
   "metadata": {
    "collapsed": false
   },
   "outputs": [],
   "source": [
    "all_feat = [x for x in train.column_names() if 'class' not in x]"
   ]
  },
  {
   "cell_type": "code",
   "execution_count": 120,
   "metadata": {
    "collapsed": false
   },
   "outputs": [
    {
     "name": "stdout",
     "output_type": "stream",
     "text": [
      "PROGRESS: Creating a validation set from 5 percent of training data. This may take a while.\n",
      "          You can set ``validation_set=None`` to disable validation tracking.\n",
      "\n"
     ]
    },
    {
     "data": {
      "text/html": [
       "<pre>Boosted trees classifier:</pre>"
      ],
      "text/plain": [
       "Boosted trees classifier:"
      ]
     },
     "metadata": {},
     "output_type": "display_data"
    },
    {
     "data": {
      "text/html": [
       "<pre>--------------------------------------------------------</pre>"
      ],
      "text/plain": [
       "--------------------------------------------------------"
      ]
     },
     "metadata": {},
     "output_type": "display_data"
    },
    {
     "data": {
      "text/html": [
       "<pre>Number of examples          : 1877372</pre>"
      ],
      "text/plain": [
       "Number of examples          : 1877372"
      ]
     },
     "metadata": {},
     "output_type": "display_data"
    },
    {
     "data": {
      "text/html": [
       "<pre>Number of classes           : 2</pre>"
      ],
      "text/plain": [
       "Number of classes           : 2"
      ]
     },
     "metadata": {},
     "output_type": "display_data"
    },
    {
     "data": {
      "text/html": [
       "<pre>Number of feature columns   : 330</pre>"
      ],
      "text/plain": [
       "Number of feature columns   : 330"
      ]
     },
     "metadata": {},
     "output_type": "display_data"
    },
    {
     "data": {
      "text/html": [
       "<pre>Number of unpacked features : 330</pre>"
      ],
      "text/plain": [
       "Number of unpacked features : 330"
      ]
     },
     "metadata": {},
     "output_type": "display_data"
    },
    {
     "data": {
      "text/html": [
       "<pre>+-----------+--------------+--------------+----------------+</pre>"
      ],
      "text/plain": [
       "+-----------+--------------+--------------+----------------+"
      ]
     },
     "metadata": {},
     "output_type": "display_data"
    },
    {
     "data": {
      "text/html": [
       "<pre>| Iteration | Elapsed Time | Training-auc | Validation-auc |</pre>"
      ],
      "text/plain": [
       "| Iteration | Elapsed Time | Training-auc | Validation-auc |"
      ]
     },
     "metadata": {},
     "output_type": "display_data"
    },
    {
     "data": {
      "text/html": [
       "<pre>+-----------+--------------+--------------+----------------+</pre>"
      ],
      "text/plain": [
       "+-----------+--------------+--------------+----------------+"
      ]
     },
     "metadata": {},
     "output_type": "display_data"
    },
    {
     "data": {
      "text/html": [
       "<pre>| 1         | 48.858071    | 0.954372     | 0.954818       |</pre>"
      ],
      "text/plain": [
       "| 1         | 48.858071    | 0.954372     | 0.954818       |"
      ]
     },
     "metadata": {},
     "output_type": "display_data"
    },
    {
     "data": {
      "text/html": [
       "<pre>| 2         | 96.813697    | 0.958660     | 0.958542       |</pre>"
      ],
      "text/plain": [
       "| 2         | 96.813697    | 0.958660     | 0.958542       |"
      ]
     },
     "metadata": {},
     "output_type": "display_data"
    },
    {
     "data": {
      "text/html": [
       "<pre>| 3         | 144.408705   | 0.962807     | 0.962743       |</pre>"
      ],
      "text/plain": [
       "| 3         | 144.408705   | 0.962807     | 0.962743       |"
      ]
     },
     "metadata": {},
     "output_type": "display_data"
    },
    {
     "data": {
      "text/html": [
       "<pre>| 4         | 204.357538   | 0.964059     | 0.964018       |</pre>"
      ],
      "text/plain": [
       "| 4         | 204.357538   | 0.964059     | 0.964018       |"
      ]
     },
     "metadata": {},
     "output_type": "display_data"
    },
    {
     "data": {
      "text/html": [
       "<pre>| 5         | 251.736836   | 0.966056     | 0.965974       |</pre>"
      ],
      "text/plain": [
       "| 5         | 251.736836   | 0.966056     | 0.965974       |"
      ]
     },
     "metadata": {},
     "output_type": "display_data"
    },
    {
     "data": {
      "text/html": [
       "<pre>| 6         | 299.396571   | 0.966581     | 0.966535       |</pre>"
      ],
      "text/plain": [
       "| 6         | 299.396571   | 0.966581     | 0.966535       |"
      ]
     },
     "metadata": {},
     "output_type": "display_data"
    },
    {
     "data": {
      "text/html": [
       "<pre>| 7         | 347.491148   | 0.968513     | 0.968414       |</pre>"
      ],
      "text/plain": [
       "| 7         | 347.491148   | 0.968513     | 0.968414       |"
      ]
     },
     "metadata": {},
     "output_type": "display_data"
    },
    {
     "data": {
      "text/html": [
       "<pre>| 8         | 407.168984   | 0.969071     | 0.968879       |</pre>"
      ],
      "text/plain": [
       "| 8         | 407.168984   | 0.969071     | 0.968879       |"
      ]
     },
     "metadata": {},
     "output_type": "display_data"
    },
    {
     "data": {
      "text/html": [
       "<pre>| 9         | 454.833228   | 0.969417     | 0.969146       |</pre>"
      ],
      "text/plain": [
       "| 9         | 454.833228   | 0.969417     | 0.969146       |"
      ]
     },
     "metadata": {},
     "output_type": "display_data"
    },
    {
     "data": {
      "text/html": [
       "<pre>| 10        | 502.980739   | 0.974226     | 0.974039       |</pre>"
      ],
      "text/plain": [
       "| 10        | 502.980739   | 0.974226     | 0.974039       |"
      ]
     },
     "metadata": {},
     "output_type": "display_data"
    },
    {
     "data": {
      "text/html": [
       "<pre>+-----------+--------------+--------------+----------------+</pre>"
      ],
      "text/plain": [
       "+-----------+--------------+--------------+----------------+"
      ]
     },
     "metadata": {},
     "output_type": "display_data"
    },
    {
     "name": "stdout",
     "output_type": "stream",
     "text": [
      "{'f1_score': 0.9211505722645167, 'auc': 0.9738530802982502, 'recall': 0.8653020722758111, 'precision': 0.9847056413703997, 'log_loss': 0.20363188750900796, 'roc_curve': Columns:\n",
      "\tthreshold\tfloat\n",
      "\tfpr\tfloat\n",
      "\ttpr\tfloat\n",
      "\tp\tint\n",
      "\tn\tint\n",
      "\n",
      "Rows: 100001\n",
      "\n",
      "Data:\n",
      "+-----------+-----+-----+--------+--------+\n",
      "| threshold | fpr | tpr |   p    |   n    |\n",
      "+-----------+-----+-----+--------+--------+\n",
      "|    0.0    | 1.0 | 1.0 | 216670 | 276621 |\n",
      "|   1e-05   | 1.0 | 1.0 | 216670 | 276621 |\n",
      "|   2e-05   | 1.0 | 1.0 | 216670 | 276621 |\n",
      "|   3e-05   | 1.0 | 1.0 | 216670 | 276621 |\n",
      "|   4e-05   | 1.0 | 1.0 | 216670 | 276621 |\n",
      "|   5e-05   | 1.0 | 1.0 | 216670 | 276621 |\n",
      "|   6e-05   | 1.0 | 1.0 | 216670 | 276621 |\n",
      "|   7e-05   | 1.0 | 1.0 | 216670 | 276621 |\n",
      "|   8e-05   | 1.0 | 1.0 | 216670 | 276621 |\n",
      "|   9e-05   | 1.0 | 1.0 | 216670 | 276621 |\n",
      "+-----------+-----+-----+--------+--------+\n",
      "[100001 rows x 5 columns]\n",
      "Note: Only the head of the SFrame is printed.\n",
      "You can use print_rows(num_rows=m, num_columns=n) to print more rows and columns., 'confusion_matrix': Columns:\n",
      "\ttarget_label\tint\n",
      "\tpredicted_label\tint\n",
      "\tcount\tint\n",
      "\n",
      "Rows: 4\n",
      "\n",
      "Data:\n",
      "+--------------+-----------------+--------+\n",
      "| target_label | predicted_label | count  |\n",
      "+--------------+-----------------+--------+\n",
      "|      0       |        1        |  2912  |\n",
      "|      1       |        0        | 29185  |\n",
      "|      1       |        1        | 187485 |\n",
      "|      0       |        0        | 273709 |\n",
      "+--------------+-----------------+--------+\n",
      "[4 rows x 3 columns]\n",
      ", 'accuracy': 0.9349329300554845}\n"
     ]
    }
   ],
   "source": [
    "model = gl.classifier.boosted_trees_classifier.create(train, \n",
    "                                                 target=\"class\", \n",
    "                                                 features=all_feat,\n",
    "                                                 max_iterations = 10, metric = 'auc', column_subsample=0.7,random_seed=23,\n",
    "                                                     min_loss_reduction = 0.04, early_stopping_rounds=5)\n",
    "results2 = model.evaluate(test)\n",
    "print results2"
   ]
  },
  {
   "cell_type": "code",
   "execution_count": 116,
   "metadata": {
    "collapsed": false
   },
   "outputs": [
    {
     "data": {
      "text/html": [
       "<div style=\"max-height:1000px;max-width:1500px;overflow:auto;\"><table frame=\"box\" rules=\"cols\">\n",
       "    <tr>\n",
       "        <th style=\"padding-left: 1em; padding-right: 1em; text-align: center\">name</th>\n",
       "        <th style=\"padding-left: 1em; padding-right: 1em; text-align: center\">index</th>\n",
       "        <th style=\"padding-left: 1em; padding-right: 1em; text-align: center\">count</th>\n",
       "    </tr>\n",
       "    <tr>\n",
       "        <td style=\"padding-left: 1em; padding-right: 1em; text-align: center; vertical-align: top\">src_out&amp;in_degree</td>\n",
       "        <td style=\"padding-left: 1em; padding-right: 1em; text-align: center; vertical-align: top\">None</td>\n",
       "        <td style=\"padding-left: 1em; padding-right: 1em; text-align: center; vertical-align: top\">50</td>\n",
       "    </tr>\n",
       "    <tr>\n",
       "        <td style=\"padding-left: 1em; padding-right: 1em; text-align: center; vertical-align: top\">dst_in_degree</td>\n",
       "        <td style=\"padding-left: 1em; padding-right: 1em; text-align: center; vertical-align: top\">None</td>\n",
       "        <td style=\"padding-left: 1em; padding-right: 1em; text-align: center; vertical-align: top\">43</td>\n",
       "    </tr>\n",
       "    <tr>\n",
       "        <td style=\"padding-left: 1em; padding-right: 1em; text-align: center; vertical-align: top\">src_out_degree</td>\n",
       "        <td style=\"padding-left: 1em; padding-right: 1em; text-align: center; vertical-align: top\">None</td>\n",
       "        <td style=\"padding-left: 1em; padding-right: 1em; text-align: center; vertical-align: top\">42</td>\n",
       "    </tr>\n",
       "    <tr>\n",
       "        <td style=\"padding-left: 1em; padding-right: 1em; text-align: center; vertical-align: top\">dst_out|in_degree</td>\n",
       "        <td style=\"padding-left: 1em; padding-right: 1em; text-align: center; vertical-align: top\">None</td>\n",
       "        <td style=\"padding-left: 1em; padding-right: 1em; text-align: center; vertical-align: top\">41</td>\n",
       "    </tr>\n",
       "    <tr>\n",
       "        <td style=\"padding-left: 1em; padding-right: 1em; text-align: center; vertical-align: top\">src</td>\n",
       "        <td style=\"padding-left: 1em; padding-right: 1em; text-align: center; vertical-align: top\">None</td>\n",
       "        <td style=\"padding-left: 1em; padding-right: 1em; text-align: center; vertical-align: top\">36</td>\n",
       "    </tr>\n",
       "    <tr>\n",
       "        <td style=\"padding-left: 1em; padding-right: 1em; text-align: center; vertical-align: top\">dst_out&amp;in_degree</td>\n",
       "        <td style=\"padding-left: 1em; padding-right: 1em; text-align: center; vertical-align: top\">None</td>\n",
       "        <td style=\"padding-left: 1em; padding-right: 1em; text-align: center; vertical-align: top\">30</td>\n",
       "    </tr>\n",
       "    <tr>\n",
       "        <td style=\"padding-left: 1em; padding-right: 1em; text-align: center; vertical-align: top\">src_out|in_degree</td>\n",
       "        <td style=\"padding-left: 1em; padding-right: 1em; text-align: center; vertical-align: top\">None</td>\n",
       "        <td style=\"padding-left: 1em; padding-right: 1em; text-align: center; vertical-align: top\">29</td>\n",
       "    </tr>\n",
       "    <tr>\n",
       "        <td style=\"padding-left: 1em; padding-right: 1em; text-align: center; vertical-align: top\">dst</td>\n",
       "        <td style=\"padding-left: 1em; padding-right: 1em; text-align: center; vertical-align: top\">None</td>\n",
       "        <td style=\"padding-left: 1em; padding-right: 1em; text-align: center; vertical-align: top\">29</td>\n",
       "    </tr>\n",
       "    <tr>\n",
       "        <td style=\"padding-left: 1em; padding-right: 1em; text-align: center; vertical-align: top\">Jaccar</td>\n",
       "        <td style=\"padding-left: 1em; padding-right: 1em; text-align: center; vertical-align: top\">None</td>\n",
       "        <td style=\"padding-left: 1em; padding-right: 1em; text-align: center; vertical-align: top\">26</td>\n",
       "    </tr>\n",
       "    <tr>\n",
       "        <td style=\"padding-left: 1em; padding-right: 1em; text-align: center; vertical-align: top\">Adamic_Adar</td>\n",
       "        <td style=\"padding-left: 1em; padding-right: 1em; text-align: center; vertical-align: top\">None</td>\n",
       "        <td style=\"padding-left: 1em; padding-right: 1em; text-align: center; vertical-align: top\">18</td>\n",
       "    </tr>\n",
       "</table>\n",
       "[2472622 rows x 3 columns]<br/>Note: Only the head of the SFrame is printed.<br/>You can use print_rows(num_rows=m, num_columns=n) to print more rows and columns.\n",
       "</div>"
      ],
      "text/plain": [
       "Columns:\n",
       "\tname\tstr\n",
       "\tindex\tstr\n",
       "\tcount\tint\n",
       "\n",
       "Rows: 2472622\n",
       "\n",
       "Data:\n",
       "+-------------------+-------+-------+\n",
       "|        name       | index | count |\n",
       "+-------------------+-------+-------+\n",
       "| src_out&in_degree |  None |   50  |\n",
       "|   dst_in_degree   |  None |   43  |\n",
       "|   src_out_degree  |  None |   42  |\n",
       "| dst_out|in_degree |  None |   41  |\n",
       "|        src        |  None |   36  |\n",
       "| dst_out&in_degree |  None |   30  |\n",
       "| src_out|in_degree |  None |   29  |\n",
       "|        dst        |  None |   29  |\n",
       "|       Jaccar      |  None |   26  |\n",
       "|    Adamic_Adar    |  None |   18  |\n",
       "+-------------------+-------+-------+\n",
       "[2472622 rows x 3 columns]\n",
       "Note: Only the head of the SFrame is printed.\n",
       "You can use print_rows(num_rows=m, num_columns=n) to print more rows and columns."
      ]
     },
     "execution_count": 116,
     "metadata": {},
     "output_type": "execute_result"
    }
   ],
   "source": [
    "model.get_feature_importance()"
   ]
  },
  {
   "cell_type": "markdown",
   "metadata": {},
   "source": [
    "Мы получили базовую модель с метриками: точность ~ 0.67, ROC AUC ~ 0.71. Ваша задача улучшить модель,  за счет добавления новых признаков вершин, ребер и аккуратного обучения выбранных моделей (настройки гиперпараметров и регуляризации)."
   ]
  },
  {
   "cell_type": "markdown",
   "metadata": {},
   "source": [
    "----\n",
    "### 5. Отправка результатов в контест на Kaggle - 20 Баллов\n",
    "\n",
    "\n",
    "Завершая домашнюю работу, нам небходимо предсказать вероятности наличия ребер, для заданного списка ребер. Результат отправлется в контест на kaggle.com в формате: edge_id - probability"
   ]
  },
  {
   "cell_type": "code",
   "execution_count": 68,
   "metadata": {
    "collapsed": true
   },
   "outputs": [],
   "source": [
    "susp_edges['common_in_vertices_lst'] = gl.SArray([[int(i) for i in g] if g!=[] \n",
    "                                                   else [] for g in susp_edges['common_in_vertices_lst']], dtype=list)"
   ]
  },
  {
   "cell_type": "code",
   "execution_count": 69,
   "metadata": {
    "collapsed": true
   },
   "outputs": [],
   "source": [
    "susp_edges['common_out_vertices_lst'] = gl.SArray([[int(i) for i in g] if g!=[] \n",
    "                                                   else [] for g in susp_edges['common_out_vertices_lst']], dtype=list)"
   ]
  },
  {
   "cell_type": "code",
   "execution_count": 86,
   "metadata": {
    "collapsed": false
   },
   "outputs": [],
   "source": [
    "predicted = model_product_all.predict(susp_edges[chosen_feat], output_type='probability')"
   ]
  },
  {
   "cell_type": "code",
   "execution_count": 87,
   "metadata": {
    "collapsed": false
   },
   "outputs": [],
   "source": [
    "susp_edges['probability'] = predicted"
   ]
  },
  {
   "cell_type": "code",
   "execution_count": 88,
   "metadata": {
    "collapsed": false
   },
   "outputs": [],
   "source": [
    "result = susp_edges['edge_id', 'probability']"
   ]
  },
  {
   "cell_type": "code",
   "execution_count": 89,
   "metadata": {
    "collapsed": false
   },
   "outputs": [],
   "source": [
    "result.save('result_deep_walk_product_1.csv', format='csv')"
   ]
  },
  {
   "cell_type": "markdown",
   "metadata": {},
   "source": [
    "----\n",
    "### Не модифицируйте данный код, он для проверки вашего ноутбука"
   ]
  },
  {
   "cell_type": "code",
   "execution_count": 35,
   "metadata": {
    "collapsed": true
   },
   "outputs": [],
   "source": [
    "# from sklearn.metrics import roc_curve, auc\n",
    "# import matplotlib.pyplot as plt\n",
    "\n",
    "# %matplotlib inline"
   ]
  },
  {
   "cell_type": "code",
   "execution_count": 36,
   "metadata": {
    "collapsed": false
   },
   "outputs": [],
   "source": [
    "# labeled = pd.read_csv('labeled_suspicions.csv')\n",
    "# print labeled.shape\n",
    "\n",
    "# res = labeled.merge(result.to_dataframe(), on='edge_id', how='inner')\n",
    "# res = res[['class', 'probability']]\n",
    "# print res.shape"
   ]
  },
  {
   "cell_type": "code",
   "execution_count": 37,
   "metadata": {
    "collapsed": false
   },
   "outputs": [],
   "source": [
    "# fpr, tpr, _ = roc_curve(res['class'], res['probability'])\n",
    "# roc_auc = auc(fpr, tpr)\n",
    "\n",
    "# plt.figure(figsize=(15, 10))\n",
    "# lw = 2\n",
    "# plt.plot(fpr, tpr, color='darkorange', lw=lw, label='ROC curve (area = %0.2f)' % roc_auc)\n",
    "# plt.plot([0, 1], [0, 1], color='navy', lw=lw, linestyle='--')\n",
    "# plt.xlim([0.0, 1.0])\n",
    "# plt.ylim([0.0, 1.05])\n",
    "# plt.xlabel('False Positive Rate')\n",
    "# plt.ylabel('True Positive Rate')\n",
    "# plt.title('Receiver operating characteristic example')\n",
    "# plt.legend(loc=\"lower right\")\n",
    "# plt.show()"
   ]
  },
  {
   "cell_type": "code",
   "execution_count": null,
   "metadata": {
    "collapsed": true
   },
   "outputs": [],
   "source": []
  },
  {
   "cell_type": "code",
   "execution_count": null,
   "metadata": {
    "collapsed": true
   },
   "outputs": [],
   "source": []
  }
 ],
 "metadata": {
  "kernelspec": {
   "display_name": "Python 2",
   "language": "python",
   "name": "python2"
  },
  "language_info": {
   "codemirror_mode": {
    "name": "ipython",
    "version": 2
   },
   "file_extension": ".py",
   "mimetype": "text/x-python",
   "name": "python",
   "nbconvert_exporter": "python",
   "pygments_lexer": "ipython2",
   "version": "2.7.6"
  }
 },
 "nbformat": 4,
 "nbformat_minor": 0
}
