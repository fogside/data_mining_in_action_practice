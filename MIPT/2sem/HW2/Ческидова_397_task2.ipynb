{
 "cells": [
  {
   "cell_type": "markdown",
   "metadata": {},
   "source": [
    "МФТИ ФИВТ: Курс Машинное Обучение (осень, 2016), Арсений Ашуха, ars.ashuha@gmail.com"
   ]
  },
  {
   "cell_type": "markdown",
   "metadata": {},
   "source": [
    "<h1 align=\"center\">Organization Info</h1> "
   ]
  },
  {
   "cell_type": "markdown",
   "metadata": {},
   "source": [
    "**Дополнительный материал для выполнения дз**:\n",
    "- Hastie, The Elements of Statistical Learning, https://goo.gl/k3wfEU, 10 Boosting and Additive Trees 337\n",
    "- Соколов, Семинары по композиционным методам, https://goo.gl/sn8RyJ, http://goo.gl/ajNTQy\n",
    "\n",
    "**Оформление дз**: \n",
    "- Присылайте выполненное задание на почту ``ml.course.mipt@gmail.com``\n",
    "- Укажите тему письма в следующем формате ``ML2016_fall <номер_группы> <фамилия>``, к примеру -- ``ML2016_fall 401 ivanov``\n",
    "- Выполненное дз сохраните в файл ``<фамилия>_<группа>_task<номер>.ipnb``, к примеру -- ``ivanov_401_task1.ipnb``\n",
    "\n",
    "**Вопросы**:\n",
    "- Присылайте вопросы на почту ``ml.course.mipt@gmail.com``\n",
    "- Укажите тему письма в следующем формате ``ML2016_fall Question <Содержание вопроса>``\n",
    "\n",
    "--------\n",
    "- **PS1**: Мы используем автоматические фильтры, и просто не найдем ваше дз, если вы не аккуратно его подпишите.\n",
    "- **PS2**: Напоминаем, что дедлайны жесткие, письма пришедшие после автоматически удаляются =( чтобы соблазна не было "
   ]
  },
  {
   "cell_type": "markdown",
   "metadata": {},
   "source": [
    "<h1 align=\"center\">Check Questions</h1> "
   ]
  },
  {
   "cell_type": "markdown",
   "metadata": {},
   "source": [
    "Ответе на вопросы своими словами (загугленный материал надо пересказать), ответ обоснуйте (напишите и ОБЪЯСНИТЕ формулки если потребуется), если не выходит, то вернитесь к лекции дополнительным материалам:\n",
    "\n",
    "**Вопрос 1**: Чем отличается AdaBoost от XGBoost? Перечислите принципиальные отличия. \n",
    "\n",
    "<Ответ>\n",
    "В XGBoost мы уменьшаем не функцию потерь, а среднеквадратичное отклонение от ее антиградиента, также в XGBoost есть регуляризация, XGBoost умеет оценивать вероятности классов и при построении дерева в XGBoost-e используется критерий, которые зависит от оптимального вектора сдвига.\n",
    "\n",
    "**Вопрос 2**: Почему говорят, что AdaBoost неустойчив к выбросам?\n",
    "<Ответ>\n",
    "Потому что AdaBoost каждый новый алгоритм добавляет по принципу исправления ошибок на всех предыдущих итерациях. Т.е. она дает большие веса объектам, у которых отступ небольшой, отчего результаты на этих объектах имеют наибольший вклад. Таким образом  AdaBoost специализируется на выбросах.\n",
    "\n",
    "**Вопрос 3**:  В каком пространстве градиентный бустинг совершает градиентный спуск? Какова размерность этого пространства?\n",
    "\n",
    "<Ответ>\n",
    "В пространстве ответов алгоритмов. Его размерность -- количество сэмплов в обучающей выборке.\n",
    "\n",
    "\n",
    "**Вопрос 4**: В чем заключается сокращение шага в градиентном бустинге? Как число итераций, необходимое для сходимости, зависит от размера шага η?\n",
    "\n",
    "<Ответ>\n",
    "Здесь $0 < \\eta \\le 1$. Суть в том, что вес каждого нового алгоритма в композиции мы умножаем на $\\eta$, тем самым делая уменьшеный шаг в сторону антиградиента функции потерь. При этом, чем меньше $\\eta$, тем большее количество итераций необходимо для настройки градиентного бустинга.\n",
    "\n",
    "**Вопрос 5**: Что такое стохастический градиентный бустинг?\n",
    "\n",
    "<Ответ>\n",
    "Отличие в том, что каждый отдельный алгоритм обучается только на случайной подвыборке, а не на всей выборке.\n",
    "Это уменьшает время обучения каждого отдельного алгоритма и понижает уровень шума.\n",
    "\n",
    "-----------\n",
    "PS: Если проверяющий не понял ответ на большинство вопросов, то будет пичалька. Пишите так, чтобы можно было разобраться. "
   ]
  },
  {
   "cell_type": "markdown",
   "metadata": {
    "collapsed": true
   },
   "source": [
    "<h1 align=\"center\">Boosting</h1> "
   ]
  },
  {
   "cell_type": "markdown",
   "metadata": {
    "collapsed": true
   },
   "source": [
    "1) Задача 1 \n",
    "![](./img/task11.png)\n",
    "![](./img/task12.png)\n",
    "\n",
    "**<Решение>**\n",
    "\n",
    "Пусть пень возвращает $sign(x-x_s)$, где $x_s$ — точка, в которой пень установлен, а x — входная точка. \n",
    "\n",
    "(Т.е. для элементов справа от себя он вернёт +1, а для элементов слева — -1).\n",
    "\n",
    "Тогда слева и справа от каждого элемента обучающей выборки ставим по одному пню.\n",
    "Допустим, у нас есть элемент $x_i$ с правильным ответом $y_i$.\n",
    "Тогда мы ставим пни $(x_i + \\epsilon)$ и $(x_i - \\epsilon)$, где $\\epsilon$ — некое число, в три раза меньше миниального расстояния между элементами. Первому пню мы ставим коэффициент $y_i/2$, а второму — $-y_i/2$.\n",
    "\n",
    "Тогда у нас вокруг каждого элемента обучающей выборки есть пара пней.\n",
    "Если у нас точка лежит вне этой пары, то оба пня в сумме дают ноль (они оба выдают либо +1, либо -1, но после домножения на коэффициенты взаимно уничтожаются).\n",
    "\n",
    "Если же точка лежит внутри этой пары, то она правее первого пня $((y_i/2)*(+1))$ и левее второго $((-y_i/2)*(-1))$, итого эта пара даёт ей ответ $y_i$.\n",
    "\n",
    "А все остальные дают ноль\n",
    "\n",
    "В итоге у нас $2*l$ пней, адовейше переобученных на обучающей выборке, но удовлетворяющих требованиям задачи.\n",
    "\n",
    "2) Найдите градиент логистичиской функции потерь для фиксированного объекта\n",
    "\n",
    "**<Решение>**\n",
    "\n",
    "$$L(y_i, f(x_i)) = \\ln(1+exp(-y_i f(x_i)))$$\n",
    "\n",
    "\n",
    "$$\\frac{\\partial L(y_i, f(x_i))}{\\partial f(x_i)} = \\frac{-y_iexp(-y_if(x_i))}{1+exp(-y_if(x_i))}$$\n",
    "\n",
    "где $f(x_i) = \\Sigma_{t=1}^{T-1} \\alpha_{t}b_t(x_i)$\n",
    "\n",
    "Здесь $b_t$ -- элементарные алгоритмы"
   ]
  },
  {
   "cell_type": "markdown",
   "metadata": {},
   "source": [
    "<h1 align=\"center\">Binary Boosting Implementation</h1> "
   ]
  },
  {
   "cell_type": "markdown",
   "metadata": {},
   "source": [
    "Нужно реализовать двухклассовый бустинг с логистичиской функцией потерь. \n",
    "\n",
    "Длину шага -- или используйте $1.0*lr$ или подбирайте одномерной оптимизацией;"
   ]
  },
  {
   "cell_type": "code",
   "execution_count": 141,
   "metadata": {
    "collapsed": false
   },
   "outputs": [
    {
     "name": "stdout",
     "output_type": "stream",
     "text": [
      "Populating the interactive namespace from numpy and matplotlib\n"
     ]
    },
    {
     "name": "stderr",
     "output_type": "stream",
     "text": [
      "WARNING: pylab import has clobbered these variables: ['clf']\n",
      "`%matplotlib` prevents importing * from pylab and numpy\n"
     ]
    }
   ],
   "source": [
    "%pylab inline\n",
    "\n",
    "import warnings\n",
    "import numpy as np\n",
    "import pandas as pd\n",
    "from copy import deepcopy\n",
    "from utils import plot_surface\n",
    "from sklearn.tree import DecisionTreeRegressor\n",
    "from sklearn.cross_validation import cross_val_score\n",
    "from sklearn.base import ClassifierMixin, BaseEstimator\n",
    "from sklearn.ensemble import GradientBoostingClassifier\n",
    "from scipy.optimize import minimize_scalar\n",
    "from sklearn.feature_extraction.text import TfidfVectorizer\n",
    "from sklearn.decomposition import TruncatedSVD\n",
    "from sklearn.random_projection import GaussianRandomProjection\n",
    "\n",
    "\n",
    "warnings.simplefilter(\"ignore\")"
   ]
  },
  {
   "cell_type": "code",
   "execution_count": 152,
   "metadata": {
    "collapsed": false
   },
   "outputs": [],
   "source": [
    "from copy import deepcopy\n",
    "\n",
    "class BinaryBoostingClassifier(BaseEstimator, ClassifierMixin):\n",
    "    \n",
    "    def __init__(self, base_estimator, n_estimators, lr=0.1):\n",
    "        self.lr = lr   \n",
    "        self.n_estimators = n_estimators\n",
    "        self.base_estimator = base_estimator\n",
    "    \n",
    "    def loss_grad(self, original_y, pred_y):\n",
    "        \n",
    "        loss_gr = []\n",
    "        for y,f in zip(original_y, pred_y):\n",
    "            # here anti-grad\n",
    "            gr = y*exp(-y*f)/(1+exp(-y*f))\n",
    "            loss_gr.append(gr)\n",
    "        \n",
    "        return loss_gr # Градиент на каждом объекте\n",
    "    \n",
    "    def _mse(self, gamma, y, y_pred, y_prev_pred):\n",
    "        return np.sum((y_prev_pred  + gamma * y_pred - y) ** 2)\n",
    "        \n",
    "    def fit(self, X, original_y):\n",
    "        # Храните базовые алгоритмы тут\n",
    "        self.estimators_ = []\n",
    "        self.gammas_ = []\n",
    "        \n",
    "        g = 1\n",
    "        for i in range(self.n_estimators):\n",
    "            y_prev_pred = self._predict(X)\n",
    "            grad = self.loss_grad(original_y, y_prev_pred)\n",
    "            # Настройте базовый алгоритм на градиент, это классификация или регрессия?\n",
    "\n",
    "            estimator = deepcopy(self.base_estimator)\n",
    "            estimator.fit(X, grad)\n",
    "            self.estimators_.append(estimator)\n",
    "            g = self.lr * minimize_scalar(lambda(x):self._mse(x, original_y, estimator.predict(X), y_prev_pred)).x\n",
    "            self.gammas_.append(g)\n",
    "        \n",
    "        self.out_ = self.outliers(grad)\n",
    "\n",
    "        return self\n",
    "\n",
    "    def _predict(self, X):\n",
    "        \n",
    "        X = np.array(X)\n",
    "        if self.estimators_ == []:\n",
    "            return [0]*len(X)\n",
    "        else:\n",
    "            y_pred = np.sum([b.predict(X) for b,g in zip(self.estimators_, self.gammas_)], axis = 0)\n",
    "            \n",
    "        return y_pred\n",
    "    \n",
    "    def predict(self, X):\n",
    "        y_pred = sign(self._predict(X))\n",
    "        return y_pred\n",
    "    \n",
    "    def outliers(self, grad):\n",
    "        out_indx = np.argsort(-np.array(grad))[:10]\n",
    "        \n",
    "#         print(len(out_indx)) \n",
    "        \n",
    "        return out_indx # Топ-10 объектов с большим отступом\n"
   ]
  },
  {
   "cell_type": "markdown",
   "metadata": {},
   "source": [
    "<h1 align=\"center\">Simple test</h1> "
   ]
  },
  {
   "cell_type": "code",
   "execution_count": 150,
   "metadata": {
    "collapsed": false
   },
   "outputs": [],
   "source": [
    "import matplotlib.pyplot as plt\n",
    "from sklearn.datasets import make_classification\n",
    "from sklearn.tree import DecisionTreeRegressor\n",
    "\n",
    "X, y = make_classification(n_samples=500, n_features=2,\n",
    "                           n_informative=2, n_redundant=0, n_repeated=0,\n",
    "                           n_classes=2, n_clusters_per_class=2,\n",
    "                           flip_y=0.05, class_sep=0.8, random_state=241)\n",
    "y = 2*(y-0.5)"
   ]
  },
  {
   "cell_type": "code",
   "execution_count": 153,
   "metadata": {
    "collapsed": false
   },
   "outputs": [
    {
     "data": {
      "image/png": "[encoded data removed]",
      "text/plain": [
       "<matplotlib.figure.Figure at 0x107cd1290>"
      ]
     },
     "metadata": {},
     "output_type": "display_data"
    }
   ],
   "source": [
    "\n",
    "tree = DecisionTreeRegressor(max_depth=5)\n",
    "clf = BinaryBoostingClassifier(tree, n_estimators=100).fit(X, y)\n",
    "plot_surface(X, y, clf)"
   ]
  },
  {
   "cell_type": "code",
   "execution_count": 154,
   "metadata": {
    "collapsed": false
   },
   "outputs": [
    {
     "data": {
      "text/plain": [
       "array([ 0.84431138,  0.80239521,  0.73493976])"
      ]
     },
     "execution_count": 154,
     "metadata": {},
     "output_type": "execute_result"
    }
   ],
   "source": [
    "cross_val_score(clf, X, y, cv = 3)"
   ]
  },
  {
   "cell_type": "markdown",
   "metadata": {
    "collapsed": true
   },
   "source": [
    "<h1 align=\"center\">Outliers</h1> "
   ]
  },
  {
   "cell_type": "code",
   "execution_count": 155,
   "metadata": {
    "collapsed": false
   },
   "outputs": [
    {
     "data": {
      "image/png": "[encoded data removed]",
      "text/plain": [
       "<matplotlib.figure.Figure at 0x1074f3bd0>"
      ]
     },
     "metadata": {},
     "output_type": "display_data"
    }
   ],
   "source": [
    "plot_surface(X[clf.out_], y[clf.out_], clf)"
   ]
  },
  {
   "cell_type": "markdown",
   "metadata": {},
   "source": [
    "<h1 align=\"center\">Adult test</h1> "
   ]
  },
  {
   "cell_type": "code",
   "execution_count": 133,
   "metadata": {
    "collapsed": false
   },
   "outputs": [
    {
     "name": "stdout",
     "output_type": "stream",
     "text": [
      "sh: ./get_data.sh: No such file or directory\r\n"
     ]
    }
   ],
   "source": [
    "!sh ./get_data.sh"
   ]
  },
  {
   "cell_type": "code",
   "execution_count": 156,
   "metadata": {
    "collapsed": false
   },
   "outputs": [],
   "source": [
    "adult = pd.read_csv(\n",
    "    './data/adult.data', \n",
    "    names=[\n",
    "        \"Age\", \"Workclass\", \"fnlwgt\", \"Education\", \"Education-Num\", \"Martial Status\",\n",
    "        \"Occupation\", \"Relationship\", \"Race\", \"Sex\", \"Capital Gain\", \"Capital Loss\",\n",
    "        \"Hours per week\", \"Country\", \"Target\"], \n",
    "    header=None, na_values=\"?\")\n",
    "adult = pd.get_dummies(adult)\n",
    "adult[\"Target\"] = adult[\"Target_ >50K\"]"
   ]
  },
  {
   "cell_type": "code",
   "execution_count": 157,
   "metadata": {
    "collapsed": true
   },
   "outputs": [],
   "source": [
    "X, y = adult[adult.columns[:-3]].values, adult[adult.columns[-1]].values\n",
    "y = 2*(y-0.5)"
   ]
  },
  {
   "cell_type": "code",
   "execution_count": 136,
   "metadata": {
    "collapsed": false
   },
   "outputs": [],
   "source": [
    "GBC = GradientBoostingClassifier()\n",
    "GBC_scores = cross_val_score(GBC, X, y, scoring = 'f1' , cv = 5)"
   ]
  },
  {
   "cell_type": "code",
   "execution_count": 137,
   "metadata": {
    "collapsed": false
   },
   "outputs": [
    {
     "data": {
      "text/plain": [
       "array([ 0.67362361,  0.67421476,  0.68847795,  0.68917938,  0.69463207])"
      ]
     },
     "execution_count": 137,
     "metadata": {},
     "output_type": "execute_result"
    }
   ],
   "source": [
    "GBC_scores"
   ]
  },
  {
   "cell_type": "code",
   "execution_count": 158,
   "metadata": {
    "collapsed": false
   },
   "outputs": [],
   "source": [
    "tree = DecisionTreeRegressor(max_depth=5)\n",
    "clf = BinaryBoostingClassifier(tree, n_estimators=100)\n",
    "BBC_scores = cross_val_score(clf, X, y, scoring='f1', cv = 5)"
   ]
  },
  {
   "cell_type": "code",
   "execution_count": 159,
   "metadata": {
    "collapsed": false
   },
   "outputs": [
    {
     "data": {
      "text/plain": [
       "array([ 0.69740035,  0.7056338 ,  0.71339779,  0.71608392,  0.70860698])"
      ]
     },
     "execution_count": 159,
     "metadata": {},
     "output_type": "execute_result"
    }
   ],
   "source": [
    "BBC_scores"
   ]
  },
  {
   "cell_type": "markdown",
   "metadata": {},
   "source": [
    "хэй-хэй-хэй!"
   ]
  },
  {
   "cell_type": "markdown",
   "metadata": {},
   "source": [
    "<h1 align=\"center\">Text classification</h1> \n",
    "\n",
    "- Найдите двухклассовый текстовый датасет (в качестве примера sentiment analysis) или возьмите многоклассовый и классифцируйте один клас против остальных\n",
    "- Попробуйте бустинг на решающих деревьях, в качестве фичей используйте tf-idf и svd/random_projection/hashing_trick, что работает лучше? Сравните качество и время работы."
   ]
  },
  {
   "cell_type": "markdown",
   "metadata": {
    "collapsed": false
   },
   "source": [
    "Data: https://inclass.kaggle.com/c/si650winter11/data\n",
    "\n",
    "Sentiment analysis"
   ]
  },
  {
   "cell_type": "code",
   "execution_count": 164,
   "metadata": {
    "collapsed": false
   },
   "outputs": [
    {
     "data": {
      "text/html": [
       "<div>\n",
       "<table border=\"1\" class=\"dataframe\">\n",
       "  <thead>\n",
       "    <tr style=\"text-align: right;\">\n",
       "      <th></th>\n",
       "      <th>target</th>\n",
       "      <th>words</th>\n",
       "    </tr>\n",
       "  </thead>\n",
       "  <tbody>\n",
       "    <tr>\n",
       "      <th>0</th>\n",
       "      <td>1</td>\n",
       "      <td>The Da Vinci Code book is just awesome.</td>\n",
       "    </tr>\n",
       "    <tr>\n",
       "      <th>1</th>\n",
       "      <td>1</td>\n",
       "      <td>this was the first clive cussler i've ever rea...</td>\n",
       "    </tr>\n",
       "    <tr>\n",
       "      <th>2</th>\n",
       "      <td>1</td>\n",
       "      <td>i liked the Da Vinci Code a lot.</td>\n",
       "    </tr>\n",
       "    <tr>\n",
       "      <th>3</th>\n",
       "      <td>1</td>\n",
       "      <td>i liked the Da Vinci Code a lot.</td>\n",
       "    </tr>\n",
       "    <tr>\n",
       "      <th>4</th>\n",
       "      <td>1</td>\n",
       "      <td>I liked the Da Vinci Code but it ultimatly did...</td>\n",
       "    </tr>\n",
       "  </tbody>\n",
       "</table>\n",
       "</div>"
      ],
      "text/plain": [
       "   target                                              words\n",
       "0       1            The Da Vinci Code book is just awesome.\n",
       "1       1  this was the first clive cussler i've ever rea...\n",
       "2       1                   i liked the Da Vinci Code a lot.\n",
       "3       1                   i liked the Da Vinci Code a lot.\n",
       "4       1  I liked the Da Vinci Code but it ultimatly did..."
      ]
     },
     "execution_count": 164,
     "metadata": {},
     "output_type": "execute_result"
    }
   ],
   "source": [
    "data = pd.read_table(\"./data/sentiment_train.txt\", sep = \"\\t\", header=None)\n",
    "data.columns = ['target', 'words']\n",
    "data.head()"
   ]
  },
  {
   "cell_type": "code",
   "execution_count": 168,
   "metadata": {
    "collapsed": false
   },
   "outputs": [
    {
     "data": {
      "text/html": [
       "<div>\n",
       "<table border=\"1\" class=\"dataframe\">\n",
       "  <thead>\n",
       "    <tr style=\"text-align: right;\">\n",
       "      <th></th>\n",
       "      <th>target</th>\n",
       "    </tr>\n",
       "  </thead>\n",
       "  <tbody>\n",
       "    <tr>\n",
       "      <th>count</th>\n",
       "      <td>6918.000000</td>\n",
       "    </tr>\n",
       "    <tr>\n",
       "      <th>mean</th>\n",
       "      <td>0.139925</td>\n",
       "    </tr>\n",
       "    <tr>\n",
       "      <th>std</th>\n",
       "      <td>0.990234</td>\n",
       "    </tr>\n",
       "    <tr>\n",
       "      <th>min</th>\n",
       "      <td>-1.000000</td>\n",
       "    </tr>\n",
       "    <tr>\n",
       "      <th>25%</th>\n",
       "      <td>-1.000000</td>\n",
       "    </tr>\n",
       "    <tr>\n",
       "      <th>50%</th>\n",
       "      <td>1.000000</td>\n",
       "    </tr>\n",
       "    <tr>\n",
       "      <th>75%</th>\n",
       "      <td>1.000000</td>\n",
       "    </tr>\n",
       "    <tr>\n",
       "      <th>max</th>\n",
       "      <td>1.000000</td>\n",
       "    </tr>\n",
       "  </tbody>\n",
       "</table>\n",
       "</div>"
      ],
      "text/plain": [
       "            target\n",
       "count  6918.000000\n",
       "mean      0.139925\n",
       "std       0.990234\n",
       "min      -1.000000\n",
       "25%      -1.000000\n",
       "50%       1.000000\n",
       "75%       1.000000\n",
       "max       1.000000"
      ]
     },
     "execution_count": 168,
     "metadata": {},
     "output_type": "execute_result"
    }
   ],
   "source": [
    "data.target = map(lambda x: -1 if x == 0 else x, list(data.target))\n",
    "data.describe()"
   ]
  },
  {
   "cell_type": "code",
   "execution_count": 169,
   "metadata": {
    "collapsed": true
   },
   "outputs": [],
   "source": [
    "from sklearn.cross_validation import train_test_split\n",
    "\n",
    "data_train, data_test = train_test_split(data, test_size=0.3)"
   ]
  },
  {
   "cell_type": "markdown",
   "metadata": {},
   "source": [
    "# TF-IDF"
   ]
  },
  {
   "cell_type": "code",
   "execution_count": 171,
   "metadata": {
    "collapsed": false
   },
   "outputs": [],
   "source": [
    "tf_idf = TfidfVectorizer()\n",
    "X_train, y_train = tf_idf.fit_transform(data_train.words), data_train.target\n",
    "X_test, y_test = tf_idf.transform(data_test.words), data_test.target"
   ]
  },
  {
   "cell_type": "code",
   "execution_count": 172,
   "metadata": {
    "collapsed": false
   },
   "outputs": [
    {
     "name": "stdout",
     "output_type": "stream",
     "text": [
      "CPU times: user 1.1 s, sys: 33.7 ms, total: 1.13 s\n",
      "Wall time: 1.24 s\n"
     ]
    }
   ],
   "source": [
    "%%time\n",
    "clf = GradientBoostingClassifier(n_estimators=100)\n",
    "clf.fit(X_train, y_train)"
   ]
  },
  {
   "cell_type": "code",
   "execution_count": 174,
   "metadata": {
    "collapsed": false
   },
   "outputs": [
    {
     "data": {
      "text/plain": [
       "0.98617511520737322"
      ]
     },
     "execution_count": 174,
     "metadata": {},
     "output_type": "execute_result"
    }
   ],
   "source": [
    "from sklearn.metrics import f1_score\n",
    "\n",
    "f1_score(y_test, clf.predict(X_test.todense()))"
   ]
  },
  {
   "cell_type": "markdown",
   "metadata": {},
   "source": [
    "# SVD"
   ]
  },
  {
   "cell_type": "code",
   "execution_count": 175,
   "metadata": {
    "collapsed": false
   },
   "outputs": [
    {
     "name": "stdout",
     "output_type": "stream",
     "text": [
      "CPU times: user 1.39 s, sys: 198 ms, total: 1.59 s\n",
      "Wall time: 1.23 s\n"
     ]
    }
   ],
   "source": [
    "%%time\n",
    "svd = TruncatedSVD(n_components=300)\n",
    "X_train, y_train = svd.fit_transform(tf_idf.transform(data_train.words)), data_train.target\n",
    "X_test, y_test = svd.transform(tf_idf.transform(data_test.words)), data_test.target"
   ]
  },
  {
   "cell_type": "code",
   "execution_count": 176,
   "metadata": {
    "collapsed": false
   },
   "outputs": [
    {
     "name": "stdout",
     "output_type": "stream",
     "text": [
      "CPU times: user 12.6 s, sys: 189 ms, total: 12.8 s\n",
      "Wall time: 13.2 s\n"
     ]
    },
    {
     "data": {
      "text/plain": [
       "GradientBoostingClassifier(init=None, learning_rate=0.1, loss='deviance',\n",
       "              max_depth=3, max_features=None, max_leaf_nodes=None,\n",
       "              min_samples_leaf=1, min_samples_split=2,\n",
       "              min_weight_fraction_leaf=0.0, n_estimators=100,\n",
       "              presort='auto', random_state=None, subsample=1.0, verbose=0,\n",
       "              warm_start=False)"
      ]
     },
     "execution_count": 176,
     "metadata": {},
     "output_type": "execute_result"
    }
   ],
   "source": [
    "%%time\n",
    "clf.fit(X_train, y_train)"
   ]
  },
  {
   "cell_type": "code",
   "execution_count": 177,
   "metadata": {
    "collapsed": false
   },
   "outputs": [
    {
     "data": {
      "text/plain": [
       "0.98453823652319261"
      ]
     },
     "execution_count": 177,
     "metadata": {},
     "output_type": "execute_result"
    }
   ],
   "source": [
    "f1_score(y_test, clf.predict(X_test))"
   ]
  },
  {
   "cell_type": "markdown",
   "metadata": {},
   "source": [
    "# Random Projection"
   ]
  },
  {
   "cell_type": "code",
   "execution_count": 178,
   "metadata": {
    "collapsed": false
   },
   "outputs": [
    {
     "name": "stdout",
     "output_type": "stream",
     "text": [
      "CPU times: user 250 ms, sys: 53.6 ms, total: 304 ms\n",
      "Wall time: 307 ms\n"
     ]
    }
   ],
   "source": [
    "%%time\n",
    "rand_projector = GaussianRandomProjection(n_components=300)\n",
    "X_train, y_train = rand_projector.fit_transform(tf_idf.transform(data_train.words)), data_train.target\n",
    "X_test, y_test = rand_projector.transform(tf_idf.transform(data_test.words)), data_test.target"
   ]
  },
  {
   "cell_type": "code",
   "execution_count": 179,
   "metadata": {
    "collapsed": false
   },
   "outputs": [
    {
     "name": "stdout",
     "output_type": "stream",
     "text": [
      "CPU times: user 11.7 s, sys: 82.6 ms, total: 11.8 s\n",
      "Wall time: 11.9 s\n"
     ]
    },
    {
     "data": {
      "text/plain": [
       "GradientBoostingClassifier(init=None, learning_rate=0.1, loss='deviance',\n",
       "              max_depth=3, max_features=None, max_leaf_nodes=None,\n",
       "              min_samples_leaf=1, min_samples_split=2,\n",
       "              min_weight_fraction_leaf=0.0, n_estimators=100,\n",
       "              presort='auto', random_state=None, subsample=1.0, verbose=0,\n",
       "              warm_start=False)"
      ]
     },
     "execution_count": 179,
     "metadata": {},
     "output_type": "execute_result"
    }
   ],
   "source": [
    "%%time\n",
    "clf.fit(X_train, y_train)"
   ]
  },
  {
   "cell_type": "code",
   "execution_count": 180,
   "metadata": {
    "collapsed": false
   },
   "outputs": [
    {
     "data": {
      "text/plain": [
       "0.9733777038269551"
      ]
     },
     "execution_count": 180,
     "metadata": {},
     "output_type": "execute_result"
    }
   ],
   "source": [
    "f1_score(y_test, clf.predict(X_test))"
   ]
  },
  {
   "cell_type": "markdown",
   "metadata": {},
   "source": [
    "Видно, что SVD работает лучше, чем рандомное выбрасывание фичей.\n",
    "\n",
    "Но лучший результат за tf-idf."
   ]
  },
  {
   "cell_type": "markdown",
   "metadata": {},
   "source": [
    "<h1 align=\"center\">Random Forest vs Boosting</h1> "
   ]
  },
  {
   "cell_type": "markdown",
   "metadata": {
    "collapsed": true
   },
   "source": [
    "Подберите 2+ датасета как минимум большой и маленький (не использованных в этом дз) и проведите сравнение random forest и градиентного бустинга, используйте реализации алгоритмов из библиотеки sklearn.\n",
    "\n",
    "- Опишите результаты, почему тот или другой алгоритм на конкретном датасете работает лучше/хуже?\n",
    "- Как вы настраивали гиперпараметры алгоритмов?\n",
    "- Как вы проверяли качесво алгоритмов?"
   ]
  },
  {
   "cell_type": "markdown",
   "metadata": {
    "collapsed": true
   },
   "source": [
    "не успела"
   ]
  },
  {
   "cell_type": "markdown",
   "metadata": {
    "collapsed": true
   },
   "source": [
    "<h1 align=\"center\">Bonus part</h1> "
   ]
  },
  {
   "cell_type": "markdown",
   "metadata": {},
   "source": [
    "Это удвоит баллы за дз.\n",
    "\n",
    "- Реализуйте мультиклассовый бустинг -- проверьте на CIFAR10 + SVD\n",
    "- Попробуйте различные функции потерь, придумайте несколько своих, удалось ли обойти логистичискую и экспоненциальную?"
   ]
  },
  {
   "cell_type": "code",
   "execution_count": null,
   "metadata": {
    "collapsed": true
   },
   "outputs": [],
   "source": []
  }
 ],
 "metadata": {
  "kernelspec": {
   "display_name": "Python 2",
   "language": "python",
   "name": "python2"
  },
  "language_info": {
   "codemirror_mode": {
    "name": "ipython",
    "version": 2
   },
   "file_extension": ".py",
   "mimetype": "text/x-python",
   "name": "python",
   "nbconvert_exporter": "python",
   "pygments_lexer": "ipython2",
   "version": "2.7.10"
  }
 },
 "nbformat": 4,
 "nbformat_minor": 0
}
