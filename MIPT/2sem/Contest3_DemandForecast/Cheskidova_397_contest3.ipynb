{
 "cells": [
  {
   "cell_type": "markdown",
   "metadata": {},
   "source": [
    "## Домашнее здание №3 / New Product Forecasting\n",
    "\n",
    "### Ческидова / 397\n",
    "\n",
    "----\n",
    "План выполнения домашнего задания:\n",
    "\n",
    "1. Подготовка данных\n",
    "2. Предсказание без категориальных признаков\n",
    "3. Предсказание с категориальными признаками\n",
    "4.  Другие модели и генерация дополнительных признаков\n",
    "5. Отправка результатов в контест на Kaggle"
   ]
  },
  {
   "cell_type": "code",
   "execution_count": 1,
   "metadata": {
    "collapsed": false
   },
   "outputs": [
    {
     "name": "stderr",
     "output_type": "stream",
     "text": [
      "/home/fogside/virtualenv/python3/lib/python3.4/site-packages/sklearn/cross_validation.py:44: DeprecationWarning: This module was deprecated in version 0.18 in favor of the model_selection module into which all the refactored classes and functions are moved. Also note that the interface of the new CV iterators are different from that of this module. This module will be removed in 0.20.\n",
      "  \"This module will be removed in 0.20.\", DeprecationWarning)\n"
     ]
    }
   ],
   "source": [
    "import pandas as pd\n",
    "import numpy as np\n",
    "from random import shuffle\n",
    "from sklearn import tree\n",
    "from copy import deepcopy\n",
    "from sklearn.ensemble import BaggingRegressor\n",
    "import matplotlib.pyplot as plt\n",
    "from sklearn.ensemble import RandomForestRegressor\n",
    "from sklearn.ensemble import ExtraTreesRegressor\n",
    "from sklearn.ensemble import GradientBoostingRegressor\n",
    "from sklearn import cross_validation\n",
    "from sklearn.dummy import DummyRegressor\n",
    "from scipy.optimize import minimize_scalar\n",
    "%matplotlib inline"
   ]
  },
  {
   "cell_type": "markdown",
   "metadata": {},
   "source": [
    "## Подготовка данных (1 балл)\n",
    " * Изучить признаки\n",
    " * Выделить категориальные признаки, которые можно использовать для обучения\n",
    " * Выделить датасет только с числовыми признаками\n",
    " * Выделить полезные числовые признаки"
   ]
  },
  {
   "cell_type": "code",
   "execution_count": 2,
   "metadata": {
    "collapsed": false
   },
   "outputs": [
    {
     "data": {
      "text/plain": [
       "(40000, 33)"
      ]
     },
     "execution_count": 2,
     "metadata": {},
     "output_type": "execute_result"
    }
   ],
   "source": [
    "# data = pd.read_csv('blogData_train.csv', header=None)\n",
    "data = pd.read_csv('./data/train.csv', sep=';', index_col='ID')\n",
    "data.shape"
   ]
  },
  {
   "cell_type": "code",
   "execution_count": 381,
   "metadata": {
    "collapsed": false
   },
   "outputs": [
    {
     "data": {
      "text/html": [
       "<div>\n",
       "<table border=\"1\" class=\"dataframe\">\n",
       "  <thead>\n",
       "    <tr style=\"text-align: right;\">\n",
       "      <th></th>\n",
       "      <th>DEMAND</th>\n",
       "      <th>LOCATION_ID</th>\n",
       "      <th>MODEL_BRAND</th>\n",
       "      <th>MODEL_COST_AVG</th>\n",
       "      <th>MODEL_COUNT_SALES_DAYS</th>\n",
       "      <th>MODEL_DIAG</th>\n",
       "      <th>MODEL_DIAG_TYPE</th>\n",
       "      <th>MODEL_HEIGHT</th>\n",
       "      <th>MODEL_ID</th>\n",
       "      <th>MODEL_MEAN_SALES</th>\n",
       "      <th>...</th>\n",
       "      <th>STORE_FORMAT</th>\n",
       "      <th>STORE_OPEN_DTTM</th>\n",
       "      <th>STORE_PRICE_TYPE</th>\n",
       "      <th>STORE_REGION</th>\n",
       "      <th>STORE_RES_ABC</th>\n",
       "      <th>STORE_RES_SPECTR</th>\n",
       "      <th>STORE_TYPE_A</th>\n",
       "      <th>STORE_TYPE_B</th>\n",
       "      <th>STORE_TYPE_C</th>\n",
       "      <th>STORE_TYPE_SPECTR</th>\n",
       "    </tr>\n",
       "    <tr>\n",
       "      <th>ID</th>\n",
       "      <th></th>\n",
       "      <th></th>\n",
       "      <th></th>\n",
       "      <th></th>\n",
       "      <th></th>\n",
       "      <th></th>\n",
       "      <th></th>\n",
       "      <th></th>\n",
       "      <th></th>\n",
       "      <th></th>\n",
       "      <th></th>\n",
       "      <th></th>\n",
       "      <th></th>\n",
       "      <th></th>\n",
       "      <th></th>\n",
       "      <th></th>\n",
       "      <th></th>\n",
       "      <th></th>\n",
       "      <th></th>\n",
       "      <th></th>\n",
       "      <th></th>\n",
       "    </tr>\n",
       "  </thead>\n",
       "  <tbody>\n",
       "    <tr>\n",
       "      <th>0</th>\n",
       "      <td>0.10536</td>\n",
       "      <td>1835543262</td>\n",
       "      <td>ark</td>\n",
       "      <td>5179.75</td>\n",
       "      <td>NaN</td>\n",
       "      <td>5.5</td>\n",
       "      <td>big</td>\n",
       "      <td>720.0</td>\n",
       "      <td>1682</td>\n",
       "      <td>NaN</td>\n",
       "      <td>...</td>\n",
       "      <td>новый формат</td>\n",
       "      <td>19MAY15:00:00:00</td>\n",
       "      <td>розничная цена (северо-запад-санкт-петербург)</td>\n",
       "      <td>северо-запад</td>\n",
       "      <td>B</td>\n",
       "      <td>0.67</td>\n",
       "      <td>0.75</td>\n",
       "      <td>0.25</td>\n",
       "      <td>0.0</td>\n",
       "      <td>3.06</td>\n",
       "    </tr>\n",
       "    <tr>\n",
       "      <th>1</th>\n",
       "      <td>0.00010</td>\n",
       "      <td>1972241965</td>\n",
       "      <td>samsung</td>\n",
       "      <td>22015.33</td>\n",
       "      <td>NaN</td>\n",
       "      <td>5.2</td>\n",
       "      <td>big</td>\n",
       "      <td>1920.0</td>\n",
       "      <td>34706</td>\n",
       "      <td>NaN</td>\n",
       "      <td>...</td>\n",
       "      <td>новый формат</td>\n",
       "      <td>20JAN16:00:00:00</td>\n",
       "      <td>розничная цена (северо-запад-днс1)</td>\n",
       "      <td>северо-запад</td>\n",
       "      <td>C</td>\n",
       "      <td>0.48</td>\n",
       "      <td>0.00</td>\n",
       "      <td>1.00</td>\n",
       "      <td>0.0</td>\n",
       "      <td>2.51</td>\n",
       "    </tr>\n",
       "    <tr>\n",
       "      <th>2</th>\n",
       "      <td>0.00010</td>\n",
       "      <td>2027986985</td>\n",
       "      <td>samsung</td>\n",
       "      <td>15592.59</td>\n",
       "      <td>NaN</td>\n",
       "      <td>5.0</td>\n",
       "      <td>big</td>\n",
       "      <td>1280.0</td>\n",
       "      <td>2753</td>\n",
       "      <td>NaN</td>\n",
       "      <td>...</td>\n",
       "      <td>новый формат</td>\n",
       "      <td>27APR16:00:00:00</td>\n",
       "      <td>розничная цена (дальний восток-якутск)</td>\n",
       "      <td>дальний восток</td>\n",
       "      <td>A</td>\n",
       "      <td>0.64</td>\n",
       "      <td>1.00</td>\n",
       "      <td>0.00</td>\n",
       "      <td>0.0</td>\n",
       "      <td>2.72</td>\n",
       "    </tr>\n",
       "  </tbody>\n",
       "</table>\n",
       "<p>3 rows × 33 columns</p>\n",
       "</div>"
      ],
      "text/plain": [
       "     DEMAND  LOCATION_ID MODEL_BRAND  MODEL_COST_AVG  MODEL_COUNT_SALES_DAYS  \\\n",
       "ID                                                                             \n",
       "0   0.10536   1835543262         ark         5179.75                     NaN   \n",
       "1   0.00010   1972241965     samsung        22015.33                     NaN   \n",
       "2   0.00010   2027986985     samsung        15592.59                     NaN   \n",
       "\n",
       "    MODEL_DIAG MODEL_DIAG_TYPE  MODEL_HEIGHT  MODEL_ID  MODEL_MEAN_SALES  \\\n",
       "ID                                                                         \n",
       "0          5.5             big         720.0      1682               NaN   \n",
       "1          5.2             big        1920.0     34706               NaN   \n",
       "2          5.0             big        1280.0      2753               NaN   \n",
       "\n",
       "          ...         STORE_FORMAT   STORE_OPEN_DTTM  \\\n",
       "ID        ...                                          \n",
       "0         ...         новый формат  19MAY15:00:00:00   \n",
       "1         ...         новый формат  20JAN16:00:00:00   \n",
       "2         ...         новый формат  27APR16:00:00:00   \n",
       "\n",
       "                                 STORE_PRICE_TYPE    STORE_REGION  \\\n",
       "ID                                                                  \n",
       "0   розничная цена (северо-запад-санкт-петербург)    северо-запад   \n",
       "1              розничная цена (северо-запад-днс1)    северо-запад   \n",
       "2          розничная цена (дальний восток-якутск)  дальний восток   \n",
       "\n",
       "    STORE_RES_ABC  STORE_RES_SPECTR STORE_TYPE_A  STORE_TYPE_B STORE_TYPE_C  \\\n",
       "ID                                                                            \n",
       "0               B              0.67         0.75          0.25          0.0   \n",
       "1               C              0.48         0.00          1.00          0.0   \n",
       "2               A              0.64         1.00          0.00          0.0   \n",
       "\n",
       "   STORE_TYPE_SPECTR  \n",
       "ID                    \n",
       "0               3.06  \n",
       "1               2.51  \n",
       "2               2.72  \n",
       "\n",
       "[3 rows x 33 columns]"
      ]
     },
     "execution_count": 381,
     "metadata": {},
     "output_type": "execute_result"
    }
   ],
   "source": [
    "# Посмотрим на данные\n",
    "data.head(3)"
   ]
  },
  {
   "cell_type": "markdown",
   "metadata": {},
   "source": [
    "### Категориальные признаки\n",
    " * Какие категориальные признаки следует использовать в первую очередь? \n",
    " * Есть ли категориальные признаки, которые в принципе не понятно, как использовать?"
   ]
  },
  {
   "cell_type": "code",
   "execution_count": 220,
   "metadata": {
    "collapsed": false
   },
   "outputs": [
    {
     "name": "stdout",
     "output_type": "stream",
     "text": [
      "18\n"
     ]
    },
    {
     "data": {
      "text/plain": [
       "Index(['LOCATION_ID', 'MODEL_BRAND', 'MODEL_DIAG_TYPE', 'MODEL_ID',\n",
       "       'MODEL_NAME', 'MODEL_OS', 'MODEL_RES_TYPE', 'MODEL_TYPE',\n",
       "       'STORE_BRAND_ABC', 'STORE_BUILDING_TYPE', 'STORE_CITY', 'STORE_CLUSTER',\n",
       "       'STORE_DIAG_ABC', 'STORE_FORMAT', 'STORE_OPEN_DTTM', 'STORE_PRICE_TYPE',\n",
       "       'STORE_REGION', 'STORE_RES_ABC'],\n",
       "      dtype='object')"
      ]
     },
     "execution_count": 220,
     "metadata": {},
     "output_type": "execute_result"
    }
   ],
   "source": [
    "# Определяем категориальные признаки\n",
    "# По понятным причинам 'LOCATION_ID', 'MODEL_ID' считаются числовыми признаками - их добавляем руками отдельно\n",
    "Categorical_columns = data.columns[([isinstance(z, str) for z in data.ix[0]])] | data.columns[[1,8]]\n",
    "print(len(Categorical_columns))\n",
    "Categorical_columns"
   ]
  },
  {
   "cell_type": "code",
   "execution_count": 217,
   "metadata": {
    "collapsed": false
   },
   "outputs": [
    {
     "name": "stdout",
     "output_type": "stream",
     "text": [
      "Количество уникальных категориальных значений: [1654]\n",
      "Удаляем признаки с номерами: \n",
      "                     UniqueValues\n",
      "MODEL_ID                      447\n",
      "MODEL_NAME                    447\n",
      "LOCATION_ID                   362\n",
      "STORE_OPEN_DTTM               246\n",
      "STORE_CITY                     36\n",
      "MODEL_BRAND                    33\n",
      "STORE_CLUSTER                  23\n",
      "STORE_PRICE_TYPE               20\n",
      "STORE_FORMAT                   10\n",
      "STORE_REGION                    5\n",
      "MODEL_OS                        5\n",
      "STORE_DIAG_ABC                  3\n",
      "STORE_BUILDING_TYPE             3\n",
      "STORE_BRAND_ABC                 3\n",
      "MODEL_RES_TYPE                  3\n",
      "MODEL_DIAG_TYPE                 3\n",
      "STORE_RES_ABC                   3\n",
      "MODEL_TYPE                      2\n"
     ]
    }
   ],
   "source": [
    "# Количество уникальных значений в категориальных признаках\n",
    "dist_val = pd.DataFrame({'UniqueValues': [data[z].nunique() for z in Categorical_columns]}, index = Categorical_columns)\n",
    "\n",
    "print('Количество уникальных категориальных значений: '+ str(dist_val.sum().values))\n",
    "print('Удаляем признаки с номерами: \\n'+ str(dist_val.ix[dist_val['UniqueValues']>0].sort_values(by='UniqueValues', ascending=False)))"
   ]
  },
  {
   "cell_type": "code",
   "execution_count": 301,
   "metadata": {
    "collapsed": true
   },
   "outputs": [],
   "source": [
    "# Запоминаем те категориальные признаки, с которыми не будем далее работать (используется далее)\n",
    "# Categorical_columns_use = Cathegorical_columns[]\n",
    "Categorical_columns_use = [\"STORE_CITY\",\"STORE_FORMAT\",\n",
    "                           \"STORE_PRICE_TYPE\",\n",
    "                           \"MODEL_BRAND\", \"MODEL_OS\",\n",
    "                           \"MODEL_TYPE\"]"
   ]
  },
  {
   "cell_type": "code",
   "execution_count": 302,
   "metadata": {
    "collapsed": false
   },
   "outputs": [
    {
     "name": "stdout",
     "output_type": "stream",
     "text": [
      "33\n",
      "6\n"
     ]
    }
   ],
   "source": [
    "print(len(data.columns))\n",
    "print(len(Categorical_columns_use))"
   ]
  },
  {
   "cell_type": "markdown",
   "metadata": {},
   "source": [
    "### Числовые признаки\n",
    "* Какие числовые признаки следует использовать в первую очередь? \n",
    "* Есть ли числовые признаки, которые в принципе не понятно, как использовать?\n",
    "* Как заполнять NaN?"
   ]
  },
  {
   "cell_type": "code",
   "execution_count": 236,
   "metadata": {
    "collapsed": false
   },
   "outputs": [
    {
     "data": {
      "text/plain": [
       "Index(['DEMAND', 'MODEL_COST_AVG', 'MODEL_COUNT_SALES_DAYS', 'MODEL_DIAG',\n",
       "       'MODEL_HEIGHT', 'MODEL_MEAN_SALES', 'MODEL_WIDTH', 'STORE_ASSORTMENT',\n",
       "       'STORE_BRAND_SPECTR', 'STORE_DIAG_SPECTR', 'STORE_RES_SPECTR',\n",
       "       'STORE_TYPE_A', 'STORE_TYPE_B', 'STORE_TYPE_C', 'STORE_TYPE_SPECTR'],\n",
       "      dtype='object')"
      ]
     },
     "execution_count": 236,
     "metadata": {},
     "output_type": "execute_result"
    }
   ],
   "source": [
    "# Выделяем числовой датасет: В данном случае удаляем все + MODEL_ID и LOCATION_ID\n",
    "num_data = data.drop(Categorical_columns | data.columns[[1,8]], axis = 1)\n",
    "num_data.columns"
   ]
  },
  {
   "cell_type": "code",
   "execution_count": 237,
   "metadata": {
    "collapsed": false
   },
   "outputs": [
    {
     "name": "stdout",
     "output_type": "stream",
     "text": [
      "Количество NaN:\n"
     ]
    },
    {
     "data": {
      "text/plain": [
       "DEMAND                        0\n",
       "MODEL_COST_AVG                0\n",
       "MODEL_COUNT_SALES_DAYS    18917\n",
       "MODEL_DIAG                  212\n",
       "MODEL_HEIGHT                212\n",
       "MODEL_MEAN_SALES          18917\n",
       "MODEL_WIDTH                 212\n",
       "STORE_ASSORTMENT            235\n",
       "STORE_BRAND_SPECTR          235\n",
       "STORE_DIAG_SPECTR           442\n",
       "STORE_RES_SPECTR            446\n",
       "STORE_TYPE_A                  0\n",
       "STORE_TYPE_B                  0\n",
       "STORE_TYPE_C                  0\n",
       "STORE_TYPE_SPECTR             0\n",
       "dtype: int64"
      ]
     },
     "execution_count": 237,
     "metadata": {},
     "output_type": "execute_result"
    }
   ],
   "source": [
    "# Количество NaN в числовых признаках\n",
    "print('Количество NaN:')\n",
    "nan_val = num_data.isnull().sum().T\n",
    "nan_val\n",
    "# print('Удаляем признаки с номерами: \\n'+ str(nan_val.sort_values(by='NoUniqueValues', ascending=False)))"
   ]
  },
  {
   "cell_type": "markdown",
   "metadata": {},
   "source": [
    "##### Преобразовываем числовые признаки (удаляем/добавляем/заменяем nan)"
   ]
  },
  {
   "cell_type": "code",
   "execution_count": 226,
   "metadata": {
    "collapsed": false
   },
   "outputs": [
    {
     "data": {
      "text/html": [
       "<div>\n",
       "<table border=\"1\" class=\"dataframe\">\n",
       "  <thead>\n",
       "    <tr style=\"text-align: right;\">\n",
       "      <th></th>\n",
       "      <th>DEMAND</th>\n",
       "      <th>MODEL_COST_AVG</th>\n",
       "      <th>MODEL_COUNT_SALES_DAYS</th>\n",
       "      <th>MODEL_DIAG</th>\n",
       "      <th>MODEL_HEIGHT</th>\n",
       "      <th>MODEL_MEAN_SALES</th>\n",
       "      <th>MODEL_WIDTH</th>\n",
       "      <th>STORE_ASSORTMENT</th>\n",
       "      <th>STORE_BRAND_SPECTR</th>\n",
       "      <th>STORE_DIAG_SPECTR</th>\n",
       "      <th>STORE_RES_SPECTR</th>\n",
       "      <th>STORE_TYPE_A</th>\n",
       "      <th>STORE_TYPE_B</th>\n",
       "      <th>STORE_TYPE_C</th>\n",
       "      <th>STORE_TYPE_SPECTR</th>\n",
       "    </tr>\n",
       "    <tr>\n",
       "      <th>ID</th>\n",
       "      <th></th>\n",
       "      <th></th>\n",
       "      <th></th>\n",
       "      <th></th>\n",
       "      <th></th>\n",
       "      <th></th>\n",
       "      <th></th>\n",
       "      <th></th>\n",
       "      <th></th>\n",
       "      <th></th>\n",
       "      <th></th>\n",
       "      <th></th>\n",
       "      <th></th>\n",
       "      <th></th>\n",
       "      <th></th>\n",
       "    </tr>\n",
       "  </thead>\n",
       "  <tbody>\n",
       "    <tr>\n",
       "      <th>0</th>\n",
       "      <td>0.10536</td>\n",
       "      <td>5179.7500</td>\n",
       "      <td>NaN</td>\n",
       "      <td>5.5</td>\n",
       "      <td>720.0</td>\n",
       "      <td>NaN</td>\n",
       "      <td>1280.0</td>\n",
       "      <td>136.0</td>\n",
       "      <td>0.76</td>\n",
       "      <td>0.78</td>\n",
       "      <td>0.67</td>\n",
       "      <td>0.75</td>\n",
       "      <td>0.25</td>\n",
       "      <td>0.0</td>\n",
       "      <td>3.06</td>\n",
       "    </tr>\n",
       "    <tr>\n",
       "      <th>1</th>\n",
       "      <td>0.00010</td>\n",
       "      <td>22015.3300</td>\n",
       "      <td>NaN</td>\n",
       "      <td>5.2</td>\n",
       "      <td>1920.0</td>\n",
       "      <td>NaN</td>\n",
       "      <td>1080.0</td>\n",
       "      <td>70.0</td>\n",
       "      <td>0.73</td>\n",
       "      <td>0.65</td>\n",
       "      <td>0.48</td>\n",
       "      <td>0.00</td>\n",
       "      <td>1.00</td>\n",
       "      <td>0.0</td>\n",
       "      <td>2.51</td>\n",
       "    </tr>\n",
       "    <tr>\n",
       "      <th>2</th>\n",
       "      <td>0.00010</td>\n",
       "      <td>15592.5900</td>\n",
       "      <td>NaN</td>\n",
       "      <td>5.0</td>\n",
       "      <td>1280.0</td>\n",
       "      <td>NaN</td>\n",
       "      <td>1280.0</td>\n",
       "      <td>106.0</td>\n",
       "      <td>0.89</td>\n",
       "      <td>0.67</td>\n",
       "      <td>0.64</td>\n",
       "      <td>1.00</td>\n",
       "      <td>0.00</td>\n",
       "      <td>0.0</td>\n",
       "      <td>2.72</td>\n",
       "    </tr>\n",
       "    <tr>\n",
       "      <th>3</th>\n",
       "      <td>0.00010</td>\n",
       "      <td>540.9533</td>\n",
       "      <td>29.0</td>\n",
       "      <td>1.8</td>\n",
       "      <td>128.0</td>\n",
       "      <td>7.533</td>\n",
       "      <td>160.0</td>\n",
       "      <td>132.0</td>\n",
       "      <td>0.67</td>\n",
       "      <td>0.60</td>\n",
       "      <td>0.65</td>\n",
       "      <td>0.50</td>\n",
       "      <td>0.25</td>\n",
       "      <td>0.0</td>\n",
       "      <td>2.04</td>\n",
       "    </tr>\n",
       "    <tr>\n",
       "      <th>4</th>\n",
       "      <td>0.00010</td>\n",
       "      <td>444.7300</td>\n",
       "      <td>30.0</td>\n",
       "      <td>4.0</td>\n",
       "      <td>480.0</td>\n",
       "      <td>16.830</td>\n",
       "      <td>800.0</td>\n",
       "      <td>95.0</td>\n",
       "      <td>1.00</td>\n",
       "      <td>0.71</td>\n",
       "      <td>0.83</td>\n",
       "      <td>0.75</td>\n",
       "      <td>0.25</td>\n",
       "      <td>0.0</td>\n",
       "      <td>2.37</td>\n",
       "    </tr>\n",
       "  </tbody>\n",
       "</table>\n",
       "</div>"
      ],
      "text/plain": [
       "     DEMAND  MODEL_COST_AVG  MODEL_COUNT_SALES_DAYS  MODEL_DIAG  MODEL_HEIGHT  \\\n",
       "ID                                                                              \n",
       "0   0.10536       5179.7500                     NaN         5.5         720.0   \n",
       "1   0.00010      22015.3300                     NaN         5.2        1920.0   \n",
       "2   0.00010      15592.5900                     NaN         5.0        1280.0   \n",
       "3   0.00010        540.9533                    29.0         1.8         128.0   \n",
       "4   0.00010        444.7300                    30.0         4.0         480.0   \n",
       "\n",
       "    MODEL_MEAN_SALES  MODEL_WIDTH  STORE_ASSORTMENT  STORE_BRAND_SPECTR  \\\n",
       "ID                                                                        \n",
       "0                NaN       1280.0             136.0                0.76   \n",
       "1                NaN       1080.0              70.0                0.73   \n",
       "2                NaN       1280.0             106.0                0.89   \n",
       "3              7.533        160.0             132.0                0.67   \n",
       "4             16.830        800.0              95.0                1.00   \n",
       "\n",
       "    STORE_DIAG_SPECTR  STORE_RES_SPECTR  STORE_TYPE_A  STORE_TYPE_B  \\\n",
       "ID                                                                    \n",
       "0                0.78              0.67          0.75          0.25   \n",
       "1                0.65              0.48          0.00          1.00   \n",
       "2                0.67              0.64          1.00          0.00   \n",
       "3                0.60              0.65          0.50          0.25   \n",
       "4                0.71              0.83          0.75          0.25   \n",
       "\n",
       "    STORE_TYPE_C  STORE_TYPE_SPECTR  \n",
       "ID                                   \n",
       "0            0.0               3.06  \n",
       "1            0.0               2.51  \n",
       "2            0.0               2.72  \n",
       "3            0.0               2.04  \n",
       "4            0.0               2.37  "
      ]
     },
     "execution_count": 226,
     "metadata": {},
     "output_type": "execute_result"
    }
   ],
   "source": [
    "num_data.head()"
   ]
  },
  {
   "cell_type": "markdown",
   "metadata": {},
   "source": [
    "### Посмотрим на корреляцию признаков ###"
   ]
  },
  {
   "cell_type": "code",
   "execution_count": 238,
   "metadata": {
    "collapsed": false
   },
   "outputs": [],
   "source": [
    "corr_data = num_data.corr()\n",
    "dict_corr = {}\n",
    "for col in corr_data.columns:\n",
    "    for col_inx in corr_data.index:\n",
    "        if (col!=col_inx) and (corr_data.ix[col_inx, col]>=0.7):\n",
    "            if ((col, col_inx) not in dict_corr.keys()) or ((col_inx, col) not in dict_corr.keys()):\n",
    "                dict_corr[(col, col_inx)] = corr_data.ix[col_inx, col]"
   ]
  },
  {
   "cell_type": "code",
   "execution_count": 239,
   "metadata": {
    "collapsed": false
   },
   "outputs": [
    {
     "name": "stdout",
     "output_type": "stream",
     "text": [
      "('MODEL_COST_AVG', 'MODEL_HEIGHT') 0.799631009737\n",
      "('MODEL_DIAG', 'MODEL_WIDTH') 0.872693895322\n",
      "('MODEL_HEIGHT', 'MODEL_COST_AVG') 0.799631009737\n",
      "('MODEL_WIDTH', 'MODEL_DIAG') 0.872693895322\n",
      "('STORE_ASSORTMENT', 'STORE_TYPE_SPECTR') 0.721544917841\n",
      "('STORE_ASSORTMENT', 'STORE_TYPE_A') 0.733677237935\n",
      "('STORE_BRAND_SPECTR', 'STORE_DIAG_SPECTR') 0.716302854632\n",
      "('STORE_BRAND_SPECTR', 'STORE_TYPE_SPECTR') 0.722115061108\n",
      "('STORE_DIAG_SPECTR', 'STORE_TYPE_SPECTR') 0.861491639257\n",
      "('STORE_DIAG_SPECTR', 'STORE_RES_SPECTR') 0.848910479473\n",
      "('STORE_DIAG_SPECTR', 'STORE_BRAND_SPECTR') 0.716302854632\n",
      "('STORE_RES_SPECTR', 'STORE_TYPE_SPECTR') 0.82569252293\n",
      "('STORE_RES_SPECTR', 'STORE_DIAG_SPECTR') 0.848910479473\n",
      "('STORE_TYPE_A', 'STORE_ASSORTMENT') 0.733677237935\n",
      "('STORE_TYPE_SPECTR', 'STORE_ASSORTMENT') 0.721544917841\n",
      "('STORE_TYPE_SPECTR', 'STORE_BRAND_SPECTR') 0.722115061108\n",
      "('STORE_TYPE_SPECTR', 'STORE_DIAG_SPECTR') 0.861491639257\n",
      "('STORE_TYPE_SPECTR', 'STORE_RES_SPECTR') 0.82569252293\n"
     ]
    }
   ],
   "source": [
    "keys = list(dict_corr.keys())\n",
    "keys.sort(key=lambda x: x[0])\n",
    "\n",
    "for key in keys:\n",
    "    print(key, dict_corr[key])"
   ]
  },
  {
   "cell_type": "code",
   "execution_count": 250,
   "metadata": {
    "collapsed": false
   },
   "outputs": [
    {
     "data": {
      "image/png": "[encoded data removed]",
      "text/plain": [
       "<matplotlib.figure.Figure at 0x7f79b8acbd30>"
      ]
     },
     "metadata": {},
     "output_type": "display_data"
    }
   ],
   "source": [
    "import networkx as nx\n",
    "\n",
    "G = nx.DiGraph()\n",
    "G.add_edges_from(keys)\n",
    "plt.axis('off')\n",
    "nx.draw_networkx(G, width=0.7)"
   ]
  },
  {
   "cell_type": "markdown",
   "metadata": {},
   "source": [
    "Думаю, исходя из полученной картинки, можно оставить только один признак из 4х:\n",
    "* \"STORE_BRAND_SPECTR\"\n",
    "* \"STORE_DIAG_SPECTR\"\n",
    "* \"STORE_TYPE_SPECTR\"\n",
    "* \"STORE_RES_SPECTR\""
   ]
  },
  {
   "cell_type": "code",
   "execution_count": 252,
   "metadata": {
    "collapsed": false
   },
   "outputs": [],
   "source": [
    "##Здесь добавьте код по заполнению NaN\n",
    "## Просто заполнили пропуски в MODEL_MEAN_SALES средними значениями по модели с данной os\n",
    "dict_diag_sales = data.groupby(\"MODEL_OS\")[\"MODEL_MEAN_SALES\"].mean().to_dict()\n",
    "dict_to_fill = {i:dict_diag_sales[data.ix[i,\"MODEL_OS\"]] for i in range(len(num_data))}\n",
    "num_data[\"MODEL_MEAN_SALES\"].fillna(dict_to_fill, inplace=True)\n",
    "num_data.fillna(0, inplace=True)"
   ]
  },
  {
   "cell_type": "code",
   "execution_count": 253,
   "metadata": {
    "collapsed": false
   },
   "outputs": [
    {
     "data": {
      "text/plain": [
       "Index(['DEMAND', 'MODEL_COST_AVG', 'MODEL_DIAG', 'MODEL_HEIGHT',\n",
       "       'MODEL_MEAN_SALES', 'STORE_ASSORTMENT', 'STORE_BRAND_SPECTR',\n",
       "       'STORE_TYPE_A', 'STORE_TYPE_B', 'STORE_TYPE_C'],\n",
       "      dtype='object')"
      ]
     },
     "execution_count": 253,
     "metadata": {},
     "output_type": "execute_result"
    }
   ],
   "source": [
    "# Здесь добавьте код по удалению числовых признаков\n",
    "num_data.drop([\"MODEL_COUNT_SALES_DAYS\", \"MODEL_WIDTH\", \"STORE_RES_SPECTR\", \"STORE_TYPE_SPECTR\", \"STORE_DIAG_SPECTR\"], axis = 1, inplace=True)\n",
    "num_data.columns"
   ]
  },
  {
   "cell_type": "markdown",
   "metadata": {},
   "source": [
    "## Предсказание без категориальных признаков (1 балл)\n",
    "### Вспомогательные функции"
   ]
  },
  {
   "cell_type": "code",
   "execution_count": 28,
   "metadata": {
    "collapsed": true
   },
   "outputs": [],
   "source": [
    "def smape_loss_func(x, y):\n",
    "    SymAPE = [ 2*np.abs(x-y)/(np.abs(x)+np.abs(y))] \n",
    "    return np.mean(SymAPE)\n",
    "\n",
    "def get_numerated_data(df, categorical_columns):\n",
    "    simple_df = deepcopy(df)\n",
    "    for column in categorical_columns:\n",
    "        simple_df[column] = pd.Categorical.from_array(simple_df[column]).labels\n",
    "    \n",
    "    return simple_df\n",
    "\n",
    "def get_binarized_data(df, categorical_columns):\n",
    "    binary_df = deepcopy(df)\n",
    "    for column in categorical_columns:\n",
    "        binary_df = pd.concat([binary_df, pd.get_dummies(binary_df[column], prefix=column, prefix_sep=': ')], axis=1)\n",
    "        del binary_df[column]\n",
    "    \n",
    "    return binary_df\n",
    "\n",
    "def split_to_numpy(df, y_column_name):\n",
    "    #print df\n",
    "    #print y_column_name\n",
    "    data_x = df.drop(y_column_name, axis=1).values.astype(np.float32)\n",
    "    data_y = df[y_column_name].values.astype(np.float32)\n",
    "    column_names = df.drop(y_column_name, axis=1).columns\n",
    "    \n",
    "    return data_x, data_y, column_names\n",
    "\n",
    "def split_train_test(df, test_size=0.5, random_state=42, y_column_name='y'):\n",
    "    X = np.asarray(df.drop(y_column_name, axis=1))\n",
    "    y = np.asarray(df[y_column_name]).ravel()\n",
    "    trainX, testX, trainY, testY = cross_validation.train_test_split(X, y, test_size=test_size, random_state=42)\n",
    "    return trainX, testX, trainY, testY"
   ]
  },
  {
   "cell_type": "markdown",
   "metadata": {},
   "source": [
    "### Необходимые функции"
   ]
  },
  {
   "cell_type": "code",
   "execution_count": 109,
   "metadata": {
    "collapsed": false
   },
   "outputs": [],
   "source": [
    "def show_plot(n_est, res, title=\"\", ylabel=\"acc\"):\n",
    "    fig, ax = plt.subplots()\n",
    "    ax.plot(n_est, [res[x][1] for x in n_est], 'ro', label=\"test\")\n",
    "#     ax.set_xlim((np.min(n_est) - 10, np.max(n_est) + 10))\n",
    "#     plt.xlabel(\"n_estimators\")\n",
    "#     plt.ylabel(ylabel)\n",
    "#     plt.title(\"Test result\")\n",
    "#     plt.show()\n",
    "    \n",
    "#     fig, ax = plt.subplots()\n",
    "    ax.plot(n_est, [res[x][0] for x in n_est], 'bo', label='train')\n",
    "    ax.set_xlim((np.min(n_est) - 10, np.max(n_est) + 10))\n",
    "    plt.xlabel(\"n_estimators\")\n",
    "    plt.ylabel(\"acc\")\n",
    "    plt.legend()\n",
    "    plt.title(title)\n",
    "    plt.show()\n",
    "\n",
    "def get_results_dummy_reg(acc=smape_loss_func, verbose=True, strg ='mean', const=None):\n",
    "    results = dict()\n",
    "    reg = DummyRegressor(strategy=strg, constant=const)\n",
    "    reg.fit(trainX, trainY)\n",
    "    predict = reg.predict(testX)\n",
    "    results[1] = (acc(trainY, reg.predict(trainX)), acc(testY, predict))\n",
    "    if verbose:\n",
    "        print(\"Accuracy: \" + str(results[1][1]))\n",
    "    return results\n",
    "\n",
    "def get_results_baggind_rsm(n_est, max_samples, max_features, acc=smape_loss_func, verbose=True):\n",
    "    results = dict()\n",
    "    for i in n_est:\n",
    "        reg = BaggingRegressor(n_estimators=i,\n",
    "                          max_samples=max_samples, max_features=max_features, random_state=1234, n_jobs=-1, verbose=0)\n",
    "        reg.fit(trainX, trainY)\n",
    "#         results[i] = (mse(reg.predict(trainX), trainY), mse(reg.predict(testX), testY))\n",
    "        predict = reg.predict(testX)\n",
    "        results[i] = (acc(trainY, reg.predict(trainX)), acc(testY, predict))\n",
    "        if verbose:\n",
    "            print(\"Count of estimators: \" + str(i) + \", accuracy: \" + str(results[i][1]))\n",
    "    return results\n",
    "\n",
    "def get_results_rf(n_est, oob=False, verbose=True, acc=smape_loss_func):\n",
    "    results = dict()\n",
    "    for i in n_est:\n",
    "        reg = RandomForestRegressor(n_estimators=i, n_jobs=-1, random_state=1234, verbose=0,\n",
    "                                    oob_score=oob, max_features='sqrt')\n",
    "        reg.fit(trainX, trainY)\n",
    "        predict = reg.predict(testX)\n",
    "        if oob:\n",
    "            results[i] = (reg.oob_score_, acc(predict, testY))\n",
    "        else:\n",
    "            results[i] = (acc(trainY, reg.predict(trainX)), acc(testY,predict))\n",
    "        if verbose:\n",
    "            print(\"Count of estimators: \" + str(i) + \", accuracy: \" + str(results[i][1]))\n",
    "    return results\n",
    "\n",
    "def get_results_erte(n_est, verbose=True,acc=smape_loss_func):\n",
    "    results = dict()\n",
    "    for i in n_est:\n",
    "        reg = ExtraTreesRegressor(n_estimators=i, n_jobs=-1, random_state=12, verbose=0)\n",
    "        reg.fit(trainX, trainY)\n",
    "        predict = reg.predict(testX)\n",
    "        results[i] = (acc(trainY,reg.predict(trainX)), acc(predict, testY))\n",
    "        if verbose:\n",
    "            print(\"Count of estimators: \" + str(i) + \", accuracy: \" + str(results[i][1]))\n",
    "    return results\n",
    "\n",
    "def get_results_gbdt(n_est, verbose=True, init=None, acc=smape_loss_func, min_max_filter=True, max_val=1, min_val=0.001):\n",
    "    results = dict()\n",
    "    for i in n_est:\n",
    "        if init is not None:\n",
    "            reg = GradientBoostingRegressor(n_estimators=i, random_state=1234, verbose=0, init=init)\n",
    "        else:\n",
    "            reg = GradientBoostingRegressor(n_estimators=i, random_state=1234, verbose=0, max_features='sqrt', max_depth=7)\n",
    "        reg.fit(trainX, trainY)\n",
    "        predict = reg.predict(testX)\n",
    "        if min_max_filter:\n",
    "            predict = np.minimum(np.maximum(predict, min_val),max_val)\n",
    "        results[i] = (acc(trainY, reg.predict(trainX)), acc(testY, predict))\n",
    "        if verbose:\n",
    "            print(\"Count of estimators: \" + str(i) + \", accuracy: \" + str(results[i][1]))    \n",
    "    return results\n",
    "\n",
    "def get_optimal(results):\n",
    "    results = sorted(results, key=lambda x: x[1])"
   ]
  },
  {
   "cell_type": "markdown",
   "metadata": {},
   "source": [
    "### Делим выборку на обучение и контроль"
   ]
  },
  {
   "cell_type": "code",
   "execution_count": 255,
   "metadata": {
    "collapsed": false
   },
   "outputs": [],
   "source": [
    "trainX, testX, trainY, testY = split_train_test(df = num_data, test_size=0.1,  y_column_name='DEMAND')"
   ]
  },
  {
   "cell_type": "markdown",
   "metadata": {},
   "source": [
    "### DummyRegressor\n",
    "* Самый простой классификатор на числовых признаках используется как база для сравнения"
   ]
  },
  {
   "cell_type": "code",
   "execution_count": 31,
   "metadata": {
    "collapsed": false
   },
   "outputs": [
    {
     "name": "stdout",
     "output_type": "stream",
     "text": [
      "Accuracy: 1.24306344718\n",
      "CPU times: user 4 ms, sys: 0 ns, total: 4 ms\n",
      "Wall time: 2.1 ms\n",
      "Accuracy: 1.81014628129\n",
      "CPU times: user 4 ms, sys: 0 ns, total: 4 ms\n",
      "Wall time: 1.6 ms\n"
     ]
    }
   ],
   "source": [
    "%time results = get_results_dummy_reg()\n",
    "%time results = get_results_dummy_reg(strg='constant', const=0.001)"
   ]
  },
  {
   "cell_type": "markdown",
   "metadata": {},
   "source": [
    "### Bagging and RSM\n",
    "Диапазон для n_est рекомендуется брать небольшим\n",
    "\n",
    "Если трубется изменять дефолтные параметры алгоритма - меняйте код выше"
   ]
  },
  {
   "cell_type": "markdown",
   "metadata": {},
   "source": [
    "** Каким стоит брать размер bootstrap выборки и RSM выборки ** \n",
    "Например: \n",
    "**Bagging:** 0.5 от размера тестовой выборки.\n",
    "\n",
    "**RSM:** 0.5 от размера тестовой выборки."
   ]
  },
  {
   "cell_type": "code",
   "execution_count": 256,
   "metadata": {
    "collapsed": false
   },
   "outputs": [
    {
     "name": "stdout",
     "output_type": "stream",
     "text": [
      "Count of estimators: 10, accuracy: 1.21584760434\n",
      "Count of estimators: 20, accuracy: 1.20950667664\n",
      "Count of estimators: 30, accuracy: 1.20509976886\n",
      "Count of estimators: 40, accuracy: 1.20436161617\n",
      "Count of estimators: 50, accuracy: 1.20304558414\n",
      "Count of estimators: 60, accuracy: 1.20555931569\n",
      "Count of estimators: 70, accuracy: 1.20557324154\n",
      "Count of estimators: 80, accuracy: 1.20780229184\n",
      "Count of estimators: 90, accuracy: 1.21089811323\n",
      "Count of estimators: 100, accuracy: 1.21139269082\n",
      "Count of estimators: 110, accuracy: 1.2110078017\n",
      "Count of estimators: 120, accuracy: 1.2114779749\n",
      "Count of estimators: 130, accuracy: 1.2103592099\n",
      "Count of estimators: 140, accuracy: 1.21087669876\n",
      "CPU times: user 9.83 s, sys: 4.92 s, total: 14.7 s\n",
      "Wall time: 38.8 s\n"
     ]
    },
    {
     "data": {
      "image/png": "[encoded data removed]",
      "text/plain": [
       "<matplotlib.figure.Figure at 0x7f79c0398978>"
      ]
     },
     "metadata": {},
     "output_type": "display_data"
    }
   ],
   "source": [
    "n_est = range(10, 150, 10)\n",
    "%time results = get_results_baggind_rsm(n_est, 0.6, 0.7, verbose=True)\n",
    "show_plot(n_est, results)"
   ]
  },
  {
   "cell_type": "markdown",
   "metadata": {},
   "source": [
    "### Random Forest\n",
    "Диапазон для n_est рекомендуется брать небольшим\n",
    "\n",
    "Если трубется изменять дефолтные параметры алгоритма - меняйте код выше"
   ]
  },
  {
   "cell_type": "code",
   "execution_count": 257,
   "metadata": {
    "collapsed": false
   },
   "outputs": [
    {
     "name": "stdout",
     "output_type": "stream",
     "text": [
      "Count of estimators: 10, accuracy: 1.18083827234\n",
      "Count of estimators: 20, accuracy: 1.20763649993\n",
      "Count of estimators: 30, accuracy: 1.21357295144\n",
      "Count of estimators: 40, accuracy: 1.21519587862\n",
      "Count of estimators: 50, accuracy: 1.21577903344\n",
      "Count of estimators: 60, accuracy: 1.21654211532\n",
      "Count of estimators: 70, accuracy: 1.21531870095\n",
      "Count of estimators: 80, accuracy: 1.21587231903\n",
      "Count of estimators: 90, accuracy: 1.21700443733\n",
      "Count of estimators: 100, accuracy: 1.21649147789\n",
      "Count of estimators: 110, accuracy: 1.21537538198\n",
      "Count of estimators: 120, accuracy: 1.21547317556\n",
      "Count of estimators: 130, accuracy: 1.21518245831\n",
      "Count of estimators: 140, accuracy: 1.21526132225\n",
      "CPU times: user 1min 23s, sys: 520 ms, total: 1min 23s\n",
      "Wall time: 21.3 s\n"
     ]
    },
    {
     "data": {
      "image/png": "[encoded data removed]",
      "text/plain": [
       "<matplotlib.figure.Figure at 0x7f796cc8c4e0>"
      ]
     },
     "metadata": {},
     "output_type": "display_data"
    }
   ],
   "source": [
    "n_est = range(10, 150, 10)\n",
    "%time results = get_results_rf(n_est)\n",
    "show_plot(n_est, results)"
   ]
  },
  {
   "cell_type": "markdown",
   "metadata": {},
   "source": [
    "### Extremely Randomized Trees Ensemble\n",
    "Диапазон для n_est рекомендуется брать небольшим\n",
    "\n",
    "Если трубется изменять дефолтные параметры алгоритма - меняйте код выше"
   ]
  },
  {
   "cell_type": "code",
   "execution_count": 258,
   "metadata": {
    "collapsed": false
   },
   "outputs": [
    {
     "name": "stdout",
     "output_type": "stream",
     "text": [
      "Count of estimators: 10, accuracy: 1.14746549864\n",
      "Count of estimators: 20, accuracy: 1.19596577959\n",
      "Count of estimators: 30, accuracy: 1.2078649394\n",
      "Count of estimators: 40, accuracy: 1.21507105837\n",
      "Count of estimators: 50, accuracy: 1.21743075474\n",
      "Count of estimators: 60, accuracy: 1.22099028812\n",
      "Count of estimators: 70, accuracy: 1.22214345924\n",
      "Count of estimators: 80, accuracy: 1.22473658052\n",
      "Count of estimators: 90, accuracy: 1.22423399085\n",
      "Count of estimators: 100, accuracy: 1.22490554213\n",
      "Count of estimators: 110, accuracy: 1.22590513976\n",
      "Count of estimators: 120, accuracy: 1.22582881334\n",
      "Count of estimators: 130, accuracy: 1.22709694424\n",
      "Count of estimators: 140, accuracy: 1.22674269652\n",
      "CPU times: user 1min 47s, sys: 748 ms, total: 1min 48s\n",
      "Wall time: 26.2 s\n"
     ]
    },
    {
     "data": {
      "image/png": "[encoded data removed]",
      "text/plain": [
       "<matplotlib.figure.Figure at 0x7f79b8a5d9b0>"
      ]
     },
     "metadata": {},
     "output_type": "display_data"
    }
   ],
   "source": [
    "n_est = range(10, 150, 10)\n",
    "%time results = get_results_erte(n_est)\n",
    "show_plot(n_est, results)"
   ]
  },
  {
   "cell_type": "markdown",
   "metadata": {},
   "source": [
    "## Gradient Boosted Decision Trees\n",
    "Диапазон для n_est рекомендуется брать небольшим\n",
    "\n",
    "Если трубется изменять дефолтные параметры алгоритма - меняйте код выше"
   ]
  },
  {
   "cell_type": "code",
   "execution_count": 259,
   "metadata": {
    "collapsed": false
   },
   "outputs": [
    {
     "name": "stdout",
     "output_type": "stream",
     "text": [
      "Count of estimators: 10, accuracy: 1.22524718494\n",
      "Count of estimators: 20, accuracy: 1.21838848497\n",
      "Count of estimators: 30, accuracy: 1.21670201767\n",
      "Count of estimators: 40, accuracy: 1.21974986252\n",
      "Count of estimators: 50, accuracy: 1.2213069109\n",
      "Count of estimators: 60, accuracy: 1.22157354021\n",
      "Count of estimators: 70, accuracy: 1.22436795557\n",
      "Count of estimators: 80, accuracy: 1.22382024223\n",
      "Count of estimators: 90, accuracy: 1.2255952456\n",
      "Count of estimators: 100, accuracy: 1.22762575981\n",
      "Count of estimators: 110, accuracy: 1.22790635371\n",
      "Count of estimators: 120, accuracy: 1.22827834746\n",
      "Count of estimators: 130, accuracy: 1.22921308356\n",
      "Count of estimators: 140, accuracy: 1.23044784701\n",
      "CPU times: user 23.7 s, sys: 0 ns, total: 23.7 s\n",
      "Wall time: 23.7 s\n"
     ]
    },
    {
     "data": {
      "image/png": "[encoded data removed]",
      "text/plain": [
       "<matplotlib.figure.Figure at 0x7f79b89dcf98>"
      ]
     },
     "metadata": {},
     "output_type": "display_data"
    }
   ],
   "source": [
    "n_est = range(10, 150, 10)\n",
    "%time results = get_results_gbdt(n_est)\n",
    "show_plot(n_est, results)"
   ]
  },
  {
   "cell_type": "markdown",
   "metadata": {},
   "source": [
    "### Вывод\n",
    "Переобучаются ExtraDT, остальные методы показывают результаты на одном уровне (в пределах погрешности).\n",
    "\n",
    "Для RF и Baggin+RSM оптимальные значения кол-ва близко к 20.\n",
    "\n",
    "Для GBDT оптимальное количество алгоритмов находится в районе 50."
   ]
  },
  {
   "cell_type": "markdown",
   "metadata": {},
   "source": [
    "**Вопрос: Дайте интепретацию полученным результатам в вашем случае.**\n",
    "\n",
    "Bagging и Boosting дают примерно одинаковые результаты, если количество деревьев в бустинге брать равным 30-40.\n",
    "\n",
    "Того же уровня результаты получаются при использовании RF и ExtraDT, только последний сильно переобучается при большом числе деревьев."
   ]
  },
  {
   "cell_type": "markdown",
   "metadata": {},
   "source": [
    "## Использование категориальных признаков (1 балл)\n",
    "* Проведите аналогичный экспермент при наличии категориальных признаков"
   ]
  },
  {
   "cell_type": "markdown",
   "metadata": {},
   "source": [
    "### Обучение и Контроль"
   ]
  },
  {
   "cell_type": "code",
   "execution_count": 704,
   "metadata": {
    "collapsed": false
   },
   "outputs": [
    {
     "data": {
      "text/plain": [
       "Index(['LOCATION_ID', 'MODEL_BRAND', 'MODEL_DIAG_TYPE', 'MODEL_ID',\n",
       "       'MODEL_NAME', 'MODEL_OS', 'MODEL_RES_TYPE', 'MODEL_TYPE',\n",
       "       'STORE_BRAND_ABC', 'STORE_BUILDING_TYPE', 'STORE_CITY', 'STORE_CLUSTER',\n",
       "       'STORE_DIAG_ABC', 'STORE_FORMAT', 'STORE_OPEN_DTTM', 'STORE_PRICE_TYPE',\n",
       "       'STORE_REGION', 'STORE_RES_ABC'],\n",
       "      dtype='object')"
      ]
     },
     "execution_count": 704,
     "metadata": {},
     "output_type": "execute_result"
    }
   ],
   "source": [
    "Categorical_columns"
   ]
  },
  {
   "cell_type": "code",
   "execution_count": 705,
   "metadata": {
    "collapsed": true
   },
   "outputs": [],
   "source": [
    "Categorical_columns_use = ['MODEL_OS','MODEL_BRAND']"
   ]
  },
  {
   "cell_type": "code",
   "execution_count": 706,
   "metadata": {
    "collapsed": false
   },
   "outputs": [
    {
     "name": "stdout",
     "output_type": "stream",
     "text": [
      "(40000, 69)\n"
     ]
    }
   ],
   "source": [
    "# Для обучения используются полезные категориальные признаки\n",
    "bin_data = get_binarized_data(data, Categorical_columns_use)\n",
    "print(bin_data.shape)"
   ]
  },
  {
   "cell_type": "markdown",
   "metadata": {},
   "source": [
    "##### Исключаем лишние произнаки, заменяем NaN"
   ]
  },
  {
   "cell_type": "code",
   "execution_count": 707,
   "metadata": {
    "collapsed": false
   },
   "outputs": [],
   "source": [
    "# Удаляем лишние категоримальные признаки\n",
    "# bin_data.drop(Categorical_columns[лишние категориальные признаки], axis = 1, inplace=True)\n",
    "bin_data.drop(list(set(Categorical_columns_use) ^ set(Categorical_columns)), axis = 1, inplace=True)"
   ]
  },
  {
   "cell_type": "code",
   "execution_count": 708,
   "metadata": {
    "collapsed": false
   },
   "outputs": [
    {
     "data": {
      "text/plain": [
       "MODEL_DIAG                0\n",
       "STORE_DIAG_SPECTR         0\n",
       "MODEL_COST_AVG            0\n",
       "MODEL_COUNT_SALES_DAYS    0\n",
       "STORE_RES_SPECTR          0\n",
       "STORE_ASSORTMENT          0\n",
       "STORE_TYPE_A              0\n",
       "STORE_BRAND_SPECTR        0\n",
       "STORE_TYPE_SPECTR         0\n",
       "STORE_TYPE_C              0\n",
       "MODEL_MEAN_SALES          0\n",
       "STORE_TYPE_B              0\n",
       "dtype: int64"
      ]
     },
     "execution_count": 708,
     "metadata": {},
     "output_type": "execute_result"
    }
   ],
   "source": [
    "# Удаляем лишние числвые признаки признаки\n",
    "# to_drop = [\"MODEL_COUNT_SALES_DAYS\", \"MODEL_WIDTH\", \"STORE_RES_SPECTR\", \"STORE_TYPE_SPECTR\", \"STORE_DIAG_SPECTR\"]\n",
    "to_drop = [\"MODEL_WIDTH\", \"MODEL_HEIGHT\"]\n",
    "to_use = list(set(data.columns ^ Categorical_columns)^set(to_drop)^set([\"DEMAND\"]))\n",
    "bin_data.drop(to_drop, axis = 1, inplace = True)\n",
    "\n",
    "# Заменяем NaN\n",
    "for num_col in to_use:\n",
    "    dict_diag_sales = data.groupby(\"MODEL_BRAND\")[num_col].mean().to_dict()\n",
    "    dict_to_fill = {i:dict_diag_sales[data.ix[i,\"MODEL_BRAND\"]] for i in range(len(data))}\n",
    "    bin_data[num_col].fillna(dict_to_fill, inplace=True)    \n",
    "# bin_data.fillna(0, inplace=True)\n",
    "\n",
    "nan_val = bin_data[to_use].isnull().sum().T\n",
    "nan_val"
   ]
  },
  {
   "cell_type": "code",
   "execution_count": 709,
   "metadata": {
    "collapsed": false
   },
   "outputs": [],
   "source": [
    "# Делим выборку на обучение и контроль\n",
    "trainX, testX, trainY, testY = split_train_test(df = bin_data, test_size=0.1,  y_column_name='DEMAND')"
   ]
  },
  {
   "cell_type": "markdown",
   "metadata": {},
   "source": [
    "### FEATURE IMPORTANCE ####"
   ]
  },
  {
   "cell_type": "code",
   "execution_count": 546,
   "metadata": {
    "collapsed": false
   },
   "outputs": [],
   "source": [
    "import operator\n",
    "import xgboost as xgb\n",
    "def ceate_feature_map(features):\n",
    "    outfile = open('xgb.fmap', 'w')\n",
    "    i = 0\n",
    "    for feat in features:\n",
    "        outfile.write('{0}\\t{1}\\tq\\n'.format(i, ''.join(feat.split(' '))))\n",
    "        i = i + 1\n",
    "\n",
    "    outfile.close()\n",
    "\n",
    "ceate_feature_map(bin_data.columns[1:])\n",
    "\n",
    "xgb_params = {\"objective\": \"reg:linear\", \"eta\": 0.01, \"max_depth\": 8, \"seed\": 42, \"silent\": 1}\n",
    "num_rounds = 200\n",
    "\n",
    "dtrain = xgb.DMatrix(trainX, label=trainY)\n",
    "gbdt = xgb.train(xgb_params, dtrain, num_rounds)\n",
    "\n",
    "importance = gbdt.get_fscore(fmap='xgb.fmap')\n",
    "# importance = gbdt.get_fscore()\n",
    "importance = sorted(importance.items(), key=operator.itemgetter(1))\n",
    "\n",
    "df = pd.DataFrame(importance, columns=['feature', 'fscore'])\n",
    "df['fscore'] = df['fscore'] / df['fscore'].sum()\n",
    "\n",
    "# plt.figure()\n",
    "# df.plot()\n",
    "# df.plot(kind='barh', x='feature', y='fscore', legend=False, figsize=(6, 10))\n",
    "# plt.title('XGBoost Feature Importance')\n",
    "# plt.xlabel('relative importance')"
   ]
  },
  {
   "cell_type": "code",
   "execution_count": 547,
   "metadata": {
    "collapsed": false
   },
   "outputs": [
    {
     "name": "stderr",
     "output_type": "stream",
     "text": [
      "/home/fogside/virtualenv/python3/lib/python3.4/site-packages/ipykernel/__main__.py:1: FutureWarning: sort(columns=....) is deprecated, use sort_values(by=.....)\n",
      "  if __name__ == '__main__':\n"
     ]
    }
   ],
   "source": [
    "most_important = df.sort('fscore', ascending=False)['feature'][:30]"
   ]
  },
  {
   "cell_type": "code",
   "execution_count": 548,
   "metadata": {
    "collapsed": false
   },
   "outputs": [
    {
     "data": {
      "text/plain": [
       "39                         knn\n",
       "38          STORE_BRAND_SPECTR\n",
       "37           STORE_TYPE_SPECTR\n",
       "36              MODEL_COST_AVG\n",
       "35            STORE_ASSORTMENT\n",
       "34      MODEL_COUNT_SALES_DAYS\n",
       "33            STORE_RES_SPECTR\n",
       "32           STORE_DIAG_SPECTR\n",
       "31            MODEL_MEAN_SALES\n",
       "30                  MODEL_DIAG\n",
       "29                STORE_TYPE_B\n",
       "28                STORE_TYPE_A\n",
       "27             MODEL_BRAND:htc\n",
       "26            MODEL_BRAND:asus\n",
       "25           MODEL_BRAND:haier\n",
       "24       MODEL_BRAND:microsoft\n",
       "23        MODEL_BRAND:micromax\n",
       "21            MODEL_BRAND:sony\n",
       "22             MODEL_BRAND:zte\n",
       "20          MODEL_BRAND:huawei\n",
       "19           MODEL_BRAND:meizu\n",
       "18             MODEL_OS:gsm-wm\n",
       "17         MODEL_BRAND:samsung\n",
       "16            MODEL_OS:gsm-and\n",
       "15             MODEL_BRAND:мтс\n",
       "14         MODEL_BRAND:philips\n",
       "13          MODEL_BRAND:lexand\n",
       "12    MODEL_BRAND:bright&quick\n",
       "10            MODEL_OS:gsm-ios\n",
       "11              MODEL_BRAND:lg\n",
       "Name: feature, dtype: object"
      ]
     },
     "execution_count": 548,
     "metadata": {},
     "output_type": "execute_result"
    }
   ],
   "source": [
    "most_important"
   ]
  },
  {
   "cell_type": "markdown",
   "metadata": {},
   "source": [
    "### Bagging and RSM\n",
    "Диапазон для n_est рекомендуется брать небольшим\n",
    "\n",
    "Если трубется изменять дефолтные параметры алгоритма - меняйте код выше"
   ]
  },
  {
   "cell_type": "code",
   "execution_count": 549,
   "metadata": {
    "collapsed": false
   },
   "outputs": [
    {
     "name": "stdout",
     "output_type": "stream",
     "text": [
      "Count of estimators: 10, accuracy: 1.08107516358\n",
      "Count of estimators: 20, accuracy: 1.11951884596\n",
      "Count of estimators: 30, accuracy: 1.1471976867\n",
      "Count of estimators: 40, accuracy: 1.17023848874\n",
      "CPU times: user 3.44 s, sys: 2.7 s, total: 6.14 s\n",
      "Wall time: 14.6 s\n"
     ]
    },
    {
     "data": {
      "image/png": "[encoded data removed]",
      "text/plain": [
       "<matplotlib.figure.Figure at 0x7f798e59a0b8>"
      ]
     },
     "metadata": {},
     "output_type": "display_data"
    }
   ],
   "source": [
    "n_est = range(10, 50, 10)\n",
    "%time results = get_results_baggind_rsm(n_est, 0.7, 0.8, verbose=True)\n",
    "show_plot(n_est, results)"
   ]
  },
  {
   "cell_type": "code",
   "execution_count": 550,
   "metadata": {
    "collapsed": false
   },
   "outputs": [
    {
     "name": "stdout",
     "output_type": "stream",
     "text": [
      "Count of estimators: 10, accuracy: 1.03862671151\n",
      "Count of estimators: 20, accuracy: 1.05763524287\n",
      "Count of estimators: 30, accuracy: 1.11820090827\n",
      "Count of estimators: 40, accuracy: 1.1235553396\n",
      "Count of estimators: 50, accuracy: 1.12217259884\n",
      "Count of estimators: 60, accuracy: 1.1209137119\n",
      "Count of estimators: 70, accuracy: 1.11955384413\n",
      "Count of estimators: 80, accuracy: 1.12800878057\n",
      "Count of estimators: 90, accuracy: 1.1471233891\n",
      "Count of estimators: 100, accuracy: 1.16189096747\n",
      "Count of estimators: 110, accuracy: 1.16041995668\n",
      "Count of estimators: 120, accuracy: 1.16667668593\n",
      "Count of estimators: 130, accuracy: 1.16516621416\n",
      "Count of estimators: 140, accuracy: 1.17020926628\n",
      "CPU times: user 19.2 s, sys: 12.2 s, total: 31.4 s\n",
      "Wall time: 2min 9s\n"
     ]
    },
    {
     "data": {
      "image/png": "[encoded data removed]",
      "text/plain": [
       "<matplotlib.figure.Figure at 0x7f79a19aac50>"
      ]
     },
     "metadata": {},
     "output_type": "display_data"
    }
   ],
   "source": [
    "n_est = range(10, 150, 10)\n",
    "%time results = get_results_baggind_rsm(n_est, 0.9, 0.9, verbose=True)\n",
    "show_plot(n_est, results)"
   ]
  },
  {
   "cell_type": "markdown",
   "metadata": {},
   "source": [
    "### Random Forest\n",
    "Диапазон для n_est рекомендуется брать небольшим\n",
    "\n",
    "Если трубется изменять дефолтные параметры алгоритма - меняйте код выше"
   ]
  },
  {
   "cell_type": "code",
   "execution_count": 551,
   "metadata": {
    "collapsed": false
   },
   "outputs": [
    {
     "name": "stdout",
     "output_type": "stream",
     "text": [
      "Count of estimators: 10, accuracy: 1.10441850031\n",
      "Count of estimators: 20, accuracy: 1.16294287917\n",
      "Count of estimators: 30, accuracy: 1.17951416005\n",
      "Count of estimators: 40, accuracy: 1.18669714505\n",
      "Count of estimators: 50, accuracy: 1.18996508784\n",
      "CPU times: user 13.8 s, sys: 68 ms, total: 13.9 s\n",
      "Wall time: 4.39 s\n"
     ]
    },
    {
     "data": {
      "image/png": "[encoded data removed]",
      "text/plain": [
       "<matplotlib.figure.Figure at 0x7f798e465b38>"
      ]
     },
     "metadata": {},
     "output_type": "display_data"
    }
   ],
   "source": [
    "n_est = range(10, 60, 10)\n",
    "%time results = get_results_rf(n_est)\n",
    "show_plot(n_est, results)"
   ]
  },
  {
   "cell_type": "markdown",
   "metadata": {},
   "source": [
    "### Extremely Randomized Trees Ensemble\n",
    "Диапазон для n_est рекомендуется брать небольшим\n",
    "\n",
    "Если трубется изменять дефолтные параметры алгоритма - меняйте код выше"
   ]
  },
  {
   "cell_type": "code",
   "execution_count": 552,
   "metadata": {
    "collapsed": false
   },
   "outputs": [
    {
     "name": "stdout",
     "output_type": "stream",
     "text": [
      "Count of estimators: 10, accuracy: 0.99121401534\n",
      "Count of estimators: 20, accuracy: 1.01235032725\n",
      "Count of estimators: 30, accuracy: 1.01459720022\n",
      "Count of estimators: 40, accuracy: 1.01662828106\n",
      "Count of estimators: 50, accuracy: 1.01884761141\n",
      "Count of estimators: 60, accuracy: 1.01910824924\n",
      "CPU times: user 1min 5s, sys: 104 ms, total: 1min 5s\n",
      "Wall time: 15.3 s\n"
     ]
    },
    {
     "data": {
      "image/png": "[encoded data removed]",
      "text/plain": [
       "<matplotlib.figure.Figure at 0x7f79b86d5e10>"
      ]
     },
     "metadata": {},
     "output_type": "display_data"
    }
   ],
   "source": [
    "n_est = range(10, 70, 10)\n",
    "%time results = get_results_erte(n_est)\n",
    "show_plot(n_est, results)"
   ]
  },
  {
   "cell_type": "markdown",
   "metadata": {},
   "source": [
    "### Gradient Boosted Decision Trees\n",
    "Диапазон для n_est рекомендуется брать небольшим\n",
    "\n",
    "Если трубется изменять дефолтные параметры алгоритма - меняйте код выше"
   ]
  },
  {
   "cell_type": "code",
   "execution_count": 553,
   "metadata": {
    "collapsed": false
   },
   "outputs": [
    {
     "name": "stdout",
     "output_type": "stream",
     "text": [
      "Count of estimators: 10, accuracy: 1.18309134951\n",
      "Count of estimators: 20, accuracy: 1.16273607924\n",
      "Count of estimators: 30, accuracy: 1.17042793618\n",
      "Count of estimators: 40, accuracy: 1.17987315233\n",
      "Count of estimators: 50, accuracy: 1.1895156178\n",
      "Count of estimators: 60, accuracy: 1.19337878824\n",
      "Count of estimators: 70, accuracy: 1.19542377578\n",
      "Count of estimators: 80, accuracy: 1.19824863198\n",
      "Count of estimators: 90, accuracy: 1.19808227043\n",
      "Count of estimators: 100, accuracy: 1.20080489954\n",
      "Count of estimators: 110, accuracy: 1.19964807372\n",
      "Count of estimators: 120, accuracy: 1.20309493813\n",
      "Count of estimators: 130, accuracy: 1.20787180203\n",
      "Count of estimators: 140, accuracy: 1.20826312348\n",
      "CPU times: user 38.2 s, sys: 0 ns, total: 38.2 s\n",
      "Wall time: 38.2 s\n"
     ]
    },
    {
     "data": {
      "image/png": "[encoded data removed]",
      "text/plain": [
       "<matplotlib.figure.Figure at 0x7f79a2148240>"
      ]
     },
     "metadata": {},
     "output_type": "display_data"
    }
   ],
   "source": [
    "n_est = range(10, 150, 10)\n",
    "%time results = get_results_gbdt(n_est)\n",
    "show_plot(n_est, results)"
   ]
  },
  {
   "cell_type": "markdown",
   "metadata": {},
   "source": [
    "### Вывод"
   ]
  },
  {
   "cell_type": "markdown",
   "metadata": {},
   "source": [
    "**Вопрос: Дайте интепретацию полученным результатам в вашем случае.**"
   ]
  },
  {
   "cell_type": "raw",
   "metadata": {},
   "source": [
    "В данном эксперименте в качестве фичи я использовала еще и предсказание KNN.\n",
    "\n",
    "По feature_importance xgb заметно, что эта фича весьма весомая.\n",
    "Но скор у методов она значительно не улучшила, к сожалению.\n",
    "Т.е. методы выше с этой фичей все равно результат knn не обгоняют (результат knn ниже)."
   ]
  },
  {
   "cell_type": "markdown",
   "metadata": {},
   "source": [
    "## Другие модели и генерация дополнительных признаков (2 балла)"
   ]
  },
  {
   "cell_type": "markdown",
   "metadata": {},
   "source": [
    "* На основании сделанных выводов, предложите другой вариант алгоритма ML, который должен показать лучший результат\n",
    "* Направляния:\n",
    "    -- использовать принципиально другое семейство алгоритмов (NN, GB+kNN, LinearRegression, композиция Baggin и GBDT)\n",
    "    -- исключить бесполезные фичи из обучающей выборки (полезность фич проанализировать с помощью RF);\n",
    "    -- исключить фичи, в которых есть NaN; сделать восстановление NaN более интеллектуально;\n",
    "    -- преобразовать катеориальные признаки так, чтобы получились числовые."
   ]
  },
  {
   "cell_type": "code",
   "execution_count": 693,
   "metadata": {
    "collapsed": false
   },
   "outputs": [],
   "source": [
    "from sklearn.neighbors import KNeighborsRegressor\n",
    "from sklearn.tree import DecisionTreeRegressor\n",
    "from sklearn.ensemble import AdaBoostRegressor\n",
    "from sklearn.ensemble import GradientBoostingRegressor\n",
    "from sklearn.neural_network import MLPRegressor\n",
    "from sklearn.grid_search import GridSearchCV\n",
    "from sklearn.linear_model import LinearRegression\n",
    "from sklearn.cross_validation import cross_val_score\n",
    "import xgboost as xgb"
   ]
  },
  {
   "cell_type": "code",
   "execution_count": 681,
   "metadata": {
    "collapsed": false
   },
   "outputs": [
    {
     "data": {
      "text/plain": [
       "1.2780688284662152"
      ]
     },
     "execution_count": 681,
     "metadata": {},
     "output_type": "execute_result"
    }
   ],
   "source": [
    "## LinearRegression ##\n",
    "\n",
    "lr = LinearRegression()\n",
    "lr.fit(trainX, trainY)\n",
    "pred = lr.predict(testX)\n",
    "smape_loss_func(pred, testY)"
   ]
  },
  {
   "cell_type": "code",
   "execution_count": null,
   "metadata": {
    "collapsed": true
   },
   "outputs": [],
   "source": [
    "## XGB ##"
   ]
  },
  {
   "cell_type": "code",
   "execution_count": 484,
   "metadata": {
    "collapsed": true
   },
   "outputs": [
    {
     "name": "stderr",
     "output_type": "stream",
     "text": [
      "\n",
      "  0%|          | 0/2 [00:00<?, ?it/s]\u001b[A"
     ]
    },
    {
     "name": "stdout",
     "output_type": "stream",
     "text": [
      "lr:0.05, n:50, d:2 -- 1.26650350560964\n"
     ]
    },
    {
     "name": "stderr",
     "output_type": "stream",
     "text": [
      "\n",
      "Exception in thread Thread-5183:\n",
      "Traceback (most recent call last):\n",
      "  File \"/usr/lib/python3.4/threading.py\", line 920, in _bootstrap_inner\n",
      "    self.run()\n",
      "  File \"/home/fogside/virtualenv/python3/lib/python3.4/site-packages/tqdm/_tqdm.py\", line 102, in run\n",
      "    for instance in self.tqdm_cls._instances:\n",
      "  File \"/home/fogside/virtualenv/python3/lib/python3.4/_weakrefset.py\", line 60, in __iter__\n",
      "    for itemref in self.data:\n",
      "RuntimeError: Set changed size during iteration\n",
      "\n"
     ]
    },
    {
     "name": "stdout",
     "output_type": "stream",
     "text": [
      "lr:0.05, n:50, d:3 -- 1.2641565117031945\n",
      "lr:0.05, n:50, d:7 -- 1.2474660207810786\n",
      "lr:0.05, n:100, d:2 -- 1.221449431026167\n",
      "lr:0.05, n:100, d:3 -- 1.2209253677712484\n",
      "lr:0.05, n:100, d:7 -- 1.2076570215737779\n",
      "lr:0.05, n:300, d:2 -- 1.2203006005602761\n",
      "lr:0.05, n:300, d:3 -- 1.2349757862197384\n",
      "lr:0.05, n:300, d:7 -- 1.2292013524498375\n",
      "lr:0.05, n:400, d:2 -- 1.2247926380571987\n",
      "lr:0.05, n:400, d:3 -- 1.2403253496598572\n"
     ]
    },
    {
     "name": "stderr",
     "output_type": "stream",
     "text": [
      "\r",
      " 50%|█████     | 1/2 [06:30<06:30, 390.21s/it]"
     ]
    },
    {
     "name": "stdout",
     "output_type": "stream",
     "text": [
      "lr:0.05, n:400, d:7 -- 1.229415682852496\n",
      "lr:0.1, n:50, d:2 -- 1.221370004613539\n",
      "lr:0.1, n:50, d:3 -- 1.2208603662384372\n",
      "lr:0.1, n:50, d:7 -- 1.2107986231863628\n",
      "lr:0.1, n:100, d:2 -- 1.2195357001983023\n",
      "lr:0.1, n:100, d:3 -- 1.2247968088835577\n",
      "lr:0.1, n:100, d:7 -- 1.2226603519169457\n",
      "lr:0.1, n:300, d:2 -- 1.23708749420454\n",
      "lr:0.1, n:300, d:3 -- 1.2405899563442218\n",
      "lr:0.1, n:300, d:7 -- 1.249964318963809\n",
      "lr:0.1, n:400, d:2 -- 1.241059224390899\n",
      "lr:0.1, n:400, d:3 -- 1.2513233219444182\n"
     ]
    },
    {
     "name": "stderr",
     "output_type": "stream",
     "text": [
      "\r",
      "100%|██████████| 2/2 [13:05<00:00, 391.82s/it]"
     ]
    },
    {
     "name": "stdout",
     "output_type": "stream",
     "text": [
      "lr:0.1, n:400, d:7 -- 1.2575016533411054\n",
      "CPU times: user 57min 39s, sys: 5.35 s, total: 57min 45s\n",
      "Wall time: 13min 5s\n"
     ]
    },
    {
     "name": "stderr",
     "output_type": "stream",
     "text": [
      "\n"
     ]
    }
   ],
   "source": [
    "%%time\n",
    "from tqdm import tqdm\n",
    "xgb_reg = xgb.XGBRegressor()\n",
    "xgb_params = {\n",
    "    'learning_rate': [0.05, 0.1],\n",
    "    'n_estimators': [50, 100, 300, 400],\n",
    "    'max_depth': [2, 3, 7],\n",
    "}\n",
    "\n",
    "results = {}\n",
    "for lr in tqdm(xgb_params['learning_rate']):\n",
    "    for n in xgb_params['n_estimators']:\n",
    "        for d in xgb_params['max_depth']:\n",
    "            xgb_reg = xgb.XGBRegressor(learning_rate=lr, n_estimators=n, max_depth=d)\n",
    "            xgb_reg.fit(trainX, trainY)\n",
    "            pred = xgb_reg.predict(testX)\n",
    "            tmp = smape_loss_func(pred, testY)\n",
    "            print(\"lr:{}, n:{}, d:{} -- {}\".format(lr, n, d, tmp))\n",
    "            results[(lr,n,d)] = tmp"
   ]
  },
  {
   "cell_type": "code",
   "execution_count": 516,
   "metadata": {
    "collapsed": false
   },
   "outputs": [
    {
     "data": {
      "text/plain": [
       "1.3666642341531936"
      ]
     },
     "execution_count": 516,
     "metadata": {},
     "output_type": "execute_result"
    }
   ],
   "source": [
    "## NN ##\n",
    "\n",
    "from sklearn.preprocessing import MinMaxScaler\n",
    "scaler = MinMaxScaler()\n",
    "\n",
    "bin_data2 = bin_data.copy()\n",
    "bin_data2.drop(\"MODEL_COUNT_SALES_DAYS\", axis=1)\n",
    "\n",
    "trainX_1, testX_1, trainY_1, testY_1 = split_train_test(df = bin_data2, test_size=0.1,  y_column_name='DEMAND')\n",
    "\n",
    "trainX_1 = scaler.fit_transform(trainX_1)\n",
    "testX_1 = scaler.transform(testX_1)\n",
    "\n",
    "nn = MLPRegressor(hidden_layer_sizes=[200,10], learning_rate='adaptive')\n",
    "nn.fit(trainX_1, trainY_1)\n",
    "\n",
    "smape_loss_func(nn.predict(testX_1), testY_1)"
   ]
  },
  {
   "cell_type": "markdown",
   "metadata": {},
   "source": [
    "Удивительно, но похоже, что KNN оказалась самой удачной моделью.."
   ]
  },
  {
   "cell_type": "code",
   "execution_count": 672,
   "metadata": {
    "collapsed": false
   },
   "outputs": [
    {
     "name": "stdout",
     "output_type": "stream",
     "text": [
      "n:2 test:0.852288138074966 train:0.4707706248466773\n",
      "n:3 test:0.9209695963381682 train:0.6581888558932417\n",
      "n:4 test:0.9802826156017517 train:0.7785182108303719\n",
      "n:5 test:1.0208646876639134 train:0.8657240385603392\n",
      "n:6 test:1.0599687183167656 train:0.9293105327736723\n",
      "n:7 test:1.0859612311702138 train:0.9770914159924212\n"
     ]
    }
   ],
   "source": [
    "### KNN ###\n",
    "\n",
    "# knn_res = []\n",
    "\n",
    "for n in [2,3,4,5,6,7]:\n",
    "    knn = KNeighborsRegressor(n_neighbors=n)\n",
    "    knn.fit(trainX, trainY)\n",
    "    pred = knn.predict(testX)\n",
    "    tmp = smape_loss_func(pred, testY), smape_loss_func(knn.predict(trainX), trainY)\n",
    "    print(\"n:{} test:{} train:{}\".format(n, tmp[0], tmp[1]))\n",
    "#     knn_res.append(tmp)"
   ]
  },
  {
   "cell_type": "code",
   "execution_count": 673,
   "metadata": {
    "collapsed": false
   },
   "outputs": [
    {
     "name": "stdout",
     "output_type": "stream",
     "text": [
      "m:euclidean test:0.852288138074966 train:0.4707706248466773\n",
      "m:manhattan test:0.8289360013289367 train:0.4624458434239351\n",
      "m:chebyshev test:0.8647096052897755 train:0.4789299565325316\n",
      "m:minkowski test:0.852288138074966 train:0.4707706248466773\n"
     ]
    }
   ],
   "source": [
    "metrics = ['euclidean', 'manhattan', \"chebyshev\", \"minkowski\"]\n",
    "for m in metrics:\n",
    "    knn = KNeighborsRegressor(n_neighbors=2, metric=m)\n",
    "    knn.fit(trainX, trainY)\n",
    "    pred = knn.predict(testX)\n",
    "    tmp = smape_loss_func(pred, testY), smape_loss_func(knn.predict(trainX), trainY)\n",
    "    print(\"m:{} test:{} train:{}\".format(m, tmp[0], tmp[1]))"
   ]
  },
  {
   "cell_type": "code",
   "execution_count": 674,
   "metadata": {
    "collapsed": true
   },
   "outputs": [],
   "source": [
    "def local_scorer(estimator, X, y):\n",
    "    pred = estimator.predict(X)\n",
    "    return smape_loss_func(pred, y)"
   ]
  },
  {
   "cell_type": "code",
   "execution_count": 675,
   "metadata": {
    "collapsed": false
   },
   "outputs": [
    {
     "name": "stdout",
     "output_type": "stream",
     "text": [
      "[ 0.83572031  0.83608012  0.83498232]\n"
     ]
    }
   ],
   "source": [
    "knn = KNeighborsRegressor(n_neighbors=2, metric='manhattan')\n",
    "simple_data = cross_val_score(knn, trainX, trainY, scoring=local_scorer)\n",
    "print(simple_data)"
   ]
  },
  {
   "cell_type": "markdown",
   "metadata": {},
   "source": [
    "О, боже. Но вот я попробовала AdaBoost, но было уже слишком поздно...\n",
    "Очень грустно."
   ]
  },
  {
   "cell_type": "code",
   "execution_count": 710,
   "metadata": {
    "collapsed": false,
    "scrolled": true
   },
   "outputs": [
    {
     "data": {
      "text/plain": [
       "0.76518166682780209"
      ]
     },
     "execution_count": 710,
     "metadata": {},
     "output_type": "execute_result"
    }
   ],
   "source": [
    "## ADA ##\n",
    "\n",
    "tree = DecisionTreeRegressor()\n",
    "ada = AdaBoostRegressor(base_estimator=tree)\n",
    "ada.fit(trainX, trainY)\n",
    "pred = ada.predict(testX)\n",
    "smape_loss_func(pred, testY)"
   ]
  },
  {
   "cell_type": "code",
   "execution_count": 711,
   "metadata": {
    "collapsed": false
   },
   "outputs": [
    {
     "data": {
      "text/plain": [
       "array([ 0.75204471,  0.73472304,  0.75382551])"
      ]
     },
     "execution_count": 711,
     "metadata": {},
     "output_type": "execute_result"
    }
   ],
   "source": [
    "cross_val_score(ada, trainX, trainY, scoring=local_scorer)"
   ]
  },
  {
   "cell_type": "code",
   "execution_count": 702,
   "metadata": {
    "collapsed": false
   },
   "outputs": [
    {
     "data": {
      "text/plain": [
       "0.80336457364881197"
      ]
     },
     "execution_count": 702,
     "metadata": {},
     "output_type": "execute_result"
    }
   ],
   "source": [
    "## ADA_Knn ##\n",
    "\n",
    "knn = KNeighborsRegressor(n_neighbors=2, metric='manhattan')\n",
    "ada_knn = AdaBoostRegressor(base_estimator=knn)\n",
    "ada_knn.fit(trainX, trainY)\n",
    "pred = ada_knn.predict(testX)\n",
    "smape_loss_func(pred, testY)"
   ]
  },
  {
   "cell_type": "code",
   "execution_count": 723,
   "metadata": {
    "collapsed": false
   },
   "outputs": [
    {
     "data": {
      "text/plain": [
       "array([ 0.88749106,  0.79813189,  0.81563325])"
      ]
     },
     "execution_count": 723,
     "metadata": {},
     "output_type": "execute_result"
    }
   ],
   "source": [
    "cross_val_score(ada_knn, trainX, trainY, scoring=local_scorer)"
   ]
  },
  {
   "cell_type": "markdown",
   "metadata": {},
   "source": [
    "### Вывод"
   ]
  },
  {
   "cell_type": "markdown",
   "metadata": {},
   "source": [
    "Надо было начинать с KNN.\n",
    "\n",
    "В ноутбуке было бы совершенно неудобно отражать это, но KNN начал хорошо работать на определенном наборе фичей.\n",
    "\n",
    "В целом, этот набор согласуется с тем, что выдал xgb feature_importance, так что это было сделано не зря.\n",
    "\n",
    "Очень жаль, что я слишком поздно вспомнила про AdaBoost."
   ]
  },
  {
   "cell_type": "markdown",
   "metadata": {},
   "source": [
    "## Отправка результатов в контест на Kaggle (оценивается по результатам в Leaderboard)"
   ]
  },
  {
   "cell_type": "code",
   "execution_count": 714,
   "metadata": {
    "collapsed": false
   },
   "outputs": [],
   "source": [
    "test = pd.read_csv('./data/test.csv', sep=';',decimal= '.', index_col='ID')"
   ]
  },
  {
   "cell_type": "code",
   "execution_count": 715,
   "metadata": {
    "collapsed": true
   },
   "outputs": [],
   "source": [
    "# Предобработка тестовой выборки (добавляем\\удаляем признаки, предобработка NaN и пр.)\n",
    "test_data = get_binarized_data(test, Categorical_columns_use)"
   ]
  },
  {
   "cell_type": "code",
   "execution_count": 716,
   "metadata": {
    "collapsed": false
   },
   "outputs": [],
   "source": [
    "# Все отсутствующие в тестовой выборке столбцы полагаем 0\n",
    "add_columns = bin_data.columns[1:].difference(test_data.columns)\n",
    "test_data = pd.merge(test_data, bin_data.ix[test_data.index][add_columns], how='inner', left_index=True, right_index=True)\n",
    "test_data[add_columns]=0\n",
    "\n",
    "# Оставляем только столбцы обучающей выборки (целевая переменная в обучающей выборке отсутствует)\n",
    "test_data = test_data.ix[:,bin_data.columns[1:]]\n"
   ]
  },
  {
   "cell_type": "code",
   "execution_count": 717,
   "metadata": {
    "collapsed": false
   },
   "outputs": [
    {
     "data": {
      "text/plain": [
       "MODEL_DIAG                0\n",
       "STORE_DIAG_SPECTR         0\n",
       "MODEL_COST_AVG            0\n",
       "MODEL_COUNT_SALES_DAYS    0\n",
       "STORE_RES_SPECTR          0\n",
       "STORE_ASSORTMENT          0\n",
       "STORE_TYPE_A              0\n",
       "STORE_BRAND_SPECTR        0\n",
       "STORE_TYPE_SPECTR         0\n",
       "STORE_TYPE_C              0\n",
       "MODEL_MEAN_SALES          0\n",
       "STORE_TYPE_B              0\n",
       "dtype: int64"
      ]
     },
     "execution_count": 717,
     "metadata": {},
     "output_type": "execute_result"
    }
   ],
   "source": [
    "## Замена пропусков средним для данной колонки по бренду.\n",
    "\n",
    "for num_col in to_use:\n",
    "    dict_diag_sales = test.groupby(\"MODEL_BRAND\")[num_col].mean().to_dict()\n",
    "    dict_to_fill = {i:dict_diag_sales[test.ix[i,\"MODEL_BRAND\"]] for i in range(len(test))}\n",
    "    test_data[num_col].fillna(dict_to_fill, inplace=True)    \n",
    "test_data.fillna(0, inplace=True)\n",
    "\n",
    "nan_val = test_data[to_use].isnull().sum().T\n",
    "nan_val"
   ]
  },
  {
   "cell_type": "code",
   "execution_count": 718,
   "metadata": {
    "collapsed": true
   },
   "outputs": [],
   "source": [
    "# Обучающая выборка\n",
    "trainX, _, trainY, _ = split_train_test(df = bin_data, test_size=0,  y_column_name='DEMAND')"
   ]
  },
  {
   "cell_type": "code",
   "execution_count": 645,
   "metadata": {
    "collapsed": false
   },
   "outputs": [
    {
     "data": {
      "text/plain": [
       "KNeighborsRegressor(algorithm='auto', leaf_size=30, metric='manhattan',\n",
       "          metric_params=None, n_jobs=1, n_neighbors=2, p=2,\n",
       "          weights='uniform')"
      ]
     },
     "execution_count": 645,
     "metadata": {},
     "output_type": "execute_result"
    }
   ],
   "source": [
    "# Это алгоритм из LeaderBoard\n",
    "final_regressor = KNeighborsRegressor(n_neighbors=2, metric='manhattan')\n",
    "final_regressor.fit(trainX, trainY)"
   ]
  },
  {
   "cell_type": "code",
   "execution_count": 719,
   "metadata": {
    "collapsed": false
   },
   "outputs": [
    {
     "data": {
      "text/plain": [
       "AdaBoostRegressor(base_estimator=DecisionTreeRegressor(criterion='mse', max_depth=None, max_features=None,\n",
       "           max_leaf_nodes=None, min_impurity_split=1e-07,\n",
       "           min_samples_leaf=1, min_samples_split=2,\n",
       "           min_weight_fraction_leaf=0.0, presort=False, random_state=None,\n",
       "           splitter='best'),\n",
       "         learning_rate=1.0, loss='linear', n_estimators=50,\n",
       "         random_state=None)"
      ]
     },
     "execution_count": 719,
     "metadata": {},
     "output_type": "execute_result"
    }
   ],
   "source": [
    "# А это алгоритм получше, дающий 0.77 на PrivateLeaderboard, но надо было его вовремя сабмиттить.\n",
    "tree = DecisionTreeRegressor()\n",
    "final_regressor = AdaBoostRegressor(base_estimator=tree)\n",
    "final_regressor.fit(trainX, trainY)"
   ]
  },
  {
   "cell_type": "code",
   "execution_count": 720,
   "metadata": {
    "collapsed": false
   },
   "outputs": [],
   "source": [
    "# Предсказание интенсивности\n",
    "test_predict = final_regressor.predict(np.asarray(test_data))"
   ]
  },
  {
   "cell_type": "code",
   "execution_count": 721,
   "metadata": {
    "collapsed": false
   },
   "outputs": [],
   "source": [
    "# Сохраняем в csv-файл\n",
    "test['DEMAND'] = test_predict\n",
    "test[['DEMAND']].to_csv('./data/submission_ada.csv', sep = ',', index = True)"
   ]
  }
 ],
 "metadata": {
  "anaconda-cloud": {},
  "kernelspec": {
   "display_name": "Python 3",
   "language": "python",
   "name": "python3"
  },
  "language_info": {
   "codemirror_mode": {
    "name": "ipython",
    "version": 3
   },
   "file_extension": ".py",
   "mimetype": "text/x-python",
   "name": "python",
   "nbconvert_exporter": "python",
   "pygments_lexer": "ipython3",
   "version": "3.4.3"
  }
 },
 "nbformat": 4,
 "nbformat_minor": 0
}
