{
 "cells": [
  {
   "cell_type": "markdown",
   "metadata": {},
   "source": [
    "# Фишки"
   ]
  },
  {
   "cell_type": "code",
   "execution_count": 1,
   "metadata": {
    "collapsed": true
   },
   "outputs": [],
   "source": [
    "?open"
   ]
  },
  {
   "cell_type": "code",
   "execution_count": 2,
   "metadata": {
    "collapsed": true
   },
   "outputs": [],
   "source": [
    "import codecs "
   ]
  },
  {
   "cell_type": "code",
   "execution_count": 160,
   "metadata": {
    "collapsed": false
   },
   "outputs": [
    {
     "data": {
      "text/plain": [
       "array([[1],\n",
       "       [2],\n",
       "       [3]])"
      ]
     },
     "execution_count": 160,
     "metadata": {},
     "output_type": "execute_result"
    }
   ],
   "source": [
    "a = np.array([1,2,3])\n",
    "a.reshape((3,1))"
   ]
  },
  {
   "cell_type": "code",
   "execution_count": null,
   "metadata": {
    "collapsed": true
   },
   "outputs": [],
   "source": [
    "scipy.spatial.distance.cdist(a[np.newaxis, :], b[np.newaxis, :], metric='euclidean')"
   ]
  },
  {
   "cell_type": "markdown",
   "metadata": {},
   "source": [
    "# Способы задать двумерный массив, \n",
    "## а  также работа с ним"
   ]
  },
  {
   "cell_type": "code",
   "execution_count": 161,
   "metadata": {
    "collapsed": false
   },
   "outputs": [
    {
     "data": {
      "text/plain": [
       "array([[ 1,  3],\n",
       "       [ 5,  7],\n",
       "       [ 9, 11]])"
      ]
     },
     "execution_count": 161,
     "metadata": {},
     "output_type": "execute_result"
    }
   ],
   "source": [
    "np.arange(1, 13, 2).reshape((3, 2))"
   ]
  },
  {
   "cell_type": "code",
   "execution_count": 8,
   "metadata": {
    "collapsed": false
   },
   "outputs": [
    {
     "data": {
      "text/plain": [
       "array([[ 0.07055073,  0.78264356,  0.16809203,  0.33772623,  0.47269986]])"
      ]
     },
     "execution_count": 8,
     "metadata": {},
     "output_type": "execute_result"
    }
   ],
   "source": [
    "import numpy as np\n",
    "lol = np.random.rand(4, 5)\n",
    "lol[3:4]"
   ]
  },
  {
   "cell_type": "code",
   "execution_count": 5,
   "metadata": {
    "collapsed": false
   },
   "outputs": [
    {
     "data": {
      "text/plain": [
       "array([[ 5.,  5.,  5.,  5.,  5.,  5.,  5.,  5.,  5.,  5.],\n",
       "       [ 5.,  5.,  5.,  5.,  5.,  5.,  5.,  5.,  5.,  5.],\n",
       "       [ 5.,  5.,  5.,  5.,  5.,  5.,  5.,  5.,  5.,  5.],\n",
       "       [ 5.,  5.,  5.,  5.,  5.,  5.,  5.,  5.,  5.,  5.],\n",
       "       [ 5.,  5.,  5.,  5.,  5.,  5.,  5.,  5.,  5.,  5.],\n",
       "       [ 5.,  5.,  5.,  5.,  5.,  5.,  5.,  5.,  5.,  5.],\n",
       "       [ 5.,  5.,  5.,  5.,  5.,  5.,  5.,  5.,  5.,  5.],\n",
       "       [ 5.,  5.,  5.,  5.,  5.,  5.,  5.,  5.,  5.,  5.],\n",
       "       [ 5.,  5.,  5.,  5.,  5.,  5.,  5.,  5.,  5.,  5.],\n",
       "       [ 5.,  5.,  5.,  5.,  5.,  5.,  5.,  5.,  5.,  5.]])"
      ]
     },
     "execution_count": 5,
     "metadata": {},
     "output_type": "execute_result"
    }
   ],
   "source": [
    "np.ones((10, 10))*5"
   ]
  },
  {
   "cell_type": "code",
   "execution_count": 164,
   "metadata": {
    "collapsed": false
   },
   "outputs": [
    {
     "data": {
      "text/plain": [
       "array([[ 1.,  0.,  0.,  0.,  0.,  0.],\n",
       "       [ 0.,  1.,  0.,  0.,  0.,  0.],\n",
       "       [ 0.,  0.,  1.,  0.,  0.,  0.],\n",
       "       [ 0.,  0.,  0.,  1.,  0.,  0.],\n",
       "       [ 0.,  0.,  0.,  0.,  1.,  0.],\n",
       "       [ 0.,  0.,  0.,  0.,  0.,  1.]])"
      ]
     },
     "execution_count": 164,
     "metadata": {},
     "output_type": "execute_result"
    }
   ],
   "source": [
    "np.eye(6, 6)"
   ]
  },
  {
   "cell_type": "code",
   "execution_count": 166,
   "metadata": {
    "collapsed": false
   },
   "outputs": [
    {
     "data": {
      "text/plain": [
       "1.0"
      ]
     },
     "execution_count": 166,
     "metadata": {},
     "output_type": "execute_result"
    }
   ],
   "source": [
    "# How to found determinant?\n",
    "\n",
    "np.linalg.det(np.eye(3))\n",
    "\n",
    "# Собственные числа??\n",
    "# np.linalg.eig(...)"
   ]
  },
  {
   "cell_type": "markdown",
   "metadata": {},
   "source": [
    "# PANDAS"
   ]
  },
  {
   "cell_type": "code",
   "execution_count": 27,
   "metadata": {
    "collapsed": false
   },
   "outputs": [],
   "source": [
    "import pandas as pd\n",
    "lol = pd.read_csv(\"lol.csv\",header = 0, sep = \",\")"
   ]
  },
  {
   "cell_type": "code",
   "execution_count": 28,
   "metadata": {
    "collapsed": false
   },
   "outputs": [
    {
     "data": {
      "text/html": [
       "<div>\n",
       "<table border=\"1\" class=\"dataframe\">\n",
       "  <thead>\n",
       "    <tr style=\"text-align: right;\">\n",
       "      <th></th>\n",
       "      <th>Date</th>\n",
       "      <th>Open</th>\n",
       "      <th>High</th>\n",
       "      <th>Low</th>\n",
       "      <th>Close</th>\n",
       "      <th>Volume</th>\n",
       "      <th>Adj Close</th>\n",
       "    </tr>\n",
       "  </thead>\n",
       "  <tbody>\n",
       "    <tr>\n",
       "      <th>0</th>\n",
       "      <td>2015-10-20</td>\n",
       "      <td>15.52</td>\n",
       "      <td>15.61</td>\n",
       "      <td>14.73</td>\n",
       "      <td>14.890</td>\n",
       "      <td>50400</td>\n",
       "      <td>14.890</td>\n",
       "    </tr>\n",
       "    <tr>\n",
       "      <th>1</th>\n",
       "      <td>2015-10-19</td>\n",
       "      <td>15.23</td>\n",
       "      <td>15.76</td>\n",
       "      <td>15.11</td>\n",
       "      <td>15.150</td>\n",
       "      <td>45400</td>\n",
       "      <td>15.150</td>\n",
       "    </tr>\n",
       "    <tr>\n",
       "      <th>2</th>\n",
       "      <td>2015-10-16</td>\n",
       "      <td>14.94</td>\n",
       "      <td>15.40</td>\n",
       "      <td>14.78</td>\n",
       "      <td>15.260</td>\n",
       "      <td>9500</td>\n",
       "      <td>15.260</td>\n",
       "    </tr>\n",
       "    <tr>\n",
       "      <th>3</th>\n",
       "      <td>2015-10-15</td>\n",
       "      <td>14.30</td>\n",
       "      <td>14.92</td>\n",
       "      <td>14.20</td>\n",
       "      <td>14.755</td>\n",
       "      <td>17700</td>\n",
       "      <td>14.755</td>\n",
       "    </tr>\n",
       "    <tr>\n",
       "      <th>4</th>\n",
       "      <td>2015-10-14</td>\n",
       "      <td>14.19</td>\n",
       "      <td>14.58</td>\n",
       "      <td>14.05</td>\n",
       "      <td>14.240</td>\n",
       "      <td>31400</td>\n",
       "      <td>14.240</td>\n",
       "    </tr>\n",
       "    <tr>\n",
       "      <th>5</th>\n",
       "      <td>2015-10-13</td>\n",
       "      <td>14.06</td>\n",
       "      <td>14.18</td>\n",
       "      <td>13.69</td>\n",
       "      <td>14.000</td>\n",
       "      <td>9000</td>\n",
       "      <td>14.000</td>\n",
       "    </tr>\n",
       "  </tbody>\n",
       "</table>\n",
       "</div>"
      ],
      "text/plain": [
       "         Date   Open   High    Low   Close  Volume  Adj Close\n",
       "0  2015-10-20  15.52  15.61  14.73  14.890   50400     14.890\n",
       "1  2015-10-19  15.23  15.76  15.11  15.150   45400     15.150\n",
       "2  2015-10-16  14.94  15.40  14.78  15.260    9500     15.260\n",
       "3  2015-10-15  14.30  14.92  14.20  14.755   17700     14.755\n",
       "4  2015-10-14  14.19  14.58  14.05  14.240   31400     14.240\n",
       "5  2015-10-13  14.06  14.18  13.69  14.000    9000     14.000"
      ]
     },
     "execution_count": 28,
     "metadata": {},
     "output_type": "execute_result"
    }
   ],
   "source": [
    "lol"
   ]
  },
  {
   "cell_type": "code",
   "execution_count": 29,
   "metadata": {
    "collapsed": false
   },
   "outputs": [
    {
     "data": {
      "text/plain": [
       "Index([u'Date', u'Open', u'High', u'Low', u'Close', u'Volume', u'Adj Close'], dtype='object')"
      ]
     },
     "execution_count": 29,
     "metadata": {},
     "output_type": "execute_result"
    }
   ],
   "source": [
    "lol.columns"
   ]
  },
  {
   "cell_type": "code",
   "execution_count": 21,
   "metadata": {
    "collapsed": false
   },
   "outputs": [
    {
     "data": {
      "text/plain": [
       "(6, 7)"
      ]
     },
     "execution_count": 21,
     "metadata": {},
     "output_type": "execute_result"
    }
   ],
   "source": [
    "lol.shape"
   ]
  },
  {
   "cell_type": "markdown",
   "metadata": {},
   "source": [
    "# Add rows"
   ]
  },
  {
   "cell_type": "code",
   "execution_count": 33,
   "metadata": {
    "collapsed": false
   },
   "outputs": [
    {
     "data": {
      "text/html": [
       "<div>\n",
       "<table border=\"1\" class=\"dataframe\">\n",
       "  <thead>\n",
       "    <tr style=\"text-align: right;\">\n",
       "      <th></th>\n",
       "      <th>Date</th>\n",
       "      <th>Open</th>\n",
       "      <th>High</th>\n",
       "      <th>Low</th>\n",
       "      <th>Close</th>\n",
       "      <th>Volume</th>\n",
       "      <th>Adj Close</th>\n",
       "      <th>New_col</th>\n",
       "    </tr>\n",
       "  </thead>\n",
       "  <tbody>\n",
       "    <tr>\n",
       "      <th>0</th>\n",
       "      <td>2015-10-20</td>\n",
       "      <td>1.552000e+01</td>\n",
       "      <td>15.61</td>\n",
       "      <td>14.73</td>\n",
       "      <td>14.890</td>\n",
       "      <td>50400</td>\n",
       "      <td>14.890</td>\n",
       "      <td>7</td>\n",
       "    </tr>\n",
       "    <tr>\n",
       "      <th>1</th>\n",
       "      <td>2015-10-19</td>\n",
       "      <td>1.523000e+01</td>\n",
       "      <td>15.76</td>\n",
       "      <td>15.11</td>\n",
       "      <td>15.150</td>\n",
       "      <td>45400</td>\n",
       "      <td>15.150</td>\n",
       "      <td>7</td>\n",
       "    </tr>\n",
       "    <tr>\n",
       "      <th>2</th>\n",
       "      <td>2015-10-16</td>\n",
       "      <td>1.494000e+01</td>\n",
       "      <td>15.40</td>\n",
       "      <td>14.78</td>\n",
       "      <td>15.260</td>\n",
       "      <td>9500</td>\n",
       "      <td>15.260</td>\n",
       "      <td>7</td>\n",
       "    </tr>\n",
       "    <tr>\n",
       "      <th>3</th>\n",
       "      <td>2015-10-15</td>\n",
       "      <td>1.430000e+01</td>\n",
       "      <td>14.92</td>\n",
       "      <td>14.20</td>\n",
       "      <td>14.755</td>\n",
       "      <td>17700</td>\n",
       "      <td>14.755</td>\n",
       "      <td>7</td>\n",
       "    </tr>\n",
       "    <tr>\n",
       "      <th>4</th>\n",
       "      <td>2015-10-14</td>\n",
       "      <td>1.419000e+01</td>\n",
       "      <td>14.58</td>\n",
       "      <td>14.05</td>\n",
       "      <td>14.240</td>\n",
       "      <td>31400</td>\n",
       "      <td>14.240</td>\n",
       "      <td>7</td>\n",
       "    </tr>\n",
       "    <tr>\n",
       "      <th>5</th>\n",
       "      <td>2015-10-13</td>\n",
       "      <td>1.406000e+01</td>\n",
       "      <td>14.18</td>\n",
       "      <td>13.69</td>\n",
       "      <td>14.000</td>\n",
       "      <td>9000</td>\n",
       "      <td>14.000</td>\n",
       "      <td>7</td>\n",
       "    </tr>\n",
       "    <tr>\n",
       "      <th>6</th>\n",
       "      <td>2015-06-10</td>\n",
       "      <td>1.324232e+11</td>\n",
       "      <td>NaN</td>\n",
       "      <td>NaN</td>\n",
       "      <td>NaN</td>\n",
       "      <td>NaN</td>\n",
       "      <td>NaN</td>\n",
       "      <td>7</td>\n",
       "    </tr>\n",
       "    <tr>\n",
       "      <th>7</th>\n",
       "      <td>2015-06-10</td>\n",
       "      <td>1.324232e+11</td>\n",
       "      <td>NaN</td>\n",
       "      <td>NaN</td>\n",
       "      <td>NaN</td>\n",
       "      <td>NaN</td>\n",
       "      <td>NaN</td>\n",
       "      <td>NaN</td>\n",
       "    </tr>\n",
       "  </tbody>\n",
       "</table>\n",
       "</div>"
      ],
      "text/plain": [
       "         Date          Open   High    Low   Close  Volume  Adj Close  New_col\n",
       "0  2015-10-20  1.552000e+01  15.61  14.73  14.890   50400     14.890        7\n",
       "1  2015-10-19  1.523000e+01  15.76  15.11  15.150   45400     15.150        7\n",
       "2  2015-10-16  1.494000e+01  15.40  14.78  15.260    9500     15.260        7\n",
       "3  2015-10-15  1.430000e+01  14.92  14.20  14.755   17700     14.755        7\n",
       "4  2015-10-14  1.419000e+01  14.58  14.05  14.240   31400     14.240        7\n",
       "5  2015-10-13  1.406000e+01  14.18  13.69  14.000    9000     14.000        7\n",
       "6  2015-06-10  1.324232e+11    NaN    NaN     NaN     NaN        NaN        7\n",
       "7  2015-06-10  1.324232e+11    NaN    NaN     NaN     NaN        NaN      NaN"
      ]
     },
     "execution_count": 33,
     "metadata": {},
     "output_type": "execute_result"
    }
   ],
   "source": [
    "lol_new = {\"Date\": \"2015-06-10\", \"Open\": 132423234333}\n",
    "lol = lol.append(lol_new, ignore_index = True)\n",
    "lol"
   ]
  },
  {
   "cell_type": "markdown",
   "metadata": {},
   "source": [
    "# Add columns"
   ]
  },
  {
   "cell_type": "code",
   "execution_count": 34,
   "metadata": {
    "collapsed": false
   },
   "outputs": [
    {
     "data": {
      "text/html": [
       "<div>\n",
       "<table border=\"1\" class=\"dataframe\">\n",
       "  <thead>\n",
       "    <tr style=\"text-align: right;\">\n",
       "      <th></th>\n",
       "      <th>Date</th>\n",
       "      <th>Open</th>\n",
       "      <th>High</th>\n",
       "      <th>Low</th>\n",
       "      <th>Close</th>\n",
       "      <th>Volume</th>\n",
       "      <th>Adj Close</th>\n",
       "      <th>New_col</th>\n",
       "      <th>New_col2</th>\n",
       "    </tr>\n",
       "  </thead>\n",
       "  <tbody>\n",
       "    <tr>\n",
       "      <th>0</th>\n",
       "      <td>2015-10-20</td>\n",
       "      <td>1.552000e+01</td>\n",
       "      <td>15.61</td>\n",
       "      <td>14.73</td>\n",
       "      <td>14.890</td>\n",
       "      <td>50400</td>\n",
       "      <td>14.890</td>\n",
       "      <td>7</td>\n",
       "      <td>True</td>\n",
       "    </tr>\n",
       "    <tr>\n",
       "      <th>1</th>\n",
       "      <td>2015-10-19</td>\n",
       "      <td>1.523000e+01</td>\n",
       "      <td>15.76</td>\n",
       "      <td>15.11</td>\n",
       "      <td>15.150</td>\n",
       "      <td>45400</td>\n",
       "      <td>15.150</td>\n",
       "      <td>7</td>\n",
       "      <td>True</td>\n",
       "    </tr>\n",
       "    <tr>\n",
       "      <th>2</th>\n",
       "      <td>2015-10-16</td>\n",
       "      <td>1.494000e+01</td>\n",
       "      <td>15.40</td>\n",
       "      <td>14.78</td>\n",
       "      <td>15.260</td>\n",
       "      <td>9500</td>\n",
       "      <td>15.260</td>\n",
       "      <td>7</td>\n",
       "      <td>True</td>\n",
       "    </tr>\n",
       "    <tr>\n",
       "      <th>3</th>\n",
       "      <td>2015-10-15</td>\n",
       "      <td>1.430000e+01</td>\n",
       "      <td>14.92</td>\n",
       "      <td>14.20</td>\n",
       "      <td>14.755</td>\n",
       "      <td>17700</td>\n",
       "      <td>14.755</td>\n",
       "      <td>7</td>\n",
       "      <td>True</td>\n",
       "    </tr>\n",
       "    <tr>\n",
       "      <th>4</th>\n",
       "      <td>2015-10-14</td>\n",
       "      <td>1.419000e+01</td>\n",
       "      <td>14.58</td>\n",
       "      <td>14.05</td>\n",
       "      <td>14.240</td>\n",
       "      <td>31400</td>\n",
       "      <td>14.240</td>\n",
       "      <td>7</td>\n",
       "      <td>True</td>\n",
       "    </tr>\n",
       "    <tr>\n",
       "      <th>5</th>\n",
       "      <td>2015-10-13</td>\n",
       "      <td>1.406000e+01</td>\n",
       "      <td>14.18</td>\n",
       "      <td>13.69</td>\n",
       "      <td>14.000</td>\n",
       "      <td>9000</td>\n",
       "      <td>14.000</td>\n",
       "      <td>7</td>\n",
       "      <td>False</td>\n",
       "    </tr>\n",
       "    <tr>\n",
       "      <th>6</th>\n",
       "      <td>2015-06-10</td>\n",
       "      <td>1.324232e+11</td>\n",
       "      <td>NaN</td>\n",
       "      <td>NaN</td>\n",
       "      <td>NaN</td>\n",
       "      <td>NaN</td>\n",
       "      <td>NaN</td>\n",
       "      <td>7</td>\n",
       "      <td>False</td>\n",
       "    </tr>\n",
       "    <tr>\n",
       "      <th>7</th>\n",
       "      <td>2015-06-10</td>\n",
       "      <td>1.324232e+11</td>\n",
       "      <td>NaN</td>\n",
       "      <td>NaN</td>\n",
       "      <td>NaN</td>\n",
       "      <td>NaN</td>\n",
       "      <td>NaN</td>\n",
       "      <td>NaN</td>\n",
       "      <td>False</td>\n",
       "    </tr>\n",
       "  </tbody>\n",
       "</table>\n",
       "</div>"
      ],
      "text/plain": [
       "         Date          Open   High    Low   Close  Volume  Adj Close  New_col  \\\n",
       "0  2015-10-20  1.552000e+01  15.61  14.73  14.890   50400     14.890        7   \n",
       "1  2015-10-19  1.523000e+01  15.76  15.11  15.150   45400     15.150        7   \n",
       "2  2015-10-16  1.494000e+01  15.40  14.78  15.260    9500     15.260        7   \n",
       "3  2015-10-15  1.430000e+01  14.92  14.20  14.755   17700     14.755        7   \n",
       "4  2015-10-14  1.419000e+01  14.58  14.05  14.240   31400     14.240        7   \n",
       "5  2015-10-13  1.406000e+01  14.18  13.69  14.000    9000     14.000        7   \n",
       "6  2015-06-10  1.324232e+11    NaN    NaN     NaN     NaN        NaN        7   \n",
       "7  2015-06-10  1.324232e+11    NaN    NaN     NaN     NaN        NaN      NaN   \n",
       "\n",
       "  New_col2  \n",
       "0     True  \n",
       "1     True  \n",
       "2     True  \n",
       "3     True  \n",
       "4     True  \n",
       "5    False  \n",
       "6    False  \n",
       "7    False  "
      ]
     },
     "execution_count": 34,
     "metadata": {},
     "output_type": "execute_result"
    }
   ],
   "source": [
    "lol[\"New_col2\"] = [True]*5 + [False]*3\n",
    "lol"
   ]
  },
  {
   "cell_type": "code",
   "execution_count": 39,
   "metadata": {
    "collapsed": false
   },
   "outputs": [],
   "source": [
    "lol.drop([5], axis = 0, inplace=True)"
   ]
  },
  {
   "cell_type": "code",
   "execution_count": 40,
   "metadata": {
    "collapsed": false
   },
   "outputs": [
    {
     "data": {
      "text/html": [
       "<div>\n",
       "<table border=\"1\" class=\"dataframe\">\n",
       "  <thead>\n",
       "    <tr style=\"text-align: right;\">\n",
       "      <th></th>\n",
       "      <th>Date</th>\n",
       "      <th>Open</th>\n",
       "      <th>High</th>\n",
       "      <th>Low</th>\n",
       "      <th>Close</th>\n",
       "      <th>Volume</th>\n",
       "      <th>Adj Close</th>\n",
       "      <th>New_col</th>\n",
       "      <th>New_col2</th>\n",
       "    </tr>\n",
       "  </thead>\n",
       "  <tbody>\n",
       "    <tr>\n",
       "      <th>0</th>\n",
       "      <td>2015-10-20</td>\n",
       "      <td>15.52</td>\n",
       "      <td>15.61</td>\n",
       "      <td>14.73</td>\n",
       "      <td>14.890</td>\n",
       "      <td>50400</td>\n",
       "      <td>14.890</td>\n",
       "      <td>7</td>\n",
       "      <td>True</td>\n",
       "    </tr>\n",
       "    <tr>\n",
       "      <th>1</th>\n",
       "      <td>2015-10-19</td>\n",
       "      <td>15.23</td>\n",
       "      <td>15.76</td>\n",
       "      <td>15.11</td>\n",
       "      <td>15.150</td>\n",
       "      <td>45400</td>\n",
       "      <td>15.150</td>\n",
       "      <td>7</td>\n",
       "      <td>True</td>\n",
       "    </tr>\n",
       "    <tr>\n",
       "      <th>2</th>\n",
       "      <td>2015-10-16</td>\n",
       "      <td>14.94</td>\n",
       "      <td>15.40</td>\n",
       "      <td>14.78</td>\n",
       "      <td>15.260</td>\n",
       "      <td>9500</td>\n",
       "      <td>15.260</td>\n",
       "      <td>7</td>\n",
       "      <td>True</td>\n",
       "    </tr>\n",
       "    <tr>\n",
       "      <th>3</th>\n",
       "      <td>2015-10-15</td>\n",
       "      <td>14.30</td>\n",
       "      <td>14.92</td>\n",
       "      <td>14.20</td>\n",
       "      <td>14.755</td>\n",
       "      <td>17700</td>\n",
       "      <td>14.755</td>\n",
       "      <td>7</td>\n",
       "      <td>True</td>\n",
       "    </tr>\n",
       "    <tr>\n",
       "      <th>4</th>\n",
       "      <td>2015-10-14</td>\n",
       "      <td>14.19</td>\n",
       "      <td>14.58</td>\n",
       "      <td>14.05</td>\n",
       "      <td>14.240</td>\n",
       "      <td>31400</td>\n",
       "      <td>14.240</td>\n",
       "      <td>7</td>\n",
       "      <td>True</td>\n",
       "    </tr>\n",
       "  </tbody>\n",
       "</table>\n",
       "</div>"
      ],
      "text/plain": [
       "         Date   Open   High    Low   Close  Volume  Adj Close  New_col  \\\n",
       "0  2015-10-20  15.52  15.61  14.73  14.890   50400     14.890        7   \n",
       "1  2015-10-19  15.23  15.76  15.11  15.150   45400     15.150        7   \n",
       "2  2015-10-16  14.94  15.40  14.78  15.260    9500     15.260        7   \n",
       "3  2015-10-15  14.30  14.92  14.20  14.755   17700     14.755        7   \n",
       "4  2015-10-14  14.19  14.58  14.05  14.240   31400     14.240        7   \n",
       "\n",
       "  New_col2  \n",
       "0     True  \n",
       "1     True  \n",
       "2     True  \n",
       "3     True  \n",
       "4     True  "
      ]
     },
     "execution_count": 40,
     "metadata": {},
     "output_type": "execute_result"
    }
   ],
   "source": [
    "lol"
   ]
  },
  {
   "cell_type": "code",
   "execution_count": 42,
   "metadata": {
    "collapsed": false
   },
   "outputs": [
    {
     "data": {
      "text/html": [
       "<div>\n",
       "<table border=\"1\" class=\"dataframe\">\n",
       "  <thead>\n",
       "    <tr style=\"text-align: right;\">\n",
       "      <th></th>\n",
       "      <th>Date</th>\n",
       "      <th>Open</th>\n",
       "      <th>High</th>\n",
       "      <th>Low</th>\n",
       "      <th>Close</th>\n",
       "      <th>Volume</th>\n",
       "      <th>Adj Close</th>\n",
       "      <th>New_col2</th>\n",
       "    </tr>\n",
       "  </thead>\n",
       "  <tbody>\n",
       "    <tr>\n",
       "      <th>0</th>\n",
       "      <td>2015-10-20</td>\n",
       "      <td>15.52</td>\n",
       "      <td>15.61</td>\n",
       "      <td>14.73</td>\n",
       "      <td>14.890</td>\n",
       "      <td>50400</td>\n",
       "      <td>14.890</td>\n",
       "      <td>True</td>\n",
       "    </tr>\n",
       "    <tr>\n",
       "      <th>1</th>\n",
       "      <td>2015-10-19</td>\n",
       "      <td>15.23</td>\n",
       "      <td>15.76</td>\n",
       "      <td>15.11</td>\n",
       "      <td>15.150</td>\n",
       "      <td>45400</td>\n",
       "      <td>15.150</td>\n",
       "      <td>True</td>\n",
       "    </tr>\n",
       "    <tr>\n",
       "      <th>2</th>\n",
       "      <td>2015-10-16</td>\n",
       "      <td>14.94</td>\n",
       "      <td>15.40</td>\n",
       "      <td>14.78</td>\n",
       "      <td>15.260</td>\n",
       "      <td>9500</td>\n",
       "      <td>15.260</td>\n",
       "      <td>True</td>\n",
       "    </tr>\n",
       "    <tr>\n",
       "      <th>3</th>\n",
       "      <td>2015-10-15</td>\n",
       "      <td>14.30</td>\n",
       "      <td>14.92</td>\n",
       "      <td>14.20</td>\n",
       "      <td>14.755</td>\n",
       "      <td>17700</td>\n",
       "      <td>14.755</td>\n",
       "      <td>True</td>\n",
       "    </tr>\n",
       "    <tr>\n",
       "      <th>4</th>\n",
       "      <td>2015-10-14</td>\n",
       "      <td>14.19</td>\n",
       "      <td>14.58</td>\n",
       "      <td>14.05</td>\n",
       "      <td>14.240</td>\n",
       "      <td>31400</td>\n",
       "      <td>14.240</td>\n",
       "      <td>True</td>\n",
       "    </tr>\n",
       "  </tbody>\n",
       "</table>\n",
       "</div>"
      ],
      "text/plain": [
       "         Date   Open   High    Low   Close  Volume  Adj Close New_col2\n",
       "0  2015-10-20  15.52  15.61  14.73  14.890   50400     14.890     True\n",
       "1  2015-10-19  15.23  15.76  15.11  15.150   45400     15.150     True\n",
       "2  2015-10-16  14.94  15.40  14.78  15.260    9500     15.260     True\n",
       "3  2015-10-15  14.30  14.92  14.20  14.755   17700     14.755     True\n",
       "4  2015-10-14  14.19  14.58  14.05  14.240   31400     14.240     True"
      ]
     },
     "execution_count": 42,
     "metadata": {},
     "output_type": "execute_result"
    }
   ],
   "source": [
    "lol.drop(\"New_col\", axis = 1, inplace=True)\n",
    "lol"
   ]
  },
  {
   "cell_type": "code",
   "execution_count": 45,
   "metadata": {
    "collapsed": true
   },
   "outputs": [],
   "source": [
    "lol.to_csv(\"My_new_place_to_live.csv\", header = True, index = False)"
   ]
  },
  {
   "cell_type": "code",
   "execution_count": 46,
   "metadata": {
    "collapsed": false
   },
   "outputs": [
    {
     "name": "stdout",
     "output_type": "stream",
     "text": [
      "Date,Open,High,Low,Close,Volume,Adj Close,New_col2\r\n",
      "2015-10-20,15.52,15.61,14.73,14.89,50400.0,14.89,True\r\n",
      "2015-10-19,15.23,15.76,15.11,15.15,45400.0,15.15,True\r\n",
      "2015-10-16,14.94,15.4,14.78,15.26,9500.0,15.26,True\r\n",
      "2015-10-15,14.3,14.92,14.2,14.755,17700.0,14.755,True\r\n",
      "2015-10-14,14.19,14.58,14.05,14.24,31400.0,14.24,True\r\n"
     ]
    }
   ],
   "source": [
    "!cat \"My_new_place_to_live.csv\""
   ]
  },
  {
   "cell_type": "code",
   "execution_count": 47,
   "metadata": {
    "collapsed": false
   },
   "outputs": [
    {
     "data": {
      "text/plain": [
       "Date          object\n",
       "Open         float64\n",
       "High         float64\n",
       "Low          float64\n",
       "Close        float64\n",
       "Volume       float64\n",
       "Adj Close    float64\n",
       "New_col2        bool\n",
       "dtype: object"
      ]
     },
     "execution_count": 47,
     "metadata": {},
     "output_type": "execute_result"
    }
   ],
   "source": [
    "lol.dtypes"
   ]
  },
  {
   "cell_type": "code",
   "execution_count": 52,
   "metadata": {
    "collapsed": false
   },
   "outputs": [],
   "source": [
    "lol.Date = lol.Date.apply(pd.to_datetime)"
   ]
  },
  {
   "cell_type": "code",
   "execution_count": 53,
   "metadata": {
    "collapsed": false
   },
   "outputs": [
    {
     "data": {
      "text/html": [
       "<div>\n",
       "<table border=\"1\" class=\"dataframe\">\n",
       "  <thead>\n",
       "    <tr style=\"text-align: right;\">\n",
       "      <th></th>\n",
       "      <th>Date</th>\n",
       "      <th>Open</th>\n",
       "      <th>High</th>\n",
       "      <th>Low</th>\n",
       "      <th>Close</th>\n",
       "      <th>Volume</th>\n",
       "      <th>Adj Close</th>\n",
       "      <th>New_col2</th>\n",
       "    </tr>\n",
       "  </thead>\n",
       "  <tbody>\n",
       "    <tr>\n",
       "      <th>0</th>\n",
       "      <td>2015-10-20</td>\n",
       "      <td>15.52</td>\n",
       "      <td>15.61</td>\n",
       "      <td>14.73</td>\n",
       "      <td>14.890</td>\n",
       "      <td>50400</td>\n",
       "      <td>14.890</td>\n",
       "      <td>True</td>\n",
       "    </tr>\n",
       "    <tr>\n",
       "      <th>1</th>\n",
       "      <td>2015-10-19</td>\n",
       "      <td>15.23</td>\n",
       "      <td>15.76</td>\n",
       "      <td>15.11</td>\n",
       "      <td>15.150</td>\n",
       "      <td>45400</td>\n",
       "      <td>15.150</td>\n",
       "      <td>True</td>\n",
       "    </tr>\n",
       "    <tr>\n",
       "      <th>2</th>\n",
       "      <td>2015-10-16</td>\n",
       "      <td>14.94</td>\n",
       "      <td>15.40</td>\n",
       "      <td>14.78</td>\n",
       "      <td>15.260</td>\n",
       "      <td>9500</td>\n",
       "      <td>15.260</td>\n",
       "      <td>True</td>\n",
       "    </tr>\n",
       "    <tr>\n",
       "      <th>3</th>\n",
       "      <td>2015-10-15</td>\n",
       "      <td>14.30</td>\n",
       "      <td>14.92</td>\n",
       "      <td>14.20</td>\n",
       "      <td>14.755</td>\n",
       "      <td>17700</td>\n",
       "      <td>14.755</td>\n",
       "      <td>True</td>\n",
       "    </tr>\n",
       "    <tr>\n",
       "      <th>4</th>\n",
       "      <td>2015-10-14</td>\n",
       "      <td>14.19</td>\n",
       "      <td>14.58</td>\n",
       "      <td>14.05</td>\n",
       "      <td>14.240</td>\n",
       "      <td>31400</td>\n",
       "      <td>14.240</td>\n",
       "      <td>True</td>\n",
       "    </tr>\n",
       "  </tbody>\n",
       "</table>\n",
       "</div>"
      ],
      "text/plain": [
       "        Date   Open   High    Low   Close  Volume  Adj Close New_col2\n",
       "0 2015-10-20  15.52  15.61  14.73  14.890   50400     14.890     True\n",
       "1 2015-10-19  15.23  15.76  15.11  15.150   45400     15.150     True\n",
       "2 2015-10-16  14.94  15.40  14.78  15.260    9500     15.260     True\n",
       "3 2015-10-15  14.30  14.92  14.20  14.755   17700     14.755     True\n",
       "4 2015-10-14  14.19  14.58  14.05  14.240   31400     14.240     True"
      ]
     },
     "execution_count": 53,
     "metadata": {},
     "output_type": "execute_result"
    }
   ],
   "source": [
    "lol"
   ]
  },
  {
   "cell_type": "code",
   "execution_count": 54,
   "metadata": {
    "collapsed": false
   },
   "outputs": [
    {
     "data": {
      "text/plain": [
       "Date         datetime64[ns]\n",
       "Open                float64\n",
       "High                float64\n",
       "Low                 float64\n",
       "Close               float64\n",
       "Volume              float64\n",
       "Adj Close           float64\n",
       "New_col2               bool\n",
       "dtype: object"
      ]
     },
     "execution_count": 54,
     "metadata": {},
     "output_type": "execute_result"
    }
   ],
   "source": [
    "lol.dtypes"
   ]
  },
  {
   "cell_type": "code",
   "execution_count": 57,
   "metadata": {
    "collapsed": false
   },
   "outputs": [
    {
     "name": "stdout",
     "output_type": "stream",
     "text": [
      "<class 'pandas.core.frame.DataFrame'>\n",
      "Int64Index: 5 entries, 0 to 4\n",
      "Data columns (total 8 columns):\n",
      "Date         5 non-null datetime64[ns]\n",
      "Open         5 non-null float64\n",
      "High         5 non-null float64\n",
      "Low          5 non-null float64\n",
      "Close        5 non-null float64\n",
      "Volume       5 non-null float64\n",
      "Adj Close    5 non-null float64\n",
      "New_col2     5 non-null bool\n",
      "dtypes: bool(1), datetime64[ns](1), float64(6)\n",
      "memory usage: 325.0 bytes\n"
     ]
    }
   ],
   "source": [
    "lol.info()"
   ]
  },
  {
   "cell_type": "code",
   "execution_count": 60,
   "metadata": {
    "collapsed": false
   },
   "outputs": [],
   "source": [
    "#lol.fillna(\"2013-11-20\", inplace=True)"
   ]
  },
  {
   "cell_type": "code",
   "execution_count": 61,
   "metadata": {
    "collapsed": false
   },
   "outputs": [
    {
     "data": {
      "text/html": [
       "<div>\n",
       "<table border=\"1\" class=\"dataframe\">\n",
       "  <thead>\n",
       "    <tr style=\"text-align: right;\">\n",
       "      <th></th>\n",
       "      <th>Date</th>\n",
       "      <th>Open</th>\n",
       "      <th>High</th>\n",
       "      <th>Low</th>\n",
       "      <th>Close</th>\n",
       "      <th>Volume</th>\n",
       "      <th>Adj Close</th>\n",
       "      <th>New_col2</th>\n",
       "    </tr>\n",
       "  </thead>\n",
       "  <tbody>\n",
       "    <tr>\n",
       "      <th>0</th>\n",
       "      <td>2015-10-20</td>\n",
       "      <td>15.52</td>\n",
       "      <td>15.61</td>\n",
       "      <td>14.73</td>\n",
       "      <td>14.89</td>\n",
       "      <td>50400</td>\n",
       "      <td>14.89</td>\n",
       "      <td>True</td>\n",
       "    </tr>\n",
       "    <tr>\n",
       "      <th>1</th>\n",
       "      <td>2015-10-19</td>\n",
       "      <td>15.23</td>\n",
       "      <td>15.76</td>\n",
       "      <td>15.11</td>\n",
       "      <td>15.15</td>\n",
       "      <td>45400</td>\n",
       "      <td>15.15</td>\n",
       "      <td>True</td>\n",
       "    </tr>\n",
       "    <tr>\n",
       "      <th>2</th>\n",
       "      <td>2015-10-16</td>\n",
       "      <td>14.94</td>\n",
       "      <td>15.40</td>\n",
       "      <td>14.78</td>\n",
       "      <td>15.26</td>\n",
       "      <td>9500</td>\n",
       "      <td>15.26</td>\n",
       "      <td>True</td>\n",
       "    </tr>\n",
       "  </tbody>\n",
       "</table>\n",
       "</div>"
      ],
      "text/plain": [
       "        Date   Open   High    Low  Close  Volume  Adj Close New_col2\n",
       "0 2015-10-20  15.52  15.61  14.73  14.89   50400      14.89     True\n",
       "1 2015-10-19  15.23  15.76  15.11  15.15   45400      15.15     True\n",
       "2 2015-10-16  14.94  15.40  14.78  15.26    9500      15.26     True"
      ]
     },
     "execution_count": 61,
     "metadata": {},
     "output_type": "execute_result"
    }
   ],
   "source": [
    "lol.head(3)"
   ]
  },
  {
   "cell_type": "code",
   "execution_count": 62,
   "metadata": {
    "collapsed": false
   },
   "outputs": [
    {
     "data": {
      "text/html": [
       "<div>\n",
       "<table border=\"1\" class=\"dataframe\">\n",
       "  <thead>\n",
       "    <tr style=\"text-align: right;\">\n",
       "      <th></th>\n",
       "      <th>Open</th>\n",
       "      <th>High</th>\n",
       "    </tr>\n",
       "  </thead>\n",
       "  <tbody>\n",
       "    <tr>\n",
       "      <th>1</th>\n",
       "      <td>15.23</td>\n",
       "      <td>15.76</td>\n",
       "    </tr>\n",
       "    <tr>\n",
       "      <th>3</th>\n",
       "      <td>14.30</td>\n",
       "      <td>14.92</td>\n",
       "    </tr>\n",
       "  </tbody>\n",
       "</table>\n",
       "</div>"
      ],
      "text/plain": [
       "    Open   High\n",
       "1  15.23  15.76\n",
       "3  14.30  14.92"
      ]
     },
     "execution_count": 62,
     "metadata": {},
     "output_type": "execute_result"
    }
   ],
   "source": [
    "lol.loc[[1,3], [\"Open\", \"High\"]]"
   ]
  },
  {
   "cell_type": "code",
   "execution_count": 65,
   "metadata": {
    "collapsed": false
   },
   "outputs": [
    {
     "data": {
      "text/html": [
       "<div>\n",
       "<table border=\"1\" class=\"dataframe\">\n",
       "  <thead>\n",
       "    <tr style=\"text-align: right;\">\n",
       "      <th></th>\n",
       "      <th>Open</th>\n",
       "      <th>High</th>\n",
       "    </tr>\n",
       "  </thead>\n",
       "  <tbody>\n",
       "    <tr>\n",
       "      <th>1</th>\n",
       "      <td>15.23</td>\n",
       "      <td>15.76</td>\n",
       "    </tr>\n",
       "    <tr>\n",
       "      <th>3</th>\n",
       "      <td>14.30</td>\n",
       "      <td>14.92</td>\n",
       "    </tr>\n",
       "  </tbody>\n",
       "</table>\n",
       "</div>"
      ],
      "text/plain": [
       "    Open   High\n",
       "1  15.23  15.76\n",
       "3  14.30  14.92"
      ]
     },
     "execution_count": 65,
     "metadata": {},
     "output_type": "execute_result"
    }
   ],
   "source": [
    "lol.iloc[[1,3], [1,2]]"
   ]
  },
  {
   "cell_type": "markdown",
   "metadata": {},
   "source": [
    "# Юзайте ix!"
   ]
  },
  {
   "cell_type": "code",
   "execution_count": 66,
   "metadata": {
    "collapsed": false
   },
   "outputs": [
    {
     "data": {
      "text/html": [
       "<div>\n",
       "<table border=\"1\" class=\"dataframe\">\n",
       "  <thead>\n",
       "    <tr style=\"text-align: right;\">\n",
       "      <th></th>\n",
       "      <th>Open</th>\n",
       "      <th>Volume</th>\n",
       "    </tr>\n",
       "  </thead>\n",
       "  <tbody>\n",
       "    <tr>\n",
       "      <th>1</th>\n",
       "      <td>15.23</td>\n",
       "      <td>45400</td>\n",
       "    </tr>\n",
       "    <tr>\n",
       "      <th>2</th>\n",
       "      <td>14.94</td>\n",
       "      <td>9500</td>\n",
       "    </tr>\n",
       "  </tbody>\n",
       "</table>\n",
       "</div>"
      ],
      "text/plain": [
       "    Open  Volume\n",
       "1  15.23   45400\n",
       "2  14.94    9500"
      ]
     },
     "execution_count": 66,
     "metadata": {},
     "output_type": "execute_result"
    }
   ],
   "source": [
    "lol.ix[[1,2], [\"Open\", \"Volume\"]]"
   ]
  },
  {
   "cell_type": "code",
   "execution_count": 67,
   "metadata": {
    "collapsed": false
   },
   "outputs": [
    {
     "data": {
      "text/html": [
       "<div>\n",
       "<table border=\"1\" class=\"dataframe\">\n",
       "  <thead>\n",
       "    <tr style=\"text-align: right;\">\n",
       "      <th></th>\n",
       "      <th>Open</th>\n",
       "      <th>High</th>\n",
       "    </tr>\n",
       "  </thead>\n",
       "  <tbody>\n",
       "    <tr>\n",
       "      <th>1</th>\n",
       "      <td>15.23</td>\n",
       "      <td>15.76</td>\n",
       "    </tr>\n",
       "    <tr>\n",
       "      <th>2</th>\n",
       "      <td>14.94</td>\n",
       "      <td>15.40</td>\n",
       "    </tr>\n",
       "  </tbody>\n",
       "</table>\n",
       "</div>"
      ],
      "text/plain": [
       "    Open   High\n",
       "1  15.23  15.76\n",
       "2  14.94  15.40"
      ]
     },
     "execution_count": 67,
     "metadata": {},
     "output_type": "execute_result"
    }
   ],
   "source": [
    "lol.ix[[1,2], [1,2]]"
   ]
  },
  {
   "cell_type": "markdown",
   "metadata": {},
   "source": [
    "# Умная селекция"
   ]
  },
  {
   "cell_type": "code",
   "execution_count": 68,
   "metadata": {
    "collapsed": false
   },
   "outputs": [
    {
     "data": {
      "text/html": [
       "<div>\n",
       "<table border=\"1\" class=\"dataframe\">\n",
       "  <thead>\n",
       "    <tr style=\"text-align: right;\">\n",
       "      <th></th>\n",
       "      <th>Date</th>\n",
       "      <th>Open</th>\n",
       "      <th>High</th>\n",
       "      <th>Low</th>\n",
       "      <th>Close</th>\n",
       "      <th>Volume</th>\n",
       "      <th>Adj Close</th>\n",
       "      <th>New_col2</th>\n",
       "    </tr>\n",
       "  </thead>\n",
       "  <tbody>\n",
       "    <tr>\n",
       "      <th>0</th>\n",
       "      <td>2015-10-20</td>\n",
       "      <td>15.52</td>\n",
       "      <td>15.61</td>\n",
       "      <td>14.73</td>\n",
       "      <td>14.89</td>\n",
       "      <td>50400</td>\n",
       "      <td>14.89</td>\n",
       "      <td>True</td>\n",
       "    </tr>\n",
       "    <tr>\n",
       "      <th>1</th>\n",
       "      <td>2015-10-19</td>\n",
       "      <td>15.23</td>\n",
       "      <td>15.76</td>\n",
       "      <td>15.11</td>\n",
       "      <td>15.15</td>\n",
       "      <td>45400</td>\n",
       "      <td>15.15</td>\n",
       "      <td>True</td>\n",
       "    </tr>\n",
       "    <tr>\n",
       "      <th>2</th>\n",
       "      <td>2015-10-16</td>\n",
       "      <td>14.94</td>\n",
       "      <td>15.40</td>\n",
       "      <td>14.78</td>\n",
       "      <td>15.26</td>\n",
       "      <td>9500</td>\n",
       "      <td>15.26</td>\n",
       "      <td>True</td>\n",
       "    </tr>\n",
       "  </tbody>\n",
       "</table>\n",
       "</div>"
      ],
      "text/plain": [
       "        Date   Open   High    Low  Close  Volume  Adj Close New_col2\n",
       "0 2015-10-20  15.52  15.61  14.73  14.89   50400      14.89     True\n",
       "1 2015-10-19  15.23  15.76  15.11  15.15   45400      15.15     True\n",
       "2 2015-10-16  14.94  15.40  14.78  15.26    9500      15.26     True"
      ]
     },
     "execution_count": 68,
     "metadata": {},
     "output_type": "execute_result"
    }
   ],
   "source": [
    "lol[lol.Date >= pd.datetime(2015,10,16)]"
   ]
  },
  {
   "cell_type": "markdown",
   "metadata": {},
   "source": [
    "# Numpy, SciPy, MatPlotLib"
   ]
  },
  {
   "cell_type": "code",
   "execution_count": 69,
   "metadata": {
    "collapsed": true
   },
   "outputs": [],
   "source": [
    "import numpy as np"
   ]
  },
  {
   "cell_type": "code",
   "execution_count": 70,
   "metadata": {
    "collapsed": true
   },
   "outputs": [],
   "source": [
    "x = [1,2,3,34,54,6,0]\n",
    "num = np.array(x)"
   ]
  },
  {
   "cell_type": "code",
   "execution_count": 73,
   "metadata": {
    "collapsed": false
   },
   "outputs": [
    {
     "name": "stdout",
     "output_type": "stream",
     "text": [
      "[ 1  2  3 34 54  6  0] [1, 2, 3, 34, 54, 6, 0]\n"
     ]
    }
   ],
   "source": [
    "print num, x"
   ]
  },
  {
   "cell_type": "code",
   "execution_count": 74,
   "metadata": {
    "collapsed": true
   },
   "outputs": [],
   "source": [
    "matrix = [[1,12,23], [23,33,2]]\n",
    "num_matrix = np.array(matrix)"
   ]
  },
  {
   "cell_type": "code",
   "execution_count": 75,
   "metadata": {
    "collapsed": false
   },
   "outputs": [
    {
     "data": {
      "text/plain": [
       "2"
      ]
     },
     "execution_count": 75,
     "metadata": {},
     "output_type": "execute_result"
    }
   ],
   "source": [
    "matrix[1][2]"
   ]
  },
  {
   "cell_type": "code",
   "execution_count": 76,
   "metadata": {
    "collapsed": false
   },
   "outputs": [
    {
     "data": {
      "text/plain": [
       "2"
      ]
     },
     "execution_count": 76,
     "metadata": {},
     "output_type": "execute_result"
    }
   ],
   "source": [
    "num_matrix[1,2]"
   ]
  },
  {
   "cell_type": "code",
   "execution_count": 79,
   "metadata": {
    "collapsed": false
   },
   "outputs": [
    {
     "data": {
      "text/plain": [
       "array([[ 0.20744256,  0.65735794,  0.23820039,  0.22190824],\n",
       "       [ 0.88470436,  0.15781846,  0.15802307,  0.22766912],\n",
       "       [ 0.5678118 ,  0.79335559,  0.23157477,  0.61455516]])"
      ]
     },
     "execution_count": 79,
     "metadata": {},
     "output_type": "execute_result"
    }
   ],
   "source": [
    "np.random.rand(3,4)"
   ]
  },
  {
   "cell_type": "code",
   "execution_count": 78,
   "metadata": {
    "collapsed": false
   },
   "outputs": [
    {
     "data": {
      "text/plain": [
       "-0.41578951454405244"
      ]
     },
     "execution_count": 78,
     "metadata": {},
     "output_type": "execute_result"
    }
   ],
   "source": [
    "np.random.randn()"
   ]
  },
  {
   "cell_type": "code",
   "execution_count": 80,
   "metadata": {
    "collapsed": false
   },
   "outputs": [
    {
     "data": {
      "text/plain": [
       "array([ 1. ,  1.1,  1.2,  1.3,  1.4,  1.5,  1.6,  1.7,  1.8,  1.9,  2. ,\n",
       "        2.1,  2.2,  2.3,  2.4,  2.5,  2.6,  2.7,  2.8,  2.9,  3. ,  3.1,\n",
       "        3.2,  3.3,  3.4,  3.5,  3.6,  3.7,  3.8,  3.9,  4. ,  4.1,  4.2,\n",
       "        4.3,  4.4,  4.5,  4.6,  4.7,  4.8,  4.9,  5. ,  5.1,  5.2,  5.3,\n",
       "        5.4,  5.5,  5.6,  5.7,  5.8,  5.9,  6. ,  6.1,  6.2,  6.3,  6.4,\n",
       "        6.5,  6.6,  6.7,  6.8,  6.9,  7. ,  7.1,  7.2,  7.3,  7.4,  7.5,\n",
       "        7.6,  7.7,  7.8,  7.9])"
      ]
     },
     "execution_count": 80,
     "metadata": {},
     "output_type": "execute_result"
    }
   ],
   "source": [
    "np.arange(1,8, 0.1)"
   ]
  },
  {
   "cell_type": "markdown",
   "metadata": {},
   "source": [
    "# Magic"
   ]
  },
  {
   "cell_type": "code",
   "execution_count": 81,
   "metadata": {
    "collapsed": false
   },
   "outputs": [
    {
     "data": {
      "application/json": {
       "cell": {
        "!": "OSMagics",
        "HTML": "Other",
        "SVG": "Other",
        "bash": "Other",
        "capture": "ExecutionMagics",
        "debug": "ExecutionMagics",
        "file": "Other",
        "html": "DisplayMagics",
        "javascript": "DisplayMagics",
        "latex": "DisplayMagics",
        "perl": "Other",
        "prun": "ExecutionMagics",
        "pypy": "Other",
        "python": "Other",
        "python2": "Other",
        "python3": "Other",
        "ruby": "Other",
        "script": "ScriptMagics",
        "sh": "Other",
        "svg": "DisplayMagics",
        "sx": "OSMagics",
        "system": "OSMagics",
        "time": "ExecutionMagics",
        "timeit": "ExecutionMagics",
        "writefile": "OSMagics"
       },
       "line": {
        "alias": "OSMagics",
        "alias_magic": "BasicMagics",
        "autocall": "AutoMagics",
        "automagic": "AutoMagics",
        "autosave": "KernelMagics",
        "bookmark": "OSMagics",
        "cat": "Other",
        "cd": "OSMagics",
        "clear": "KernelMagics",
        "colors": "BasicMagics",
        "config": "ConfigMagics",
        "connect_info": "KernelMagics",
        "cp": "Other",
        "debug": "ExecutionMagics",
        "dhist": "OSMagics",
        "dirs": "OSMagics",
        "doctest_mode": "BasicMagics",
        "ed": "Other",
        "edit": "KernelMagics",
        "env": "OSMagics",
        "gui": "BasicMagics",
        "hist": "Other",
        "history": "HistoryMagics",
        "install_default_config": "DeprecatedMagics",
        "install_ext": "ExtensionMagics",
        "install_profiles": "DeprecatedMagics",
        "killbgscripts": "ScriptMagics",
        "ldir": "Other",
        "less": "KernelMagics",
        "lf": "Other",
        "lk": "Other",
        "ll": "Other",
        "load": "CodeMagics",
        "load_ext": "ExtensionMagics",
        "loadpy": "CodeMagics",
        "logoff": "LoggingMagics",
        "logon": "LoggingMagics",
        "logstart": "LoggingMagics",
        "logstate": "LoggingMagics",
        "logstop": "LoggingMagics",
        "ls": "Other",
        "lsmagic": "BasicMagics",
        "lx": "Other",
        "macro": "ExecutionMagics",
        "magic": "BasicMagics",
        "man": "KernelMagics",
        "matplotlib": "PylabMagics",
        "mkdir": "Other",
        "more": "KernelMagics",
        "mv": "Other",
        "notebook": "BasicMagics",
        "page": "BasicMagics",
        "pastebin": "CodeMagics",
        "pdb": "ExecutionMagics",
        "pdef": "NamespaceMagics",
        "pdoc": "NamespaceMagics",
        "pfile": "NamespaceMagics",
        "pinfo": "NamespaceMagics",
        "pinfo2": "NamespaceMagics",
        "popd": "OSMagics",
        "pprint": "BasicMagics",
        "precision": "BasicMagics",
        "profile": "BasicMagics",
        "prun": "ExecutionMagics",
        "psearch": "NamespaceMagics",
        "psource": "NamespaceMagics",
        "pushd": "OSMagics",
        "pwd": "OSMagics",
        "pycat": "OSMagics",
        "pylab": "PylabMagics",
        "qtconsole": "KernelMagics",
        "quickref": "BasicMagics",
        "recall": "HistoryMagics",
        "rehashx": "OSMagics",
        "reload_ext": "ExtensionMagics",
        "rep": "Other",
        "rerun": "HistoryMagics",
        "reset": "NamespaceMagics",
        "reset_selective": "NamespaceMagics",
        "rm": "Other",
        "rmdir": "Other",
        "run": "ExecutionMagics",
        "save": "CodeMagics",
        "sc": "OSMagics",
        "set_env": "OSMagics",
        "store": "StoreMagics",
        "sx": "OSMagics",
        "system": "OSMagics",
        "tb": "ExecutionMagics",
        "time": "ExecutionMagics",
        "timeit": "ExecutionMagics",
        "unalias": "OSMagics",
        "unload_ext": "ExtensionMagics",
        "who": "NamespaceMagics",
        "who_ls": "NamespaceMagics",
        "whos": "NamespaceMagics",
        "xdel": "NamespaceMagics",
        "xmode": "BasicMagics"
       }
      },
      "text/plain": [
       "Available line magics:\n",
       "%alias  %alias_magic  %autocall  %automagic  %autosave  %bookmark  %cat  %cd  %clear  %colors  %config  %connect_info  %cp  %debug  %dhist  %dirs  %doctest_mode  %ed  %edit  %env  %gui  %hist  %history  %install_default_config  %install_ext  %install_profiles  %killbgscripts  %ldir  %less  %lf  %lk  %ll  %load  %load_ext  %loadpy  %logoff  %logon  %logstart  %logstate  %logstop  %ls  %lsmagic  %lx  %macro  %magic  %man  %matplotlib  %mkdir  %more  %mv  %notebook  %page  %pastebin  %pdb  %pdef  %pdoc  %pfile  %pinfo  %pinfo2  %popd  %pprint  %precision  %profile  %prun  %psearch  %psource  %pushd  %pwd  %pycat  %pylab  %qtconsole  %quickref  %recall  %rehashx  %reload_ext  %rep  %rerun  %reset  %reset_selective  %rm  %rmdir  %run  %save  %sc  %set_env  %store  %sx  %system  %tb  %time  %timeit  %unalias  %unload_ext  %who  %who_ls  %whos  %xdel  %xmode\n",
       "\n",
       "Available cell magics:\n",
       "%%!  %%HTML  %%SVG  %%bash  %%capture  %%debug  %%file  %%html  %%javascript  %%latex  %%perl  %%prun  %%pypy  %%python  %%python2  %%python3  %%ruby  %%script  %%sh  %%svg  %%sx  %%system  %%time  %%timeit  %%writefile\n",
       "\n",
       "Automagic is ON, % prefix IS NOT needed for line magics."
      ]
     },
     "execution_count": 81,
     "metadata": {},
     "output_type": "execute_result"
    }
   ],
   "source": [
    "%lsmagic"
   ]
  },
  {
   "cell_type": "code",
   "execution_count": 83,
   "metadata": {
    "collapsed": false
   },
   "outputs": [
    {
     "name": "stdout",
     "output_type": "stream",
     "text": [
      "The slowest run took 7.13 times longer than the fastest. This could mean that an intermediate result is being cached \n",
      "100000 loops, best of 3: 2.24 µs per loop\n",
      "100000 loops, best of 3: 11.5 µs per loop\n"
     ]
    }
   ],
   "source": [
    "%timeit np.arange(0,1000)\n",
    "%timeit range(0,1000)"
   ]
  },
  {
   "cell_type": "markdown",
   "metadata": {},
   "source": [
    "# SciPy"
   ]
  },
  {
   "cell_type": "code",
   "execution_count": 132,
   "metadata": {
    "collapsed": false
   },
   "outputs": [
    {
     "data": {
      "text/plain": [
       "5.0"
      ]
     },
     "execution_count": 132,
     "metadata": {},
     "output_type": "execute_result"
    }
   ],
   "source": [
    "from scipy import optimize\n",
    "def f(x):\n",
    "    return (x[0]-3.)**2+3*(x[1]-4)+5\n",
    "f([3,4])"
   ]
  },
  {
   "cell_type": "code",
   "execution_count": 133,
   "metadata": {
    "collapsed": true
   },
   "outputs": [],
   "source": [
    "min = optimize.minimize(f, [30,5])"
   ]
  },
  {
   "cell_type": "code",
   "execution_count": 134,
   "metadata": {
    "collapsed": false
   },
   "outputs": [
    {
     "data": {
      "text/plain": [
       "   status: 0\n",
       "  success: True\n",
       "     njev: 34\n",
       "     nfev: 136\n",
       " hess_inv: array([[ -7.00970523e-03,  -3.82252322e+07],\n",
       "       [ -3.82252322e+07,   1.44344068e+18]])\n",
       "      fun: -637152563.12112546\n",
       "        x: array([  2.92094821e+00,  -2.12384185e+08])\n",
       "  message: 'Optimization terminated successfully.'\n",
       "      jac: array([ 0.,  0.])\n",
       "      nit: 4"
      ]
     },
     "execution_count": 134,
     "metadata": {},
     "output_type": "execute_result"
    }
   ],
   "source": [
    "min"
   ]
  },
  {
   "cell_type": "code",
   "execution_count": 135,
   "metadata": {
    "collapsed": false
   },
   "outputs": [
    {
     "data": {
      "text/plain": [
       "array([  2.92094821e+00,  -2.12384185e+08])"
      ]
     },
     "execution_count": 135,
     "metadata": {},
     "output_type": "execute_result"
    }
   ],
   "source": [
    "min.x"
   ]
  },
  {
   "cell_type": "markdown",
   "metadata": {},
   "source": [
    "# Linalg"
   ]
  },
  {
   "cell_type": "code",
   "execution_count": 111,
   "metadata": {
    "collapsed": true
   },
   "outputs": [],
   "source": [
    "from scipy import linalg"
   ]
  },
  {
   "cell_type": "code",
   "execution_count": 114,
   "metadata": {
    "collapsed": false
   },
   "outputs": [
    {
     "name": "stdout",
     "output_type": "stream",
     "text": [
      "[ 1.52668539  0.5386236  -0.40098315]\n"
     ]
    }
   ],
   "source": [
    "a = np.array([[1,2,4], [12, 34, 34], [22,3,3]])\n",
    "b = np.array([1,23,34])\n",
    "result = linalg.solve(a,b)\n",
    "print result"
   ]
  },
  {
   "cell_type": "code",
   "execution_count": 115,
   "metadata": {
    "collapsed": false
   },
   "outputs": [
    {
     "name": "stdout",
     "output_type": "stream",
     "text": [
      "[  1.  23.  34.]\n"
     ]
    }
   ],
   "source": [
    "print np.dot(a,result)"
   ]
  },
  {
   "cell_type": "markdown",
   "metadata": {},
   "source": [
    "## сингулярное разложение матриц"
   ]
  },
  {
   "cell_type": "code",
   "execution_count": 121,
   "metadata": {
    "collapsed": false
   },
   "outputs": [
    {
     "name": "stdout",
     "output_type": "stream",
     "text": [
      "[[-0.02725323  0.25495239 -0.22946046]\n",
      " [-0.97577849 -0.40291046 -0.81700175]\n",
      " [-0.85490477  0.38693327  1.81296325]\n",
      " [-0.53876345  1.06700521  0.78290925]]\n",
      "(4, 3)\n"
     ]
    }
   ],
   "source": [
    "matrix = np.random.randn(4,3)\n",
    "print matrix\n",
    "print matrix.shape"
   ]
  },
  {
   "cell_type": "code",
   "execution_count": 122,
   "metadata": {
    "collapsed": false
   },
   "outputs": [
    {
     "name": "stdout",
     "output_type": "stream",
     "text": [
      "(4, 4) (3,) (3, 3)\n"
     ]
    }
   ],
   "source": [
    "U,D,V = linalg.svd(matrix)\n",
    "print U.shape, D.shape, V.shape"
   ]
  },
  {
   "cell_type": "markdown",
   "metadata": {},
   "source": [
    "# MatPlotLib"
   ]
  },
  {
   "cell_type": "code",
   "execution_count": 123,
   "metadata": {
    "collapsed": true
   },
   "outputs": [],
   "source": [
    "%matplotlib inline"
   ]
  },
  {
   "cell_type": "code",
   "execution_count": 124,
   "metadata": {
    "collapsed": true
   },
   "outputs": [],
   "source": [
    "from matplotlib import pylab as plt"
   ]
  },
  {
   "cell_type": "code",
   "execution_count": 125,
   "metadata": {
    "collapsed": false
   },
   "outputs": [
    {
     "data": {
      "image/png": "[encoded data removed]",
      "text/plain": [
       "<matplotlib.figure.Figure at 0x10a27bbd0>"
      ]
     },
     "metadata": {},
     "output_type": "display_data"
    }
   ],
   "source": [
    "plt.plot([1,2,34,45,23], [2,324,4,34,543])\n",
    "plt.show()"
   ]
  },
  {
   "cell_type": "markdown",
   "metadata": {},
   "source": [
    "# ALL Together!!!"
   ]
  },
  {
   "cell_type": "code",
   "execution_count": 126,
   "metadata": {
    "collapsed": true
   },
   "outputs": [],
   "source": [
    "from scipy import interpolate"
   ]
  },
  {
   "cell_type": "code",
   "execution_count": 127,
   "metadata": {
    "collapsed": false
   },
   "outputs": [
    {
     "name": "stdout",
     "output_type": "stream",
     "text": [
      "[0 2 4 6 8] [ 1.          0.51341712  0.26359714  0.13533528  0.06948345]\n"
     ]
    }
   ],
   "source": [
    "x = np.arange(0,10, 2)\n",
    "y = np.exp(-x/3.0)\n",
    "print x[:5], y[:5]"
   ]
  },
  {
   "cell_type": "code",
   "execution_count": 131,
   "metadata": {
    "collapsed": false
   },
   "outputs": [
    {
     "data": {
      "image/png": "[encoded data removed]",
      "text/plain": [
       "<matplotlib.figure.Figure at 0x10bed15d0>"
      ]
     },
     "metadata": {},
     "output_type": "display_data"
    }
   ],
   "source": [
    "f = interpolate.interp1d(x,y, kind = \"quadratic\")\n",
    "x_new = np.arange(0,8,0.1)\n",
    "y_new = f(x_new)\n",
    "plt.plot(x,y,'o', x_new, y_new, \"-\")\n",
    "plt.show()"
   ]
  },
  {
   "cell_type": "markdown",
   "metadata": {},
   "source": [
    "# Оптимизационные задачи в SciPy"
   ]
  },
  {
   "cell_type": "code",
   "execution_count": 136,
   "metadata": {
    "collapsed": false
   },
   "outputs": [
    {
     "name": "stdout",
     "output_type": "stream",
     "text": [
      "0.0\n"
     ]
    }
   ],
   "source": [
    "#rosenbrock function\n",
    "from scipy import optimize\n",
    "\n",
    "def f(x):\n",
    "    return 0.5*(1-x[0])**2 + (x[1]-x[0]**2)**2\n",
    "\n",
    "print f([1,1])"
   ]
  },
  {
   "cell_type": "code",
   "execution_count": 139,
   "metadata": {
    "collapsed": false
   },
   "outputs": [
    {
     "name": "stdout",
     "output_type": "stream",
     "text": [
      "[ 0.99999324  1.00001283]\n"
     ]
    }
   ],
   "source": [
    "min = optimize.brute(f, ((-5,5), (-5,5)))\n",
    "print min"
   ]
  },
  {
   "cell_type": "code",
   "execution_count": 140,
   "metadata": {
    "collapsed": false
   },
   "outputs": [
    {
     "name": "stdout",
     "output_type": "stream",
     "text": [
      "    nfev: 2103\n",
      " success: True\n",
      "     fun: 1.4357658078139323e-21\n",
      "       x: array([ 1.,  1.])\n",
      " message: 'Optimization terminated successfully.'\n",
      "     nit: 69\n"
     ]
    }
   ],
   "source": [
    "print optimize.differential_evolution(f, ((-5,5), (-5,5)))"
   ]
  },
  {
   "cell_type": "markdown",
   "metadata": {},
   "source": [
    "# Градиентные методы оптимизации"
   ]
  },
  {
   "cell_type": "code",
   "execution_count": 144,
   "metadata": {
    "collapsed": false
   },
   "outputs": [
    {
     "name": "stdout",
     "output_type": "stream",
     "text": [
      "2.38418579102e-07\n"
     ]
    }
   ],
   "source": [
    "def g(x):\n",
    "    return np.array([(x[0]-1)-4*(x[1]-x[0]**2)*x[0], 2*(x[1]-x[0]**2)])\n",
    "\n",
    "print optimize.check_grad(f,g,[2,2])"
   ]
  },
  {
   "cell_type": "code",
   "execution_count": 145,
   "metadata": {
    "collapsed": false
   },
   "outputs": [
    {
     "name": "stdout",
     "output_type": "stream",
     "text": [
      "Optimization terminated successfully.\n",
      "         Current function value: 0.000000\n",
      "         Iterations: 16\n",
      "         Function evaluations: 24\n",
      "         Gradient evaluations: 24\n",
      "[ 1.00000017  1.00000026]\n"
     ]
    }
   ],
   "source": [
    "print optimize.fmin_bfgs(f, [2,2], fprime=g)"
   ]
  },
  {
   "cell_type": "code",
   "execution_count": 146,
   "metadata": {
    "collapsed": false
   },
   "outputs": [
    {
     "name": "stdout",
     "output_type": "stream",
     "text": [
      "   status: 0\n",
      "  success: True\n",
      "     njev: 24\n",
      "     nfev: 96\n",
      " hess_inv: array([[ 0.98632031,  1.97824298],\n",
      "       [ 1.97824298,  4.46512254]])\n",
      "      fun: 9.536835216356594e-15\n",
      "        x: array([ 1.00000007,  1.00000005])\n",
      "  message: 'Optimization terminated successfully.'\n",
      "      jac: array([  4.74151523e-07,  -1.53924328e-07])\n",
      "      nit: 16\n"
     ]
    }
   ],
   "source": [
    "print optimize.minimize(f, [2,2])"
   ]
  },
  {
   "cell_type": "code",
   "execution_count": 149,
   "metadata": {
    "collapsed": false
   },
   "outputs": [
    {
     "name": "stdout",
     "output_type": "stream",
     "text": [
      "   status: 0\n",
      "  success: True\n",
      "     njev: 24\n",
      "     nfev: 24\n",
      " hess_inv: array([[ 0.98632014,  1.97824322],\n",
      "       [ 1.97824322,  4.46512386]])\n",
      "      fun: 1.9753570833042e-14\n",
      "        x: array([ 1.00000017,  1.00000026])\n",
      "  message: 'Optimization terminated successfully.'\n",
      "      jac: array([  4.74186625e-07,  -1.53939016e-07])\n",
      "      nit: 16\n"
     ]
    }
   ],
   "source": [
    "print optimize.minimize(f, [2,2], method=\"BFGS\", jac = g)"
   ]
  },
  {
   "cell_type": "code",
   "execution_count": 150,
   "metadata": {
    "collapsed": false
   },
   "outputs": [
    {
     "name": "stdout",
     "output_type": "stream",
     "text": [
      "  status: 0\n",
      "    nfev: 91\n",
      " success: True\n",
      "     fun: 1.2311995365407462e-10\n",
      "       x: array([ 0.99998568,  0.99996682])\n",
      " message: 'Optimization terminated successfully.'\n",
      "     nit: 46\n"
     ]
    }
   ],
   "source": [
    "print optimize.minimize(f, [2,2], method=\"Nelder-Mead\")"
   ]
  },
  {
   "cell_type": "code",
   "execution_count": 9,
   "metadata": {
    "collapsed": false
   },
   "outputs": [
    {
     "data": {
      "text/plain": [
       "'1.9.2'"
      ]
     },
     "execution_count": 9,
     "metadata": {},
     "output_type": "execute_result"
    }
   ],
   "source": [
    "import numpy\n",
    "numpy.__version__"
   ]
  },
  {
   "cell_type": "code",
   "execution_count": 10,
   "metadata": {
    "collapsed": false
   },
   "outputs": [
    {
     "data": {
      "text/plain": [
       "'0.16.0'"
      ]
     },
     "execution_count": 10,
     "metadata": {},
     "output_type": "execute_result"
    }
   ],
   "source": [
    "import scipy\n",
    "scipy.__version__"
   ]
  },
  {
   "cell_type": "code",
   "execution_count": 11,
   "metadata": {
    "collapsed": false
   },
   "outputs": [
    {
     "data": {
      "text/plain": [
       "'0.16.2'"
      ]
     },
     "execution_count": 11,
     "metadata": {},
     "output_type": "execute_result"
    }
   ],
   "source": [
    "import pandas\n",
    "pandas.__version__"
   ]
  },
  {
   "cell_type": "code",
   "execution_count": 12,
   "metadata": {
    "collapsed": false
   },
   "outputs": [
    {
     "data": {
      "text/plain": [
       "'1.4.3'"
      ]
     },
     "execution_count": 12,
     "metadata": {},
     "output_type": "execute_result"
    }
   ],
   "source": [
    "import matplotlib\n",
    "matplotlib.__version__"
   ]
  },
  {
   "cell_type": "code",
   "execution_count": null,
   "metadata": {
    "collapsed": true
   },
   "outputs": [],
   "source": []
  }
 ],
 "metadata": {
  "kernelspec": {
   "display_name": "Python 2",
   "language": "python",
   "name": "python2"
  },
  "language_info": {
   "codemirror_mode": {
    "name": "ipython",
    "version": 2
   },
   "file_extension": ".py",
   "mimetype": "text/x-python",
   "name": "python",
   "nbconvert_exporter": "python",
   "pygments_lexer": "ipython2",
   "version": "2.7.10"
  }
 },
 "nbformat": 4,
 "nbformat_minor": 0
}
