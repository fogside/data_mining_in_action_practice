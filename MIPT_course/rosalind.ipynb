{
 "cells": [
  {
   "cell_type": "code",
   "execution_count": 1,
   "metadata": {
    "collapsed": true
   },
   "outputs": [],
   "source": [
    "s = \"HumptyDumptysatonawallHumptyDumptyhadagreatfallAlltheKingshorsesandalltheKingsmenCouldntputHumptyDumptyinhisplaceagain.\""
   ]
  },
  {
   "cell_type": "code",
   "execution_count": 4,
   "metadata": {
    "collapsed": true
   },
   "outputs": [],
   "source": [
    "def fun(a,b,c,d,st):\n",
    "    return st[a:b+1]+' '+st[c:d+1]"
   ]
  },
  {
   "cell_type": "code",
   "execution_count": 5,
   "metadata": {
    "collapsed": false
   },
   "outputs": [
    {
     "data": {
      "text/plain": [
       "'Humpty Dumpty'"
      ]
     },
     "execution_count": 5,
     "metadata": {},
     "output_type": "execute_result"
    }
   ],
   "source": [
    "fun(22,27,97,102,s)"
   ]
  },
  {
   "cell_type": "code",
   "execution_count": 6,
   "metadata": {
    "collapsed": true
   },
   "outputs": [],
   "source": [
    "d = \"8TkWcRJx7iJpM08oX9ses2439LJ4Anthropoidaebd3bM9v1HAjV9hKGWEVqtUc4myqWwd9COJQMv7d86EyvVh1ChNEkZH6xHDjWlTqUWN672DRhQc1Plnb4aX1lUflzhv1n9XioQdXgVyxIboKYOKaZFSaqJMxkmoOm7y9TKtdionegLhtxoxDeOUPrSLl.\""
   ]
  },
  {
   "cell_type": "code",
   "execution_count": 7,
   "metadata": {
    "collapsed": false
   },
   "outputs": [
    {
     "data": {
      "text/plain": [
       "'Anthropoidae dione'"
      ]
     },
     "execution_count": 7,
     "metadata": {},
     "output_type": "execute_result"
    }
   ],
   "source": [
    "fun(28,39,170,174,d)"
   ]
  },
  {
   "cell_type": "code",
   "execution_count": 13,
   "metadata": {
    "collapsed": false
   },
   "outputs": [],
   "source": [
    "def odd_num(a,b):\n",
    "    return sum([x for x in xrange(a,b+1) if x%2 == 1])"
   ]
  },
  {
   "cell_type": "code",
   "execution_count": 16,
   "metadata": {
    "collapsed": false
   },
   "outputs": [
    {
     "data": {
      "text/plain": [
       "13045608"
      ]
     },
     "execution_count": 16,
     "metadata": {},
     "output_type": "execute_result"
    }
   ],
   "source": [
    "odd_num(4018,8265)"
   ]
  },
  {
   "cell_type": "code",
   "execution_count": 18,
   "metadata": {
    "collapsed": false
   },
   "outputs": [
    {
     "name": "stdout",
     "output_type": "stream",
     "text": [
      "1_2_weeks.ipynb                Untitled.ipynb                 \u001b[34mteachers'\u001b[m\u001b[m\r\n",
      "HomeWork#1_cats.ipynb          cats.txt                       text.txt\r\n",
      "HomeWork#2_interpolation.ipynb rosalind.ipynb\r\n"
     ]
    }
   ],
   "source": [
    "!ls"
   ]
  },
  {
   "cell_type": "code",
   "execution_count": 23,
   "metadata": {
    "collapsed": false
   },
   "outputs": [
    {
     "name": "stdout",
     "output_type": "stream",
     "text": [
      "Some things in life are bad, they can really make you mad\n",
      "\n",
      "Other things just make you swear and curse\n",
      "\n",
      "When you're chewing on life's gristle, don't grumble give a whistle\n",
      "\n",
      "This will help things turn out for the best\n",
      "\n",
      "Always look on the bright side of life\n",
      "\n",
      "Always look on the right side of life\n",
      "\n",
      "If life seems jolly rotten, there's something you've forgotten\n",
      "\n",
      "And that's to laugh and smile and dance and sing\n",
      "\n",
      "When you're feeling in the dumps, don't be silly, chumps\n",
      "\n",
      "Just purse your lips and whistle, that's the thing\n",
      "\n",
      "So, always look on the bright side of death\n",
      "\n",
      "Just before you draw your terminal breath\n",
      "\n",
      "Life's a counterfeit and when you look at it\n",
      "\n",
      "Life's a laugh and death's the joke, it's true\n",
      "\n",
      "You see, it's all a show, keep them laughing as you go\n",
      "\n",
      "Just remember the last laugh is on you\n",
      "\n",
      "Always look on the bright side of life\n",
      "\n",
      "And always look on the right side of life\n",
      "\n",
      "Always look on the bright side of life\n",
      "\n",
      "And always look on the right side of life\n",
      "\n"
     ]
    }
   ],
   "source": [
    "f = open(\"text.txt\", \"r\")\n",
    "txt = f.readlines()\n",
    "result = [txt[i] for i in xrange(0, len(txt)) if i%2 == 1]\n",
    "for st in result:\n",
    "    print st"
   ]
  },
  {
   "cell_type": "code",
   "execution_count": 47,
   "metadata": {
    "collapsed": true
   },
   "outputs": [],
   "source": [
    "string = \"We tried list and we tried dicts also we tried Zen\"\n",
    "\n",
    "def count_it(s):\n",
    "    res_dic = dict.fromkeys(set(s.split(\" \")), 0)\n",
    "    for word in s.split(\" \"):\n",
    "        res_dic[word] = res_dic[word] + 1\n",
    "    for mur in res_dic:\n",
    "        print mur, res_dic[mur]"
   ]
  },
  {
   "cell_type": "code",
   "execution_count": 31,
   "metadata": {
    "collapsed": false
   },
   "outputs": [],
   "source": [
    "res_dic = dict.fromkeys(set(string.split(\" \")),0)"
   ]
  },
  {
   "cell_type": "code",
   "execution_count": 46,
   "metadata": {
    "collapsed": false
   },
   "outputs": [
    {
     "name": "stdout",
     "output_type": "stream",
     "text": [
      "and 0\n",
      "also 0\n",
      "We 0\n",
      "tried 0\n",
      "dicts 0\n",
      "list 0\n",
      "Zen 0\n",
      "we 0\n"
     ]
    }
   ],
   "source": [
    "for i in res_dic:\n",
    "    print i, res_dic[i]"
   ]
  },
  {
   "cell_type": "code",
   "execution_count": 48,
   "metadata": {
    "collapsed": false
   },
   "outputs": [
    {
     "name": "stdout",
     "output_type": "stream",
     "text": [
      "and 1\n",
      "also 1\n",
      "We 1\n",
      "tried 3\n",
      "dicts 1\n",
      "list 1\n",
      "Zen 1\n",
      "we 2\n"
     ]
    }
   ],
   "source": [
    "count_it(string)"
   ]
  },
  {
   "cell_type": "code",
   "execution_count": 49,
   "metadata": {
    "collapsed": true
   },
   "outputs": [],
   "source": [
    "longstr = \"When I find myself in times of trouble Mother Mary comes to me Speaking words of wisdom let it be And in my hour of darkness she is standing right in front of me Speaking words of wisdom let it be Let it be let it be let it be let it be Whisper words of wisdom let it be And when the broken hearted people living in the world agree There will be an answer let it be For though they may be parted there is still a chance that they will see There will be an answer let it be Let it be let it be let it be let it be There will be an answer let it be Let it be let it be let it be let it be Whisper words of wisdom let it be Let it be let it be let it be let it be Whisper words of wisdom let it be And when the night is cloudy there is still a light that shines on me Shine until tomorrow let it be I wake up to the sound of music Mother Mary comes to me Speaking words of wisdom let it be Let it be let it be let it be yeah let it be There will be an answer let it be Let it be let it be let it be yeah let it be Whisper words of wisdom let it be\""
   ]
  },
  {
   "cell_type": "code",
   "execution_count": 50,
   "metadata": {
    "collapsed": false
   },
   "outputs": [
    {
     "name": "stdout",
     "output_type": "stream",
     "text": [
      "parted 1\n",
      "right 1\n",
      "words 7\n",
      "For 1\n",
      "people 1\n",
      "sound 1\n",
      "is 4\n",
      "There 4\n",
      "When 1\n",
      "it 36\n",
      "an 4\n",
      "see 1\n",
      "in 4\n",
      "hearted 1\n",
      "shines 1\n",
      "still 2\n",
      "Mary 2\n",
      "Speaking 3\n",
      "standing 1\n",
      "living 1\n",
      "darkness 1\n",
      "there 2\n",
      "when 2\n",
      "find 1\n",
      "to 3\n",
      "Let 6\n",
      "answer 4\n",
      "music 1\n",
      "until 1\n",
      "Shine 1\n",
      "be 41\n",
      "tomorrow 1\n",
      "that 2\n",
      "may 1\n",
      "of 11\n",
      "me 4\n",
      "wisdom 7\n",
      "broken 1\n",
      "chance 1\n",
      "let 30\n",
      "a 2\n",
      "they 2\n",
      "Mother 2\n",
      "front 1\n",
      "world 1\n",
      "trouble 1\n",
      "And 3\n",
      "on 1\n",
      "myself 1\n",
      "I 2\n",
      "hour 1\n",
      "light 1\n",
      "yeah 2\n",
      "up 1\n",
      "cloudy 1\n",
      "times 1\n",
      "will 5\n",
      "she 1\n",
      "though 1\n",
      "night 1\n",
      "wake 1\n",
      "the 4\n",
      "my 1\n",
      "agree 1\n",
      "comes 2\n",
      "Whisper 4\n"
     ]
    }
   ],
   "source": [
    "count_it(longstr)"
   ]
  },
  {
   "cell_type": "code",
   "execution_count": 67,
   "metadata": {
    "collapsed": false
   },
   "outputs": [],
   "source": [
    "dna = \"AGCTTTTCATTCTGACTGCAACGGGCAATATGTCTCTGTGTGGATTAAAAAAAGAGTGTCTGATAGCAGC\"\n",
    "def dna_(string):\n",
    "    dic = dict.fromkeys([\"A\",\"C\",\"G\",\"T\"],0)\n",
    "    for i in string:\n",
    "        dic[i]=dic[i]+1\n",
    "    print dic[\"A\"], dic[\"C\"], dic[\"G\"], dic[\"T\"]"
   ]
  },
  {
   "cell_type": "code",
   "execution_count": 68,
   "metadata": {
    "collapsed": false
   },
   "outputs": [
    {
     "name": "stdout",
     "output_type": "stream",
     "text": [
      "20 12 17 21\n"
     ]
    }
   ],
   "source": [
    "dna_(dna)"
   ]
  },
  {
   "cell_type": "code",
   "execution_count": 76,
   "metadata": {
    "collapsed": false
   },
   "outputs": [
    {
     "data": {
      "text/plain": [
       "'GAUGGAACUUGACUACGUAAAUU'"
      ]
     },
     "execution_count": 76,
     "metadata": {},
     "output_type": "execute_result"
    }
   ],
   "source": [
    "def replaceT(s):\n",
    "    dic = {\"A\":\"A\",\"C\":\"C\",\"G\":\"G\",\"T\":\"U\"}\n",
    "    return \"\".join([dic[ch] for ch in s])\n",
    "\n",
    "t1 = \"GATGGAACTTGACTACGTAAATT\"\n",
    "\n",
    "replaceT(t1)"
   ]
  },
  {
   "cell_type": "code",
   "execution_count": 77,
   "metadata": {
    "collapsed": true
   },
   "outputs": [],
   "source": [
    "rna = \"ACCCCAGGAAGTTTCGAAGCTACCTCAAACACAAAACAAGTAGCCATGTAGTCTGTGAGAGCACTGCAATCTCTAGCAACCCGGCGGGGCTTTTTAAGCACTCGCAATCCATGTGGTTCAACACCACGGGGGGTTGGTGTTTCAACAAAATATATCTTGCGGACCGTGGCGCTTCCCCGGCGTTATGGAGAAGGCAAAATACGCAGAAGACTAGTGGCGTTACGACCGTCTCTTAGGACACCGAACCGCTATGATGATCTGAAACGGGGCCAGCTTAAGAGTGCCCTCGTCGTCGTACTCCCGGTTCGCTGCGGGACTTTTGCGGTAAATTTAAGTACTTTCATCGTTTTCTATCCCCCCTTAATATAACGGCTGTGAGTGCGCGTGAAACCCGTTTATCGAATCCAAGGCGACGCGCCACCCACCTCTCTCCGCTGACCCCCGAATCATCAGCCCCGCGTATGGCCATATAATTCGGGCCCACGACATTGCTCGCAGGGGAGGTATCGCGTCCCGGTGGACAAAGTCTAGCGCATATGACAGCGATAAAGTCTTCGGCGCGTCCGTATAATTCGATCAAGAAAGCTTCATAGGGAACCCCGCGCCGTCTATGACAAGGGGGTACCAGCTTCTACGGTATACTTGGTATTATTACACTAAAATATGGCTTAAATACTCGGGAATGTTTCAGATGCTCCTAGTGCGGTCGGAAGAGCCACCTTCTCCCGGCGGTGACGAGTGCCTACTTATCCTATAGCTTGTATGCGGTCTATTTTTTCGTCGGATTCTGACCTACAATTCAGGGTGATGACATAGGTCGTTGGGTAGTAAATCTCGTAAAAAAAAACTCGAGTGCCCAGACACACTTAATCACGGTGCAGGCTACCGATTTGCGACAGTCGTAAGAGCGAGTTTTTGCGTTTACCCATCACTAGGGGTTCGATAAAGAAAATC\""
   ]
  },
  {
   "cell_type": "code",
   "execution_count": 78,
   "metadata": {
    "collapsed": false
   },
   "outputs": [
    {
     "data": {
      "text/plain": [
       "'ACCCCAGGAAGUUUCGAAGCUACCUCAAACACAAAACAAGUAGCCAUGUAGUCUGUGAGAGCACUGCAAUCUCUAGCAACCCGGCGGGGCUUUUUAAGCACUCGCAAUCCAUGUGGUUCAACACCACGGGGGGUUGGUGUUUCAACAAAAUAUAUCUUGCGGACCGUGGCGCUUCCCCGGCGUUAUGGAGAAGGCAAAAUACGCAGAAGACUAGUGGCGUUACGACCGUCUCUUAGGACACCGAACCGCUAUGAUGAUCUGAAACGGGGCCAGCUUAAGAGUGCCCUCGUCGUCGUACUCCCGGUUCGCUGCGGGACUUUUGCGGUAAAUUUAAGUACUUUCAUCGUUUUCUAUCCCCCCUUAAUAUAACGGCUGUGAGUGCGCGUGAAACCCGUUUAUCGAAUCCAAGGCGACGCGCCACCCACCUCUCUCCGCUGACCCCCGAAUCAUCAGCCCCGCGUAUGGCCAUAUAAUUCGGGCCCACGACAUUGCUCGCAGGGGAGGUAUCGCGUCCCGGUGGACAAAGUCUAGCGCAUAUGACAGCGAUAAAGUCUUCGGCGCGUCCGUAUAAUUCGAUCAAGAAAGCUUCAUAGGGAACCCCGCGCCGUCUAUGACAAGGGGGUACCAGCUUCUACGGUAUACUUGGUAUUAUUACACUAAAAUAUGGCUUAAAUACUCGGGAAUGUUUCAGAUGCUCCUAGUGCGGUCGGAAGAGCCACCUUCUCCCGGCGGUGACGAGUGCCUACUUAUCCUAUAGCUUGUAUGCGGUCUAUUUUUUCGUCGGAUUCUGACCUACAAUUCAGGGUGAUGACAUAGGUCGUUGGGUAGUAAAUCUCGUAAAAAAAAACUCGAGUGCCCAGACACACUUAAUCACGGUGCAGGCUACCGAUUUGCGACAGUCGUAAGAGCGAGUUUUUGCGUUUACCCAUCACUAGGGGUUCGAUAAAGAAAAUC'"
      ]
     },
     "execution_count": 78,
     "metadata": {},
     "output_type": "execute_result"
    }
   ],
   "source": [
    "replaceT(rna)"
   ]
  },
  {
   "cell_type": "code",
   "execution_count": 86,
   "metadata": {
    "collapsed": true
   },
   "outputs": [],
   "source": [
    "def reverse_compl(s):\n",
    "    dic = {\"A\":\"T\",\"C\":\"G\",\"G\":\"C\",\"T\":\"A\"}\n",
    "    rev = s[::-1]\n",
    "    return \"\".join([dic[ch] for ch in rev])"
   ]
  },
  {
   "cell_type": "code",
   "execution_count": 87,
   "metadata": {
    "collapsed": false
   },
   "outputs": [
    {
     "data": {
      "text/plain": [
       "'ACCGGGTTTT'"
      ]
     },
     "execution_count": 87,
     "metadata": {},
     "output_type": "execute_result"
    }
   ],
   "source": [
    "k = \"AAAACCCGGT\"\n",
    "reverse_compl(k)"
   ]
  },
  {
   "cell_type": "code",
   "execution_count": 88,
   "metadata": {
    "collapsed": true
   },
   "outputs": [],
   "source": [
    "test = \"CAGCGTAATCCTGTTACGCCCTCACGTGCGAAAGCTATTGGGCACCTATGCTCTATCATGCTAGAGTAATAACAGAAACGATAGGTAATCAGGGTGGTACGTCCTTTCAACCCGATTGGGCAGCATGTCATTATCGTGAGCTATCTAACCCTTGCACATATCTATATACACCAGTAGCCACTTAATCTAATCTACCCGAGCCGCCCTGGACTACGGACGTGATTGTTTGATTGCGAGATGACTTTAGAGATAGCGGGAATGAATCGAGACTAGGGGTGCTTAAACTCGGGTTTGACATAGCTGCCCTTTCTGACTCTGAATATAAGAAAGACTGGGCAATGCATATGTCGGAAGAAGCGTCAACTGATACTCGTTTCTTTTTACTTACGCAGCTACCACAGACGAACCAAAACAAACATGTAACTGAGGTTTCTTCCAGGTGCATTCGCGTGAGACCTACCTCAACCTATAATGGAATTTCACTGCGTCCGTGGCTGAATACTACTAACGAGTTAGTCTGTATAATTATGAAGCGACAGGTAATGGTCACGTTGTGCTATCCAAGGTACATTGGTGCCGTCCATTTCCCATATCCTCCAACGGAGTACACCACAGAAGCGTTTCATTCGACGATAGTGCAGAAGTCTGCGGCCATTGAGCATTGAGACTATACTATATGCTGTATTCACTAGACGGGTGAGTCGCTTGCTTCGCCGCGCACACAGCAATCGGTAGGGGTATTACATGACAACACTAACTCTGAGAAGTCGGGTTCCACTCTTGGTACTTAGGGCGCCAAAAATTGAATTAGGACAACAACGGTAGCCAGGTGTCTTAACCTAGGTACCTCGCAAGAAGGCGGGTGACGCAGTTACATGATCAGAGGGCGGTGTACGTGAAATGTCATCAGATAAAGGCCGAACGCGAAAGGCTTTAGCAATTCAGATGCTGCTTTCCCGTCAGTGCGTTCTC\""
   ]
  },
  {
   "cell_type": "code",
   "execution_count": 89,
   "metadata": {
    "collapsed": false
   },
   "outputs": [
    {
     "data": {
      "text/plain": [
       "'GAGAACGCACTGACGGGAAAGCAGCATCTGAATTGCTAAAGCCTTTCGCGTTCGGCCTTTATCTGATGACATTTCACGTACACCGCCCTCTGATCATGTAACTGCGTCACCCGCCTTCTTGCGAGGTACCTAGGTTAAGACACCTGGCTACCGTTGTTGTCCTAATTCAATTTTTGGCGCCCTAAGTACCAAGAGTGGAACCCGACTTCTCAGAGTTAGTGTTGTCATGTAATACCCCTACCGATTGCTGTGTGCGCGGCGAAGCAAGCGACTCACCCGTCTAGTGAATACAGCATATAGTATAGTCTCAATGCTCAATGGCCGCAGACTTCTGCACTATCGTCGAATGAAACGCTTCTGTGGTGTACTCCGTTGGAGGATATGGGAAATGGACGGCACCAATGTACCTTGGATAGCACAACGTGACCATTACCTGTCGCTTCATAATTATACAGACTAACTCGTTAGTAGTATTCAGCCACGGACGCAGTGAAATTCCATTATAGGTTGAGGTAGGTCTCACGCGAATGCACCTGGAAGAAACCTCAGTTACATGTTTGTTTTGGTTCGTCTGTGGTAGCTGCGTAAGTAAAAAGAAACGAGTATCAGTTGACGCTTCTTCCGACATATGCATTGCCCAGTCTTTCTTATATTCAGAGTCAGAAAGGGCAGCTATGTCAAACCCGAGTTTAAGCACCCCTAGTCTCGATTCATTCCCGCTATCTCTAAAGTCATCTCGCAATCAAACAATCACGTCCGTAGTCCAGGGCGGCTCGGGTAGATTAGATTAAGTGGCTACTGGTGTATATAGATATGTGCAAGGGTTAGATAGCTCACGATAATGACATGCTGCCCAATCGGGTTGAAAGGACGTACCACCCTGATTACCTATCGTTTCTGTTATTACTCTAGCATGATAGAGCATAGGTGCCCAATAGCTTTCGCACGTGAGGGCGTAACAGGATTACGCTG'"
      ]
     },
     "execution_count": 89,
     "metadata": {},
     "output_type": "execute_result"
    }
   ],
   "source": [
    "reverse_compl(test)"
   ]
  },
  {
   "cell_type": "code",
   "execution_count": null,
   "metadata": {
    "collapsed": true
   },
   "outputs": [],
   "source": []
  }
 ],
 "metadata": {
  "kernelspec": {
   "display_name": "Python 2",
   "language": "python",
   "name": "python2"
  },
  "language_info": {
   "codemirror_mode": {
    "name": "ipython",
    "version": 2
   },
   "file_extension": ".py",
   "mimetype": "text/x-python",
   "name": "python",
   "nbconvert_exporter": "python",
   "pygments_lexer": "ipython2",
   "version": "2.7.10"
  }
 },
 "nbformat": 4,
 "nbformat_minor": 0
}
